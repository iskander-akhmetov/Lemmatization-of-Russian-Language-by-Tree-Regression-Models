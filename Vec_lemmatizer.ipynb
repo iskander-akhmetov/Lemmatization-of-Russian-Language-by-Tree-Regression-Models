{
 "cells": [
  {
   "cell_type": "markdown",
   "metadata": {
    "toc": true
   },
   "source": [
    "<h1>Table of Contents<span class=\"tocSkip\"></span></h1>\n",
    "<div class=\"toc\"><ul class=\"toc-item\"><li><span><a href=\"#Load-data\" data-toc-modified-id=\"Load-data-1\"><span class=\"toc-item-num\">1&nbsp;&nbsp;</span>Load data</a></span><ul class=\"toc-item\"><li><span><a href=\"#Dictionary\" data-toc-modified-id=\"Dictionary-1.1\"><span class=\"toc-item-num\">1.1&nbsp;&nbsp;</span>Dictionary</a></span></li><li><span><a href=\"#ABBYY\" data-toc-modified-id=\"ABBYY-1.2\"><span class=\"toc-item-num\">1.2&nbsp;&nbsp;</span>ABBYY</a></span></li><li><span><a href=\"#Opencorpora\" data-toc-modified-id=\"Opencorpora-1.3\"><span class=\"toc-item-num\">1.3&nbsp;&nbsp;</span>Opencorpora</a></span></li><li><span><a href=\"#Concatenate-dictionaries\" data-toc-modified-id=\"Concatenate-dictionaries-1.4\"><span class=\"toc-item-num\">1.4&nbsp;&nbsp;</span>Concatenate dictionaries</a></span></li><li><span><a href=\"#Make-X-and-Y\" data-toc-modified-id=\"Make-X-and-Y-1.5\"><span class=\"toc-item-num\">1.5&nbsp;&nbsp;</span>Make X and Y</a></span></li></ul></li><li><span><a href=\"#Model\" data-toc-modified-id=\"Model-2\"><span class=\"toc-item-num\">2&nbsp;&nbsp;</span>Model</a></span><ul class=\"toc-item\"><li><span><a href=\"#Vectorization\" data-toc-modified-id=\"Vectorization-2.1\"><span class=\"toc-item-num\">2.1&nbsp;&nbsp;</span>Vectorization</a></span></li><li><span><a href=\"#Build-models\" data-toc-modified-id=\"Build-models-2.2\"><span class=\"toc-item-num\">2.2&nbsp;&nbsp;</span>Build models</a></span><ul class=\"toc-item\"><li><span><a href=\"#Cross-validation\" data-toc-modified-id=\"Cross-validation-2.2.1\"><span class=\"toc-item-num\">2.2.1&nbsp;&nbsp;</span>Cross validation</a></span></li><li><span><a href=\"#Test/train-set\" data-toc-modified-id=\"Test/train-set-2.2.2\"><span class=\"toc-item-num\">2.2.2&nbsp;&nbsp;</span>Test/train set</a></span></li></ul></li><li><span><a href=\"#Train-best-model-on-whole-corpus\" data-toc-modified-id=\"Train-best-model-on-whole-corpus-2.3\"><span class=\"toc-item-num\">2.3&nbsp;&nbsp;</span>Train best model on whole corpus</a></span><ul class=\"toc-item\"><li><span><a href=\"#Extratree\" data-toc-modified-id=\"Extratree-2.3.1\"><span class=\"toc-item-num\">2.3.1&nbsp;&nbsp;</span>Extratree</a></span></li><li><span><a href=\"#DecisionTree\" data-toc-modified-id=\"DecisionTree-2.3.2\"><span class=\"toc-item-num\">2.3.2&nbsp;&nbsp;</span>DecisionTree</a></span></li><li><span><a href=\"#RandomForest\" data-toc-modified-id=\"RandomForest-2.3.3\"><span class=\"toc-item-num\">2.3.3&nbsp;&nbsp;</span>RandomForest</a></span></li></ul></li></ul></li><li><span><a href=\"#Test-on-ru-eval.ru-corpus\" data-toc-modified-id=\"Test-on-ru-eval.ru-corpus-3\"><span class=\"toc-item-num\">3&nbsp;&nbsp;</span>Test on ru-eval.ru corpus</a></span><ul class=\"toc-item\"><li><span><a href=\"#Load-and-preprocess-contest-test-corpus\" data-toc-modified-id=\"Load-and-preprocess-contest-test-corpus-3.1\"><span class=\"toc-item-num\">3.1&nbsp;&nbsp;</span>Load and preprocess contest test corpus</a></span></li><li><span><a href=\"#Test-developed-models\" data-toc-modified-id=\"Test-developed-models-3.2\"><span class=\"toc-item-num\">3.2&nbsp;&nbsp;</span>Test developed models</a></span></li><li><span><a href=\"#Test-pymorphy2\" data-toc-modified-id=\"Test-pymorphy2-3.3\"><span class=\"toc-item-num\">3.3&nbsp;&nbsp;</span>Test pymorphy2</a></span></li><li><span><a href=\"#Test-Mystem\" data-toc-modified-id=\"Test-Mystem-3.4\"><span class=\"toc-item-num\">3.4&nbsp;&nbsp;</span>Test Mystem</a></span></li></ul></li><li><span><a href=\"#Model-tuning\" data-toc-modified-id=\"Model-tuning-4\"><span class=\"toc-item-num\">4&nbsp;&nbsp;</span>Model tuning</a></span><ul class=\"toc-item\"><li><span><a href=\"#Tuning\" data-toc-modified-id=\"Tuning-4.1\"><span class=\"toc-item-num\">4.1&nbsp;&nbsp;</span>Tuning</a></span><ul class=\"toc-item\"><li><span><a href=\"#Random-Forest\" data-toc-modified-id=\"Random-Forest-4.1.1\"><span class=\"toc-item-num\">4.1.1&nbsp;&nbsp;</span>Random Forest</a></span></li><li><span><a href=\"#Decision-Tree\" data-toc-modified-id=\"Decision-Tree-4.1.2\"><span class=\"toc-item-num\">4.1.2&nbsp;&nbsp;</span>Decision Tree</a></span></li></ul></li></ul></li><li><span><a href=\"#Test\" data-toc-modified-id=\"Test-5\"><span class=\"toc-item-num\">5&nbsp;&nbsp;</span>Test</a></span><ul class=\"toc-item\"><li><span><a href=\"#Test-best-model\" data-toc-modified-id=\"Test-best-model-5.1\"><span class=\"toc-item-num\">5.1&nbsp;&nbsp;</span>Test best model</a></span></li></ul></li><li><span><a href=\"#Save-model\" data-toc-modified-id=\"Save-model-6\"><span class=\"toc-item-num\">6&nbsp;&nbsp;</span>Save model</a></span></li><li><span><a href=\"#Compare-lemmatizers\" data-toc-modified-id=\"Compare-lemmatizers-7\"><span class=\"toc-item-num\">7&nbsp;&nbsp;</span>Compare lemmatizers</a></span><ul class=\"toc-item\"><li><span><a href=\"#Pymorphy2\" data-toc-modified-id=\"Pymorphy2-7.1\"><span class=\"toc-item-num\">7.1&nbsp;&nbsp;</span>Pymorphy2</a></span></li><li><span><a href=\"#Mystem\" data-toc-modified-id=\"Mystem-7.2\"><span class=\"toc-item-num\">7.2&nbsp;&nbsp;</span>Mystem</a></span></li></ul></li><li><span><a href=\"#Compare-on-ABBYY\" data-toc-modified-id=\"Compare-on-ABBYY-8\"><span class=\"toc-item-num\">8&nbsp;&nbsp;</span>Compare on ABBYY</a></span><ul class=\"toc-item\"><li><span><a href=\"#Best-model\" data-toc-modified-id=\"Best-model-8.1\"><span class=\"toc-item-num\">8.1&nbsp;&nbsp;</span>Best model</a></span><ul class=\"toc-item\"><li><span><a href=\"#ExtraTree\" data-toc-modified-id=\"ExtraTree-8.1.1\"><span class=\"toc-item-num\">8.1.1&nbsp;&nbsp;</span>ExtraTree</a></span></li><li><span><a href=\"#DecisionTree\" data-toc-modified-id=\"DecisionTree-8.1.2\"><span class=\"toc-item-num\">8.1.2&nbsp;&nbsp;</span>DecisionTree</a></span></li><li><span><a href=\"#RandomForest\" data-toc-modified-id=\"RandomForest-8.1.3\"><span class=\"toc-item-num\">8.1.3&nbsp;&nbsp;</span>RandomForest</a></span></li></ul></li><li><span><a href=\"#Pymorphy\" data-toc-modified-id=\"Pymorphy-8.2\"><span class=\"toc-item-num\">8.2&nbsp;&nbsp;</span>Pymorphy</a></span></li><li><span><a href=\"#MyStem\" data-toc-modified-id=\"MyStem-8.3\"><span class=\"toc-item-num\">8.3&nbsp;&nbsp;</span>MyStem</a></span></li><li><span><a href=\"#Error-analysis\" data-toc-modified-id=\"Error-analysis-8.4\"><span class=\"toc-item-num\">8.4&nbsp;&nbsp;</span>Error analysis</a></span></li></ul></li><li><span><a href=\"#Compare-opencorpora\" data-toc-modified-id=\"Compare-opencorpora-9\"><span class=\"toc-item-num\">9&nbsp;&nbsp;</span>Compare opencorpora</a></span><ul class=\"toc-item\"><li><span><a href=\"#Best-model\" data-toc-modified-id=\"Best-model-9.1\"><span class=\"toc-item-num\">9.1&nbsp;&nbsp;</span>Best model</a></span><ul class=\"toc-item\"><li><span><a href=\"#ExtraTree\" data-toc-modified-id=\"ExtraTree-9.1.1\"><span class=\"toc-item-num\">9.1.1&nbsp;&nbsp;</span>ExtraTree</a></span></li><li><span><a href=\"#DecisionTree\" data-toc-modified-id=\"DecisionTree-9.1.2\"><span class=\"toc-item-num\">9.1.2&nbsp;&nbsp;</span>DecisionTree</a></span></li><li><span><a href=\"#RandomForest\" data-toc-modified-id=\"RandomForest-9.1.3\"><span class=\"toc-item-num\">9.1.3&nbsp;&nbsp;</span>RandomForest</a></span></li></ul></li><li><span><a href=\"#Pymorphy\" data-toc-modified-id=\"Pymorphy-9.2\"><span class=\"toc-item-num\">9.2&nbsp;&nbsp;</span>Pymorphy</a></span></li><li><span><a href=\"#MyStem\" data-toc-modified-id=\"MyStem-9.3\"><span class=\"toc-item-num\">9.3&nbsp;&nbsp;</span>MyStem</a></span></li></ul></li><li><span><a href=\"#LIME\" data-toc-modified-id=\"LIME-10\"><span class=\"toc-item-num\">10&nbsp;&nbsp;</span>LIME</a></span></li></ul></div>"
   ]
  },
  {
   "cell_type": "code",
   "execution_count": 1,
   "metadata": {},
   "outputs": [],
   "source": [
    "import pandas as pd\n",
    "import numpy as np\n",
    "from nltk import word_tokenize\n",
    "import re\n",
    "\n",
    "from sklearn.feature_extraction.text import TfidfVectorizer, CountVectorizer\n",
    "from sklearn.linear_model import LogisticRegression, LinearRegression, Lars, RidgeCV\n",
    "from sklearn.svm import SVC, SVR\n",
    "from sklearn.ensemble import GradientBoostingRegressor, RandomForestRegressor, ExtraTreesRegressor\n",
    "from sklearn.neighbors import KNeighborsRegressor\n",
    "from sklearn.tree import DecisionTreeRegressor\n",
    "\n",
    "from sklearn.model_selection import RandomizedSearchCV, GridSearchCV, train_test_split, cross_val_score\n",
    "\n",
    "from tqdm import tnrange, tqdm_notebook\n",
    "from time import sleep\n",
    "\n",
    "import pickle\n",
    "\n",
    "from pymystem3 import Mystem\n",
    "\n",
    "from sklearn.externals import joblib\n"
   ]
  },
  {
   "cell_type": "code",
   "execution_count": 2,
   "metadata": {},
   "outputs": [],
   "source": [
    "def save_obj(obj, name ):\n",
    "    with open(name + '.pkl', 'wb') as f:\n",
    "        pickle.dump(obj, f)#, pickle.HIGHEST_PROTOCOL\n",
    "\n",
    "def load_obj(name ):\n",
    "    with open(name + '.pkl', 'rb') as f:\n",
    "        return pickle.load(f)"
   ]
  },
  {
   "cell_type": "markdown",
   "metadata": {},
   "source": [
    "# Load data"
   ]
  },
  {
   "cell_type": "markdown",
   "metadata": {},
   "source": [
    "## Dictionary"
   ]
  },
  {
   "cell_type": "code",
   "execution_count": 3,
   "metadata": {},
   "outputs": [
    {
     "data": {
      "text/html": [
       "<div>\n",
       "<style scoped>\n",
       "    .dataframe tbody tr th:only-of-type {\n",
       "        vertical-align: middle;\n",
       "    }\n",
       "\n",
       "    .dataframe tbody tr th {\n",
       "        vertical-align: top;\n",
       "    }\n",
       "\n",
       "    .dataframe thead th {\n",
       "        text-align: right;\n",
       "    }\n",
       "</style>\n",
       "<table border=\"1\" class=\"dataframe\">\n",
       "  <thead>\n",
       "    <tr style=\"text-align: right;\">\n",
       "      <th></th>\n",
       "      <th>word</th>\n",
       "      <th>lemm</th>\n",
       "      <th>sex</th>\n",
       "    </tr>\n",
       "  </thead>\n",
       "  <tbody>\n",
       "    <tr>\n",
       "      <th>0</th>\n",
       "      <td>а</td>\n",
       "      <td>а</td>\n",
       "      <td>с</td>\n",
       "    </tr>\n",
       "    <tr>\n",
       "      <th>1</th>\n",
       "      <td>а-конто</td>\n",
       "      <td>а-конто</td>\n",
       "      <td>с</td>\n",
       "    </tr>\n",
       "    <tr>\n",
       "      <th>2</th>\n",
       "      <td>ааре</td>\n",
       "      <td>ааре</td>\n",
       "      <td>ж</td>\n",
       "    </tr>\n",
       "    <tr>\n",
       "      <th>3</th>\n",
       "      <td>аароновщин</td>\n",
       "      <td>аароновщина</td>\n",
       "      <td>ж</td>\n",
       "    </tr>\n",
       "    <tr>\n",
       "      <th>4</th>\n",
       "      <td>аароновщинам</td>\n",
       "      <td>аароновщина</td>\n",
       "      <td>ж</td>\n",
       "    </tr>\n",
       "  </tbody>\n",
       "</table>\n",
       "</div>"
      ],
      "text/plain": [
       "           word         lemm sex\n",
       "0             а            а   с\n",
       "1       а-конто      а-конто   с\n",
       "2          ааре         ааре   ж\n",
       "3    аароновщин  аароновщина   ж\n",
       "4  аароновщинам  аароновщина   ж"
      ]
     },
     "execution_count": 3,
     "metadata": {},
     "output_type": "execute_result"
    }
   ],
   "source": [
    "rus_lex=pd.read_csv('odict.csv','\\t', encoding='cp1251')\n",
    "rus_lex.head()"
   ]
  },
  {
   "cell_type": "code",
   "execution_count": 4,
   "metadata": {},
   "outputs": [
    {
     "data": {
      "text/html": [
       "<div>\n",
       "<style scoped>\n",
       "    .dataframe tbody tr th:only-of-type {\n",
       "        vertical-align: middle;\n",
       "    }\n",
       "\n",
       "    .dataframe tbody tr th {\n",
       "        vertical-align: top;\n",
       "    }\n",
       "\n",
       "    .dataframe thead th {\n",
       "        text-align: right;\n",
       "    }\n",
       "</style>\n",
       "<table border=\"1\" class=\"dataframe\">\n",
       "  <thead>\n",
       "    <tr style=\"text-align: right;\">\n",
       "      <th></th>\n",
       "      <th>word</th>\n",
       "      <th>lemm</th>\n",
       "      <th>sex</th>\n",
       "    </tr>\n",
       "  </thead>\n",
       "  <tbody>\n",
       "    <tr>\n",
       "      <th>count</th>\n",
       "      <td>2657468</td>\n",
       "      <td>2657468</td>\n",
       "      <td>2657468</td>\n",
       "    </tr>\n",
       "    <tr>\n",
       "      <th>unique</th>\n",
       "      <td>2337988</td>\n",
       "      <td>98760</td>\n",
       "      <td>14</td>\n",
       "    </tr>\n",
       "    <tr>\n",
       "      <th>top</th>\n",
       "      <td>посыпавшемся</td>\n",
       "      <td>казнить</td>\n",
       "      <td>нсв</td>\n",
       "    </tr>\n",
       "    <tr>\n",
       "      <th>freq</th>\n",
       "      <td>9</td>\n",
       "      <td>310</td>\n",
       "      <td>956671</td>\n",
       "    </tr>\n",
       "  </tbody>\n",
       "</table>\n",
       "</div>"
      ],
      "text/plain": [
       "                word     lemm      sex\n",
       "count        2657468  2657468  2657468\n",
       "unique       2337988    98760       14\n",
       "top     посыпавшемся  казнить      нсв\n",
       "freq               9      310   956671"
      ]
     },
     "execution_count": 4,
     "metadata": {},
     "output_type": "execute_result"
    }
   ],
   "source": [
    "rus_lex.describe()"
   ]
  },
  {
   "cell_type": "code",
   "execution_count": 5,
   "metadata": {},
   "outputs": [
    {
     "data": {
      "text/plain": [
       "(2337988, 3)"
      ]
     },
     "execution_count": 5,
     "metadata": {},
     "output_type": "execute_result"
    }
   ],
   "source": [
    "#delete duplicates\n",
    "rus_lex.drop_duplicates(subset='word', inplace=True)\n",
    "rus_lex.shape"
   ]
  },
  {
   "cell_type": "code",
   "execution_count": 6,
   "metadata": {},
   "outputs": [
    {
     "data": {
      "text/html": [
       "<div>\n",
       "<style scoped>\n",
       "    .dataframe tbody tr th:only-of-type {\n",
       "        vertical-align: middle;\n",
       "    }\n",
       "\n",
       "    .dataframe tbody tr th {\n",
       "        vertical-align: top;\n",
       "    }\n",
       "\n",
       "    .dataframe thead th {\n",
       "        text-align: right;\n",
       "    }\n",
       "</style>\n",
       "<table border=\"1\" class=\"dataframe\">\n",
       "  <thead>\n",
       "    <tr style=\"text-align: right;\">\n",
       "      <th></th>\n",
       "      <th>word</th>\n",
       "      <th>lemm</th>\n",
       "    </tr>\n",
       "  </thead>\n",
       "  <tbody>\n",
       "    <tr>\n",
       "      <th>0</th>\n",
       "      <td>а</td>\n",
       "      <td>а</td>\n",
       "    </tr>\n",
       "    <tr>\n",
       "      <th>1</th>\n",
       "      <td>а-конто</td>\n",
       "      <td>а-конто</td>\n",
       "    </tr>\n",
       "    <tr>\n",
       "      <th>2</th>\n",
       "      <td>ааре</td>\n",
       "      <td>ааре</td>\n",
       "    </tr>\n",
       "    <tr>\n",
       "      <th>3</th>\n",
       "      <td>аароновщин</td>\n",
       "      <td>аароновщина</td>\n",
       "    </tr>\n",
       "    <tr>\n",
       "      <th>4</th>\n",
       "      <td>аароновщинам</td>\n",
       "      <td>аароновщина</td>\n",
       "    </tr>\n",
       "  </tbody>\n",
       "</table>\n",
       "</div>"
      ],
      "text/plain": [
       "           word         lemm\n",
       "0             а            а\n",
       "1       а-конто      а-конто\n",
       "2          ааре         ааре\n",
       "3    аароновщин  аароновщина\n",
       "4  аароновщинам  аароновщина"
      ]
     },
     "execution_count": 6,
     "metadata": {},
     "output_type": "execute_result"
    }
   ],
   "source": [
    "rus_lex.drop(columns=['sex'], inplace=True)\n",
    "rus_lex.head()"
   ]
  },
  {
   "cell_type": "markdown",
   "metadata": {},
   "source": [
    "## ABBYY"
   ]
  },
  {
   "cell_type": "code",
   "execution_count": 7,
   "metadata": {},
   "outputs": [
    {
     "data": {
      "text/html": [
       "<div>\n",
       "<style scoped>\n",
       "    .dataframe tbody tr th:only-of-type {\n",
       "        vertical-align: middle;\n",
       "    }\n",
       "\n",
       "    .dataframe tbody tr th {\n",
       "        vertical-align: top;\n",
       "    }\n",
       "\n",
       "    .dataframe thead th {\n",
       "        text-align: right;\n",
       "    }\n",
       "</style>\n",
       "<table border=\"1\" class=\"dataframe\">\n",
       "  <thead>\n",
       "    <tr style=\"text-align: right;\">\n",
       "      <th></th>\n",
       "      <th>word</th>\n",
       "      <th>lemm</th>\n",
       "      <th>lemmed</th>\n",
       "    </tr>\n",
       "  </thead>\n",
       "  <tbody>\n",
       "    <tr>\n",
       "      <th>0</th>\n",
       "      <td>осенняя</td>\n",
       "      <td>осенний</td>\n",
       "      <td>True</td>\n",
       "    </tr>\n",
       "    <tr>\n",
       "      <th>1</th>\n",
       "      <td>чему</td>\n",
       "      <td>что</td>\n",
       "      <td>True</td>\n",
       "    </tr>\n",
       "    <tr>\n",
       "      <th>2</th>\n",
       "      <td>готовиться</td>\n",
       "      <td>готовить</td>\n",
       "      <td>True</td>\n",
       "    </tr>\n",
       "    <tr>\n",
       "      <th>3</th>\n",
       "      <td>казахстану</td>\n",
       "      <td>казахстан</td>\n",
       "      <td>True</td>\n",
       "    </tr>\n",
       "    <tr>\n",
       "      <th>4</th>\n",
       "      <td>большие</td>\n",
       "      <td>большой</td>\n",
       "      <td>True</td>\n",
       "    </tr>\n",
       "  </tbody>\n",
       "</table>\n",
       "</div>"
      ],
      "text/plain": [
       "         word       lemm  lemmed\n",
       "0     осенняя    осенний    True\n",
       "1        чему        что    True\n",
       "2  готовиться   готовить    True\n",
       "3  казахстану  казахстан    True\n",
       "4     большие    большой    True"
      ]
     },
     "execution_count": 7,
     "metadata": {},
     "output_type": "execute_result"
    }
   ],
   "source": [
    "#load dict\n",
    "abbyy_gen_dict=pd.read_csv('lemm_dic_to_check.csv',';',encoding='utf8')\n",
    "abbyy_gen_dict.head()"
   ]
  },
  {
   "cell_type": "code",
   "execution_count": 8,
   "metadata": {},
   "outputs": [
    {
     "data": {
      "text/plain": [
       "(20621, 3)"
      ]
     },
     "execution_count": 8,
     "metadata": {},
     "output_type": "execute_result"
    }
   ],
   "source": [
    "abbyy_gen_dict.shape"
   ]
  },
  {
   "cell_type": "code",
   "execution_count": 9,
   "metadata": {},
   "outputs": [
    {
     "data": {
      "text/html": [
       "<div>\n",
       "<style scoped>\n",
       "    .dataframe tbody tr th:only-of-type {\n",
       "        vertical-align: middle;\n",
       "    }\n",
       "\n",
       "    .dataframe tbody tr th {\n",
       "        vertical-align: top;\n",
       "    }\n",
       "\n",
       "    .dataframe thead th {\n",
       "        text-align: right;\n",
       "    }\n",
       "</style>\n",
       "<table border=\"1\" class=\"dataframe\">\n",
       "  <thead>\n",
       "    <tr style=\"text-align: right;\">\n",
       "      <th></th>\n",
       "      <th>word</th>\n",
       "      <th>lemm</th>\n",
       "    </tr>\n",
       "  </thead>\n",
       "  <tbody>\n",
       "    <tr>\n",
       "      <th>0</th>\n",
       "      <td>осенняя</td>\n",
       "      <td>осенний</td>\n",
       "    </tr>\n",
       "    <tr>\n",
       "      <th>1</th>\n",
       "      <td>чему</td>\n",
       "      <td>что</td>\n",
       "    </tr>\n",
       "    <tr>\n",
       "      <th>2</th>\n",
       "      <td>готовиться</td>\n",
       "      <td>готовить</td>\n",
       "    </tr>\n",
       "    <tr>\n",
       "      <th>3</th>\n",
       "      <td>казахстану</td>\n",
       "      <td>казахстан</td>\n",
       "    </tr>\n",
       "    <tr>\n",
       "      <th>4</th>\n",
       "      <td>большие</td>\n",
       "      <td>большой</td>\n",
       "    </tr>\n",
       "  </tbody>\n",
       "</table>\n",
       "</div>"
      ],
      "text/plain": [
       "         word       lemm\n",
       "0     осенняя    осенний\n",
       "1        чему        что\n",
       "2  готовиться   готовить\n",
       "3  казахстану  казахстан\n",
       "4     большие    большой"
      ]
     },
     "execution_count": 9,
     "metadata": {},
     "output_type": "execute_result"
    }
   ],
   "source": [
    "#delete duplicates\n",
    "abbyy_gen_dict.drop(columns=['lemmed'], inplace=True)\n",
    "abbyy_gen_dict.head()"
   ]
  },
  {
   "cell_type": "markdown",
   "metadata": {},
   "source": [
    "## Opencorpora"
   ]
  },
  {
   "cell_type": "code",
   "execution_count": 10,
   "metadata": {},
   "outputs": [
    {
     "data": {
      "text/html": [
       "<div>\n",
       "<style scoped>\n",
       "    .dataframe tbody tr th:only-of-type {\n",
       "        vertical-align: middle;\n",
       "    }\n",
       "\n",
       "    .dataframe tbody tr th {\n",
       "        vertical-align: top;\n",
       "    }\n",
       "\n",
       "    .dataframe thead th {\n",
       "        text-align: right;\n",
       "    }\n",
       "</style>\n",
       "<table border=\"1\" class=\"dataframe\">\n",
       "  <thead>\n",
       "    <tr style=\"text-align: right;\">\n",
       "      <th></th>\n",
       "      <th>word</th>\n",
       "      <th>lemm</th>\n",
       "    </tr>\n",
       "  </thead>\n",
       "  <tbody>\n",
       "    <tr>\n",
       "      <th>0</th>\n",
       "      <td>АБВ</td>\n",
       "      <td>Абв</td>\n",
       "    </tr>\n",
       "    <tr>\n",
       "      <th>1</th>\n",
       "      <td>АБДУЛЛАЕВ</td>\n",
       "      <td>Абдуллаев</td>\n",
       "    </tr>\n",
       "    <tr>\n",
       "      <th>2</th>\n",
       "      <td>АБЗАЦ</td>\n",
       "      <td>абзац</td>\n",
       "    </tr>\n",
       "    <tr>\n",
       "      <th>3</th>\n",
       "      <td>АБН</td>\n",
       "      <td>АБН</td>\n",
       "    </tr>\n",
       "    <tr>\n",
       "      <th>4</th>\n",
       "      <td>АБОРИГЕНОВ</td>\n",
       "      <td>абориген</td>\n",
       "    </tr>\n",
       "  </tbody>\n",
       "</table>\n",
       "</div>"
      ],
      "text/plain": [
       "         word       lemm\n",
       "0         АБВ        Абв\n",
       "1   АБДУЛЛАЕВ  Абдуллаев\n",
       "2       АБЗАЦ      абзац\n",
       "3         АБН        АБН\n",
       "4  АБОРИГЕНОВ   абориген"
      ]
     },
     "execution_count": 10,
     "metadata": {},
     "output_type": "execute_result"
    }
   ],
   "source": [
    "#load dict\n",
    "opencorpora_dict=pd.read_csv('opencorpora.csv',';',encoding='cp1251')\n",
    "opencorpora_dict.columns=['word','lemm']\n",
    "opencorpora_dict.head()"
   ]
  },
  {
   "cell_type": "code",
   "execution_count": 11,
   "metadata": {},
   "outputs": [
    {
     "data": {
      "text/html": [
       "<div>\n",
       "<style scoped>\n",
       "    .dataframe tbody tr th:only-of-type {\n",
       "        vertical-align: middle;\n",
       "    }\n",
       "\n",
       "    .dataframe tbody tr th {\n",
       "        vertical-align: top;\n",
       "    }\n",
       "\n",
       "    .dataframe thead th {\n",
       "        text-align: right;\n",
       "    }\n",
       "</style>\n",
       "<table border=\"1\" class=\"dataframe\">\n",
       "  <thead>\n",
       "    <tr style=\"text-align: right;\">\n",
       "      <th></th>\n",
       "      <th>word</th>\n",
       "      <th>lemm</th>\n",
       "    </tr>\n",
       "  </thead>\n",
       "  <tbody>\n",
       "    <tr>\n",
       "      <th>0</th>\n",
       "      <td>абв</td>\n",
       "      <td>абв</td>\n",
       "    </tr>\n",
       "    <tr>\n",
       "      <th>1</th>\n",
       "      <td>абдуллаев</td>\n",
       "      <td>абдуллаев</td>\n",
       "    </tr>\n",
       "    <tr>\n",
       "      <th>2</th>\n",
       "      <td>абзац</td>\n",
       "      <td>абзац</td>\n",
       "    </tr>\n",
       "    <tr>\n",
       "      <th>3</th>\n",
       "      <td>абн</td>\n",
       "      <td>абн</td>\n",
       "    </tr>\n",
       "    <tr>\n",
       "      <th>4</th>\n",
       "      <td>аборигенов</td>\n",
       "      <td>абориген</td>\n",
       "    </tr>\n",
       "  </tbody>\n",
       "</table>\n",
       "</div>"
      ],
      "text/plain": [
       "         word       lemm\n",
       "0         абв        абв\n",
       "1   абдуллаев  абдуллаев\n",
       "2       абзац      абзац\n",
       "3         абн        абн\n",
       "4  аборигенов   абориген"
      ]
     },
     "execution_count": 11,
     "metadata": {},
     "output_type": "execute_result"
    }
   ],
   "source": [
    "opencorpora_dict['word']=opencorpora_dict['word'].str.lower()\n",
    "opencorpora_dict['lemm']=opencorpora_dict['lemm'].str.lower()\n",
    "opencorpora_dict.head()"
   ]
  },
  {
   "cell_type": "markdown",
   "metadata": {},
   "source": [
    "## Concatenate dictionaries"
   ]
  },
  {
   "cell_type": "code",
   "execution_count": 12,
   "metadata": {},
   "outputs": [
    {
     "data": {
      "text/html": [
       "<div>\n",
       "<style scoped>\n",
       "    .dataframe tbody tr th:only-of-type {\n",
       "        vertical-align: middle;\n",
       "    }\n",
       "\n",
       "    .dataframe tbody tr th {\n",
       "        vertical-align: top;\n",
       "    }\n",
       "\n",
       "    .dataframe thead th {\n",
       "        text-align: right;\n",
       "    }\n",
       "</style>\n",
       "<table border=\"1\" class=\"dataframe\">\n",
       "  <thead>\n",
       "    <tr style=\"text-align: right;\">\n",
       "      <th></th>\n",
       "      <th>word</th>\n",
       "      <th>lemm</th>\n",
       "    </tr>\n",
       "  </thead>\n",
       "  <tbody>\n",
       "    <tr>\n",
       "      <th>0</th>\n",
       "      <td>а</td>\n",
       "      <td>а</td>\n",
       "    </tr>\n",
       "    <tr>\n",
       "      <th>1</th>\n",
       "      <td>а-конто</td>\n",
       "      <td>а-конто</td>\n",
       "    </tr>\n",
       "    <tr>\n",
       "      <th>2</th>\n",
       "      <td>ааре</td>\n",
       "      <td>ааре</td>\n",
       "    </tr>\n",
       "    <tr>\n",
       "      <th>3</th>\n",
       "      <td>аароновщин</td>\n",
       "      <td>аароновщина</td>\n",
       "    </tr>\n",
       "    <tr>\n",
       "      <th>4</th>\n",
       "      <td>аароновщинам</td>\n",
       "      <td>аароновщина</td>\n",
       "    </tr>\n",
       "  </tbody>\n",
       "</table>\n",
       "</div>"
      ],
      "text/plain": [
       "           word         lemm\n",
       "0             а            а\n",
       "1       а-конто      а-конто\n",
       "2          ааре         ааре\n",
       "3    аароновщин  аароновщина\n",
       "4  аароновщинам  аароновщина"
      ]
     },
     "execution_count": 12,
     "metadata": {},
     "output_type": "execute_result"
    }
   ],
   "source": [
    "frames = [rus_lex, abbyy_gen_dict, opencorpora_dict]\n",
    "result = pd.concat(frames)\n",
    "result.head()"
   ]
  },
  {
   "cell_type": "code",
   "execution_count": 13,
   "metadata": {},
   "outputs": [
    {
     "data": {
      "text/plain": [
       "(2706018, 2)"
      ]
     },
     "execution_count": 13,
     "metadata": {},
     "output_type": "execute_result"
    }
   ],
   "source": [
    "result.shape"
   ]
  },
  {
   "cell_type": "code",
   "execution_count": 14,
   "metadata": {},
   "outputs": [
    {
     "data": {
      "text/plain": [
       "(2415435, 2)"
      ]
     },
     "execution_count": 14,
     "metadata": {},
     "output_type": "execute_result"
    }
   ],
   "source": [
    "#delete duplicates\n",
    "result.drop_duplicates(subset='word', inplace=True)\n",
    "result.shape"
   ]
  },
  {
   "cell_type": "code",
   "execution_count": 15,
   "metadata": {},
   "outputs": [
    {
     "data": {
      "text/plain": [
       "(2415435, 2)"
      ]
     },
     "execution_count": 15,
     "metadata": {},
     "output_type": "execute_result"
    }
   ],
   "source": [
    "result.dropna(subset=['word'], inplace=True)\n",
    "result.shape"
   ]
  },
  {
   "cell_type": "code",
   "execution_count": 16,
   "metadata": {},
   "outputs": [],
   "source": [
    "result.to_csv('concatenated_lemm_dic.csv',';', index=False)"
   ]
  },
  {
   "cell_type": "markdown",
   "metadata": {},
   "source": [
    "## Make X and Y"
   ]
  },
  {
   "cell_type": "code",
   "execution_count": 17,
   "metadata": {},
   "outputs": [
    {
     "data": {
      "text/plain": [
       "0               а\n",
       "1         а-конто\n",
       "2            ааре\n",
       "3      аароновщин\n",
       "4    аароновщинам\n",
       "Name: word, dtype: object"
      ]
     },
     "execution_count": 17,
     "metadata": {},
     "output_type": "execute_result"
    }
   ],
   "source": [
    "X_lex=result['word']\n",
    "X_lex.head()"
   ]
  },
  {
   "cell_type": "code",
   "execution_count": 18,
   "metadata": {},
   "outputs": [
    {
     "data": {
      "text/plain": [
       "0              а\n",
       "1        а-конто\n",
       "2           ааре\n",
       "3    аароновщина\n",
       "4    аароновщина\n",
       "Name: lemm, dtype: object"
      ]
     },
     "execution_count": 18,
     "metadata": {},
     "output_type": "execute_result"
    }
   ],
   "source": [
    "Y_lex=result['lemm'].str.lstrip()\n",
    "Y_lex.head()"
   ]
  },
  {
   "cell_type": "markdown",
   "metadata": {},
   "source": [
    "# Model"
   ]
  },
  {
   "cell_type": "markdown",
   "metadata": {},
   "source": [
    "## Vectorization"
   ]
  },
  {
   "cell_type": "code",
   "execution_count": 19,
   "metadata": {},
   "outputs": [],
   "source": [
    "def alpha_vec2(w):\n",
    "    w_len=30\n",
    "    if len(w)<w_len:\n",
    "        dif=w_len-len(w)\n",
    "        w=w+dif*' '\n",
    "    alpha='абвгдеёжзийклмнопрстуфхцчшщъыьэюя-'\n",
    "    vec=np.zeros((w_len))\n",
    "    for i in range(0, w_len):\n",
    "        if w[i] in alpha:\n",
    "            vec[i]=alpha.find(w[i])+1\n",
    "            #print(w[i]+' - '+str(alpha.find(w[i])))\n",
    "        \n",
    "    return vec"
   ]
  },
  {
   "cell_type": "code",
   "execution_count": 20,
   "metadata": {},
   "outputs": [
    {
     "data": {
      "application/vnd.jupyter.widget-view+json": {
       "model_id": "b7d8c1b4bf85446e99f13ea000574ec4",
       "version_major": 2,
       "version_minor": 0
      },
      "text/plain": [
       "HBox(children=(IntProgress(value=0, max=2415435), HTML(value='')))"
      ]
     },
     "metadata": {},
     "output_type": "display_data"
    },
    {
     "name": "stdout",
     "output_type": "stream",
     "text": [
      "\n",
      "Wall time: 17.7 s\n"
     ]
    }
   ],
   "source": [
    "%%time\n",
    "X_lex_vec=[alpha_vec2(w) for w in tqdm_notebook(X_lex)]\n",
    "#X_lex_vec"
   ]
  },
  {
   "cell_type": "code",
   "execution_count": 21,
   "metadata": {},
   "outputs": [
    {
     "data": {
      "application/vnd.jupyter.widget-view+json": {
       "model_id": "77f7701aecfd420695cbfedee5bfd294",
       "version_major": 2,
       "version_minor": 0
      },
      "text/plain": [
       "HBox(children=(IntProgress(value=0, max=2415435), HTML(value='')))"
      ]
     },
     "metadata": {},
     "output_type": "display_data"
    },
    {
     "name": "stdout",
     "output_type": "stream",
     "text": [
      "\n",
      "Wall time: 16.2 s\n"
     ]
    }
   ],
   "source": [
    "%%time\n",
    "Y_lex_vec=[alpha_vec2(w) for w in tqdm_notebook(Y_lex)]\n",
    "#Y_lex_vec"
   ]
  },
  {
   "cell_type": "markdown",
   "metadata": {},
   "source": [
    "## Build models"
   ]
  },
  {
   "cell_type": "code",
   "execution_count": 22,
   "metadata": {},
   "outputs": [],
   "source": [
    "models=(#LinearRegression(),\n",
    "        #Lars(),\n",
    "        #SGDRegressor(),\n",
    "        #SVR(),\n",
    "        #GradientBoostingRegressor(),\n",
    "        DecisionTreeRegressor(),\n",
    "        RandomForestRegressor(n_jobs=-2),\n",
    "        ExtraTreesRegressor(n_estimators=10, n_jobs=-2),\n",
    "        #KNeighborsRegressor(n_jobs=-1),\n",
    "        #RidgeCV()\n",
    ")\n",
    "        "
   ]
  },
  {
   "cell_type": "markdown",
   "metadata": {},
   "source": [
    "### Cross validation "
   ]
  },
  {
   "cell_type": "code",
   "execution_count": 23,
   "metadata": {},
   "outputs": [
    {
     "data": {
      "application/vnd.jupyter.widget-view+json": {
       "model_id": "bbaa9b13fee747559b44a40eb1096834",
       "version_major": 2,
       "version_minor": 0
      },
      "text/plain": [
       "HBox(children=(IntProgress(value=0, max=3), HTML(value='')))"
      ]
     },
     "metadata": {},
     "output_type": "display_data"
    },
    {
     "name": "stdout",
     "output_type": "stream",
     "text": [
      "[CV]  ................................................................\n",
      "[CV] ........................ , score=0.414234193721897, total=  36.9s\n"
     ]
    },
    {
     "name": "stderr",
     "output_type": "stream",
     "text": [
      "[Parallel(n_jobs=1)]: Done   1 out of   1 | elapsed:   37.0s remaining:    0.0s\n"
     ]
    },
    {
     "name": "stdout",
     "output_type": "stream",
     "text": [
      "[CV]  ................................................................\n",
      "[CV] ....................... , score=0.2885639728847428, total=  34.9s\n"
     ]
    },
    {
     "name": "stderr",
     "output_type": "stream",
     "text": [
      "[Parallel(n_jobs=1)]: Done   2 out of   2 | elapsed:  1.2min remaining:    0.0s\n"
     ]
    },
    {
     "name": "stdout",
     "output_type": "stream",
     "text": [
      "[CV]  ................................................................\n",
      "[CV] ....................... , score=0.3472067713489704, total=  34.2s\n"
     ]
    },
    {
     "name": "stderr",
     "output_type": "stream",
     "text": [
      "[Parallel(n_jobs=1)]: Done   3 out of   3 | elapsed:  1.8min remaining:    0.0s\n",
      "[Parallel(n_jobs=1)]: Done   3 out of   3 | elapsed:  1.8min finished\n"
     ]
    },
    {
     "name": "stdout",
     "output_type": "stream",
     "text": [
      "DecisionTreeRegressor cross validation: 0.3500016459852034\n",
      "[CV]  ................................................................\n",
      "[CV] ....................... , score=0.6373525135757172, total= 1.3min\n"
     ]
    },
    {
     "name": "stderr",
     "output_type": "stream",
     "text": [
      "[Parallel(n_jobs=1)]: Done   1 out of   1 | elapsed:  1.3min remaining:    0.0s\n"
     ]
    },
    {
     "name": "stdout",
     "output_type": "stream",
     "text": [
      "[CV]  ................................................................\n",
      "[CV] ....................... , score=0.5556237616511764, total= 1.1min\n"
     ]
    },
    {
     "name": "stderr",
     "output_type": "stream",
     "text": [
      "[Parallel(n_jobs=1)]: Done   2 out of   2 | elapsed:  2.4min remaining:    0.0s\n"
     ]
    },
    {
     "name": "stdout",
     "output_type": "stream",
     "text": [
      "[CV]  ................................................................\n",
      "[CV] ....................... , score=0.6123129394141184, total= 1.1min\n"
     ]
    },
    {
     "name": "stderr",
     "output_type": "stream",
     "text": [
      "[Parallel(n_jobs=1)]: Done   3 out of   3 | elapsed:  3.6min remaining:    0.0s\n",
      "[Parallel(n_jobs=1)]: Done   3 out of   3 | elapsed:  3.6min finished\n"
     ]
    },
    {
     "name": "stdout",
     "output_type": "stream",
     "text": [
      "RandomForestRegressor cross validation: 0.6017630715470039\n",
      "[CV]  ................................................................\n",
      "[CV] ....................... , score=0.6849688353604321, total= 1.0min\n"
     ]
    },
    {
     "name": "stderr",
     "output_type": "stream",
     "text": [
      "[Parallel(n_jobs=1)]: Done   1 out of   1 | elapsed:  1.0min remaining:    0.0s\n"
     ]
    },
    {
     "name": "stdout",
     "output_type": "stream",
     "text": [
      "[CV]  ................................................................\n",
      "[CV] ....................... , score=0.6175685110631227, total= 1.0min\n"
     ]
    },
    {
     "name": "stderr",
     "output_type": "stream",
     "text": [
      "[Parallel(n_jobs=1)]: Done   2 out of   2 | elapsed:  2.0min remaining:    0.0s\n"
     ]
    },
    {
     "name": "stdout",
     "output_type": "stream",
     "text": [
      "[CV]  ................................................................\n",
      "[CV] ....................... , score=0.6725367115470459, total=  57.7s\n"
     ]
    },
    {
     "name": "stderr",
     "output_type": "stream",
     "text": [
      "[Parallel(n_jobs=1)]: Done   3 out of   3 | elapsed:  3.0min remaining:    0.0s\n",
      "[Parallel(n_jobs=1)]: Done   3 out of   3 | elapsed:  3.0min finished\n"
     ]
    },
    {
     "name": "stdout",
     "output_type": "stream",
     "text": [
      "ExtraTreesRegressor cross validation: 0.6583580193235335\n",
      "\n",
      "Wall time: 8min 20s\n"
     ]
    }
   ],
   "source": [
    "%%time\n",
    "for model in tqdm_notebook(models):\n",
    "    #model=LinearRegression(normalize=True)\n",
    "    m=str(model)\n",
    "    m=m[:m.index('(')]\n",
    "    #print(m)\n",
    "    #model.fit(X_train, y_train)\n",
    "    #model.fit(X_lex_vec, Y_lex_vec)\n",
    "    cval=cross_val_score(model, X_lex_vec, Y_lex_vec, cv=3, verbose=10).mean()#n_jobs=-1,\n",
    "    print('%s cross validation: %s' % (m,cval))"
   ]
  },
  {
   "cell_type": "markdown",
   "metadata": {},
   "source": [
    "### Test/train set"
   ]
  },
  {
   "cell_type": "code",
   "execution_count": 24,
   "metadata": {},
   "outputs": [],
   "source": [
    "X_train, X_test, y_train, y_test = train_test_split(X_lex_vec, Y_lex_vec, test_size=0.33, random_state=42)"
   ]
  },
  {
   "cell_type": "code",
   "execution_count": 25,
   "metadata": {},
   "outputs": [
    {
     "data": {
      "application/vnd.jupyter.widget-view+json": {
       "model_id": "6d1f772f01dd4f1494b2d2f5f1026d40",
       "version_major": 2,
       "version_minor": 0
      },
      "text/plain": [
       "HBox(children=(IntProgress(value=0, max=3), HTML(value='')))"
      ]
     },
     "metadata": {},
     "output_type": "display_data"
    },
    {
     "name": "stdout",
     "output_type": "stream",
     "text": [
      "\n",
      "Wall time: 3min 45s\n"
     ]
    }
   ],
   "source": [
    "%%time\n",
    "for model in tqdm_notebook(models):\n",
    "    #model=LinearRegression(normalize=True)\n",
    "    #m=str(model)\n",
    "    #m=m[:m.index('(')]\n",
    "    #print(m)\n",
    "    model.fit(X_train, y_train)\n",
    "    #model.fit(X_lex_vec, Y_lex_vec)\n",
    "    #cval=cross_val_score(model, X_lex_vec, Y_lex_vec, cv=10, n_jobs=-1, verbose=10).mean()\n",
    "    #print('%s cross validation: %s' % (m,cval))"
   ]
  },
  {
   "cell_type": "code",
   "execution_count": 26,
   "metadata": {},
   "outputs": [
    {
     "data": {
      "application/vnd.jupyter.widget-view+json": {
       "model_id": "3ce96f345ada456597cc55a52405c724",
       "version_major": 2,
       "version_minor": 0
      },
      "text/plain": [
       "HBox(children=(IntProgress(value=0, max=3), HTML(value='')))"
      ]
     },
     "metadata": {},
     "output_type": "display_data"
    },
    {
     "name": "stdout",
     "output_type": "stream",
     "text": [
      "DecisionTreeRegressor: 0.8329660520626223/0.7577288095130172\n",
      "RandomForestRegressor: 0.8437385356002025/0.7854910020937499\n",
      "ExtraTreesRegressor: 0.9057052816084605/0.8209187238509896\n",
      "\n",
      "Wall time: 48.3 s\n"
     ]
    }
   ],
   "source": [
    "%%time\n",
    "for model in tqdm_notebook(models):\n",
    "    m=str(model)\n",
    "    m=m[:m.index('(')]\n",
    "    print(m+': '+str(model.score(model.predict(X_train),y_train))+'/'+str(model.score(model.predict(X_test),y_test)))"
   ]
  },
  {
   "cell_type": "code",
   "execution_count": 27,
   "metadata": {},
   "outputs": [
    {
     "data": {
      "application/vnd.jupyter.widget-view+json": {
       "model_id": "6f50841c198345248083fd877255e315",
       "version_major": 2,
       "version_minor": 0
      },
      "text/plain": [
       "HBox(children=(IntProgress(value=0, description='1st loop', max=3), HTML(value='')))"
      ]
     },
     "metadata": {},
     "output_type": "display_data"
    },
    {
     "name": "stdout",
     "output_type": "stream",
     "text": [
      "DecisionTreeRegressor: 0.8081275503451055\n",
      "RandomForestRegressor: 0.8245089571694506\n",
      "ExtraTreesRegressor: 0.8777141632335276\n",
      "\n"
     ]
    }
   ],
   "source": [
    "#for model in models:\n",
    "for model in tqdm_notebook(models, desc='1st loop'):\n",
    "    m=str(model)\n",
    "    m=m[:m.index('(')]\n",
    "    print(m+': '+str(model.score(model.predict(X_lex_vec),Y_lex_vec)))"
   ]
  },
  {
   "cell_type": "markdown",
   "metadata": {},
   "source": [
    "## Train best model on whole corpus"
   ]
  },
  {
   "cell_type": "markdown",
   "metadata": {},
   "source": [
    "### Extratree"
   ]
  },
  {
   "cell_type": "code",
   "execution_count": 28,
   "metadata": {},
   "outputs": [
    {
     "name": "stdout",
     "output_type": "stream",
     "text": [
      "building tree 1 of 10building tree 2 of 10building tree 3 of 10building tree 4 of 10building tree 5 of 10building tree 6 of 10building tree 7 of 10building tree 8 of 10\n",
      "\n",
      "\n",
      "\n",
      "\n",
      "\n",
      "\n",
      "\n",
      "building tree 9 of 10\n",
      "building tree 10 of 10\n"
     ]
    },
    {
     "name": "stderr",
     "output_type": "stream",
     "text": [
      "[Parallel(n_jobs=-1)]: Done   3 out of  10 | elapsed:  1.1min remaining:  2.7min\n",
      "[Parallel(n_jobs=-1)]: Done   5 out of  10 | elapsed:  1.2min remaining:  1.2min\n",
      "[Parallel(n_jobs=-1)]: Done   7 out of  10 | elapsed:  1.2min remaining:   31.0s\n",
      "[Parallel(n_jobs=-1)]: Done  10 out of  10 | elapsed:  1.7min finished\n"
     ]
    },
    {
     "name": "stdout",
     "output_type": "stream",
     "text": [
      "Wall time: 1min 44s\n"
     ]
    }
   ],
   "source": [
    "%%time\n",
    "best_model=ExtraTreesRegressor(n_estimators=10, n_jobs=-1, verbose=10)\n",
    "best_model.fit(X_lex_vec,Y_lex_vec)"
   ]
  },
  {
   "cell_type": "code",
   "execution_count": 29,
   "metadata": {},
   "outputs": [
    {
     "name": "stdout",
     "output_type": "stream",
     "text": [
      "Wall time: 33.6 s\n"
     ]
    }
   ],
   "source": [
    "%%time\n",
    "#save best model to disk\n",
    "filename = 'best_lemm.sav'\n",
    "joblib.dump(best_model, filename)"
   ]
  },
  {
   "cell_type": "markdown",
   "metadata": {},
   "source": [
    "### DecisionTree"
   ]
  },
  {
   "cell_type": "code",
   "execution_count": 30,
   "metadata": {},
   "outputs": [
    {
     "name": "stdout",
     "output_type": "stream",
     "text": [
      "Wall time: 56.4 s\n"
     ]
    }
   ],
   "source": [
    "%%time\n",
    "best_model_DT=DecisionTreeRegressor()\n",
    "best_model_DT.fit(X_lex_vec,Y_lex_vec)"
   ]
  },
  {
   "cell_type": "markdown",
   "metadata": {},
   "source": [
    "### RandomForest"
   ]
  },
  {
   "cell_type": "code",
   "execution_count": 31,
   "metadata": {},
   "outputs": [
    {
     "name": "stdout",
     "output_type": "stream",
     "text": [
      "Wall time: 2min 3s\n"
     ]
    }
   ],
   "source": [
    "%%time\n",
    "best_model_RF=RandomForestRegressor(n_jobs=-1)\n",
    "best_model_RF.fit(X_lex_vec,Y_lex_vec)\n",
    "        "
   ]
  },
  {
   "cell_type": "code",
   "execution_count": null,
   "metadata": {},
   "outputs": [],
   "source": []
  },
  {
   "cell_type": "markdown",
   "metadata": {},
   "source": [
    "# Test on ru-eval.ru corpus"
   ]
  },
  {
   "cell_type": "markdown",
   "metadata": {},
   "source": [
    "## Load and preprocess contest test corpus"
   ]
  },
  {
   "cell_type": "code",
   "execution_count": 44,
   "metadata": {},
   "outputs": [
    {
     "name": "stderr",
     "output_type": "stream",
     "text": [
      "Skipping line 914: '\t' expected after '\"'\n",
      "Skipping line 2145: '\t' expected after '\"'\n",
      "Skipping line 2341: '\t' expected after '\"'\n",
      "Skipping line 2386: '\t' expected after '\"'\n",
      "Skipping line 2611: unexpected end of data\n"
     ]
    },
    {
     "data": {
      "text/html": [
       "<div>\n",
       "<style scoped>\n",
       "    .dataframe tbody tr th:only-of-type {\n",
       "        vertical-align: middle;\n",
       "    }\n",
       "\n",
       "    .dataframe tbody tr th {\n",
       "        vertical-align: top;\n",
       "    }\n",
       "\n",
       "    .dataframe thead th {\n",
       "        text-align: right;\n",
       "    }\n",
       "</style>\n",
       "<table border=\"1\" class=\"dataframe\">\n",
       "  <thead>\n",
       "    <tr style=\"text-align: right;\">\n",
       "      <th></th>\n",
       "      <th>Wordform_GS2</th>\n",
       "      <th>Lemma_GS2</th>\n",
       "      <th>POS_GS2</th>\n",
       "      <th>Gram_GS2</th>\n",
       "      <th>Status</th>\n",
       "      <th>NB</th>\n",
       "    </tr>\n",
       "  </thead>\n",
       "  <tbody>\n",
       "    <tr>\n",
       "      <th>0</th>\n",
       "      <td>Цветки</td>\n",
       "      <td>цветок</td>\n",
       "      <td>S</td>\n",
       "      <td>m,nom,pl</td>\n",
       "      <td>ON</td>\n",
       "      <td>NaN</td>\n",
       "    </tr>\n",
       "    <tr>\n",
       "      <th>1</th>\n",
       "      <td>дикорастущих</td>\n",
       "      <td>дикорастущий</td>\n",
       "      <td>A</td>\n",
       "      <td>gen,pl</td>\n",
       "      <td>ON</td>\n",
       "      <td>NaN</td>\n",
       "    </tr>\n",
       "    <tr>\n",
       "      <th>2</th>\n",
       "      <td>форм</td>\n",
       "      <td>форма</td>\n",
       "      <td>S</td>\n",
       "      <td>f,gen,pl</td>\n",
       "      <td>ON</td>\n",
       "      <td>NaN</td>\n",
       "    </tr>\n",
       "    <tr>\n",
       "      <th>3</th>\n",
       "      <td>обыкновенной</td>\n",
       "      <td>обыкновенный</td>\n",
       "      <td>A</td>\n",
       "      <td>f,gen,sg</td>\n",
       "      <td>ON</td>\n",
       "      <td>NaN</td>\n",
       "    </tr>\n",
       "    <tr>\n",
       "      <th>4</th>\n",
       "      <td>сирени</td>\n",
       "      <td>сирень</td>\n",
       "      <td>S</td>\n",
       "      <td>f,gen,sg</td>\n",
       "      <td>ON</td>\n",
       "      <td>NaN</td>\n",
       "    </tr>\n",
       "  </tbody>\n",
       "</table>\n",
       "</div>"
      ],
      "text/plain": [
       "   Wordform_GS2     Lemma_GS2 POS_GS2  Gram_GS2 Status   NB\n",
       "0        Цветки        цветок       S  m,nom,pl     ON  NaN\n",
       "1  дикорастущих  дикорастущий       A    gen,pl     ON  NaN\n",
       "2          форм         форма       S  f,gen,pl     ON  NaN\n",
       "3  обыкновенной  обыкновенный       A  f,gen,sg     ON  NaN\n",
       "4        сирени        сирень       S  f,gen,sg     ON  NaN"
      ]
     },
     "execution_count": 44,
     "metadata": {},
     "output_type": "execute_result"
    }
   ],
   "source": [
    "#Downloaded from http://ru-eval.ru/collections_index.html\n",
    "rueval_ds=pd.read_csv('rueval_2010_goldstandard_tagged.txt','\\t',error_bad_lines=False, warn_bad_lines=True, engine='python')\n",
    "rueval_ds.head()"
   ]
  },
  {
   "cell_type": "code",
   "execution_count": 45,
   "metadata": {},
   "outputs": [],
   "source": [
    "rueval_ds.dropna(subset=['Lemma_GS2'],inplace=True)#.shape"
   ]
  },
  {
   "cell_type": "code",
   "execution_count": 46,
   "metadata": {},
   "outputs": [
    {
     "data": {
      "text/plain": [
       "(2097, 6)"
      ]
     },
     "execution_count": 46,
     "metadata": {},
     "output_type": "execute_result"
    }
   ],
   "source": [
    "rueval_ds.shape"
   ]
  },
  {
   "cell_type": "code",
   "execution_count": 47,
   "metadata": {},
   "outputs": [],
   "source": [
    "rueval_ds['Wordform_GS2']=rueval_ds['Wordform_GS2'].str.lower()\n",
    "rueval_ds['Lemma_GS2']=rueval_ds['Lemma_GS2'].str.lower()"
   ]
  },
  {
   "cell_type": "code",
   "execution_count": 48,
   "metadata": {},
   "outputs": [
    {
     "data": {
      "text/html": [
       "<div>\n",
       "<style scoped>\n",
       "    .dataframe tbody tr th:only-of-type {\n",
       "        vertical-align: middle;\n",
       "    }\n",
       "\n",
       "    .dataframe tbody tr th {\n",
       "        vertical-align: top;\n",
       "    }\n",
       "\n",
       "    .dataframe thead th {\n",
       "        text-align: right;\n",
       "    }\n",
       "</style>\n",
       "<table border=\"1\" class=\"dataframe\">\n",
       "  <thead>\n",
       "    <tr style=\"text-align: right;\">\n",
       "      <th></th>\n",
       "      <th>Wordform_GS2</th>\n",
       "      <th>Lemma_GS2</th>\n",
       "      <th>POS_GS2</th>\n",
       "      <th>Gram_GS2</th>\n",
       "      <th>Status</th>\n",
       "      <th>NB</th>\n",
       "    </tr>\n",
       "  </thead>\n",
       "  <tbody>\n",
       "    <tr>\n",
       "      <th>0</th>\n",
       "      <td>цветки</td>\n",
       "      <td>цветок</td>\n",
       "      <td>S</td>\n",
       "      <td>m,nom,pl</td>\n",
       "      <td>ON</td>\n",
       "      <td>NaN</td>\n",
       "    </tr>\n",
       "    <tr>\n",
       "      <th>1</th>\n",
       "      <td>дикорастущих</td>\n",
       "      <td>дикорастущий</td>\n",
       "      <td>A</td>\n",
       "      <td>gen,pl</td>\n",
       "      <td>ON</td>\n",
       "      <td>NaN</td>\n",
       "    </tr>\n",
       "    <tr>\n",
       "      <th>2</th>\n",
       "      <td>форм</td>\n",
       "      <td>форма</td>\n",
       "      <td>S</td>\n",
       "      <td>f,gen,pl</td>\n",
       "      <td>ON</td>\n",
       "      <td>NaN</td>\n",
       "    </tr>\n",
       "    <tr>\n",
       "      <th>3</th>\n",
       "      <td>обыкновенной</td>\n",
       "      <td>обыкновенный</td>\n",
       "      <td>A</td>\n",
       "      <td>f,gen,sg</td>\n",
       "      <td>ON</td>\n",
       "      <td>NaN</td>\n",
       "    </tr>\n",
       "    <tr>\n",
       "      <th>4</th>\n",
       "      <td>сирени</td>\n",
       "      <td>сирень</td>\n",
       "      <td>S</td>\n",
       "      <td>f,gen,sg</td>\n",
       "      <td>ON</td>\n",
       "      <td>NaN</td>\n",
       "    </tr>\n",
       "  </tbody>\n",
       "</table>\n",
       "</div>"
      ],
      "text/plain": [
       "   Wordform_GS2     Lemma_GS2 POS_GS2  Gram_GS2 Status   NB\n",
       "0        цветки        цветок       S  m,nom,pl     ON  NaN\n",
       "1  дикорастущих  дикорастущий       A    gen,pl     ON  NaN\n",
       "2          форм         форма       S  f,gen,pl     ON  NaN\n",
       "3  обыкновенной  обыкновенный       A  f,gen,sg     ON  NaN\n",
       "4        сирени        сирень       S  f,gen,sg     ON  NaN"
      ]
     },
     "execution_count": 48,
     "metadata": {},
     "output_type": "execute_result"
    }
   ],
   "source": [
    "rueval_ds.head()"
   ]
  },
  {
   "cell_type": "code",
   "execution_count": 50,
   "metadata": {},
   "outputs": [
    {
     "data": {
      "application/vnd.jupyter.widget-view+json": {
       "model_id": "6b1ce1c8cb644386952eb2b33b23ba75",
       "version_major": 2,
       "version_minor": 0
      },
      "text/plain": [
       "HBox(children=(IntProgress(value=0, max=2097), HTML(value='')))"
      ]
     },
     "metadata": {},
     "output_type": "display_data"
    },
    {
     "name": "stdout",
     "output_type": "stream",
     "text": [
      "\n"
     ]
    }
   ],
   "source": [
    "rueval_vec_x=[alpha_vec2(w) for w in tqdm_notebook(rueval_ds['Wordform_GS2'])]"
   ]
  },
  {
   "cell_type": "code",
   "execution_count": 51,
   "metadata": {},
   "outputs": [
    {
     "data": {
      "application/vnd.jupyter.widget-view+json": {
       "model_id": "528076f8447d49419dbca07b7230b8a1",
       "version_major": 2,
       "version_minor": 0
      },
      "text/plain": [
       "HBox(children=(IntProgress(value=0, max=2097), HTML(value='')))"
      ]
     },
     "metadata": {},
     "output_type": "display_data"
    },
    {
     "name": "stdout",
     "output_type": "stream",
     "text": [
      "\n"
     ]
    }
   ],
   "source": [
    "rueval_vec_y=[alpha_vec2(w) for w in tqdm_notebook(rueval_ds['Lemma_GS2'])]"
   ]
  },
  {
   "cell_type": "markdown",
   "metadata": {},
   "source": [
    "## Test developed models"
   ]
  },
  {
   "cell_type": "code",
   "execution_count": 54,
   "metadata": {},
   "outputs": [],
   "source": [
    "b_models=[best_model, best_model_DT, best_model_RF]"
   ]
  },
  {
   "cell_type": "code",
   "execution_count": 55,
   "metadata": {},
   "outputs": [
    {
     "name": "stderr",
     "output_type": "stream",
     "text": [
      "[Parallel(n_jobs=8)]: Done   3 out of  10 | elapsed:    0.1s remaining:    0.3s\n",
      "[Parallel(n_jobs=8)]: Done   5 out of  10 | elapsed:    0.1s remaining:    0.1s\n",
      "[Parallel(n_jobs=8)]: Done   7 out of  10 | elapsed:    0.1s remaining:    0.0s\n",
      "[Parallel(n_jobs=8)]: Done  10 out of  10 | elapsed:    0.2s finished\n"
     ]
    },
    {
     "name": "stdout",
     "output_type": "stream",
     "text": [
      "0.9146050955827557\n",
      "0.8988394392543377\n",
      "0.9143437324069976\n"
     ]
    }
   ],
   "source": [
    "for m in b_models:\n",
    "    print(m.score(rueval_vec_x, rueval_vec_y))"
   ]
  },
  {
   "cell_type": "markdown",
   "metadata": {},
   "source": [
    "## Test pymorphy2"
   ]
  },
  {
   "cell_type": "code",
   "execution_count": 56,
   "metadata": {},
   "outputs": [],
   "source": [
    "import pymorphy2\n",
    "morph = pymorphy2.MorphAnalyzer()"
   ]
  },
  {
   "cell_type": "code",
   "execution_count": 57,
   "metadata": {},
   "outputs": [],
   "source": [
    "def compare(w1,w2):\n",
    "    p = morph.parse(w1)[0]\n",
    "    w1=p.normal_form\n",
    "    #print(w1)\n",
    "    #print(w2)\n",
    "    if w1==w2:\n",
    "        return 1\n",
    "    else:\n",
    "        return 0"
   ]
  },
  {
   "cell_type": "code",
   "execution_count": 58,
   "metadata": {},
   "outputs": [
    {
     "data": {
      "application/vnd.jupyter.widget-view+json": {
       "model_id": "5adb2eb1684e4c03836ae9e36f8b6086",
       "version_major": 2,
       "version_minor": 0
      },
      "text/plain": [
       "HBox(children=(IntProgress(value=0, max=2097), HTML(value='')))"
      ]
     },
     "metadata": {},
     "output_type": "display_data"
    },
    {
     "name": "stdout",
     "output_type": "stream",
     "text": [
      "\n"
     ]
    }
   ],
   "source": [
    "test=[compare(w1,w2) for w1, w2 in zip(rueval_ds['Wordform_GS2'],tqdm_notebook(rueval_ds['Lemma_GS2']))]"
   ]
  },
  {
   "cell_type": "code",
   "execution_count": 59,
   "metadata": {},
   "outputs": [
    {
     "data": {
      "text/plain": [
       "0.9165474487362899"
      ]
     },
     "execution_count": 59,
     "metadata": {},
     "output_type": "execute_result"
    }
   ],
   "source": [
    "sum(test)/len(test)"
   ]
  },
  {
   "cell_type": "markdown",
   "metadata": {},
   "source": [
    "## Test Mystem"
   ]
  },
  {
   "cell_type": "code",
   "execution_count": 60,
   "metadata": {},
   "outputs": [],
   "source": [
    "from pymystem3 import Mystem\n",
    "mystem = Mystem()"
   ]
  },
  {
   "cell_type": "code",
   "execution_count": 68,
   "metadata": {},
   "outputs": [],
   "source": [
    "def compare2(w1,w2):\n",
    "    w1 = mystem.lemmatize(w1)[0]\n",
    "    #print(w1)\n",
    "    #print(w2)\n",
    "    if w1==w2:\n",
    "        return 1\n",
    "    else:\n",
    "        return 0"
   ]
  },
  {
   "cell_type": "code",
   "execution_count": 69,
   "metadata": {},
   "outputs": [
    {
     "data": {
      "text/plain": [
       "1"
      ]
     },
     "execution_count": 69,
     "metadata": {},
     "output_type": "execute_result"
    }
   ],
   "source": [
    "compare2('убежал','убегать')"
   ]
  },
  {
   "cell_type": "code",
   "execution_count": 67,
   "metadata": {},
   "outputs": [
    {
     "data": {
      "text/plain": [
       "'убегать'"
      ]
     },
     "execution_count": 67,
     "metadata": {},
     "output_type": "execute_result"
    }
   ],
   "source": [
    "mystem.lemmatize('убежал')[0]"
   ]
  },
  {
   "cell_type": "code",
   "execution_count": 70,
   "metadata": {},
   "outputs": [
    {
     "data": {
      "application/vnd.jupyter.widget-view+json": {
       "model_id": "426b217f4fe6474d8d052d8afbbd9b5b",
       "version_major": 2,
       "version_minor": 0
      },
      "text/plain": [
       "HBox(children=(IntProgress(value=0, max=2097), HTML(value='')))"
      ]
     },
     "metadata": {},
     "output_type": "display_data"
    }
   ],
   "source": [
    "test=[compare2(w1,w2) for w1, w2 in zip(rueval_ds['Wordform_GS2'],tqdm_notebook(rueval_ds['Lemma_GS2']))]"
   ]
  },
  {
   "cell_type": "code",
   "execution_count": 73,
   "metadata": {},
   "outputs": [
    {
     "data": {
      "text/plain": [
       "0.9055793991416309"
      ]
     },
     "execution_count": 73,
     "metadata": {},
     "output_type": "execute_result"
    }
   ],
   "source": [
    "sum(test)/len(test)"
   ]
  },
  {
   "cell_type": "markdown",
   "metadata": {},
   "source": [
    "# Model tuning"
   ]
  },
  {
   "cell_type": "markdown",
   "metadata": {},
   "source": [
    "## Tuning"
   ]
  },
  {
   "cell_type": "markdown",
   "metadata": {},
   "source": [
    "### Random Forest"
   ]
  },
  {
   "cell_type": "code",
   "execution_count": 96,
   "metadata": {},
   "outputs": [
    {
     "name": "stdout",
     "output_type": "stream",
     "text": [
      "{'n_estimators': [200, 400, 600, 800, 1000, 1200, 1400, 1600, 1800, 2000], 'max_features': ['auto', 'sqrt'], 'max_depth': [10, 20, 30, 40, 50, 60, 70, 80, 90, 100, 110, None], 'min_samples_split': [2, 5, 10], 'min_samples_leaf': [1, 2, 4], 'bootstrap': [True, False]}\n"
     ]
    }
   ],
   "source": [
    "# Number of trees in random forest\n",
    "n_estimators = [int(x) for x in np.linspace(start = 200, stop = 2000, num = 10)]\n",
    "# Number of features to consider at every split\n",
    "max_features = ['auto', 'sqrt']\n",
    "# Maximum number of levels in tree\n",
    "max_depth = [int(x) for x in np.linspace(10, 110, num = 11)]\n",
    "max_depth.append(None)\n",
    "# Minimum number of samples required to split a node\n",
    "min_samples_split = [2, 5, 10]\n",
    "# Minimum number of samples required at each leaf node\n",
    "min_samples_leaf = [1, 2, 4]\n",
    "# Method of selecting samples for training each tree\n",
    "bootstrap = [True, False]\n",
    "# Create the random grid\n",
    "random_grid = {'n_estimators': n_estimators,\n",
    "               'max_features': max_features,\n",
    "               'max_depth': max_depth,\n",
    "               'min_samples_split': min_samples_split,\n",
    "               'min_samples_leaf': min_samples_leaf,\n",
    "               'bootstrap': bootstrap}\n",
    "print(random_grid)"
   ]
  },
  {
   "cell_type": "code",
   "execution_count": 99,
   "metadata": {},
   "outputs": [
    {
     "name": "stdout",
     "output_type": "stream",
     "text": [
      "Fitting 3 folds for each of 100 candidates, totalling 300 fits\n"
     ]
    },
    {
     "ename": "JoblibMemoryError",
     "evalue": "JoblibMemoryError\n___________________________________________________________________________\nMultiprocessing exception:\n...........................................................................\nC:\\ProgramData\\Anaconda3\\lib\\runpy.py in _run_module_as_main(mod_name='ipykernel_launcher', alter_argv=1)\n    188         sys.exit(msg)\n    189     main_globals = sys.modules[\"__main__\"].__dict__\n    190     if alter_argv:\n    191         sys.argv[0] = mod_spec.origin\n    192     return _run_code(code, main_globals, None,\n--> 193                      \"__main__\", mod_spec)\n        mod_spec = ModuleSpec(name='ipykernel_launcher', loader=<_f...nda3\\\\lib\\\\site-packages\\\\ipykernel_launcher.py')\n    194 \n    195 def run_module(mod_name, init_globals=None,\n    196                run_name=None, alter_sys=False):\n    197     \"\"\"Execute a module's code without importing it\n\n...........................................................................\nC:\\ProgramData\\Anaconda3\\lib\\runpy.py in _run_code(code=<code object <module> at 0x0000022DE02821E0, fil...lib\\site-packages\\ipykernel_launcher.py\", line 5>, run_globals={'__annotations__': {}, '__builtins__': <module 'builtins' (built-in)>, '__cached__': r'C:\\ProgramData\\Anaconda3\\lib\\site-packages\\__pycache__\\ipykernel_launcher.cpython-36.pyc', '__doc__': 'Entry point for launching an IPython kernel.\\n\\nTh...orts until\\nafter removing the cwd from sys.path.\\n', '__file__': r'C:\\ProgramData\\Anaconda3\\lib\\site-packages\\ipykernel_launcher.py', '__loader__': <_frozen_importlib_external.SourceFileLoader object>, '__name__': '__main__', '__package__': '', '__spec__': ModuleSpec(name='ipykernel_launcher', loader=<_f...nda3\\\\lib\\\\site-packages\\\\ipykernel_launcher.py'), 'app': <module 'ipykernel.kernelapp' from 'C:\\\\ProgramD...a3\\\\lib\\\\site-packages\\\\ipykernel\\\\kernelapp.py'>, ...}, init_globals=None, mod_name='__main__', mod_spec=ModuleSpec(name='ipykernel_launcher', loader=<_f...nda3\\\\lib\\\\site-packages\\\\ipykernel_launcher.py'), pkg_name='', script_name=None)\n     80                        __cached__ = cached,\n     81                        __doc__ = None,\n     82                        __loader__ = loader,\n     83                        __package__ = pkg_name,\n     84                        __spec__ = mod_spec)\n---> 85     exec(code, run_globals)\n        code = <code object <module> at 0x0000022DE02821E0, fil...lib\\site-packages\\ipykernel_launcher.py\", line 5>\n        run_globals = {'__annotations__': {}, '__builtins__': <module 'builtins' (built-in)>, '__cached__': r'C:\\ProgramData\\Anaconda3\\lib\\site-packages\\__pycache__\\ipykernel_launcher.cpython-36.pyc', '__doc__': 'Entry point for launching an IPython kernel.\\n\\nTh...orts until\\nafter removing the cwd from sys.path.\\n', '__file__': r'C:\\ProgramData\\Anaconda3\\lib\\site-packages\\ipykernel_launcher.py', '__loader__': <_frozen_importlib_external.SourceFileLoader object>, '__name__': '__main__', '__package__': '', '__spec__': ModuleSpec(name='ipykernel_launcher', loader=<_f...nda3\\\\lib\\\\site-packages\\\\ipykernel_launcher.py'), 'app': <module 'ipykernel.kernelapp' from 'C:\\\\ProgramD...a3\\\\lib\\\\site-packages\\\\ipykernel\\\\kernelapp.py'>, ...}\n     86     return run_globals\n     87 \n     88 def _run_module_code(code, init_globals=None,\n     89                     mod_name=None, mod_spec=None,\n\n...........................................................................\nC:\\ProgramData\\Anaconda3\\lib\\site-packages\\ipykernel_launcher.py in <module>()\n     11     # This is added back by InteractiveShellApp.init_path()\n     12     if sys.path[0] == '':\n     13         del sys.path[0]\n     14 \n     15     from ipykernel import kernelapp as app\n---> 16     app.launch_new_instance()\n\n...........................................................................\nC:\\ProgramData\\Anaconda3\\lib\\site-packages\\traitlets\\config\\application.py in launch_instance(cls=<class 'ipykernel.kernelapp.IPKernelApp'>, argv=None, **kwargs={})\n    653 \n    654         If a global instance already exists, this reinitializes and starts it\n    655         \"\"\"\n    656         app = cls.instance(**kwargs)\n    657         app.initialize(argv)\n--> 658         app.start()\n        app.start = <bound method IPKernelApp.start of <ipykernel.kernelapp.IPKernelApp object>>\n    659 \n    660 #-----------------------------------------------------------------------------\n    661 # utility functions, for convenience\n    662 #-----------------------------------------------------------------------------\n\n...........................................................................\nC:\\ProgramData\\Anaconda3\\lib\\site-packages\\ipykernel\\kernelapp.py in start(self=<ipykernel.kernelapp.IPKernelApp object>)\n    481         if self.poller is not None:\n    482             self.poller.start()\n    483         self.kernel.start()\n    484         self.io_loop = ioloop.IOLoop.current()\n    485         try:\n--> 486             self.io_loop.start()\n        self.io_loop.start = <bound method BaseAsyncIOLoop.start of <tornado.platform.asyncio.AsyncIOMainLoop object>>\n    487         except KeyboardInterrupt:\n    488             pass\n    489 \n    490 launch_new_instance = IPKernelApp.launch_instance\n\n...........................................................................\nC:\\ProgramData\\Anaconda3\\lib\\site-packages\\tornado\\platform\\asyncio.py in start(self=<tornado.platform.asyncio.AsyncIOMainLoop object>)\n    122         except (RuntimeError, AssertionError):\n    123             old_loop = None\n    124         try:\n    125             self._setup_logging()\n    126             asyncio.set_event_loop(self.asyncio_loop)\n--> 127             self.asyncio_loop.run_forever()\n        self.asyncio_loop.run_forever = <bound method BaseEventLoop.run_forever of <_Win...EventLoop running=True closed=False debug=False>>\n    128         finally:\n    129             asyncio.set_event_loop(old_loop)\n    130 \n    131     def stop(self):\n\n...........................................................................\nC:\\ProgramData\\Anaconda3\\lib\\asyncio\\base_events.py in run_forever(self=<_WindowsSelectorEventLoop running=True closed=False debug=False>)\n    417             sys.set_asyncgen_hooks(firstiter=self._asyncgen_firstiter_hook,\n    418                                    finalizer=self._asyncgen_finalizer_hook)\n    419         try:\n    420             events._set_running_loop(self)\n    421             while True:\n--> 422                 self._run_once()\n        self._run_once = <bound method BaseEventLoop._run_once of <_Windo...EventLoop running=True closed=False debug=False>>\n    423                 if self._stopping:\n    424                     break\n    425         finally:\n    426             self._stopping = False\n\n...........................................................................\nC:\\ProgramData\\Anaconda3\\lib\\asyncio\\base_events.py in _run_once(self=<_WindowsSelectorEventLoop running=True closed=False debug=False>)\n   1427                         logger.warning('Executing %s took %.3f seconds',\n   1428                                        _format_handle(handle), dt)\n   1429                 finally:\n   1430                     self._current_handle = None\n   1431             else:\n-> 1432                 handle._run()\n        handle._run = <bound method Handle._run of <Handle BaseAsyncIOLoop._handle_events(560, 1)>>\n   1433         handle = None  # Needed to break cycles when an exception occurs.\n   1434 \n   1435     def _set_coroutine_wrapper(self, enabled):\n   1436         try:\n\n...........................................................................\nC:\\ProgramData\\Anaconda3\\lib\\asyncio\\events.py in _run(self=<Handle BaseAsyncIOLoop._handle_events(560, 1)>)\n    140             self._callback = None\n    141             self._args = None\n    142 \n    143     def _run(self):\n    144         try:\n--> 145             self._callback(*self._args)\n        self._callback = <bound method BaseAsyncIOLoop._handle_events of <tornado.platform.asyncio.AsyncIOMainLoop object>>\n        self._args = (560, 1)\n    146         except Exception as exc:\n    147             cb = _format_callback_source(self._callback, self._args)\n    148             msg = 'Exception in callback {}'.format(cb)\n    149             context = {\n\n...........................................................................\nC:\\ProgramData\\Anaconda3\\lib\\site-packages\\tornado\\platform\\asyncio.py in _handle_events(self=<tornado.platform.asyncio.AsyncIOMainLoop object>, fd=560, events=1)\n    112             self.writers.remove(fd)\n    113         del self.handlers[fd]\n    114 \n    115     def _handle_events(self, fd, events):\n    116         fileobj, handler_func = self.handlers[fd]\n--> 117         handler_func(fileobj, events)\n        handler_func = <function wrap.<locals>.null_wrapper>\n        fileobj = <zmq.sugar.socket.Socket object>\n        events = 1\n    118 \n    119     def start(self):\n    120         try:\n    121             old_loop = asyncio.get_event_loop()\n\n...........................................................................\nC:\\ProgramData\\Anaconda3\\lib\\site-packages\\tornado\\stack_context.py in null_wrapper(*args=(<zmq.sugar.socket.Socket object>, 1), **kwargs={})\n    271         # Fast path when there are no active contexts.\n    272         def null_wrapper(*args, **kwargs):\n    273             try:\n    274                 current_state = _state.contexts\n    275                 _state.contexts = cap_contexts[0]\n--> 276                 return fn(*args, **kwargs)\n        args = (<zmq.sugar.socket.Socket object>, 1)\n        kwargs = {}\n    277             finally:\n    278                 _state.contexts = current_state\n    279         null_wrapper._wrapped = True\n    280         return null_wrapper\n\n...........................................................................\nC:\\ProgramData\\Anaconda3\\lib\\site-packages\\zmq\\eventloop\\zmqstream.py in _handle_events(self=<zmq.eventloop.zmqstream.ZMQStream object>, fd=<zmq.sugar.socket.Socket object>, events=1)\n    445             return\n    446         zmq_events = self.socket.EVENTS\n    447         try:\n    448             # dispatch events:\n    449             if zmq_events & zmq.POLLIN and self.receiving():\n--> 450                 self._handle_recv()\n        self._handle_recv = <bound method ZMQStream._handle_recv of <zmq.eventloop.zmqstream.ZMQStream object>>\n    451                 if not self.socket:\n    452                     return\n    453             if zmq_events & zmq.POLLOUT and self.sending():\n    454                 self._handle_send()\n\n...........................................................................\nC:\\ProgramData\\Anaconda3\\lib\\site-packages\\zmq\\eventloop\\zmqstream.py in _handle_recv(self=<zmq.eventloop.zmqstream.ZMQStream object>)\n    475             else:\n    476                 raise\n    477         else:\n    478             if self._recv_callback:\n    479                 callback = self._recv_callback\n--> 480                 self._run_callback(callback, msg)\n        self._run_callback = <bound method ZMQStream._run_callback of <zmq.eventloop.zmqstream.ZMQStream object>>\n        callback = <function wrap.<locals>.null_wrapper>\n        msg = [<zmq.sugar.frame.Frame object>, <zmq.sugar.frame.Frame object>, <zmq.sugar.frame.Frame object>, <zmq.sugar.frame.Frame object>, <zmq.sugar.frame.Frame object>, <zmq.sugar.frame.Frame object>, <zmq.sugar.frame.Frame object>]\n    481         \n    482 \n    483     def _handle_send(self):\n    484         \"\"\"Handle a send event.\"\"\"\n\n...........................................................................\nC:\\ProgramData\\Anaconda3\\lib\\site-packages\\zmq\\eventloop\\zmqstream.py in _run_callback(self=<zmq.eventloop.zmqstream.ZMQStream object>, callback=<function wrap.<locals>.null_wrapper>, *args=([<zmq.sugar.frame.Frame object>, <zmq.sugar.frame.Frame object>, <zmq.sugar.frame.Frame object>, <zmq.sugar.frame.Frame object>, <zmq.sugar.frame.Frame object>, <zmq.sugar.frame.Frame object>, <zmq.sugar.frame.Frame object>],), **kwargs={})\n    427         close our socket.\"\"\"\n    428         try:\n    429             # Use a NullContext to ensure that all StackContexts are run\n    430             # inside our blanket exception handler rather than outside.\n    431             with stack_context.NullContext():\n--> 432                 callback(*args, **kwargs)\n        callback = <function wrap.<locals>.null_wrapper>\n        args = ([<zmq.sugar.frame.Frame object>, <zmq.sugar.frame.Frame object>, <zmq.sugar.frame.Frame object>, <zmq.sugar.frame.Frame object>, <zmq.sugar.frame.Frame object>, <zmq.sugar.frame.Frame object>, <zmq.sugar.frame.Frame object>],)\n        kwargs = {}\n    433         except:\n    434             gen_log.error(\"Uncaught exception in ZMQStream callback\",\n    435                           exc_info=True)\n    436             # Re-raise the exception so that IOLoop.handle_callback_exception\n\n...........................................................................\nC:\\ProgramData\\Anaconda3\\lib\\site-packages\\tornado\\stack_context.py in null_wrapper(*args=([<zmq.sugar.frame.Frame object>, <zmq.sugar.frame.Frame object>, <zmq.sugar.frame.Frame object>, <zmq.sugar.frame.Frame object>, <zmq.sugar.frame.Frame object>, <zmq.sugar.frame.Frame object>, <zmq.sugar.frame.Frame object>],), **kwargs={})\n    271         # Fast path when there are no active contexts.\n    272         def null_wrapper(*args, **kwargs):\n    273             try:\n    274                 current_state = _state.contexts\n    275                 _state.contexts = cap_contexts[0]\n--> 276                 return fn(*args, **kwargs)\n        args = ([<zmq.sugar.frame.Frame object>, <zmq.sugar.frame.Frame object>, <zmq.sugar.frame.Frame object>, <zmq.sugar.frame.Frame object>, <zmq.sugar.frame.Frame object>, <zmq.sugar.frame.Frame object>, <zmq.sugar.frame.Frame object>],)\n        kwargs = {}\n    277             finally:\n    278                 _state.contexts = current_state\n    279         null_wrapper._wrapped = True\n    280         return null_wrapper\n\n...........................................................................\nC:\\ProgramData\\Anaconda3\\lib\\site-packages\\ipykernel\\kernelbase.py in dispatcher(msg=[<zmq.sugar.frame.Frame object>, <zmq.sugar.frame.Frame object>, <zmq.sugar.frame.Frame object>, <zmq.sugar.frame.Frame object>, <zmq.sugar.frame.Frame object>, <zmq.sugar.frame.Frame object>, <zmq.sugar.frame.Frame object>])\n    278         if self.control_stream:\n    279             self.control_stream.on_recv(self.dispatch_control, copy=False)\n    280 \n    281         def make_dispatcher(stream):\n    282             def dispatcher(msg):\n--> 283                 return self.dispatch_shell(stream, msg)\n        msg = [<zmq.sugar.frame.Frame object>, <zmq.sugar.frame.Frame object>, <zmq.sugar.frame.Frame object>, <zmq.sugar.frame.Frame object>, <zmq.sugar.frame.Frame object>, <zmq.sugar.frame.Frame object>, <zmq.sugar.frame.Frame object>]\n    284             return dispatcher\n    285 \n    286         for s in self.shell_streams:\n    287             s.on_recv(make_dispatcher(s), copy=False)\n\n...........................................................................\nC:\\ProgramData\\Anaconda3\\lib\\site-packages\\ipykernel\\kernelbase.py in dispatch_shell(self=<ipykernel.ipkernel.IPythonKernel object>, stream=<zmq.eventloop.zmqstream.ZMQStream object>, msg={'buffers': [], 'content': {'allow_stdin': True, 'code': '%%time\\n# Use the random grid to search for best ... search model\\nrf_random.fit(X_lex_vec, Y_lex_vec)', 'silent': False, 'stop_on_error': True, 'store_history': True, 'user_expressions': {}}, 'header': {'date': datetime.datetime(2018, 7, 18, 11, 28, 32, 894246, tzinfo=tzutc()), 'msg_id': 'f454a44d402c49b9947ee1e9ef2adccf', 'msg_type': 'execute_request', 'session': '926ba410b00f4691aa768797570fbbdf', 'username': 'username', 'version': '5.2'}, 'metadata': {}, 'msg_id': 'f454a44d402c49b9947ee1e9ef2adccf', 'msg_type': 'execute_request', 'parent_header': {}})\n    228             self.log.warn(\"Unknown message type: %r\", msg_type)\n    229         else:\n    230             self.log.debug(\"%s: %s\", msg_type, msg)\n    231             self.pre_handler_hook()\n    232             try:\n--> 233                 handler(stream, idents, msg)\n        handler = <bound method Kernel.execute_request of <ipykernel.ipkernel.IPythonKernel object>>\n        stream = <zmq.eventloop.zmqstream.ZMQStream object>\n        idents = [b'926ba410b00f4691aa768797570fbbdf']\n        msg = {'buffers': [], 'content': {'allow_stdin': True, 'code': '%%time\\n# Use the random grid to search for best ... search model\\nrf_random.fit(X_lex_vec, Y_lex_vec)', 'silent': False, 'stop_on_error': True, 'store_history': True, 'user_expressions': {}}, 'header': {'date': datetime.datetime(2018, 7, 18, 11, 28, 32, 894246, tzinfo=tzutc()), 'msg_id': 'f454a44d402c49b9947ee1e9ef2adccf', 'msg_type': 'execute_request', 'session': '926ba410b00f4691aa768797570fbbdf', 'username': 'username', 'version': '5.2'}, 'metadata': {}, 'msg_id': 'f454a44d402c49b9947ee1e9ef2adccf', 'msg_type': 'execute_request', 'parent_header': {}}\n    234             except Exception:\n    235                 self.log.error(\"Exception in message handler:\", exc_info=True)\n    236             finally:\n    237                 self.post_handler_hook()\n\n...........................................................................\nC:\\ProgramData\\Anaconda3\\lib\\site-packages\\ipykernel\\kernelbase.py in execute_request(self=<ipykernel.ipkernel.IPythonKernel object>, stream=<zmq.eventloop.zmqstream.ZMQStream object>, ident=[b'926ba410b00f4691aa768797570fbbdf'], parent={'buffers': [], 'content': {'allow_stdin': True, 'code': '%%time\\n# Use the random grid to search for best ... search model\\nrf_random.fit(X_lex_vec, Y_lex_vec)', 'silent': False, 'stop_on_error': True, 'store_history': True, 'user_expressions': {}}, 'header': {'date': datetime.datetime(2018, 7, 18, 11, 28, 32, 894246, tzinfo=tzutc()), 'msg_id': 'f454a44d402c49b9947ee1e9ef2adccf', 'msg_type': 'execute_request', 'session': '926ba410b00f4691aa768797570fbbdf', 'username': 'username', 'version': '5.2'}, 'metadata': {}, 'msg_id': 'f454a44d402c49b9947ee1e9ef2adccf', 'msg_type': 'execute_request', 'parent_header': {}})\n    394         if not silent:\n    395             self.execution_count += 1\n    396             self._publish_execute_input(code, parent, self.execution_count)\n    397 \n    398         reply_content = self.do_execute(code, silent, store_history,\n--> 399                                         user_expressions, allow_stdin)\n        user_expressions = {}\n        allow_stdin = True\n    400 \n    401         # Flush output before sending the reply.\n    402         sys.stdout.flush()\n    403         sys.stderr.flush()\n\n...........................................................................\nC:\\ProgramData\\Anaconda3\\lib\\site-packages\\ipykernel\\ipkernel.py in do_execute(self=<ipykernel.ipkernel.IPythonKernel object>, code='%%time\\n# Use the random grid to search for best ... search model\\nrf_random.fit(X_lex_vec, Y_lex_vec)', silent=False, store_history=True, user_expressions={}, allow_stdin=True)\n    203 \n    204         self._forward_input(allow_stdin)\n    205 \n    206         reply_content = {}\n    207         try:\n--> 208             res = shell.run_cell(code, store_history=store_history, silent=silent)\n        res = undefined\n        shell.run_cell = <bound method ZMQInteractiveShell.run_cell of <ipykernel.zmqshell.ZMQInteractiveShell object>>\n        code = '%%time\\n# Use the random grid to search for best ... search model\\nrf_random.fit(X_lex_vec, Y_lex_vec)'\n        store_history = True\n        silent = False\n    209         finally:\n    210             self._restore_input()\n    211 \n    212         if res.error_before_exec is not None:\n\n...........................................................................\nC:\\ProgramData\\Anaconda3\\lib\\site-packages\\ipykernel\\zmqshell.py in run_cell(self=<ipykernel.zmqshell.ZMQInteractiveShell object>, *args=('%%time\\n# Use the random grid to search for best ... search model\\nrf_random.fit(X_lex_vec, Y_lex_vec)',), **kwargs={'silent': False, 'store_history': True})\n    532             )\n    533         self.payload_manager.write_payload(payload)\n    534 \n    535     def run_cell(self, *args, **kwargs):\n    536         self._last_traceback = None\n--> 537         return super(ZMQInteractiveShell, self).run_cell(*args, **kwargs)\n        self.run_cell = <bound method ZMQInteractiveShell.run_cell of <ipykernel.zmqshell.ZMQInteractiveShell object>>\n        args = ('%%time\\n# Use the random grid to search for best ... search model\\nrf_random.fit(X_lex_vec, Y_lex_vec)',)\n        kwargs = {'silent': False, 'store_history': True}\n    538 \n    539     def _showtraceback(self, etype, evalue, stb):\n    540         # try to preserve ordering of tracebacks and print statements\n    541         sys.stdout.flush()\n\n...........................................................................\nC:\\ProgramData\\Anaconda3\\lib\\site-packages\\IPython\\core\\interactiveshell.py in run_cell(self=<ipykernel.zmqshell.ZMQInteractiveShell object>, raw_cell='%%time\\n# Use the random grid to search for best ... search model\\nrf_random.fit(X_lex_vec, Y_lex_vec)', store_history=True, silent=False, shell_futures=True)\n   2657         -------\n   2658         result : :class:`ExecutionResult`\n   2659         \"\"\"\n   2660         try:\n   2661             result = self._run_cell(\n-> 2662                 raw_cell, store_history, silent, shell_futures)\n        raw_cell = '%%time\\n# Use the random grid to search for best ... search model\\nrf_random.fit(X_lex_vec, Y_lex_vec)'\n        store_history = True\n        silent = False\n        shell_futures = True\n   2663         finally:\n   2664             self.events.trigger('post_execute')\n   2665             if not silent:\n   2666                 self.events.trigger('post_run_cell', result)\n\n...........................................................................\nC:\\ProgramData\\Anaconda3\\lib\\site-packages\\IPython\\core\\interactiveshell.py in _run_cell(self=<ipykernel.zmqshell.ZMQInteractiveShell object>, raw_cell='%%time\\n# Use the random grid to search for best ... search model\\nrf_random.fit(X_lex_vec, Y_lex_vec)', store_history=True, silent=False, shell_futures=True)\n   2780                 self.displayhook.exec_result = result\n   2781 \n   2782                 # Execute the user code\n   2783                 interactivity = 'none' if silent else self.ast_node_interactivity\n   2784                 has_raised = self.run_ast_nodes(code_ast.body, cell_name,\n-> 2785                    interactivity=interactivity, compiler=compiler, result=result)\n        interactivity = 'last_expr'\n        compiler = <IPython.core.compilerop.CachingCompiler object>\n   2786                 \n   2787                 self.last_execution_succeeded = not has_raised\n   2788                 self.last_execution_result = result\n   2789 \n\n...........................................................................\nC:\\ProgramData\\Anaconda3\\lib\\site-packages\\IPython\\core\\interactiveshell.py in run_ast_nodes(self=<ipykernel.zmqshell.ZMQInteractiveShell object>, nodelist=[<_ast.Expr object>], cell_name='<ipython-input-99-9ce6167672c3>', interactivity='last', compiler=<IPython.core.compilerop.CachingCompiler object>, result=<ExecutionResult object at 22dcc533cc0, executio...rue silent=False shell_futures=True> result=None>)\n   2904                     return True\n   2905 \n   2906             for i, node in enumerate(to_run_interactive):\n   2907                 mod = ast.Interactive([node])\n   2908                 code = compiler(mod, cell_name, \"single\")\n-> 2909                 if self.run_code(code, result):\n        self.run_code = <bound method InteractiveShell.run_code of <ipykernel.zmqshell.ZMQInteractiveShell object>>\n        code = <code object <module> at 0x0000022DCC4D6780, file \"<ipython-input-99-9ce6167672c3>\", line 1>\n        result = <ExecutionResult object at 22dcc533cc0, executio...rue silent=False shell_futures=True> result=None>\n   2910                     return True\n   2911 \n   2912             # Flush softspace\n   2913             if softspace(sys.stdout, 0):\n\n...........................................................................\nC:\\ProgramData\\Anaconda3\\lib\\site-packages\\IPython\\core\\interactiveshell.py in run_code(self=<ipykernel.zmqshell.ZMQInteractiveShell object>, code_obj=<code object <module> at 0x0000022DCC4D6780, file \"<ipython-input-99-9ce6167672c3>\", line 1>, result=<ExecutionResult object at 22dcc533cc0, executio...rue silent=False shell_futures=True> result=None>)\n   2958         outflag = True  # happens in more places, so it's easier as default\n   2959         try:\n   2960             try:\n   2961                 self.hooks.pre_run_code_hook()\n   2962                 #rprint('Running code', repr(code_obj)) # dbg\n-> 2963                 exec(code_obj, self.user_global_ns, self.user_ns)\n        code_obj = <code object <module> at 0x0000022DCC4D6780, file \"<ipython-input-99-9ce6167672c3>\", line 1>\n        self.user_global_ns = {'CountVectorizer': <class 'sklearn.feature_extraction.text.CountVectorizer'>, 'DecisionTreeRegressor': <class 'sklearn.tree.tree.DecisionTreeRegressor'>, 'GradientBoostingRegressor': <class 'sklearn.ensemble.gradient_boosting.GradientBoostingRegressor'>, 'In': ['', r\"get_ipython().run_cell_magic('javascript', '', '...dy);\\n$.getScript(\\'ipython_notebook_toc.js\\');')\", 'import pandas as pd\\nimport numpy as np\\nfrom nltk...rs, SGDRegressor\\nfrom sklearn.svm import SVC, SVR', \"rus_lex=pd.read_csv('ruslentilex.csv',';', encoding='cp1251')\\nrus_lex.head()\", 'rus_lex.shape', \"X_lex=rus_lex['word']\\nX_lex.head()\", \"Y_lex=rus_lex['lemm']\\nY_lex.head()\", \"df_train=pd.read_json('train.json', encoding='utf8')\\ndf_train.head()\", \"#stopwords\\nsw_file=open('ru-stopwords.txt')\\nsw=s...e.readlines()\\nsw=[w.replace('\\\\n','') for w in sw]\", 'def ru_token(string):\\n    \"\"\"russian tokenize ba...match(r\\'[\\\\u0400-\\\\u04ffа́]+$\\', i) and i not in sw]', \"#lowercase and delete special chars and leading/...rain['text'].str.lstrip()\\ndf_train['text'].head()\", 'get_ipython().run_cell_magic(\\'time\\', \\'\\', \"from g...ntext_t=[ru_token(s) for s in df_train[\\'text\\']]\")', 'text_t', \"def alpha_vec2(w):\\n    w_len=15\\n    if len(w)<w_... '+str(alpha.find(w[i])))\\n        \\n    return vec\", 'X_lex_vec=[alpha_vec2(w) for w in X_lex]\\nX_lex_vec', 'Y_lex[:2]', \"alpha_vec2('аборт')\", 'Y_lex_vec=[alpha_vec2(w) for w in Y_lex]\\nY_lex_vec', r\"get_ipython().run_cell_magic('time', '', 'model=...arRegression()\\nmodel.fit(X_lex_vec, Y_lex_vec)')\", \"v=model.predict([alpha_vec2('авантюра')])\", ...], 'Lars': <class 'sklearn.linear_model.least_angle.Lars'>, 'LinearRegression': <class 'sklearn.linear_model.base.LinearRegression'>, 'LogisticRegression': <class 'sklearn.linear_model.logistic.LogisticRegression'>, 'Out': {3:           word part_spch          lemm  sentimen...ость      Noun   абсурдность   negative   opinion, 4: (16057, 5), 5: 0          аборт\n1     абортивный\n2    абракадаб...абсурд\n4    абсурдность\nName: word, dtype: object, 6: 0           аборт\n1      абортивный\n2     абрака...бсурд\n4     абсурдность\nName: lemm, dtype: object, 7:      id sentiment                               ...астана. 21 ноября. kazakhstan today - агентств..., 10: 0    досудебное расследование по факту покупки е...tan today - агентств...\nName: text, dtype: object, 12: [['досудебное', 'расследование', 'факту', 'покупки', 'енпф', 'пакета', 'облигаций', 'тоо', 'бузгул', 'аурум', 'начато', 'инициативе', 'национального', 'банка', 'рк', 'сообщил', 'директор', 'департамента', 'защиты', 'прав', ...], ['медики', 'рассказали', 'состоянии', 'пострадавшего', 'мужчины', 'совершено', 'нападение', 'возле', 'отделения', 'банка', 'тимирязева', 'прокомментировали', 'управления', 'здравоохранения', 'алматы', 'места', 'происшествия', 'службу', 'скорой', 'помощи', ...], ['прошел', 'железнодорожным', 'операторам', 'запретили', 'эксплуатировать', 'вагоны', 'продленным', 'сроком', 'службы', 'списано', 'вагонов', 'списала', 'первая', 'грузовая', 'компания', 'владимира', 'лисина', 'вагонов', 'федеральная', 'грузовая', ...], ['итогам', 'месяцев', 'территории', 'республики', 'выпущено', 'единиц', 'автотранспортных', 'средств', 'сумму', 'млрд', 'тенге', 'результата', 'годичной', 'давности', 'натуральном', 'выражении', 'союзе', 'предприятий', 'автомобильной', 'отрасли', ...], ['астана', 'ноября', 'агентство', 'рк', 'делам', 'государственной', 'службы', 'противодействию', 'коррупции', 'выражает', 'обеспокоенность', 'участившимися', 'фактами', 'коррупции', 'квазигосударственном', 'секторе', 'сообщила', 'ведомства', 'согласно', 'сообщению', ...], ['аресте', 'бывшего', 'министра', 'национальной', 'экономики', 'казахстана', 'куандыка', 'бишимбаева', 'сроком', 'месяца', 'азаттыку', 'сообщили', 'городского', 'суда', 'астаны', 'вчера', 'истек', 'срок', 'течение', 'следствие', ...], ['двое', 'налетчиков', 'совершили', 'нападение', 'охранника', 'банка', 'центркредит', 'алматы', 'завладели', 'оружием', 'сообщает', 'двд', 'алматы', 'центр', 'оперативного', 'управления', 'двд', 'города', 'алматы', 'поступило', ...], ['квартале', 'вдвое', 'снизила', 'чистую', 'прибыль', 'мсфо', 'астана', 'мая', 'ао', 'получило', 'чистую', 'прибыль', 'размере', 'млрд', 'тенге', 'раза', 'первом', 'квартале', 'говорится', 'консолидированной', ...], ['половина', 'коррупционных', 'преступлений', 'системе', 'вооруженных', 'сил', 'рк', 'выявлено', 'местных', 'органах', 'военного', 'управления', 'зарегистрировано', 'взяток', 'выдаче', 'военных', 'билетов', 'предоставлению', 'отсрочки', 'призыва', ...], ['чт', 'янв', 'фигурантов', 'дела', 'коррупции', 'ао', 'байтерек', 'управляющий', 'директор', 'компании', 'дильрух', 'анарбай', 'осуждён', 'статье', 'ук', 'рк', 'старой', 'редакции', 'заведомо', 'ложное', ...], ['алматы', 'октября', 'казтаг', 'понизило', 'рейтинги', 'ао', 'қазақстан', 'темір', 'жолы', 'ктж', 'уровня', 'прогноз', 'изменения', 'рейтингов', 'негативный', 'говорится', 'сообщении', 'рейтингового', 'агентства', 'понизило', ...], ['долгожданный', 'план', 'названный', 'министерством', 'национальной', 'экономики', 'стратегией', 'развития', 'казахстана', 'увидел', 'копий', 'сломано', 'экспертов', 'просиживало', 'приемной', 'министра', 'долгими', 'часами', 'внести', 'коррективы', ...], ['ао', 'астана', 'ценные', 'бумаги', 'находятся', 'официальном', 'списке', 'казахстанской', 'фондовой', 'биржи', 'сообщило', 'привлечении', 'филиала', 'должностного', 'лица', 'филиала', 'административной', 'ответственности'], ['молодого', 'павлодарца', 'сломались', 'обе', 'инвалидные', 'коляски', 'ногами', 'связью', 'внешним', 'миром', 'передает', 'информбюро', 'артур', 'руссман', 'решил', 'социальные', 'сети', 'попросить', 'крайне', 'скромной', ...], ['неделю', 'жители', 'астаны', 'страдали', 'смога', 'густая', 'пелена', 'тумана', 'запах', 'гари', 'окутали', 'первыми', 'забили', 'тревогу', 'пользователи', 'социальных', 'сетей', 'выкладывали', 'апокалиптические', 'фото', ...], ['завод', 'переработке', 'масличных', 'культур', 'построили', 'ильичёвке', 'ско', 'месяцев', 'аким', 'области', 'ерик', 'султанов', 'встретился', 'китайской', 'делегацией', 'кнр', 'приехала', 'ознакомления', 'инвестиционным', 'потенциалом', ...], ['регионах', 'продолжаются', 'отчеты', 'местных', 'исполнительных', 'органов', 'проделанной', 'работе', 'планах', 'развития', 'предстоящий', 'посетив', 'рабочим', 'визитом', 'кызылкогинский', 'район', 'аким', 'атырауской', 'области', 'нурлан', ...], ['астана', 'казинформ', 'средний', 'показатель', 'поездок', 'велосипед', 'астане', 'составил', 'москве', 'париже', 'данным', 'системы', 'городского', 'велопроката', 'среднем', 'пользователи', 'системы', 'астане', 'проезжают', 'км', ...], ['активно', 'стимулирует', 'казахстанских', 'экспортеров', 'несырьевой', 'продукции', 'освоению', 'новых', 'зарубежных', 'рынков', 'китайцы', 'берут', 'президент', 'ао', 'баян', 'сулу', 'тимур', 'садыков', 'отмечает', 'китайский', ...], ['оплачивайте', 'комиссий', 'казахтелеком', 'сайте', 'просмотров'], ...], 14: [array([ 1.,  2., 16., 18., 20.,  0.,  0.,  0.,  0.,  0.,  0.,  0.,  0.,\n        0.,  0.]), array([ 1.,  2., 16., 18., 20., 10.,  3., 15., 29., 11.,  0.,  0.,  0.,\n        0.,  0.]), array([ 1.,  2., 18.,  1., 12.,  1.,  5.,  1.,  2., 18.,  1.,  0.,  0.,\n        0.,  0.]), array([ 1.,  2., 19., 21., 18.,  5.,  0.,  0.,  0.,  0.,  0.,  0.,  0.,\n        0.,  0.]), array([ 1.,  2., 19., 21., 18.,  5., 15., 16., 19., 20., 30.,  0.,  0.,\n        0.,  0.]), array([ 1.,  2., 19., 21., 18.,  5., 15., 29., 11.,  0.,  0.,  0.,  0.,\n        0.,  0.]), array([ 1.,  3.,  1., 15., 20., 32., 18.,  1.,  0.,  0.,  0.,  0.,  0.,\n        0.,  0.]), array([ 1.,  3.,  1., 15., 20., 32., 18., 10.,  9., 14.,  0.,  0.,  0.,\n        0.,  0.]), array([ 1.,  3.,  1., 15., 20., 32., 18., 10., 19., 20.,  0.,  0.,  0.,\n        0.,  0.]), array([ 1.,  3.,  1., 15., 20., 32., 18., 10., 19., 20., 10., 25.,  6.,\n       19., 12.]), array([ 1.,  3.,  1., 15., 20., 32., 18., 10., 19., 20., 12.,  1.,  0.,\n        0.,  0.]), array([ 1.,  3.,  1., 15., 20., 32., 18., 10., 19., 20., 19., 12., 10.,\n       11.,  0.]), array([ 1.,  3.,  1., 15., 20., 32., 18., 15., 29., 11.,  0.,  0.,  0.,\n        0.,  0.]), array([ 1.,  3.,  1., 18., 10., 11., 15.,  1., 33.,  0.,  9.,  1., 27.,\n       10., 20.]), array([ 1.,  3.,  1., 18., 10., 11., 15., 16., 19., 20., 30.,  0.,  0.,\n        0.,  0.]), array([ 1.,  3.,  1., 18., 10., 11., 15., 29., 11.,  0.,  0.,  0.,  0.,\n        0.,  0.]), array([ 1.,  3.,  1., 18., 10., 33.,  0.,  0.,  0.,  0.,  0.,  0.,  0.,\n        0.,  0.]), array([ 1.,  3., 10.,  1., 12.,  1., 20.,  1., 19., 20., 18., 16., 22.,\n        1.,  0.]), array([ 1.,  3., 10.,  1., 12., 18., 21., 26.,  6., 15., 10.,  6.,  0.,\n        0.,  0.]), array([ 1.,  3., 10.,  1., 15.,  1., 13.,  6., 20.,  0.,  0.,  0.,  0.,\n        0.,  0.]), ...], 15: 0          аборт\n1     абортивный\nName: lemm, dtype: object, 16: array([ 1.,  2., 16., 18., 20.,  0.,  0.,  0.,  0.,  0.,  0.,  0.,  0.,\n        0.,  0.]), ...}, 'Phraser': <class 'gensim.models.phrases.Phraser'>, 'Phrases': <class 'gensim.models.phrases.Phrases'>, ...}\n        self.user_ns = {'CountVectorizer': <class 'sklearn.feature_extraction.text.CountVectorizer'>, 'DecisionTreeRegressor': <class 'sklearn.tree.tree.DecisionTreeRegressor'>, 'GradientBoostingRegressor': <class 'sklearn.ensemble.gradient_boosting.GradientBoostingRegressor'>, 'In': ['', r\"get_ipython().run_cell_magic('javascript', '', '...dy);\\n$.getScript(\\'ipython_notebook_toc.js\\');')\", 'import pandas as pd\\nimport numpy as np\\nfrom nltk...rs, SGDRegressor\\nfrom sklearn.svm import SVC, SVR', \"rus_lex=pd.read_csv('ruslentilex.csv',';', encoding='cp1251')\\nrus_lex.head()\", 'rus_lex.shape', \"X_lex=rus_lex['word']\\nX_lex.head()\", \"Y_lex=rus_lex['lemm']\\nY_lex.head()\", \"df_train=pd.read_json('train.json', encoding='utf8')\\ndf_train.head()\", \"#stopwords\\nsw_file=open('ru-stopwords.txt')\\nsw=s...e.readlines()\\nsw=[w.replace('\\\\n','') for w in sw]\", 'def ru_token(string):\\n    \"\"\"russian tokenize ba...match(r\\'[\\\\u0400-\\\\u04ffа́]+$\\', i) and i not in sw]', \"#lowercase and delete special chars and leading/...rain['text'].str.lstrip()\\ndf_train['text'].head()\", 'get_ipython().run_cell_magic(\\'time\\', \\'\\', \"from g...ntext_t=[ru_token(s) for s in df_train[\\'text\\']]\")', 'text_t', \"def alpha_vec2(w):\\n    w_len=15\\n    if len(w)<w_... '+str(alpha.find(w[i])))\\n        \\n    return vec\", 'X_lex_vec=[alpha_vec2(w) for w in X_lex]\\nX_lex_vec', 'Y_lex[:2]', \"alpha_vec2('аборт')\", 'Y_lex_vec=[alpha_vec2(w) for w in Y_lex]\\nY_lex_vec', r\"get_ipython().run_cell_magic('time', '', 'model=...arRegression()\\nmodel.fit(X_lex_vec, Y_lex_vec)')\", \"v=model.predict([alpha_vec2('авантюра')])\", ...], 'Lars': <class 'sklearn.linear_model.least_angle.Lars'>, 'LinearRegression': <class 'sklearn.linear_model.base.LinearRegression'>, 'LogisticRegression': <class 'sklearn.linear_model.logistic.LogisticRegression'>, 'Out': {3:           word part_spch          lemm  sentimen...ость      Noun   абсурдность   negative   opinion, 4: (16057, 5), 5: 0          аборт\n1     абортивный\n2    абракадаб...абсурд\n4    абсурдность\nName: word, dtype: object, 6: 0           аборт\n1      абортивный\n2     абрака...бсурд\n4     абсурдность\nName: lemm, dtype: object, 7:      id sentiment                               ...астана. 21 ноября. kazakhstan today - агентств..., 10: 0    досудебное расследование по факту покупки е...tan today - агентств...\nName: text, dtype: object, 12: [['досудебное', 'расследование', 'факту', 'покупки', 'енпф', 'пакета', 'облигаций', 'тоо', 'бузгул', 'аурум', 'начато', 'инициативе', 'национального', 'банка', 'рк', 'сообщил', 'директор', 'департамента', 'защиты', 'прав', ...], ['медики', 'рассказали', 'состоянии', 'пострадавшего', 'мужчины', 'совершено', 'нападение', 'возле', 'отделения', 'банка', 'тимирязева', 'прокомментировали', 'управления', 'здравоохранения', 'алматы', 'места', 'происшествия', 'службу', 'скорой', 'помощи', ...], ['прошел', 'железнодорожным', 'операторам', 'запретили', 'эксплуатировать', 'вагоны', 'продленным', 'сроком', 'службы', 'списано', 'вагонов', 'списала', 'первая', 'грузовая', 'компания', 'владимира', 'лисина', 'вагонов', 'федеральная', 'грузовая', ...], ['итогам', 'месяцев', 'территории', 'республики', 'выпущено', 'единиц', 'автотранспортных', 'средств', 'сумму', 'млрд', 'тенге', 'результата', 'годичной', 'давности', 'натуральном', 'выражении', 'союзе', 'предприятий', 'автомобильной', 'отрасли', ...], ['астана', 'ноября', 'агентство', 'рк', 'делам', 'государственной', 'службы', 'противодействию', 'коррупции', 'выражает', 'обеспокоенность', 'участившимися', 'фактами', 'коррупции', 'квазигосударственном', 'секторе', 'сообщила', 'ведомства', 'согласно', 'сообщению', ...], ['аресте', 'бывшего', 'министра', 'национальной', 'экономики', 'казахстана', 'куандыка', 'бишимбаева', 'сроком', 'месяца', 'азаттыку', 'сообщили', 'городского', 'суда', 'астаны', 'вчера', 'истек', 'срок', 'течение', 'следствие', ...], ['двое', 'налетчиков', 'совершили', 'нападение', 'охранника', 'банка', 'центркредит', 'алматы', 'завладели', 'оружием', 'сообщает', 'двд', 'алматы', 'центр', 'оперативного', 'управления', 'двд', 'города', 'алматы', 'поступило', ...], ['квартале', 'вдвое', 'снизила', 'чистую', 'прибыль', 'мсфо', 'астана', 'мая', 'ао', 'получило', 'чистую', 'прибыль', 'размере', 'млрд', 'тенге', 'раза', 'первом', 'квартале', 'говорится', 'консолидированной', ...], ['половина', 'коррупционных', 'преступлений', 'системе', 'вооруженных', 'сил', 'рк', 'выявлено', 'местных', 'органах', 'военного', 'управления', 'зарегистрировано', 'взяток', 'выдаче', 'военных', 'билетов', 'предоставлению', 'отсрочки', 'призыва', ...], ['чт', 'янв', 'фигурантов', 'дела', 'коррупции', 'ао', 'байтерек', 'управляющий', 'директор', 'компании', 'дильрух', 'анарбай', 'осуждён', 'статье', 'ук', 'рк', 'старой', 'редакции', 'заведомо', 'ложное', ...], ['алматы', 'октября', 'казтаг', 'понизило', 'рейтинги', 'ао', 'қазақстан', 'темір', 'жолы', 'ктж', 'уровня', 'прогноз', 'изменения', 'рейтингов', 'негативный', 'говорится', 'сообщении', 'рейтингового', 'агентства', 'понизило', ...], ['долгожданный', 'план', 'названный', 'министерством', 'национальной', 'экономики', 'стратегией', 'развития', 'казахстана', 'увидел', 'копий', 'сломано', 'экспертов', 'просиживало', 'приемной', 'министра', 'долгими', 'часами', 'внести', 'коррективы', ...], ['ао', 'астана', 'ценные', 'бумаги', 'находятся', 'официальном', 'списке', 'казахстанской', 'фондовой', 'биржи', 'сообщило', 'привлечении', 'филиала', 'должностного', 'лица', 'филиала', 'административной', 'ответственности'], ['молодого', 'павлодарца', 'сломались', 'обе', 'инвалидные', 'коляски', 'ногами', 'связью', 'внешним', 'миром', 'передает', 'информбюро', 'артур', 'руссман', 'решил', 'социальные', 'сети', 'попросить', 'крайне', 'скромной', ...], ['неделю', 'жители', 'астаны', 'страдали', 'смога', 'густая', 'пелена', 'тумана', 'запах', 'гари', 'окутали', 'первыми', 'забили', 'тревогу', 'пользователи', 'социальных', 'сетей', 'выкладывали', 'апокалиптические', 'фото', ...], ['завод', 'переработке', 'масличных', 'культур', 'построили', 'ильичёвке', 'ско', 'месяцев', 'аким', 'области', 'ерик', 'султанов', 'встретился', 'китайской', 'делегацией', 'кнр', 'приехала', 'ознакомления', 'инвестиционным', 'потенциалом', ...], ['регионах', 'продолжаются', 'отчеты', 'местных', 'исполнительных', 'органов', 'проделанной', 'работе', 'планах', 'развития', 'предстоящий', 'посетив', 'рабочим', 'визитом', 'кызылкогинский', 'район', 'аким', 'атырауской', 'области', 'нурлан', ...], ['астана', 'казинформ', 'средний', 'показатель', 'поездок', 'велосипед', 'астане', 'составил', 'москве', 'париже', 'данным', 'системы', 'городского', 'велопроката', 'среднем', 'пользователи', 'системы', 'астане', 'проезжают', 'км', ...], ['активно', 'стимулирует', 'казахстанских', 'экспортеров', 'несырьевой', 'продукции', 'освоению', 'новых', 'зарубежных', 'рынков', 'китайцы', 'берут', 'президент', 'ао', 'баян', 'сулу', 'тимур', 'садыков', 'отмечает', 'китайский', ...], ['оплачивайте', 'комиссий', 'казахтелеком', 'сайте', 'просмотров'], ...], 14: [array([ 1.,  2., 16., 18., 20.,  0.,  0.,  0.,  0.,  0.,  0.,  0.,  0.,\n        0.,  0.]), array([ 1.,  2., 16., 18., 20., 10.,  3., 15., 29., 11.,  0.,  0.,  0.,\n        0.,  0.]), array([ 1.,  2., 18.,  1., 12.,  1.,  5.,  1.,  2., 18.,  1.,  0.,  0.,\n        0.,  0.]), array([ 1.,  2., 19., 21., 18.,  5.,  0.,  0.,  0.,  0.,  0.,  0.,  0.,\n        0.,  0.]), array([ 1.,  2., 19., 21., 18.,  5., 15., 16., 19., 20., 30.,  0.,  0.,\n        0.,  0.]), array([ 1.,  2., 19., 21., 18.,  5., 15., 29., 11.,  0.,  0.,  0.,  0.,\n        0.,  0.]), array([ 1.,  3.,  1., 15., 20., 32., 18.,  1.,  0.,  0.,  0.,  0.,  0.,\n        0.,  0.]), array([ 1.,  3.,  1., 15., 20., 32., 18., 10.,  9., 14.,  0.,  0.,  0.,\n        0.,  0.]), array([ 1.,  3.,  1., 15., 20., 32., 18., 10., 19., 20.,  0.,  0.,  0.,\n        0.,  0.]), array([ 1.,  3.,  1., 15., 20., 32., 18., 10., 19., 20., 10., 25.,  6.,\n       19., 12.]), array([ 1.,  3.,  1., 15., 20., 32., 18., 10., 19., 20., 12.,  1.,  0.,\n        0.,  0.]), array([ 1.,  3.,  1., 15., 20., 32., 18., 10., 19., 20., 19., 12., 10.,\n       11.,  0.]), array([ 1.,  3.,  1., 15., 20., 32., 18., 15., 29., 11.,  0.,  0.,  0.,\n        0.,  0.]), array([ 1.,  3.,  1., 18., 10., 11., 15.,  1., 33.,  0.,  9.,  1., 27.,\n       10., 20.]), array([ 1.,  3.,  1., 18., 10., 11., 15., 16., 19., 20., 30.,  0.,  0.,\n        0.,  0.]), array([ 1.,  3.,  1., 18., 10., 11., 15., 29., 11.,  0.,  0.,  0.,  0.,\n        0.,  0.]), array([ 1.,  3.,  1., 18., 10., 33.,  0.,  0.,  0.,  0.,  0.,  0.,  0.,\n        0.,  0.]), array([ 1.,  3., 10.,  1., 12.,  1., 20.,  1., 19., 20., 18., 16., 22.,\n        1.,  0.]), array([ 1.,  3., 10.,  1., 12., 18., 21., 26.,  6., 15., 10.,  6.,  0.,\n        0.,  0.]), array([ 1.,  3., 10.,  1., 15.,  1., 13.,  6., 20.,  0.,  0.,  0.,  0.,\n        0.,  0.]), ...], 15: 0          аборт\n1     абортивный\nName: lemm, dtype: object, 16: array([ 1.,  2., 16., 18., 20.,  0.,  0.,  0.,  0.,  0.,  0.,  0.,  0.,\n        0.,  0.]), ...}, 'Phraser': <class 'gensim.models.phrases.Phraser'>, 'Phrases': <class 'gensim.models.phrases.Phrases'>, ...}\n   2964             finally:\n   2965                 # Reset our crash handler in place\n   2966                 sys.excepthook = old_excepthook\n   2967         except SystemExit as e:\n\n...........................................................................\nC:\\Users\\user320\\YandexDisk\\MedMon\\app\\kaggle\\<ipython-input-99-9ce6167672c3> in <module>()\n----> 1 get_ipython().run_cell_magic('time', '', '# Use the random grid to search for best hyperparameters\\n# First create the base model to tune\\nrf = models[3]\\n# Random search of parameters, using 3 fold cross validation, \\n# search across 100 different combinations, and use all available cores\\nrf_random = RandomizedSearchCV(estimator = rf, param_distributions = random_grid, n_iter = 100, cv = 3, verbose=2, random_state=42, n_jobs = -1)\\n# Fit the random search model\\nrf_random.fit(X_lex_vec, Y_lex_vec)')\n\n...........................................................................\nC:\\ProgramData\\Anaconda3\\lib\\site-packages\\IPython\\core\\interactiveshell.py in run_cell_magic(self=<ipykernel.zmqshell.ZMQInteractiveShell object>, magic_name='time', line='', cell='# Use the random grid to search for best hyperpa... search model\\nrf_random.fit(X_lex_vec, Y_lex_vec)')\n   2162             # This will need to be updated if the internal calling logic gets\n   2163             # refactored, or else we'll be expanding the wrong variables.\n   2164             stack_depth = 2\n   2165             magic_arg_s = self.var_expand(line, stack_depth)\n   2166             with self.builtin_trap:\n-> 2167                 result = fn(magic_arg_s, cell)\n        result = undefined\n        fn = <bound method ExecutionMagics.time of <IPython.core.magics.execution.ExecutionMagics object>>\n        magic_arg_s = ''\n        cell = '# Use the random grid to search for best hyperpa... search model\\nrf_random.fit(X_lex_vec, Y_lex_vec)'\n   2168             return result\n   2169 \n   2170     def find_line_magic(self, magic_name):\n   2171         \"\"\"Find and return a line magic by name.\n\n...........................................................................\nC:\\Users\\user320\\YandexDisk\\MedMon\\app\\kaggle\\<decorator-gen-63> in time(self=<IPython.core.magics.execution.ExecutionMagics object>, line='', cell='# Use the random grid to search for best hyperpa... search model\\nrf_random.fit(X_lex_vec, Y_lex_vec)', local_ns=None)\n\n...........................................................................\nC:\\ProgramData\\Anaconda3\\lib\\site-packages\\IPython\\core\\magic.py in <lambda>(f=<function ExecutionMagics.time>, *a=(<IPython.core.magics.execution.ExecutionMagics object>, '', '# Use the random grid to search for best hyperpa... search model\\nrf_random.fit(X_lex_vec, Y_lex_vec)', None), **k={})\n    182     validate_type(magic_kind)\n    183 \n    184     # This is a closure to capture the magic_kind.  We could also use a class,\n    185     # but it's overkill for just that one bit of state.\n    186     def magic_deco(arg):\n--> 187         call = lambda f, *a, **k: f(*a, **k)\n        f = <function ExecutionMagics.time>\n        a = (<IPython.core.magics.execution.ExecutionMagics object>, '', '# Use the random grid to search for best hyperpa... search model\\nrf_random.fit(X_lex_vec, Y_lex_vec)', None)\n        k = {}\n    188 \n    189         if callable(arg):\n    190             # \"Naked\" decorator call (just @foo, no args)\n    191             func = arg\n\n...........................................................................\nC:\\ProgramData\\Anaconda3\\lib\\site-packages\\IPython\\core\\magics\\execution.py in time(self=<IPython.core.magics.execution.ExecutionMagics object>, line='', cell='# Use the random grid to search for best hyperpa... search model\\nrf_random.fit(X_lex_vec, Y_lex_vec)', local_ns=None)\n   1233                 return\n   1234             end = clock2()\n   1235         else:\n   1236             st = clock2()\n   1237             try:\n-> 1238                 exec(code, glob, local_ns)\n        code = <code object <module> at 0x0000022DCC529030, file \"<timed exec>\", line 3>\n        glob = {'CountVectorizer': <class 'sklearn.feature_extraction.text.CountVectorizer'>, 'DecisionTreeRegressor': <class 'sklearn.tree.tree.DecisionTreeRegressor'>, 'GradientBoostingRegressor': <class 'sklearn.ensemble.gradient_boosting.GradientBoostingRegressor'>, 'In': ['', r\"get_ipython().run_cell_magic('javascript', '', '...dy);\\n$.getScript(\\'ipython_notebook_toc.js\\');')\", 'import pandas as pd\\nimport numpy as np\\nfrom nltk...rs, SGDRegressor\\nfrom sklearn.svm import SVC, SVR', \"rus_lex=pd.read_csv('ruslentilex.csv',';', encoding='cp1251')\\nrus_lex.head()\", 'rus_lex.shape', \"X_lex=rus_lex['word']\\nX_lex.head()\", \"Y_lex=rus_lex['lemm']\\nY_lex.head()\", \"df_train=pd.read_json('train.json', encoding='utf8')\\ndf_train.head()\", \"#stopwords\\nsw_file=open('ru-stopwords.txt')\\nsw=s...e.readlines()\\nsw=[w.replace('\\\\n','') for w in sw]\", 'def ru_token(string):\\n    \"\"\"russian tokenize ba...match(r\\'[\\\\u0400-\\\\u04ffа́]+$\\', i) and i not in sw]', \"#lowercase and delete special chars and leading/...rain['text'].str.lstrip()\\ndf_train['text'].head()\", 'get_ipython().run_cell_magic(\\'time\\', \\'\\', \"from g...ntext_t=[ru_token(s) for s in df_train[\\'text\\']]\")', 'text_t', \"def alpha_vec2(w):\\n    w_len=15\\n    if len(w)<w_... '+str(alpha.find(w[i])))\\n        \\n    return vec\", 'X_lex_vec=[alpha_vec2(w) for w in X_lex]\\nX_lex_vec', 'Y_lex[:2]', \"alpha_vec2('аборт')\", 'Y_lex_vec=[alpha_vec2(w) for w in Y_lex]\\nY_lex_vec', r\"get_ipython().run_cell_magic('time', '', 'model=...arRegression()\\nmodel.fit(X_lex_vec, Y_lex_vec)')\", \"v=model.predict([alpha_vec2('авантюра')])\", ...], 'Lars': <class 'sklearn.linear_model.least_angle.Lars'>, 'LinearRegression': <class 'sklearn.linear_model.base.LinearRegression'>, 'LogisticRegression': <class 'sklearn.linear_model.logistic.LogisticRegression'>, 'Out': {3:           word part_spch          lemm  sentimen...ость      Noun   абсурдность   negative   opinion, 4: (16057, 5), 5: 0          аборт\n1     абортивный\n2    абракадаб...абсурд\n4    абсурдность\nName: word, dtype: object, 6: 0           аборт\n1      абортивный\n2     абрака...бсурд\n4     абсурдность\nName: lemm, dtype: object, 7:      id sentiment                               ...астана. 21 ноября. kazakhstan today - агентств..., 10: 0    досудебное расследование по факту покупки е...tan today - агентств...\nName: text, dtype: object, 12: [['досудебное', 'расследование', 'факту', 'покупки', 'енпф', 'пакета', 'облигаций', 'тоо', 'бузгул', 'аурум', 'начато', 'инициативе', 'национального', 'банка', 'рк', 'сообщил', 'директор', 'департамента', 'защиты', 'прав', ...], ['медики', 'рассказали', 'состоянии', 'пострадавшего', 'мужчины', 'совершено', 'нападение', 'возле', 'отделения', 'банка', 'тимирязева', 'прокомментировали', 'управления', 'здравоохранения', 'алматы', 'места', 'происшествия', 'службу', 'скорой', 'помощи', ...], ['прошел', 'железнодорожным', 'операторам', 'запретили', 'эксплуатировать', 'вагоны', 'продленным', 'сроком', 'службы', 'списано', 'вагонов', 'списала', 'первая', 'грузовая', 'компания', 'владимира', 'лисина', 'вагонов', 'федеральная', 'грузовая', ...], ['итогам', 'месяцев', 'территории', 'республики', 'выпущено', 'единиц', 'автотранспортных', 'средств', 'сумму', 'млрд', 'тенге', 'результата', 'годичной', 'давности', 'натуральном', 'выражении', 'союзе', 'предприятий', 'автомобильной', 'отрасли', ...], ['астана', 'ноября', 'агентство', 'рк', 'делам', 'государственной', 'службы', 'противодействию', 'коррупции', 'выражает', 'обеспокоенность', 'участившимися', 'фактами', 'коррупции', 'квазигосударственном', 'секторе', 'сообщила', 'ведомства', 'согласно', 'сообщению', ...], ['аресте', 'бывшего', 'министра', 'национальной', 'экономики', 'казахстана', 'куандыка', 'бишимбаева', 'сроком', 'месяца', 'азаттыку', 'сообщили', 'городского', 'суда', 'астаны', 'вчера', 'истек', 'срок', 'течение', 'следствие', ...], ['двое', 'налетчиков', 'совершили', 'нападение', 'охранника', 'банка', 'центркредит', 'алматы', 'завладели', 'оружием', 'сообщает', 'двд', 'алматы', 'центр', 'оперативного', 'управления', 'двд', 'города', 'алматы', 'поступило', ...], ['квартале', 'вдвое', 'снизила', 'чистую', 'прибыль', 'мсфо', 'астана', 'мая', 'ао', 'получило', 'чистую', 'прибыль', 'размере', 'млрд', 'тенге', 'раза', 'первом', 'квартале', 'говорится', 'консолидированной', ...], ['половина', 'коррупционных', 'преступлений', 'системе', 'вооруженных', 'сил', 'рк', 'выявлено', 'местных', 'органах', 'военного', 'управления', 'зарегистрировано', 'взяток', 'выдаче', 'военных', 'билетов', 'предоставлению', 'отсрочки', 'призыва', ...], ['чт', 'янв', 'фигурантов', 'дела', 'коррупции', 'ао', 'байтерек', 'управляющий', 'директор', 'компании', 'дильрух', 'анарбай', 'осуждён', 'статье', 'ук', 'рк', 'старой', 'редакции', 'заведомо', 'ложное', ...], ['алматы', 'октября', 'казтаг', 'понизило', 'рейтинги', 'ао', 'қазақстан', 'темір', 'жолы', 'ктж', 'уровня', 'прогноз', 'изменения', 'рейтингов', 'негативный', 'говорится', 'сообщении', 'рейтингового', 'агентства', 'понизило', ...], ['долгожданный', 'план', 'названный', 'министерством', 'национальной', 'экономики', 'стратегией', 'развития', 'казахстана', 'увидел', 'копий', 'сломано', 'экспертов', 'просиживало', 'приемной', 'министра', 'долгими', 'часами', 'внести', 'коррективы', ...], ['ао', 'астана', 'ценные', 'бумаги', 'находятся', 'официальном', 'списке', 'казахстанской', 'фондовой', 'биржи', 'сообщило', 'привлечении', 'филиала', 'должностного', 'лица', 'филиала', 'административной', 'ответственности'], ['молодого', 'павлодарца', 'сломались', 'обе', 'инвалидные', 'коляски', 'ногами', 'связью', 'внешним', 'миром', 'передает', 'информбюро', 'артур', 'руссман', 'решил', 'социальные', 'сети', 'попросить', 'крайне', 'скромной', ...], ['неделю', 'жители', 'астаны', 'страдали', 'смога', 'густая', 'пелена', 'тумана', 'запах', 'гари', 'окутали', 'первыми', 'забили', 'тревогу', 'пользователи', 'социальных', 'сетей', 'выкладывали', 'апокалиптические', 'фото', ...], ['завод', 'переработке', 'масличных', 'культур', 'построили', 'ильичёвке', 'ско', 'месяцев', 'аким', 'области', 'ерик', 'султанов', 'встретился', 'китайской', 'делегацией', 'кнр', 'приехала', 'ознакомления', 'инвестиционным', 'потенциалом', ...], ['регионах', 'продолжаются', 'отчеты', 'местных', 'исполнительных', 'органов', 'проделанной', 'работе', 'планах', 'развития', 'предстоящий', 'посетив', 'рабочим', 'визитом', 'кызылкогинский', 'район', 'аким', 'атырауской', 'области', 'нурлан', ...], ['астана', 'казинформ', 'средний', 'показатель', 'поездок', 'велосипед', 'астане', 'составил', 'москве', 'париже', 'данным', 'системы', 'городского', 'велопроката', 'среднем', 'пользователи', 'системы', 'астане', 'проезжают', 'км', ...], ['активно', 'стимулирует', 'казахстанских', 'экспортеров', 'несырьевой', 'продукции', 'освоению', 'новых', 'зарубежных', 'рынков', 'китайцы', 'берут', 'президент', 'ао', 'баян', 'сулу', 'тимур', 'садыков', 'отмечает', 'китайский', ...], ['оплачивайте', 'комиссий', 'казахтелеком', 'сайте', 'просмотров'], ...], 14: [array([ 1.,  2., 16., 18., 20.,  0.,  0.,  0.,  0.,  0.,  0.,  0.,  0.,\n        0.,  0.]), array([ 1.,  2., 16., 18., 20., 10.,  3., 15., 29., 11.,  0.,  0.,  0.,\n        0.,  0.]), array([ 1.,  2., 18.,  1., 12.,  1.,  5.,  1.,  2., 18.,  1.,  0.,  0.,\n        0.,  0.]), array([ 1.,  2., 19., 21., 18.,  5.,  0.,  0.,  0.,  0.,  0.,  0.,  0.,\n        0.,  0.]), array([ 1.,  2., 19., 21., 18.,  5., 15., 16., 19., 20., 30.,  0.,  0.,\n        0.,  0.]), array([ 1.,  2., 19., 21., 18.,  5., 15., 29., 11.,  0.,  0.,  0.,  0.,\n        0.,  0.]), array([ 1.,  3.,  1., 15., 20., 32., 18.,  1.,  0.,  0.,  0.,  0.,  0.,\n        0.,  0.]), array([ 1.,  3.,  1., 15., 20., 32., 18., 10.,  9., 14.,  0.,  0.,  0.,\n        0.,  0.]), array([ 1.,  3.,  1., 15., 20., 32., 18., 10., 19., 20.,  0.,  0.,  0.,\n        0.,  0.]), array([ 1.,  3.,  1., 15., 20., 32., 18., 10., 19., 20., 10., 25.,  6.,\n       19., 12.]), array([ 1.,  3.,  1., 15., 20., 32., 18., 10., 19., 20., 12.,  1.,  0.,\n        0.,  0.]), array([ 1.,  3.,  1., 15., 20., 32., 18., 10., 19., 20., 19., 12., 10.,\n       11.,  0.]), array([ 1.,  3.,  1., 15., 20., 32., 18., 15., 29., 11.,  0.,  0.,  0.,\n        0.,  0.]), array([ 1.,  3.,  1., 18., 10., 11., 15.,  1., 33.,  0.,  9.,  1., 27.,\n       10., 20.]), array([ 1.,  3.,  1., 18., 10., 11., 15., 16., 19., 20., 30.,  0.,  0.,\n        0.,  0.]), array([ 1.,  3.,  1., 18., 10., 11., 15., 29., 11.,  0.,  0.,  0.,  0.,\n        0.,  0.]), array([ 1.,  3.,  1., 18., 10., 33.,  0.,  0.,  0.,  0.,  0.,  0.,  0.,\n        0.,  0.]), array([ 1.,  3., 10.,  1., 12.,  1., 20.,  1., 19., 20., 18., 16., 22.,\n        1.,  0.]), array([ 1.,  3., 10.,  1., 12., 18., 21., 26.,  6., 15., 10.,  6.,  0.,\n        0.,  0.]), array([ 1.,  3., 10.,  1., 15.,  1., 13.,  6., 20.,  0.,  0.,  0.,  0.,\n        0.,  0.]), ...], 15: 0          аборт\n1     абортивный\nName: lemm, dtype: object, 16: array([ 1.,  2., 16., 18., 20.,  0.,  0.,  0.,  0.,  0.,  0.,  0.,  0.,\n        0.,  0.]), ...}, 'Phraser': <class 'gensim.models.phrases.Phraser'>, 'Phrases': <class 'gensim.models.phrases.Phrases'>, ...}\n        local_ns = None\n   1239             except:\n   1240                 self.shell.showtraceback()\n   1241                 return\n   1242             end = clock2()\n\n...........................................................................\nC:\\Users\\user320\\YandexDisk\\MedMon\\app\\kaggle\\<timed exec> in <module>()\n\n...........................................................................\nC:\\ProgramData\\Anaconda3\\lib\\site-packages\\sklearn\\model_selection\\_search.py in fit(self=RandomizedSearchCV(cv=3, error_score='raise',\n  ...turn_train_score='warn', scoring=None, verbose=2), X=[array([ 1.,  0., 12., 16., 15., 20., 16.,  0.,  0.,  0.,  0.,  0.,  0.,\n        0.,  0.]), array([ 1.,  1., 18.,  6.,  0.,  0.,  0.,  0.,  0.,  0.,  0.,  0.,  0.,\n        0.,  0.]), array([ 1.,  1., 18., 16., 15., 16.,  3., 27., 10., 15.,  0.,  0.,  0.,\n        0.,  0.]), array([ 1.,  1., 18., 16., 15., 16.,  3., 27., 10., 15.,  1., 14.,  0.,\n        0.,  0.]), array([ 1.,  1., 18., 16., 15., 16.,  3., 27., 10., 15.,  1., 14., 10.,\n        0.,  0.]), array([ 1.,  1., 18., 16., 15., 16.,  3., 27., 10., 15.,  1., 23.,  0.,\n        0.,  0.]), array([ 1.,  1., 18., 16., 15., 16.,  3., 27., 10., 15.,  6.,  0.,  0.,\n        0.,  0.]), array([ 1.,  1., 18., 16., 15., 16.,  3., 27., 10., 15., 16., 11.,  0.,\n        0.,  0.]), array([ 1.,  1., 18., 16., 15., 16.,  3., 27., 10., 15., 21.,  0.,  0.,\n        0.,  0.]), array([ 1.,  1., 18., 16., 15., 16.,  3., 27., 10., 15., 29.,  0.,  0.,\n        0.,  0.]), array([ 1.,  1., 23.,  6., 15.,  0.,  0.,  0.,  0.,  0.,  0.,  0.,  0.,\n        0.,  0.]), array([ 1.,  1., 23.,  6., 15.,  1.,  0.,  0.,  0.,  0.,  0.,  0.,  0.,\n        0.,  0.]), array([ 1.,  1., 23.,  6., 15.,  1., 14.,  0.,  0.,  0.,  0.,  0.,  0.,\n        0.,  0.]), array([ 1.,  1., 23.,  6., 15.,  1., 14., 10.,  0.,  0.,  0.,  0.,  0.,\n        0.,  0.]), array([ 1.,  1., 23.,  6., 15.,  1., 23.,  0.,  0.,  0.,  0.,  0.,  0.,\n        0.,  0.]), array([ 1.,  1., 23.,  6., 15.,  6.,  0.,  0.,  0.,  0.,  0.,  0.,  0.,\n        0.,  0.]), array([ 1.,  1., 23.,  6., 15., 16.,  3.,  0.,  0.,  0.,  0.,  0.,  0.,\n        0.,  0.]), array([ 1.,  1., 23.,  6., 15., 16., 14.,  0.,  0.,  0.,  0.,  0.,  0.,\n        0.,  0.]), array([ 1.,  1., 23.,  6., 15., 21.,  0.,  0.,  0.,  0.,  0.,  0.,  0.,\n        0.,  0.]), array([ 1.,  1., 23.,  6., 15., 29.,  0.,  0.,  0.,  0.,  0.,  0.,  0.,\n        0.,  0.]), ...], y=[array([ 1.,  0., 12., 16., 15., 20., 16.,  0.,  0.,  0.,  0.,  0.,  0.,\n        0.,  0.]), array([ 1.,  1., 18.,  6.,  0.,  0.,  0.,  0.,  0.,  0.,  0.,  0.,  0.,\n        0.,  0.]), array([ 1.,  1., 18., 16., 15., 16.,  3., 27., 10., 15.,  1.,  0.,  0.,\n        0.,  0.]), array([ 1.,  1., 18., 16., 15., 16.,  3., 27., 10., 15.,  1.,  0.,  0.,\n        0.,  0.]), array([ 1.,  1., 18., 16., 15., 16.,  3., 27., 10., 15.,  1.,  0.,  0.,\n        0.,  0.]), array([ 1.,  1., 18., 16., 15., 16.,  3., 27., 10., 15.,  1.,  0.,  0.,\n        0.,  0.]), array([ 1.,  1., 18., 16., 15., 16.,  3., 27., 10., 15.,  1.,  0.,  0.,\n        0.,  0.]), array([ 1.,  1., 18., 16., 15., 16.,  3., 27., 10., 15.,  1.,  0.,  0.,\n        0.,  0.]), array([ 1.,  1., 18., 16., 15., 16.,  3., 27., 10., 15.,  1.,  0.,  0.,\n        0.,  0.]), array([ 1.,  1., 18., 16., 15., 16.,  3., 27., 10., 15.,  1.,  0.,  0.,\n        0.,  0.]), array([ 1.,  1., 23.,  6., 15.,  0.,  0.,  0.,  0.,  0.,  0.,  0.,  0.,\n        0.,  0.]), array([ 1.,  1., 23.,  6., 15.,  0.,  0.,  0.,  0.,  0.,  0.,  0.,  0.,\n        0.,  0.]), array([ 1.,  1., 23.,  6., 15.,  0.,  0.,  0.,  0.,  0.,  0.,  0.,  0.,\n        0.,  0.]), array([ 1.,  1., 23.,  6., 15.,  0.,  0.,  0.,  0.,  0.,  0.,  0.,  0.,\n        0.,  0.]), array([ 1.,  1., 23.,  6., 15.,  0.,  0.,  0.,  0.,  0.,  0.,  0.,  0.,\n        0.,  0.]), array([ 1.,  1., 23.,  6., 15.,  0.,  0.,  0.,  0.,  0.,  0.,  0.,  0.,\n        0.,  0.]), array([ 1.,  1., 23.,  6., 15.,  0.,  0.,  0.,  0.,  0.,  0.,  0.,  0.,\n        0.,  0.]), array([ 1.,  1., 23.,  6., 15.,  0.,  0.,  0.,  0.,  0.,  0.,  0.,  0.,\n        0.,  0.]), array([ 1.,  1., 23.,  6., 15.,  0.,  0.,  0.,  0.,  0.,  0.,  0.,  0.,\n        0.,  0.]), array([ 1.,  1., 23.,  6., 15.,  0.,  0.,  0.,  0.,  0.,  0.,  0.,  0.,\n        0.,  0.]), ...], groups=None, **fit_params={})\n    634                                   return_train_score=self.return_train_score,\n    635                                   return_n_test_samples=True,\n    636                                   return_times=True, return_parameters=False,\n    637                                   error_score=self.error_score)\n    638           for parameters, (train, test) in product(candidate_params,\n--> 639                                                    cv.split(X, y, groups)))\n        cv.split = <bound method _BaseKFold.split of KFold(n_splits=3, random_state=None, shuffle=False)>\n        X = [array([ 1.,  0., 12., 16., 15., 20., 16.,  0.,  0.,  0.,  0.,  0.,  0.,\n        0.,  0.]), array([ 1.,  1., 18.,  6.,  0.,  0.,  0.,  0.,  0.,  0.,  0.,  0.,  0.,\n        0.,  0.]), array([ 1.,  1., 18., 16., 15., 16.,  3., 27., 10., 15.,  0.,  0.,  0.,\n        0.,  0.]), array([ 1.,  1., 18., 16., 15., 16.,  3., 27., 10., 15.,  1., 14.,  0.,\n        0.,  0.]), array([ 1.,  1., 18., 16., 15., 16.,  3., 27., 10., 15.,  1., 14., 10.,\n        0.,  0.]), array([ 1.,  1., 18., 16., 15., 16.,  3., 27., 10., 15.,  1., 23.,  0.,\n        0.,  0.]), array([ 1.,  1., 18., 16., 15., 16.,  3., 27., 10., 15.,  6.,  0.,  0.,\n        0.,  0.]), array([ 1.,  1., 18., 16., 15., 16.,  3., 27., 10., 15., 16., 11.,  0.,\n        0.,  0.]), array([ 1.,  1., 18., 16., 15., 16.,  3., 27., 10., 15., 21.,  0.,  0.,\n        0.,  0.]), array([ 1.,  1., 18., 16., 15., 16.,  3., 27., 10., 15., 29.,  0.,  0.,\n        0.,  0.]), array([ 1.,  1., 23.,  6., 15.,  0.,  0.,  0.,  0.,  0.,  0.,  0.,  0.,\n        0.,  0.]), array([ 1.,  1., 23.,  6., 15.,  1.,  0.,  0.,  0.,  0.,  0.,  0.,  0.,\n        0.,  0.]), array([ 1.,  1., 23.,  6., 15.,  1., 14.,  0.,  0.,  0.,  0.,  0.,  0.,\n        0.,  0.]), array([ 1.,  1., 23.,  6., 15.,  1., 14., 10.,  0.,  0.,  0.,  0.,  0.,\n        0.,  0.]), array([ 1.,  1., 23.,  6., 15.,  1., 23.,  0.,  0.,  0.,  0.,  0.,  0.,\n        0.,  0.]), array([ 1.,  1., 23.,  6., 15.,  6.,  0.,  0.,  0.,  0.,  0.,  0.,  0.,\n        0.,  0.]), array([ 1.,  1., 23.,  6., 15., 16.,  3.,  0.,  0.,  0.,  0.,  0.,  0.,\n        0.,  0.]), array([ 1.,  1., 23.,  6., 15., 16., 14.,  0.,  0.,  0.,  0.,  0.,  0.,\n        0.,  0.]), array([ 1.,  1., 23.,  6., 15., 21.,  0.,  0.,  0.,  0.,  0.,  0.,  0.,\n        0.,  0.]), array([ 1.,  1., 23.,  6., 15., 29.,  0.,  0.,  0.,  0.,  0.,  0.,  0.,\n        0.,  0.]), ...]\n        y = [array([ 1.,  0., 12., 16., 15., 20., 16.,  0.,  0.,  0.,  0.,  0.,  0.,\n        0.,  0.]), array([ 1.,  1., 18.,  6.,  0.,  0.,  0.,  0.,  0.,  0.,  0.,  0.,  0.,\n        0.,  0.]), array([ 1.,  1., 18., 16., 15., 16.,  3., 27., 10., 15.,  1.,  0.,  0.,\n        0.,  0.]), array([ 1.,  1., 18., 16., 15., 16.,  3., 27., 10., 15.,  1.,  0.,  0.,\n        0.,  0.]), array([ 1.,  1., 18., 16., 15., 16.,  3., 27., 10., 15.,  1.,  0.,  0.,\n        0.,  0.]), array([ 1.,  1., 18., 16., 15., 16.,  3., 27., 10., 15.,  1.,  0.,  0.,\n        0.,  0.]), array([ 1.,  1., 18., 16., 15., 16.,  3., 27., 10., 15.,  1.,  0.,  0.,\n        0.,  0.]), array([ 1.,  1., 18., 16., 15., 16.,  3., 27., 10., 15.,  1.,  0.,  0.,\n        0.,  0.]), array([ 1.,  1., 18., 16., 15., 16.,  3., 27., 10., 15.,  1.,  0.,  0.,\n        0.,  0.]), array([ 1.,  1., 18., 16., 15., 16.,  3., 27., 10., 15.,  1.,  0.,  0.,\n        0.,  0.]), array([ 1.,  1., 23.,  6., 15.,  0.,  0.,  0.,  0.,  0.,  0.,  0.,  0.,\n        0.,  0.]), array([ 1.,  1., 23.,  6., 15.,  0.,  0.,  0.,  0.,  0.,  0.,  0.,  0.,\n        0.,  0.]), array([ 1.,  1., 23.,  6., 15.,  0.,  0.,  0.,  0.,  0.,  0.,  0.,  0.,\n        0.,  0.]), array([ 1.,  1., 23.,  6., 15.,  0.,  0.,  0.,  0.,  0.,  0.,  0.,  0.,\n        0.,  0.]), array([ 1.,  1., 23.,  6., 15.,  0.,  0.,  0.,  0.,  0.,  0.,  0.,  0.,\n        0.,  0.]), array([ 1.,  1., 23.,  6., 15.,  0.,  0.,  0.,  0.,  0.,  0.,  0.,  0.,\n        0.,  0.]), array([ 1.,  1., 23.,  6., 15.,  0.,  0.,  0.,  0.,  0.,  0.,  0.,  0.,\n        0.,  0.]), array([ 1.,  1., 23.,  6., 15.,  0.,  0.,  0.,  0.,  0.,  0.,  0.,  0.,\n        0.,  0.]), array([ 1.,  1., 23.,  6., 15.,  0.,  0.,  0.,  0.,  0.,  0.,  0.,  0.,\n        0.,  0.]), array([ 1.,  1., 23.,  6., 15.,  0.,  0.,  0.,  0.,  0.,  0.,  0.,  0.,\n        0.,  0.]), ...]\n        groups = None\n    640 \n    641         # if one choose to see train score, \"out\" will contain train score info\n    642         if self.return_train_score:\n    643             (train_score_dicts, test_score_dicts, test_sample_counts, fit_time,\n\n...........................................................................\nC:\\ProgramData\\Anaconda3\\lib\\site-packages\\sklearn\\externals\\joblib\\parallel.py in __call__(self=Parallel(n_jobs=-1), iterable=<generator object BaseSearchCV.fit.<locals>.<genexpr>>)\n    784             if pre_dispatch == \"all\" or n_jobs == 1:\n    785                 # The iterable was consumed all at once by the above for loop.\n    786                 # No need to wait for async callbacks to trigger to\n    787                 # consumption.\n    788                 self._iterating = False\n--> 789             self.retrieve()\n        self.retrieve = <bound method Parallel.retrieve of Parallel(n_jobs=-1)>\n    790             # Make sure that we get a last message telling us we are done\n    791             elapsed_time = time.time() - self._start_time\n    792             self._print('Done %3i out of %3i | elapsed: %s finished',\n    793                         (len(self._output), len(self._output),\n\n---------------------------------------------------------------------------\nSub-process traceback:\n---------------------------------------------------------------------------\nMemoryError                                        Wed Jul 18 17:32:13 2018\nPID: 14380                Python 3.6.5: C:\\ProgramData\\Anaconda3\\python.exe\n...........................................................................\nC:\\ProgramData\\Anaconda3\\lib\\site-packages\\sklearn\\externals\\joblib\\parallel.py in __call__(self=<sklearn.externals.joblib.parallel.BatchedCalls object>)\n    126     def __init__(self, iterator_slice):\n    127         self.items = list(iterator_slice)\n    128         self._size = len(self.items)\n    129 \n    130     def __call__(self):\n--> 131         return [func(*args, **kwargs) for func, args, kwargs in self.items]\n        self.items = [(<function _fit_and_score>, (RandomForestRegressor(bootstrap=True, criterion=..., random_state=None, verbose=0, warm_start=False), [array([ 1.,  0., 12., 16., 15., 20., 16.,  0.,  0.,  0.,  0.,  0.,  0.,\n        0.,  0.]), array([ 1.,  1., 18.,  6.,  0.,  0.,  0.,  0.,  0.,  0.,  0.,  0.,  0.,\n        0.,  0.]), array([ 1.,  1., 18., 16., 15., 16.,  3., 27., 10., 15.,  0.,  0.,  0.,\n        0.,  0.]), array([ 1.,  1., 18., 16., 15., 16.,  3., 27., 10., 15.,  1., 14.,  0.,\n        0.,  0.]), array([ 1.,  1., 18., 16., 15., 16.,  3., 27., 10., 15.,  1., 14., 10.,\n        0.,  0.]), array([ 1.,  1., 18., 16., 15., 16.,  3., 27., 10., 15.,  1., 23.,  0.,\n        0.,  0.]), array([ 1.,  1., 18., 16., 15., 16.,  3., 27., 10., 15.,  6.,  0.,  0.,\n        0.,  0.]), array([ 1.,  1., 18., 16., 15., 16.,  3., 27., 10., 15., 16., 11.,  0.,\n        0.,  0.]), array([ 1.,  1., 18., 16., 15., 16.,  3., 27., 10., 15., 21.,  0.,  0.,\n        0.,  0.]), array([ 1.,  1., 18., 16., 15., 16.,  3., 27., 10., 15., 29.,  0.,  0.,\n        0.,  0.]), array([ 1.,  1., 23.,  6., 15.,  0.,  0.,  0.,  0.,  0.,  0.,  0.,  0.,\n        0.,  0.]), array([ 1.,  1., 23.,  6., 15.,  1.,  0.,  0.,  0.,  0.,  0.,  0.,  0.,\n        0.,  0.]), array([ 1.,  1., 23.,  6., 15.,  1., 14.,  0.,  0.,  0.,  0.,  0.,  0.,\n        0.,  0.]), array([ 1.,  1., 23.,  6., 15.,  1., 14., 10.,  0.,  0.,  0.,  0.,  0.,\n        0.,  0.]), array([ 1.,  1., 23.,  6., 15.,  1., 23.,  0.,  0.,  0.,  0.,  0.,  0.,\n        0.,  0.]), array([ 1.,  1., 23.,  6., 15.,  6.,  0.,  0.,  0.,  0.,  0.,  0.,  0.,\n        0.,  0.]), array([ 1.,  1., 23.,  6., 15., 16.,  3.,  0.,  0.,  0.,  0.,  0.,  0.,\n        0.,  0.]), array([ 1.,  1., 23.,  6., 15., 16., 14.,  0.,  0.,  0.,  0.,  0.,  0.,\n        0.,  0.]), array([ 1.,  1., 23.,  6., 15., 21.,  0.,  0.,  0.,  0.,  0.,  0.,  0.,\n        0.,  0.]), array([ 1.,  1., 23.,  6., 15., 29.,  0.,  0.,  0.,  0.,  0.,  0.,  0.,\n        0.,  0.]), ...], [array([ 1.,  0., 12., 16., 15., 20., 16.,  0.,  0.,  0.,  0.,  0.,  0.,\n        0.,  0.]), array([ 1.,  1., 18.,  6.,  0.,  0.,  0.,  0.,  0.,  0.,  0.,  0.,  0.,\n        0.,  0.]), array([ 1.,  1., 18., 16., 15., 16.,  3., 27., 10., 15.,  1.,  0.,  0.,\n        0.,  0.]), array([ 1.,  1., 18., 16., 15., 16.,  3., 27., 10., 15.,  1.,  0.,  0.,\n        0.,  0.]), array([ 1.,  1., 18., 16., 15., 16.,  3., 27., 10., 15.,  1.,  0.,  0.,\n        0.,  0.]), array([ 1.,  1., 18., 16., 15., 16.,  3., 27., 10., 15.,  1.,  0.,  0.,\n        0.,  0.]), array([ 1.,  1., 18., 16., 15., 16.,  3., 27., 10., 15.,  1.,  0.,  0.,\n        0.,  0.]), array([ 1.,  1., 18., 16., 15., 16.,  3., 27., 10., 15.,  1.,  0.,  0.,\n        0.,  0.]), array([ 1.,  1., 18., 16., 15., 16.,  3., 27., 10., 15.,  1.,  0.,  0.,\n        0.,  0.]), array([ 1.,  1., 18., 16., 15., 16.,  3., 27., 10., 15.,  1.,  0.,  0.,\n        0.,  0.]), array([ 1.,  1., 23.,  6., 15.,  0.,  0.,  0.,  0.,  0.,  0.,  0.,  0.,\n        0.,  0.]), array([ 1.,  1., 23.,  6., 15.,  0.,  0.,  0.,  0.,  0.,  0.,  0.,  0.,\n        0.,  0.]), array([ 1.,  1., 23.,  6., 15.,  0.,  0.,  0.,  0.,  0.,  0.,  0.,  0.,\n        0.,  0.]), array([ 1.,  1., 23.,  6., 15.,  0.,  0.,  0.,  0.,  0.,  0.,  0.,  0.,\n        0.,  0.]), array([ 1.,  1., 23.,  6., 15.,  0.,  0.,  0.,  0.,  0.,  0.,  0.,  0.,\n        0.,  0.]), array([ 1.,  1., 23.,  6., 15.,  0.,  0.,  0.,  0.,  0.,  0.,  0.,  0.,\n        0.,  0.]), array([ 1.,  1., 23.,  6., 15.,  0.,  0.,  0.,  0.,  0.,  0.,  0.,  0.,\n        0.,  0.]), array([ 1.,  1., 23.,  6., 15.,  0.,  0.,  0.,  0.,  0.,  0.,  0.,  0.,\n        0.,  0.]), array([ 1.,  1., 23.,  6., 15.,  0.,  0.,  0.,  0.,  0.,  0.,  0.,  0.,\n        0.,  0.]), array([ 1.,  1., 23.,  6., 15.,  0.,  0.,  0.,  0.,  0.,  0.,  0.,  0.,\n        0.,  0.]), ...], {'score': <function _passthrough_scorer>}, memmap([ 885823,  885824,  885825, ..., 2657464, 2657465, 2657466]), memmap([     0,      1,      2, ..., 885820, 885821, 885822]), 2, {'bootstrap': True, 'max_depth': 30, 'max_features': 'sqrt', 'min_samples_leaf': 1, 'min_samples_split': 5, 'n_estimators': 400}), {'error_score': 'raise', 'fit_params': {}, 'return_n_test_samples': True, 'return_parameters': False, 'return_times': True, 'return_train_score': 'warn'})]\n    132 \n    133     def __len__(self):\n    134         return self._size\n    135 \n\n...........................................................................\nC:\\ProgramData\\Anaconda3\\lib\\site-packages\\sklearn\\externals\\joblib\\parallel.py in <listcomp>(.0=<list_iterator object>)\n    126     def __init__(self, iterator_slice):\n    127         self.items = list(iterator_slice)\n    128         self._size = len(self.items)\n    129 \n    130     def __call__(self):\n--> 131         return [func(*args, **kwargs) for func, args, kwargs in self.items]\n        func = <function _fit_and_score>\n        args = (RandomForestRegressor(bootstrap=True, criterion=..., random_state=None, verbose=0, warm_start=False), [array([ 1.,  0., 12., 16., 15., 20., 16.,  0.,  0.,  0.,  0.,  0.,  0.,\n        0.,  0.]), array([ 1.,  1., 18.,  6.,  0.,  0.,  0.,  0.,  0.,  0.,  0.,  0.,  0.,\n        0.,  0.]), array([ 1.,  1., 18., 16., 15., 16.,  3., 27., 10., 15.,  0.,  0.,  0.,\n        0.,  0.]), array([ 1.,  1., 18., 16., 15., 16.,  3., 27., 10., 15.,  1., 14.,  0.,\n        0.,  0.]), array([ 1.,  1., 18., 16., 15., 16.,  3., 27., 10., 15.,  1., 14., 10.,\n        0.,  0.]), array([ 1.,  1., 18., 16., 15., 16.,  3., 27., 10., 15.,  1., 23.,  0.,\n        0.,  0.]), array([ 1.,  1., 18., 16., 15., 16.,  3., 27., 10., 15.,  6.,  0.,  0.,\n        0.,  0.]), array([ 1.,  1., 18., 16., 15., 16.,  3., 27., 10., 15., 16., 11.,  0.,\n        0.,  0.]), array([ 1.,  1., 18., 16., 15., 16.,  3., 27., 10., 15., 21.,  0.,  0.,\n        0.,  0.]), array([ 1.,  1., 18., 16., 15., 16.,  3., 27., 10., 15., 29.,  0.,  0.,\n        0.,  0.]), array([ 1.,  1., 23.,  6., 15.,  0.,  0.,  0.,  0.,  0.,  0.,  0.,  0.,\n        0.,  0.]), array([ 1.,  1., 23.,  6., 15.,  1.,  0.,  0.,  0.,  0.,  0.,  0.,  0.,\n        0.,  0.]), array([ 1.,  1., 23.,  6., 15.,  1., 14.,  0.,  0.,  0.,  0.,  0.,  0.,\n        0.,  0.]), array([ 1.,  1., 23.,  6., 15.,  1., 14., 10.,  0.,  0.,  0.,  0.,  0.,\n        0.,  0.]), array([ 1.,  1., 23.,  6., 15.,  1., 23.,  0.,  0.,  0.,  0.,  0.,  0.,\n        0.,  0.]), array([ 1.,  1., 23.,  6., 15.,  6.,  0.,  0.,  0.,  0.,  0.,  0.,  0.,\n        0.,  0.]), array([ 1.,  1., 23.,  6., 15., 16.,  3.,  0.,  0.,  0.,  0.,  0.,  0.,\n        0.,  0.]), array([ 1.,  1., 23.,  6., 15., 16., 14.,  0.,  0.,  0.,  0.,  0.,  0.,\n        0.,  0.]), array([ 1.,  1., 23.,  6., 15., 21.,  0.,  0.,  0.,  0.,  0.,  0.,  0.,\n        0.,  0.]), array([ 1.,  1., 23.,  6., 15., 29.,  0.,  0.,  0.,  0.,  0.,  0.,  0.,\n        0.,  0.]), ...], [array([ 1.,  0., 12., 16., 15., 20., 16.,  0.,  0.,  0.,  0.,  0.,  0.,\n        0.,  0.]), array([ 1.,  1., 18.,  6.,  0.,  0.,  0.,  0.,  0.,  0.,  0.,  0.,  0.,\n        0.,  0.]), array([ 1.,  1., 18., 16., 15., 16.,  3., 27., 10., 15.,  1.,  0.,  0.,\n        0.,  0.]), array([ 1.,  1., 18., 16., 15., 16.,  3., 27., 10., 15.,  1.,  0.,  0.,\n        0.,  0.]), array([ 1.,  1., 18., 16., 15., 16.,  3., 27., 10., 15.,  1.,  0.,  0.,\n        0.,  0.]), array([ 1.,  1., 18., 16., 15., 16.,  3., 27., 10., 15.,  1.,  0.,  0.,\n        0.,  0.]), array([ 1.,  1., 18., 16., 15., 16.,  3., 27., 10., 15.,  1.,  0.,  0.,\n        0.,  0.]), array([ 1.,  1., 18., 16., 15., 16.,  3., 27., 10., 15.,  1.,  0.,  0.,\n        0.,  0.]), array([ 1.,  1., 18., 16., 15., 16.,  3., 27., 10., 15.,  1.,  0.,  0.,\n        0.,  0.]), array([ 1.,  1., 18., 16., 15., 16.,  3., 27., 10., 15.,  1.,  0.,  0.,\n        0.,  0.]), array([ 1.,  1., 23.,  6., 15.,  0.,  0.,  0.,  0.,  0.,  0.,  0.,  0.,\n        0.,  0.]), array([ 1.,  1., 23.,  6., 15.,  0.,  0.,  0.,  0.,  0.,  0.,  0.,  0.,\n        0.,  0.]), array([ 1.,  1., 23.,  6., 15.,  0.,  0.,  0.,  0.,  0.,  0.,  0.,  0.,\n        0.,  0.]), array([ 1.,  1., 23.,  6., 15.,  0.,  0.,  0.,  0.,  0.,  0.,  0.,  0.,\n        0.,  0.]), array([ 1.,  1., 23.,  6., 15.,  0.,  0.,  0.,  0.,  0.,  0.,  0.,  0.,\n        0.,  0.]), array([ 1.,  1., 23.,  6., 15.,  0.,  0.,  0.,  0.,  0.,  0.,  0.,  0.,\n        0.,  0.]), array([ 1.,  1., 23.,  6., 15.,  0.,  0.,  0.,  0.,  0.,  0.,  0.,  0.,\n        0.,  0.]), array([ 1.,  1., 23.,  6., 15.,  0.,  0.,  0.,  0.,  0.,  0.,  0.,  0.,\n        0.,  0.]), array([ 1.,  1., 23.,  6., 15.,  0.,  0.,  0.,  0.,  0.,  0.,  0.,  0.,\n        0.,  0.]), array([ 1.,  1., 23.,  6., 15.,  0.,  0.,  0.,  0.,  0.,  0.,  0.,  0.,\n        0.,  0.]), ...], {'score': <function _passthrough_scorer>}, memmap([ 885823,  885824,  885825, ..., 2657464, 2657465, 2657466]), memmap([     0,      1,      2, ..., 885820, 885821, 885822]), 2, {'bootstrap': True, 'max_depth': 30, 'max_features': 'sqrt', 'min_samples_leaf': 1, 'min_samples_split': 5, 'n_estimators': 400})\n        kwargs = {'error_score': 'raise', 'fit_params': {}, 'return_n_test_samples': True, 'return_parameters': False, 'return_times': True, 'return_train_score': 'warn'}\n    132 \n    133     def __len__(self):\n    134         return self._size\n    135 \n\n...........................................................................\nC:\\ProgramData\\Anaconda3\\lib\\site-packages\\sklearn\\model_selection\\_validation.py in _fit_and_score(estimator=RandomForestRegressor(bootstrap=True, criterion=..., random_state=None, verbose=0, warm_start=False), X=[array([ 1.,  0., 12., 16., 15., 20., 16.,  0.,  0.,  0.,  0.,  0.,  0.,\n        0.,  0.]), array([ 1.,  1., 18.,  6.,  0.,  0.,  0.,  0.,  0.,  0.,  0.,  0.,  0.,\n        0.,  0.]), array([ 1.,  1., 18., 16., 15., 16.,  3., 27., 10., 15.,  0.,  0.,  0.,\n        0.,  0.]), array([ 1.,  1., 18., 16., 15., 16.,  3., 27., 10., 15.,  1., 14.,  0.,\n        0.,  0.]), array([ 1.,  1., 18., 16., 15., 16.,  3., 27., 10., 15.,  1., 14., 10.,\n        0.,  0.]), array([ 1.,  1., 18., 16., 15., 16.,  3., 27., 10., 15.,  1., 23.,  0.,\n        0.,  0.]), array([ 1.,  1., 18., 16., 15., 16.,  3., 27., 10., 15.,  6.,  0.,  0.,\n        0.,  0.]), array([ 1.,  1., 18., 16., 15., 16.,  3., 27., 10., 15., 16., 11.,  0.,\n        0.,  0.]), array([ 1.,  1., 18., 16., 15., 16.,  3., 27., 10., 15., 21.,  0.,  0.,\n        0.,  0.]), array([ 1.,  1., 18., 16., 15., 16.,  3., 27., 10., 15., 29.,  0.,  0.,\n        0.,  0.]), array([ 1.,  1., 23.,  6., 15.,  0.,  0.,  0.,  0.,  0.,  0.,  0.,  0.,\n        0.,  0.]), array([ 1.,  1., 23.,  6., 15.,  1.,  0.,  0.,  0.,  0.,  0.,  0.,  0.,\n        0.,  0.]), array([ 1.,  1., 23.,  6., 15.,  1., 14.,  0.,  0.,  0.,  0.,  0.,  0.,\n        0.,  0.]), array([ 1.,  1., 23.,  6., 15.,  1., 14., 10.,  0.,  0.,  0.,  0.,  0.,\n        0.,  0.]), array([ 1.,  1., 23.,  6., 15.,  1., 23.,  0.,  0.,  0.,  0.,  0.,  0.,\n        0.,  0.]), array([ 1.,  1., 23.,  6., 15.,  6.,  0.,  0.,  0.,  0.,  0.,  0.,  0.,\n        0.,  0.]), array([ 1.,  1., 23.,  6., 15., 16.,  3.,  0.,  0.,  0.,  0.,  0.,  0.,\n        0.,  0.]), array([ 1.,  1., 23.,  6., 15., 16., 14.,  0.,  0.,  0.,  0.,  0.,  0.,\n        0.,  0.]), array([ 1.,  1., 23.,  6., 15., 21.,  0.,  0.,  0.,  0.,  0.,  0.,  0.,\n        0.,  0.]), array([ 1.,  1., 23.,  6., 15., 29.,  0.,  0.,  0.,  0.,  0.,  0.,  0.,\n        0.,  0.]), ...], y=[array([ 1.,  0., 12., 16., 15., 20., 16.,  0.,  0.,  0.,  0.,  0.,  0.,\n        0.,  0.]), array([ 1.,  1., 18.,  6.,  0.,  0.,  0.,  0.,  0.,  0.,  0.,  0.,  0.,\n        0.,  0.]), array([ 1.,  1., 18., 16., 15., 16.,  3., 27., 10., 15.,  1.,  0.,  0.,\n        0.,  0.]), array([ 1.,  1., 18., 16., 15., 16.,  3., 27., 10., 15.,  1.,  0.,  0.,\n        0.,  0.]), array([ 1.,  1., 18., 16., 15., 16.,  3., 27., 10., 15.,  1.,  0.,  0.,\n        0.,  0.]), array([ 1.,  1., 18., 16., 15., 16.,  3., 27., 10., 15.,  1.,  0.,  0.,\n        0.,  0.]), array([ 1.,  1., 18., 16., 15., 16.,  3., 27., 10., 15.,  1.,  0.,  0.,\n        0.,  0.]), array([ 1.,  1., 18., 16., 15., 16.,  3., 27., 10., 15.,  1.,  0.,  0.,\n        0.,  0.]), array([ 1.,  1., 18., 16., 15., 16.,  3., 27., 10., 15.,  1.,  0.,  0.,\n        0.,  0.]), array([ 1.,  1., 18., 16., 15., 16.,  3., 27., 10., 15.,  1.,  0.,  0.,\n        0.,  0.]), array([ 1.,  1., 23.,  6., 15.,  0.,  0.,  0.,  0.,  0.,  0.,  0.,  0.,\n        0.,  0.]), array([ 1.,  1., 23.,  6., 15.,  0.,  0.,  0.,  0.,  0.,  0.,  0.,  0.,\n        0.,  0.]), array([ 1.,  1., 23.,  6., 15.,  0.,  0.,  0.,  0.,  0.,  0.,  0.,  0.,\n        0.,  0.]), array([ 1.,  1., 23.,  6., 15.,  0.,  0.,  0.,  0.,  0.,  0.,  0.,  0.,\n        0.,  0.]), array([ 1.,  1., 23.,  6., 15.,  0.,  0.,  0.,  0.,  0.,  0.,  0.,  0.,\n        0.,  0.]), array([ 1.,  1., 23.,  6., 15.,  0.,  0.,  0.,  0.,  0.,  0.,  0.,  0.,\n        0.,  0.]), array([ 1.,  1., 23.,  6., 15.,  0.,  0.,  0.,  0.,  0.,  0.,  0.,  0.,\n        0.,  0.]), array([ 1.,  1., 23.,  6., 15.,  0.,  0.,  0.,  0.,  0.,  0.,  0.,  0.,\n        0.,  0.]), array([ 1.,  1., 23.,  6., 15.,  0.,  0.,  0.,  0.,  0.,  0.,  0.,  0.,\n        0.,  0.]), array([ 1.,  1., 23.,  6., 15.,  0.,  0.,  0.,  0.,  0.,  0.,  0.,  0.,\n        0.,  0.]), ...], scorer={'score': <function _passthrough_scorer>}, train=memmap([ 885823,  885824,  885825, ..., 2657464, 2657465, 2657466]), test=memmap([     0,      1,      2, ..., 885820, 885821, 885822]), verbose=2, parameters={'bootstrap': True, 'max_depth': 30, 'max_features': 'sqrt', 'min_samples_leaf': 1, 'min_samples_split': 5, 'n_estimators': 400}, fit_params={}, return_train_score='warn', return_parameters=False, return_n_test_samples=True, return_times=True, error_score='raise')\n    453 \n    454     try:\n    455         if y_train is None:\n    456             estimator.fit(X_train, **fit_params)\n    457         else:\n--> 458             estimator.fit(X_train, y_train, **fit_params)\n        estimator.fit = <bound method BaseForest.fit of RandomForestRegr... random_state=None, verbose=0, warm_start=False)>\n        X_train = [array([14.,  6., 20.,  1., 13., 13., 16., 13., 16., 14.,  1., 23.,  0.,\n        0.,  0.]), array([14.,  6., 20.,  1., 13., 13., 16., 13., 16., 14.,  6.,  0.,  0.,\n        0.,  0.]), array([14.,  6., 20.,  1., 13., 13., 16., 13., 16., 14., 16.,  3.,  0.,\n        0.,  0.]), array([14.,  6., 20.,  1., 13., 13., 16., 13., 16., 14., 16., 14.,  0.,\n        0.,  0.]), array([14.,  6., 20.,  1., 13., 13., 16., 13., 16., 14., 21.,  0.,  0.,\n        0.,  0.]), array([14.,  6., 20.,  1., 13., 13., 16., 13., 16., 14., 29.,  0.,  0.,\n        0.,  0.]), array([14.,  6., 20.,  1., 13., 13., 16., 14.,  0.,  0.,  0.,  0.,  0.,\n        0.,  0.]), array([14.,  6., 20.,  1., 13., 13., 16., 14.,  6., 20., 18., 10., 25.,\n        6., 19.]), array([14.,  6., 20.,  1., 13., 13., 16., 14.,  6., 20., 18., 10., 25.,\n        6., 19.]), array([14.,  6., 20.,  1., 13., 13., 16., 14.,  6., 20., 18., 10., 25.,\n        6., 19.]), array([14.,  6., 20.,  1., 13., 13., 16., 14.,  6., 20., 18., 10., 25.,\n        6., 19.]), array([14.,  6., 20.,  1., 13., 13., 16., 14.,  6., 20., 18., 10., 25.,\n        6., 19.]), array([14.,  6., 20.,  1., 13., 13., 16., 14.,  6., 20., 18., 10., 25.,\n        6., 19.]), array([14.,  6., 20.,  1., 13., 13., 16., 14.,  6., 20., 18., 10., 25.,\n        6., 19.]), array([14.,  6., 20.,  1., 13., 13., 16., 14.,  6., 20., 18., 10., 25.,\n        6., 19.]), array([14.,  6., 20.,  1., 13., 13., 16., 14.,  6., 20., 18., 10., 25.,\n        6., 19.]), array([14.,  6., 20.,  1., 13., 13., 16., 14.,  6., 20., 18., 10., 25.,\n        6., 19.]), array([14.,  6., 20.,  1., 13., 13., 16., 14.,  6., 20., 18., 10., 25.,\n        6., 19.]), array([14.,  6., 20.,  1., 13., 13., 16., 14.,  6., 20., 18., 10., 25.,\n        6., 19.]), array([14.,  6., 20.,  1., 13., 13., 16., 15., 16., 19.,  6., 15.,  0.,\n        0.,  0.]), ...]\n        y_train = [array([14.,  6., 20.,  1., 13., 13., 16., 13., 16., 14.,  0.,  0.,  0.,\n        0.,  0.]), array([14.,  6., 20.,  1., 13., 13., 16., 13., 16., 14.,  0.,  0.,  0.,\n        0.,  0.]), array([14.,  6., 20.,  1., 13., 13., 16., 13., 16., 14.,  0.,  0.,  0.,\n        0.,  0.]), array([14.,  6., 20.,  1., 13., 13., 16., 13., 16., 14.,  0.,  0.,  0.,\n        0.,  0.]), array([14.,  6., 20.,  1., 13., 13., 16., 13., 16., 14.,  0.,  0.,  0.,\n        0.,  0.]), array([14.,  6., 20.,  1., 13., 13., 16., 13., 16., 14.,  0.,  0.,  0.,\n        0.,  0.]), array([14.,  6., 20.,  1., 13., 13.,  0.,  0.,  0.,  0.,  0.,  0.,  0.,\n        0.,  0.]), array([14.,  6., 20.,  1., 13., 13., 16., 14.,  6., 20., 18., 10., 25.,\n        6., 19.]), array([14.,  6., 20.,  1., 13., 13., 16., 14.,  6., 20., 18., 10., 25.,\n        6., 19.]), array([14.,  6., 20.,  1., 13., 13., 16., 14.,  6., 20., 18., 10., 25.,\n        6., 19.]), array([14.,  6., 20.,  1., 13., 13., 16., 14.,  6., 20., 18., 10., 25.,\n        6., 19.]), array([14.,  6., 20.,  1., 13., 13., 16., 14.,  6., 20., 18., 10., 25.,\n        6., 19.]), array([14.,  6., 20.,  1., 13., 13., 16., 14.,  6., 20., 18., 10., 25.,\n        6., 19.]), array([14.,  6., 20.,  1., 13., 13., 16., 14.,  6., 20., 18., 10., 25.,\n        6., 19.]), array([14.,  6., 20.,  1., 13., 13., 16., 14.,  6., 20., 18., 10., 25.,\n        6., 19.]), array([14.,  6., 20.,  1., 13., 13., 16., 14.,  6., 20., 18., 10., 25.,\n        6., 19.]), array([14.,  6., 20.,  1., 13., 13., 16., 14.,  6., 20., 18., 10., 25.,\n        6., 19.]), array([14.,  6., 20.,  1., 13., 13., 16., 14.,  6., 20., 18., 10., 25.,\n        6., 19.]), array([14.,  6., 20.,  1., 13., 13., 16., 14.,  6., 20., 18., 10., 25.,\n        6., 19.]), array([14.,  6., 20.,  1., 13., 13., 16., 15., 16., 19., 15., 29., 11.,\n        0.,  0.]), ...]\n        fit_params = {}\n    459 \n    460     except Exception as e:\n    461         # Note fit time as time until error\n    462         fit_time = time.time() - start_time\n\n...........................................................................\nC:\\ProgramData\\Anaconda3\\lib\\site-packages\\sklearn\\ensemble\\forest.py in fit(self=RandomForestRegressor(bootstrap=True, criterion=..., random_state=None, verbose=0, warm_start=False), X=array([[14.,  6., 20., ...,  0.,  0.,  0.],\n    ...., 33., 23., ...,  0.,  0.,  0.]], dtype=float32), y=array([[14.,  6., 20., ...,  0.,  0.,  0.],\n    ...0.],\n       [33., 33.,  0., ...,  0.,  0.,  0.]]), sample_weight=None)\n    323             trees = Parallel(n_jobs=self.n_jobs, verbose=self.verbose,\n    324                              backend=\"threading\")(\n    325                 delayed(_parallel_build_trees)(\n    326                     t, self, X, y, sample_weight, i, len(trees),\n    327                     verbose=self.verbose, class_weight=self.class_weight)\n--> 328                 for i, t in enumerate(trees))\n        i = 399\n    329 \n    330             # Collect newly grown trees\n    331             self.estimators_.extend(trees)\n    332 \n\n...........................................................................\nC:\\ProgramData\\Anaconda3\\lib\\site-packages\\sklearn\\externals\\joblib\\parallel.py in __call__(self=Parallel(n_jobs=1), iterable=<generator object BaseForest.fit.<locals>.<genexpr>>)\n    774         self.n_completed_tasks = 0\n    775         try:\n    776             # Only set self._iterating to True if at least a batch\n    777             # was dispatched. In particular this covers the edge\n    778             # case of Parallel used with an exhausted iterator.\n--> 779             while self.dispatch_one_batch(iterator):\n        self.dispatch_one_batch = <bound method Parallel.dispatch_one_batch of Parallel(n_jobs=1)>\n        iterator = <generator object BaseForest.fit.<locals>.<genexpr>>\n    780                 self._iterating = True\n    781             else:\n    782                 self._iterating = False\n    783 \n\n...........................................................................\nC:\\ProgramData\\Anaconda3\\lib\\site-packages\\sklearn\\externals\\joblib\\parallel.py in dispatch_one_batch(self=Parallel(n_jobs=1), iterator=<generator object BaseForest.fit.<locals>.<genexpr>>)\n    620             tasks = BatchedCalls(itertools.islice(iterator, batch_size))\n    621             if len(tasks) == 0:\n    622                 # No more tasks available in the iterator: tell caller to stop.\n    623                 return False\n    624             else:\n--> 625                 self._dispatch(tasks)\n        self._dispatch = <bound method Parallel._dispatch of Parallel(n_jobs=1)>\n        tasks = <sklearn.externals.joblib.parallel.BatchedCalls object>\n    626                 return True\n    627 \n    628     def _print(self, msg, msg_args):\n    629         \"\"\"Display the message on stout or stderr depending on verbosity\"\"\"\n\n...........................................................................\nC:\\ProgramData\\Anaconda3\\lib\\site-packages\\sklearn\\externals\\joblib\\parallel.py in _dispatch(self=Parallel(n_jobs=1), batch=<sklearn.externals.joblib.parallel.BatchedCalls object>)\n    583         self.n_dispatched_tasks += len(batch)\n    584         self.n_dispatched_batches += 1\n    585 \n    586         dispatch_timestamp = time.time()\n    587         cb = BatchCompletionCallBack(dispatch_timestamp, len(batch), self)\n--> 588         job = self._backend.apply_async(batch, callback=cb)\n        job = undefined\n        self._backend.apply_async = <bound method SequentialBackend.apply_async of <...lib._parallel_backends.SequentialBackend object>>\n        batch = <sklearn.externals.joblib.parallel.BatchedCalls object>\n        cb = <sklearn.externals.joblib.parallel.BatchCompletionCallBack object>\n    589         self._jobs.append(job)\n    590 \n    591     def dispatch_next(self):\n    592         \"\"\"Dispatch more data for parallel processing\n\n...........................................................................\nC:\\ProgramData\\Anaconda3\\lib\\site-packages\\sklearn\\externals\\joblib\\_parallel_backends.py in apply_async(self=<sklearn.externals.joblib._parallel_backends.SequentialBackend object>, func=<sklearn.externals.joblib.parallel.BatchedCalls object>, callback=<sklearn.externals.joblib.parallel.BatchCompletionCallBack object>)\n    106             raise ValueError('n_jobs == 0 in Parallel has no meaning')\n    107         return 1\n    108 \n    109     def apply_async(self, func, callback=None):\n    110         \"\"\"Schedule a func to be run\"\"\"\n--> 111         result = ImmediateResult(func)\n        result = undefined\n        func = <sklearn.externals.joblib.parallel.BatchedCalls object>\n    112         if callback:\n    113             callback(result)\n    114         return result\n    115 \n\n...........................................................................\nC:\\ProgramData\\Anaconda3\\lib\\site-packages\\sklearn\\externals\\joblib\\_parallel_backends.py in __init__(self=<sklearn.externals.joblib._parallel_backends.ImmediateResult object>, batch=<sklearn.externals.joblib.parallel.BatchedCalls object>)\n    327 \n    328 class ImmediateResult(object):\n    329     def __init__(self, batch):\n    330         # Don't delay the application, to avoid keeping the input\n    331         # arguments in memory\n--> 332         self.results = batch()\n        self.results = undefined\n        batch = <sklearn.externals.joblib.parallel.BatchedCalls object>\n    333 \n    334     def get(self):\n    335         return self.results\n    336 \n\n...........................................................................\nC:\\ProgramData\\Anaconda3\\lib\\site-packages\\sklearn\\externals\\joblib\\parallel.py in __call__(self=<sklearn.externals.joblib.parallel.BatchedCalls object>)\n    126     def __init__(self, iterator_slice):\n    127         self.items = list(iterator_slice)\n    128         self._size = len(self.items)\n    129 \n    130     def __call__(self):\n--> 131         return [func(*args, **kwargs) for func, args, kwargs in self.items]\n        self.items = [(<function _parallel_build_trees>, (DecisionTreeRegressor(criterion='mse', max_depth...t=False, random_state=608625772, splitter='best'), RandomForestRegressor(bootstrap=True, criterion=..., random_state=None, verbose=0, warm_start=False), array([[14.,  6., 20., ...,  0.,  0.,  0.],\n    ...., 33., 23., ...,  0.,  0.,  0.]], dtype=float32), array([[14.,  6., 20., ...,  0.,  0.,  0.],\n    ...0.],\n       [33., 33.,  0., ...,  0.,  0.,  0.]]), None, 18, 400), {'class_weight': None, 'verbose': 0})]\n    132 \n    133     def __len__(self):\n    134         return self._size\n    135 \n\n...........................................................................\nC:\\ProgramData\\Anaconda3\\lib\\site-packages\\sklearn\\externals\\joblib\\parallel.py in <listcomp>(.0=<list_iterator object>)\n    126     def __init__(self, iterator_slice):\n    127         self.items = list(iterator_slice)\n    128         self._size = len(self.items)\n    129 \n    130     def __call__(self):\n--> 131         return [func(*args, **kwargs) for func, args, kwargs in self.items]\n        func = <function _parallel_build_trees>\n        args = (DecisionTreeRegressor(criterion='mse', max_depth...t=False, random_state=608625772, splitter='best'), RandomForestRegressor(bootstrap=True, criterion=..., random_state=None, verbose=0, warm_start=False), array([[14.,  6., 20., ...,  0.,  0.,  0.],\n    ...., 33., 23., ...,  0.,  0.,  0.]], dtype=float32), array([[14.,  6., 20., ...,  0.,  0.,  0.],\n    ...0.],\n       [33., 33.,  0., ...,  0.,  0.,  0.]]), None, 18, 400)\n        kwargs = {'class_weight': None, 'verbose': 0}\n    132 \n    133     def __len__(self):\n    134         return self._size\n    135 \n\n...........................................................................\nC:\\ProgramData\\Anaconda3\\lib\\site-packages\\sklearn\\ensemble\\forest.py in _parallel_build_trees(tree=DecisionTreeRegressor(criterion='mse', max_depth...t=False, random_state=608625772, splitter='best'), forest=RandomForestRegressor(bootstrap=True, criterion=..., random_state=None, verbose=0, warm_start=False), X=array([[14.,  6., 20., ...,  0.,  0.,  0.],\n    ...., 33., 23., ...,  0.,  0.,  0.]], dtype=float32), y=array([[14.,  6., 20., ...,  0.,  0.,  0.],\n    ...0.],\n       [33., 33.,  0., ...,  0.,  0.,  0.]]), sample_weight=None, tree_idx=18, n_trees=400, verbose=0, class_weight=None)\n    116                 warnings.simplefilter('ignore', DeprecationWarning)\n    117                 curr_sample_weight *= compute_sample_weight('auto', y, indices)\n    118         elif class_weight == 'balanced_subsample':\n    119             curr_sample_weight *= compute_sample_weight('balanced', y, indices)\n    120 \n--> 121         tree.fit(X, y, sample_weight=curr_sample_weight, check_input=False)\n        tree.fit = <bound method DecisionTreeRegressor.fit of Decis...=False, random_state=608625772, splitter='best')>\n        X = array([[14.,  6., 20., ...,  0.,  0.,  0.],\n    ...., 33., 23., ...,  0.,  0.,  0.]], dtype=float32)\n        y = array([[14.,  6., 20., ...,  0.,  0.,  0.],\n    ...0.],\n       [33., 33.,  0., ...,  0.,  0.,  0.]])\n        sample_weight = None\n        curr_sample_weight = array([1., 0., 1., ..., 1., 0., 1.])\n    122     else:\n    123         tree.fit(X, y, sample_weight=sample_weight, check_input=False)\n    124 \n    125     return tree\n\n...........................................................................\nC:\\ProgramData\\Anaconda3\\lib\\site-packages\\sklearn\\tree\\tree.py in fit(self=DecisionTreeRegressor(criterion='mse', max_depth...t=False, random_state=608625772, splitter='best'), X=array([[14.,  6., 20., ...,  0.,  0.,  0.],\n    ...., 33., 23., ...,  0.,  0.,  0.]], dtype=float32), y=array([[14.,  6., 20., ...,  0.,  0.,  0.],\n    ...0.],\n       [33., 33.,  0., ...,  0.,  0.,  0.]]), sample_weight=array([1., 0., 1., ..., 1., 0., 1.]), check_input=False, X_idx_sorted=None)\n   1119 \n   1120         super(DecisionTreeRegressor, self).fit(\n   1121             X, y,\n   1122             sample_weight=sample_weight,\n   1123             check_input=check_input,\n-> 1124             X_idx_sorted=X_idx_sorted)\n        X_idx_sorted = None\n   1125         return self\n   1126 \n   1127 \n   1128 class ExtraTreeClassifier(DecisionTreeClassifier):\n\n...........................................................................\nC:\\ProgramData\\Anaconda3\\lib\\site-packages\\sklearn\\tree\\tree.py in fit(self=DecisionTreeRegressor(criterion='mse', max_depth...t=False, random_state=608625772, splitter='best'), X=array([[14.,  6., 20., ...,  0.,  0.,  0.],\n    ...., 33., 23., ...,  0.,  0.,  0.]], dtype=float32), y=array([[14.,  6., 20., ...,  0.,  0.,  0.],\n    ...0.],\n       [33., 33.,  0., ...,  0.,  0.,  0.]]), sample_weight=array([1., 0., 1., ..., 1., 0., 1.]), check_input=False, X_idx_sorted=None)\n    357                                            max_depth,\n    358                                            max_leaf_nodes,\n    359                                            self.min_impurity_decrease,\n    360                                            min_impurity_split)\n    361 \n--> 362         builder.build(self.tree_, X, y, sample_weight, X_idx_sorted)\n        builder.build = <built-in method build of sklearn.tree._tree.DepthFirstTreeBuilder object>\n        self.tree_ = <sklearn.tree._tree.Tree object>\n        X = array([[14.,  6., 20., ...,  0.,  0.,  0.],\n    ...., 33., 23., ...,  0.,  0.,  0.]], dtype=float32)\n        y = array([[14.,  6., 20., ...,  0.,  0.,  0.],\n    ...0.],\n       [33., 33.,  0., ...,  0.,  0.,  0.]])\n        sample_weight = array([1., 0., 1., ..., 1., 0., 1.])\n        X_idx_sorted = None\n    363 \n    364         if self.n_outputs_ == 1:\n    365             self.n_classes_ = self.n_classes_[0]\n    366             self.classes_ = self.classes_[0]\n\n...........................................................................\nC:\\ProgramData\\Anaconda3\\lib\\site-packages\\sklearn\\tree\\_tree.cp36-win_amd64.pyd in sklearn.tree._tree.DepthFirstTreeBuilder.build()\n\n...........................................................................\nC:\\ProgramData\\Anaconda3\\lib\\site-packages\\sklearn\\tree\\_tree.cp36-win_amd64.pyd in sklearn.tree._tree.DepthFirstTreeBuilder.build()\n\n...........................................................................\nC:\\ProgramData\\Anaconda3\\lib\\site-packages\\sklearn\\tree\\_tree.cp36-win_amd64.pyd in sklearn.tree._tree.Tree._add_node()\n\n...........................................................................\nC:\\ProgramData\\Anaconda3\\lib\\site-packages\\sklearn\\tree\\_tree.cp36-win_amd64.pyd in sklearn.tree._tree.Tree._resize_c()\n\n...........................................................................\nC:\\ProgramData\\Anaconda3\\lib\\site-packages\\sklearn\\tree\\_utils.cp36-win_amd64.pyd in sklearn.tree._utils.safe_realloc()\n\nMemoryError: could not allocate 125829120 bytes\n___________________________________________________________________________",
     "output_type": "error",
     "traceback": [
      "\u001b[1;31m---------------------------------------------------------------------------\u001b[0m",
      "\u001b[1;31mRemoteTraceback\u001b[0m                           Traceback (most recent call last)",
      "\u001b[1;31mRemoteTraceback\u001b[0m: \n\"\"\"\nTraceback (most recent call last):\n  File \"C:\\ProgramData\\Anaconda3\\lib\\site-packages\\sklearn\\externals\\joblib\\_parallel_backends.py\", line 350, in __call__\n    return self.func(*args, **kwargs)\n  File \"C:\\ProgramData\\Anaconda3\\lib\\site-packages\\sklearn\\externals\\joblib\\parallel.py\", line 131, in __call__\n    return [func(*args, **kwargs) for func, args, kwargs in self.items]\n  File \"C:\\ProgramData\\Anaconda3\\lib\\site-packages\\sklearn\\externals\\joblib\\parallel.py\", line 131, in <listcomp>\n    return [func(*args, **kwargs) for func, args, kwargs in self.items]\n  File \"C:\\ProgramData\\Anaconda3\\lib\\site-packages\\sklearn\\model_selection\\_validation.py\", line 458, in _fit_and_score\n    estimator.fit(X_train, y_train, **fit_params)\n  File \"C:\\ProgramData\\Anaconda3\\lib\\site-packages\\sklearn\\ensemble\\forest.py\", line 328, in fit\n    for i, t in enumerate(trees))\n  File \"C:\\ProgramData\\Anaconda3\\lib\\site-packages\\sklearn\\externals\\joblib\\parallel.py\", line 779, in __call__\n    while self.dispatch_one_batch(iterator):\n  File \"C:\\ProgramData\\Anaconda3\\lib\\site-packages\\sklearn\\externals\\joblib\\parallel.py\", line 625, in dispatch_one_batch\n    self._dispatch(tasks)\n  File \"C:\\ProgramData\\Anaconda3\\lib\\site-packages\\sklearn\\externals\\joblib\\parallel.py\", line 588, in _dispatch\n    job = self._backend.apply_async(batch, callback=cb)\n  File \"C:\\ProgramData\\Anaconda3\\lib\\site-packages\\sklearn\\externals\\joblib\\_parallel_backends.py\", line 111, in apply_async\n    result = ImmediateResult(func)\n  File \"C:\\ProgramData\\Anaconda3\\lib\\site-packages\\sklearn\\externals\\joblib\\_parallel_backends.py\", line 332, in __init__\n    self.results = batch()\n  File \"C:\\ProgramData\\Anaconda3\\lib\\site-packages\\sklearn\\externals\\joblib\\parallel.py\", line 131, in __call__\n    return [func(*args, **kwargs) for func, args, kwargs in self.items]\n  File \"C:\\ProgramData\\Anaconda3\\lib\\site-packages\\sklearn\\externals\\joblib\\parallel.py\", line 131, in <listcomp>\n    return [func(*args, **kwargs) for func, args, kwargs in self.items]\n  File \"C:\\ProgramData\\Anaconda3\\lib\\site-packages\\sklearn\\ensemble\\forest.py\", line 121, in _parallel_build_trees\n    tree.fit(X, y, sample_weight=curr_sample_weight, check_input=False)\n  File \"C:\\ProgramData\\Anaconda3\\lib\\site-packages\\sklearn\\tree\\tree.py\", line 1124, in fit\n    X_idx_sorted=X_idx_sorted)\n  File \"C:\\ProgramData\\Anaconda3\\lib\\site-packages\\sklearn\\tree\\tree.py\", line 362, in fit\n    builder.build(self.tree_, X, y, sample_weight, X_idx_sorted)\n  File \"sklearn\\tree\\_tree.pyx\", line 145, in sklearn.tree._tree.DepthFirstTreeBuilder.build\n  File \"sklearn\\tree\\_tree.pyx\", line 244, in sklearn.tree._tree.DepthFirstTreeBuilder.build\n  File \"sklearn\\tree\\_tree.pyx\", line 735, in sklearn.tree._tree.Tree._add_node\n  File \"sklearn\\tree\\_tree.pyx\", line 707, in sklearn.tree._tree.Tree._resize_c\n  File \"sklearn\\tree\\_utils.pyx\", line 39, in sklearn.tree._utils.safe_realloc\nMemoryError: could not allocate 125829120 bytes\n\nDuring handling of the above exception, another exception occurred:\n\nTraceback (most recent call last):\n  File \"C:\\ProgramData\\Anaconda3\\lib\\multiprocessing\\pool.py\", line 119, in worker\n    result = (True, func(*args, **kwds))\n  File \"C:\\ProgramData\\Anaconda3\\lib\\site-packages\\sklearn\\externals\\joblib\\_parallel_backends.py\", line 359, in __call__\n    raise TransportableException(text, e_type)\nsklearn.externals.joblib.my_exceptions.TransportableException: TransportableException\n___________________________________________________________________________\nMemoryError                                        Wed Jul 18 17:32:13 2018\nPID: 14380                Python 3.6.5: C:\\ProgramData\\Anaconda3\\python.exe\n...........................................................................\nC:\\ProgramData\\Anaconda3\\lib\\site-packages\\sklearn\\externals\\joblib\\parallel.py in __call__(self=<sklearn.externals.joblib.parallel.BatchedCalls object>)\n    126     def __init__(self, iterator_slice):\n    127         self.items = list(iterator_slice)\n    128         self._size = len(self.items)\n    129 \n    130     def __call__(self):\n--> 131         return [func(*args, **kwargs) for func, args, kwargs in self.items]\n        self.items = [(<function _fit_and_score>, (RandomForestRegressor(bootstrap=True, criterion=..., random_state=None, verbose=0, warm_start=False), [array([ 1.,  0., 12., 16., 15., 20., 16.,  0.,  0.,  0.,  0.,  0.,  0.,\n        0.,  0.]), array([ 1.,  1., 18.,  6.,  0.,  0.,  0.,  0.,  0.,  0.,  0.,  0.,  0.,\n        0.,  0.]), array([ 1.,  1., 18., 16., 15., 16.,  3., 27., 10., 15.,  0.,  0.,  0.,\n        0.,  0.]), array([ 1.,  1., 18., 16., 15., 16.,  3., 27., 10., 15.,  1., 14.,  0.,\n        0.,  0.]), array([ 1.,  1., 18., 16., 15., 16.,  3., 27., 10., 15.,  1., 14., 10.,\n        0.,  0.]), array([ 1.,  1., 18., 16., 15., 16.,  3., 27., 10., 15.,  1., 23.,  0.,\n        0.,  0.]), array([ 1.,  1., 18., 16., 15., 16.,  3., 27., 10., 15.,  6.,  0.,  0.,\n        0.,  0.]), array([ 1.,  1., 18., 16., 15., 16.,  3., 27., 10., 15., 16., 11.,  0.,\n        0.,  0.]), array([ 1.,  1., 18., 16., 15., 16.,  3., 27., 10., 15., 21.,  0.,  0.,\n        0.,  0.]), array([ 1.,  1., 18., 16., 15., 16.,  3., 27., 10., 15., 29.,  0.,  0.,\n        0.,  0.]), array([ 1.,  1., 23.,  6., 15.,  0.,  0.,  0.,  0.,  0.,  0.,  0.,  0.,\n        0.,  0.]), array([ 1.,  1., 23.,  6., 15.,  1.,  0.,  0.,  0.,  0.,  0.,  0.,  0.,\n        0.,  0.]), array([ 1.,  1., 23.,  6., 15.,  1., 14.,  0.,  0.,  0.,  0.,  0.,  0.,\n        0.,  0.]), array([ 1.,  1., 23.,  6., 15.,  1., 14., 10.,  0.,  0.,  0.,  0.,  0.,\n        0.,  0.]), array([ 1.,  1., 23.,  6., 15.,  1., 23.,  0.,  0.,  0.,  0.,  0.,  0.,\n        0.,  0.]), array([ 1.,  1., 23.,  6., 15.,  6.,  0.,  0.,  0.,  0.,  0.,  0.,  0.,\n        0.,  0.]), array([ 1.,  1., 23.,  6., 15., 16.,  3.,  0.,  0.,  0.,  0.,  0.,  0.,\n        0.,  0.]), array([ 1.,  1., 23.,  6., 15., 16., 14.,  0.,  0.,  0.,  0.,  0.,  0.,\n        0.,  0.]), array([ 1.,  1., 23.,  6., 15., 21.,  0.,  0.,  0.,  0.,  0.,  0.,  0.,\n        0.,  0.]), array([ 1.,  1., 23.,  6., 15., 29.,  0.,  0.,  0.,  0.,  0.,  0.,  0.,\n        0.,  0.]), ...], [array([ 1.,  0., 12., 16., 15., 20., 16.,  0.,  0.,  0.,  0.,  0.,  0.,\n        0.,  0.]), array([ 1.,  1., 18.,  6.,  0.,  0.,  0.,  0.,  0.,  0.,  0.,  0.,  0.,\n        0.,  0.]), array([ 1.,  1., 18., 16., 15., 16.,  3., 27., 10., 15.,  1.,  0.,  0.,\n        0.,  0.]), array([ 1.,  1., 18., 16., 15., 16.,  3., 27., 10., 15.,  1.,  0.,  0.,\n        0.,  0.]), array([ 1.,  1., 18., 16., 15., 16.,  3., 27., 10., 15.,  1.,  0.,  0.,\n        0.,  0.]), array([ 1.,  1., 18., 16., 15., 16.,  3., 27., 10., 15.,  1.,  0.,  0.,\n        0.,  0.]), array([ 1.,  1., 18., 16., 15., 16.,  3., 27., 10., 15.,  1.,  0.,  0.,\n        0.,  0.]), array([ 1.,  1., 18., 16., 15., 16.,  3., 27., 10., 15.,  1.,  0.,  0.,\n        0.,  0.]), array([ 1.,  1., 18., 16., 15., 16.,  3., 27., 10., 15.,  1.,  0.,  0.,\n        0.,  0.]), array([ 1.,  1., 18., 16., 15., 16.,  3., 27., 10., 15.,  1.,  0.,  0.,\n        0.,  0.]), array([ 1.,  1., 23.,  6., 15.,  0.,  0.,  0.,  0.,  0.,  0.,  0.,  0.,\n        0.,  0.]), array([ 1.,  1., 23.,  6., 15.,  0.,  0.,  0.,  0.,  0.,  0.,  0.,  0.,\n        0.,  0.]), array([ 1.,  1., 23.,  6., 15.,  0.,  0.,  0.,  0.,  0.,  0.,  0.,  0.,\n        0.,  0.]), array([ 1.,  1., 23.,  6., 15.,  0.,  0.,  0.,  0.,  0.,  0.,  0.,  0.,\n        0.,  0.]), array([ 1.,  1., 23.,  6., 15.,  0.,  0.,  0.,  0.,  0.,  0.,  0.,  0.,\n        0.,  0.]), array([ 1.,  1., 23.,  6., 15.,  0.,  0.,  0.,  0.,  0.,  0.,  0.,  0.,\n        0.,  0.]), array([ 1.,  1., 23.,  6., 15.,  0.,  0.,  0.,  0.,  0.,  0.,  0.,  0.,\n        0.,  0.]), array([ 1.,  1., 23.,  6., 15.,  0.,  0.,  0.,  0.,  0.,  0.,  0.,  0.,\n        0.,  0.]), array([ 1.,  1., 23.,  6., 15.,  0.,  0.,  0.,  0.,  0.,  0.,  0.,  0.,\n        0.,  0.]), array([ 1.,  1., 23.,  6., 15.,  0.,  0.,  0.,  0.,  0.,  0.,  0.,  0.,\n        0.,  0.]), ...], {'score': <function _passthrough_scorer>}, memmap([ 885823,  885824,  885825, ..., 2657464, 2657465, 2657466]), memmap([     0,      1,      2, ..., 885820, 885821, 885822]), 2, {'bootstrap': True, 'max_depth': 30, 'max_features': 'sqrt', 'min_samples_leaf': 1, 'min_samples_split': 5, 'n_estimators': 400}), {'error_score': 'raise', 'fit_params': {}, 'return_n_test_samples': True, 'return_parameters': False, 'return_times': True, 'return_train_score': 'warn'})]\n    132 \n    133     def __len__(self):\n    134         return self._size\n    135 \n\n...........................................................................\nC:\\ProgramData\\Anaconda3\\lib\\site-packages\\sklearn\\externals\\joblib\\parallel.py in <listcomp>(.0=<list_iterator object>)\n    126     def __init__(self, iterator_slice):\n    127         self.items = list(iterator_slice)\n    128         self._size = len(self.items)\n    129 \n    130     def __call__(self):\n--> 131         return [func(*args, **kwargs) for func, args, kwargs in self.items]\n        func = <function _fit_and_score>\n        args = (RandomForestRegressor(bootstrap=True, criterion=..., random_state=None, verbose=0, warm_start=False), [array([ 1.,  0., 12., 16., 15., 20., 16.,  0.,  0.,  0.,  0.,  0.,  0.,\n        0.,  0.]), array([ 1.,  1., 18.,  6.,  0.,  0.,  0.,  0.,  0.,  0.,  0.,  0.,  0.,\n        0.,  0.]), array([ 1.,  1., 18., 16., 15., 16.,  3., 27., 10., 15.,  0.,  0.,  0.,\n        0.,  0.]), array([ 1.,  1., 18., 16., 15., 16.,  3., 27., 10., 15.,  1., 14.,  0.,\n        0.,  0.]), array([ 1.,  1., 18., 16., 15., 16.,  3., 27., 10., 15.,  1., 14., 10.,\n        0.,  0.]), array([ 1.,  1., 18., 16., 15., 16.,  3., 27., 10., 15.,  1., 23.,  0.,\n        0.,  0.]), array([ 1.,  1., 18., 16., 15., 16.,  3., 27., 10., 15.,  6.,  0.,  0.,\n        0.,  0.]), array([ 1.,  1., 18., 16., 15., 16.,  3., 27., 10., 15., 16., 11.,  0.,\n        0.,  0.]), array([ 1.,  1., 18., 16., 15., 16.,  3., 27., 10., 15., 21.,  0.,  0.,\n        0.,  0.]), array([ 1.,  1., 18., 16., 15., 16.,  3., 27., 10., 15., 29.,  0.,  0.,\n        0.,  0.]), array([ 1.,  1., 23.,  6., 15.,  0.,  0.,  0.,  0.,  0.,  0.,  0.,  0.,\n        0.,  0.]), array([ 1.,  1., 23.,  6., 15.,  1.,  0.,  0.,  0.,  0.,  0.,  0.,  0.,\n        0.,  0.]), array([ 1.,  1., 23.,  6., 15.,  1., 14.,  0.,  0.,  0.,  0.,  0.,  0.,\n        0.,  0.]), array([ 1.,  1., 23.,  6., 15.,  1., 14., 10.,  0.,  0.,  0.,  0.,  0.,\n        0.,  0.]), array([ 1.,  1., 23.,  6., 15.,  1., 23.,  0.,  0.,  0.,  0.,  0.,  0.,\n        0.,  0.]), array([ 1.,  1., 23.,  6., 15.,  6.,  0.,  0.,  0.,  0.,  0.,  0.,  0.,\n        0.,  0.]), array([ 1.,  1., 23.,  6., 15., 16.,  3.,  0.,  0.,  0.,  0.,  0.,  0.,\n        0.,  0.]), array([ 1.,  1., 23.,  6., 15., 16., 14.,  0.,  0.,  0.,  0.,  0.,  0.,\n        0.,  0.]), array([ 1.,  1., 23.,  6., 15., 21.,  0.,  0.,  0.,  0.,  0.,  0.,  0.,\n        0.,  0.]), array([ 1.,  1., 23.,  6., 15., 29.,  0.,  0.,  0.,  0.,  0.,  0.,  0.,\n        0.,  0.]), ...], [array([ 1.,  0., 12., 16., 15., 20., 16.,  0.,  0.,  0.,  0.,  0.,  0.,\n        0.,  0.]), array([ 1.,  1., 18.,  6.,  0.,  0.,  0.,  0.,  0.,  0.,  0.,  0.,  0.,\n        0.,  0.]), array([ 1.,  1., 18., 16., 15., 16.,  3., 27., 10., 15.,  1.,  0.,  0.,\n        0.,  0.]), array([ 1.,  1., 18., 16., 15., 16.,  3., 27., 10., 15.,  1.,  0.,  0.,\n        0.,  0.]), array([ 1.,  1., 18., 16., 15., 16.,  3., 27., 10., 15.,  1.,  0.,  0.,\n        0.,  0.]), array([ 1.,  1., 18., 16., 15., 16.,  3., 27., 10., 15.,  1.,  0.,  0.,\n        0.,  0.]), array([ 1.,  1., 18., 16., 15., 16.,  3., 27., 10., 15.,  1.,  0.,  0.,\n        0.,  0.]), array([ 1.,  1., 18., 16., 15., 16.,  3., 27., 10., 15.,  1.,  0.,  0.,\n        0.,  0.]), array([ 1.,  1., 18., 16., 15., 16.,  3., 27., 10., 15.,  1.,  0.,  0.,\n        0.,  0.]), array([ 1.,  1., 18., 16., 15., 16.,  3., 27., 10., 15.,  1.,  0.,  0.,\n        0.,  0.]), array([ 1.,  1., 23.,  6., 15.,  0.,  0.,  0.,  0.,  0.,  0.,  0.,  0.,\n        0.,  0.]), array([ 1.,  1., 23.,  6., 15.,  0.,  0.,  0.,  0.,  0.,  0.,  0.,  0.,\n        0.,  0.]), array([ 1.,  1., 23.,  6., 15.,  0.,  0.,  0.,  0.,  0.,  0.,  0.,  0.,\n        0.,  0.]), array([ 1.,  1., 23.,  6., 15.,  0.,  0.,  0.,  0.,  0.,  0.,  0.,  0.,\n        0.,  0.]), array([ 1.,  1., 23.,  6., 15.,  0.,  0.,  0.,  0.,  0.,  0.,  0.,  0.,\n        0.,  0.]), array([ 1.,  1., 23.,  6., 15.,  0.,  0.,  0.,  0.,  0.,  0.,  0.,  0.,\n        0.,  0.]), array([ 1.,  1., 23.,  6., 15.,  0.,  0.,  0.,  0.,  0.,  0.,  0.,  0.,\n        0.,  0.]), array([ 1.,  1., 23.,  6., 15.,  0.,  0.,  0.,  0.,  0.,  0.,  0.,  0.,\n        0.,  0.]), array([ 1.,  1., 23.,  6., 15.,  0.,  0.,  0.,  0.,  0.,  0.,  0.,  0.,\n        0.,  0.]), array([ 1.,  1., 23.,  6., 15.,  0.,  0.,  0.,  0.,  0.,  0.,  0.,  0.,\n        0.,  0.]), ...], {'score': <function _passthrough_scorer>}, memmap([ 885823,  885824,  885825, ..., 2657464, 2657465, 2657466]), memmap([     0,      1,      2, ..., 885820, 885821, 885822]), 2, {'bootstrap': True, 'max_depth': 30, 'max_features': 'sqrt', 'min_samples_leaf': 1, 'min_samples_split': 5, 'n_estimators': 400})\n        kwargs = {'error_score': 'raise', 'fit_params': {}, 'return_n_test_samples': True, 'return_parameters': False, 'return_times': True, 'return_train_score': 'warn'}\n    132 \n    133     def __len__(self):\n    134         return self._size\n    135 \n\n...........................................................................\nC:\\ProgramData\\Anaconda3\\lib\\site-packages\\sklearn\\model_selection\\_validation.py in _fit_and_score(estimator=RandomForestRegressor(bootstrap=True, criterion=..., random_state=None, verbose=0, warm_start=False), X=[array([ 1.,  0., 12., 16., 15., 20., 16.,  0.,  0.,  0.,  0.,  0.,  0.,\n        0.,  0.]), array([ 1.,  1., 18.,  6.,  0.,  0.,  0.,  0.,  0.,  0.,  0.,  0.,  0.,\n        0.,  0.]), array([ 1.,  1., 18., 16., 15., 16.,  3., 27., 10., 15.,  0.,  0.,  0.,\n        0.,  0.]), array([ 1.,  1., 18., 16., 15., 16.,  3., 27., 10., 15.,  1., 14.,  0.,\n        0.,  0.]), array([ 1.,  1., 18., 16., 15., 16.,  3., 27., 10., 15.,  1., 14., 10.,\n        0.,  0.]), array([ 1.,  1., 18., 16., 15., 16.,  3., 27., 10., 15.,  1., 23.,  0.,\n        0.,  0.]), array([ 1.,  1., 18., 16., 15., 16.,  3., 27., 10., 15.,  6.,  0.,  0.,\n        0.,  0.]), array([ 1.,  1., 18., 16., 15., 16.,  3., 27., 10., 15., 16., 11.,  0.,\n        0.,  0.]), array([ 1.,  1., 18., 16., 15., 16.,  3., 27., 10., 15., 21.,  0.,  0.,\n        0.,  0.]), array([ 1.,  1., 18., 16., 15., 16.,  3., 27., 10., 15., 29.,  0.,  0.,\n        0.,  0.]), array([ 1.,  1., 23.,  6., 15.,  0.,  0.,  0.,  0.,  0.,  0.,  0.,  0.,\n        0.,  0.]), array([ 1.,  1., 23.,  6., 15.,  1.,  0.,  0.,  0.,  0.,  0.,  0.,  0.,\n        0.,  0.]), array([ 1.,  1., 23.,  6., 15.,  1., 14.,  0.,  0.,  0.,  0.,  0.,  0.,\n        0.,  0.]), array([ 1.,  1., 23.,  6., 15.,  1., 14., 10.,  0.,  0.,  0.,  0.,  0.,\n        0.,  0.]), array([ 1.,  1., 23.,  6., 15.,  1., 23.,  0.,  0.,  0.,  0.,  0.,  0.,\n        0.,  0.]), array([ 1.,  1., 23.,  6., 15.,  6.,  0.,  0.,  0.,  0.,  0.,  0.,  0.,\n        0.,  0.]), array([ 1.,  1., 23.,  6., 15., 16.,  3.,  0.,  0.,  0.,  0.,  0.,  0.,\n        0.,  0.]), array([ 1.,  1., 23.,  6., 15., 16., 14.,  0.,  0.,  0.,  0.,  0.,  0.,\n        0.,  0.]), array([ 1.,  1., 23.,  6., 15., 21.,  0.,  0.,  0.,  0.,  0.,  0.,  0.,\n        0.,  0.]), array([ 1.,  1., 23.,  6., 15., 29.,  0.,  0.,  0.,  0.,  0.,  0.,  0.,\n        0.,  0.]), ...], y=[array([ 1.,  0., 12., 16., 15., 20., 16.,  0.,  0.,  0.,  0.,  0.,  0.,\n        0.,  0.]), array([ 1.,  1., 18.,  6.,  0.,  0.,  0.,  0.,  0.,  0.,  0.,  0.,  0.,\n        0.,  0.]), array([ 1.,  1., 18., 16., 15., 16.,  3., 27., 10., 15.,  1.,  0.,  0.,\n        0.,  0.]), array([ 1.,  1., 18., 16., 15., 16.,  3., 27., 10., 15.,  1.,  0.,  0.,\n        0.,  0.]), array([ 1.,  1., 18., 16., 15., 16.,  3., 27., 10., 15.,  1.,  0.,  0.,\n        0.,  0.]), array([ 1.,  1., 18., 16., 15., 16.,  3., 27., 10., 15.,  1.,  0.,  0.,\n        0.,  0.]), array([ 1.,  1., 18., 16., 15., 16.,  3., 27., 10., 15.,  1.,  0.,  0.,\n        0.,  0.]), array([ 1.,  1., 18., 16., 15., 16.,  3., 27., 10., 15.,  1.,  0.,  0.,\n        0.,  0.]), array([ 1.,  1., 18., 16., 15., 16.,  3., 27., 10., 15.,  1.,  0.,  0.,\n        0.,  0.]), array([ 1.,  1., 18., 16., 15., 16.,  3., 27., 10., 15.,  1.,  0.,  0.,\n        0.,  0.]), array([ 1.,  1., 23.,  6., 15.,  0.,  0.,  0.,  0.,  0.,  0.,  0.,  0.,\n        0.,  0.]), array([ 1.,  1., 23.,  6., 15.,  0.,  0.,  0.,  0.,  0.,  0.,  0.,  0.,\n        0.,  0.]), array([ 1.,  1., 23.,  6., 15.,  0.,  0.,  0.,  0.,  0.,  0.,  0.,  0.,\n        0.,  0.]), array([ 1.,  1., 23.,  6., 15.,  0.,  0.,  0.,  0.,  0.,  0.,  0.,  0.,\n        0.,  0.]), array([ 1.,  1., 23.,  6., 15.,  0.,  0.,  0.,  0.,  0.,  0.,  0.,  0.,\n        0.,  0.]), array([ 1.,  1., 23.,  6., 15.,  0.,  0.,  0.,  0.,  0.,  0.,  0.,  0.,\n        0.,  0.]), array([ 1.,  1., 23.,  6., 15.,  0.,  0.,  0.,  0.,  0.,  0.,  0.,  0.,\n        0.,  0.]), array([ 1.,  1., 23.,  6., 15.,  0.,  0.,  0.,  0.,  0.,  0.,  0.,  0.,\n        0.,  0.]), array([ 1.,  1., 23.,  6., 15.,  0.,  0.,  0.,  0.,  0.,  0.,  0.,  0.,\n        0.,  0.]), array([ 1.,  1., 23.,  6., 15.,  0.,  0.,  0.,  0.,  0.,  0.,  0.,  0.,\n        0.,  0.]), ...], scorer={'score': <function _passthrough_scorer>}, train=memmap([ 885823,  885824,  885825, ..., 2657464, 2657465, 2657466]), test=memmap([     0,      1,      2, ..., 885820, 885821, 885822]), verbose=2, parameters={'bootstrap': True, 'max_depth': 30, 'max_features': 'sqrt', 'min_samples_leaf': 1, 'min_samples_split': 5, 'n_estimators': 400}, fit_params={}, return_train_score='warn', return_parameters=False, return_n_test_samples=True, return_times=True, error_score='raise')\n    453 \n    454     try:\n    455         if y_train is None:\n    456             estimator.fit(X_train, **fit_params)\n    457         else:\n--> 458             estimator.fit(X_train, y_train, **fit_params)\n        estimator.fit = <bound method BaseForest.fit of RandomForestRegr... random_state=None, verbose=0, warm_start=False)>\n        X_train = [array([14.,  6., 20.,  1., 13., 13., 16., 13., 16., 14.,  1., 23.,  0.,\n        0.,  0.]), array([14.,  6., 20.,  1., 13., 13., 16., 13., 16., 14.,  6.,  0.,  0.,\n        0.,  0.]), array([14.,  6., 20.,  1., 13., 13., 16., 13., 16., 14., 16.,  3.,  0.,\n        0.,  0.]), array([14.,  6., 20.,  1., 13., 13., 16., 13., 16., 14., 16., 14.,  0.,\n        0.,  0.]), array([14.,  6., 20.,  1., 13., 13., 16., 13., 16., 14., 21.,  0.,  0.,\n        0.,  0.]), array([14.,  6., 20.,  1., 13., 13., 16., 13., 16., 14., 29.,  0.,  0.,\n        0.,  0.]), array([14.,  6., 20.,  1., 13., 13., 16., 14.,  0.,  0.,  0.,  0.,  0.,\n        0.,  0.]), array([14.,  6., 20.,  1., 13., 13., 16., 14.,  6., 20., 18., 10., 25.,\n        6., 19.]), array([14.,  6., 20.,  1., 13., 13., 16., 14.,  6., 20., 18., 10., 25.,\n        6., 19.]), array([14.,  6., 20.,  1., 13., 13., 16., 14.,  6., 20., 18., 10., 25.,\n        6., 19.]), array([14.,  6., 20.,  1., 13., 13., 16., 14.,  6., 20., 18., 10., 25.,\n        6., 19.]), array([14.,  6., 20.,  1., 13., 13., 16., 14.,  6., 20., 18., 10., 25.,\n        6., 19.]), array([14.,  6., 20.,  1., 13., 13., 16., 14.,  6., 20., 18., 10., 25.,\n        6., 19.]), array([14.,  6., 20.,  1., 13., 13., 16., 14.,  6., 20., 18., 10., 25.,\n        6., 19.]), array([14.,  6., 20.,  1., 13., 13., 16., 14.,  6., 20., 18., 10., 25.,\n        6., 19.]), array([14.,  6., 20.,  1., 13., 13., 16., 14.,  6., 20., 18., 10., 25.,\n        6., 19.]), array([14.,  6., 20.,  1., 13., 13., 16., 14.,  6., 20., 18., 10., 25.,\n        6., 19.]), array([14.,  6., 20.,  1., 13., 13., 16., 14.,  6., 20., 18., 10., 25.,\n        6., 19.]), array([14.,  6., 20.,  1., 13., 13., 16., 14.,  6., 20., 18., 10., 25.,\n        6., 19.]), array([14.,  6., 20.,  1., 13., 13., 16., 15., 16., 19.,  6., 15.,  0.,\n        0.,  0.]), ...]\n        y_train = [array([14.,  6., 20.,  1., 13., 13., 16., 13., 16., 14.,  0.,  0.,  0.,\n        0.,  0.]), array([14.,  6., 20.,  1., 13., 13., 16., 13., 16., 14.,  0.,  0.,  0.,\n        0.,  0.]), array([14.,  6., 20.,  1., 13., 13., 16., 13., 16., 14.,  0.,  0.,  0.,\n        0.,  0.]), array([14.,  6., 20.,  1., 13., 13., 16., 13., 16., 14.,  0.,  0.,  0.,\n        0.,  0.]), array([14.,  6., 20.,  1., 13., 13., 16., 13., 16., 14.,  0.,  0.,  0.,\n        0.,  0.]), array([14.,  6., 20.,  1., 13., 13., 16., 13., 16., 14.,  0.,  0.,  0.,\n        0.,  0.]), array([14.,  6., 20.,  1., 13., 13.,  0.,  0.,  0.,  0.,  0.,  0.,  0.,\n        0.,  0.]), array([14.,  6., 20.,  1., 13., 13., 16., 14.,  6., 20., 18., 10., 25.,\n        6., 19.]), array([14.,  6., 20.,  1., 13., 13., 16., 14.,  6., 20., 18., 10., 25.,\n        6., 19.]), array([14.,  6., 20.,  1., 13., 13., 16., 14.,  6., 20., 18., 10., 25.,\n        6., 19.]), array([14.,  6., 20.,  1., 13., 13., 16., 14.,  6., 20., 18., 10., 25.,\n        6., 19.]), array([14.,  6., 20.,  1., 13., 13., 16., 14.,  6., 20., 18., 10., 25.,\n        6., 19.]), array([14.,  6., 20.,  1., 13., 13., 16., 14.,  6., 20., 18., 10., 25.,\n        6., 19.]), array([14.,  6., 20.,  1., 13., 13., 16., 14.,  6., 20., 18., 10., 25.,\n        6., 19.]), array([14.,  6., 20.,  1., 13., 13., 16., 14.,  6., 20., 18., 10., 25.,\n        6., 19.]), array([14.,  6., 20.,  1., 13., 13., 16., 14.,  6., 20., 18., 10., 25.,\n        6., 19.]), array([14.,  6., 20.,  1., 13., 13., 16., 14.,  6., 20., 18., 10., 25.,\n        6., 19.]), array([14.,  6., 20.,  1., 13., 13., 16., 14.,  6., 20., 18., 10., 25.,\n        6., 19.]), array([14.,  6., 20.,  1., 13., 13., 16., 14.,  6., 20., 18., 10., 25.,\n        6., 19.]), array([14.,  6., 20.,  1., 13., 13., 16., 15., 16., 19., 15., 29., 11.,\n        0.,  0.]), ...]\n        fit_params = {}\n    459 \n    460     except Exception as e:\n    461         # Note fit time as time until error\n    462         fit_time = time.time() - start_time\n\n...........................................................................\nC:\\ProgramData\\Anaconda3\\lib\\site-packages\\sklearn\\ensemble\\forest.py in fit(self=RandomForestRegressor(bootstrap=True, criterion=..., random_state=None, verbose=0, warm_start=False), X=array([[14.,  6., 20., ...,  0.,  0.,  0.],\n    ...., 33., 23., ...,  0.,  0.,  0.]], dtype=float32), y=array([[14.,  6., 20., ...,  0.,  0.,  0.],\n    ...0.],\n       [33., 33.,  0., ...,  0.,  0.,  0.]]), sample_weight=None)\n    323             trees = Parallel(n_jobs=self.n_jobs, verbose=self.verbose,\n    324                              backend=\"threading\")(\n    325                 delayed(_parallel_build_trees)(\n    326                     t, self, X, y, sample_weight, i, len(trees),\n    327                     verbose=self.verbose, class_weight=self.class_weight)\n--> 328                 for i, t in enumerate(trees))\n        i = 399\n    329 \n    330             # Collect newly grown trees\n    331             self.estimators_.extend(trees)\n    332 \n\n...........................................................................\nC:\\ProgramData\\Anaconda3\\lib\\site-packages\\sklearn\\externals\\joblib\\parallel.py in __call__(self=Parallel(n_jobs=1), iterable=<generator object BaseForest.fit.<locals>.<genexpr>>)\n    774         self.n_completed_tasks = 0\n    775         try:\n    776             # Only set self._iterating to True if at least a batch\n    777             # was dispatched. In particular this covers the edge\n    778             # case of Parallel used with an exhausted iterator.\n--> 779             while self.dispatch_one_batch(iterator):\n        self.dispatch_one_batch = <bound method Parallel.dispatch_one_batch of Parallel(n_jobs=1)>\n        iterator = <generator object BaseForest.fit.<locals>.<genexpr>>\n    780                 self._iterating = True\n    781             else:\n    782                 self._iterating = False\n    783 \n\n...........................................................................\nC:\\ProgramData\\Anaconda3\\lib\\site-packages\\sklearn\\externals\\joblib\\parallel.py in dispatch_one_batch(self=Parallel(n_jobs=1), iterator=<generator object BaseForest.fit.<locals>.<genexpr>>)\n    620             tasks = BatchedCalls(itertools.islice(iterator, batch_size))\n    621             if len(tasks) == 0:\n    622                 # No more tasks available in the iterator: tell caller to stop.\n    623                 return False\n    624             else:\n--> 625                 self._dispatch(tasks)\n        self._dispatch = <bound method Parallel._dispatch of Parallel(n_jobs=1)>\n        tasks = <sklearn.externals.joblib.parallel.BatchedCalls object>\n    626                 return True\n    627 \n    628     def _print(self, msg, msg_args):\n    629         \"\"\"Display the message on stout or stderr depending on verbosity\"\"\"\n\n...........................................................................\nC:\\ProgramData\\Anaconda3\\lib\\site-packages\\sklearn\\externals\\joblib\\parallel.py in _dispatch(self=Parallel(n_jobs=1), batch=<sklearn.externals.joblib.parallel.BatchedCalls object>)\n    583         self.n_dispatched_tasks += len(batch)\n    584         self.n_dispatched_batches += 1\n    585 \n    586         dispatch_timestamp = time.time()\n    587         cb = BatchCompletionCallBack(dispatch_timestamp, len(batch), self)\n--> 588         job = self._backend.apply_async(batch, callback=cb)\n        job = undefined\n        self._backend.apply_async = <bound method SequentialBackend.apply_async of <...lib._parallel_backends.SequentialBackend object>>\n        batch = <sklearn.externals.joblib.parallel.BatchedCalls object>\n        cb = <sklearn.externals.joblib.parallel.BatchCompletionCallBack object>\n    589         self._jobs.append(job)\n    590 \n    591     def dispatch_next(self):\n    592         \"\"\"Dispatch more data for parallel processing\n\n...........................................................................\nC:\\ProgramData\\Anaconda3\\lib\\site-packages\\sklearn\\externals\\joblib\\_parallel_backends.py in apply_async(self=<sklearn.externals.joblib._parallel_backends.SequentialBackend object>, func=<sklearn.externals.joblib.parallel.BatchedCalls object>, callback=<sklearn.externals.joblib.parallel.BatchCompletionCallBack object>)\n    106             raise ValueError('n_jobs == 0 in Parallel has no meaning')\n    107         return 1\n    108 \n    109     def apply_async(self, func, callback=None):\n    110         \"\"\"Schedule a func to be run\"\"\"\n--> 111         result = ImmediateResult(func)\n        result = undefined\n        func = <sklearn.externals.joblib.parallel.BatchedCalls object>\n    112         if callback:\n    113             callback(result)\n    114         return result\n    115 \n\n...........................................................................\nC:\\ProgramData\\Anaconda3\\lib\\site-packages\\sklearn\\externals\\joblib\\_parallel_backends.py in __init__(self=<sklearn.externals.joblib._parallel_backends.ImmediateResult object>, batch=<sklearn.externals.joblib.parallel.BatchedCalls object>)\n    327 \n    328 class ImmediateResult(object):\n    329     def __init__(self, batch):\n    330         # Don't delay the application, to avoid keeping the input\n    331         # arguments in memory\n--> 332         self.results = batch()\n        self.results = undefined\n        batch = <sklearn.externals.joblib.parallel.BatchedCalls object>\n    333 \n    334     def get(self):\n    335         return self.results\n    336 \n\n...........................................................................\nC:\\ProgramData\\Anaconda3\\lib\\site-packages\\sklearn\\externals\\joblib\\parallel.py in __call__(self=<sklearn.externals.joblib.parallel.BatchedCalls object>)\n    126     def __init__(self, iterator_slice):\n    127         self.items = list(iterator_slice)\n    128         self._size = len(self.items)\n    129 \n    130     def __call__(self):\n--> 131         return [func(*args, **kwargs) for func, args, kwargs in self.items]\n        self.items = [(<function _parallel_build_trees>, (DecisionTreeRegressor(criterion='mse', max_depth...t=False, random_state=608625772, splitter='best'), RandomForestRegressor(bootstrap=True, criterion=..., random_state=None, verbose=0, warm_start=False), array([[14.,  6., 20., ...,  0.,  0.,  0.],\n    ...., 33., 23., ...,  0.,  0.,  0.]], dtype=float32), array([[14.,  6., 20., ...,  0.,  0.,  0.],\n    ...0.],\n       [33., 33.,  0., ...,  0.,  0.,  0.]]), None, 18, 400), {'class_weight': None, 'verbose': 0})]\n    132 \n    133     def __len__(self):\n    134         return self._size\n    135 \n\n...........................................................................\nC:\\ProgramData\\Anaconda3\\lib\\site-packages\\sklearn\\externals\\joblib\\parallel.py in <listcomp>(.0=<list_iterator object>)\n    126     def __init__(self, iterator_slice):\n    127         self.items = list(iterator_slice)\n    128         self._size = len(self.items)\n    129 \n    130     def __call__(self):\n--> 131         return [func(*args, **kwargs) for func, args, kwargs in self.items]\n        func = <function _parallel_build_trees>\n        args = (DecisionTreeRegressor(criterion='mse', max_depth...t=False, random_state=608625772, splitter='best'), RandomForestRegressor(bootstrap=True, criterion=..., random_state=None, verbose=0, warm_start=False), array([[14.,  6., 20., ...,  0.,  0.,  0.],\n    ...., 33., 23., ...,  0.,  0.,  0.]], dtype=float32), array([[14.,  6., 20., ...,  0.,  0.,  0.],\n    ...0.],\n       [33., 33.,  0., ...,  0.,  0.,  0.]]), None, 18, 400)\n        kwargs = {'class_weight': None, 'verbose': 0}\n    132 \n    133     def __len__(self):\n    134         return self._size\n    135 \n\n...........................................................................\nC:\\ProgramData\\Anaconda3\\lib\\site-packages\\sklearn\\ensemble\\forest.py in _parallel_build_trees(tree=DecisionTreeRegressor(criterion='mse', max_depth...t=False, random_state=608625772, splitter='best'), forest=RandomForestRegressor(bootstrap=True, criterion=..., random_state=None, verbose=0, warm_start=False), X=array([[14.,  6., 20., ...,  0.,  0.,  0.],\n    ...., 33., 23., ...,  0.,  0.,  0.]], dtype=float32), y=array([[14.,  6., 20., ...,  0.,  0.,  0.],\n    ...0.],\n       [33., 33.,  0., ...,  0.,  0.,  0.]]), sample_weight=None, tree_idx=18, n_trees=400, verbose=0, class_weight=None)\n    116                 warnings.simplefilter('ignore', DeprecationWarning)\n    117                 curr_sample_weight *= compute_sample_weight('auto', y, indices)\n    118         elif class_weight == 'balanced_subsample':\n    119             curr_sample_weight *= compute_sample_weight('balanced', y, indices)\n    120 \n--> 121         tree.fit(X, y, sample_weight=curr_sample_weight, check_input=False)\n        tree.fit = <bound method DecisionTreeRegressor.fit of Decis...=False, random_state=608625772, splitter='best')>\n        X = array([[14.,  6., 20., ...,  0.,  0.,  0.],\n    ...., 33., 23., ...,  0.,  0.,  0.]], dtype=float32)\n        y = array([[14.,  6., 20., ...,  0.,  0.,  0.],\n    ...0.],\n       [33., 33.,  0., ...,  0.,  0.,  0.]])\n        sample_weight = None\n        curr_sample_weight = array([1., 0., 1., ..., 1., 0., 1.])\n    122     else:\n    123         tree.fit(X, y, sample_weight=sample_weight, check_input=False)\n    124 \n    125     return tree\n\n...........................................................................\nC:\\ProgramData\\Anaconda3\\lib\\site-packages\\sklearn\\tree\\tree.py in fit(self=DecisionTreeRegressor(criterion='mse', max_depth...t=False, random_state=608625772, splitter='best'), X=array([[14.,  6., 20., ...,  0.,  0.,  0.],\n    ...., 33., 23., ...,  0.,  0.,  0.]], dtype=float32), y=array([[14.,  6., 20., ...,  0.,  0.,  0.],\n    ...0.],\n       [33., 33.,  0., ...,  0.,  0.,  0.]]), sample_weight=array([1., 0., 1., ..., 1., 0., 1.]), check_input=False, X_idx_sorted=None)\n   1119 \n   1120         super(DecisionTreeRegressor, self).fit(\n   1121             X, y,\n   1122             sample_weight=sample_weight,\n   1123             check_input=check_input,\n-> 1124             X_idx_sorted=X_idx_sorted)\n        X_idx_sorted = None\n   1125         return self\n   1126 \n   1127 \n   1128 class ExtraTreeClassifier(DecisionTreeClassifier):\n\n...........................................................................\nC:\\ProgramData\\Anaconda3\\lib\\site-packages\\sklearn\\tree\\tree.py in fit(self=DecisionTreeRegressor(criterion='mse', max_depth...t=False, random_state=608625772, splitter='best'), X=array([[14.,  6., 20., ...,  0.,  0.,  0.],\n    ...., 33., 23., ...,  0.,  0.,  0.]], dtype=float32), y=array([[14.,  6., 20., ...,  0.,  0.,  0.],\n    ...0.],\n       [33., 33.,  0., ...,  0.,  0.,  0.]]), sample_weight=array([1., 0., 1., ..., 1., 0., 1.]), check_input=False, X_idx_sorted=None)\n    357                                            max_depth,\n    358                                            max_leaf_nodes,\n    359                                            self.min_impurity_decrease,\n    360                                            min_impurity_split)\n    361 \n--> 362         builder.build(self.tree_, X, y, sample_weight, X_idx_sorted)\n        builder.build = <built-in method build of sklearn.tree._tree.DepthFirstTreeBuilder object>\n        self.tree_ = <sklearn.tree._tree.Tree object>\n        X = array([[14.,  6., 20., ...,  0.,  0.,  0.],\n    ...., 33., 23., ...,  0.,  0.,  0.]], dtype=float32)\n        y = array([[14.,  6., 20., ...,  0.,  0.,  0.],\n    ...0.],\n       [33., 33.,  0., ...,  0.,  0.,  0.]])\n        sample_weight = array([1., 0., 1., ..., 1., 0., 1.])\n        X_idx_sorted = None\n    363 \n    364         if self.n_outputs_ == 1:\n    365             self.n_classes_ = self.n_classes_[0]\n    366             self.classes_ = self.classes_[0]\n\n...........................................................................\nC:\\ProgramData\\Anaconda3\\lib\\site-packages\\sklearn\\tree\\_tree.cp36-win_amd64.pyd in sklearn.tree._tree.DepthFirstTreeBuilder.build()\n\n...........................................................................\nC:\\ProgramData\\Anaconda3\\lib\\site-packages\\sklearn\\tree\\_tree.cp36-win_amd64.pyd in sklearn.tree._tree.DepthFirstTreeBuilder.build()\n\n...........................................................................\nC:\\ProgramData\\Anaconda3\\lib\\site-packages\\sklearn\\tree\\_tree.cp36-win_amd64.pyd in sklearn.tree._tree.Tree._add_node()\n\n...........................................................................\nC:\\ProgramData\\Anaconda3\\lib\\site-packages\\sklearn\\tree\\_tree.cp36-win_amd64.pyd in sklearn.tree._tree.Tree._resize_c()\n\n...........................................................................\nC:\\ProgramData\\Anaconda3\\lib\\site-packages\\sklearn\\tree\\_utils.cp36-win_amd64.pyd in sklearn.tree._utils.safe_realloc()\n\nMemoryError: could not allocate 125829120 bytes\n___________________________________________________________________________\n\"\"\"",
      "\nThe above exception was the direct cause of the following exception:\n",
      "\u001b[1;31mTransportableException\u001b[0m                    Traceback (most recent call last)",
      "\u001b[1;32mC:\\ProgramData\\Anaconda3\\lib\\site-packages\\sklearn\\externals\\joblib\\parallel.py\u001b[0m in \u001b[0;36mretrieve\u001b[1;34m(self)\u001b[0m\n\u001b[0;32m    698\u001b[0m                 \u001b[1;32mif\u001b[0m \u001b[0mgetattr\u001b[0m\u001b[1;33m(\u001b[0m\u001b[0mself\u001b[0m\u001b[1;33m.\u001b[0m\u001b[0m_backend\u001b[0m\u001b[1;33m,\u001b[0m \u001b[1;34m'supports_timeout'\u001b[0m\u001b[1;33m,\u001b[0m \u001b[1;32mFalse\u001b[0m\u001b[1;33m)\u001b[0m\u001b[1;33m:\u001b[0m\u001b[1;33m\u001b[0m\u001b[0m\n\u001b[1;32m--> 699\u001b[1;33m                     \u001b[0mself\u001b[0m\u001b[1;33m.\u001b[0m\u001b[0m_output\u001b[0m\u001b[1;33m.\u001b[0m\u001b[0mextend\u001b[0m\u001b[1;33m(\u001b[0m\u001b[0mjob\u001b[0m\u001b[1;33m.\u001b[0m\u001b[0mget\u001b[0m\u001b[1;33m(\u001b[0m\u001b[0mtimeout\u001b[0m\u001b[1;33m=\u001b[0m\u001b[0mself\u001b[0m\u001b[1;33m.\u001b[0m\u001b[0mtimeout\u001b[0m\u001b[1;33m)\u001b[0m\u001b[1;33m)\u001b[0m\u001b[1;33m\u001b[0m\u001b[0m\n\u001b[0m\u001b[0;32m    700\u001b[0m                 \u001b[1;32melse\u001b[0m\u001b[1;33m:\u001b[0m\u001b[1;33m\u001b[0m\u001b[0m\n",
      "\u001b[1;32mC:\\ProgramData\\Anaconda3\\lib\\multiprocessing\\pool.py\u001b[0m in \u001b[0;36mget\u001b[1;34m(self, timeout)\u001b[0m\n\u001b[0;32m    643\u001b[0m         \u001b[1;32melse\u001b[0m\u001b[1;33m:\u001b[0m\u001b[1;33m\u001b[0m\u001b[0m\n\u001b[1;32m--> 644\u001b[1;33m             \u001b[1;32mraise\u001b[0m \u001b[0mself\u001b[0m\u001b[1;33m.\u001b[0m\u001b[0m_value\u001b[0m\u001b[1;33m\u001b[0m\u001b[0m\n\u001b[0m\u001b[0;32m    645\u001b[0m \u001b[1;33m\u001b[0m\u001b[0m\n",
      "\u001b[1;31mTransportableException\u001b[0m: TransportableException\n___________________________________________________________________________\nMemoryError                                        Wed Jul 18 17:32:13 2018\nPID: 14380                Python 3.6.5: C:\\ProgramData\\Anaconda3\\python.exe\n...........................................................................\nC:\\ProgramData\\Anaconda3\\lib\\site-packages\\sklearn\\externals\\joblib\\parallel.py in __call__(self=<sklearn.externals.joblib.parallel.BatchedCalls object>)\n    126     def __init__(self, iterator_slice):\n    127         self.items = list(iterator_slice)\n    128         self._size = len(self.items)\n    129 \n    130     def __call__(self):\n--> 131         return [func(*args, **kwargs) for func, args, kwargs in self.items]\n        self.items = [(<function _fit_and_score>, (RandomForestRegressor(bootstrap=True, criterion=..., random_state=None, verbose=0, warm_start=False), [array([ 1.,  0., 12., 16., 15., 20., 16.,  0.,  0.,  0.,  0.,  0.,  0.,\n        0.,  0.]), array([ 1.,  1., 18.,  6.,  0.,  0.,  0.,  0.,  0.,  0.,  0.,  0.,  0.,\n        0.,  0.]), array([ 1.,  1., 18., 16., 15., 16.,  3., 27., 10., 15.,  0.,  0.,  0.,\n        0.,  0.]), array([ 1.,  1., 18., 16., 15., 16.,  3., 27., 10., 15.,  1., 14.,  0.,\n        0.,  0.]), array([ 1.,  1., 18., 16., 15., 16.,  3., 27., 10., 15.,  1., 14., 10.,\n        0.,  0.]), array([ 1.,  1., 18., 16., 15., 16.,  3., 27., 10., 15.,  1., 23.,  0.,\n        0.,  0.]), array([ 1.,  1., 18., 16., 15., 16.,  3., 27., 10., 15.,  6.,  0.,  0.,\n        0.,  0.]), array([ 1.,  1., 18., 16., 15., 16.,  3., 27., 10., 15., 16., 11.,  0.,\n        0.,  0.]), array([ 1.,  1., 18., 16., 15., 16.,  3., 27., 10., 15., 21.,  0.,  0.,\n        0.,  0.]), array([ 1.,  1., 18., 16., 15., 16.,  3., 27., 10., 15., 29.,  0.,  0.,\n        0.,  0.]), array([ 1.,  1., 23.,  6., 15.,  0.,  0.,  0.,  0.,  0.,  0.,  0.,  0.,\n        0.,  0.]), array([ 1.,  1., 23.,  6., 15.,  1.,  0.,  0.,  0.,  0.,  0.,  0.,  0.,\n        0.,  0.]), array([ 1.,  1., 23.,  6., 15.,  1., 14.,  0.,  0.,  0.,  0.,  0.,  0.,\n        0.,  0.]), array([ 1.,  1., 23.,  6., 15.,  1., 14., 10.,  0.,  0.,  0.,  0.,  0.,\n        0.,  0.]), array([ 1.,  1., 23.,  6., 15.,  1., 23.,  0.,  0.,  0.,  0.,  0.,  0.,\n        0.,  0.]), array([ 1.,  1., 23.,  6., 15.,  6.,  0.,  0.,  0.,  0.,  0.,  0.,  0.,\n        0.,  0.]), array([ 1.,  1., 23.,  6., 15., 16.,  3.,  0.,  0.,  0.,  0.,  0.,  0.,\n        0.,  0.]), array([ 1.,  1., 23.,  6., 15., 16., 14.,  0.,  0.,  0.,  0.,  0.,  0.,\n        0.,  0.]), array([ 1.,  1., 23.,  6., 15., 21.,  0.,  0.,  0.,  0.,  0.,  0.,  0.,\n        0.,  0.]), array([ 1.,  1., 23.,  6., 15., 29.,  0.,  0.,  0.,  0.,  0.,  0.,  0.,\n        0.,  0.]), ...], [array([ 1.,  0., 12., 16., 15., 20., 16.,  0.,  0.,  0.,  0.,  0.,  0.,\n        0.,  0.]), array([ 1.,  1., 18.,  6.,  0.,  0.,  0.,  0.,  0.,  0.,  0.,  0.,  0.,\n        0.,  0.]), array([ 1.,  1., 18., 16., 15., 16.,  3., 27., 10., 15.,  1.,  0.,  0.,\n        0.,  0.]), array([ 1.,  1., 18., 16., 15., 16.,  3., 27., 10., 15.,  1.,  0.,  0.,\n        0.,  0.]), array([ 1.,  1., 18., 16., 15., 16.,  3., 27., 10., 15.,  1.,  0.,  0.,\n        0.,  0.]), array([ 1.,  1., 18., 16., 15., 16.,  3., 27., 10., 15.,  1.,  0.,  0.,\n        0.,  0.]), array([ 1.,  1., 18., 16., 15., 16.,  3., 27., 10., 15.,  1.,  0.,  0.,\n        0.,  0.]), array([ 1.,  1., 18., 16., 15., 16.,  3., 27., 10., 15.,  1.,  0.,  0.,\n        0.,  0.]), array([ 1.,  1., 18., 16., 15., 16.,  3., 27., 10., 15.,  1.,  0.,  0.,\n        0.,  0.]), array([ 1.,  1., 18., 16., 15., 16.,  3., 27., 10., 15.,  1.,  0.,  0.,\n        0.,  0.]), array([ 1.,  1., 23.,  6., 15.,  0.,  0.,  0.,  0.,  0.,  0.,  0.,  0.,\n        0.,  0.]), array([ 1.,  1., 23.,  6., 15.,  0.,  0.,  0.,  0.,  0.,  0.,  0.,  0.,\n        0.,  0.]), array([ 1.,  1., 23.,  6., 15.,  0.,  0.,  0.,  0.,  0.,  0.,  0.,  0.,\n        0.,  0.]), array([ 1.,  1., 23.,  6., 15.,  0.,  0.,  0.,  0.,  0.,  0.,  0.,  0.,\n        0.,  0.]), array([ 1.,  1., 23.,  6., 15.,  0.,  0.,  0.,  0.,  0.,  0.,  0.,  0.,\n        0.,  0.]), array([ 1.,  1., 23.,  6., 15.,  0.,  0.,  0.,  0.,  0.,  0.,  0.,  0.,\n        0.,  0.]), array([ 1.,  1., 23.,  6., 15.,  0.,  0.,  0.,  0.,  0.,  0.,  0.,  0.,\n        0.,  0.]), array([ 1.,  1., 23.,  6., 15.,  0.,  0.,  0.,  0.,  0.,  0.,  0.,  0.,\n        0.,  0.]), array([ 1.,  1., 23.,  6., 15.,  0.,  0.,  0.,  0.,  0.,  0.,  0.,  0.,\n        0.,  0.]), array([ 1.,  1., 23.,  6., 15.,  0.,  0.,  0.,  0.,  0.,  0.,  0.,  0.,\n        0.,  0.]), ...], {'score': <function _passthrough_scorer>}, memmap([ 885823,  885824,  885825, ..., 2657464, 2657465, 2657466]), memmap([     0,      1,      2, ..., 885820, 885821, 885822]), 2, {'bootstrap': True, 'max_depth': 30, 'max_features': 'sqrt', 'min_samples_leaf': 1, 'min_samples_split': 5, 'n_estimators': 400}), {'error_score': 'raise', 'fit_params': {}, 'return_n_test_samples': True, 'return_parameters': False, 'return_times': True, 'return_train_score': 'warn'})]\n    132 \n    133     def __len__(self):\n    134         return self._size\n    135 \n\n...........................................................................\nC:\\ProgramData\\Anaconda3\\lib\\site-packages\\sklearn\\externals\\joblib\\parallel.py in <listcomp>(.0=<list_iterator object>)\n    126     def __init__(self, iterator_slice):\n    127         self.items = list(iterator_slice)\n    128         self._size = len(self.items)\n    129 \n    130     def __call__(self):\n--> 131         return [func(*args, **kwargs) for func, args, kwargs in self.items]\n        func = <function _fit_and_score>\n        args = (RandomForestRegressor(bootstrap=True, criterion=..., random_state=None, verbose=0, warm_start=False), [array([ 1.,  0., 12., 16., 15., 20., 16.,  0.,  0.,  0.,  0.,  0.,  0.,\n        0.,  0.]), array([ 1.,  1., 18.,  6.,  0.,  0.,  0.,  0.,  0.,  0.,  0.,  0.,  0.,\n        0.,  0.]), array([ 1.,  1., 18., 16., 15., 16.,  3., 27., 10., 15.,  0.,  0.,  0.,\n        0.,  0.]), array([ 1.,  1., 18., 16., 15., 16.,  3., 27., 10., 15.,  1., 14.,  0.,\n        0.,  0.]), array([ 1.,  1., 18., 16., 15., 16.,  3., 27., 10., 15.,  1., 14., 10.,\n        0.,  0.]), array([ 1.,  1., 18., 16., 15., 16.,  3., 27., 10., 15.,  1., 23.,  0.,\n        0.,  0.]), array([ 1.,  1., 18., 16., 15., 16.,  3., 27., 10., 15.,  6.,  0.,  0.,\n        0.,  0.]), array([ 1.,  1., 18., 16., 15., 16.,  3., 27., 10., 15., 16., 11.,  0.,\n        0.,  0.]), array([ 1.,  1., 18., 16., 15., 16.,  3., 27., 10., 15., 21.,  0.,  0.,\n        0.,  0.]), array([ 1.,  1., 18., 16., 15., 16.,  3., 27., 10., 15., 29.,  0.,  0.,\n        0.,  0.]), array([ 1.,  1., 23.,  6., 15.,  0.,  0.,  0.,  0.,  0.,  0.,  0.,  0.,\n        0.,  0.]), array([ 1.,  1., 23.,  6., 15.,  1.,  0.,  0.,  0.,  0.,  0.,  0.,  0.,\n        0.,  0.]), array([ 1.,  1., 23.,  6., 15.,  1., 14.,  0.,  0.,  0.,  0.,  0.,  0.,\n        0.,  0.]), array([ 1.,  1., 23.,  6., 15.,  1., 14., 10.,  0.,  0.,  0.,  0.,  0.,\n        0.,  0.]), array([ 1.,  1., 23.,  6., 15.,  1., 23.,  0.,  0.,  0.,  0.,  0.,  0.,\n        0.,  0.]), array([ 1.,  1., 23.,  6., 15.,  6.,  0.,  0.,  0.,  0.,  0.,  0.,  0.,\n        0.,  0.]), array([ 1.,  1., 23.,  6., 15., 16.,  3.,  0.,  0.,  0.,  0.,  0.,  0.,\n        0.,  0.]), array([ 1.,  1., 23.,  6., 15., 16., 14.,  0.,  0.,  0.,  0.,  0.,  0.,\n        0.,  0.]), array([ 1.,  1., 23.,  6., 15., 21.,  0.,  0.,  0.,  0.,  0.,  0.,  0.,\n        0.,  0.]), array([ 1.,  1., 23.,  6., 15., 29.,  0.,  0.,  0.,  0.,  0.,  0.,  0.,\n        0.,  0.]), ...], [array([ 1.,  0., 12., 16., 15., 20., 16.,  0.,  0.,  0.,  0.,  0.,  0.,\n        0.,  0.]), array([ 1.,  1., 18.,  6.,  0.,  0.,  0.,  0.,  0.,  0.,  0.,  0.,  0.,\n        0.,  0.]), array([ 1.,  1., 18., 16., 15., 16.,  3., 27., 10., 15.,  1.,  0.,  0.,\n        0.,  0.]), array([ 1.,  1., 18., 16., 15., 16.,  3., 27., 10., 15.,  1.,  0.,  0.,\n        0.,  0.]), array([ 1.,  1., 18., 16., 15., 16.,  3., 27., 10., 15.,  1.,  0.,  0.,\n        0.,  0.]), array([ 1.,  1., 18., 16., 15., 16.,  3., 27., 10., 15.,  1.,  0.,  0.,\n        0.,  0.]), array([ 1.,  1., 18., 16., 15., 16.,  3., 27., 10., 15.,  1.,  0.,  0.,\n        0.,  0.]), array([ 1.,  1., 18., 16., 15., 16.,  3., 27., 10., 15.,  1.,  0.,  0.,\n        0.,  0.]), array([ 1.,  1., 18., 16., 15., 16.,  3., 27., 10., 15.,  1.,  0.,  0.,\n        0.,  0.]), array([ 1.,  1., 18., 16., 15., 16.,  3., 27., 10., 15.,  1.,  0.,  0.,\n        0.,  0.]), array([ 1.,  1., 23.,  6., 15.,  0.,  0.,  0.,  0.,  0.,  0.,  0.,  0.,\n        0.,  0.]), array([ 1.,  1., 23.,  6., 15.,  0.,  0.,  0.,  0.,  0.,  0.,  0.,  0.,\n        0.,  0.]), array([ 1.,  1., 23.,  6., 15.,  0.,  0.,  0.,  0.,  0.,  0.,  0.,  0.,\n        0.,  0.]), array([ 1.,  1., 23.,  6., 15.,  0.,  0.,  0.,  0.,  0.,  0.,  0.,  0.,\n        0.,  0.]), array([ 1.,  1., 23.,  6., 15.,  0.,  0.,  0.,  0.,  0.,  0.,  0.,  0.,\n        0.,  0.]), array([ 1.,  1., 23.,  6., 15.,  0.,  0.,  0.,  0.,  0.,  0.,  0.,  0.,\n        0.,  0.]), array([ 1.,  1., 23.,  6., 15.,  0.,  0.,  0.,  0.,  0.,  0.,  0.,  0.,\n        0.,  0.]), array([ 1.,  1., 23.,  6., 15.,  0.,  0.,  0.,  0.,  0.,  0.,  0.,  0.,\n        0.,  0.]), array([ 1.,  1., 23.,  6., 15.,  0.,  0.,  0.,  0.,  0.,  0.,  0.,  0.,\n        0.,  0.]), array([ 1.,  1., 23.,  6., 15.,  0.,  0.,  0.,  0.,  0.,  0.,  0.,  0.,\n        0.,  0.]), ...], {'score': <function _passthrough_scorer>}, memmap([ 885823,  885824,  885825, ..., 2657464, 2657465, 2657466]), memmap([     0,      1,      2, ..., 885820, 885821, 885822]), 2, {'bootstrap': True, 'max_depth': 30, 'max_features': 'sqrt', 'min_samples_leaf': 1, 'min_samples_split': 5, 'n_estimators': 400})\n        kwargs = {'error_score': 'raise', 'fit_params': {}, 'return_n_test_samples': True, 'return_parameters': False, 'return_times': True, 'return_train_score': 'warn'}\n    132 \n    133     def __len__(self):\n    134         return self._size\n    135 \n\n...........................................................................\nC:\\ProgramData\\Anaconda3\\lib\\site-packages\\sklearn\\model_selection\\_validation.py in _fit_and_score(estimator=RandomForestRegressor(bootstrap=True, criterion=..., random_state=None, verbose=0, warm_start=False), X=[array([ 1.,  0., 12., 16., 15., 20., 16.,  0.,  0.,  0.,  0.,  0.,  0.,\n        0.,  0.]), array([ 1.,  1., 18.,  6.,  0.,  0.,  0.,  0.,  0.,  0.,  0.,  0.,  0.,\n        0.,  0.]), array([ 1.,  1., 18., 16., 15., 16.,  3., 27., 10., 15.,  0.,  0.,  0.,\n        0.,  0.]), array([ 1.,  1., 18., 16., 15., 16.,  3., 27., 10., 15.,  1., 14.,  0.,\n        0.,  0.]), array([ 1.,  1., 18., 16., 15., 16.,  3., 27., 10., 15.,  1., 14., 10.,\n        0.,  0.]), array([ 1.,  1., 18., 16., 15., 16.,  3., 27., 10., 15.,  1., 23.,  0.,\n        0.,  0.]), array([ 1.,  1., 18., 16., 15., 16.,  3., 27., 10., 15.,  6.,  0.,  0.,\n        0.,  0.]), array([ 1.,  1., 18., 16., 15., 16.,  3., 27., 10., 15., 16., 11.,  0.,\n        0.,  0.]), array([ 1.,  1., 18., 16., 15., 16.,  3., 27., 10., 15., 21.,  0.,  0.,\n        0.,  0.]), array([ 1.,  1., 18., 16., 15., 16.,  3., 27., 10., 15., 29.,  0.,  0.,\n        0.,  0.]), array([ 1.,  1., 23.,  6., 15.,  0.,  0.,  0.,  0.,  0.,  0.,  0.,  0.,\n        0.,  0.]), array([ 1.,  1., 23.,  6., 15.,  1.,  0.,  0.,  0.,  0.,  0.,  0.,  0.,\n        0.,  0.]), array([ 1.,  1., 23.,  6., 15.,  1., 14.,  0.,  0.,  0.,  0.,  0.,  0.,\n        0.,  0.]), array([ 1.,  1., 23.,  6., 15.,  1., 14., 10.,  0.,  0.,  0.,  0.,  0.,\n        0.,  0.]), array([ 1.,  1., 23.,  6., 15.,  1., 23.,  0.,  0.,  0.,  0.,  0.,  0.,\n        0.,  0.]), array([ 1.,  1., 23.,  6., 15.,  6.,  0.,  0.,  0.,  0.,  0.,  0.,  0.,\n        0.,  0.]), array([ 1.,  1., 23.,  6., 15., 16.,  3.,  0.,  0.,  0.,  0.,  0.,  0.,\n        0.,  0.]), array([ 1.,  1., 23.,  6., 15., 16., 14.,  0.,  0.,  0.,  0.,  0.,  0.,\n        0.,  0.]), array([ 1.,  1., 23.,  6., 15., 21.,  0.,  0.,  0.,  0.,  0.,  0.,  0.,\n        0.,  0.]), array([ 1.,  1., 23.,  6., 15., 29.,  0.,  0.,  0.,  0.,  0.,  0.,  0.,\n        0.,  0.]), ...], y=[array([ 1.,  0., 12., 16., 15., 20., 16.,  0.,  0.,  0.,  0.,  0.,  0.,\n        0.,  0.]), array([ 1.,  1., 18.,  6.,  0.,  0.,  0.,  0.,  0.,  0.,  0.,  0.,  0.,\n        0.,  0.]), array([ 1.,  1., 18., 16., 15., 16.,  3., 27., 10., 15.,  1.,  0.,  0.,\n        0.,  0.]), array([ 1.,  1., 18., 16., 15., 16.,  3., 27., 10., 15.,  1.,  0.,  0.,\n        0.,  0.]), array([ 1.,  1., 18., 16., 15., 16.,  3., 27., 10., 15.,  1.,  0.,  0.,\n        0.,  0.]), array([ 1.,  1., 18., 16., 15., 16.,  3., 27., 10., 15.,  1.,  0.,  0.,\n        0.,  0.]), array([ 1.,  1., 18., 16., 15., 16.,  3., 27., 10., 15.,  1.,  0.,  0.,\n        0.,  0.]), array([ 1.,  1., 18., 16., 15., 16.,  3., 27., 10., 15.,  1.,  0.,  0.,\n        0.,  0.]), array([ 1.,  1., 18., 16., 15., 16.,  3., 27., 10., 15.,  1.,  0.,  0.,\n        0.,  0.]), array([ 1.,  1., 18., 16., 15., 16.,  3., 27., 10., 15.,  1.,  0.,  0.,\n        0.,  0.]), array([ 1.,  1., 23.,  6., 15.,  0.,  0.,  0.,  0.,  0.,  0.,  0.,  0.,\n        0.,  0.]), array([ 1.,  1., 23.,  6., 15.,  0.,  0.,  0.,  0.,  0.,  0.,  0.,  0.,\n        0.,  0.]), array([ 1.,  1., 23.,  6., 15.,  0.,  0.,  0.,  0.,  0.,  0.,  0.,  0.,\n        0.,  0.]), array([ 1.,  1., 23.,  6., 15.,  0.,  0.,  0.,  0.,  0.,  0.,  0.,  0.,\n        0.,  0.]), array([ 1.,  1., 23.,  6., 15.,  0.,  0.,  0.,  0.,  0.,  0.,  0.,  0.,\n        0.,  0.]), array([ 1.,  1., 23.,  6., 15.,  0.,  0.,  0.,  0.,  0.,  0.,  0.,  0.,\n        0.,  0.]), array([ 1.,  1., 23.,  6., 15.,  0.,  0.,  0.,  0.,  0.,  0.,  0.,  0.,\n        0.,  0.]), array([ 1.,  1., 23.,  6., 15.,  0.,  0.,  0.,  0.,  0.,  0.,  0.,  0.,\n        0.,  0.]), array([ 1.,  1., 23.,  6., 15.,  0.,  0.,  0.,  0.,  0.,  0.,  0.,  0.,\n        0.,  0.]), array([ 1.,  1., 23.,  6., 15.,  0.,  0.,  0.,  0.,  0.,  0.,  0.,  0.,\n        0.,  0.]), ...], scorer={'score': <function _passthrough_scorer>}, train=memmap([ 885823,  885824,  885825, ..., 2657464, 2657465, 2657466]), test=memmap([     0,      1,      2, ..., 885820, 885821, 885822]), verbose=2, parameters={'bootstrap': True, 'max_depth': 30, 'max_features': 'sqrt', 'min_samples_leaf': 1, 'min_samples_split': 5, 'n_estimators': 400}, fit_params={}, return_train_score='warn', return_parameters=False, return_n_test_samples=True, return_times=True, error_score='raise')\n    453 \n    454     try:\n    455         if y_train is None:\n    456             estimator.fit(X_train, **fit_params)\n    457         else:\n--> 458             estimator.fit(X_train, y_train, **fit_params)\n        estimator.fit = <bound method BaseForest.fit of RandomForestRegr... random_state=None, verbose=0, warm_start=False)>\n        X_train = [array([14.,  6., 20.,  1., 13., 13., 16., 13., 16., 14.,  1., 23.,  0.,\n        0.,  0.]), array([14.,  6., 20.,  1., 13., 13., 16., 13., 16., 14.,  6.,  0.,  0.,\n        0.,  0.]), array([14.,  6., 20.,  1., 13., 13., 16., 13., 16., 14., 16.,  3.,  0.,\n        0.,  0.]), array([14.,  6., 20.,  1., 13., 13., 16., 13., 16., 14., 16., 14.,  0.,\n        0.,  0.]), array([14.,  6., 20.,  1., 13., 13., 16., 13., 16., 14., 21.,  0.,  0.,\n        0.,  0.]), array([14.,  6., 20.,  1., 13., 13., 16., 13., 16., 14., 29.,  0.,  0.,\n        0.,  0.]), array([14.,  6., 20.,  1., 13., 13., 16., 14.,  0.,  0.,  0.,  0.,  0.,\n        0.,  0.]), array([14.,  6., 20.,  1., 13., 13., 16., 14.,  6., 20., 18., 10., 25.,\n        6., 19.]), array([14.,  6., 20.,  1., 13., 13., 16., 14.,  6., 20., 18., 10., 25.,\n        6., 19.]), array([14.,  6., 20.,  1., 13., 13., 16., 14.,  6., 20., 18., 10., 25.,\n        6., 19.]), array([14.,  6., 20.,  1., 13., 13., 16., 14.,  6., 20., 18., 10., 25.,\n        6., 19.]), array([14.,  6., 20.,  1., 13., 13., 16., 14.,  6., 20., 18., 10., 25.,\n        6., 19.]), array([14.,  6., 20.,  1., 13., 13., 16., 14.,  6., 20., 18., 10., 25.,\n        6., 19.]), array([14.,  6., 20.,  1., 13., 13., 16., 14.,  6., 20., 18., 10., 25.,\n        6., 19.]), array([14.,  6., 20.,  1., 13., 13., 16., 14.,  6., 20., 18., 10., 25.,\n        6., 19.]), array([14.,  6., 20.,  1., 13., 13., 16., 14.,  6., 20., 18., 10., 25.,\n        6., 19.]), array([14.,  6., 20.,  1., 13., 13., 16., 14.,  6., 20., 18., 10., 25.,\n        6., 19.]), array([14.,  6., 20.,  1., 13., 13., 16., 14.,  6., 20., 18., 10., 25.,\n        6., 19.]), array([14.,  6., 20.,  1., 13., 13., 16., 14.,  6., 20., 18., 10., 25.,\n        6., 19.]), array([14.,  6., 20.,  1., 13., 13., 16., 15., 16., 19.,  6., 15.,  0.,\n        0.,  0.]), ...]\n        y_train = [array([14.,  6., 20.,  1., 13., 13., 16., 13., 16., 14.,  0.,  0.,  0.,\n        0.,  0.]), array([14.,  6., 20.,  1., 13., 13., 16., 13., 16., 14.,  0.,  0.,  0.,\n        0.,  0.]), array([14.,  6., 20.,  1., 13., 13., 16., 13., 16., 14.,  0.,  0.,  0.,\n        0.,  0.]), array([14.,  6., 20.,  1., 13., 13., 16., 13., 16., 14.,  0.,  0.,  0.,\n        0.,  0.]), array([14.,  6., 20.,  1., 13., 13., 16., 13., 16., 14.,  0.,  0.,  0.,\n        0.,  0.]), array([14.,  6., 20.,  1., 13., 13., 16., 13., 16., 14.,  0.,  0.,  0.,\n        0.,  0.]), array([14.,  6., 20.,  1., 13., 13.,  0.,  0.,  0.,  0.,  0.,  0.,  0.,\n        0.,  0.]), array([14.,  6., 20.,  1., 13., 13., 16., 14.,  6., 20., 18., 10., 25.,\n        6., 19.]), array([14.,  6., 20.,  1., 13., 13., 16., 14.,  6., 20., 18., 10., 25.,\n        6., 19.]), array([14.,  6., 20.,  1., 13., 13., 16., 14.,  6., 20., 18., 10., 25.,\n        6., 19.]), array([14.,  6., 20.,  1., 13., 13., 16., 14.,  6., 20., 18., 10., 25.,\n        6., 19.]), array([14.,  6., 20.,  1., 13., 13., 16., 14.,  6., 20., 18., 10., 25.,\n        6., 19.]), array([14.,  6., 20.,  1., 13., 13., 16., 14.,  6., 20., 18., 10., 25.,\n        6., 19.]), array([14.,  6., 20.,  1., 13., 13., 16., 14.,  6., 20., 18., 10., 25.,\n        6., 19.]), array([14.,  6., 20.,  1., 13., 13., 16., 14.,  6., 20., 18., 10., 25.,\n        6., 19.]), array([14.,  6., 20.,  1., 13., 13., 16., 14.,  6., 20., 18., 10., 25.,\n        6., 19.]), array([14.,  6., 20.,  1., 13., 13., 16., 14.,  6., 20., 18., 10., 25.,\n        6., 19.]), array([14.,  6., 20.,  1., 13., 13., 16., 14.,  6., 20., 18., 10., 25.,\n        6., 19.]), array([14.,  6., 20.,  1., 13., 13., 16., 14.,  6., 20., 18., 10., 25.,\n        6., 19.]), array([14.,  6., 20.,  1., 13., 13., 16., 15., 16., 19., 15., 29., 11.,\n        0.,  0.]), ...]\n        fit_params = {}\n    459 \n    460     except Exception as e:\n    461         # Note fit time as time until error\n    462         fit_time = time.time() - start_time\n\n...........................................................................\nC:\\ProgramData\\Anaconda3\\lib\\site-packages\\sklearn\\ensemble\\forest.py in fit(self=RandomForestRegressor(bootstrap=True, criterion=..., random_state=None, verbose=0, warm_start=False), X=array([[14.,  6., 20., ...,  0.,  0.,  0.],\n    ...., 33., 23., ...,  0.,  0.,  0.]], dtype=float32), y=array([[14.,  6., 20., ...,  0.,  0.,  0.],\n    ...0.],\n       [33., 33.,  0., ...,  0.,  0.,  0.]]), sample_weight=None)\n    323             trees = Parallel(n_jobs=self.n_jobs, verbose=self.verbose,\n    324                              backend=\"threading\")(\n    325                 delayed(_parallel_build_trees)(\n    326                     t, self, X, y, sample_weight, i, len(trees),\n    327                     verbose=self.verbose, class_weight=self.class_weight)\n--> 328                 for i, t in enumerate(trees))\n        i = 399\n    329 \n    330             # Collect newly grown trees\n    331             self.estimators_.extend(trees)\n    332 \n\n...........................................................................\nC:\\ProgramData\\Anaconda3\\lib\\site-packages\\sklearn\\externals\\joblib\\parallel.py in __call__(self=Parallel(n_jobs=1), iterable=<generator object BaseForest.fit.<locals>.<genexpr>>)\n    774         self.n_completed_tasks = 0\n    775         try:\n    776             # Only set self._iterating to True if at least a batch\n    777             # was dispatched. In particular this covers the edge\n    778             # case of Parallel used with an exhausted iterator.\n--> 779             while self.dispatch_one_batch(iterator):\n        self.dispatch_one_batch = <bound method Parallel.dispatch_one_batch of Parallel(n_jobs=1)>\n        iterator = <generator object BaseForest.fit.<locals>.<genexpr>>\n    780                 self._iterating = True\n    781             else:\n    782                 self._iterating = False\n    783 \n\n...........................................................................\nC:\\ProgramData\\Anaconda3\\lib\\site-packages\\sklearn\\externals\\joblib\\parallel.py in dispatch_one_batch(self=Parallel(n_jobs=1), iterator=<generator object BaseForest.fit.<locals>.<genexpr>>)\n    620             tasks = BatchedCalls(itertools.islice(iterator, batch_size))\n    621             if len(tasks) == 0:\n    622                 # No more tasks available in the iterator: tell caller to stop.\n    623                 return False\n    624             else:\n--> 625                 self._dispatch(tasks)\n        self._dispatch = <bound method Parallel._dispatch of Parallel(n_jobs=1)>\n        tasks = <sklearn.externals.joblib.parallel.BatchedCalls object>\n    626                 return True\n    627 \n    628     def _print(self, msg, msg_args):\n    629         \"\"\"Display the message on stout or stderr depending on verbosity\"\"\"\n\n...........................................................................\nC:\\ProgramData\\Anaconda3\\lib\\site-packages\\sklearn\\externals\\joblib\\parallel.py in _dispatch(self=Parallel(n_jobs=1), batch=<sklearn.externals.joblib.parallel.BatchedCalls object>)\n    583         self.n_dispatched_tasks += len(batch)\n    584         self.n_dispatched_batches += 1\n    585 \n    586         dispatch_timestamp = time.time()\n    587         cb = BatchCompletionCallBack(dispatch_timestamp, len(batch), self)\n--> 588         job = self._backend.apply_async(batch, callback=cb)\n        job = undefined\n        self._backend.apply_async = <bound method SequentialBackend.apply_async of <...lib._parallel_backends.SequentialBackend object>>\n        batch = <sklearn.externals.joblib.parallel.BatchedCalls object>\n        cb = <sklearn.externals.joblib.parallel.BatchCompletionCallBack object>\n    589         self._jobs.append(job)\n    590 \n    591     def dispatch_next(self):\n    592         \"\"\"Dispatch more data for parallel processing\n\n...........................................................................\nC:\\ProgramData\\Anaconda3\\lib\\site-packages\\sklearn\\externals\\joblib\\_parallel_backends.py in apply_async(self=<sklearn.externals.joblib._parallel_backends.SequentialBackend object>, func=<sklearn.externals.joblib.parallel.BatchedCalls object>, callback=<sklearn.externals.joblib.parallel.BatchCompletionCallBack object>)\n    106             raise ValueError('n_jobs == 0 in Parallel has no meaning')\n    107         return 1\n    108 \n    109     def apply_async(self, func, callback=None):\n    110         \"\"\"Schedule a func to be run\"\"\"\n--> 111         result = ImmediateResult(func)\n        result = undefined\n        func = <sklearn.externals.joblib.parallel.BatchedCalls object>\n    112         if callback:\n    113             callback(result)\n    114         return result\n    115 \n\n...........................................................................\nC:\\ProgramData\\Anaconda3\\lib\\site-packages\\sklearn\\externals\\joblib\\_parallel_backends.py in __init__(self=<sklearn.externals.joblib._parallel_backends.ImmediateResult object>, batch=<sklearn.externals.joblib.parallel.BatchedCalls object>)\n    327 \n    328 class ImmediateResult(object):\n    329     def __init__(self, batch):\n    330         # Don't delay the application, to avoid keeping the input\n    331         # arguments in memory\n--> 332         self.results = batch()\n        self.results = undefined\n        batch = <sklearn.externals.joblib.parallel.BatchedCalls object>\n    333 \n    334     def get(self):\n    335         return self.results\n    336 \n\n...........................................................................\nC:\\ProgramData\\Anaconda3\\lib\\site-packages\\sklearn\\externals\\joblib\\parallel.py in __call__(self=<sklearn.externals.joblib.parallel.BatchedCalls object>)\n    126     def __init__(self, iterator_slice):\n    127         self.items = list(iterator_slice)\n    128         self._size = len(self.items)\n    129 \n    130     def __call__(self):\n--> 131         return [func(*args, **kwargs) for func, args, kwargs in self.items]\n        self.items = [(<function _parallel_build_trees>, (DecisionTreeRegressor(criterion='mse', max_depth...t=False, random_state=608625772, splitter='best'), RandomForestRegressor(bootstrap=True, criterion=..., random_state=None, verbose=0, warm_start=False), array([[14.,  6., 20., ...,  0.,  0.,  0.],\n    ...., 33., 23., ...,  0.,  0.,  0.]], dtype=float32), array([[14.,  6., 20., ...,  0.,  0.,  0.],\n    ...0.],\n       [33., 33.,  0., ...,  0.,  0.,  0.]]), None, 18, 400), {'class_weight': None, 'verbose': 0})]\n    132 \n    133     def __len__(self):\n    134         return self._size\n    135 \n\n...........................................................................\nC:\\ProgramData\\Anaconda3\\lib\\site-packages\\sklearn\\externals\\joblib\\parallel.py in <listcomp>(.0=<list_iterator object>)\n    126     def __init__(self, iterator_slice):\n    127         self.items = list(iterator_slice)\n    128         self._size = len(self.items)\n    129 \n    130     def __call__(self):\n--> 131         return [func(*args, **kwargs) for func, args, kwargs in self.items]\n        func = <function _parallel_build_trees>\n        args = (DecisionTreeRegressor(criterion='mse', max_depth...t=False, random_state=608625772, splitter='best'), RandomForestRegressor(bootstrap=True, criterion=..., random_state=None, verbose=0, warm_start=False), array([[14.,  6., 20., ...,  0.,  0.,  0.],\n    ...., 33., 23., ...,  0.,  0.,  0.]], dtype=float32), array([[14.,  6., 20., ...,  0.,  0.,  0.],\n    ...0.],\n       [33., 33.,  0., ...,  0.,  0.,  0.]]), None, 18, 400)\n        kwargs = {'class_weight': None, 'verbose': 0}\n    132 \n    133     def __len__(self):\n    134         return self._size\n    135 \n\n...........................................................................\nC:\\ProgramData\\Anaconda3\\lib\\site-packages\\sklearn\\ensemble\\forest.py in _parallel_build_trees(tree=DecisionTreeRegressor(criterion='mse', max_depth...t=False, random_state=608625772, splitter='best'), forest=RandomForestRegressor(bootstrap=True, criterion=..., random_state=None, verbose=0, warm_start=False), X=array([[14.,  6., 20., ...,  0.,  0.,  0.],\n    ...., 33., 23., ...,  0.,  0.,  0.]], dtype=float32), y=array([[14.,  6., 20., ...,  0.,  0.,  0.],\n    ...0.],\n       [33., 33.,  0., ...,  0.,  0.,  0.]]), sample_weight=None, tree_idx=18, n_trees=400, verbose=0, class_weight=None)\n    116                 warnings.simplefilter('ignore', DeprecationWarning)\n    117                 curr_sample_weight *= compute_sample_weight('auto', y, indices)\n    118         elif class_weight == 'balanced_subsample':\n    119             curr_sample_weight *= compute_sample_weight('balanced', y, indices)\n    120 \n--> 121         tree.fit(X, y, sample_weight=curr_sample_weight, check_input=False)\n        tree.fit = <bound method DecisionTreeRegressor.fit of Decis...=False, random_state=608625772, splitter='best')>\n        X = array([[14.,  6., 20., ...,  0.,  0.,  0.],\n    ...., 33., 23., ...,  0.,  0.,  0.]], dtype=float32)\n        y = array([[14.,  6., 20., ...,  0.,  0.,  0.],\n    ...0.],\n       [33., 33.,  0., ...,  0.,  0.,  0.]])\n        sample_weight = None\n        curr_sample_weight = array([1., 0., 1., ..., 1., 0., 1.])\n    122     else:\n    123         tree.fit(X, y, sample_weight=sample_weight, check_input=False)\n    124 \n    125     return tree\n\n...........................................................................\nC:\\ProgramData\\Anaconda3\\lib\\site-packages\\sklearn\\tree\\tree.py in fit(self=DecisionTreeRegressor(criterion='mse', max_depth...t=False, random_state=608625772, splitter='best'), X=array([[14.,  6., 20., ...,  0.,  0.,  0.],\n    ...., 33., 23., ...,  0.,  0.,  0.]], dtype=float32), y=array([[14.,  6., 20., ...,  0.,  0.,  0.],\n    ...0.],\n       [33., 33.,  0., ...,  0.,  0.,  0.]]), sample_weight=array([1., 0., 1., ..., 1., 0., 1.]), check_input=False, X_idx_sorted=None)\n   1119 \n   1120         super(DecisionTreeRegressor, self).fit(\n   1121             X, y,\n   1122             sample_weight=sample_weight,\n   1123             check_input=check_input,\n-> 1124             X_idx_sorted=X_idx_sorted)\n        X_idx_sorted = None\n   1125         return self\n   1126 \n   1127 \n   1128 class ExtraTreeClassifier(DecisionTreeClassifier):\n\n...........................................................................\nC:\\ProgramData\\Anaconda3\\lib\\site-packages\\sklearn\\tree\\tree.py in fit(self=DecisionTreeRegressor(criterion='mse', max_depth...t=False, random_state=608625772, splitter='best'), X=array([[14.,  6., 20., ...,  0.,  0.,  0.],\n    ...., 33., 23., ...,  0.,  0.,  0.]], dtype=float32), y=array([[14.,  6., 20., ...,  0.,  0.,  0.],\n    ...0.],\n       [33., 33.,  0., ...,  0.,  0.,  0.]]), sample_weight=array([1., 0., 1., ..., 1., 0., 1.]), check_input=False, X_idx_sorted=None)\n    357                                            max_depth,\n    358                                            max_leaf_nodes,\n    359                                            self.min_impurity_decrease,\n    360                                            min_impurity_split)\n    361 \n--> 362         builder.build(self.tree_, X, y, sample_weight, X_idx_sorted)\n        builder.build = <built-in method build of sklearn.tree._tree.DepthFirstTreeBuilder object>\n        self.tree_ = <sklearn.tree._tree.Tree object>\n        X = array([[14.,  6., 20., ...,  0.,  0.,  0.],\n    ...., 33., 23., ...,  0.,  0.,  0.]], dtype=float32)\n        y = array([[14.,  6., 20., ...,  0.,  0.,  0.],\n    ...0.],\n       [33., 33.,  0., ...,  0.,  0.,  0.]])\n        sample_weight = array([1., 0., 1., ..., 1., 0., 1.])\n        X_idx_sorted = None\n    363 \n    364         if self.n_outputs_ == 1:\n    365             self.n_classes_ = self.n_classes_[0]\n    366             self.classes_ = self.classes_[0]\n\n...........................................................................\nC:\\ProgramData\\Anaconda3\\lib\\site-packages\\sklearn\\tree\\_tree.cp36-win_amd64.pyd in sklearn.tree._tree.DepthFirstTreeBuilder.build()\n\n...........................................................................\nC:\\ProgramData\\Anaconda3\\lib\\site-packages\\sklearn\\tree\\_tree.cp36-win_amd64.pyd in sklearn.tree._tree.DepthFirstTreeBuilder.build()\n\n...........................................................................\nC:\\ProgramData\\Anaconda3\\lib\\site-packages\\sklearn\\tree\\_tree.cp36-win_amd64.pyd in sklearn.tree._tree.Tree._add_node()\n\n...........................................................................\nC:\\ProgramData\\Anaconda3\\lib\\site-packages\\sklearn\\tree\\_tree.cp36-win_amd64.pyd in sklearn.tree._tree.Tree._resize_c()\n\n...........................................................................\nC:\\ProgramData\\Anaconda3\\lib\\site-packages\\sklearn\\tree\\_utils.cp36-win_amd64.pyd in sklearn.tree._utils.safe_realloc()\n\nMemoryError: could not allocate 125829120 bytes\n___________________________________________________________________________",
      "\nDuring handling of the above exception, another exception occurred:\n",
      "\u001b[1;31mJoblibMemoryError\u001b[0m                         Traceback (most recent call last)",
      "\u001b[1;32m<timed exec>\u001b[0m in \u001b[0;36m<module>\u001b[1;34m()\u001b[0m\n",
      "\u001b[1;32mC:\\ProgramData\\Anaconda3\\lib\\site-packages\\sklearn\\model_selection\\_search.py\u001b[0m in \u001b[0;36mfit\u001b[1;34m(self, X, y, groups, **fit_params)\u001b[0m\n\u001b[0;32m    637\u001b[0m                                   error_score=self.error_score)\n\u001b[0;32m    638\u001b[0m           for parameters, (train, test) in product(candidate_params,\n\u001b[1;32m--> 639\u001b[1;33m                                                    cv.split(X, y, groups)))\n\u001b[0m\u001b[0;32m    640\u001b[0m \u001b[1;33m\u001b[0m\u001b[0m\n\u001b[0;32m    641\u001b[0m         \u001b[1;31m# if one choose to see train score, \"out\" will contain train score info\u001b[0m\u001b[1;33m\u001b[0m\u001b[1;33m\u001b[0m\u001b[0m\n",
      "\u001b[1;32mC:\\ProgramData\\Anaconda3\\lib\\site-packages\\sklearn\\externals\\joblib\\parallel.py\u001b[0m in \u001b[0;36m__call__\u001b[1;34m(self, iterable)\u001b[0m\n\u001b[0;32m    787\u001b[0m                 \u001b[1;31m# consumption.\u001b[0m\u001b[1;33m\u001b[0m\u001b[1;33m\u001b[0m\u001b[0m\n\u001b[0;32m    788\u001b[0m                 \u001b[0mself\u001b[0m\u001b[1;33m.\u001b[0m\u001b[0m_iterating\u001b[0m \u001b[1;33m=\u001b[0m \u001b[1;32mFalse\u001b[0m\u001b[1;33m\u001b[0m\u001b[0m\n\u001b[1;32m--> 789\u001b[1;33m             \u001b[0mself\u001b[0m\u001b[1;33m.\u001b[0m\u001b[0mretrieve\u001b[0m\u001b[1;33m(\u001b[0m\u001b[1;33m)\u001b[0m\u001b[1;33m\u001b[0m\u001b[0m\n\u001b[0m\u001b[0;32m    790\u001b[0m             \u001b[1;31m# Make sure that we get a last message telling us we are done\u001b[0m\u001b[1;33m\u001b[0m\u001b[1;33m\u001b[0m\u001b[0m\n\u001b[0;32m    791\u001b[0m             \u001b[0melapsed_time\u001b[0m \u001b[1;33m=\u001b[0m \u001b[0mtime\u001b[0m\u001b[1;33m.\u001b[0m\u001b[0mtime\u001b[0m\u001b[1;33m(\u001b[0m\u001b[1;33m)\u001b[0m \u001b[1;33m-\u001b[0m \u001b[0mself\u001b[0m\u001b[1;33m.\u001b[0m\u001b[0m_start_time\u001b[0m\u001b[1;33m\u001b[0m\u001b[0m\n",
      "\u001b[1;32mC:\\ProgramData\\Anaconda3\\lib\\site-packages\\sklearn\\externals\\joblib\\parallel.py\u001b[0m in \u001b[0;36mretrieve\u001b[1;34m(self)\u001b[0m\n\u001b[0;32m    738\u001b[0m                     \u001b[0mexception\u001b[0m \u001b[1;33m=\u001b[0m \u001b[0mexception_type\u001b[0m\u001b[1;33m(\u001b[0m\u001b[0mreport\u001b[0m\u001b[1;33m)\u001b[0m\u001b[1;33m\u001b[0m\u001b[0m\n\u001b[0;32m    739\u001b[0m \u001b[1;33m\u001b[0m\u001b[0m\n\u001b[1;32m--> 740\u001b[1;33m                     \u001b[1;32mraise\u001b[0m \u001b[0mexception\u001b[0m\u001b[1;33m\u001b[0m\u001b[0m\n\u001b[0m\u001b[0;32m    741\u001b[0m \u001b[1;33m\u001b[0m\u001b[0m\n\u001b[0;32m    742\u001b[0m     \u001b[1;32mdef\u001b[0m \u001b[0m__call__\u001b[0m\u001b[1;33m(\u001b[0m\u001b[0mself\u001b[0m\u001b[1;33m,\u001b[0m \u001b[0miterable\u001b[0m\u001b[1;33m)\u001b[0m\u001b[1;33m:\u001b[0m\u001b[1;33m\u001b[0m\u001b[0m\n",
      "\u001b[1;31mJoblibMemoryError\u001b[0m: JoblibMemoryError\n___________________________________________________________________________\nMultiprocessing exception:\n...........................................................................\nC:\\ProgramData\\Anaconda3\\lib\\runpy.py in _run_module_as_main(mod_name='ipykernel_launcher', alter_argv=1)\n    188         sys.exit(msg)\n    189     main_globals = sys.modules[\"__main__\"].__dict__\n    190     if alter_argv:\n    191         sys.argv[0] = mod_spec.origin\n    192     return _run_code(code, main_globals, None,\n--> 193                      \"__main__\", mod_spec)\n        mod_spec = ModuleSpec(name='ipykernel_launcher', loader=<_f...nda3\\\\lib\\\\site-packages\\\\ipykernel_launcher.py')\n    194 \n    195 def run_module(mod_name, init_globals=None,\n    196                run_name=None, alter_sys=False):\n    197     \"\"\"Execute a module's code without importing it\n\n...........................................................................\nC:\\ProgramData\\Anaconda3\\lib\\runpy.py in _run_code(code=<code object <module> at 0x0000022DE02821E0, fil...lib\\site-packages\\ipykernel_launcher.py\", line 5>, run_globals={'__annotations__': {}, '__builtins__': <module 'builtins' (built-in)>, '__cached__': r'C:\\ProgramData\\Anaconda3\\lib\\site-packages\\__pycache__\\ipykernel_launcher.cpython-36.pyc', '__doc__': 'Entry point for launching an IPython kernel.\\n\\nTh...orts until\\nafter removing the cwd from sys.path.\\n', '__file__': r'C:\\ProgramData\\Anaconda3\\lib\\site-packages\\ipykernel_launcher.py', '__loader__': <_frozen_importlib_external.SourceFileLoader object>, '__name__': '__main__', '__package__': '', '__spec__': ModuleSpec(name='ipykernel_launcher', loader=<_f...nda3\\\\lib\\\\site-packages\\\\ipykernel_launcher.py'), 'app': <module 'ipykernel.kernelapp' from 'C:\\\\ProgramD...a3\\\\lib\\\\site-packages\\\\ipykernel\\\\kernelapp.py'>, ...}, init_globals=None, mod_name='__main__', mod_spec=ModuleSpec(name='ipykernel_launcher', loader=<_f...nda3\\\\lib\\\\site-packages\\\\ipykernel_launcher.py'), pkg_name='', script_name=None)\n     80                        __cached__ = cached,\n     81                        __doc__ = None,\n     82                        __loader__ = loader,\n     83                        __package__ = pkg_name,\n     84                        __spec__ = mod_spec)\n---> 85     exec(code, run_globals)\n        code = <code object <module> at 0x0000022DE02821E0, fil...lib\\site-packages\\ipykernel_launcher.py\", line 5>\n        run_globals = {'__annotations__': {}, '__builtins__': <module 'builtins' (built-in)>, '__cached__': r'C:\\ProgramData\\Anaconda3\\lib\\site-packages\\__pycache__\\ipykernel_launcher.cpython-36.pyc', '__doc__': 'Entry point for launching an IPython kernel.\\n\\nTh...orts until\\nafter removing the cwd from sys.path.\\n', '__file__': r'C:\\ProgramData\\Anaconda3\\lib\\site-packages\\ipykernel_launcher.py', '__loader__': <_frozen_importlib_external.SourceFileLoader object>, '__name__': '__main__', '__package__': '', '__spec__': ModuleSpec(name='ipykernel_launcher', loader=<_f...nda3\\\\lib\\\\site-packages\\\\ipykernel_launcher.py'), 'app': <module 'ipykernel.kernelapp' from 'C:\\\\ProgramD...a3\\\\lib\\\\site-packages\\\\ipykernel\\\\kernelapp.py'>, ...}\n     86     return run_globals\n     87 \n     88 def _run_module_code(code, init_globals=None,\n     89                     mod_name=None, mod_spec=None,\n\n...........................................................................\nC:\\ProgramData\\Anaconda3\\lib\\site-packages\\ipykernel_launcher.py in <module>()\n     11     # This is added back by InteractiveShellApp.init_path()\n     12     if sys.path[0] == '':\n     13         del sys.path[0]\n     14 \n     15     from ipykernel import kernelapp as app\n---> 16     app.launch_new_instance()\n\n...........................................................................\nC:\\ProgramData\\Anaconda3\\lib\\site-packages\\traitlets\\config\\application.py in launch_instance(cls=<class 'ipykernel.kernelapp.IPKernelApp'>, argv=None, **kwargs={})\n    653 \n    654         If a global instance already exists, this reinitializes and starts it\n    655         \"\"\"\n    656         app = cls.instance(**kwargs)\n    657         app.initialize(argv)\n--> 658         app.start()\n        app.start = <bound method IPKernelApp.start of <ipykernel.kernelapp.IPKernelApp object>>\n    659 \n    660 #-----------------------------------------------------------------------------\n    661 # utility functions, for convenience\n    662 #-----------------------------------------------------------------------------\n\n...........................................................................\nC:\\ProgramData\\Anaconda3\\lib\\site-packages\\ipykernel\\kernelapp.py in start(self=<ipykernel.kernelapp.IPKernelApp object>)\n    481         if self.poller is not None:\n    482             self.poller.start()\n    483         self.kernel.start()\n    484         self.io_loop = ioloop.IOLoop.current()\n    485         try:\n--> 486             self.io_loop.start()\n        self.io_loop.start = <bound method BaseAsyncIOLoop.start of <tornado.platform.asyncio.AsyncIOMainLoop object>>\n    487         except KeyboardInterrupt:\n    488             pass\n    489 \n    490 launch_new_instance = IPKernelApp.launch_instance\n\n...........................................................................\nC:\\ProgramData\\Anaconda3\\lib\\site-packages\\tornado\\platform\\asyncio.py in start(self=<tornado.platform.asyncio.AsyncIOMainLoop object>)\n    122         except (RuntimeError, AssertionError):\n    123             old_loop = None\n    124         try:\n    125             self._setup_logging()\n    126             asyncio.set_event_loop(self.asyncio_loop)\n--> 127             self.asyncio_loop.run_forever()\n        self.asyncio_loop.run_forever = <bound method BaseEventLoop.run_forever of <_Win...EventLoop running=True closed=False debug=False>>\n    128         finally:\n    129             asyncio.set_event_loop(old_loop)\n    130 \n    131     def stop(self):\n\n...........................................................................\nC:\\ProgramData\\Anaconda3\\lib\\asyncio\\base_events.py in run_forever(self=<_WindowsSelectorEventLoop running=True closed=False debug=False>)\n    417             sys.set_asyncgen_hooks(firstiter=self._asyncgen_firstiter_hook,\n    418                                    finalizer=self._asyncgen_finalizer_hook)\n    419         try:\n    420             events._set_running_loop(self)\n    421             while True:\n--> 422                 self._run_once()\n        self._run_once = <bound method BaseEventLoop._run_once of <_Windo...EventLoop running=True closed=False debug=False>>\n    423                 if self._stopping:\n    424                     break\n    425         finally:\n    426             self._stopping = False\n\n...........................................................................\nC:\\ProgramData\\Anaconda3\\lib\\asyncio\\base_events.py in _run_once(self=<_WindowsSelectorEventLoop running=True closed=False debug=False>)\n   1427                         logger.warning('Executing %s took %.3f seconds',\n   1428                                        _format_handle(handle), dt)\n   1429                 finally:\n   1430                     self._current_handle = None\n   1431             else:\n-> 1432                 handle._run()\n        handle._run = <bound method Handle._run of <Handle BaseAsyncIOLoop._handle_events(560, 1)>>\n   1433         handle = None  # Needed to break cycles when an exception occurs.\n   1434 \n   1435     def _set_coroutine_wrapper(self, enabled):\n   1436         try:\n\n...........................................................................\nC:\\ProgramData\\Anaconda3\\lib\\asyncio\\events.py in _run(self=<Handle BaseAsyncIOLoop._handle_events(560, 1)>)\n    140             self._callback = None\n    141             self._args = None\n    142 \n    143     def _run(self):\n    144         try:\n--> 145             self._callback(*self._args)\n        self._callback = <bound method BaseAsyncIOLoop._handle_events of <tornado.platform.asyncio.AsyncIOMainLoop object>>\n        self._args = (560, 1)\n    146         except Exception as exc:\n    147             cb = _format_callback_source(self._callback, self._args)\n    148             msg = 'Exception in callback {}'.format(cb)\n    149             context = {\n\n...........................................................................\nC:\\ProgramData\\Anaconda3\\lib\\site-packages\\tornado\\platform\\asyncio.py in _handle_events(self=<tornado.platform.asyncio.AsyncIOMainLoop object>, fd=560, events=1)\n    112             self.writers.remove(fd)\n    113         del self.handlers[fd]\n    114 \n    115     def _handle_events(self, fd, events):\n    116         fileobj, handler_func = self.handlers[fd]\n--> 117         handler_func(fileobj, events)\n        handler_func = <function wrap.<locals>.null_wrapper>\n        fileobj = <zmq.sugar.socket.Socket object>\n        events = 1\n    118 \n    119     def start(self):\n    120         try:\n    121             old_loop = asyncio.get_event_loop()\n\n...........................................................................\nC:\\ProgramData\\Anaconda3\\lib\\site-packages\\tornado\\stack_context.py in null_wrapper(*args=(<zmq.sugar.socket.Socket object>, 1), **kwargs={})\n    271         # Fast path when there are no active contexts.\n    272         def null_wrapper(*args, **kwargs):\n    273             try:\n    274                 current_state = _state.contexts\n    275                 _state.contexts = cap_contexts[0]\n--> 276                 return fn(*args, **kwargs)\n        args = (<zmq.sugar.socket.Socket object>, 1)\n        kwargs = {}\n    277             finally:\n    278                 _state.contexts = current_state\n    279         null_wrapper._wrapped = True\n    280         return null_wrapper\n\n...........................................................................\nC:\\ProgramData\\Anaconda3\\lib\\site-packages\\zmq\\eventloop\\zmqstream.py in _handle_events(self=<zmq.eventloop.zmqstream.ZMQStream object>, fd=<zmq.sugar.socket.Socket object>, events=1)\n    445             return\n    446         zmq_events = self.socket.EVENTS\n    447         try:\n    448             # dispatch events:\n    449             if zmq_events & zmq.POLLIN and self.receiving():\n--> 450                 self._handle_recv()\n        self._handle_recv = <bound method ZMQStream._handle_recv of <zmq.eventloop.zmqstream.ZMQStream object>>\n    451                 if not self.socket:\n    452                     return\n    453             if zmq_events & zmq.POLLOUT and self.sending():\n    454                 self._handle_send()\n\n...........................................................................\nC:\\ProgramData\\Anaconda3\\lib\\site-packages\\zmq\\eventloop\\zmqstream.py in _handle_recv(self=<zmq.eventloop.zmqstream.ZMQStream object>)\n    475             else:\n    476                 raise\n    477         else:\n    478             if self._recv_callback:\n    479                 callback = self._recv_callback\n--> 480                 self._run_callback(callback, msg)\n        self._run_callback = <bound method ZMQStream._run_callback of <zmq.eventloop.zmqstream.ZMQStream object>>\n        callback = <function wrap.<locals>.null_wrapper>\n        msg = [<zmq.sugar.frame.Frame object>, <zmq.sugar.frame.Frame object>, <zmq.sugar.frame.Frame object>, <zmq.sugar.frame.Frame object>, <zmq.sugar.frame.Frame object>, <zmq.sugar.frame.Frame object>, <zmq.sugar.frame.Frame object>]\n    481         \n    482 \n    483     def _handle_send(self):\n    484         \"\"\"Handle a send event.\"\"\"\n\n...........................................................................\nC:\\ProgramData\\Anaconda3\\lib\\site-packages\\zmq\\eventloop\\zmqstream.py in _run_callback(self=<zmq.eventloop.zmqstream.ZMQStream object>, callback=<function wrap.<locals>.null_wrapper>, *args=([<zmq.sugar.frame.Frame object>, <zmq.sugar.frame.Frame object>, <zmq.sugar.frame.Frame object>, <zmq.sugar.frame.Frame object>, <zmq.sugar.frame.Frame object>, <zmq.sugar.frame.Frame object>, <zmq.sugar.frame.Frame object>],), **kwargs={})\n    427         close our socket.\"\"\"\n    428         try:\n    429             # Use a NullContext to ensure that all StackContexts are run\n    430             # inside our blanket exception handler rather than outside.\n    431             with stack_context.NullContext():\n--> 432                 callback(*args, **kwargs)\n        callback = <function wrap.<locals>.null_wrapper>\n        args = ([<zmq.sugar.frame.Frame object>, <zmq.sugar.frame.Frame object>, <zmq.sugar.frame.Frame object>, <zmq.sugar.frame.Frame object>, <zmq.sugar.frame.Frame object>, <zmq.sugar.frame.Frame object>, <zmq.sugar.frame.Frame object>],)\n        kwargs = {}\n    433         except:\n    434             gen_log.error(\"Uncaught exception in ZMQStream callback\",\n    435                           exc_info=True)\n    436             # Re-raise the exception so that IOLoop.handle_callback_exception\n\n...........................................................................\nC:\\ProgramData\\Anaconda3\\lib\\site-packages\\tornado\\stack_context.py in null_wrapper(*args=([<zmq.sugar.frame.Frame object>, <zmq.sugar.frame.Frame object>, <zmq.sugar.frame.Frame object>, <zmq.sugar.frame.Frame object>, <zmq.sugar.frame.Frame object>, <zmq.sugar.frame.Frame object>, <zmq.sugar.frame.Frame object>],), **kwargs={})\n    271         # Fast path when there are no active contexts.\n    272         def null_wrapper(*args, **kwargs):\n    273             try:\n    274                 current_state = _state.contexts\n    275                 _state.contexts = cap_contexts[0]\n--> 276                 return fn(*args, **kwargs)\n        args = ([<zmq.sugar.frame.Frame object>, <zmq.sugar.frame.Frame object>, <zmq.sugar.frame.Frame object>, <zmq.sugar.frame.Frame object>, <zmq.sugar.frame.Frame object>, <zmq.sugar.frame.Frame object>, <zmq.sugar.frame.Frame object>],)\n        kwargs = {}\n    277             finally:\n    278                 _state.contexts = current_state\n    279         null_wrapper._wrapped = True\n    280         return null_wrapper\n\n...........................................................................\nC:\\ProgramData\\Anaconda3\\lib\\site-packages\\ipykernel\\kernelbase.py in dispatcher(msg=[<zmq.sugar.frame.Frame object>, <zmq.sugar.frame.Frame object>, <zmq.sugar.frame.Frame object>, <zmq.sugar.frame.Frame object>, <zmq.sugar.frame.Frame object>, <zmq.sugar.frame.Frame object>, <zmq.sugar.frame.Frame object>])\n    278         if self.control_stream:\n    279             self.control_stream.on_recv(self.dispatch_control, copy=False)\n    280 \n    281         def make_dispatcher(stream):\n    282             def dispatcher(msg):\n--> 283                 return self.dispatch_shell(stream, msg)\n        msg = [<zmq.sugar.frame.Frame object>, <zmq.sugar.frame.Frame object>, <zmq.sugar.frame.Frame object>, <zmq.sugar.frame.Frame object>, <zmq.sugar.frame.Frame object>, <zmq.sugar.frame.Frame object>, <zmq.sugar.frame.Frame object>]\n    284             return dispatcher\n    285 \n    286         for s in self.shell_streams:\n    287             s.on_recv(make_dispatcher(s), copy=False)\n\n...........................................................................\nC:\\ProgramData\\Anaconda3\\lib\\site-packages\\ipykernel\\kernelbase.py in dispatch_shell(self=<ipykernel.ipkernel.IPythonKernel object>, stream=<zmq.eventloop.zmqstream.ZMQStream object>, msg={'buffers': [], 'content': {'allow_stdin': True, 'code': '%%time\\n# Use the random grid to search for best ... search model\\nrf_random.fit(X_lex_vec, Y_lex_vec)', 'silent': False, 'stop_on_error': True, 'store_history': True, 'user_expressions': {}}, 'header': {'date': datetime.datetime(2018, 7, 18, 11, 28, 32, 894246, tzinfo=tzutc()), 'msg_id': 'f454a44d402c49b9947ee1e9ef2adccf', 'msg_type': 'execute_request', 'session': '926ba410b00f4691aa768797570fbbdf', 'username': 'username', 'version': '5.2'}, 'metadata': {}, 'msg_id': 'f454a44d402c49b9947ee1e9ef2adccf', 'msg_type': 'execute_request', 'parent_header': {}})\n    228             self.log.warn(\"Unknown message type: %r\", msg_type)\n    229         else:\n    230             self.log.debug(\"%s: %s\", msg_type, msg)\n    231             self.pre_handler_hook()\n    232             try:\n--> 233                 handler(stream, idents, msg)\n        handler = <bound method Kernel.execute_request of <ipykernel.ipkernel.IPythonKernel object>>\n        stream = <zmq.eventloop.zmqstream.ZMQStream object>\n        idents = [b'926ba410b00f4691aa768797570fbbdf']\n        msg = {'buffers': [], 'content': {'allow_stdin': True, 'code': '%%time\\n# Use the random grid to search for best ... search model\\nrf_random.fit(X_lex_vec, Y_lex_vec)', 'silent': False, 'stop_on_error': True, 'store_history': True, 'user_expressions': {}}, 'header': {'date': datetime.datetime(2018, 7, 18, 11, 28, 32, 894246, tzinfo=tzutc()), 'msg_id': 'f454a44d402c49b9947ee1e9ef2adccf', 'msg_type': 'execute_request', 'session': '926ba410b00f4691aa768797570fbbdf', 'username': 'username', 'version': '5.2'}, 'metadata': {}, 'msg_id': 'f454a44d402c49b9947ee1e9ef2adccf', 'msg_type': 'execute_request', 'parent_header': {}}\n    234             except Exception:\n    235                 self.log.error(\"Exception in message handler:\", exc_info=True)\n    236             finally:\n    237                 self.post_handler_hook()\n\n...........................................................................\nC:\\ProgramData\\Anaconda3\\lib\\site-packages\\ipykernel\\kernelbase.py in execute_request(self=<ipykernel.ipkernel.IPythonKernel object>, stream=<zmq.eventloop.zmqstream.ZMQStream object>, ident=[b'926ba410b00f4691aa768797570fbbdf'], parent={'buffers': [], 'content': {'allow_stdin': True, 'code': '%%time\\n# Use the random grid to search for best ... search model\\nrf_random.fit(X_lex_vec, Y_lex_vec)', 'silent': False, 'stop_on_error': True, 'store_history': True, 'user_expressions': {}}, 'header': {'date': datetime.datetime(2018, 7, 18, 11, 28, 32, 894246, tzinfo=tzutc()), 'msg_id': 'f454a44d402c49b9947ee1e9ef2adccf', 'msg_type': 'execute_request', 'session': '926ba410b00f4691aa768797570fbbdf', 'username': 'username', 'version': '5.2'}, 'metadata': {}, 'msg_id': 'f454a44d402c49b9947ee1e9ef2adccf', 'msg_type': 'execute_request', 'parent_header': {}})\n    394         if not silent:\n    395             self.execution_count += 1\n    396             self._publish_execute_input(code, parent, self.execution_count)\n    397 \n    398         reply_content = self.do_execute(code, silent, store_history,\n--> 399                                         user_expressions, allow_stdin)\n        user_expressions = {}\n        allow_stdin = True\n    400 \n    401         # Flush output before sending the reply.\n    402         sys.stdout.flush()\n    403         sys.stderr.flush()\n\n...........................................................................\nC:\\ProgramData\\Anaconda3\\lib\\site-packages\\ipykernel\\ipkernel.py in do_execute(self=<ipykernel.ipkernel.IPythonKernel object>, code='%%time\\n# Use the random grid to search for best ... search model\\nrf_random.fit(X_lex_vec, Y_lex_vec)', silent=False, store_history=True, user_expressions={}, allow_stdin=True)\n    203 \n    204         self._forward_input(allow_stdin)\n    205 \n    206         reply_content = {}\n    207         try:\n--> 208             res = shell.run_cell(code, store_history=store_history, silent=silent)\n        res = undefined\n        shell.run_cell = <bound method ZMQInteractiveShell.run_cell of <ipykernel.zmqshell.ZMQInteractiveShell object>>\n        code = '%%time\\n# Use the random grid to search for best ... search model\\nrf_random.fit(X_lex_vec, Y_lex_vec)'\n        store_history = True\n        silent = False\n    209         finally:\n    210             self._restore_input()\n    211 \n    212         if res.error_before_exec is not None:\n\n...........................................................................\nC:\\ProgramData\\Anaconda3\\lib\\site-packages\\ipykernel\\zmqshell.py in run_cell(self=<ipykernel.zmqshell.ZMQInteractiveShell object>, *args=('%%time\\n# Use the random grid to search for best ... search model\\nrf_random.fit(X_lex_vec, Y_lex_vec)',), **kwargs={'silent': False, 'store_history': True})\n    532             )\n    533         self.payload_manager.write_payload(payload)\n    534 \n    535     def run_cell(self, *args, **kwargs):\n    536         self._last_traceback = None\n--> 537         return super(ZMQInteractiveShell, self).run_cell(*args, **kwargs)\n        self.run_cell = <bound method ZMQInteractiveShell.run_cell of <ipykernel.zmqshell.ZMQInteractiveShell object>>\n        args = ('%%time\\n# Use the random grid to search for best ... search model\\nrf_random.fit(X_lex_vec, Y_lex_vec)',)\n        kwargs = {'silent': False, 'store_history': True}\n    538 \n    539     def _showtraceback(self, etype, evalue, stb):\n    540         # try to preserve ordering of tracebacks and print statements\n    541         sys.stdout.flush()\n\n...........................................................................\nC:\\ProgramData\\Anaconda3\\lib\\site-packages\\IPython\\core\\interactiveshell.py in run_cell(self=<ipykernel.zmqshell.ZMQInteractiveShell object>, raw_cell='%%time\\n# Use the random grid to search for best ... search model\\nrf_random.fit(X_lex_vec, Y_lex_vec)', store_history=True, silent=False, shell_futures=True)\n   2657         -------\n   2658         result : :class:`ExecutionResult`\n   2659         \"\"\"\n   2660         try:\n   2661             result = self._run_cell(\n-> 2662                 raw_cell, store_history, silent, shell_futures)\n        raw_cell = '%%time\\n# Use the random grid to search for best ... search model\\nrf_random.fit(X_lex_vec, Y_lex_vec)'\n        store_history = True\n        silent = False\n        shell_futures = True\n   2663         finally:\n   2664             self.events.trigger('post_execute')\n   2665             if not silent:\n   2666                 self.events.trigger('post_run_cell', result)\n\n...........................................................................\nC:\\ProgramData\\Anaconda3\\lib\\site-packages\\IPython\\core\\interactiveshell.py in _run_cell(self=<ipykernel.zmqshell.ZMQInteractiveShell object>, raw_cell='%%time\\n# Use the random grid to search for best ... search model\\nrf_random.fit(X_lex_vec, Y_lex_vec)', store_history=True, silent=False, shell_futures=True)\n   2780                 self.displayhook.exec_result = result\n   2781 \n   2782                 # Execute the user code\n   2783                 interactivity = 'none' if silent else self.ast_node_interactivity\n   2784                 has_raised = self.run_ast_nodes(code_ast.body, cell_name,\n-> 2785                    interactivity=interactivity, compiler=compiler, result=result)\n        interactivity = 'last_expr'\n        compiler = <IPython.core.compilerop.CachingCompiler object>\n   2786                 \n   2787                 self.last_execution_succeeded = not has_raised\n   2788                 self.last_execution_result = result\n   2789 \n\n...........................................................................\nC:\\ProgramData\\Anaconda3\\lib\\site-packages\\IPython\\core\\interactiveshell.py in run_ast_nodes(self=<ipykernel.zmqshell.ZMQInteractiveShell object>, nodelist=[<_ast.Expr object>], cell_name='<ipython-input-99-9ce6167672c3>', interactivity='last', compiler=<IPython.core.compilerop.CachingCompiler object>, result=<ExecutionResult object at 22dcc533cc0, executio...rue silent=False shell_futures=True> result=None>)\n   2904                     return True\n   2905 \n   2906             for i, node in enumerate(to_run_interactive):\n   2907                 mod = ast.Interactive([node])\n   2908                 code = compiler(mod, cell_name, \"single\")\n-> 2909                 if self.run_code(code, result):\n        self.run_code = <bound method InteractiveShell.run_code of <ipykernel.zmqshell.ZMQInteractiveShell object>>\n        code = <code object <module> at 0x0000022DCC4D6780, file \"<ipython-input-99-9ce6167672c3>\", line 1>\n        result = <ExecutionResult object at 22dcc533cc0, executio...rue silent=False shell_futures=True> result=None>\n   2910                     return True\n   2911 \n   2912             # Flush softspace\n   2913             if softspace(sys.stdout, 0):\n\n...........................................................................\nC:\\ProgramData\\Anaconda3\\lib\\site-packages\\IPython\\core\\interactiveshell.py in run_code(self=<ipykernel.zmqshell.ZMQInteractiveShell object>, code_obj=<code object <module> at 0x0000022DCC4D6780, file \"<ipython-input-99-9ce6167672c3>\", line 1>, result=<ExecutionResult object at 22dcc533cc0, executio...rue silent=False shell_futures=True> result=None>)\n   2958         outflag = True  # happens in more places, so it's easier as default\n   2959         try:\n   2960             try:\n   2961                 self.hooks.pre_run_code_hook()\n   2962                 #rprint('Running code', repr(code_obj)) # dbg\n-> 2963                 exec(code_obj, self.user_global_ns, self.user_ns)\n        code_obj = <code object <module> at 0x0000022DCC4D6780, file \"<ipython-input-99-9ce6167672c3>\", line 1>\n        self.user_global_ns = {'CountVectorizer': <class 'sklearn.feature_extraction.text.CountVectorizer'>, 'DecisionTreeRegressor': <class 'sklearn.tree.tree.DecisionTreeRegressor'>, 'GradientBoostingRegressor': <class 'sklearn.ensemble.gradient_boosting.GradientBoostingRegressor'>, 'In': ['', r\"get_ipython().run_cell_magic('javascript', '', '...dy);\\n$.getScript(\\'ipython_notebook_toc.js\\');')\", 'import pandas as pd\\nimport numpy as np\\nfrom nltk...rs, SGDRegressor\\nfrom sklearn.svm import SVC, SVR', \"rus_lex=pd.read_csv('ruslentilex.csv',';', encoding='cp1251')\\nrus_lex.head()\", 'rus_lex.shape', \"X_lex=rus_lex['word']\\nX_lex.head()\", \"Y_lex=rus_lex['lemm']\\nY_lex.head()\", \"df_train=pd.read_json('train.json', encoding='utf8')\\ndf_train.head()\", \"#stopwords\\nsw_file=open('ru-stopwords.txt')\\nsw=s...e.readlines()\\nsw=[w.replace('\\\\n','') for w in sw]\", 'def ru_token(string):\\n    \"\"\"russian tokenize ba...match(r\\'[\\\\u0400-\\\\u04ffа́]+$\\', i) and i not in sw]', \"#lowercase and delete special chars and leading/...rain['text'].str.lstrip()\\ndf_train['text'].head()\", 'get_ipython().run_cell_magic(\\'time\\', \\'\\', \"from g...ntext_t=[ru_token(s) for s in df_train[\\'text\\']]\")', 'text_t', \"def alpha_vec2(w):\\n    w_len=15\\n    if len(w)<w_... '+str(alpha.find(w[i])))\\n        \\n    return vec\", 'X_lex_vec=[alpha_vec2(w) for w in X_lex]\\nX_lex_vec', 'Y_lex[:2]', \"alpha_vec2('аборт')\", 'Y_lex_vec=[alpha_vec2(w) for w in Y_lex]\\nY_lex_vec', r\"get_ipython().run_cell_magic('time', '', 'model=...arRegression()\\nmodel.fit(X_lex_vec, Y_lex_vec)')\", \"v=model.predict([alpha_vec2('авантюра')])\", ...], 'Lars': <class 'sklearn.linear_model.least_angle.Lars'>, 'LinearRegression': <class 'sklearn.linear_model.base.LinearRegression'>, 'LogisticRegression': <class 'sklearn.linear_model.logistic.LogisticRegression'>, 'Out': {3:           word part_spch          lemm  sentimen...ость      Noun   абсурдность   negative   opinion, 4: (16057, 5), 5: 0          аборт\n1     абортивный\n2    абракадаб...абсурд\n4    абсурдность\nName: word, dtype: object, 6: 0           аборт\n1      абортивный\n2     абрака...бсурд\n4     абсурдность\nName: lemm, dtype: object, 7:      id sentiment                               ...астана. 21 ноября. kazakhstan today - агентств..., 10: 0    досудебное расследование по факту покупки е...tan today - агентств...\nName: text, dtype: object, 12: [['досудебное', 'расследование', 'факту', 'покупки', 'енпф', 'пакета', 'облигаций', 'тоо', 'бузгул', 'аурум', 'начато', 'инициативе', 'национального', 'банка', 'рк', 'сообщил', 'директор', 'департамента', 'защиты', 'прав', ...], ['медики', 'рассказали', 'состоянии', 'пострадавшего', 'мужчины', 'совершено', 'нападение', 'возле', 'отделения', 'банка', 'тимирязева', 'прокомментировали', 'управления', 'здравоохранения', 'алматы', 'места', 'происшествия', 'службу', 'скорой', 'помощи', ...], ['прошел', 'железнодорожным', 'операторам', 'запретили', 'эксплуатировать', 'вагоны', 'продленным', 'сроком', 'службы', 'списано', 'вагонов', 'списала', 'первая', 'грузовая', 'компания', 'владимира', 'лисина', 'вагонов', 'федеральная', 'грузовая', ...], ['итогам', 'месяцев', 'территории', 'республики', 'выпущено', 'единиц', 'автотранспортных', 'средств', 'сумму', 'млрд', 'тенге', 'результата', 'годичной', 'давности', 'натуральном', 'выражении', 'союзе', 'предприятий', 'автомобильной', 'отрасли', ...], ['астана', 'ноября', 'агентство', 'рк', 'делам', 'государственной', 'службы', 'противодействию', 'коррупции', 'выражает', 'обеспокоенность', 'участившимися', 'фактами', 'коррупции', 'квазигосударственном', 'секторе', 'сообщила', 'ведомства', 'согласно', 'сообщению', ...], ['аресте', 'бывшего', 'министра', 'национальной', 'экономики', 'казахстана', 'куандыка', 'бишимбаева', 'сроком', 'месяца', 'азаттыку', 'сообщили', 'городского', 'суда', 'астаны', 'вчера', 'истек', 'срок', 'течение', 'следствие', ...], ['двое', 'налетчиков', 'совершили', 'нападение', 'охранника', 'банка', 'центркредит', 'алматы', 'завладели', 'оружием', 'сообщает', 'двд', 'алматы', 'центр', 'оперативного', 'управления', 'двд', 'города', 'алматы', 'поступило', ...], ['квартале', 'вдвое', 'снизила', 'чистую', 'прибыль', 'мсфо', 'астана', 'мая', 'ао', 'получило', 'чистую', 'прибыль', 'размере', 'млрд', 'тенге', 'раза', 'первом', 'квартале', 'говорится', 'консолидированной', ...], ['половина', 'коррупционных', 'преступлений', 'системе', 'вооруженных', 'сил', 'рк', 'выявлено', 'местных', 'органах', 'военного', 'управления', 'зарегистрировано', 'взяток', 'выдаче', 'военных', 'билетов', 'предоставлению', 'отсрочки', 'призыва', ...], ['чт', 'янв', 'фигурантов', 'дела', 'коррупции', 'ао', 'байтерек', 'управляющий', 'директор', 'компании', 'дильрух', 'анарбай', 'осуждён', 'статье', 'ук', 'рк', 'старой', 'редакции', 'заведомо', 'ложное', ...], ['алматы', 'октября', 'казтаг', 'понизило', 'рейтинги', 'ао', 'қазақстан', 'темір', 'жолы', 'ктж', 'уровня', 'прогноз', 'изменения', 'рейтингов', 'негативный', 'говорится', 'сообщении', 'рейтингового', 'агентства', 'понизило', ...], ['долгожданный', 'план', 'названный', 'министерством', 'национальной', 'экономики', 'стратегией', 'развития', 'казахстана', 'увидел', 'копий', 'сломано', 'экспертов', 'просиживало', 'приемной', 'министра', 'долгими', 'часами', 'внести', 'коррективы', ...], ['ао', 'астана', 'ценные', 'бумаги', 'находятся', 'официальном', 'списке', 'казахстанской', 'фондовой', 'биржи', 'сообщило', 'привлечении', 'филиала', 'должностного', 'лица', 'филиала', 'административной', 'ответственности'], ['молодого', 'павлодарца', 'сломались', 'обе', 'инвалидные', 'коляски', 'ногами', 'связью', 'внешним', 'миром', 'передает', 'информбюро', 'артур', 'руссман', 'решил', 'социальные', 'сети', 'попросить', 'крайне', 'скромной', ...], ['неделю', 'жители', 'астаны', 'страдали', 'смога', 'густая', 'пелена', 'тумана', 'запах', 'гари', 'окутали', 'первыми', 'забили', 'тревогу', 'пользователи', 'социальных', 'сетей', 'выкладывали', 'апокалиптические', 'фото', ...], ['завод', 'переработке', 'масличных', 'культур', 'построили', 'ильичёвке', 'ско', 'месяцев', 'аким', 'области', 'ерик', 'султанов', 'встретился', 'китайской', 'делегацией', 'кнр', 'приехала', 'ознакомления', 'инвестиционным', 'потенциалом', ...], ['регионах', 'продолжаются', 'отчеты', 'местных', 'исполнительных', 'органов', 'проделанной', 'работе', 'планах', 'развития', 'предстоящий', 'посетив', 'рабочим', 'визитом', 'кызылкогинский', 'район', 'аким', 'атырауской', 'области', 'нурлан', ...], ['астана', 'казинформ', 'средний', 'показатель', 'поездок', 'велосипед', 'астане', 'составил', 'москве', 'париже', 'данным', 'системы', 'городского', 'велопроката', 'среднем', 'пользователи', 'системы', 'астане', 'проезжают', 'км', ...], ['активно', 'стимулирует', 'казахстанских', 'экспортеров', 'несырьевой', 'продукции', 'освоению', 'новых', 'зарубежных', 'рынков', 'китайцы', 'берут', 'президент', 'ао', 'баян', 'сулу', 'тимур', 'садыков', 'отмечает', 'китайский', ...], ['оплачивайте', 'комиссий', 'казахтелеком', 'сайте', 'просмотров'], ...], 14: [array([ 1.,  2., 16., 18., 20.,  0.,  0.,  0.,  0.,  0.,  0.,  0.,  0.,\n        0.,  0.]), array([ 1.,  2., 16., 18., 20., 10.,  3., 15., 29., 11.,  0.,  0.,  0.,\n        0.,  0.]), array([ 1.,  2., 18.,  1., 12.,  1.,  5.,  1.,  2., 18.,  1.,  0.,  0.,\n        0.,  0.]), array([ 1.,  2., 19., 21., 18.,  5.,  0.,  0.,  0.,  0.,  0.,  0.,  0.,\n        0.,  0.]), array([ 1.,  2., 19., 21., 18.,  5., 15., 16., 19., 20., 30.,  0.,  0.,\n        0.,  0.]), array([ 1.,  2., 19., 21., 18.,  5., 15., 29., 11.,  0.,  0.,  0.,  0.,\n        0.,  0.]), array([ 1.,  3.,  1., 15., 20., 32., 18.,  1.,  0.,  0.,  0.,  0.,  0.,\n        0.,  0.]), array([ 1.,  3.,  1., 15., 20., 32., 18., 10.,  9., 14.,  0.,  0.,  0.,\n        0.,  0.]), array([ 1.,  3.,  1., 15., 20., 32., 18., 10., 19., 20.,  0.,  0.,  0.,\n        0.,  0.]), array([ 1.,  3.,  1., 15., 20., 32., 18., 10., 19., 20., 10., 25.,  6.,\n       19., 12.]), array([ 1.,  3.,  1., 15., 20., 32., 18., 10., 19., 20., 12.,  1.,  0.,\n        0.,  0.]), array([ 1.,  3.,  1., 15., 20., 32., 18., 10., 19., 20., 19., 12., 10.,\n       11.,  0.]), array([ 1.,  3.,  1., 15., 20., 32., 18., 15., 29., 11.,  0.,  0.,  0.,\n        0.,  0.]), array([ 1.,  3.,  1., 18., 10., 11., 15.,  1., 33.,  0.,  9.,  1., 27.,\n       10., 20.]), array([ 1.,  3.,  1., 18., 10., 11., 15., 16., 19., 20., 30.,  0.,  0.,\n        0.,  0.]), array([ 1.,  3.,  1., 18., 10., 11., 15., 29., 11.,  0.,  0.,  0.,  0.,\n        0.,  0.]), array([ 1.,  3.,  1., 18., 10., 33.,  0.,  0.,  0.,  0.,  0.,  0.,  0.,\n        0.,  0.]), array([ 1.,  3., 10.,  1., 12.,  1., 20.,  1., 19., 20., 18., 16., 22.,\n        1.,  0.]), array([ 1.,  3., 10.,  1., 12., 18., 21., 26.,  6., 15., 10.,  6.,  0.,\n        0.,  0.]), array([ 1.,  3., 10.,  1., 15.,  1., 13.,  6., 20.,  0.,  0.,  0.,  0.,\n        0.,  0.]), ...], 15: 0          аборт\n1     абортивный\nName: lemm, dtype: object, 16: array([ 1.,  2., 16., 18., 20.,  0.,  0.,  0.,  0.,  0.,  0.,  0.,  0.,\n        0.,  0.]), ...}, 'Phraser': <class 'gensim.models.phrases.Phraser'>, 'Phrases': <class 'gensim.models.phrases.Phrases'>, ...}\n        self.user_ns = {'CountVectorizer': <class 'sklearn.feature_extraction.text.CountVectorizer'>, 'DecisionTreeRegressor': <class 'sklearn.tree.tree.DecisionTreeRegressor'>, 'GradientBoostingRegressor': <class 'sklearn.ensemble.gradient_boosting.GradientBoostingRegressor'>, 'In': ['', r\"get_ipython().run_cell_magic('javascript', '', '...dy);\\n$.getScript(\\'ipython_notebook_toc.js\\');')\", 'import pandas as pd\\nimport numpy as np\\nfrom nltk...rs, SGDRegressor\\nfrom sklearn.svm import SVC, SVR', \"rus_lex=pd.read_csv('ruslentilex.csv',';', encoding='cp1251')\\nrus_lex.head()\", 'rus_lex.shape', \"X_lex=rus_lex['word']\\nX_lex.head()\", \"Y_lex=rus_lex['lemm']\\nY_lex.head()\", \"df_train=pd.read_json('train.json', encoding='utf8')\\ndf_train.head()\", \"#stopwords\\nsw_file=open('ru-stopwords.txt')\\nsw=s...e.readlines()\\nsw=[w.replace('\\\\n','') for w in sw]\", 'def ru_token(string):\\n    \"\"\"russian tokenize ba...match(r\\'[\\\\u0400-\\\\u04ffа́]+$\\', i) and i not in sw]', \"#lowercase and delete special chars and leading/...rain['text'].str.lstrip()\\ndf_train['text'].head()\", 'get_ipython().run_cell_magic(\\'time\\', \\'\\', \"from g...ntext_t=[ru_token(s) for s in df_train[\\'text\\']]\")', 'text_t', \"def alpha_vec2(w):\\n    w_len=15\\n    if len(w)<w_... '+str(alpha.find(w[i])))\\n        \\n    return vec\", 'X_lex_vec=[alpha_vec2(w) for w in X_lex]\\nX_lex_vec', 'Y_lex[:2]', \"alpha_vec2('аборт')\", 'Y_lex_vec=[alpha_vec2(w) for w in Y_lex]\\nY_lex_vec', r\"get_ipython().run_cell_magic('time', '', 'model=...arRegression()\\nmodel.fit(X_lex_vec, Y_lex_vec)')\", \"v=model.predict([alpha_vec2('авантюра')])\", ...], 'Lars': <class 'sklearn.linear_model.least_angle.Lars'>, 'LinearRegression': <class 'sklearn.linear_model.base.LinearRegression'>, 'LogisticRegression': <class 'sklearn.linear_model.logistic.LogisticRegression'>, 'Out': {3:           word part_spch          lemm  sentimen...ость      Noun   абсурдность   negative   opinion, 4: (16057, 5), 5: 0          аборт\n1     абортивный\n2    абракадаб...абсурд\n4    абсурдность\nName: word, dtype: object, 6: 0           аборт\n1      абортивный\n2     абрака...бсурд\n4     абсурдность\nName: lemm, dtype: object, 7:      id sentiment                               ...астана. 21 ноября. kazakhstan today - агентств..., 10: 0    досудебное расследование по факту покупки е...tan today - агентств...\nName: text, dtype: object, 12: [['досудебное', 'расследование', 'факту', 'покупки', 'енпф', 'пакета', 'облигаций', 'тоо', 'бузгул', 'аурум', 'начато', 'инициативе', 'национального', 'банка', 'рк', 'сообщил', 'директор', 'департамента', 'защиты', 'прав', ...], ['медики', 'рассказали', 'состоянии', 'пострадавшего', 'мужчины', 'совершено', 'нападение', 'возле', 'отделения', 'банка', 'тимирязева', 'прокомментировали', 'управления', 'здравоохранения', 'алматы', 'места', 'происшествия', 'службу', 'скорой', 'помощи', ...], ['прошел', 'железнодорожным', 'операторам', 'запретили', 'эксплуатировать', 'вагоны', 'продленным', 'сроком', 'службы', 'списано', 'вагонов', 'списала', 'первая', 'грузовая', 'компания', 'владимира', 'лисина', 'вагонов', 'федеральная', 'грузовая', ...], ['итогам', 'месяцев', 'территории', 'республики', 'выпущено', 'единиц', 'автотранспортных', 'средств', 'сумму', 'млрд', 'тенге', 'результата', 'годичной', 'давности', 'натуральном', 'выражении', 'союзе', 'предприятий', 'автомобильной', 'отрасли', ...], ['астана', 'ноября', 'агентство', 'рк', 'делам', 'государственной', 'службы', 'противодействию', 'коррупции', 'выражает', 'обеспокоенность', 'участившимися', 'фактами', 'коррупции', 'квазигосударственном', 'секторе', 'сообщила', 'ведомства', 'согласно', 'сообщению', ...], ['аресте', 'бывшего', 'министра', 'национальной', 'экономики', 'казахстана', 'куандыка', 'бишимбаева', 'сроком', 'месяца', 'азаттыку', 'сообщили', 'городского', 'суда', 'астаны', 'вчера', 'истек', 'срок', 'течение', 'следствие', ...], ['двое', 'налетчиков', 'совершили', 'нападение', 'охранника', 'банка', 'центркредит', 'алматы', 'завладели', 'оружием', 'сообщает', 'двд', 'алматы', 'центр', 'оперативного', 'управления', 'двд', 'города', 'алматы', 'поступило', ...], ['квартале', 'вдвое', 'снизила', 'чистую', 'прибыль', 'мсфо', 'астана', 'мая', 'ао', 'получило', 'чистую', 'прибыль', 'размере', 'млрд', 'тенге', 'раза', 'первом', 'квартале', 'говорится', 'консолидированной', ...], ['половина', 'коррупционных', 'преступлений', 'системе', 'вооруженных', 'сил', 'рк', 'выявлено', 'местных', 'органах', 'военного', 'управления', 'зарегистрировано', 'взяток', 'выдаче', 'военных', 'билетов', 'предоставлению', 'отсрочки', 'призыва', ...], ['чт', 'янв', 'фигурантов', 'дела', 'коррупции', 'ао', 'байтерек', 'управляющий', 'директор', 'компании', 'дильрух', 'анарбай', 'осуждён', 'статье', 'ук', 'рк', 'старой', 'редакции', 'заведомо', 'ложное', ...], ['алматы', 'октября', 'казтаг', 'понизило', 'рейтинги', 'ао', 'қазақстан', 'темір', 'жолы', 'ктж', 'уровня', 'прогноз', 'изменения', 'рейтингов', 'негативный', 'говорится', 'сообщении', 'рейтингового', 'агентства', 'понизило', ...], ['долгожданный', 'план', 'названный', 'министерством', 'национальной', 'экономики', 'стратегией', 'развития', 'казахстана', 'увидел', 'копий', 'сломано', 'экспертов', 'просиживало', 'приемной', 'министра', 'долгими', 'часами', 'внести', 'коррективы', ...], ['ао', 'астана', 'ценные', 'бумаги', 'находятся', 'официальном', 'списке', 'казахстанской', 'фондовой', 'биржи', 'сообщило', 'привлечении', 'филиала', 'должностного', 'лица', 'филиала', 'административной', 'ответственности'], ['молодого', 'павлодарца', 'сломались', 'обе', 'инвалидные', 'коляски', 'ногами', 'связью', 'внешним', 'миром', 'передает', 'информбюро', 'артур', 'руссман', 'решил', 'социальные', 'сети', 'попросить', 'крайне', 'скромной', ...], ['неделю', 'жители', 'астаны', 'страдали', 'смога', 'густая', 'пелена', 'тумана', 'запах', 'гари', 'окутали', 'первыми', 'забили', 'тревогу', 'пользователи', 'социальных', 'сетей', 'выкладывали', 'апокалиптические', 'фото', ...], ['завод', 'переработке', 'масличных', 'культур', 'построили', 'ильичёвке', 'ско', 'месяцев', 'аким', 'области', 'ерик', 'султанов', 'встретился', 'китайской', 'делегацией', 'кнр', 'приехала', 'ознакомления', 'инвестиционным', 'потенциалом', ...], ['регионах', 'продолжаются', 'отчеты', 'местных', 'исполнительных', 'органов', 'проделанной', 'работе', 'планах', 'развития', 'предстоящий', 'посетив', 'рабочим', 'визитом', 'кызылкогинский', 'район', 'аким', 'атырауской', 'области', 'нурлан', ...], ['астана', 'казинформ', 'средний', 'показатель', 'поездок', 'велосипед', 'астане', 'составил', 'москве', 'париже', 'данным', 'системы', 'городского', 'велопроката', 'среднем', 'пользователи', 'системы', 'астане', 'проезжают', 'км', ...], ['активно', 'стимулирует', 'казахстанских', 'экспортеров', 'несырьевой', 'продукции', 'освоению', 'новых', 'зарубежных', 'рынков', 'китайцы', 'берут', 'президент', 'ао', 'баян', 'сулу', 'тимур', 'садыков', 'отмечает', 'китайский', ...], ['оплачивайте', 'комиссий', 'казахтелеком', 'сайте', 'просмотров'], ...], 14: [array([ 1.,  2., 16., 18., 20.,  0.,  0.,  0.,  0.,  0.,  0.,  0.,  0.,\n        0.,  0.]), array([ 1.,  2., 16., 18., 20., 10.,  3., 15., 29., 11.,  0.,  0.,  0.,\n        0.,  0.]), array([ 1.,  2., 18.,  1., 12.,  1.,  5.,  1.,  2., 18.,  1.,  0.,  0.,\n        0.,  0.]), array([ 1.,  2., 19., 21., 18.,  5.,  0.,  0.,  0.,  0.,  0.,  0.,  0.,\n        0.,  0.]), array([ 1.,  2., 19., 21., 18.,  5., 15., 16., 19., 20., 30.,  0.,  0.,\n        0.,  0.]), array([ 1.,  2., 19., 21., 18.,  5., 15., 29., 11.,  0.,  0.,  0.,  0.,\n        0.,  0.]), array([ 1.,  3.,  1., 15., 20., 32., 18.,  1.,  0.,  0.,  0.,  0.,  0.,\n        0.,  0.]), array([ 1.,  3.,  1., 15., 20., 32., 18., 10.,  9., 14.,  0.,  0.,  0.,\n        0.,  0.]), array([ 1.,  3.,  1., 15., 20., 32., 18., 10., 19., 20.,  0.,  0.,  0.,\n        0.,  0.]), array([ 1.,  3.,  1., 15., 20., 32., 18., 10., 19., 20., 10., 25.,  6.,\n       19., 12.]), array([ 1.,  3.,  1., 15., 20., 32., 18., 10., 19., 20., 12.,  1.,  0.,\n        0.,  0.]), array([ 1.,  3.,  1., 15., 20., 32., 18., 10., 19., 20., 19., 12., 10.,\n       11.,  0.]), array([ 1.,  3.,  1., 15., 20., 32., 18., 15., 29., 11.,  0.,  0.,  0.,\n        0.,  0.]), array([ 1.,  3.,  1., 18., 10., 11., 15.,  1., 33.,  0.,  9.,  1., 27.,\n       10., 20.]), array([ 1.,  3.,  1., 18., 10., 11., 15., 16., 19., 20., 30.,  0.,  0.,\n        0.,  0.]), array([ 1.,  3.,  1., 18., 10., 11., 15., 29., 11.,  0.,  0.,  0.,  0.,\n        0.,  0.]), array([ 1.,  3.,  1., 18., 10., 33.,  0.,  0.,  0.,  0.,  0.,  0.,  0.,\n        0.,  0.]), array([ 1.,  3., 10.,  1., 12.,  1., 20.,  1., 19., 20., 18., 16., 22.,\n        1.,  0.]), array([ 1.,  3., 10.,  1., 12., 18., 21., 26.,  6., 15., 10.,  6.,  0.,\n        0.,  0.]), array([ 1.,  3., 10.,  1., 15.,  1., 13.,  6., 20.,  0.,  0.,  0.,  0.,\n        0.,  0.]), ...], 15: 0          аборт\n1     абортивный\nName: lemm, dtype: object, 16: array([ 1.,  2., 16., 18., 20.,  0.,  0.,  0.,  0.,  0.,  0.,  0.,  0.,\n        0.,  0.]), ...}, 'Phraser': <class 'gensim.models.phrases.Phraser'>, 'Phrases': <class 'gensim.models.phrases.Phrases'>, ...}\n   2964             finally:\n   2965                 # Reset our crash handler in place\n   2966                 sys.excepthook = old_excepthook\n   2967         except SystemExit as e:\n\n...........................................................................\nC:\\Users\\user320\\YandexDisk\\MedMon\\app\\kaggle\\<ipython-input-99-9ce6167672c3> in <module>()\n----> 1 get_ipython().run_cell_magic('time', '', '# Use the random grid to search for best hyperparameters\\n# First create the base model to tune\\nrf = models[3]\\n# Random search of parameters, using 3 fold cross validation, \\n# search across 100 different combinations, and use all available cores\\nrf_random = RandomizedSearchCV(estimator = rf, param_distributions = random_grid, n_iter = 100, cv = 3, verbose=2, random_state=42, n_jobs = -1)\\n# Fit the random search model\\nrf_random.fit(X_lex_vec, Y_lex_vec)')\n\n...........................................................................\nC:\\ProgramData\\Anaconda3\\lib\\site-packages\\IPython\\core\\interactiveshell.py in run_cell_magic(self=<ipykernel.zmqshell.ZMQInteractiveShell object>, magic_name='time', line='', cell='# Use the random grid to search for best hyperpa... search model\\nrf_random.fit(X_lex_vec, Y_lex_vec)')\n   2162             # This will need to be updated if the internal calling logic gets\n   2163             # refactored, or else we'll be expanding the wrong variables.\n   2164             stack_depth = 2\n   2165             magic_arg_s = self.var_expand(line, stack_depth)\n   2166             with self.builtin_trap:\n-> 2167                 result = fn(magic_arg_s, cell)\n        result = undefined\n        fn = <bound method ExecutionMagics.time of <IPython.core.magics.execution.ExecutionMagics object>>\n        magic_arg_s = ''\n        cell = '# Use the random grid to search for best hyperpa... search model\\nrf_random.fit(X_lex_vec, Y_lex_vec)'\n   2168             return result\n   2169 \n   2170     def find_line_magic(self, magic_name):\n   2171         \"\"\"Find and return a line magic by name.\n\n...........................................................................\nC:\\Users\\user320\\YandexDisk\\MedMon\\app\\kaggle\\<decorator-gen-63> in time(self=<IPython.core.magics.execution.ExecutionMagics object>, line='', cell='# Use the random grid to search for best hyperpa... search model\\nrf_random.fit(X_lex_vec, Y_lex_vec)', local_ns=None)\n\n...........................................................................\nC:\\ProgramData\\Anaconda3\\lib\\site-packages\\IPython\\core\\magic.py in <lambda>(f=<function ExecutionMagics.time>, *a=(<IPython.core.magics.execution.ExecutionMagics object>, '', '# Use the random grid to search for best hyperpa... search model\\nrf_random.fit(X_lex_vec, Y_lex_vec)', None), **k={})\n    182     validate_type(magic_kind)\n    183 \n    184     # This is a closure to capture the magic_kind.  We could also use a class,\n    185     # but it's overkill for just that one bit of state.\n    186     def magic_deco(arg):\n--> 187         call = lambda f, *a, **k: f(*a, **k)\n        f = <function ExecutionMagics.time>\n        a = (<IPython.core.magics.execution.ExecutionMagics object>, '', '# Use the random grid to search for best hyperpa... search model\\nrf_random.fit(X_lex_vec, Y_lex_vec)', None)\n        k = {}\n    188 \n    189         if callable(arg):\n    190             # \"Naked\" decorator call (just @foo, no args)\n    191             func = arg\n\n...........................................................................\nC:\\ProgramData\\Anaconda3\\lib\\site-packages\\IPython\\core\\magics\\execution.py in time(self=<IPython.core.magics.execution.ExecutionMagics object>, line='', cell='# Use the random grid to search for best hyperpa... search model\\nrf_random.fit(X_lex_vec, Y_lex_vec)', local_ns=None)\n   1233                 return\n   1234             end = clock2()\n   1235         else:\n   1236             st = clock2()\n   1237             try:\n-> 1238                 exec(code, glob, local_ns)\n        code = <code object <module> at 0x0000022DCC529030, file \"<timed exec>\", line 3>\n        glob = {'CountVectorizer': <class 'sklearn.feature_extraction.text.CountVectorizer'>, 'DecisionTreeRegressor': <class 'sklearn.tree.tree.DecisionTreeRegressor'>, 'GradientBoostingRegressor': <class 'sklearn.ensemble.gradient_boosting.GradientBoostingRegressor'>, 'In': ['', r\"get_ipython().run_cell_magic('javascript', '', '...dy);\\n$.getScript(\\'ipython_notebook_toc.js\\');')\", 'import pandas as pd\\nimport numpy as np\\nfrom nltk...rs, SGDRegressor\\nfrom sklearn.svm import SVC, SVR', \"rus_lex=pd.read_csv('ruslentilex.csv',';', encoding='cp1251')\\nrus_lex.head()\", 'rus_lex.shape', \"X_lex=rus_lex['word']\\nX_lex.head()\", \"Y_lex=rus_lex['lemm']\\nY_lex.head()\", \"df_train=pd.read_json('train.json', encoding='utf8')\\ndf_train.head()\", \"#stopwords\\nsw_file=open('ru-stopwords.txt')\\nsw=s...e.readlines()\\nsw=[w.replace('\\\\n','') for w in sw]\", 'def ru_token(string):\\n    \"\"\"russian tokenize ba...match(r\\'[\\\\u0400-\\\\u04ffа́]+$\\', i) and i not in sw]', \"#lowercase and delete special chars and leading/...rain['text'].str.lstrip()\\ndf_train['text'].head()\", 'get_ipython().run_cell_magic(\\'time\\', \\'\\', \"from g...ntext_t=[ru_token(s) for s in df_train[\\'text\\']]\")', 'text_t', \"def alpha_vec2(w):\\n    w_len=15\\n    if len(w)<w_... '+str(alpha.find(w[i])))\\n        \\n    return vec\", 'X_lex_vec=[alpha_vec2(w) for w in X_lex]\\nX_lex_vec', 'Y_lex[:2]', \"alpha_vec2('аборт')\", 'Y_lex_vec=[alpha_vec2(w) for w in Y_lex]\\nY_lex_vec', r\"get_ipython().run_cell_magic('time', '', 'model=...arRegression()\\nmodel.fit(X_lex_vec, Y_lex_vec)')\", \"v=model.predict([alpha_vec2('авантюра')])\", ...], 'Lars': <class 'sklearn.linear_model.least_angle.Lars'>, 'LinearRegression': <class 'sklearn.linear_model.base.LinearRegression'>, 'LogisticRegression': <class 'sklearn.linear_model.logistic.LogisticRegression'>, 'Out': {3:           word part_spch          lemm  sentimen...ость      Noun   абсурдность   negative   opinion, 4: (16057, 5), 5: 0          аборт\n1     абортивный\n2    абракадаб...абсурд\n4    абсурдность\nName: word, dtype: object, 6: 0           аборт\n1      абортивный\n2     абрака...бсурд\n4     абсурдность\nName: lemm, dtype: object, 7:      id sentiment                               ...астана. 21 ноября. kazakhstan today - агентств..., 10: 0    досудебное расследование по факту покупки е...tan today - агентств...\nName: text, dtype: object, 12: [['досудебное', 'расследование', 'факту', 'покупки', 'енпф', 'пакета', 'облигаций', 'тоо', 'бузгул', 'аурум', 'начато', 'инициативе', 'национального', 'банка', 'рк', 'сообщил', 'директор', 'департамента', 'защиты', 'прав', ...], ['медики', 'рассказали', 'состоянии', 'пострадавшего', 'мужчины', 'совершено', 'нападение', 'возле', 'отделения', 'банка', 'тимирязева', 'прокомментировали', 'управления', 'здравоохранения', 'алматы', 'места', 'происшествия', 'службу', 'скорой', 'помощи', ...], ['прошел', 'железнодорожным', 'операторам', 'запретили', 'эксплуатировать', 'вагоны', 'продленным', 'сроком', 'службы', 'списано', 'вагонов', 'списала', 'первая', 'грузовая', 'компания', 'владимира', 'лисина', 'вагонов', 'федеральная', 'грузовая', ...], ['итогам', 'месяцев', 'территории', 'республики', 'выпущено', 'единиц', 'автотранспортных', 'средств', 'сумму', 'млрд', 'тенге', 'результата', 'годичной', 'давности', 'натуральном', 'выражении', 'союзе', 'предприятий', 'автомобильной', 'отрасли', ...], ['астана', 'ноября', 'агентство', 'рк', 'делам', 'государственной', 'службы', 'противодействию', 'коррупции', 'выражает', 'обеспокоенность', 'участившимися', 'фактами', 'коррупции', 'квазигосударственном', 'секторе', 'сообщила', 'ведомства', 'согласно', 'сообщению', ...], ['аресте', 'бывшего', 'министра', 'национальной', 'экономики', 'казахстана', 'куандыка', 'бишимбаева', 'сроком', 'месяца', 'азаттыку', 'сообщили', 'городского', 'суда', 'астаны', 'вчера', 'истек', 'срок', 'течение', 'следствие', ...], ['двое', 'налетчиков', 'совершили', 'нападение', 'охранника', 'банка', 'центркредит', 'алматы', 'завладели', 'оружием', 'сообщает', 'двд', 'алматы', 'центр', 'оперативного', 'управления', 'двд', 'города', 'алматы', 'поступило', ...], ['квартале', 'вдвое', 'снизила', 'чистую', 'прибыль', 'мсфо', 'астана', 'мая', 'ао', 'получило', 'чистую', 'прибыль', 'размере', 'млрд', 'тенге', 'раза', 'первом', 'квартале', 'говорится', 'консолидированной', ...], ['половина', 'коррупционных', 'преступлений', 'системе', 'вооруженных', 'сил', 'рк', 'выявлено', 'местных', 'органах', 'военного', 'управления', 'зарегистрировано', 'взяток', 'выдаче', 'военных', 'билетов', 'предоставлению', 'отсрочки', 'призыва', ...], ['чт', 'янв', 'фигурантов', 'дела', 'коррупции', 'ао', 'байтерек', 'управляющий', 'директор', 'компании', 'дильрух', 'анарбай', 'осуждён', 'статье', 'ук', 'рк', 'старой', 'редакции', 'заведомо', 'ложное', ...], ['алматы', 'октября', 'казтаг', 'понизило', 'рейтинги', 'ао', 'қазақстан', 'темір', 'жолы', 'ктж', 'уровня', 'прогноз', 'изменения', 'рейтингов', 'негативный', 'говорится', 'сообщении', 'рейтингового', 'агентства', 'понизило', ...], ['долгожданный', 'план', 'названный', 'министерством', 'национальной', 'экономики', 'стратегией', 'развития', 'казахстана', 'увидел', 'копий', 'сломано', 'экспертов', 'просиживало', 'приемной', 'министра', 'долгими', 'часами', 'внести', 'коррективы', ...], ['ао', 'астана', 'ценные', 'бумаги', 'находятся', 'официальном', 'списке', 'казахстанской', 'фондовой', 'биржи', 'сообщило', 'привлечении', 'филиала', 'должностного', 'лица', 'филиала', 'административной', 'ответственности'], ['молодого', 'павлодарца', 'сломались', 'обе', 'инвалидные', 'коляски', 'ногами', 'связью', 'внешним', 'миром', 'передает', 'информбюро', 'артур', 'руссман', 'решил', 'социальные', 'сети', 'попросить', 'крайне', 'скромной', ...], ['неделю', 'жители', 'астаны', 'страдали', 'смога', 'густая', 'пелена', 'тумана', 'запах', 'гари', 'окутали', 'первыми', 'забили', 'тревогу', 'пользователи', 'социальных', 'сетей', 'выкладывали', 'апокалиптические', 'фото', ...], ['завод', 'переработке', 'масличных', 'культур', 'построили', 'ильичёвке', 'ско', 'месяцев', 'аким', 'области', 'ерик', 'султанов', 'встретился', 'китайской', 'делегацией', 'кнр', 'приехала', 'ознакомления', 'инвестиционным', 'потенциалом', ...], ['регионах', 'продолжаются', 'отчеты', 'местных', 'исполнительных', 'органов', 'проделанной', 'работе', 'планах', 'развития', 'предстоящий', 'посетив', 'рабочим', 'визитом', 'кызылкогинский', 'район', 'аким', 'атырауской', 'области', 'нурлан', ...], ['астана', 'казинформ', 'средний', 'показатель', 'поездок', 'велосипед', 'астане', 'составил', 'москве', 'париже', 'данным', 'системы', 'городского', 'велопроката', 'среднем', 'пользователи', 'системы', 'астане', 'проезжают', 'км', ...], ['активно', 'стимулирует', 'казахстанских', 'экспортеров', 'несырьевой', 'продукции', 'освоению', 'новых', 'зарубежных', 'рынков', 'китайцы', 'берут', 'президент', 'ао', 'баян', 'сулу', 'тимур', 'садыков', 'отмечает', 'китайский', ...], ['оплачивайте', 'комиссий', 'казахтелеком', 'сайте', 'просмотров'], ...], 14: [array([ 1.,  2., 16., 18., 20.,  0.,  0.,  0.,  0.,  0.,  0.,  0.,  0.,\n        0.,  0.]), array([ 1.,  2., 16., 18., 20., 10.,  3., 15., 29., 11.,  0.,  0.,  0.,\n        0.,  0.]), array([ 1.,  2., 18.,  1., 12.,  1.,  5.,  1.,  2., 18.,  1.,  0.,  0.,\n        0.,  0.]), array([ 1.,  2., 19., 21., 18.,  5.,  0.,  0.,  0.,  0.,  0.,  0.,  0.,\n        0.,  0.]), array([ 1.,  2., 19., 21., 18.,  5., 15., 16., 19., 20., 30.,  0.,  0.,\n        0.,  0.]), array([ 1.,  2., 19., 21., 18.,  5., 15., 29., 11.,  0.,  0.,  0.,  0.,\n        0.,  0.]), array([ 1.,  3.,  1., 15., 20., 32., 18.,  1.,  0.,  0.,  0.,  0.,  0.,\n        0.,  0.]), array([ 1.,  3.,  1., 15., 20., 32., 18., 10.,  9., 14.,  0.,  0.,  0.,\n        0.,  0.]), array([ 1.,  3.,  1., 15., 20., 32., 18., 10., 19., 20.,  0.,  0.,  0.,\n        0.,  0.]), array([ 1.,  3.,  1., 15., 20., 32., 18., 10., 19., 20., 10., 25.,  6.,\n       19., 12.]), array([ 1.,  3.,  1., 15., 20., 32., 18., 10., 19., 20., 12.,  1.,  0.,\n        0.,  0.]), array([ 1.,  3.,  1., 15., 20., 32., 18., 10., 19., 20., 19., 12., 10.,\n       11.,  0.]), array([ 1.,  3.,  1., 15., 20., 32., 18., 15., 29., 11.,  0.,  0.,  0.,\n        0.,  0.]), array([ 1.,  3.,  1., 18., 10., 11., 15.,  1., 33.,  0.,  9.,  1., 27.,\n       10., 20.]), array([ 1.,  3.,  1., 18., 10., 11., 15., 16., 19., 20., 30.,  0.,  0.,\n        0.,  0.]), array([ 1.,  3.,  1., 18., 10., 11., 15., 29., 11.,  0.,  0.,  0.,  0.,\n        0.,  0.]), array([ 1.,  3.,  1., 18., 10., 33.,  0.,  0.,  0.,  0.,  0.,  0.,  0.,\n        0.,  0.]), array([ 1.,  3., 10.,  1., 12.,  1., 20.,  1., 19., 20., 18., 16., 22.,\n        1.,  0.]), array([ 1.,  3., 10.,  1., 12., 18., 21., 26.,  6., 15., 10.,  6.,  0.,\n        0.,  0.]), array([ 1.,  3., 10.,  1., 15.,  1., 13.,  6., 20.,  0.,  0.,  0.,  0.,\n        0.,  0.]), ...], 15: 0          аборт\n1     абортивный\nName: lemm, dtype: object, 16: array([ 1.,  2., 16., 18., 20.,  0.,  0.,  0.,  0.,  0.,  0.,  0.,  0.,\n        0.,  0.]), ...}, 'Phraser': <class 'gensim.models.phrases.Phraser'>, 'Phrases': <class 'gensim.models.phrases.Phrases'>, ...}\n        local_ns = None\n   1239             except:\n   1240                 self.shell.showtraceback()\n   1241                 return\n   1242             end = clock2()\n\n...........................................................................\nC:\\Users\\user320\\YandexDisk\\MedMon\\app\\kaggle\\<timed exec> in <module>()\n\n...........................................................................\nC:\\ProgramData\\Anaconda3\\lib\\site-packages\\sklearn\\model_selection\\_search.py in fit(self=RandomizedSearchCV(cv=3, error_score='raise',\n  ...turn_train_score='warn', scoring=None, verbose=2), X=[array([ 1.,  0., 12., 16., 15., 20., 16.,  0.,  0.,  0.,  0.,  0.,  0.,\n        0.,  0.]), array([ 1.,  1., 18.,  6.,  0.,  0.,  0.,  0.,  0.,  0.,  0.,  0.,  0.,\n        0.,  0.]), array([ 1.,  1., 18., 16., 15., 16.,  3., 27., 10., 15.,  0.,  0.,  0.,\n        0.,  0.]), array([ 1.,  1., 18., 16., 15., 16.,  3., 27., 10., 15.,  1., 14.,  0.,\n        0.,  0.]), array([ 1.,  1., 18., 16., 15., 16.,  3., 27., 10., 15.,  1., 14., 10.,\n        0.,  0.]), array([ 1.,  1., 18., 16., 15., 16.,  3., 27., 10., 15.,  1., 23.,  0.,\n        0.,  0.]), array([ 1.,  1., 18., 16., 15., 16.,  3., 27., 10., 15.,  6.,  0.,  0.,\n        0.,  0.]), array([ 1.,  1., 18., 16., 15., 16.,  3., 27., 10., 15., 16., 11.,  0.,\n        0.,  0.]), array([ 1.,  1., 18., 16., 15., 16.,  3., 27., 10., 15., 21.,  0.,  0.,\n        0.,  0.]), array([ 1.,  1., 18., 16., 15., 16.,  3., 27., 10., 15., 29.,  0.,  0.,\n        0.,  0.]), array([ 1.,  1., 23.,  6., 15.,  0.,  0.,  0.,  0.,  0.,  0.,  0.,  0.,\n        0.,  0.]), array([ 1.,  1., 23.,  6., 15.,  1.,  0.,  0.,  0.,  0.,  0.,  0.,  0.,\n        0.,  0.]), array([ 1.,  1., 23.,  6., 15.,  1., 14.,  0.,  0.,  0.,  0.,  0.,  0.,\n        0.,  0.]), array([ 1.,  1., 23.,  6., 15.,  1., 14., 10.,  0.,  0.,  0.,  0.,  0.,\n        0.,  0.]), array([ 1.,  1., 23.,  6., 15.,  1., 23.,  0.,  0.,  0.,  0.,  0.,  0.,\n        0.,  0.]), array([ 1.,  1., 23.,  6., 15.,  6.,  0.,  0.,  0.,  0.,  0.,  0.,  0.,\n        0.,  0.]), array([ 1.,  1., 23.,  6., 15., 16.,  3.,  0.,  0.,  0.,  0.,  0.,  0.,\n        0.,  0.]), array([ 1.,  1., 23.,  6., 15., 16., 14.,  0.,  0.,  0.,  0.,  0.,  0.,\n        0.,  0.]), array([ 1.,  1., 23.,  6., 15., 21.,  0.,  0.,  0.,  0.,  0.,  0.,  0.,\n        0.,  0.]), array([ 1.,  1., 23.,  6., 15., 29.,  0.,  0.,  0.,  0.,  0.,  0.,  0.,\n        0.,  0.]), ...], y=[array([ 1.,  0., 12., 16., 15., 20., 16.,  0.,  0.,  0.,  0.,  0.,  0.,\n        0.,  0.]), array([ 1.,  1., 18.,  6.,  0.,  0.,  0.,  0.,  0.,  0.,  0.,  0.,  0.,\n        0.,  0.]), array([ 1.,  1., 18., 16., 15., 16.,  3., 27., 10., 15.,  1.,  0.,  0.,\n        0.,  0.]), array([ 1.,  1., 18., 16., 15., 16.,  3., 27., 10., 15.,  1.,  0.,  0.,\n        0.,  0.]), array([ 1.,  1., 18., 16., 15., 16.,  3., 27., 10., 15.,  1.,  0.,  0.,\n        0.,  0.]), array([ 1.,  1., 18., 16., 15., 16.,  3., 27., 10., 15.,  1.,  0.,  0.,\n        0.,  0.]), array([ 1.,  1., 18., 16., 15., 16.,  3., 27., 10., 15.,  1.,  0.,  0.,\n        0.,  0.]), array([ 1.,  1., 18., 16., 15., 16.,  3., 27., 10., 15.,  1.,  0.,  0.,\n        0.,  0.]), array([ 1.,  1., 18., 16., 15., 16.,  3., 27., 10., 15.,  1.,  0.,  0.,\n        0.,  0.]), array([ 1.,  1., 18., 16., 15., 16.,  3., 27., 10., 15.,  1.,  0.,  0.,\n        0.,  0.]), array([ 1.,  1., 23.,  6., 15.,  0.,  0.,  0.,  0.,  0.,  0.,  0.,  0.,\n        0.,  0.]), array([ 1.,  1., 23.,  6., 15.,  0.,  0.,  0.,  0.,  0.,  0.,  0.,  0.,\n        0.,  0.]), array([ 1.,  1., 23.,  6., 15.,  0.,  0.,  0.,  0.,  0.,  0.,  0.,  0.,\n        0.,  0.]), array([ 1.,  1., 23.,  6., 15.,  0.,  0.,  0.,  0.,  0.,  0.,  0.,  0.,\n        0.,  0.]), array([ 1.,  1., 23.,  6., 15.,  0.,  0.,  0.,  0.,  0.,  0.,  0.,  0.,\n        0.,  0.]), array([ 1.,  1., 23.,  6., 15.,  0.,  0.,  0.,  0.,  0.,  0.,  0.,  0.,\n        0.,  0.]), array([ 1.,  1., 23.,  6., 15.,  0.,  0.,  0.,  0.,  0.,  0.,  0.,  0.,\n        0.,  0.]), array([ 1.,  1., 23.,  6., 15.,  0.,  0.,  0.,  0.,  0.,  0.,  0.,  0.,\n        0.,  0.]), array([ 1.,  1., 23.,  6., 15.,  0.,  0.,  0.,  0.,  0.,  0.,  0.,  0.,\n        0.,  0.]), array([ 1.,  1., 23.,  6., 15.,  0.,  0.,  0.,  0.,  0.,  0.,  0.,  0.,\n        0.,  0.]), ...], groups=None, **fit_params={})\n    634                                   return_train_score=self.return_train_score,\n    635                                   return_n_test_samples=True,\n    636                                   return_times=True, return_parameters=False,\n    637                                   error_score=self.error_score)\n    638           for parameters, (train, test) in product(candidate_params,\n--> 639                                                    cv.split(X, y, groups)))\n        cv.split = <bound method _BaseKFold.split of KFold(n_splits=3, random_state=None, shuffle=False)>\n        X = [array([ 1.,  0., 12., 16., 15., 20., 16.,  0.,  0.,  0.,  0.,  0.,  0.,\n        0.,  0.]), array([ 1.,  1., 18.,  6.,  0.,  0.,  0.,  0.,  0.,  0.,  0.,  0.,  0.,\n        0.,  0.]), array([ 1.,  1., 18., 16., 15., 16.,  3., 27., 10., 15.,  0.,  0.,  0.,\n        0.,  0.]), array([ 1.,  1., 18., 16., 15., 16.,  3., 27., 10., 15.,  1., 14.,  0.,\n        0.,  0.]), array([ 1.,  1., 18., 16., 15., 16.,  3., 27., 10., 15.,  1., 14., 10.,\n        0.,  0.]), array([ 1.,  1., 18., 16., 15., 16.,  3., 27., 10., 15.,  1., 23.,  0.,\n        0.,  0.]), array([ 1.,  1., 18., 16., 15., 16.,  3., 27., 10., 15.,  6.,  0.,  0.,\n        0.,  0.]), array([ 1.,  1., 18., 16., 15., 16.,  3., 27., 10., 15., 16., 11.,  0.,\n        0.,  0.]), array([ 1.,  1., 18., 16., 15., 16.,  3., 27., 10., 15., 21.,  0.,  0.,\n        0.,  0.]), array([ 1.,  1., 18., 16., 15., 16.,  3., 27., 10., 15., 29.,  0.,  0.,\n        0.,  0.]), array([ 1.,  1., 23.,  6., 15.,  0.,  0.,  0.,  0.,  0.,  0.,  0.,  0.,\n        0.,  0.]), array([ 1.,  1., 23.,  6., 15.,  1.,  0.,  0.,  0.,  0.,  0.,  0.,  0.,\n        0.,  0.]), array([ 1.,  1., 23.,  6., 15.,  1., 14.,  0.,  0.,  0.,  0.,  0.,  0.,\n        0.,  0.]), array([ 1.,  1., 23.,  6., 15.,  1., 14., 10.,  0.,  0.,  0.,  0.,  0.,\n        0.,  0.]), array([ 1.,  1., 23.,  6., 15.,  1., 23.,  0.,  0.,  0.,  0.,  0.,  0.,\n        0.,  0.]), array([ 1.,  1., 23.,  6., 15.,  6.,  0.,  0.,  0.,  0.,  0.,  0.,  0.,\n        0.,  0.]), array([ 1.,  1., 23.,  6., 15., 16.,  3.,  0.,  0.,  0.,  0.,  0.,  0.,\n        0.,  0.]), array([ 1.,  1., 23.,  6., 15., 16., 14.,  0.,  0.,  0.,  0.,  0.,  0.,\n        0.,  0.]), array([ 1.,  1., 23.,  6., 15., 21.,  0.,  0.,  0.,  0.,  0.,  0.,  0.,\n        0.,  0.]), array([ 1.,  1., 23.,  6., 15., 29.,  0.,  0.,  0.,  0.,  0.,  0.,  0.,\n        0.,  0.]), ...]\n        y = [array([ 1.,  0., 12., 16., 15., 20., 16.,  0.,  0.,  0.,  0.,  0.,  0.,\n        0.,  0.]), array([ 1.,  1., 18.,  6.,  0.,  0.,  0.,  0.,  0.,  0.,  0.,  0.,  0.,\n        0.,  0.]), array([ 1.,  1., 18., 16., 15., 16.,  3., 27., 10., 15.,  1.,  0.,  0.,\n        0.,  0.]), array([ 1.,  1., 18., 16., 15., 16.,  3., 27., 10., 15.,  1.,  0.,  0.,\n        0.,  0.]), array([ 1.,  1., 18., 16., 15., 16.,  3., 27., 10., 15.,  1.,  0.,  0.,\n        0.,  0.]), array([ 1.,  1., 18., 16., 15., 16.,  3., 27., 10., 15.,  1.,  0.,  0.,\n        0.,  0.]), array([ 1.,  1., 18., 16., 15., 16.,  3., 27., 10., 15.,  1.,  0.,  0.,\n        0.,  0.]), array([ 1.,  1., 18., 16., 15., 16.,  3., 27., 10., 15.,  1.,  0.,  0.,\n        0.,  0.]), array([ 1.,  1., 18., 16., 15., 16.,  3., 27., 10., 15.,  1.,  0.,  0.,\n        0.,  0.]), array([ 1.,  1., 18., 16., 15., 16.,  3., 27., 10., 15.,  1.,  0.,  0.,\n        0.,  0.]), array([ 1.,  1., 23.,  6., 15.,  0.,  0.,  0.,  0.,  0.,  0.,  0.,  0.,\n        0.,  0.]), array([ 1.,  1., 23.,  6., 15.,  0.,  0.,  0.,  0.,  0.,  0.,  0.,  0.,\n        0.,  0.]), array([ 1.,  1., 23.,  6., 15.,  0.,  0.,  0.,  0.,  0.,  0.,  0.,  0.,\n        0.,  0.]), array([ 1.,  1., 23.,  6., 15.,  0.,  0.,  0.,  0.,  0.,  0.,  0.,  0.,\n        0.,  0.]), array([ 1.,  1., 23.,  6., 15.,  0.,  0.,  0.,  0.,  0.,  0.,  0.,  0.,\n        0.,  0.]), array([ 1.,  1., 23.,  6., 15.,  0.,  0.,  0.,  0.,  0.,  0.,  0.,  0.,\n        0.,  0.]), array([ 1.,  1., 23.,  6., 15.,  0.,  0.,  0.,  0.,  0.,  0.,  0.,  0.,\n        0.,  0.]), array([ 1.,  1., 23.,  6., 15.,  0.,  0.,  0.,  0.,  0.,  0.,  0.,  0.,\n        0.,  0.]), array([ 1.,  1., 23.,  6., 15.,  0.,  0.,  0.,  0.,  0.,  0.,  0.,  0.,\n        0.,  0.]), array([ 1.,  1., 23.,  6., 15.,  0.,  0.,  0.,  0.,  0.,  0.,  0.,  0.,\n        0.,  0.]), ...]\n        groups = None\n    640 \n    641         # if one choose to see train score, \"out\" will contain train score info\n    642         if self.return_train_score:\n    643             (train_score_dicts, test_score_dicts, test_sample_counts, fit_time,\n\n...........................................................................\nC:\\ProgramData\\Anaconda3\\lib\\site-packages\\sklearn\\externals\\joblib\\parallel.py in __call__(self=Parallel(n_jobs=-1), iterable=<generator object BaseSearchCV.fit.<locals>.<genexpr>>)\n    784             if pre_dispatch == \"all\" or n_jobs == 1:\n    785                 # The iterable was consumed all at once by the above for loop.\n    786                 # No need to wait for async callbacks to trigger to\n    787                 # consumption.\n    788                 self._iterating = False\n--> 789             self.retrieve()\n        self.retrieve = <bound method Parallel.retrieve of Parallel(n_jobs=-1)>\n    790             # Make sure that we get a last message telling us we are done\n    791             elapsed_time = time.time() - self._start_time\n    792             self._print('Done %3i out of %3i | elapsed: %s finished',\n    793                         (len(self._output), len(self._output),\n\n---------------------------------------------------------------------------\nSub-process traceback:\n---------------------------------------------------------------------------\nMemoryError                                        Wed Jul 18 17:32:13 2018\nPID: 14380                Python 3.6.5: C:\\ProgramData\\Anaconda3\\python.exe\n...........................................................................\nC:\\ProgramData\\Anaconda3\\lib\\site-packages\\sklearn\\externals\\joblib\\parallel.py in __call__(self=<sklearn.externals.joblib.parallel.BatchedCalls object>)\n    126     def __init__(self, iterator_slice):\n    127         self.items = list(iterator_slice)\n    128         self._size = len(self.items)\n    129 \n    130     def __call__(self):\n--> 131         return [func(*args, **kwargs) for func, args, kwargs in self.items]\n        self.items = [(<function _fit_and_score>, (RandomForestRegressor(bootstrap=True, criterion=..., random_state=None, verbose=0, warm_start=False), [array([ 1.,  0., 12., 16., 15., 20., 16.,  0.,  0.,  0.,  0.,  0.,  0.,\n        0.,  0.]), array([ 1.,  1., 18.,  6.,  0.,  0.,  0.,  0.,  0.,  0.,  0.,  0.,  0.,\n        0.,  0.]), array([ 1.,  1., 18., 16., 15., 16.,  3., 27., 10., 15.,  0.,  0.,  0.,\n        0.,  0.]), array([ 1.,  1., 18., 16., 15., 16.,  3., 27., 10., 15.,  1., 14.,  0.,\n        0.,  0.]), array([ 1.,  1., 18., 16., 15., 16.,  3., 27., 10., 15.,  1., 14., 10.,\n        0.,  0.]), array([ 1.,  1., 18., 16., 15., 16.,  3., 27., 10., 15.,  1., 23.,  0.,\n        0.,  0.]), array([ 1.,  1., 18., 16., 15., 16.,  3., 27., 10., 15.,  6.,  0.,  0.,\n        0.,  0.]), array([ 1.,  1., 18., 16., 15., 16.,  3., 27., 10., 15., 16., 11.,  0.,\n        0.,  0.]), array([ 1.,  1., 18., 16., 15., 16.,  3., 27., 10., 15., 21.,  0.,  0.,\n        0.,  0.]), array([ 1.,  1., 18., 16., 15., 16.,  3., 27., 10., 15., 29.,  0.,  0.,\n        0.,  0.]), array([ 1.,  1., 23.,  6., 15.,  0.,  0.,  0.,  0.,  0.,  0.,  0.,  0.,\n        0.,  0.]), array([ 1.,  1., 23.,  6., 15.,  1.,  0.,  0.,  0.,  0.,  0.,  0.,  0.,\n        0.,  0.]), array([ 1.,  1., 23.,  6., 15.,  1., 14.,  0.,  0.,  0.,  0.,  0.,  0.,\n        0.,  0.]), array([ 1.,  1., 23.,  6., 15.,  1., 14., 10.,  0.,  0.,  0.,  0.,  0.,\n        0.,  0.]), array([ 1.,  1., 23.,  6., 15.,  1., 23.,  0.,  0.,  0.,  0.,  0.,  0.,\n        0.,  0.]), array([ 1.,  1., 23.,  6., 15.,  6.,  0.,  0.,  0.,  0.,  0.,  0.,  0.,\n        0.,  0.]), array([ 1.,  1., 23.,  6., 15., 16.,  3.,  0.,  0.,  0.,  0.,  0.,  0.,\n        0.,  0.]), array([ 1.,  1., 23.,  6., 15., 16., 14.,  0.,  0.,  0.,  0.,  0.,  0.,\n        0.,  0.]), array([ 1.,  1., 23.,  6., 15., 21.,  0.,  0.,  0.,  0.,  0.,  0.,  0.,\n        0.,  0.]), array([ 1.,  1., 23.,  6., 15., 29.,  0.,  0.,  0.,  0.,  0.,  0.,  0.,\n        0.,  0.]), ...], [array([ 1.,  0., 12., 16., 15., 20., 16.,  0.,  0.,  0.,  0.,  0.,  0.,\n        0.,  0.]), array([ 1.,  1., 18.,  6.,  0.,  0.,  0.,  0.,  0.,  0.,  0.,  0.,  0.,\n        0.,  0.]), array([ 1.,  1., 18., 16., 15., 16.,  3., 27., 10., 15.,  1.,  0.,  0.,\n        0.,  0.]), array([ 1.,  1., 18., 16., 15., 16.,  3., 27., 10., 15.,  1.,  0.,  0.,\n        0.,  0.]), array([ 1.,  1., 18., 16., 15., 16.,  3., 27., 10., 15.,  1.,  0.,  0.,\n        0.,  0.]), array([ 1.,  1., 18., 16., 15., 16.,  3., 27., 10., 15.,  1.,  0.,  0.,\n        0.,  0.]), array([ 1.,  1., 18., 16., 15., 16.,  3., 27., 10., 15.,  1.,  0.,  0.,\n        0.,  0.]), array([ 1.,  1., 18., 16., 15., 16.,  3., 27., 10., 15.,  1.,  0.,  0.,\n        0.,  0.]), array([ 1.,  1., 18., 16., 15., 16.,  3., 27., 10., 15.,  1.,  0.,  0.,\n        0.,  0.]), array([ 1.,  1., 18., 16., 15., 16.,  3., 27., 10., 15.,  1.,  0.,  0.,\n        0.,  0.]), array([ 1.,  1., 23.,  6., 15.,  0.,  0.,  0.,  0.,  0.,  0.,  0.,  0.,\n        0.,  0.]), array([ 1.,  1., 23.,  6., 15.,  0.,  0.,  0.,  0.,  0.,  0.,  0.,  0.,\n        0.,  0.]), array([ 1.,  1., 23.,  6., 15.,  0.,  0.,  0.,  0.,  0.,  0.,  0.,  0.,\n        0.,  0.]), array([ 1.,  1., 23.,  6., 15.,  0.,  0.,  0.,  0.,  0.,  0.,  0.,  0.,\n        0.,  0.]), array([ 1.,  1., 23.,  6., 15.,  0.,  0.,  0.,  0.,  0.,  0.,  0.,  0.,\n        0.,  0.]), array([ 1.,  1., 23.,  6., 15.,  0.,  0.,  0.,  0.,  0.,  0.,  0.,  0.,\n        0.,  0.]), array([ 1.,  1., 23.,  6., 15.,  0.,  0.,  0.,  0.,  0.,  0.,  0.,  0.,\n        0.,  0.]), array([ 1.,  1., 23.,  6., 15.,  0.,  0.,  0.,  0.,  0.,  0.,  0.,  0.,\n        0.,  0.]), array([ 1.,  1., 23.,  6., 15.,  0.,  0.,  0.,  0.,  0.,  0.,  0.,  0.,\n        0.,  0.]), array([ 1.,  1., 23.,  6., 15.,  0.,  0.,  0.,  0.,  0.,  0.,  0.,  0.,\n        0.,  0.]), ...], {'score': <function _passthrough_scorer>}, memmap([ 885823,  885824,  885825, ..., 2657464, 2657465, 2657466]), memmap([     0,      1,      2, ..., 885820, 885821, 885822]), 2, {'bootstrap': True, 'max_depth': 30, 'max_features': 'sqrt', 'min_samples_leaf': 1, 'min_samples_split': 5, 'n_estimators': 400}), {'error_score': 'raise', 'fit_params': {}, 'return_n_test_samples': True, 'return_parameters': False, 'return_times': True, 'return_train_score': 'warn'})]\n    132 \n    133     def __len__(self):\n    134         return self._size\n    135 \n\n...........................................................................\nC:\\ProgramData\\Anaconda3\\lib\\site-packages\\sklearn\\externals\\joblib\\parallel.py in <listcomp>(.0=<list_iterator object>)\n    126     def __init__(self, iterator_slice):\n    127         self.items = list(iterator_slice)\n    128         self._size = len(self.items)\n    129 \n    130     def __call__(self):\n--> 131         return [func(*args, **kwargs) for func, args, kwargs in self.items]\n        func = <function _fit_and_score>\n        args = (RandomForestRegressor(bootstrap=True, criterion=..., random_state=None, verbose=0, warm_start=False), [array([ 1.,  0., 12., 16., 15., 20., 16.,  0.,  0.,  0.,  0.,  0.,  0.,\n        0.,  0.]), array([ 1.,  1., 18.,  6.,  0.,  0.,  0.,  0.,  0.,  0.,  0.,  0.,  0.,\n        0.,  0.]), array([ 1.,  1., 18., 16., 15., 16.,  3., 27., 10., 15.,  0.,  0.,  0.,\n        0.,  0.]), array([ 1.,  1., 18., 16., 15., 16.,  3., 27., 10., 15.,  1., 14.,  0.,\n        0.,  0.]), array([ 1.,  1., 18., 16., 15., 16.,  3., 27., 10., 15.,  1., 14., 10.,\n        0.,  0.]), array([ 1.,  1., 18., 16., 15., 16.,  3., 27., 10., 15.,  1., 23.,  0.,\n        0.,  0.]), array([ 1.,  1., 18., 16., 15., 16.,  3., 27., 10., 15.,  6.,  0.,  0.,\n        0.,  0.]), array([ 1.,  1., 18., 16., 15., 16.,  3., 27., 10., 15., 16., 11.,  0.,\n        0.,  0.]), array([ 1.,  1., 18., 16., 15., 16.,  3., 27., 10., 15., 21.,  0.,  0.,\n        0.,  0.]), array([ 1.,  1., 18., 16., 15., 16.,  3., 27., 10., 15., 29.,  0.,  0.,\n        0.,  0.]), array([ 1.,  1., 23.,  6., 15.,  0.,  0.,  0.,  0.,  0.,  0.,  0.,  0.,\n        0.,  0.]), array([ 1.,  1., 23.,  6., 15.,  1.,  0.,  0.,  0.,  0.,  0.,  0.,  0.,\n        0.,  0.]), array([ 1.,  1., 23.,  6., 15.,  1., 14.,  0.,  0.,  0.,  0.,  0.,  0.,\n        0.,  0.]), array([ 1.,  1., 23.,  6., 15.,  1., 14., 10.,  0.,  0.,  0.,  0.,  0.,\n        0.,  0.]), array([ 1.,  1., 23.,  6., 15.,  1., 23.,  0.,  0.,  0.,  0.,  0.,  0.,\n        0.,  0.]), array([ 1.,  1., 23.,  6., 15.,  6.,  0.,  0.,  0.,  0.,  0.,  0.,  0.,\n        0.,  0.]), array([ 1.,  1., 23.,  6., 15., 16.,  3.,  0.,  0.,  0.,  0.,  0.,  0.,\n        0.,  0.]), array([ 1.,  1., 23.,  6., 15., 16., 14.,  0.,  0.,  0.,  0.,  0.,  0.,\n        0.,  0.]), array([ 1.,  1., 23.,  6., 15., 21.,  0.,  0.,  0.,  0.,  0.,  0.,  0.,\n        0.,  0.]), array([ 1.,  1., 23.,  6., 15., 29.,  0.,  0.,  0.,  0.,  0.,  0.,  0.,\n        0.,  0.]), ...], [array([ 1.,  0., 12., 16., 15., 20., 16.,  0.,  0.,  0.,  0.,  0.,  0.,\n        0.,  0.]), array([ 1.,  1., 18.,  6.,  0.,  0.,  0.,  0.,  0.,  0.,  0.,  0.,  0.,\n        0.,  0.]), array([ 1.,  1., 18., 16., 15., 16.,  3., 27., 10., 15.,  1.,  0.,  0.,\n        0.,  0.]), array([ 1.,  1., 18., 16., 15., 16.,  3., 27., 10., 15.,  1.,  0.,  0.,\n        0.,  0.]), array([ 1.,  1., 18., 16., 15., 16.,  3., 27., 10., 15.,  1.,  0.,  0.,\n        0.,  0.]), array([ 1.,  1., 18., 16., 15., 16.,  3., 27., 10., 15.,  1.,  0.,  0.,\n        0.,  0.]), array([ 1.,  1., 18., 16., 15., 16.,  3., 27., 10., 15.,  1.,  0.,  0.,\n        0.,  0.]), array([ 1.,  1., 18., 16., 15., 16.,  3., 27., 10., 15.,  1.,  0.,  0.,\n        0.,  0.]), array([ 1.,  1., 18., 16., 15., 16.,  3., 27., 10., 15.,  1.,  0.,  0.,\n        0.,  0.]), array([ 1.,  1., 18., 16., 15., 16.,  3., 27., 10., 15.,  1.,  0.,  0.,\n        0.,  0.]), array([ 1.,  1., 23.,  6., 15.,  0.,  0.,  0.,  0.,  0.,  0.,  0.,  0.,\n        0.,  0.]), array([ 1.,  1., 23.,  6., 15.,  0.,  0.,  0.,  0.,  0.,  0.,  0.,  0.,\n        0.,  0.]), array([ 1.,  1., 23.,  6., 15.,  0.,  0.,  0.,  0.,  0.,  0.,  0.,  0.,\n        0.,  0.]), array([ 1.,  1., 23.,  6., 15.,  0.,  0.,  0.,  0.,  0.,  0.,  0.,  0.,\n        0.,  0.]), array([ 1.,  1., 23.,  6., 15.,  0.,  0.,  0.,  0.,  0.,  0.,  0.,  0.,\n        0.,  0.]), array([ 1.,  1., 23.,  6., 15.,  0.,  0.,  0.,  0.,  0.,  0.,  0.,  0.,\n        0.,  0.]), array([ 1.,  1., 23.,  6., 15.,  0.,  0.,  0.,  0.,  0.,  0.,  0.,  0.,\n        0.,  0.]), array([ 1.,  1., 23.,  6., 15.,  0.,  0.,  0.,  0.,  0.,  0.,  0.,  0.,\n        0.,  0.]), array([ 1.,  1., 23.,  6., 15.,  0.,  0.,  0.,  0.,  0.,  0.,  0.,  0.,\n        0.,  0.]), array([ 1.,  1., 23.,  6., 15.,  0.,  0.,  0.,  0.,  0.,  0.,  0.,  0.,\n        0.,  0.]), ...], {'score': <function _passthrough_scorer>}, memmap([ 885823,  885824,  885825, ..., 2657464, 2657465, 2657466]), memmap([     0,      1,      2, ..., 885820, 885821, 885822]), 2, {'bootstrap': True, 'max_depth': 30, 'max_features': 'sqrt', 'min_samples_leaf': 1, 'min_samples_split': 5, 'n_estimators': 400})\n        kwargs = {'error_score': 'raise', 'fit_params': {}, 'return_n_test_samples': True, 'return_parameters': False, 'return_times': True, 'return_train_score': 'warn'}\n    132 \n    133     def __len__(self):\n    134         return self._size\n    135 \n\n...........................................................................\nC:\\ProgramData\\Anaconda3\\lib\\site-packages\\sklearn\\model_selection\\_validation.py in _fit_and_score(estimator=RandomForestRegressor(bootstrap=True, criterion=..., random_state=None, verbose=0, warm_start=False), X=[array([ 1.,  0., 12., 16., 15., 20., 16.,  0.,  0.,  0.,  0.,  0.,  0.,\n        0.,  0.]), array([ 1.,  1., 18.,  6.,  0.,  0.,  0.,  0.,  0.,  0.,  0.,  0.,  0.,\n        0.,  0.]), array([ 1.,  1., 18., 16., 15., 16.,  3., 27., 10., 15.,  0.,  0.,  0.,\n        0.,  0.]), array([ 1.,  1., 18., 16., 15., 16.,  3., 27., 10., 15.,  1., 14.,  0.,\n        0.,  0.]), array([ 1.,  1., 18., 16., 15., 16.,  3., 27., 10., 15.,  1., 14., 10.,\n        0.,  0.]), array([ 1.,  1., 18., 16., 15., 16.,  3., 27., 10., 15.,  1., 23.,  0.,\n        0.,  0.]), array([ 1.,  1., 18., 16., 15., 16.,  3., 27., 10., 15.,  6.,  0.,  0.,\n        0.,  0.]), array([ 1.,  1., 18., 16., 15., 16.,  3., 27., 10., 15., 16., 11.,  0.,\n        0.,  0.]), array([ 1.,  1., 18., 16., 15., 16.,  3., 27., 10., 15., 21.,  0.,  0.,\n        0.,  0.]), array([ 1.,  1., 18., 16., 15., 16.,  3., 27., 10., 15., 29.,  0.,  0.,\n        0.,  0.]), array([ 1.,  1., 23.,  6., 15.,  0.,  0.,  0.,  0.,  0.,  0.,  0.,  0.,\n        0.,  0.]), array([ 1.,  1., 23.,  6., 15.,  1.,  0.,  0.,  0.,  0.,  0.,  0.,  0.,\n        0.,  0.]), array([ 1.,  1., 23.,  6., 15.,  1., 14.,  0.,  0.,  0.,  0.,  0.,  0.,\n        0.,  0.]), array([ 1.,  1., 23.,  6., 15.,  1., 14., 10.,  0.,  0.,  0.,  0.,  0.,\n        0.,  0.]), array([ 1.,  1., 23.,  6., 15.,  1., 23.,  0.,  0.,  0.,  0.,  0.,  0.,\n        0.,  0.]), array([ 1.,  1., 23.,  6., 15.,  6.,  0.,  0.,  0.,  0.,  0.,  0.,  0.,\n        0.,  0.]), array([ 1.,  1., 23.,  6., 15., 16.,  3.,  0.,  0.,  0.,  0.,  0.,  0.,\n        0.,  0.]), array([ 1.,  1., 23.,  6., 15., 16., 14.,  0.,  0.,  0.,  0.,  0.,  0.,\n        0.,  0.]), array([ 1.,  1., 23.,  6., 15., 21.,  0.,  0.,  0.,  0.,  0.,  0.,  0.,\n        0.,  0.]), array([ 1.,  1., 23.,  6., 15., 29.,  0.,  0.,  0.,  0.,  0.,  0.,  0.,\n        0.,  0.]), ...], y=[array([ 1.,  0., 12., 16., 15., 20., 16.,  0.,  0.,  0.,  0.,  0.,  0.,\n        0.,  0.]), array([ 1.,  1., 18.,  6.,  0.,  0.,  0.,  0.,  0.,  0.,  0.,  0.,  0.,\n        0.,  0.]), array([ 1.,  1., 18., 16., 15., 16.,  3., 27., 10., 15.,  1.,  0.,  0.,\n        0.,  0.]), array([ 1.,  1., 18., 16., 15., 16.,  3., 27., 10., 15.,  1.,  0.,  0.,\n        0.,  0.]), array([ 1.,  1., 18., 16., 15., 16.,  3., 27., 10., 15.,  1.,  0.,  0.,\n        0.,  0.]), array([ 1.,  1., 18., 16., 15., 16.,  3., 27., 10., 15.,  1.,  0.,  0.,\n        0.,  0.]), array([ 1.,  1., 18., 16., 15., 16.,  3., 27., 10., 15.,  1.,  0.,  0.,\n        0.,  0.]), array([ 1.,  1., 18., 16., 15., 16.,  3., 27., 10., 15.,  1.,  0.,  0.,\n        0.,  0.]), array([ 1.,  1., 18., 16., 15., 16.,  3., 27., 10., 15.,  1.,  0.,  0.,\n        0.,  0.]), array([ 1.,  1., 18., 16., 15., 16.,  3., 27., 10., 15.,  1.,  0.,  0.,\n        0.,  0.]), array([ 1.,  1., 23.,  6., 15.,  0.,  0.,  0.,  0.,  0.,  0.,  0.,  0.,\n        0.,  0.]), array([ 1.,  1., 23.,  6., 15.,  0.,  0.,  0.,  0.,  0.,  0.,  0.,  0.,\n        0.,  0.]), array([ 1.,  1., 23.,  6., 15.,  0.,  0.,  0.,  0.,  0.,  0.,  0.,  0.,\n        0.,  0.]), array([ 1.,  1., 23.,  6., 15.,  0.,  0.,  0.,  0.,  0.,  0.,  0.,  0.,\n        0.,  0.]), array([ 1.,  1., 23.,  6., 15.,  0.,  0.,  0.,  0.,  0.,  0.,  0.,  0.,\n        0.,  0.]), array([ 1.,  1., 23.,  6., 15.,  0.,  0.,  0.,  0.,  0.,  0.,  0.,  0.,\n        0.,  0.]), array([ 1.,  1., 23.,  6., 15.,  0.,  0.,  0.,  0.,  0.,  0.,  0.,  0.,\n        0.,  0.]), array([ 1.,  1., 23.,  6., 15.,  0.,  0.,  0.,  0.,  0.,  0.,  0.,  0.,\n        0.,  0.]), array([ 1.,  1., 23.,  6., 15.,  0.,  0.,  0.,  0.,  0.,  0.,  0.,  0.,\n        0.,  0.]), array([ 1.,  1., 23.,  6., 15.,  0.,  0.,  0.,  0.,  0.,  0.,  0.,  0.,\n        0.,  0.]), ...], scorer={'score': <function _passthrough_scorer>}, train=memmap([ 885823,  885824,  885825, ..., 2657464, 2657465, 2657466]), test=memmap([     0,      1,      2, ..., 885820, 885821, 885822]), verbose=2, parameters={'bootstrap': True, 'max_depth': 30, 'max_features': 'sqrt', 'min_samples_leaf': 1, 'min_samples_split': 5, 'n_estimators': 400}, fit_params={}, return_train_score='warn', return_parameters=False, return_n_test_samples=True, return_times=True, error_score='raise')\n    453 \n    454     try:\n    455         if y_train is None:\n    456             estimator.fit(X_train, **fit_params)\n    457         else:\n--> 458             estimator.fit(X_train, y_train, **fit_params)\n        estimator.fit = <bound method BaseForest.fit of RandomForestRegr... random_state=None, verbose=0, warm_start=False)>\n        X_train = [array([14.,  6., 20.,  1., 13., 13., 16., 13., 16., 14.,  1., 23.,  0.,\n        0.,  0.]), array([14.,  6., 20.,  1., 13., 13., 16., 13., 16., 14.,  6.,  0.,  0.,\n        0.,  0.]), array([14.,  6., 20.,  1., 13., 13., 16., 13., 16., 14., 16.,  3.,  0.,\n        0.,  0.]), array([14.,  6., 20.,  1., 13., 13., 16., 13., 16., 14., 16., 14.,  0.,\n        0.,  0.]), array([14.,  6., 20.,  1., 13., 13., 16., 13., 16., 14., 21.,  0.,  0.,\n        0.,  0.]), array([14.,  6., 20.,  1., 13., 13., 16., 13., 16., 14., 29.,  0.,  0.,\n        0.,  0.]), array([14.,  6., 20.,  1., 13., 13., 16., 14.,  0.,  0.,  0.,  0.,  0.,\n        0.,  0.]), array([14.,  6., 20.,  1., 13., 13., 16., 14.,  6., 20., 18., 10., 25.,\n        6., 19.]), array([14.,  6., 20.,  1., 13., 13., 16., 14.,  6., 20., 18., 10., 25.,\n        6., 19.]), array([14.,  6., 20.,  1., 13., 13., 16., 14.,  6., 20., 18., 10., 25.,\n        6., 19.]), array([14.,  6., 20.,  1., 13., 13., 16., 14.,  6., 20., 18., 10., 25.,\n        6., 19.]), array([14.,  6., 20.,  1., 13., 13., 16., 14.,  6., 20., 18., 10., 25.,\n        6., 19.]), array([14.,  6., 20.,  1., 13., 13., 16., 14.,  6., 20., 18., 10., 25.,\n        6., 19.]), array([14.,  6., 20.,  1., 13., 13., 16., 14.,  6., 20., 18., 10., 25.,\n        6., 19.]), array([14.,  6., 20.,  1., 13., 13., 16., 14.,  6., 20., 18., 10., 25.,\n        6., 19.]), array([14.,  6., 20.,  1., 13., 13., 16., 14.,  6., 20., 18., 10., 25.,\n        6., 19.]), array([14.,  6., 20.,  1., 13., 13., 16., 14.,  6., 20., 18., 10., 25.,\n        6., 19.]), array([14.,  6., 20.,  1., 13., 13., 16., 14.,  6., 20., 18., 10., 25.,\n        6., 19.]), array([14.,  6., 20.,  1., 13., 13., 16., 14.,  6., 20., 18., 10., 25.,\n        6., 19.]), array([14.,  6., 20.,  1., 13., 13., 16., 15., 16., 19.,  6., 15.,  0.,\n        0.,  0.]), ...]\n        y_train = [array([14.,  6., 20.,  1., 13., 13., 16., 13., 16., 14.,  0.,  0.,  0.,\n        0.,  0.]), array([14.,  6., 20.,  1., 13., 13., 16., 13., 16., 14.,  0.,  0.,  0.,\n        0.,  0.]), array([14.,  6., 20.,  1., 13., 13., 16., 13., 16., 14.,  0.,  0.,  0.,\n        0.,  0.]), array([14.,  6., 20.,  1., 13., 13., 16., 13., 16., 14.,  0.,  0.,  0.,\n        0.,  0.]), array([14.,  6., 20.,  1., 13., 13., 16., 13., 16., 14.,  0.,  0.,  0.,\n        0.,  0.]), array([14.,  6., 20.,  1., 13., 13., 16., 13., 16., 14.,  0.,  0.,  0.,\n        0.,  0.]), array([14.,  6., 20.,  1., 13., 13.,  0.,  0.,  0.,  0.,  0.,  0.,  0.,\n        0.,  0.]), array([14.,  6., 20.,  1., 13., 13., 16., 14.,  6., 20., 18., 10., 25.,\n        6., 19.]), array([14.,  6., 20.,  1., 13., 13., 16., 14.,  6., 20., 18., 10., 25.,\n        6., 19.]), array([14.,  6., 20.,  1., 13., 13., 16., 14.,  6., 20., 18., 10., 25.,\n        6., 19.]), array([14.,  6., 20.,  1., 13., 13., 16., 14.,  6., 20., 18., 10., 25.,\n        6., 19.]), array([14.,  6., 20.,  1., 13., 13., 16., 14.,  6., 20., 18., 10., 25.,\n        6., 19.]), array([14.,  6., 20.,  1., 13., 13., 16., 14.,  6., 20., 18., 10., 25.,\n        6., 19.]), array([14.,  6., 20.,  1., 13., 13., 16., 14.,  6., 20., 18., 10., 25.,\n        6., 19.]), array([14.,  6., 20.,  1., 13., 13., 16., 14.,  6., 20., 18., 10., 25.,\n        6., 19.]), array([14.,  6., 20.,  1., 13., 13., 16., 14.,  6., 20., 18., 10., 25.,\n        6., 19.]), array([14.,  6., 20.,  1., 13., 13., 16., 14.,  6., 20., 18., 10., 25.,\n        6., 19.]), array([14.,  6., 20.,  1., 13., 13., 16., 14.,  6., 20., 18., 10., 25.,\n        6., 19.]), array([14.,  6., 20.,  1., 13., 13., 16., 14.,  6., 20., 18., 10., 25.,\n        6., 19.]), array([14.,  6., 20.,  1., 13., 13., 16., 15., 16., 19., 15., 29., 11.,\n        0.,  0.]), ...]\n        fit_params = {}\n    459 \n    460     except Exception as e:\n    461         # Note fit time as time until error\n    462         fit_time = time.time() - start_time\n\n...........................................................................\nC:\\ProgramData\\Anaconda3\\lib\\site-packages\\sklearn\\ensemble\\forest.py in fit(self=RandomForestRegressor(bootstrap=True, criterion=..., random_state=None, verbose=0, warm_start=False), X=array([[14.,  6., 20., ...,  0.,  0.,  0.],\n    ...., 33., 23., ...,  0.,  0.,  0.]], dtype=float32), y=array([[14.,  6., 20., ...,  0.,  0.,  0.],\n    ...0.],\n       [33., 33.,  0., ...,  0.,  0.,  0.]]), sample_weight=None)\n    323             trees = Parallel(n_jobs=self.n_jobs, verbose=self.verbose,\n    324                              backend=\"threading\")(\n    325                 delayed(_parallel_build_trees)(\n    326                     t, self, X, y, sample_weight, i, len(trees),\n    327                     verbose=self.verbose, class_weight=self.class_weight)\n--> 328                 for i, t in enumerate(trees))\n        i = 399\n    329 \n    330             # Collect newly grown trees\n    331             self.estimators_.extend(trees)\n    332 \n\n...........................................................................\nC:\\ProgramData\\Anaconda3\\lib\\site-packages\\sklearn\\externals\\joblib\\parallel.py in __call__(self=Parallel(n_jobs=1), iterable=<generator object BaseForest.fit.<locals>.<genexpr>>)\n    774         self.n_completed_tasks = 0\n    775         try:\n    776             # Only set self._iterating to True if at least a batch\n    777             # was dispatched. In particular this covers the edge\n    778             # case of Parallel used with an exhausted iterator.\n--> 779             while self.dispatch_one_batch(iterator):\n        self.dispatch_one_batch = <bound method Parallel.dispatch_one_batch of Parallel(n_jobs=1)>\n        iterator = <generator object BaseForest.fit.<locals>.<genexpr>>\n    780                 self._iterating = True\n    781             else:\n    782                 self._iterating = False\n    783 \n\n...........................................................................\nC:\\ProgramData\\Anaconda3\\lib\\site-packages\\sklearn\\externals\\joblib\\parallel.py in dispatch_one_batch(self=Parallel(n_jobs=1), iterator=<generator object BaseForest.fit.<locals>.<genexpr>>)\n    620             tasks = BatchedCalls(itertools.islice(iterator, batch_size))\n    621             if len(tasks) == 0:\n    622                 # No more tasks available in the iterator: tell caller to stop.\n    623                 return False\n    624             else:\n--> 625                 self._dispatch(tasks)\n        self._dispatch = <bound method Parallel._dispatch of Parallel(n_jobs=1)>\n        tasks = <sklearn.externals.joblib.parallel.BatchedCalls object>\n    626                 return True\n    627 \n    628     def _print(self, msg, msg_args):\n    629         \"\"\"Display the message on stout or stderr depending on verbosity\"\"\"\n\n...........................................................................\nC:\\ProgramData\\Anaconda3\\lib\\site-packages\\sklearn\\externals\\joblib\\parallel.py in _dispatch(self=Parallel(n_jobs=1), batch=<sklearn.externals.joblib.parallel.BatchedCalls object>)\n    583         self.n_dispatched_tasks += len(batch)\n    584         self.n_dispatched_batches += 1\n    585 \n    586         dispatch_timestamp = time.time()\n    587         cb = BatchCompletionCallBack(dispatch_timestamp, len(batch), self)\n--> 588         job = self._backend.apply_async(batch, callback=cb)\n        job = undefined\n        self._backend.apply_async = <bound method SequentialBackend.apply_async of <...lib._parallel_backends.SequentialBackend object>>\n        batch = <sklearn.externals.joblib.parallel.BatchedCalls object>\n        cb = <sklearn.externals.joblib.parallel.BatchCompletionCallBack object>\n    589         self._jobs.append(job)\n    590 \n    591     def dispatch_next(self):\n    592         \"\"\"Dispatch more data for parallel processing\n\n...........................................................................\nC:\\ProgramData\\Anaconda3\\lib\\site-packages\\sklearn\\externals\\joblib\\_parallel_backends.py in apply_async(self=<sklearn.externals.joblib._parallel_backends.SequentialBackend object>, func=<sklearn.externals.joblib.parallel.BatchedCalls object>, callback=<sklearn.externals.joblib.parallel.BatchCompletionCallBack object>)\n    106             raise ValueError('n_jobs == 0 in Parallel has no meaning')\n    107         return 1\n    108 \n    109     def apply_async(self, func, callback=None):\n    110         \"\"\"Schedule a func to be run\"\"\"\n--> 111         result = ImmediateResult(func)\n        result = undefined\n        func = <sklearn.externals.joblib.parallel.BatchedCalls object>\n    112         if callback:\n    113             callback(result)\n    114         return result\n    115 \n\n...........................................................................\nC:\\ProgramData\\Anaconda3\\lib\\site-packages\\sklearn\\externals\\joblib\\_parallel_backends.py in __init__(self=<sklearn.externals.joblib._parallel_backends.ImmediateResult object>, batch=<sklearn.externals.joblib.parallel.BatchedCalls object>)\n    327 \n    328 class ImmediateResult(object):\n    329     def __init__(self, batch):\n    330         # Don't delay the application, to avoid keeping the input\n    331         # arguments in memory\n--> 332         self.results = batch()\n        self.results = undefined\n        batch = <sklearn.externals.joblib.parallel.BatchedCalls object>\n    333 \n    334     def get(self):\n    335         return self.results\n    336 \n\n...........................................................................\nC:\\ProgramData\\Anaconda3\\lib\\site-packages\\sklearn\\externals\\joblib\\parallel.py in __call__(self=<sklearn.externals.joblib.parallel.BatchedCalls object>)\n    126     def __init__(self, iterator_slice):\n    127         self.items = list(iterator_slice)\n    128         self._size = len(self.items)\n    129 \n    130     def __call__(self):\n--> 131         return [func(*args, **kwargs) for func, args, kwargs in self.items]\n        self.items = [(<function _parallel_build_trees>, (DecisionTreeRegressor(criterion='mse', max_depth...t=False, random_state=608625772, splitter='best'), RandomForestRegressor(bootstrap=True, criterion=..., random_state=None, verbose=0, warm_start=False), array([[14.,  6., 20., ...,  0.,  0.,  0.],\n    ...., 33., 23., ...,  0.,  0.,  0.]], dtype=float32), array([[14.,  6., 20., ...,  0.,  0.,  0.],\n    ...0.],\n       [33., 33.,  0., ...,  0.,  0.,  0.]]), None, 18, 400), {'class_weight': None, 'verbose': 0})]\n    132 \n    133     def __len__(self):\n    134         return self._size\n    135 \n\n...........................................................................\nC:\\ProgramData\\Anaconda3\\lib\\site-packages\\sklearn\\externals\\joblib\\parallel.py in <listcomp>(.0=<list_iterator object>)\n    126     def __init__(self, iterator_slice):\n    127         self.items = list(iterator_slice)\n    128         self._size = len(self.items)\n    129 \n    130     def __call__(self):\n--> 131         return [func(*args, **kwargs) for func, args, kwargs in self.items]\n        func = <function _parallel_build_trees>\n        args = (DecisionTreeRegressor(criterion='mse', max_depth...t=False, random_state=608625772, splitter='best'), RandomForestRegressor(bootstrap=True, criterion=..., random_state=None, verbose=0, warm_start=False), array([[14.,  6., 20., ...,  0.,  0.,  0.],\n    ...., 33., 23., ...,  0.,  0.,  0.]], dtype=float32), array([[14.,  6., 20., ...,  0.,  0.,  0.],\n    ...0.],\n       [33., 33.,  0., ...,  0.,  0.,  0.]]), None, 18, 400)\n        kwargs = {'class_weight': None, 'verbose': 0}\n    132 \n    133     def __len__(self):\n    134         return self._size\n    135 \n\n...........................................................................\nC:\\ProgramData\\Anaconda3\\lib\\site-packages\\sklearn\\ensemble\\forest.py in _parallel_build_trees(tree=DecisionTreeRegressor(criterion='mse', max_depth...t=False, random_state=608625772, splitter='best'), forest=RandomForestRegressor(bootstrap=True, criterion=..., random_state=None, verbose=0, warm_start=False), X=array([[14.,  6., 20., ...,  0.,  0.,  0.],\n    ...., 33., 23., ...,  0.,  0.,  0.]], dtype=float32), y=array([[14.,  6., 20., ...,  0.,  0.,  0.],\n    ...0.],\n       [33., 33.,  0., ...,  0.,  0.,  0.]]), sample_weight=None, tree_idx=18, n_trees=400, verbose=0, class_weight=None)\n    116                 warnings.simplefilter('ignore', DeprecationWarning)\n    117                 curr_sample_weight *= compute_sample_weight('auto', y, indices)\n    118         elif class_weight == 'balanced_subsample':\n    119             curr_sample_weight *= compute_sample_weight('balanced', y, indices)\n    120 \n--> 121         tree.fit(X, y, sample_weight=curr_sample_weight, check_input=False)\n        tree.fit = <bound method DecisionTreeRegressor.fit of Decis...=False, random_state=608625772, splitter='best')>\n        X = array([[14.,  6., 20., ...,  0.,  0.,  0.],\n    ...., 33., 23., ...,  0.,  0.,  0.]], dtype=float32)\n        y = array([[14.,  6., 20., ...,  0.,  0.,  0.],\n    ...0.],\n       [33., 33.,  0., ...,  0.,  0.,  0.]])\n        sample_weight = None\n        curr_sample_weight = array([1., 0., 1., ..., 1., 0., 1.])\n    122     else:\n    123         tree.fit(X, y, sample_weight=sample_weight, check_input=False)\n    124 \n    125     return tree\n\n...........................................................................\nC:\\ProgramData\\Anaconda3\\lib\\site-packages\\sklearn\\tree\\tree.py in fit(self=DecisionTreeRegressor(criterion='mse', max_depth...t=False, random_state=608625772, splitter='best'), X=array([[14.,  6., 20., ...,  0.,  0.,  0.],\n    ...., 33., 23., ...,  0.,  0.,  0.]], dtype=float32), y=array([[14.,  6., 20., ...,  0.,  0.,  0.],\n    ...0.],\n       [33., 33.,  0., ...,  0.,  0.,  0.]]), sample_weight=array([1., 0., 1., ..., 1., 0., 1.]), check_input=False, X_idx_sorted=None)\n   1119 \n   1120         super(DecisionTreeRegressor, self).fit(\n   1121             X, y,\n   1122             sample_weight=sample_weight,\n   1123             check_input=check_input,\n-> 1124             X_idx_sorted=X_idx_sorted)\n        X_idx_sorted = None\n   1125         return self\n   1126 \n   1127 \n   1128 class ExtraTreeClassifier(DecisionTreeClassifier):\n\n...........................................................................\nC:\\ProgramData\\Anaconda3\\lib\\site-packages\\sklearn\\tree\\tree.py in fit(self=DecisionTreeRegressor(criterion='mse', max_depth...t=False, random_state=608625772, splitter='best'), X=array([[14.,  6., 20., ...,  0.,  0.,  0.],\n    ...., 33., 23., ...,  0.,  0.,  0.]], dtype=float32), y=array([[14.,  6., 20., ...,  0.,  0.,  0.],\n    ...0.],\n       [33., 33.,  0., ...,  0.,  0.,  0.]]), sample_weight=array([1., 0., 1., ..., 1., 0., 1.]), check_input=False, X_idx_sorted=None)\n    357                                            max_depth,\n    358                                            max_leaf_nodes,\n    359                                            self.min_impurity_decrease,\n    360                                            min_impurity_split)\n    361 \n--> 362         builder.build(self.tree_, X, y, sample_weight, X_idx_sorted)\n        builder.build = <built-in method build of sklearn.tree._tree.DepthFirstTreeBuilder object>\n        self.tree_ = <sklearn.tree._tree.Tree object>\n        X = array([[14.,  6., 20., ...,  0.,  0.,  0.],\n    ...., 33., 23., ...,  0.,  0.,  0.]], dtype=float32)\n        y = array([[14.,  6., 20., ...,  0.,  0.,  0.],\n    ...0.],\n       [33., 33.,  0., ...,  0.,  0.,  0.]])\n        sample_weight = array([1., 0., 1., ..., 1., 0., 1.])\n        X_idx_sorted = None\n    363 \n    364         if self.n_outputs_ == 1:\n    365             self.n_classes_ = self.n_classes_[0]\n    366             self.classes_ = self.classes_[0]\n\n...........................................................................\nC:\\ProgramData\\Anaconda3\\lib\\site-packages\\sklearn\\tree\\_tree.cp36-win_amd64.pyd in sklearn.tree._tree.DepthFirstTreeBuilder.build()\n\n...........................................................................\nC:\\ProgramData\\Anaconda3\\lib\\site-packages\\sklearn\\tree\\_tree.cp36-win_amd64.pyd in sklearn.tree._tree.DepthFirstTreeBuilder.build()\n\n...........................................................................\nC:\\ProgramData\\Anaconda3\\lib\\site-packages\\sklearn\\tree\\_tree.cp36-win_amd64.pyd in sklearn.tree._tree.Tree._add_node()\n\n...........................................................................\nC:\\ProgramData\\Anaconda3\\lib\\site-packages\\sklearn\\tree\\_tree.cp36-win_amd64.pyd in sklearn.tree._tree.Tree._resize_c()\n\n...........................................................................\nC:\\ProgramData\\Anaconda3\\lib\\site-packages\\sklearn\\tree\\_utils.cp36-win_amd64.pyd in sklearn.tree._utils.safe_realloc()\n\nMemoryError: could not allocate 125829120 bytes\n___________________________________________________________________________"
     ]
    }
   ],
   "source": [
    "%%time\n",
    "# Use the random grid to search for best hyperparameters\n",
    "# First create the base model to tune\n",
    "rf = models[3]\n",
    "# Random search of parameters, using 3 fold cross validation, \n",
    "# search across 100 different combinations, and use all available cores\n",
    "rf_random = RandomizedSearchCV(estimator = rf, param_distributions = random_grid, n_iter = 100, cv = 3, verbose=2, random_state=42, n_jobs = -1)\n",
    "# Fit the random search model\n",
    "rf_random.fit(X_lex_vec, Y_lex_vec)"
   ]
  },
  {
   "cell_type": "code",
   "execution_count": null,
   "metadata": {},
   "outputs": [],
   "source": [
    "rf_random.best_params_"
   ]
  },
  {
   "cell_type": "code",
   "execution_count": null,
   "metadata": {},
   "outputs": [],
   "source": [
    "bm1=RandomForestRegressor(bootstrap=True, criterion='mse', max_depth=None,\n",
    "           max_features='auto', max_leaf_nodes=None,\n",
    "           min_impurity_decrease=0.0, min_impurity_split=None,\n",
    "           min_samples_leaf=1, min_samples_split=2,\n",
    "           min_weight_fraction_leaf=0.0, n_estimators=30, n_jobs=-1,\n",
    "           oob_score=False, random_state=None, verbose=60, warm_start=False)"
   ]
  },
  {
   "cell_type": "markdown",
   "metadata": {},
   "source": [
    "### Decision Tree"
   ]
  },
  {
   "cell_type": "code",
   "execution_count": 71,
   "metadata": {},
   "outputs": [],
   "source": [
    "parameters={'min_samples_split' : range(10,250,20),'max_depth': range(1,20,5)}\n",
    "#, 'criterion': ['mse','mae','friedman_mse']\n",
    "#best_model=DecisionTreeRegressor()\n",
    "grid=GridSearchCV(estimator=DecisionTreeRegressor(), param_grid=parameters, n_jobs=-1, cv=3, verbose=10)"
   ]
  },
  {
   "cell_type": "code",
   "execution_count": 75,
   "metadata": {},
   "outputs": [
    {
     "name": "stdout",
     "output_type": "stream",
     "text": [
      "Fitting 3 folds for each of 48 candidates, totalling 144 fits\n"
     ]
    },
    {
     "ename": "MemoryError",
     "evalue": "",
     "output_type": "error",
     "traceback": [
      "\u001b[1;31m---------------------------------------------------------------------------\u001b[0m",
      "\u001b[1;31mMemoryError\u001b[0m                               Traceback (most recent call last)",
      "\u001b[1;32m<timed exec>\u001b[0m in \u001b[0;36m<module>\u001b[1;34m()\u001b[0m\n",
      "\u001b[1;32mC:\\ProgramData\\Anaconda3\\lib\\site-packages\\sklearn\\model_selection\\_search.py\u001b[0m in \u001b[0;36mfit\u001b[1;34m(self, X, y, groups, **fit_params)\u001b[0m\n\u001b[0;32m    637\u001b[0m                                   error_score=self.error_score)\n\u001b[0;32m    638\u001b[0m           for parameters, (train, test) in product(candidate_params,\n\u001b[1;32m--> 639\u001b[1;33m                                                    cv.split(X, y, groups)))\n\u001b[0m\u001b[0;32m    640\u001b[0m \u001b[1;33m\u001b[0m\u001b[0m\n\u001b[0;32m    641\u001b[0m         \u001b[1;31m# if one choose to see train score, \"out\" will contain train score info\u001b[0m\u001b[1;33m\u001b[0m\u001b[1;33m\u001b[0m\u001b[0m\n",
      "\u001b[1;32mC:\\ProgramData\\Anaconda3\\lib\\site-packages\\sklearn\\externals\\joblib\\parallel.py\u001b[0m in \u001b[0;36m__call__\u001b[1;34m(self, iterable)\u001b[0m\n\u001b[0;32m    787\u001b[0m                 \u001b[1;31m# consumption.\u001b[0m\u001b[1;33m\u001b[0m\u001b[1;33m\u001b[0m\u001b[0m\n\u001b[0;32m    788\u001b[0m                 \u001b[0mself\u001b[0m\u001b[1;33m.\u001b[0m\u001b[0m_iterating\u001b[0m \u001b[1;33m=\u001b[0m \u001b[1;32mFalse\u001b[0m\u001b[1;33m\u001b[0m\u001b[0m\n\u001b[1;32m--> 789\u001b[1;33m             \u001b[0mself\u001b[0m\u001b[1;33m.\u001b[0m\u001b[0mretrieve\u001b[0m\u001b[1;33m(\u001b[0m\u001b[1;33m)\u001b[0m\u001b[1;33m\u001b[0m\u001b[0m\n\u001b[0m\u001b[0;32m    790\u001b[0m             \u001b[1;31m# Make sure that we get a last message telling us we are done\u001b[0m\u001b[1;33m\u001b[0m\u001b[1;33m\u001b[0m\u001b[0m\n\u001b[0;32m    791\u001b[0m             \u001b[0melapsed_time\u001b[0m \u001b[1;33m=\u001b[0m \u001b[0mtime\u001b[0m\u001b[1;33m.\u001b[0m\u001b[0mtime\u001b[0m\u001b[1;33m(\u001b[0m\u001b[1;33m)\u001b[0m \u001b[1;33m-\u001b[0m \u001b[0mself\u001b[0m\u001b[1;33m.\u001b[0m\u001b[0m_start_time\u001b[0m\u001b[1;33m\u001b[0m\u001b[0m\n",
      "\u001b[1;32mC:\\ProgramData\\Anaconda3\\lib\\site-packages\\sklearn\\externals\\joblib\\parallel.py\u001b[0m in \u001b[0;36mretrieve\u001b[1;34m(self)\u001b[0m\n\u001b[0;32m    697\u001b[0m             \u001b[1;32mtry\u001b[0m\u001b[1;33m:\u001b[0m\u001b[1;33m\u001b[0m\u001b[0m\n\u001b[0;32m    698\u001b[0m                 \u001b[1;32mif\u001b[0m \u001b[0mgetattr\u001b[0m\u001b[1;33m(\u001b[0m\u001b[0mself\u001b[0m\u001b[1;33m.\u001b[0m\u001b[0m_backend\u001b[0m\u001b[1;33m,\u001b[0m \u001b[1;34m'supports_timeout'\u001b[0m\u001b[1;33m,\u001b[0m \u001b[1;32mFalse\u001b[0m\u001b[1;33m)\u001b[0m\u001b[1;33m:\u001b[0m\u001b[1;33m\u001b[0m\u001b[0m\n\u001b[1;32m--> 699\u001b[1;33m                     \u001b[0mself\u001b[0m\u001b[1;33m.\u001b[0m\u001b[0m_output\u001b[0m\u001b[1;33m.\u001b[0m\u001b[0mextend\u001b[0m\u001b[1;33m(\u001b[0m\u001b[0mjob\u001b[0m\u001b[1;33m.\u001b[0m\u001b[0mget\u001b[0m\u001b[1;33m(\u001b[0m\u001b[0mtimeout\u001b[0m\u001b[1;33m=\u001b[0m\u001b[0mself\u001b[0m\u001b[1;33m.\u001b[0m\u001b[0mtimeout\u001b[0m\u001b[1;33m)\u001b[0m\u001b[1;33m)\u001b[0m\u001b[1;33m\u001b[0m\u001b[0m\n\u001b[0m\u001b[0;32m    700\u001b[0m                 \u001b[1;32melse\u001b[0m\u001b[1;33m:\u001b[0m\u001b[1;33m\u001b[0m\u001b[0m\n\u001b[0;32m    701\u001b[0m                     \u001b[0mself\u001b[0m\u001b[1;33m.\u001b[0m\u001b[0m_output\u001b[0m\u001b[1;33m.\u001b[0m\u001b[0mextend\u001b[0m\u001b[1;33m(\u001b[0m\u001b[0mjob\u001b[0m\u001b[1;33m.\u001b[0m\u001b[0mget\u001b[0m\u001b[1;33m(\u001b[0m\u001b[1;33m)\u001b[0m\u001b[1;33m)\u001b[0m\u001b[1;33m\u001b[0m\u001b[0m\n",
      "\u001b[1;32mC:\\ProgramData\\Anaconda3\\lib\\multiprocessing\\pool.py\u001b[0m in \u001b[0;36mget\u001b[1;34m(self, timeout)\u001b[0m\n\u001b[0;32m    642\u001b[0m             \u001b[1;32mreturn\u001b[0m \u001b[0mself\u001b[0m\u001b[1;33m.\u001b[0m\u001b[0m_value\u001b[0m\u001b[1;33m\u001b[0m\u001b[0m\n\u001b[0;32m    643\u001b[0m         \u001b[1;32melse\u001b[0m\u001b[1;33m:\u001b[0m\u001b[1;33m\u001b[0m\u001b[0m\n\u001b[1;32m--> 644\u001b[1;33m             \u001b[1;32mraise\u001b[0m \u001b[0mself\u001b[0m\u001b[1;33m.\u001b[0m\u001b[0m_value\u001b[0m\u001b[1;33m\u001b[0m\u001b[0m\n\u001b[0m\u001b[0;32m    645\u001b[0m \u001b[1;33m\u001b[0m\u001b[0m\n\u001b[0;32m    646\u001b[0m     \u001b[1;32mdef\u001b[0m \u001b[0m_set\u001b[0m\u001b[1;33m(\u001b[0m\u001b[0mself\u001b[0m\u001b[1;33m,\u001b[0m \u001b[0mi\u001b[0m\u001b[1;33m,\u001b[0m \u001b[0mobj\u001b[0m\u001b[1;33m)\u001b[0m\u001b[1;33m:\u001b[0m\u001b[1;33m\u001b[0m\u001b[0m\n",
      "\u001b[1;32mC:\\ProgramData\\Anaconda3\\lib\\multiprocessing\\pool.py\u001b[0m in \u001b[0;36m_handle_tasks\u001b[1;34m(taskqueue, put, outqueue, pool, cache)\u001b[0m\n\u001b[0;32m    422\u001b[0m                         \u001b[1;32mbreak\u001b[0m\u001b[1;33m\u001b[0m\u001b[0m\n\u001b[0;32m    423\u001b[0m                     \u001b[1;32mtry\u001b[0m\u001b[1;33m:\u001b[0m\u001b[1;33m\u001b[0m\u001b[0m\n\u001b[1;32m--> 424\u001b[1;33m                         \u001b[0mput\u001b[0m\u001b[1;33m(\u001b[0m\u001b[0mtask\u001b[0m\u001b[1;33m)\u001b[0m\u001b[1;33m\u001b[0m\u001b[0m\n\u001b[0m\u001b[0;32m    425\u001b[0m                     \u001b[1;32mexcept\u001b[0m \u001b[0mException\u001b[0m \u001b[1;32mas\u001b[0m \u001b[0me\u001b[0m\u001b[1;33m:\u001b[0m\u001b[1;33m\u001b[0m\u001b[0m\n\u001b[0;32m    426\u001b[0m                         \u001b[0mjob\u001b[0m\u001b[1;33m,\u001b[0m \u001b[0midx\u001b[0m \u001b[1;33m=\u001b[0m \u001b[0mtask\u001b[0m\u001b[1;33m[\u001b[0m\u001b[1;33m:\u001b[0m\u001b[1;36m2\u001b[0m\u001b[1;33m]\u001b[0m\u001b[1;33m\u001b[0m\u001b[0m\n",
      "\u001b[1;32mC:\\ProgramData\\Anaconda3\\lib\\site-packages\\sklearn\\externals\\joblib\\pool.py\u001b[0m in \u001b[0;36msend\u001b[1;34m(obj)\u001b[0m\n\u001b[0;32m    369\u001b[0m             \u001b[1;32mdef\u001b[0m \u001b[0msend\u001b[0m\u001b[1;33m(\u001b[0m\u001b[0mobj\u001b[0m\u001b[1;33m)\u001b[0m\u001b[1;33m:\u001b[0m\u001b[1;33m\u001b[0m\u001b[0m\n\u001b[0;32m    370\u001b[0m                 \u001b[0mbuffer\u001b[0m \u001b[1;33m=\u001b[0m \u001b[0mBytesIO\u001b[0m\u001b[1;33m(\u001b[0m\u001b[1;33m)\u001b[0m\u001b[1;33m\u001b[0m\u001b[0m\n\u001b[1;32m--> 371\u001b[1;33m                 \u001b[0mCustomizablePickler\u001b[0m\u001b[1;33m(\u001b[0m\u001b[0mbuffer\u001b[0m\u001b[1;33m,\u001b[0m \u001b[0mself\u001b[0m\u001b[1;33m.\u001b[0m\u001b[0m_reducers\u001b[0m\u001b[1;33m)\u001b[0m\u001b[1;33m.\u001b[0m\u001b[0mdump\u001b[0m\u001b[1;33m(\u001b[0m\u001b[0mobj\u001b[0m\u001b[1;33m)\u001b[0m\u001b[1;33m\u001b[0m\u001b[0m\n\u001b[0m\u001b[0;32m    372\u001b[0m                 \u001b[0mself\u001b[0m\u001b[1;33m.\u001b[0m\u001b[0m_writer\u001b[0m\u001b[1;33m.\u001b[0m\u001b[0msend_bytes\u001b[0m\u001b[1;33m(\u001b[0m\u001b[0mbuffer\u001b[0m\u001b[1;33m.\u001b[0m\u001b[0mgetvalue\u001b[0m\u001b[1;33m(\u001b[0m\u001b[1;33m)\u001b[0m\u001b[1;33m)\u001b[0m\u001b[1;33m\u001b[0m\u001b[0m\n\u001b[0;32m    373\u001b[0m             \u001b[0mself\u001b[0m\u001b[1;33m.\u001b[0m\u001b[0m_send\u001b[0m \u001b[1;33m=\u001b[0m \u001b[0msend\u001b[0m\u001b[1;33m\u001b[0m\u001b[0m\n",
      "\u001b[1;31mMemoryError\u001b[0m: "
     ]
    }
   ],
   "source": [
    "%%time\n",
    "grid.fit(X_lex_vec, Y_lex_vec)\n",
    "grid.best_params_"
   ]
  },
  {
   "cell_type": "code",
   "execution_count": 11,
   "metadata": {},
   "outputs": [
    {
     "data": {
      "text/plain": [
       "{'max_depth': 16, 'min_samples_split': 230}"
      ]
     },
     "execution_count": 11,
     "metadata": {},
     "output_type": "execute_result"
    }
   ],
   "source": [
    "grid.best_params_"
   ]
  },
  {
   "cell_type": "code",
   "execution_count": 24,
   "metadata": {},
   "outputs": [],
   "source": [
    "best_DTR=DecisionTreeRegressor(max_depth=30, min_samples_split=2)"
   ]
  },
  {
   "cell_type": "code",
   "execution_count": 25,
   "metadata": {},
   "outputs": [
    {
     "data": {
      "text/plain": [
       "DecisionTreeRegressor(criterion='mse', max_depth=30, max_features=None,\n",
       "           max_leaf_nodes=None, min_impurity_decrease=0.0,\n",
       "           min_impurity_split=None, min_samples_leaf=1,\n",
       "           min_samples_split=2, min_weight_fraction_leaf=0.0,\n",
       "           presort=False, random_state=None, splitter='best')"
      ]
     },
     "execution_count": 25,
     "metadata": {},
     "output_type": "execute_result"
    }
   ],
   "source": [
    "best_DTR.fit(X_lex_vec, Y_lex_vec)"
   ]
  },
  {
   "cell_type": "code",
   "execution_count": 26,
   "metadata": {},
   "outputs": [
    {
     "data": {
      "text/plain": [
       "0.709062778695094"
      ]
     },
     "execution_count": 26,
     "metadata": {},
     "output_type": "execute_result"
    }
   ],
   "source": [
    "best_DTR.score(best_DTR.predict(X_lex_vec),Y_lex_vec)"
   ]
  },
  {
   "cell_type": "code",
   "execution_count": 16,
   "metadata": {},
   "outputs": [
    {
     "data": {
      "text/plain": [
       "array([0.05533199, 0.07619288, 0.06212918, 0.07202726, 0.07811686,\n",
       "       0.08845994, 0.09460638, 0.09532098, 0.1140587 , 0.06393718,\n",
       "       0.04515765, 0.10541073, 0.01640465, 0.00835513, 0.0244905 ])"
      ]
     },
     "execution_count": 16,
     "metadata": {},
     "output_type": "execute_result"
    }
   ],
   "source": [
    "best_model.feature_importances_"
   ]
  },
  {
   "cell_type": "code",
   "execution_count": 40,
   "metadata": {},
   "outputs": [],
   "source": [
    "bm2=DecisionTreeRegressor(criterion='mse', max_depth=None, max_features=None,\n",
    "           max_leaf_nodes=None, min_impurity_decrease=0.0,\n",
    "           min_impurity_split=None, min_samples_leaf=1,\n",
    "           min_samples_split=2, min_weight_fraction_leaf=0.0,\n",
    "           presort=False, random_state=None, splitter='best')"
   ]
  },
  {
   "cell_type": "code",
   "execution_count": 41,
   "metadata": {},
   "outputs": [
    {
     "data": {
      "text/plain": [
       "DecisionTreeRegressor(criterion='mse', max_depth=None, max_features=None,\n",
       "           max_leaf_nodes=None, min_impurity_decrease=0.0,\n",
       "           min_impurity_split=None, min_samples_leaf=1,\n",
       "           min_samples_split=2, min_weight_fraction_leaf=0.0,\n",
       "           presort=False, random_state=None, splitter='best')"
      ]
     },
     "execution_count": 41,
     "metadata": {},
     "output_type": "execute_result"
    }
   ],
   "source": [
    "bm2.fit(X_train, y_train)"
   ]
  },
  {
   "cell_type": "code",
   "execution_count": 51,
   "metadata": {},
   "outputs": [
    {
     "name": "stdout",
     "output_type": "stream",
     "text": [
      "0.6915763125912381/0.6588188449845659\n"
     ]
    }
   ],
   "source": [
    "# 0.6888463061127845/0.6572568498027747\n",
    "# 0.6847903213865607/0.6522966116868678\n",
    "print(str(bm2.score(bm2.predict(X_train),y_train))+'/'+str(bm2.score(bm2.predict(X_test),y_test)))"
   ]
  },
  {
   "cell_type": "code",
   "execution_count": 49,
   "metadata": {},
   "outputs": [
    {
     "data": {
      "text/plain": [
       "array([0.77008518, 0.77006164, 0.77049536, 0.76834241, 0.76941379])"
      ]
     },
     "execution_count": 49,
     "metadata": {},
     "output_type": "execute_result"
    }
   ],
   "source": [
    "#cross val\n",
    "scores = cross_val_score(bm2, X_train, y_train, cv=5)\n",
    "scores  "
   ]
  },
  {
   "cell_type": "code",
   "execution_count": 50,
   "metadata": {},
   "outputs": [
    {
     "data": {
      "text/plain": [
       "0.7696796742849195"
      ]
     },
     "execution_count": 50,
     "metadata": {},
     "output_type": "execute_result"
    }
   ],
   "source": [
    "scores.mean()"
   ]
  },
  {
   "cell_type": "code",
   "execution_count": 53,
   "metadata": {},
   "outputs": [],
   "source": [
    "bm2_bag=BaggingRegressor(bm2)"
   ]
  },
  {
   "cell_type": "code",
   "execution_count": 54,
   "metadata": {},
   "outputs": [
    {
     "ename": "ValueError",
     "evalue": "bad input shape (1780502, 15)",
     "output_type": "error",
     "traceback": [
      "\u001b[1;31m---------------------------------------------------------------------------\u001b[0m",
      "\u001b[1;31mValueError\u001b[0m                                Traceback (most recent call last)",
      "\u001b[1;32m<timed eval>\u001b[0m in \u001b[0;36m<module>\u001b[1;34m()\u001b[0m\n",
      "\u001b[1;32mC:\\ProgramData\\Anaconda3\\lib\\site-packages\\sklearn\\ensemble\\bagging.py\u001b[0m in \u001b[0;36mfit\u001b[1;34m(self, X, y, sample_weight)\u001b[0m\n\u001b[0;32m    245\u001b[0m             \u001b[0mReturns\u001b[0m \u001b[0mself\u001b[0m\u001b[1;33m.\u001b[0m\u001b[1;33m\u001b[0m\u001b[0m\n\u001b[0;32m    246\u001b[0m         \"\"\"\n\u001b[1;32m--> 247\u001b[1;33m         \u001b[1;32mreturn\u001b[0m \u001b[0mself\u001b[0m\u001b[1;33m.\u001b[0m\u001b[0m_fit\u001b[0m\u001b[1;33m(\u001b[0m\u001b[0mX\u001b[0m\u001b[1;33m,\u001b[0m \u001b[0my\u001b[0m\u001b[1;33m,\u001b[0m \u001b[0mself\u001b[0m\u001b[1;33m.\u001b[0m\u001b[0mmax_samples\u001b[0m\u001b[1;33m,\u001b[0m \u001b[0msample_weight\u001b[0m\u001b[1;33m=\u001b[0m\u001b[0msample_weight\u001b[0m\u001b[1;33m)\u001b[0m\u001b[1;33m\u001b[0m\u001b[0m\n\u001b[0m\u001b[0;32m    248\u001b[0m \u001b[1;33m\u001b[0m\u001b[0m\n\u001b[0;32m    249\u001b[0m     \u001b[1;32mdef\u001b[0m \u001b[0m_fit\u001b[0m\u001b[1;33m(\u001b[0m\u001b[0mself\u001b[0m\u001b[1;33m,\u001b[0m \u001b[0mX\u001b[0m\u001b[1;33m,\u001b[0m \u001b[0my\u001b[0m\u001b[1;33m,\u001b[0m \u001b[0mmax_samples\u001b[0m\u001b[1;33m=\u001b[0m\u001b[1;32mNone\u001b[0m\u001b[1;33m,\u001b[0m \u001b[0mmax_depth\u001b[0m\u001b[1;33m=\u001b[0m\u001b[1;32mNone\u001b[0m\u001b[1;33m,\u001b[0m \u001b[0msample_weight\u001b[0m\u001b[1;33m=\u001b[0m\u001b[1;32mNone\u001b[0m\u001b[1;33m)\u001b[0m\u001b[1;33m:\u001b[0m\u001b[1;33m\u001b[0m\u001b[0m\n",
      "\u001b[1;32mC:\\ProgramData\\Anaconda3\\lib\\site-packages\\sklearn\\ensemble\\bagging.py\u001b[0m in \u001b[0;36m_fit\u001b[1;34m(self, X, y, max_samples, max_depth, sample_weight)\u001b[0m\n\u001b[0;32m    281\u001b[0m \u001b[1;33m\u001b[0m\u001b[0m\n\u001b[0;32m    282\u001b[0m         \u001b[1;31m# Convert data\u001b[0m\u001b[1;33m\u001b[0m\u001b[1;33m\u001b[0m\u001b[0m\n\u001b[1;32m--> 283\u001b[1;33m         \u001b[0mX\u001b[0m\u001b[1;33m,\u001b[0m \u001b[0my\u001b[0m \u001b[1;33m=\u001b[0m \u001b[0mcheck_X_y\u001b[0m\u001b[1;33m(\u001b[0m\u001b[0mX\u001b[0m\u001b[1;33m,\u001b[0m \u001b[0my\u001b[0m\u001b[1;33m,\u001b[0m \u001b[1;33m[\u001b[0m\u001b[1;34m'csr'\u001b[0m\u001b[1;33m,\u001b[0m \u001b[1;34m'csc'\u001b[0m\u001b[1;33m]\u001b[0m\u001b[1;33m)\u001b[0m\u001b[1;33m\u001b[0m\u001b[0m\n\u001b[0m\u001b[0;32m    284\u001b[0m         \u001b[1;32mif\u001b[0m \u001b[0msample_weight\u001b[0m \u001b[1;32mis\u001b[0m \u001b[1;32mnot\u001b[0m \u001b[1;32mNone\u001b[0m\u001b[1;33m:\u001b[0m\u001b[1;33m\u001b[0m\u001b[0m\n\u001b[0;32m    285\u001b[0m             \u001b[0msample_weight\u001b[0m \u001b[1;33m=\u001b[0m \u001b[0mcheck_array\u001b[0m\u001b[1;33m(\u001b[0m\u001b[0msample_weight\u001b[0m\u001b[1;33m,\u001b[0m \u001b[0mensure_2d\u001b[0m\u001b[1;33m=\u001b[0m\u001b[1;32mFalse\u001b[0m\u001b[1;33m)\u001b[0m\u001b[1;33m\u001b[0m\u001b[0m\n",
      "\u001b[1;32mC:\\ProgramData\\Anaconda3\\lib\\site-packages\\sklearn\\utils\\validation.py\u001b[0m in \u001b[0;36mcheck_X_y\u001b[1;34m(X, y, accept_sparse, dtype, order, copy, force_all_finite, ensure_2d, allow_nd, multi_output, ensure_min_samples, ensure_min_features, y_numeric, warn_on_dtype, estimator)\u001b[0m\n\u001b[0;32m    576\u001b[0m                         dtype=None)\n\u001b[0;32m    577\u001b[0m     \u001b[1;32melse\u001b[0m\u001b[1;33m:\u001b[0m\u001b[1;33m\u001b[0m\u001b[0m\n\u001b[1;32m--> 578\u001b[1;33m         \u001b[0my\u001b[0m \u001b[1;33m=\u001b[0m \u001b[0mcolumn_or_1d\u001b[0m\u001b[1;33m(\u001b[0m\u001b[0my\u001b[0m\u001b[1;33m,\u001b[0m \u001b[0mwarn\u001b[0m\u001b[1;33m=\u001b[0m\u001b[1;32mTrue\u001b[0m\u001b[1;33m)\u001b[0m\u001b[1;33m\u001b[0m\u001b[0m\n\u001b[0m\u001b[0;32m    579\u001b[0m         \u001b[0m_assert_all_finite\u001b[0m\u001b[1;33m(\u001b[0m\u001b[0my\u001b[0m\u001b[1;33m)\u001b[0m\u001b[1;33m\u001b[0m\u001b[0m\n\u001b[0;32m    580\u001b[0m     \u001b[1;32mif\u001b[0m \u001b[0my_numeric\u001b[0m \u001b[1;32mand\u001b[0m \u001b[0my\u001b[0m\u001b[1;33m.\u001b[0m\u001b[0mdtype\u001b[0m\u001b[1;33m.\u001b[0m\u001b[0mkind\u001b[0m \u001b[1;33m==\u001b[0m \u001b[1;34m'O'\u001b[0m\u001b[1;33m:\u001b[0m\u001b[1;33m\u001b[0m\u001b[0m\n",
      "\u001b[1;32mC:\\ProgramData\\Anaconda3\\lib\\site-packages\\sklearn\\utils\\validation.py\u001b[0m in \u001b[0;36mcolumn_or_1d\u001b[1;34m(y, warn)\u001b[0m\n\u001b[0;32m    612\u001b[0m         \u001b[1;32mreturn\u001b[0m \u001b[0mnp\u001b[0m\u001b[1;33m.\u001b[0m\u001b[0mravel\u001b[0m\u001b[1;33m(\u001b[0m\u001b[0my\u001b[0m\u001b[1;33m)\u001b[0m\u001b[1;33m\u001b[0m\u001b[0m\n\u001b[0;32m    613\u001b[0m \u001b[1;33m\u001b[0m\u001b[0m\n\u001b[1;32m--> 614\u001b[1;33m     \u001b[1;32mraise\u001b[0m \u001b[0mValueError\u001b[0m\u001b[1;33m(\u001b[0m\u001b[1;34m\"bad input shape {0}\"\u001b[0m\u001b[1;33m.\u001b[0m\u001b[0mformat\u001b[0m\u001b[1;33m(\u001b[0m\u001b[0mshape\u001b[0m\u001b[1;33m)\u001b[0m\u001b[1;33m)\u001b[0m\u001b[1;33m\u001b[0m\u001b[0m\n\u001b[0m\u001b[0;32m    615\u001b[0m \u001b[1;33m\u001b[0m\u001b[0m\n\u001b[0;32m    616\u001b[0m \u001b[1;33m\u001b[0m\u001b[0m\n",
      "\u001b[1;31mValueError\u001b[0m: bad input shape (1780502, 15)"
     ]
    }
   ],
   "source": [
    "%%time\n",
    "bm2_bag.fit(X_train, y_train)"
   ]
  },
  {
   "cell_type": "code",
   "execution_count": null,
   "metadata": {},
   "outputs": [],
   "source": [
    "print(str(bm2_bag.score(bm2_bag.predict(X_train),y_train))+'/'+str(bm2_bag.score(bm2_bag.predict(X_test),y_test)))"
   ]
  },
  {
   "cell_type": "markdown",
   "metadata": {},
   "source": [
    "# Test"
   ]
  },
  {
   "cell_type": "code",
   "execution_count": 36,
   "metadata": {},
   "outputs": [],
   "source": [
    "def decode_vec(vec):\n",
    "    w_len=30\n",
    "    alpha='абвгдеёжзийклмнопрстуфхцчшщъыьэюя-'\n",
    "    vec2=np.zeros((w_len))\n",
    "    for n in range(0,w_len):\n",
    "        vec2[n]=int(vec[n])\n",
    "        \n",
    "    #print(vec2)\n",
    "    w=''\n",
    "    for i in range(0,w_len):\n",
    "        if vec2[i]>0:\n",
    "            w=w+alpha[int(vec2[i])-1]\n",
    "        \n",
    "    return w"
   ]
  },
  {
   "cell_type": "code",
   "execution_count": 59,
   "metadata": {},
   "outputs": [
    {
     "data": {
      "text/plain": [
       "''"
      ]
     },
     "execution_count": 59,
     "metadata": {},
     "output_type": "execute_result"
    }
   ],
   "source": [
    "decode_vec(X_test[126758])"
   ]
  },
  {
   "cell_type": "code",
   "execution_count": 37,
   "metadata": {},
   "outputs": [
    {
     "name": "stdout",
     "output_type": "stream",
     "text": [
      "DecisionTreeRegressor     : замерять                      \n",
      "RandomForestRegressor     : ианбоянцез                    \n",
      "ExtraTreesRegressor       : кгпгмцкфонзёё                 \n"
     ]
    }
   ],
   "source": [
    "for model in models:\n",
    "    m_name=str(model)\n",
    "    m_name=m_name[:m_name.find('(')]\n",
    "    dec_w=decode_vec(model.predict([alpha_vec2('абрау-дюрсо')])[0])\n",
    "    print(f'{m_name:25} : {dec_w:30}')"
   ]
  },
  {
   "cell_type": "code",
   "execution_count": 67,
   "metadata": {},
   "outputs": [
    {
     "name": "stderr",
     "output_type": "stream",
     "text": [
      "[Parallel(n_jobs=8)]: Done   3 out of  10 | elapsed:    0.0s remaining:    0.0s\n",
      "[Parallel(n_jobs=8)]: Done   5 out of  10 | elapsed:    0.0s remaining:    0.0s\n",
      "[Parallel(n_jobs=8)]: Done   7 out of  10 | elapsed:    0.0s remaining:    0.0s\n",
      "[Parallel(n_jobs=8)]: Done  10 out of  10 | elapsed:    0.0s finished\n"
     ]
    },
    {
     "data": {
      "text/plain": [
       "'взвиться'"
      ]
     },
     "execution_count": 67,
     "metadata": {},
     "output_type": "execute_result"
    }
   ],
   "source": [
    "decode_vec(best_model.predict([alpha_vec2('взвился')])[0])"
   ]
  },
  {
   "cell_type": "markdown",
   "metadata": {},
   "source": [
    "## Test best model"
   ]
  },
  {
   "cell_type": "code",
   "execution_count": 30,
   "metadata": {},
   "outputs": [
    {
     "name": "stderr",
     "output_type": "stream",
     "text": [
      "[Parallel(n_jobs=8)]: Done   3 out of  10 | elapsed:    4.7s remaining:   11.1s\n",
      "[Parallel(n_jobs=8)]: Done   5 out of  10 | elapsed:    5.2s remaining:    5.2s\n",
      "[Parallel(n_jobs=8)]: Done   7 out of  10 | elapsed:    5.6s remaining:    2.3s\n",
      "[Parallel(n_jobs=8)]: Done  10 out of  10 | elapsed:    6.1s finished\n"
     ]
    }
   ],
   "source": [
    "bm_predicted=best_model.predict(X_lex_vec)"
   ]
  },
  {
   "cell_type": "code",
   "execution_count": 31,
   "metadata": {},
   "outputs": [
    {
     "data": {
      "text/plain": [
       "2337988"
      ]
     },
     "execution_count": 31,
     "metadata": {},
     "output_type": "execute_result"
    }
   ],
   "source": [
    "len(bm_predicted)"
   ]
  },
  {
   "cell_type": "code",
   "execution_count": 32,
   "metadata": {},
   "outputs": [
    {
     "data": {
      "application/vnd.jupyter.widget-view+json": {
       "model_id": "58775d9498774a388b40eee75d8921c0",
       "version_major": 2,
       "version_minor": 0
      },
      "text/plain": [
       "HBox(children=(IntProgress(value=0, max=2337988), HTML(value='')))"
      ]
     },
     "metadata": {},
     "output_type": "display_data"
    },
    {
     "name": "stdout",
     "output_type": "stream",
     "text": [
      "\n"
     ]
    }
   ],
   "source": [
    "bm_predicted_dec=[decode_vec(w) for w in tqdm_notebook(bm_predicted)]"
   ]
  },
  {
   "cell_type": "code",
   "execution_count": 33,
   "metadata": {},
   "outputs": [
    {
     "data": {
      "text/plain": [
       "['а',\n",
       " 'а-конто',\n",
       " 'ааре',\n",
       " 'аароновщина',\n",
       " 'аароновщина',\n",
       " 'аароновщина',\n",
       " 'аароновщина',\n",
       " 'аароновщина',\n",
       " 'аароновщина',\n",
       " 'аароновщина']"
      ]
     },
     "execution_count": 33,
     "metadata": {},
     "output_type": "execute_result"
    }
   ],
   "source": [
    "bm_predicted_dec[:10]"
   ]
  },
  {
   "cell_type": "code",
   "execution_count": 34,
   "metadata": {},
   "outputs": [
    {
     "data": {
      "application/vnd.jupyter.widget-view+json": {
       "model_id": "bdf841a38ed04a9abe1ff17aa0248770",
       "version_major": 2,
       "version_minor": 0
      },
      "text/plain": [
       "HBox(children=(IntProgress(value=0, max=2337988), HTML(value='')))"
      ]
     },
     "metadata": {},
     "output_type": "display_data"
    },
    {
     "name": "stdout",
     "output_type": "stream",
     "text": [
      "\n"
     ]
    }
   ],
   "source": [
    "test_bm=[w1==w2 for w1,w2 in zip(bm_predicted_dec,tqdm_notebook(Y_lex))]"
   ]
  },
  {
   "cell_type": "code",
   "execution_count": 35,
   "metadata": {},
   "outputs": [
    {
     "data": {
      "text/plain": [
       "1.0"
      ]
     },
     "execution_count": 35,
     "metadata": {},
     "output_type": "execute_result"
    }
   ],
   "source": [
    "sum(test_bm)/len(test_bm)"
   ]
  },
  {
   "cell_type": "code",
   "execution_count": 36,
   "metadata": {},
   "outputs": [
    {
     "data": {
      "application/vnd.jupyter.widget-view+json": {
       "model_id": "f76cdd8bc44140d7aa5445c4cca42ca2",
       "version_major": 2,
       "version_minor": 0
      },
      "text/plain": [
       "HBox(children=(IntProgress(value=0, max=2337988), HTML(value='')))"
      ]
     },
     "metadata": {},
     "output_type": "display_data"
    },
    {
     "name": "stdout",
     "output_type": "stream",
     "text": [
      "\n"
     ]
    }
   ],
   "source": [
    "wrong_bm=[[X_lex.iloc[i],bm_predicted_dec[i],Y_lex.iloc[i]] for i in tqdm_notebook(range(len(test_bm))) if test_bm[i]==False]"
   ]
  },
  {
   "cell_type": "code",
   "execution_count": 37,
   "metadata": {},
   "outputs": [
    {
     "data": {
      "text/plain": [
       "0"
      ]
     },
     "execution_count": 37,
     "metadata": {},
     "output_type": "execute_result"
    }
   ],
   "source": [
    "len(wrong_bm)"
   ]
  },
  {
   "cell_type": "code",
   "execution_count": 38,
   "metadata": {},
   "outputs": [
    {
     "data": {
      "text/plain": [
       "[]"
      ]
     },
     "execution_count": 38,
     "metadata": {},
     "output_type": "execute_result"
    }
   ],
   "source": [
    "wrong_bm[:1000]"
   ]
  },
  {
   "cell_type": "markdown",
   "metadata": {},
   "source": [
    "# Save model"
   ]
  },
  {
   "cell_type": "code",
   "execution_count": 18,
   "metadata": {},
   "outputs": [],
   "source": [
    "import pickle"
   ]
  },
  {
   "cell_type": "code",
   "execution_count": 19,
   "metadata": {},
   "outputs": [],
   "source": [
    "f=open('Vec_lemm_DTR.pkl','wb')\n",
    "pickle.dump(models[0],f)\n",
    "f.close()"
   ]
  },
  {
   "cell_type": "code",
   "execution_count": 20,
   "metadata": {},
   "outputs": [],
   "source": [
    "f=open('Vec_lemm_RF.pkl','wb')\n",
    "pickle.dump(models[1],f)\n",
    "f.close()"
   ]
  },
  {
   "cell_type": "code",
   "execution_count": 21,
   "metadata": {},
   "outputs": [],
   "source": [
    "f=open('Vec_lemm_extraDTR.pkl','wb')\n",
    "pickle.dump(models[2],f)\n",
    "f.close()"
   ]
  },
  {
   "cell_type": "markdown",
   "metadata": {},
   "source": [
    "# Compare lemmatizers"
   ]
  },
  {
   "cell_type": "markdown",
   "metadata": {},
   "source": [
    "## Pymorphy2"
   ]
  },
  {
   "cell_type": "code",
   "execution_count": 33,
   "metadata": {},
   "outputs": [],
   "source": [
    "import pymorphy2\n",
    "morph = pymorphy2.MorphAnalyzer()"
   ]
  },
  {
   "cell_type": "code",
   "execution_count": 29,
   "metadata": {},
   "outputs": [],
   "source": [
    "p = morph.parse('Tengrinews.kz')[0]"
   ]
  },
  {
   "cell_type": "code",
   "execution_count": 30,
   "metadata": {},
   "outputs": [
    {
     "data": {
      "text/plain": [
       "'tengrinews.kz'"
      ]
     },
     "execution_count": 30,
     "metadata": {},
     "output_type": "execute_result"
    }
   ],
   "source": [
    "p.normal_form"
   ]
  },
  {
   "cell_type": "code",
   "execution_count": 31,
   "metadata": {},
   "outputs": [],
   "source": [
    "def compare(w1,w2):\n",
    "    p = morph.parse(w1)[0]\n",
    "    w1=p.normal_form\n",
    "    #print(w1)\n",
    "    #print(w2)\n",
    "    if w1==w2:\n",
    "        return 1\n",
    "    else:\n",
    "        return 0\n",
    "    "
   ]
  },
  {
   "cell_type": "code",
   "execution_count": 34,
   "metadata": {},
   "outputs": [
    {
     "data": {
      "text/plain": [
       "1"
      ]
     },
     "execution_count": 34,
     "metadata": {},
     "output_type": "execute_result"
    }
   ],
   "source": [
    "compare('стал','стать')"
   ]
  },
  {
   "cell_type": "code",
   "execution_count": 35,
   "metadata": {},
   "outputs": [
    {
     "data": {
      "application/vnd.jupyter.widget-view+json": {
       "model_id": "f57b0656b2624962ab15712db1976c61",
       "version_major": 2,
       "version_minor": 0
      },
      "text/plain": [
       "HBox(children=(IntProgress(value=0, max=2415435), HTML(value='')))"
      ]
     },
     "metadata": {},
     "output_type": "display_data"
    }
   ],
   "source": [
    "test=[compare(w1,w2) for w1, w2 in zip(X_lex,tqdm_notebook(Y_lex))]"
   ]
  },
  {
   "cell_type": "code",
   "execution_count": 30,
   "metadata": {},
   "outputs": [
    {
     "data": {
      "text/plain": [
       "0.7642943419726705"
      ]
     },
     "execution_count": 30,
     "metadata": {},
     "output_type": "execute_result"
    }
   ],
   "source": [
    "sum(test)/len(test)"
   ]
  },
  {
   "cell_type": "code",
   "execution_count": 61,
   "metadata": {},
   "outputs": [
    {
     "data": {
      "application/vnd.jupyter.widget-view+json": {
       "model_id": "d1f779d191414b97a57eeb6a96ea29bd",
       "version_major": 2,
       "version_minor": 0
      },
      "text/plain": [
       "HBox(children=(IntProgress(value=0, max=2337988), HTML(value='')))"
      ]
     },
     "metadata": {},
     "output_type": "display_data"
    }
   ],
   "source": [
    "wrong_pymorphy=[[X_lex.iloc[i],morph.parse(X_lex.iloc[i])[0].normal_form,Y_lex.iloc[i]] for i in tqdm_notebook(range(len(test2))) if test[i]==False]"
   ]
  },
  {
   "cell_type": "code",
   "execution_count": 62,
   "metadata": {},
   "outputs": [
    {
     "data": {
      "text/plain": [
       "551077"
      ]
     },
     "execution_count": 62,
     "metadata": {},
     "output_type": "execute_result"
    }
   ],
   "source": [
    "len(wrong_pymorphy)"
   ]
  },
  {
   "cell_type": "code",
   "execution_count": 63,
   "metadata": {},
   "outputs": [
    {
     "data": {
      "text/plain": [
       "[['аахенами', 'аахенами', 'аахен'],\n",
       " ['аахене', 'аахена', 'аахен'],\n",
       " ['аахенов', 'аахеновый', 'аахен'],\n",
       " ['аахеном', 'аахеном', 'аахен'],\n",
       " ['абаей', 'абая', 'абай'],\n",
       " ['абаз', 'абаз', 'абаза'],\n",
       " ['абазам', 'абаз', 'абаза'],\n",
       " ['абазах', 'абаз', 'абаза'],\n",
       " ['абазе', 'абаз', 'абаза'],\n",
       " ['абазы', 'абаз', 'абаза'],\n",
       " ['абак', 'абак', 'абака'],\n",
       " ['абаками', 'абак', 'абака'],\n",
       " ['абаку', 'абак', 'абака'],\n",
       " ['абдулловичом', 'абдуллович', 'абдулла'],\n",
       " ['аберзее', 'аберзея', 'аберзее'],\n",
       " ['абесседит', 'абесседить', 'абесседит'],\n",
       " ['абесседите', 'абессесть', 'абесседит'],\n",
       " ['абиетинов', 'абиетин', 'абиетиновый'],\n",
       " ['аблактировавшаяся', 'аблактироваться', 'аблактировать'],\n",
       " ['аблактировавшегося', 'аблактироваться', 'аблактировать'],\n",
       " ['аблактировавшееся', 'аблактироваться', 'аблактировать'],\n",
       " ['аблактировавшейся', 'аблактироваться', 'аблактировать'],\n",
       " ['аблактировавшемся', 'аблактироваться', 'аблактировать'],\n",
       " ['аблактировавшемуся', 'аблактироваться', 'аблактировать'],\n",
       " ['аблактировавшеюся', 'аблактироваться', 'аблактировать'],\n",
       " ['аблактировавшиеся', 'аблактироваться', 'аблактировать'],\n",
       " ['аблактировавшийся', 'аблактироваться', 'аблактировать'],\n",
       " ['аблактировавшимися', 'аблактироваться', 'аблактировать'],\n",
       " ['аблактировавшимся', 'аблактироваться', 'аблактировать'],\n",
       " ['аблактировавшись', 'аблактироваться', 'аблактировать'],\n",
       " ['аблактировавшихся', 'аблактироваться', 'аблактировать'],\n",
       " ['аблактировавшуюся', 'аблактироваться', 'аблактировать'],\n",
       " ['аблактировалась', 'аблактироваться', 'аблактировать'],\n",
       " ['аблактировались', 'аблактироваться', 'аблактировать'],\n",
       " ['аблактировалось', 'аблактироваться', 'аблактировать'],\n",
       " ['аблактировался', 'аблактироваться', 'аблактировать'],\n",
       " ['аблактированнее', 'аблактированный', 'аблактировать'],\n",
       " ['аблактированней', 'аблактированный', 'аблактировать'],\n",
       " ['аблактироваться', 'аблактироваться', 'аблактировать'],\n",
       " ['аблактируемее', 'аблактируемый', 'аблактировать'],\n",
       " ['аблактируемей', 'аблактируемый', 'аблактировать'],\n",
       " ['аблактируемся', 'аблактироваться', 'аблактировать'],\n",
       " ['аблактируетесь', 'аблактироваться', 'аблактировать'],\n",
       " ['аблактируется', 'аблактироваться', 'аблактировать'],\n",
       " ['аблактируешься', 'аблактироваться', 'аблактировать'],\n",
       " ['аблактируйся', 'аблактироваться', 'аблактировать'],\n",
       " ['аблактируюсь', 'аблактироваться', 'аблактировать'],\n",
       " ['аблактируются', 'аблактироваться', 'аблактировать'],\n",
       " ['аблактирующаяся', 'аблактироваться', 'аблактировать'],\n",
       " ['аблактирующегося', 'аблактироваться', 'аблактировать'],\n",
       " ['аблактирующееся', 'аблактироваться', 'аблактировать'],\n",
       " ['аблактирующейся', 'аблактироваться', 'аблактировать'],\n",
       " ['аблактирующемся', 'аблактироваться', 'аблактировать'],\n",
       " ['аблактирующемуся', 'аблактироваться', 'аблактировать'],\n",
       " ['аблактирующеюся', 'аблактироваться', 'аблактировать'],\n",
       " ['аблактирующиеся', 'аблактироваться', 'аблактировать'],\n",
       " ['аблактирующийся', 'аблактироваться', 'аблактировать'],\n",
       " ['аблактирующимися', 'аблактироваться', 'аблактировать'],\n",
       " ['аблактирующимся', 'аблактироваться', 'аблактировать'],\n",
       " ['аблактирующихся', 'аблактироваться', 'аблактировать'],\n",
       " ['аблактирующуюся', 'аблактироваться', 'аблактировать'],\n",
       " ['аблактируясь', 'аблактироваться', 'аблактировать'],\n",
       " ['абонировавшаяся', 'абонироваться', 'абонировать'],\n",
       " ['абонировавшегося', 'абонироваться', 'абонировать'],\n",
       " ['абонировавшемуся', 'абонироваться', 'абонировать'],\n",
       " ['абонировавшеюся', 'абонироваться', 'абонировать'],\n",
       " ['абонировавшиеся', 'абонироваться', 'абонировать'],\n",
       " ['абонировавшийся', 'абонироваться', 'абонировать'],\n",
       " ['абонировавшимися', 'абонироваться', 'абонировать'],\n",
       " ['абонировавшись', 'абонироваться', 'абонировать'],\n",
       " ['абонировавшуюся', 'абонироваться', 'абонировать'],\n",
       " ['абонировалась', 'абонироваться', 'абонировать'],\n",
       " ['абонировался', 'абонироваться', 'абонировать'],\n",
       " ['абонированнее', 'абонированный', 'абонировать'],\n",
       " ['абонированней', 'абонированный', 'абонировать'],\n",
       " ['абонироваться', 'абонироваться', 'абонировать'],\n",
       " ['абонируемее', 'абонируемый', 'абонировать'],\n",
       " ['абонируемей', 'абонируемый', 'абонировать'],\n",
       " ['абонируетесь', 'абонироваться', 'абонировать'],\n",
       " ['абонируется', 'абонироваться', 'абонировать'],\n",
       " ['абонируешься', 'абонироваться', 'абонировать'],\n",
       " ['абонирующегося', 'абонироваться', 'абонировать'],\n",
       " ['абонирующейся', 'абонироваться', 'абонировать'],\n",
       " ['абонирующемся', 'абонироваться', 'абонировать'],\n",
       " ['абонирующемуся', 'абонироваться', 'абонировать'],\n",
       " ['абонирующеюся', 'абонироваться', 'абонировать'],\n",
       " ['абонирующимися', 'абонироваться', 'абонировать'],\n",
       " ['абонирующихся', 'абонироваться', 'абонировать'],\n",
       " ['абонирующуюся', 'абонироваться', 'абонировать'],\n",
       " ['абордировавшаяся', 'абордировавшийся', 'абордировать'],\n",
       " ['абордировавшегося', 'абордировавшийся', 'абордировать'],\n",
       " ['абордировавшееся', 'абордировавшийся', 'абордировать'],\n",
       " ['абордировавшейся', 'абордировавшийся', 'абордировать'],\n",
       " ['абордировавшемся', 'абордировавшийся', 'абордировать'],\n",
       " ['абордировавшемуся', 'абордировавшийся', 'абордировать'],\n",
       " ['абордировавшеюся', 'абордировавшийся', 'абордировать'],\n",
       " ['абордировавшиеся', 'абордировавшийся', 'абордировать'],\n",
       " ['абордировавшийся', 'абордировавшийся', 'абордировать'],\n",
       " ['абордировавшимися', 'абордировавшийся', 'абордировать'],\n",
       " ['абордировавшимся', 'абордировавшийся', 'абордировать'],\n",
       " ['абордировавшись', 'абордироваться', 'абордировать'],\n",
       " ['абордировавшихся', 'абордировавшийся', 'абордировать'],\n",
       " ['абордировавшуюся', 'абордировавшийся', 'абордировать'],\n",
       " ['абордировалась', 'абордироваться', 'абордировать'],\n",
       " ['абордировались', 'абордироваться', 'абордировать'],\n",
       " ['абордировалось', 'абордироваться', 'абордировать'],\n",
       " ['абордировался', 'абордироваться', 'абордировать'],\n",
       " ['абордированнее', 'абордированный', 'абордировать'],\n",
       " ['абордированней', 'абордированный', 'абордировать'],\n",
       " ['абордироваться', 'абордироваться', 'абордировать'],\n",
       " ['абордируемее', 'абордируемый', 'абордировать'],\n",
       " ['абордируемей', 'абордируемый', 'абордировать'],\n",
       " ['абордируемся', 'абордироваться', 'абордировать'],\n",
       " ['абордируетесь', 'абордируться', 'абордировать'],\n",
       " ['абордируется', 'абордироваться', 'абордировать'],\n",
       " ['абордируешься', 'абордируться', 'абордировать'],\n",
       " ['абордируйся', 'абордироваться', 'абордировать'],\n",
       " ['абордируюсь', 'абордироваться', 'абордировать'],\n",
       " ['абордируются', 'абордироваться', 'абордировать'],\n",
       " ['абордирующаяся', 'абордирующийся', 'абордировать'],\n",
       " ['абордирующегося', 'абордирующийся', 'абордировать'],\n",
       " ['абордирующееся', 'абордирующийся', 'абордировать'],\n",
       " ['абордирующейся', 'абордирующийся', 'абордировать'],\n",
       " ['абордирующемся', 'абордирующийся', 'абордировать'],\n",
       " ['абордирующемуся', 'абордирующийся', 'абордировать'],\n",
       " ['абордирующеюся', 'абордирующийся', 'абордировать'],\n",
       " ['абордирующиеся', 'абордирующийся', 'абордировать'],\n",
       " ['абордирующийся', 'абордирующийся', 'абордировать'],\n",
       " ['абордирующимися', 'абордирующийся', 'абордировать'],\n",
       " ['абордирующимся', 'абордирующийся', 'абордировать'],\n",
       " ['абордирующихся', 'абордирующийся', 'абордировать'],\n",
       " ['абордирующуюся', 'абордирующийся', 'абордировать'],\n",
       " ['абордируясь', 'абордироваться', 'абордировать'],\n",
       " ['абортировавшаяся', 'абортироваться', 'абортировать'],\n",
       " ['абортировавшегося', 'абортироваться', 'абортировать'],\n",
       " ['абортировавшееся', 'абортироваться', 'абортировать'],\n",
       " ['абортировавшейся', 'абортироваться', 'абортировать'],\n",
       " ['абортировавшемся', 'абортироваться', 'абортировать'],\n",
       " ['абортировавшемуся', 'абортироваться', 'абортировать'],\n",
       " ['абортировавшеюся', 'абортироваться', 'абортировать'],\n",
       " ['абортировавшиеся', 'абортироваться', 'абортировать'],\n",
       " ['абортировавшийся', 'абортироваться', 'абортировать'],\n",
       " ['абортировавшимися', 'абортироваться', 'абортировать'],\n",
       " ['абортировавшимся', 'абортироваться', 'абортировать'],\n",
       " ['абортировавшись', 'абортироваться', 'абортировать'],\n",
       " ['абортировавшихся', 'абортироваться', 'абортировать'],\n",
       " ['абортировавшуюся', 'абортироваться', 'абортировать'],\n",
       " ['абортировалась', 'абортироваться', 'абортировать'],\n",
       " ['абортировались', 'абортироваться', 'абортировать'],\n",
       " ['абортировалось', 'абортироваться', 'абортировать'],\n",
       " ['абортировался', 'абортироваться', 'абортировать'],\n",
       " ['абортированнее', 'абортированный', 'абортировать'],\n",
       " ['абортированней', 'абортированный', 'абортировать'],\n",
       " ['абортироваться', 'абортироваться', 'абортировать'],\n",
       " ['абортируемее', 'абортируемый', 'абортировать'],\n",
       " ['абортируемей', 'абортируемый', 'абортировать'],\n",
       " ['абортируемся', 'абортироваться', 'абортировать'],\n",
       " ['абортируетесь', 'абортироваться', 'абортировать'],\n",
       " ['абортируется', 'абортироваться', 'абортировать'],\n",
       " ['абортируешься', 'абортироваться', 'абортировать'],\n",
       " ['абортируйся', 'абортироваться', 'абортировать'],\n",
       " ['абортируюсь', 'абортироваться', 'абортировать'],\n",
       " ['абортируются', 'абортироваться', 'абортировать'],\n",
       " ['абортирующаяся', 'абортироваться', 'абортировать'],\n",
       " ['абортирующегося', 'абортироваться', 'абортировать'],\n",
       " ['абортирующееся', 'абортироваться', 'абортировать'],\n",
       " ['абортирующейся', 'абортироваться', 'абортировать'],\n",
       " ['абортирующемся', 'абортироваться', 'абортировать'],\n",
       " ['абортирующемуся', 'абортироваться', 'абортировать'],\n",
       " ['абортирующеюся', 'абортироваться', 'абортировать'],\n",
       " ['абортирующиеся', 'абортироваться', 'абортировать'],\n",
       " ['абортирующийся', 'абортироваться', 'абортировать'],\n",
       " ['абортирующимися', 'абортироваться', 'абортировать'],\n",
       " ['абортирующимся', 'абортироваться', 'абортировать'],\n",
       " ['абортирующихся', 'абортироваться', 'абортировать'],\n",
       " ['абортирующуюся', 'абортироваться', 'абортировать'],\n",
       " ['абортируясь', 'абортироваться', 'абортировать'],\n",
       " ['абрамцев', 'абрамец', 'абрамцево'],\n",
       " ['абрамцева', 'абрамцев', 'абрамцево'],\n",
       " ['абрамцевам', 'абрамцев', 'абрамцево'],\n",
       " ['абрамцевами', 'абрамцев', 'абрамцево'],\n",
       " ['абрамцевах', 'абрамцев', 'абрамцево'],\n",
       " ['абрамцеве', 'абрамцев', 'абрамцево'],\n",
       " ['абрамцево', 'абрамцевый', 'абрамцево'],\n",
       " ['абрамцевом', 'абрамцевый', 'абрамцево'],\n",
       " ['абрамцеву', 'абрамцев', 'абрамцево'],\n",
       " ['абрикосиков', 'абрикосиков', 'абрикосик'],\n",
       " ['абсолютизировавшаяся', 'абсолютизировавшийся', 'абсолютизировать'],\n",
       " ['абсолютизировавшегося', 'абсолютизировавшийся', 'абсолютизировать'],\n",
       " ['абсолютизировавшееся', 'абсолютизировавшийся', 'абсолютизировать'],\n",
       " ['абсолютизировавшейся', 'абсолютизировавшийся', 'абсолютизировать'],\n",
       " ['абсолютизировавшемся', 'абсолютизировавшийся', 'абсолютизировать'],\n",
       " ['абсолютизировавшемуся', 'абсолютизировавшийся', 'абсолютизировать'],\n",
       " ['абсолютизировавшеюся', 'абсолютизировавшийся', 'абсолютизировать'],\n",
       " ['абсолютизировавшиеся', 'абсолютизировавшийся', 'абсолютизировать'],\n",
       " ['абсолютизировавшийся', 'абсолютизировавшийся', 'абсолютизировать'],\n",
       " ['абсолютизировавшимися', 'абсолютизировавшийся', 'абсолютизировать'],\n",
       " ['абсолютизировавшимся', 'абсолютизировавшийся', 'абсолютизировать'],\n",
       " ['абсолютизировавшись', 'абсолютизироваться', 'абсолютизировать'],\n",
       " ['абсолютизировавшихся', 'абсолютизировавшийся', 'абсолютизировать'],\n",
       " ['абсолютизировавшуюся', 'абсолютизировавшийся', 'абсолютизировать'],\n",
       " ['абсолютизировалась', 'абсолютизироваться', 'абсолютизировать'],\n",
       " ['абсолютизировались', 'абсолютизироваться', 'абсолютизировать'],\n",
       " ['абсолютизировалось', 'абсолютизироваться', 'абсолютизировать'],\n",
       " ['абсолютизировался', 'абсолютизироваться', 'абсолютизировать'],\n",
       " ['абсолютизированнее', 'абсолютизированный', 'абсолютизировать'],\n",
       " ['абсолютизированней', 'абсолютизированный', 'абсолютизировать'],\n",
       " ['абсолютизироваться', 'абсолютизироваться', 'абсолютизировать'],\n",
       " ['абсолютизируемее', 'абсолютизируемый', 'абсолютизировать'],\n",
       " ['абсолютизируемей', 'абсолютизируемый', 'абсолютизировать'],\n",
       " ['абсолютизируемся', 'абсолютизироваться', 'абсолютизировать'],\n",
       " ['абсолютизируетесь', 'абсолютизируться', 'абсолютизировать'],\n",
       " ['абсолютизируется', 'абсолютизироваться', 'абсолютизировать'],\n",
       " ['абсолютизируешься', 'абсолютизируться', 'абсолютизировать'],\n",
       " ['абсолютизируйся', 'абсолютизироваться', 'абсолютизировать'],\n",
       " ['абсолютизируюсь', 'абсолютизироваться', 'абсолютизировать'],\n",
       " ['абсолютизируются', 'абсолютизироваться', 'абсолютизировать'],\n",
       " ['абсолютизирующаяся', 'абсолютизирующийся', 'абсолютизировать'],\n",
       " ['абсолютизирующегося', 'абсолютизирующийся', 'абсолютизировать'],\n",
       " ['абсолютизирующееся', 'абсолютизирующийся', 'абсолютизировать'],\n",
       " ['абсолютизирующейся', 'абсолютизирующийся', 'абсолютизировать'],\n",
       " ['абсолютизирующемся', 'абсолютизирующийся', 'абсолютизировать'],\n",
       " ['абсолютизирующемуся', 'абсолютизирующийся', 'абсолютизировать'],\n",
       " ['абсолютизирующеюся', 'абсолютизирующийся', 'абсолютизировать'],\n",
       " ['абсолютизирующиеся', 'абсолютизирующийся', 'абсолютизировать'],\n",
       " ['абсолютизирующийся', 'абсолютизирующийся', 'абсолютизировать'],\n",
       " ['абсолютизирующимися', 'абсолютизирующийся', 'абсолютизировать'],\n",
       " ['абсолютизирующимся', 'абсолютизирующийся', 'абсолютизировать'],\n",
       " ['абсолютизирующихся', 'абсолютизирующийся', 'абсолютизировать'],\n",
       " ['абсолютизирующуюся', 'абсолютизирующийся', 'абсолютизировать'],\n",
       " ['абсолютизируясь', 'абсолютизироваться', 'абсолютизировать'],\n",
       " ['абсолютно', 'абсолютно', 'абсолютный'],\n",
       " ['абсорбировавшаяся', 'абсорбироваться', 'абсорбировать'],\n",
       " ['абсорбировавшегося', 'абсорбироваться', 'абсорбировать'],\n",
       " ['абсорбировавшееся', 'абсорбироваться', 'абсорбировать'],\n",
       " ['абсорбировавшейся', 'абсорбироваться', 'абсорбировать'],\n",
       " ['абсорбировавшемся', 'абсорбироваться', 'абсорбировать'],\n",
       " ['абсорбировавшемуся', 'абсорбироваться', 'абсорбировать'],\n",
       " ['абсорбировавшеюся', 'абсорбироваться', 'абсорбировать'],\n",
       " ['абсорбировавшиеся', 'абсорбироваться', 'абсорбировать'],\n",
       " ['абсорбировавшийся', 'абсорбироваться', 'абсорбировать'],\n",
       " ['абсорбировавшимися', 'абсорбироваться', 'абсорбировать'],\n",
       " ['абсорбировавшимся', 'абсорбироваться', 'абсорбировать'],\n",
       " ['абсорбировавшись', 'абсорбироваться', 'абсорбировать'],\n",
       " ['абсорбировавшихся', 'абсорбироваться', 'абсорбировать'],\n",
       " ['абсорбировавшуюся', 'абсорбироваться', 'абсорбировать'],\n",
       " ['абсорбировалась', 'абсорбироваться', 'абсорбировать'],\n",
       " ['абсорбировались', 'абсорбироваться', 'абсорбировать'],\n",
       " ['абсорбировалось', 'абсорбироваться', 'абсорбировать'],\n",
       " ['абсорбировался', 'абсорбироваться', 'абсорбировать'],\n",
       " ['абсорбированнее', 'абсорбированный', 'абсорбировать'],\n",
       " ['абсорбированней', 'абсорбированный', 'абсорбировать'],\n",
       " ['абсорбироваться', 'абсорбироваться', 'абсорбировать'],\n",
       " ['абсорбируемее', 'абсорбируемый', 'абсорбировать'],\n",
       " ['абсорбируемей', 'абсорбируемый', 'абсорбировать'],\n",
       " ['абсорбируемся', 'абсорбироваться', 'абсорбировать'],\n",
       " ['абсорбируетесь', 'абсорбироваться', 'абсорбировать'],\n",
       " ['абсорбируется', 'абсорбироваться', 'абсорбировать'],\n",
       " ['абсорбируешься', 'абсорбироваться', 'абсорбировать'],\n",
       " ['абсорбируйся', 'абсорбироваться', 'абсорбировать'],\n",
       " ['абсорбируюсь', 'абсорбироваться', 'абсорбировать'],\n",
       " ['абсорбируются', 'абсорбироваться', 'абсорбировать'],\n",
       " ['абсорбирующаяся', 'абсорбироваться', 'абсорбировать'],\n",
       " ['абсорбирующегося', 'абсорбироваться', 'абсорбировать'],\n",
       " ['абсорбирующееся', 'абсорбироваться', 'абсорбировать'],\n",
       " ['абсорбирующейся', 'абсорбироваться', 'абсорбировать'],\n",
       " ['абсорбирующемся', 'абсорбироваться', 'абсорбировать'],\n",
       " ['абсорбирующемуся', 'абсорбироваться', 'абсорбировать'],\n",
       " ['абсорбирующеюся', 'абсорбироваться', 'абсорбировать'],\n",
       " ['абсорбирующиеся', 'абсорбироваться', 'абсорбировать'],\n",
       " ['абсорбирующийся', 'абсорбироваться', 'абсорбировать'],\n",
       " ['абсорбирующимися', 'абсорбироваться', 'абсорбировать'],\n",
       " ['абсорбирующимся', 'абсорбироваться', 'абсорбировать'],\n",
       " ['абсорбирующихся', 'абсорбироваться', 'абсорбировать'],\n",
       " ['абсорбирующуюся', 'абсорбироваться', 'абсорбировать'],\n",
       " ['абсорбируясь', 'абсорбироваться', 'абсорбировать'],\n",
       " ['абстрагировавшееся', 'абстрагироваться', 'абстрагировать'],\n",
       " ['абстрагировавшемуся', 'абстрагироваться', 'абстрагировать'],\n",
       " ['абстрагировавшеюся', 'абстрагироваться', 'абстрагировать'],\n",
       " ['абстрагировавшиеся', 'абстрагироваться', 'абстрагировать'],\n",
       " ['абстрагировавшийся', 'абстрагироваться', 'абстрагировать'],\n",
       " ['абстрагировавшихся', 'абстрагироваться', 'абстрагировать'],\n",
       " ['абстрагировались', 'абстрагироваться', 'абстрагировать'],\n",
       " ['абстрагированнее', 'абстрагированный', 'абстрагировать'],\n",
       " ['абстрагированней', 'абстрагированный', 'абстрагировать'],\n",
       " ['абстрагироваться', 'абстрагироваться', 'абстрагировать'],\n",
       " ['абстрагируемее', 'абстрагируемый', 'абстрагировать'],\n",
       " ['абстрагируемей', 'абстрагируемый', 'абстрагировать'],\n",
       " ['абстрагируетесь', 'абстрагироваться', 'абстрагировать'],\n",
       " ['абстрагируется', 'абстрагироваться', 'абстрагировать'],\n",
       " ['абстрагируешься', 'абстрагироваться', 'абстрагировать'],\n",
       " ['абстрагируюсь', 'абстрагироваться', 'абстрагировать'],\n",
       " ['абстрагируются', 'абстрагироваться', 'абстрагировать'],\n",
       " ['абстрагирующаяся', 'абстрагироваться', 'абстрагировать'],\n",
       " ['абстрагирующегося', 'абстрагироваться', 'абстрагировать'],\n",
       " ['абстрагирующейся', 'абстрагироваться', 'абстрагировать'],\n",
       " ['абстрагирующемся', 'абстрагироваться', 'абстрагировать'],\n",
       " ['абстрагирующеюся', 'абстрагироваться', 'абстрагировать'],\n",
       " ['абстрагирующийся', 'абстрагироваться', 'абстрагировать'],\n",
       " ['абстрагирующимися', 'абстрагироваться', 'абстрагировать'],\n",
       " ['абстрагирующихся', 'абстрагироваться', 'абстрагировать'],\n",
       " ['абстрагируясь', 'абстрагироваться', 'абстрагировать'],\n",
       " ['абстрактно', 'абстрактно', 'абстрактный'],\n",
       " ['абсурдно', 'абсурдно', 'абсурдный'],\n",
       " ['абхазий', 'абхазий', 'абхазия'],\n",
       " ['абыев', 'абыев', 'абый'],\n",
       " ['авале', 'авал', 'аваль'],\n",
       " ['авали', 'авали', 'аваль'],\n",
       " ['авансировавшаяся', 'авансировавшийся', 'авансировать'],\n",
       " ['авансировавшегося', 'авансировавшийся', 'авансировать'],\n",
       " ['авансировавшееся', 'авансировавшийся', 'авансировать'],\n",
       " ['авансировавшейся', 'авансировавшийся', 'авансировать'],\n",
       " ['авансировавшемся', 'авансировавшийся', 'авансировать'],\n",
       " ['авансировавшемуся', 'авансировавшийся', 'авансировать'],\n",
       " ['авансировавшеюся', 'авансировавшийся', 'авансировать'],\n",
       " ['авансировавшиеся', 'авансировавшийся', 'авансировать'],\n",
       " ['авансировавшийся', 'авансировавшийся', 'авансировать'],\n",
       " ['авансировавшимися', 'авансировавшийся', 'авансировать'],\n",
       " ['авансировавшимся', 'авансировавшийся', 'авансировать'],\n",
       " ['авансировавшись', 'авансироваться', 'авансировать'],\n",
       " ['авансировавшихся', 'авансировавшийся', 'авансировать'],\n",
       " ['авансировавшуюся', 'авансировавшийся', 'авансировать'],\n",
       " ['авансировалась', 'авансироваться', 'авансировать'],\n",
       " ['авансировались', 'авансироваться', 'авансировать'],\n",
       " ['авансировалось', 'авансироваться', 'авансировать'],\n",
       " ['авансировался', 'авансироваться', 'авансировать'],\n",
       " ['авансированная', 'авансированный', 'авансировать'],\n",
       " ['авансированнее', 'авансированный', 'авансировать'],\n",
       " ['авансированней', 'авансированный', 'авансировать'],\n",
       " ['авансированного', 'авансированный', 'авансировать'],\n",
       " ['авансированное', 'авансированный', 'авансировать'],\n",
       " ['авансированной', 'авансированный', 'авансировать'],\n",
       " ['авансированном', 'авансированный', 'авансировать'],\n",
       " ['авансированному', 'авансированный', 'авансировать'],\n",
       " ['авансированною', 'авансированный', 'авансировать'],\n",
       " ['авансированную', 'авансированный', 'авансировать'],\n",
       " ['авансированные', 'авансированный', 'авансировать'],\n",
       " ['авансированный', 'авансированный', 'авансировать'],\n",
       " ['авансированным', 'авансированный', 'авансировать'],\n",
       " ['авансированными', 'авансированный', 'авансировать'],\n",
       " ['авансированных', 'авансированный', 'авансировать'],\n",
       " ['авансироваться', 'авансироваться', 'авансировать'],\n",
       " ['авансируемее', 'авансируемый', 'авансировать'],\n",
       " ['авансируемей', 'авансируемый', 'авансировать'],\n",
       " ['авансируемся', 'авансироваться', 'авансировать'],\n",
       " ['авансируетесь', 'авансируться', 'авансировать'],\n",
       " ['авансируется', 'авансироваться', 'авансировать'],\n",
       " ['авансируешься', 'авансируться', 'авансировать'],\n",
       " ['авансируйся', 'авансироваться', 'авансировать'],\n",
       " ['авансируюсь', 'авансироваться', 'авансировать'],\n",
       " ['авансируются', 'авансироваться', 'авансировать'],\n",
       " ['авансирующаяся', 'авансирующийся', 'авансировать'],\n",
       " ['авансирующегося', 'авансирующийся', 'авансировать'],\n",
       " ['авансирующееся', 'авансирующийся', 'авансировать'],\n",
       " ['авансирующейся', 'авансирующийся', 'авансировать'],\n",
       " ['авансирующемся', 'авансирующийся', 'авансировать'],\n",
       " ['авансирующемуся', 'авансирующийся', 'авансировать'],\n",
       " ['авансирующеюся', 'авансирующийся', 'авансировать'],\n",
       " ['авансирующиеся', 'авансирующийся', 'авансировать'],\n",
       " ['авансирующийся', 'авансирующийся', 'авансировать'],\n",
       " ['авансирующимися', 'авансирующийся', 'авансировать'],\n",
       " ['авансирующимся', 'авансирующийся', 'авансировать'],\n",
       " ['авансирующихся', 'авансирующийся', 'авансировать'],\n",
       " ['авансирующуюся', 'авансирующийся', 'авансировать'],\n",
       " ['авансируясь', 'авансироваться', 'авансировать'],\n",
       " ['авансов', 'аванс', 'авансовый'],\n",
       " ['авансова', 'авансова', 'авансовый'],\n",
       " ['авансовы', 'авансова', 'авансовый'],\n",
       " ['авансом', 'авансом', 'аванс'],\n",
       " ['авантюринов', 'авантюрин', 'авантюриновый'],\n",
       " ['аввакумов', 'аввакумов', 'аввакум'],\n",
       " ['августин', 'августин', 'августина'],\n",
       " ['августинах', 'августин', 'августина'],\n",
       " ['августине', 'августин', 'августина'],\n",
       " ['августины', 'августин', 'августина'],\n",
       " ['авеле', 'авел', 'авель'],\n",
       " ['авели', 'авели', 'авель'],\n",
       " ['авиасъемкам', 'авиасъёмка', 'авиасъемка'],\n",
       " ['авиасъемками', 'авиасъёмка', 'авиасъемка'],\n",
       " ['авиасъемках', 'авиасъёмка', 'авиасъемка'],\n",
       " ['авиасъемке', 'авиасъёмка', 'авиасъемка'],\n",
       " ['авиасъемки', 'авиасъёмка', 'авиасъемка'],\n",
       " ['авиасъемкой', 'авиасъёмка', 'авиасъемка'],\n",
       " ['авиасъемку', 'авиасъёмка', 'авиасъемка'],\n",
       " ['авиасъемок', 'авиасъёмка', 'авиасъемка'],\n",
       " ['авизировавшаяся', 'авизироваться', 'авизировать'],\n",
       " ['авизировавшегося', 'авизироваться', 'авизировать'],\n",
       " ['авизировавшееся', 'авизироваться', 'авизировать'],\n",
       " ['авизировавшейся', 'авизироваться', 'авизировать'],\n",
       " ['авизировавшемся', 'авизироваться', 'авизировать'],\n",
       " ['авизировавшемуся', 'авизироваться', 'авизировать'],\n",
       " ['авизировавшеюся', 'авизироваться', 'авизировать'],\n",
       " ['авизировавшиеся', 'авизироваться', 'авизировать'],\n",
       " ['авизировавшийся', 'авизироваться', 'авизировать'],\n",
       " ['авизировавшимися', 'авизироваться', 'авизировать'],\n",
       " ['авизировавшимся', 'авизироваться', 'авизировать'],\n",
       " ['авизировавшись', 'авизироваться', 'авизировать'],\n",
       " ['авизировавшихся', 'авизироваться', 'авизировать'],\n",
       " ['авизировавшуюся', 'авизироваться', 'авизировать'],\n",
       " ['авизировалась', 'авизироваться', 'авизировать'],\n",
       " ['авизировались', 'авизироваться', 'авизировать'],\n",
       " ['авизировалось', 'авизироваться', 'авизировать'],\n",
       " ['авизировался', 'авизироваться', 'авизировать'],\n",
       " ['авизированнее', 'авизированный', 'авизировать'],\n",
       " ['авизированней', 'авизированный', 'авизировать'],\n",
       " ['авизироваться', 'авизироваться', 'авизировать'],\n",
       " ['авизируемее', 'авизируемый', 'авизировать'],\n",
       " ['авизируемей', 'авизируемый', 'авизировать'],\n",
       " ['авизируемся', 'авизироваться', 'авизировать'],\n",
       " ['авизируетесь', 'авизироваться', 'авизировать'],\n",
       " ['авизируется', 'авизироваться', 'авизировать'],\n",
       " ['авизируешься', 'авизироваться', 'авизировать'],\n",
       " ['авизируйся', 'авизироваться', 'авизировать'],\n",
       " ['авизируюсь', 'авизироваться', 'авизировать'],\n",
       " ['авизируются', 'авизироваться', 'авизировать'],\n",
       " ['авизирующаяся', 'авизироваться', 'авизировать'],\n",
       " ['авизирующегося', 'авизироваться', 'авизировать'],\n",
       " ['авизирующееся', 'авизироваться', 'авизировать'],\n",
       " ['авизирующейся', 'авизироваться', 'авизировать'],\n",
       " ['авизирующемся', 'авизироваться', 'авизировать'],\n",
       " ['авизирующемуся', 'авизироваться', 'авизировать'],\n",
       " ['авизирующеюся', 'авизироваться', 'авизировать'],\n",
       " ['авизирующиеся', 'авизироваться', 'авизировать'],\n",
       " ['авизирующийся', 'авизироваться', 'авизировать'],\n",
       " ['авизирующимися', 'авизироваться', 'авизировать'],\n",
       " ['авизирующимся', 'авизироваться', 'авизировать'],\n",
       " ['авизирующихся', 'авизироваться', 'авизировать'],\n",
       " ['авизирующуюся', 'авизироваться', 'авизировать'],\n",
       " ['авизируясь', 'авизироваться', 'авизировать'],\n",
       " ['аврелии', 'аврелий', 'аврелия'],\n",
       " ['аврелий', 'аврелий', 'аврелия'],\n",
       " ['аврелию', 'аврелий', 'аврелия'],\n",
       " ['аврелиям', 'аврелий', 'аврелия'],\n",
       " ['аврелиями', 'аврелий', 'аврелия'],\n",
       " ['аврелиях', 'аврелий', 'аврелия'],\n",
       " ['аври', 'аврать', 'аври'],\n",
       " ['аврор', 'аврор', 'аврора'],\n",
       " ['аврорам', 'аврор', 'аврора'],\n",
       " ['аврорами', 'аврор', 'аврора'],\n",
       " ['аврорах', 'аврор', 'аврора'],\n",
       " ['авроре', 'аврор', 'аврора'],\n",
       " ['аврору', 'аврор', 'аврора'],\n",
       " ['авроры', 'аврор', 'аврора'],\n",
       " ['австро-венгрий', 'австро-венгрий', 'австро-венгрия'],\n",
       " ['автобиографичней', 'автобиографичня', 'автобиографичный'],\n",
       " ['автодоку', 'автодоку', 'автодок'],\n",
       " ['автозаводская', 'автозаводский', 'автозаводской'],\n",
       " ['автозаводских', 'автозаводский', 'автозаводской'],\n",
       " ['автозаводской', 'автозаводский', 'автозаводской'],\n",
       " ['автозаводском', 'автозаводский', 'автозаводской'],\n",
       " ['автозаводскому', 'автозаводский', 'автозаводской'],\n",
       " ['автозаводскую', 'автозаводский', 'автозаводской'],\n",
       " ['автозапчастей', 'автозапчасть', 'автозапчасти'],\n",
       " ['автозапчасти', 'автозапчасть', 'автозапчасти'],\n",
       " ['автозапчастям', 'автозапчасть', 'автозапчасти'],\n",
       " ['автозапчастями', 'автозапчасть', 'автозапчасти'],\n",
       " ['автозапчастях', 'автозапчасть', 'автозапчасти'],\n",
       " ['автокарами', 'автокар', 'автокара'],\n",
       " ['автокаре', 'автокар', 'автокара'],\n",
       " ['автоматизировавшегося', 'автоматизироваться', 'автоматизировать'],\n",
       " ['автоматизировавшееся', 'автоматизироваться', 'автоматизировать'],\n",
       " ['автоматизировавшейся', 'автоматизироваться', 'автоматизировать'],\n",
       " ['автоматизировавшеюся', 'автоматизироваться', 'автоматизировать'],\n",
       " ['автоматизировавшиеся', 'автоматизироваться', 'автоматизировать'],\n",
       " ['автоматизировавшийся', 'автоматизироваться', 'автоматизировать'],\n",
       " ['автоматизировавшимся', 'автоматизироваться', 'автоматизировать'],\n",
       " ['автоматизировавшись', 'автоматизироваться', 'автоматизировать'],\n",
       " ['автоматизировались', 'автоматизироваться', 'автоматизировать'],\n",
       " ['автоматизированная', 'автоматизированный', 'автоматизировать'],\n",
       " ['автоматизированнее', 'автоматизированный', 'автоматизировать'],\n",
       " ['автоматизированней', 'автоматизированный', 'автоматизировать'],\n",
       " ['автоматизированного', 'автоматизированный', 'автоматизировать'],\n",
       " ['автоматизированное', 'автоматизированный', 'автоматизировать'],\n",
       " ['автоматизированной', 'автоматизированный', 'автоматизировать'],\n",
       " ['автоматизированном', 'автоматизированный', 'автоматизировать'],\n",
       " ['автоматизированному', 'автоматизированный', 'автоматизировать'],\n",
       " ['автоматизированною', 'автоматизированный', 'автоматизировать'],\n",
       " ['автоматизированную', 'автоматизированный', 'автоматизировать'],\n",
       " ['автоматизированные', 'автоматизированный', 'автоматизировать'],\n",
       " ['автоматизированный', 'автоматизированный', 'автоматизировать'],\n",
       " ['автоматизированным', 'автоматизированный', 'автоматизировать'],\n",
       " ['автоматизированными', 'автоматизированный', 'автоматизировать'],\n",
       " ['автоматизированных', 'автоматизированный', 'автоматизировать'],\n",
       " ['автоматизироваться', 'автоматизироваться', 'автоматизировать'],\n",
       " ['автоматизируемее', 'автоматизируемый', 'автоматизировать'],\n",
       " ['автоматизируемей', 'автоматизируемый', 'автоматизировать'],\n",
       " ['автоматизируемся', 'автоматизироваться', 'автоматизировать'],\n",
       " ['автоматизируйся', 'автоматизироваться', 'автоматизировать'],\n",
       " ['автоматизируюсь', 'автоматизироваться', 'автоматизировать'],\n",
       " ['автоматизирующаяся', 'автоматизироваться', 'автоматизировать'],\n",
       " ['автоматизирующееся', 'автоматизироваться', 'автоматизировать'],\n",
       " ['автоматизирующейся', 'автоматизироваться', 'автоматизировать'],\n",
       " ['автоматизирующемуся', 'автоматизироваться', 'автоматизировать'],\n",
       " ['автоматизирующиеся', 'автоматизироваться', 'автоматизировать'],\n",
       " ['автоматизирующихся', 'автоматизироваться', 'автоматизировать'],\n",
       " ['автоматизирующуюся', 'автоматизироваться', 'автоматизировать'],\n",
       " ['автоматизируясь', 'автоматизироваться', 'автоматизировать'],\n",
       " ['автономно', 'автономно', 'автономный'],\n",
       " ['автоплатеж', 'автоплатёж', 'автоплатеж'],\n",
       " ['автоплатеже', 'автоплатёж', 'автоплатеж'],\n",
       " ['автоплатежей', 'автоплатёж', 'автоплатеж'],\n",
       " ['автоплатежу', 'автоплатёж', 'автоплатеж'],\n",
       " ['автоподъемник', 'автоподъёмник', 'автоподъемник'],\n",
       " ['автоподъемника', 'автоподъёмник', 'автоподъемник'],\n",
       " ['автоподъемникам', 'автоподъёмник', 'автоподъемник'],\n",
       " ['автоподъемниками', 'автоподъёмник', 'автоподъемник'],\n",
       " ['автоподъемниках', 'автоподъёмник', 'автоподъемник'],\n",
       " ['автоподъемнике', 'автоподъёмник', 'автоподъемник'],\n",
       " ['автоподъемники', 'автоподъёмник', 'автоподъемник'],\n",
       " ['автоподъемников', 'автоподъёмник', 'автоподъемник'],\n",
       " ['автоподъемником', 'автоподъёмник', 'автоподъемник'],\n",
       " ['автоподъемнику', 'автоподъёмник', 'автоподъемник'],\n",
       " ['автопромах', 'автопромах', 'автопром'],\n",
       " ['автопромов', 'автопромовый', 'автопром'],\n",
       " ['авторизовавшаяся', 'авторизоваться', 'авторизовать'],\n",
       " ['авторизовавшегося', 'авторизоваться', 'авторизовать'],\n",
       " ['авторизовавшееся', 'авторизоваться', 'авторизовать'],\n",
       " ['авторизовавшейся', 'авторизоваться', 'авторизовать'],\n",
       " ['авторизовавшемся', 'авторизоваться', 'авторизовать'],\n",
       " ['авторизовавшемуся', 'авторизоваться', 'авторизовать'],\n",
       " ['авторизовавшеюся', 'авторизоваться', 'авторизовать'],\n",
       " ['авторизовавшиеся', 'авторизоваться', 'авторизовать'],\n",
       " ['авторизовавшийся', 'авторизоваться', 'авторизовать'],\n",
       " ['авторизовавшимися', 'авторизоваться', 'авторизовать'],\n",
       " ['авторизовавшимся', 'авторизоваться', 'авторизовать'],\n",
       " ['авторизовавшись', 'авторизоваться', 'авторизовать'],\n",
       " ['авторизовавшихся', 'авторизоваться', 'авторизовать'],\n",
       " ['авторизовавшуюся', 'авторизоваться', 'авторизовать'],\n",
       " ['авторизовалась', 'авторизоваться', 'авторизовать'],\n",
       " ['авторизовались', 'авторизоваться', 'авторизовать'],\n",
       " ['авторизовалось', 'авторизоваться', 'авторизовать'],\n",
       " ['авторизовался', 'авторизоваться', 'авторизовать'],\n",
       " ['авторизованнее', 'авторизованный', 'авторизовать'],\n",
       " ['авторизованного', 'авторизовать', 'авторизованный'],\n",
       " ['авторизованной', 'авторизовать', 'авторизованный'],\n",
       " ['авторизованном', 'авторизовать', 'авторизованный'],\n",
       " ['авторизованную', 'авторизовать', 'авторизованный'],\n",
       " ['авторизоваться', 'авторизоваться', 'авторизовать'],\n",
       " ['авторизуемее', 'авторизуемый', 'авторизовать'],\n",
       " ['авторизуемей', 'авторизуемый', 'авторизовать'],\n",
       " ['авторизуемся', 'авторизоваться', 'авторизовать'],\n",
       " ['авторизуетесь', 'авторизоваться', 'авторизовать'],\n",
       " ['авторизуется', 'авторизоваться', 'авторизовать'],\n",
       " ['авторизуешься', 'авторизоваться', 'авторизовать'],\n",
       " ['авторизуйся', 'авторизоваться', 'авторизовать'],\n",
       " ['авторизуюсь', 'авторизоваться', 'авторизовать'],\n",
       " ['авторизуются', 'авторизоваться', 'авторизовать'],\n",
       " ['авторизующаяся', 'авторизоваться', 'авторизовать'],\n",
       " ['авторизующегося', 'авторизоваться', 'авторизовать'],\n",
       " ['авторизующееся', 'авторизоваться', 'авторизовать'],\n",
       " ['авторизующейся', 'авторизоваться', 'авторизовать'],\n",
       " ['авторизующемся', 'авторизоваться', 'авторизовать'],\n",
       " ['авторизующемуся', 'авторизоваться', 'авторизовать'],\n",
       " ['авторизующеюся', 'авторизоваться', 'авторизовать'],\n",
       " ['авторизующиеся', 'авторизоваться', 'авторизовать'],\n",
       " ['авторизующийся', 'авторизоваться', 'авторизовать'],\n",
       " ['авторизующимися', 'авторизоваться', 'авторизовать'],\n",
       " ['авторизующимся', 'авторизоваться', 'авторизовать'],\n",
       " ['авторизующихся', 'авторизоваться', 'авторизовать'],\n",
       " ['авторизующуюся', 'авторизоваться', 'авторизовать'],\n",
       " ['авторизуясь', 'авторизоваться', 'авторизовать'],\n",
       " ['авторитетно', 'авторитетно', 'авторитетный'],\n",
       " ['авторскими', 'авторский', 'авторские'],\n",
       " ['агам', 'агам', 'агама'],\n",
       " ['агамам', 'агам', 'агама'],\n",
       " ['агамами', 'агам', 'агама'],\n",
       " ['агамах', 'агам', 'агама'],\n",
       " ['агаме', 'агам', 'агама'],\n",
       " ['агами', 'агами', 'ага'],\n",
       " ['агаму', 'агам', 'агама'],\n",
       " ['агамы', 'агам', 'агама'],\n",
       " ['агат', 'агат', 'агата'],\n",
       " ['агата', 'агата', 'агат'],\n",
       " ['агатам', 'агат', 'агата'],\n",
       " ['агатами', 'агат', 'агата'],\n",
       " ['агатах', 'агат', 'агата'],\n",
       " ['агатов', 'агат', 'агатовый'],\n",
       " ['агаты', 'агат', 'агата'],\n",
       " ['агвали', 'агвалить', 'агвали'],\n",
       " ['аги', 'аги', 'ага'],\n",
       " ['агитировавшаяся', 'агитироваться', 'агитировать'],\n",
       " ['агитировавшегося', 'агитироваться', 'агитировать'],\n",
       " ['агитировавшееся', 'агитироваться', 'агитировать'],\n",
       " ['агитировавшейся', 'агитироваться', 'агитировать'],\n",
       " ['агитировавшемся', 'агитироваться', 'агитировать'],\n",
       " ['агитировавшемуся', 'агитироваться', 'агитировать'],\n",
       " ['агитировавшеюся', 'агитироваться', 'агитировать'],\n",
       " ['агитировавшиеся', 'агитироваться', 'агитировать'],\n",
       " ['агитировавшийся', 'агитироваться', 'агитировать'],\n",
       " ['агитировавшимися', 'агитироваться', 'агитировать'],\n",
       " ['агитировавшимся', 'агитироваться', 'агитировать'],\n",
       " ['агитировавшись', 'агитироваться', 'агитировать'],\n",
       " ['агитировавшихся', 'агитироваться', 'агитировать'],\n",
       " ['агитировавшуюся', 'агитироваться', 'агитировать'],\n",
       " ['агитировалась', 'агитироваться', 'агитировать'],\n",
       " ['агитировались', 'агитироваться', 'агитировать'],\n",
       " ['агитировалось', 'агитироваться', 'агитировать'],\n",
       " ['агитировался', 'агитироваться', 'агитировать'],\n",
       " ['агитированнее', 'агитированный', 'агитировать'],\n",
       " ['агитированней', 'агитированный', 'агитировать'],\n",
       " ['агитироваться', 'агитироваться', 'агитировать'],\n",
       " ['агитируемее', 'агитируемый', 'агитировать'],\n",
       " ['агитируемей', 'агитируемый', 'агитировать'],\n",
       " ['агитируемся', 'агитироваться', 'агитировать'],\n",
       " ['агитируетесь', 'агитироваться', 'агитировать'],\n",
       " ['агитируется', 'агитироваться', 'агитировать'],\n",
       " ['агитируешься', 'агитироваться', 'агитировать'],\n",
       " ['агитируйся', 'агитироваться', 'агитировать'],\n",
       " ['агитируюсь', 'агитироваться', 'агитировать'],\n",
       " ['агитируются', 'агитироваться', 'агитировать'],\n",
       " ['агитирующаяся', 'агитироваться', 'агитировать'],\n",
       " ['агитирующегося', 'агитироваться', 'агитировать'],\n",
       " ['агитирующееся', 'агитироваться', 'агитировать'],\n",
       " ['агитирующейся', 'агитироваться', 'агитировать'],\n",
       " ['агитирующемся', 'агитироваться', 'агитировать'],\n",
       " ['агитирующемуся', 'агитироваться', 'агитировать'],\n",
       " ['агитирующеюся', 'агитироваться', 'агитировать'],\n",
       " ['агитирующиеся', 'агитироваться', 'агитировать'],\n",
       " ['агитирующийся', 'агитироваться', 'агитировать'],\n",
       " ['агитирующимися', 'агитироваться', 'агитировать'],\n",
       " ['агитирующимся', 'агитироваться', 'агитировать'],\n",
       " ['агитирующихся', 'агитироваться', 'агитировать'],\n",
       " ['агитирующуюся', 'агитироваться', 'агитировать'],\n",
       " ['агитируясь', 'агитироваться', 'агитировать'],\n",
       " ['агломерировавшаяся', 'агломерировавшийся', 'агломерироваться'],\n",
       " ['агломерировавшегося', 'агломерировавшийся', 'агломерироваться'],\n",
       " ['агломерировавшееся', 'агломерировавшийся', 'агломерироваться'],\n",
       " ['агломерировавшейся', 'агломерировавшийся', 'агломерировать'],\n",
       " ['агломерировавшемся', 'агломерировавшийся', 'агломерировать'],\n",
       " ['агломерировавшемуся', 'агломерировавшийся', 'агломерироваться'],\n",
       " ['агломерировавшеюся', 'агломерировавшийся', 'агломерироваться'],\n",
       " ['агломерировавшиеся', 'агломерировавшийся', 'агломерировать'],\n",
       " ['агломерировавшийся', 'агломерировавшийся', 'агломерироваться'],\n",
       " ['агломерировавшимися', 'агломерировавшийся', 'агломерироваться'],\n",
       " ['агломерировавшимся', 'агломерировавшийся', 'агломерировать'],\n",
       " ['агломерировавшись', 'агломерироваться', 'агломерировать'],\n",
       " ['агломерировавшихся', 'агломерировавшийся', 'агломерироваться'],\n",
       " ['агломерировавшуюся', 'агломерировавшийся', 'агломерироваться'],\n",
       " ['агломерировалась', 'агломерироваться', 'агломерировать'],\n",
       " ['агломерировалось', 'агломерироваться', 'агломерировать'],\n",
       " ['агломерировался', 'агломерироваться', 'агломерировать'],\n",
       " ['агломерированнее', 'агломерированный', 'агломерировать'],\n",
       " ['агломерированней', 'агломерированный', 'агломерировать'],\n",
       " ['агломерироваться', 'агломерироваться', 'агломерировать'],\n",
       " ['агломерируемее', 'агломерируемый', 'агломерировать'],\n",
       " ['агломерируемей', 'агломерируемый', 'агломерировать'],\n",
       " ['агломерируемся', 'агломерироваться', 'агломерировать'],\n",
       " ['агломерируетесь', 'агломерируться', 'агломерировать'],\n",
       " ['агломерируется', 'агломерироваться', 'агломерировать'],\n",
       " ['агломерируешься', 'агломерируться', 'агломерироваться'],\n",
       " ['агломерируюсь', 'агломерироваться', 'агломерировать'],\n",
       " ['агломерирующаяся', 'агломерирующийся', 'агломерировать'],\n",
       " ['агломерирующегося', 'агломерирующийся', 'агломерироваться'],\n",
       " ['агломерирующееся', 'агломерирующийся', 'агломерировать'],\n",
       " ['агломерирующейся', 'агломерирующийся', 'агломерировать'],\n",
       " ['агломерирующемся', 'агломерирующийся', 'агломерировать'],\n",
       " ['агломерирующемуся', 'агломерирующийся', 'агломерироваться'],\n",
       " ['агломерирующеюся', 'агломерирующийся', 'агломерировать'],\n",
       " ['агломерирующиеся', 'агломерирующийся', 'агломерировать'],\n",
       " ['агломерирующийся', 'агломерирующийся', 'агломерировать'],\n",
       " ['агломерирующимися', 'агломерирующийся', 'агломерироваться'],\n",
       " ['агломерирующимся', 'агломерирующийся', 'агломерировать'],\n",
       " ['агломерирующихся', 'агломерирующийся', 'агломерировать'],\n",
       " ['агломерирующуюся', 'агломерирующийся', 'агломерироваться'],\n",
       " ['агломерируясь', 'агломерироваться', 'агломерировать'],\n",
       " ['агой', 'агой', 'ага'],\n",
       " ['аграмантов', 'аграмант', 'аграмантовый'],\n",
       " ['агрегировавшаяся', 'агрегировавшийся', 'агрегировать'],\n",
       " ['агрегировавшегося', 'агрегировавшийся', 'агрегировать'],\n",
       " ['агрегировавшееся', 'агрегировавшийся', 'агрегировать'],\n",
       " ['агрегировавшейся', 'агрегировавшийся', 'агрегировать'],\n",
       " ['агрегировавшемся', 'агрегировавшийся', 'агрегировать'],\n",
       " ['агрегировавшемуся', 'агрегировавшийся', 'агрегировать'],\n",
       " ['агрегировавшеюся', 'агрегировавшийся', 'агрегировать'],\n",
       " ['агрегировавшиеся', 'агрегировавшийся', 'агрегировать'],\n",
       " ['агрегировавшийся', 'агрегировавшийся', 'агрегировать'],\n",
       " ['агрегировавшимися', 'агрегировавшийся', 'агрегировать'],\n",
       " ['агрегировавшимся', 'агрегировавшийся', 'агрегировать'],\n",
       " ['агрегировавшись', 'агрегироваться', 'агрегировать'],\n",
       " ['агрегировавшихся', 'агрегировавшийся', 'агрегировать'],\n",
       " ['агрегировавшуюся', 'агрегировавшийся', 'агрегировать'],\n",
       " ['агрегировалась', 'агрегироваться', 'агрегировать'],\n",
       " ['агрегировались', 'агрегироваться', 'агрегировать'],\n",
       " ['агрегировалось', 'агрегироваться', 'агрегировать'],\n",
       " ['агрегировался', 'агрегироваться', 'агрегировать'],\n",
       " ['агрегированная', 'агрегированный', 'агрегировать'],\n",
       " ['агрегированнее', 'агрегированный', 'агрегировать'],\n",
       " ['агрегированней', 'агрегированный', 'агрегировать'],\n",
       " ['агрегированного', 'агрегированный', 'агрегировать'],\n",
       " ['агрегированное', 'агрегированный', 'агрегировать'],\n",
       " ['агрегированной', 'агрегированный', 'агрегировать'],\n",
       " ['агрегированном', 'агрегированный', 'агрегировать'],\n",
       " ['агрегированному', 'агрегированный', 'агрегировать'],\n",
       " ['агрегированною', 'агрегированный', 'агрегировать'],\n",
       " ['агрегированную', 'агрегированный', 'агрегировать'],\n",
       " ['агрегированные', 'агрегированный', 'агрегировать'],\n",
       " ['агрегированный', 'агрегированный', 'агрегировать'],\n",
       " ['агрегированным', 'агрегированный', 'агрегировать'],\n",
       " ['агрегированными', 'агрегированный', 'агрегировать'],\n",
       " ['агрегированных', 'агрегированный', 'агрегировать'],\n",
       " ['агрегироваться', 'агрегироваться', 'агрегировать'],\n",
       " ['агрегируемее', 'агрегируемый', 'агрегировать'],\n",
       " ['агрегируемей', 'агрегируемый', 'агрегировать'],\n",
       " ['агрегируемся', 'агрегироваться', 'агрегировать'],\n",
       " ['агрегируетесь', 'агрегируться', 'агрегировать'],\n",
       " ['агрегируется', 'агрегироваться', 'агрегировать'],\n",
       " ['агрегируешься', 'агрегируться', 'агрегировать'],\n",
       " ['агрегируйся', 'агрегироваться', 'агрегировать'],\n",
       " ['агрегируюсь', 'агрегироваться', 'агрегировать'],\n",
       " ['агрегируются', 'агрегироваться', 'агрегировать'],\n",
       " ['агрегирующаяся', 'агрегирующийся', 'агрегировать'],\n",
       " ['агрегирующегося', 'агрегирующийся', 'агрегировать'],\n",
       " ['агрегирующееся', 'агрегирующийся', 'агрегировать'],\n",
       " ['агрегирующейся', 'агрегирующийся', 'агрегировать'],\n",
       " ['агрегирующемся', 'агрегирующийся', 'агрегировать'],\n",
       " ['агрегирующемуся', 'агрегирующийся', 'агрегировать'],\n",
       " ['агрегирующеюся', 'агрегирующийся', 'агрегировать'],\n",
       " ['агрегирующиеся', 'агрегирующийся', 'агрегировать'],\n",
       " ['агрегирующийся', 'агрегирующийся', 'агрегировать'],\n",
       " ['агрегирующимися', 'агрегирующийся', 'агрегировать'],\n",
       " ['агрегирующимся', 'агрегирующийся', 'агрегировать'],\n",
       " ['агрегирующихся', 'агрегирующийся', 'агрегировать'],\n",
       " ['агрегирующуюся', 'агрегирующийся', 'агрегировать'],\n",
       " ['агрегируясь', 'агрегироваться', 'агрегировать'],\n",
       " ['агрессивно', 'агрессивно', 'агрессивный'],\n",
       " ['агротехник', 'агротехник', 'агротехника'],\n",
       " ['агротехниками', 'агротехник', 'агротехника'],\n",
       " ['агротехниках', 'агротехник', 'агротехника'],\n",
       " ['агротехники', 'агротехник', 'агротехника'],\n",
       " ['агротехнику', 'агротехник', 'агротехника'],\n",
       " ['агу', 'агу', 'ага'],\n",
       " ['агулов', 'агулов', 'агул'],\n",
       " ['ад', 'ада', 'ад'],\n",
       " ['адам', 'адам', 'ада'],\n",
       " ['адамантов', 'адамант', 'адамантовый'],\n",
       " ['адаптировавшаяся', 'адаптироваться', 'адаптировать'],\n",
       " ['адаптировавшегося', 'адаптироваться', 'адаптировать'],\n",
       " ['адаптировавшееся', 'адаптироваться', 'адаптировать'],\n",
       " ['адаптировавшейся', 'адаптироваться', 'адаптировать'],\n",
       " ['адаптировавшемся', 'адаптироваться', 'адаптировать'],\n",
       " ['адаптировавшемуся', 'адаптироваться', 'адаптировать'],\n",
       " ['адаптировавшеюся', 'адаптироваться', 'адаптировать'],\n",
       " ['адаптировавшиеся', 'адаптироваться', 'адаптировать'],\n",
       " ['адаптировавшийся', 'адаптироваться', 'адаптировать'],\n",
       " ['адаптировавшимися', 'адаптироваться', 'адаптировать'],\n",
       " ['адаптировавшимся', 'адаптироваться', 'адаптировать'],\n",
       " ['адаптировавшись', 'адаптироваться', 'адаптировать'],\n",
       " ['адаптировавшихся', 'адаптироваться', 'адаптировать'],\n",
       " ['адаптировавшуюся', 'адаптироваться', 'адаптировать'],\n",
       " ['адаптировалась', 'адаптироваться', 'адаптировать'],\n",
       " ['адаптировались', 'адаптироваться', 'адаптировать'],\n",
       " ['адаптировалось', 'адаптироваться', 'адаптировать'],\n",
       " ['адаптировался', 'адаптироваться', 'адаптировать'],\n",
       " ['адаптирован', 'адаптировать', 'адаптированный'],\n",
       " ['адаптированную', 'адаптировать', 'адаптированный'],\n",
       " ['адаптированные', 'адаптировать', 'адаптированный'],\n",
       " ['адаптированный', 'адаптировать', 'адаптированный'],\n",
       " ['адаптироваться', 'адаптироваться', 'адаптировать'],\n",
       " ['адаптируемее', 'адаптируемый', 'адаптировать'],\n",
       " ['адаптируемей', 'адаптируемый', 'адаптировать'],\n",
       " ['адаптируемся', 'адаптироваться', 'адаптировать'],\n",
       " ['адаптируетесь', 'адаптироваться', 'адаптировать'],\n",
       " ['адаптируется', 'адаптироваться', 'адаптировать'],\n",
       " ['адаптируешься', 'адаптироваться', 'адаптировать'],\n",
       " ['адаптируйся', 'адаптироваться', 'адаптировать'],\n",
       " ['адаптируюсь', 'адаптироваться', 'адаптировать'],\n",
       " ['адаптируются', 'адаптироваться', 'адаптировать'],\n",
       " ['адаптирующаяся', 'адаптироваться', 'адаптировать'],\n",
       " ['адаптирующегося', 'адаптироваться', 'адаптировать'],\n",
       " ['адаптирующееся', 'адаптироваться', 'адаптировать'],\n",
       " ['адаптирующейся', 'адаптироваться', 'адаптировать'],\n",
       " ['адаптирующемся', 'адаптироваться', 'адаптировать'],\n",
       " ['адаптирующемуся', 'адаптироваться', 'адаптировать'],\n",
       " ['адаптирующеюся', 'адаптироваться', 'адаптировать'],\n",
       " ['адаптирующиеся', 'адаптироваться', 'адаптировать'],\n",
       " ['адаптирующийся', 'адаптироваться', 'адаптировать'],\n",
       " ['адаптирующимися', 'адаптироваться', 'адаптировать'],\n",
       " ['адаптирующимся', 'адаптироваться', 'адаптировать'],\n",
       " ['адаптирующихся', 'адаптироваться', 'адаптировать'],\n",
       " ['адаптирующуюся', 'адаптироваться', 'адаптировать'],\n",
       " ['адаптируясь', 'адаптироваться', 'адаптировать'],\n",
       " ['адекватно', 'адекватно', 'адекватный'],\n",
       " ['аделин', 'аделин', 'аделина'],\n",
       " ['аделине', 'аделин', 'аделина'],\n",
       " ['аделиной', 'аделин', 'аделина'],\n",
       " ['аделину', 'аделин', 'аделина'],\n",
       " ['аделины', 'аделин', 'аделина'],\n",
       " ['аденом', 'аден', 'аденома'],\n",
       " ['аджариям', 'аджариям', 'аджария'],\n",
       " ['административно', 'административно', 'административный'],\n",
       " ['адоптировавшаяся', 'адоптироваться', 'адоптировать'],\n",
       " ['адоптировавшегося', 'адоптироваться', 'адоптировать'],\n",
       " ['адоптировавшееся', 'адоптироваться', 'адоптировать'],\n",
       " ['адоптировавшейся', 'адоптироваться', 'адоптировать'],\n",
       " ['адоптировавшемся', 'адоптироваться', 'адоптировать'],\n",
       " ['адоптировавшемуся', 'адоптироваться', 'адоптировать'],\n",
       " ['адоптировавшеюся', 'адоптироваться', 'адоптировать'],\n",
       " ['адоптировавшиеся', 'адоптироваться', 'адоптировать'],\n",
       " ['адоптировавшийся', 'адоптироваться', 'адоптировать'],\n",
       " ['адоптировавшимися', 'адоптироваться', 'адоптировать'],\n",
       " ['адоптировавшимся', 'адоптироваться', 'адоптировать'],\n",
       " ['адоптировавшись', 'адоптироваться', 'адоптировать'],\n",
       " ['адоптировавшихся', 'адоптироваться', 'адоптировать'],\n",
       " ['адоптировавшуюся', 'адоптироваться', 'адоптировать'],\n",
       " ['адоптировалась', 'адоптироваться', 'адоптировать'],\n",
       " ['адоптировались', 'адоптироваться', 'адоптировать'],\n",
       " ['адоптировалось', 'адоптироваться', 'адоптировать'],\n",
       " ['адоптировался', 'адоптироваться', 'адоптировать'],\n",
       " ['адоптированнее', 'адоптированный', 'адоптировать'],\n",
       " ['адоптированней', 'адоптированный', 'адоптировать'],\n",
       " ['адоптироваться', 'адоптироваться', 'адоптировать'],\n",
       " ['адоптируемее', 'адоптируемый', 'адоптировать'],\n",
       " ['адоптируемей', 'адоптируемый', 'адоптировать'],\n",
       " ['адоптируемся', 'адоптироваться', 'адоптировать'],\n",
       " ['адоптируетесь', 'адоптироваться', 'адоптировать'],\n",
       " ['адоптируется', 'адоптироваться', 'адоптировать'],\n",
       " ['адоптируешься', 'адоптироваться', 'адоптировать'],\n",
       " ['адоптируйся', 'адоптироваться', 'адоптировать'],\n",
       " ['адоптируюсь', 'адоптироваться', 'адоптировать'],\n",
       " ['адоптируются', 'адоптироваться', 'адоптировать'],\n",
       " ['адоптирующаяся', 'адоптироваться', 'адоптировать'],\n",
       " ['адоптирующегося', 'адоптироваться', 'адоптировать'],\n",
       " ['адоптирующееся', 'адоптироваться', 'адоптировать'],\n",
       " ['адоптирующейся', 'адоптироваться', 'адоптировать'],\n",
       " ['адоптирующемся', 'адоптироваться', 'адоптировать'],\n",
       " ['адоптирующемуся', 'адоптироваться', 'адоптировать'],\n",
       " ['адоптирующеюся', 'адоптироваться', 'адоптировать'],\n",
       " ['адоптирующиеся', 'адоптироваться', 'адоптировать'],\n",
       " ['адоптирующийся', 'адоптироваться', 'адоптировать'],\n",
       " ['адоптирующимися', 'адоптироваться', 'адоптировать'],\n",
       " ['адоптирующимся', 'адоптироваться', 'адоптировать'],\n",
       " ['адоптирующихся', 'адоптироваться', 'адоптировать'],\n",
       " ['адоптирующуюся', 'адоптироваться', 'адоптировать'],\n",
       " ['адоптируясь', 'адоптироваться', 'адоптировать'],\n",
       " ['адресовавшаяся', 'адресоваться', 'адресовать'],\n",
       " ['адресовавшегося', 'адресоваться', 'адресовать'],\n",
       " ['адресовавшемуся', 'адресоваться', 'адресовать'],\n",
       " ['адресовавшийся', 'адресоваться', 'адресовать'],\n",
       " ['адресовавшимися', 'адресоваться', 'адресовать'],\n",
       " ['адресовались', 'адресоваться', 'адресовать'],\n",
       " ['адресовалось', 'адресоваться', 'адресовать'],\n",
       " ['адресованнее', 'адресованный', 'адресовать'],\n",
       " ['адресованней', 'адресованный', 'адресовать'],\n",
       " ['адресоваться', 'адресоваться', 'адресовать'],\n",
       " ['адресуемее', 'адресуемый', 'адресовать'],\n",
       " ['адресуемей', 'адресуемый', 'адресовать'],\n",
       " ['адресуемся', 'адресоваться', 'адресовать'],\n",
       " ['адресующаяся', 'адресоваться', 'адресовать'],\n",
       " ['адресующейся', 'адресоваться', 'адресовать'],\n",
       " ['адресующемся', 'адресоваться', 'адресовать'],\n",
       " ['адресующеюся', 'адресоваться', 'адресовать'],\n",
       " ['адресующийся', 'адресоваться', 'адресовать'],\n",
       " ['адресующимся', 'адресоваться', 'адресовать'],\n",
       " ['адресующихся', 'адресоваться', 'адресовать'],\n",
       " ['адресующуюся', 'адресоваться', 'адресовать'],\n",
       " ['адриановен', 'адриано', 'адриан'],\n",
       " ['адрианович', 'адриано', 'адриан'],\n",
       " ['адриановича', 'адриано', 'адриан'],\n",
       " ['адриановичам', 'адриано', 'адриан'],\n",
       " ['адриановичами', 'адриано', 'адриан'],\n",
       " ['адриановичах', 'адриано', 'адриан'],\n",
       " ['адриановиче', 'адриано', 'адриан'],\n",
       " ['адриановичей', 'адриано', 'адриан'],\n",
       " ['адриановичем', 'адриано', 'адриан'],\n",
       " ['адриановичи', 'адриано', 'адриан'],\n",
       " ['адриановичу', 'адриано', 'адриан'],\n",
       " ['адриановна', 'адриано', 'адриан'],\n",
       " ['адриановнам', 'адриано', 'адриан'],\n",
       " ['адриановнами', 'адриано', 'адриан'],\n",
       " ['адриановнах', 'адриано', 'адриан'],\n",
       " ['адриановне', 'адриано', 'адриан'],\n",
       " ['адриановной', 'адриано', 'адриан'],\n",
       " ['адриановну', 'адриано', 'адриан'],\n",
       " ['адриановны', 'адриано', 'адриан'],\n",
       " ['адрианы', 'адриана', 'адриан'],\n",
       " ['адсорбировавшаяся', 'адсорбироваться', 'адсорбировать'],\n",
       " ['адсорбировавшегося', 'адсорбироваться', 'адсорбировать'],\n",
       " ['адсорбировавшееся', 'адсорбироваться', 'адсорбировать'],\n",
       " ['адсорбировавшейся', 'адсорбироваться', 'адсорбировать'],\n",
       " ['адсорбировавшемся', 'адсорбироваться', 'адсорбировать'],\n",
       " ['адсорбировавшемуся', 'адсорбироваться', 'адсорбировать'],\n",
       " ['адсорбировавшеюся', 'адсорбироваться', 'адсорбировать'],\n",
       " ['адсорбировавшиеся', 'адсорбироваться', 'адсорбировать'],\n",
       " ['адсорбировавшийся', 'адсорбироваться', 'адсорбировать'],\n",
       " ['адсорбировавшимися', 'адсорбироваться', 'адсорбировать'],\n",
       " ['адсорбировавшимся', 'адсорбироваться', 'адсорбировать'],\n",
       " ['адсорбировавшись', 'адсорбироваться', 'адсорбировать'],\n",
       " ['адсорбировавшихся', 'адсорбироваться', 'адсорбировать'],\n",
       " ['адсорбировавшуюся', 'адсорбироваться', 'адсорбировать'],\n",
       " ['адсорбировалась', 'адсорбироваться', 'адсорбировать'],\n",
       " ['адсорбировались', 'адсорбироваться', 'адсорбировать'],\n",
       " ['адсорбировалось', 'адсорбироваться', 'адсорбировать'],\n",
       " ['адсорбировался', 'адсорбироваться', 'адсорбировать'],\n",
       " ['адсорбированнее', 'адсорбированный', 'адсорбировать'],\n",
       " ['адсорбированней', 'адсорбированный', 'адсорбировать'],\n",
       " ['адсорбироваться', 'адсорбироваться', 'адсорбировать'],\n",
       " ['адсорбируемее', 'адсорбируемый', 'адсорбировать'],\n",
       " ['адсорбируемей', 'адсорбируемый', 'адсорбировать'],\n",
       " ['адсорбируемся', 'адсорбироваться', 'адсорбировать'],\n",
       " ['адсорбируетесь', 'адсорбироваться', 'адсорбировать'],\n",
       " ['адсорбируется', 'адсорбироваться', 'адсорбировать'],\n",
       " ['адсорбируешься', 'адсорбироваться', 'адсорбировать'],\n",
       " ['адсорбируйся', 'адсорбироваться', 'адсорбировать'],\n",
       " ['адсорбируюсь', 'адсорбироваться', 'адсорбировать'],\n",
       " ['адсорбируются', 'адсорбироваться', 'адсорбировать'],\n",
       " ['адсорбирующаяся', 'адсорбироваться', 'адсорбировать'],\n",
       " ['адсорбирующегося', 'адсорбироваться', 'адсорбировать'],\n",
       " ['адсорбирующееся', 'адсорбироваться', 'адсорбировать'],\n",
       " ['адсорбирующейся', 'адсорбироваться', 'адсорбировать'],\n",
       " ['адсорбирующемся', 'адсорбироваться', 'адсорбировать'],\n",
       " ['адсорбирующемуся', 'адсорбироваться', 'адсорбировать'],\n",
       " ['адсорбирующеюся', 'адсорбироваться', 'адсорбировать'],\n",
       " ['адсорбирующиеся', 'адсорбироваться', 'адсорбировать'],\n",
       " ['адсорбирующийся', 'адсорбироваться', 'адсорбировать'],\n",
       " ['адсорбирующимися', 'адсорбироваться', 'адсорбировать'],\n",
       " ['адсорбирующимся', 'адсорбироваться', 'адсорбировать'],\n",
       " ['адсорбирующихся', 'адсорбироваться', 'адсорбировать'],\n",
       " ['адсорбирующуюся', 'адсорбироваться', 'адсорбировать'],\n",
       " ['адсорбируясь', 'адсорбироваться', 'адсорбировать'],\n",
       " ['аду', 'аду', 'ада'],\n",
       " ['ады', 'ады', 'ада'],\n",
       " ['ае', 'ая', 'ай'],\n",
       " ['аев', 'аев', 'ай'],\n",
       " ['аем', 'аем', 'ай'],\n",
       " ['ажурно', 'ажурно', 'ажурный'],\n",
       " ['ажюстировавшаяся', 'ажюстироваться', 'ажюстировать'],\n",
       " ['ажюстировавшегося', 'ажюстироваться', 'ажюстировать'],\n",
       " ['ажюстировавшееся', 'ажюстироваться', 'ажюстировать'],\n",
       " ['ажюстировавшейся', 'ажюстироваться', 'ажюстировать'],\n",
       " ['ажюстировавшемся', 'ажюстироваться', 'ажюстировать'],\n",
       " ['ажюстировавшемуся', 'ажюстироваться', 'ажюстировать'],\n",
       " ['ажюстировавшеюся', 'ажюстироваться', 'ажюстировать'],\n",
       " ['ажюстировавшиеся', 'ажюстироваться', 'ажюстировать'],\n",
       " ['ажюстировавшийся', 'ажюстироваться', 'ажюстировать'],\n",
       " ['ажюстировавшимися', 'ажюстироваться', 'ажюстировать'],\n",
       " ['ажюстировавшимся', 'ажюстироваться', 'ажюстировать'],\n",
       " ['ажюстировавшись', 'ажюстироваться', 'ажюстировать'],\n",
       " ['ажюстировавшихся', 'ажюстироваться', 'ажюстировать'],\n",
       " ['ажюстировавшуюся', 'ажюстироваться', 'ажюстировать'],\n",
       " ['ажюстировалась', 'ажюстироваться', 'ажюстировать'],\n",
       " ['ажюстировались', 'ажюстироваться', 'ажюстировать'],\n",
       " ['ажюстировалось', 'ажюстироваться', 'ажюстировать'],\n",
       " ['ажюстировался', 'ажюстироваться', 'ажюстировать'],\n",
       " ['ажюстированнее', 'ажюстированный', 'ажюстировать'],\n",
       " ['ажюстированней', 'ажюстированный', 'ажюстировать'],\n",
       " ['ажюстироваться', 'ажюстироваться', 'ажюстировать'],\n",
       " ['ажюстируемее', 'ажюстируемый', 'ажюстировать'],\n",
       " ['ажюстируемей', 'ажюстируемый', 'ажюстировать'],\n",
       " ['ажюстируемся', 'ажюстироваться', 'ажюстировать'],\n",
       " ['ажюстируетесь', 'ажюстироваться', 'ажюстировать'],\n",
       " ['ажюстируется', 'ажюстироваться', 'ажюстировать'],\n",
       " ['ажюстируешься', 'ажюстироваться', 'ажюстировать'],\n",
       " ['ажюстируйся', 'ажюстироваться', 'ажюстировать'],\n",
       " ['ажюстируюсь', 'ажюстироваться', 'ажюстировать'],\n",
       " ['ажюстируются', 'ажюстироваться', 'ажюстировать'],\n",
       " ['ажюстирующаяся', 'ажюстироваться', 'ажюстировать'],\n",
       " ['ажюстирующегося', 'ажюстироваться', 'ажюстировать'],\n",
       " ['ажюстирующееся', 'ажюстироваться', 'ажюстировать'],\n",
       " ['ажюстирующейся', 'ажюстироваться', 'ажюстировать'],\n",
       " ['ажюстирующемся', 'ажюстироваться', 'ажюстировать'],\n",
       " ['ажюстирующемуся', 'ажюстироваться', 'ажюстировать'],\n",
       " ['ажюстирующеюся', 'ажюстироваться', 'ажюстировать'],\n",
       " ['ажюстирующиеся', 'ажюстироваться', 'ажюстировать'],\n",
       " ['ажюстирующийся', 'ажюстироваться', 'ажюстировать'],\n",
       " ['ажюстирующимися', 'ажюстироваться', 'ажюстировать'],\n",
       " ['ажюстирующимся', 'ажюстироваться', 'ажюстировать'],\n",
       " ['ажюстирующихся', 'ажюстироваться', 'ажюстировать'],\n",
       " ['ажюстирующуюся', 'ажюстироваться', 'ажюстировать'],\n",
       " ['ажюстируясь', 'ажюстироваться', 'ажюстировать'],\n",
       " ['азам', 'азам', 'аз'],\n",
       " ['азартно', 'азартно', 'азартный'],\n",
       " ['азах', 'аз', 'азы'],\n",
       " ['азе', 'азе', 'аз'],\n",
       " ['азов', 'азов', 'азы'],\n",
       " ['азотировавшаяся', 'азотироваться', 'азотировать'],\n",
       " ['азотировавшегося', 'азотироваться', 'азотировать'],\n",
       " ['азотировавшееся', 'азотироваться', 'азотировать'],\n",
       " ['азотировавшейся', 'азотироваться', 'азотировать'],\n",
       " ['азотировавшемся', 'азотироваться', 'азотировать'],\n",
       " ['азотировавшемуся', 'азотироваться', 'азотировать'],\n",
       " ['азотировавшеюся', 'азотироваться', 'азотировать'],\n",
       " ['азотировавшиеся', 'азотироваться', 'азотировать'],\n",
       " ['азотировавшийся', 'азотироваться', 'азотировать'],\n",
       " ['азотировавшимися', 'азотироваться', 'азотировать'],\n",
       " ['азотировавшимся', 'азотироваться', 'азотировать'],\n",
       " ['азотировавшись', 'азотироваться', 'азотировать'],\n",
       " ['азотировавшихся', 'азотироваться', 'азотировать'],\n",
       " ['азотировавшуюся', 'азотироваться', 'азотировать'],\n",
       " ['азотировалась', 'азотироваться', 'азотировать'],\n",
       " ['азотировались', 'азотироваться', 'азотировать'],\n",
       " ['азотировалось', 'азотироваться', 'азотировать'],\n",
       " ['азотировался', 'азотироваться', 'азотировать'],\n",
       " ['азотированнее', 'азотированный', 'азотировать'],\n",
       " ['азотированней', 'азотированный', 'азотировать'],\n",
       " ['азотироваться', 'азотироваться', 'азотировать'],\n",
       " ['азотируемее', 'азотируемый', 'азотировать'],\n",
       " ['азотируемей', 'азотируемый', 'азотировать'],\n",
       " ['азотируемся', 'азотироваться', 'азотировать'],\n",
       " ['азотируетесь', 'азотироваться', 'азотировать'],\n",
       " ['азотируется', 'азотироваться', 'азотировать']]"
      ]
     },
     "execution_count": 63,
     "metadata": {},
     "output_type": "execute_result"
    }
   ],
   "source": [
    "wrong_pymorphy[:1000]"
   ]
  },
  {
   "cell_type": "code",
   "execution_count": null,
   "metadata": {},
   "outputs": [],
   "source": []
  },
  {
   "cell_type": "code",
   "execution_count": 40,
   "metadata": {},
   "outputs": [
    {
     "data": {
      "application/vnd.jupyter.widget-view+json": {
       "model_id": "f8a7d31b7db54b33b7c58bda04b6ad3d",
       "version_major": 2,
       "version_minor": 0
      },
      "text/plain": [
       "HBox(children=(IntProgress(value=0, max=797094), HTML(value='')))"
      ]
     },
     "metadata": {},
     "output_type": "display_data"
    },
    {
     "data": {
      "application/vnd.jupyter.widget-view+json": {
       "model_id": "5bf8f24f2b8041fbb6b3597bc6c0dbfb",
       "version_major": 2,
       "version_minor": 0
      },
      "text/plain": [
       "HBox(children=(IntProgress(value=0, max=797094), HTML(value='')))"
      ]
     },
     "metadata": {},
     "output_type": "display_data"
    }
   ],
   "source": [
    "X_test_pm=[decode_vec(v) for v in tqdm_notebook(X_test)]\n",
    "y_test_pm=[decode_vec(v) for v in tqdm_notebook(y_test)]"
   ]
  },
  {
   "cell_type": "code",
   "execution_count": 41,
   "metadata": {},
   "outputs": [
    {
     "data": {
      "application/vnd.jupyter.widget-view+json": {
       "model_id": "058a8fce71e143ae84cf5a204b408a70",
       "version_major": 2,
       "version_minor": 0
      },
      "text/plain": [
       "HBox(children=(IntProgress(value=0, max=797094), HTML(value='')))"
      ]
     },
     "metadata": {},
     "output_type": "display_data"
    }
   ],
   "source": [
    "test2=[compare(w1,w2) for w1, w2 in zip(X_test_pm,tqdm_notebook(y_test_pm))]"
   ]
  },
  {
   "cell_type": "code",
   "execution_count": 42,
   "metadata": {},
   "outputs": [
    {
     "data": {
      "text/plain": [
       "0.7644129801503963"
      ]
     },
     "execution_count": 42,
     "metadata": {},
     "output_type": "execute_result"
    }
   ],
   "source": [
    "sum(test2)/len(test2)"
   ]
  },
  {
   "cell_type": "code",
   "execution_count": null,
   "metadata": {},
   "outputs": [],
   "source": []
  },
  {
   "cell_type": "markdown",
   "metadata": {},
   "source": [
    "## Mystem"
   ]
  },
  {
   "cell_type": "code",
   "execution_count": 44,
   "metadata": {},
   "outputs": [
    {
     "data": {
      "text/html": [
       "<div>\n",
       "<style scoped>\n",
       "    .dataframe tbody tr th:only-of-type {\n",
       "        vertical-align: middle;\n",
       "    }\n",
       "\n",
       "    .dataframe tbody tr th {\n",
       "        vertical-align: top;\n",
       "    }\n",
       "\n",
       "    .dataframe thead th {\n",
       "        text-align: right;\n",
       "    }\n",
       "</style>\n",
       "<table border=\"1\" class=\"dataframe\">\n",
       "  <thead>\n",
       "    <tr style=\"text-align: right;\">\n",
       "      <th></th>\n",
       "      <th>0</th>\n",
       "    </tr>\n",
       "  </thead>\n",
       "  <tbody>\n",
       "    <tr>\n",
       "      <th>0</th>\n",
       "      <td>а</td>\n",
       "    </tr>\n",
       "    <tr>\n",
       "      <th>1</th>\n",
       "      <td>а-конто</td>\n",
       "    </tr>\n",
       "    <tr>\n",
       "      <th>2</th>\n",
       "      <td>ааре</td>\n",
       "    </tr>\n",
       "    <tr>\n",
       "      <th>3</th>\n",
       "      <td>аароновщина</td>\n",
       "    </tr>\n",
       "    <tr>\n",
       "      <th>4</th>\n",
       "      <td>аароновщина</td>\n",
       "    </tr>\n",
       "  </tbody>\n",
       "</table>\n",
       "</div>"
      ],
      "text/plain": [
       "             0\n",
       "0            а\n",
       "1      а-конто\n",
       "2         ааре\n",
       "3  аароновщина\n",
       "4  аароновщина"
      ]
     },
     "execution_count": 44,
     "metadata": {},
     "output_type": "execute_result"
    }
   ],
   "source": [
    "#load mystemmed on tesla\n",
    "mystemmed_ds=pd.read_csv('mystemmed_concat.csv')\n",
    "mystemmed_ds.head()"
   ]
  },
  {
   "cell_type": "code",
   "execution_count": 45,
   "metadata": {},
   "outputs": [
    {
     "data": {
      "text/plain": [
       "(2415435, 1)"
      ]
     },
     "execution_count": 45,
     "metadata": {},
     "output_type": "execute_result"
    }
   ],
   "source": [
    "mystemmed_ds.shape"
   ]
  },
  {
   "cell_type": "code",
   "execution_count": 46,
   "metadata": {},
   "outputs": [
    {
     "data": {
      "text/plain": [
       "0                    а\n",
       "1              а-конто\n",
       "2                 ааре\n",
       "3          аароновщина\n",
       "4          аароновщина\n",
       "5          аароновщина\n",
       "6          аароновщина\n",
       "7          аароновщина\n",
       "8          аароновщина\n",
       "9          аароновщина\n",
       "10         аароновщина\n",
       "11               аахен\n",
       "12               аахен\n",
       "13               аахен\n",
       "14               аахен\n",
       "15               аахен\n",
       "16              аахена\n",
       "17               аахен\n",
       "18               аахен\n",
       "19              аахена\n",
       "20              аахена\n",
       "21              абадан\n",
       "22              абадан\n",
       "23              абадан\n",
       "24              абадан\n",
       "25              абадан\n",
       "26              абадан\n",
       "27              абадан\n",
       "28              абадан\n",
       "29              абадан\n",
       "              ...     \n",
       "2415405    ярославский\n",
       "2415406     ярославцев\n",
       "2415407        яростно\n",
       "2415408        яростно\n",
       "2415409        яростно\n",
       "2415410        яростно\n",
       "2415411         ярыжка\n",
       "2415412           ярык\n",
       "2415413           ясел\n",
       "2415414         яселек\n",
       "2415415     ясеневский\n",
       "2415416        ясколка\n",
       "2415417      ясновидец\n",
       "2415418      ясноликий\n",
       "2415419      ясноликий\n",
       "2415420        яснотка\n",
       "2415421          ясный\n",
       "2415422     ясторфский\n",
       "2415423     ястребинка\n",
       "2415424     ястребочка\n",
       "2415425           ятка\n",
       "2415426           ятка\n",
       "2415427           ятка\n",
       "2415428           ятка\n",
       "2415429           ятка\n",
       "2415430      ятрибский\n",
       "2415431        яузский\n",
       "2415432        яхтклуб\n",
       "2415433           ежик\n",
       "2415434           елка\n",
       "Name: 0, Length: 2415435, dtype: object"
      ]
     },
     "execution_count": 46,
     "metadata": {},
     "output_type": "execute_result"
    }
   ],
   "source": [
    "mystemmed_ds['0']"
   ]
  },
  {
   "cell_type": "code",
   "execution_count": 47,
   "metadata": {},
   "outputs": [
    {
     "data": {
      "application/vnd.jupyter.widget-view+json": {
       "model_id": "080da2aa70494bdb8aaae74d993cf6e4",
       "version_major": 2,
       "version_minor": 0
      },
      "text/plain": [
       "HBox(children=(IntProgress(value=0, max=2415435), HTML(value='')))"
      ]
     },
     "metadata": {},
     "output_type": "display_data"
    }
   ],
   "source": [
    "test2=[w1==w2 for w1, w2 in zip(mystemmed_ds['0'],tqdm_notebook(Y_lex))]"
   ]
  },
  {
   "cell_type": "code",
   "execution_count": 48,
   "metadata": {},
   "outputs": [
    {
     "data": {
      "text/plain": [
       "0.6527867651168423"
      ]
     },
     "execution_count": 48,
     "metadata": {},
     "output_type": "execute_result"
    }
   ],
   "source": [
    "sum(test2)/len(test2)"
   ]
  },
  {
   "cell_type": "code",
   "execution_count": 49,
   "metadata": {},
   "outputs": [],
   "source": [
    "mystemmed_list=list(mystemmed_ds['0'])"
   ]
  },
  {
   "cell_type": "code",
   "execution_count": 51,
   "metadata": {},
   "outputs": [
    {
     "data": {
      "text/plain": [
       "'абаевна'"
      ]
     },
     "execution_count": 51,
     "metadata": {},
     "output_type": "execute_result"
    }
   ],
   "source": [
    "mystemmed_list[32]"
   ]
  },
  {
   "cell_type": "code",
   "execution_count": 57,
   "metadata": {},
   "outputs": [
    {
     "data": {
      "application/vnd.jupyter.widget-view+json": {
       "model_id": "0ad6d62d1bfa48ffacd7a9d5a6aec630",
       "version_major": 2,
       "version_minor": 0
      },
      "text/plain": [
       "HBox(children=(IntProgress(value=0, max=2337988), HTML(value='')))"
      ]
     },
     "metadata": {},
     "output_type": "display_data"
    }
   ],
   "source": [
    "wrong_mystem=[[X_lex.iloc[i],mystemmed_list[i],Y_lex.iloc[i]] for i in tqdm_notebook(range(len(test2))) if test2[i]==False]"
   ]
  },
  {
   "cell_type": "code",
   "execution_count": 58,
   "metadata": {},
   "outputs": [
    {
     "data": {
      "text/plain": [
       "821080"
      ]
     },
     "execution_count": 58,
     "metadata": {},
     "output_type": "execute_result"
    }
   ],
   "source": [
    "len(wrong_mystem)"
   ]
  },
  {
   "cell_type": "code",
   "execution_count": 60,
   "metadata": {
    "scrolled": true
   },
   "outputs": [
    {
     "data": {
      "text/plain": [
       "[['аахене', 'аахена', 'аахен'],\n",
       " ['аахену', 'аахена', 'аахен'],\n",
       " ['аахены', 'аахена', 'аахен'],\n",
       " ['абаевен', 'абаевна', 'абай'],\n",
       " ['абаевич', 'абаевич', 'абай'],\n",
       " ['абаевича', 'абаевич', 'абай'],\n",
       " ['абаевичам', 'абаевич', 'абай'],\n",
       " ['абаевичами', 'абаевич', 'абай'],\n",
       " ['абаевичах', 'абаевич', 'абай'],\n",
       " ['абаевиче', 'абаевич', 'абай'],\n",
       " ['абаевичей', 'абаевич', 'абай'],\n",
       " ['абаевичем', 'абаевич', 'абай'],\n",
       " ['абаевичи', 'абаевич', 'абай'],\n",
       " ['абаевичу', 'абаевич', 'абай'],\n",
       " ['абаевна', 'абаевна', 'абай'],\n",
       " ['абаевнам', 'абаевна', 'абай'],\n",
       " ['абаевнами', 'абаевна', 'абай'],\n",
       " ['абаевнах', 'абаевна', 'абай'],\n",
       " ['абаевне', 'абаевна', 'абай'],\n",
       " ['абаевной', 'абаевна', 'абай'],\n",
       " ['абаевну', 'абаевна', 'абай'],\n",
       " ['абаевны', 'абаевна', 'абай'],\n",
       " ['абаей', 'абая', 'абай'],\n",
       " ['абаз', 'абаз', 'абаза'],\n",
       " ['абазам', 'абаз', 'абаза'],\n",
       " ['абазах', 'абаз', 'абаза'],\n",
       " ['абазов', 'абазов', 'абаз'],\n",
       " ['абазу', 'абаза', 'абаз'],\n",
       " ['абак', 'абак', 'абака'],\n",
       " ['абаками', 'абак', 'абака'],\n",
       " ['абаке', 'абака', 'абак'],\n",
       " ['абаки', 'абака', 'абак'],\n",
       " ['абакумов', 'абакумов', 'абакум'],\n",
       " ['абакумовен', 'абакумовна', 'абакум'],\n",
       " ['абакумович', 'абакумович', 'абакум'],\n",
       " ['абакумовича', 'абакумович', 'абакум'],\n",
       " ['абакумовичам', 'абакумович', 'абакум'],\n",
       " ['абакумовичами', 'абакумович', 'абакум'],\n",
       " ['абакумовичах', 'абакумович', 'абакум'],\n",
       " ['абакумовиче', 'абакумович', 'абакум'],\n",
       " ['абакумовичей', 'абакумович', 'абакум'],\n",
       " ['абакумовичем', 'абакумович', 'абакум'],\n",
       " ['абакумовичи', 'абакумович', 'абакум'],\n",
       " ['абакумовичу', 'абакумович', 'абакум'],\n",
       " ['абакумовна', 'абакумовна', 'абакум'],\n",
       " ['абакумовнам', 'абакумовна', 'абакум'],\n",
       " ['абакумовнами', 'абакумовна', 'абакум'],\n",
       " ['абакумовнах', 'абакумовна', 'абакум'],\n",
       " ['абакумовне', 'абакумовна', 'абакум'],\n",
       " ['абакумовной', 'абакумовна', 'абакум'],\n",
       " ['абакумовну', 'абакумовна', 'абакум'],\n",
       " ['абакумовны', 'абакумовна', 'абакум'],\n",
       " ['абдулл', 'абдулл', 'абдулла'],\n",
       " ['абдуллах', 'абдуллах', 'абдулла'],\n",
       " ['абдулловен', 'абдулловна', 'абдулла'],\n",
       " ['абдуллович', 'абдуллович', 'абдулла'],\n",
       " ['абдулловича', 'абдуллович', 'абдулла'],\n",
       " ['абдулловичам', 'абдуллович', 'абдулла'],\n",
       " ['абдулловичами', 'абдуллович', 'абдулла'],\n",
       " ['абдулловичах', 'абдуллович', 'абдулла'],\n",
       " ['абдулловиче', 'абдуллович', 'абдулла'],\n",
       " ['абдулловичей', 'абдуллович', 'абдулла'],\n",
       " ['абдулловичи', 'абдуллович', 'абдулла'],\n",
       " ['абдулловичом', 'абдуллович', 'абдулла'],\n",
       " ['абдулловичу', 'абдуллович', 'абдулла'],\n",
       " ['абдулловна', 'абдулловна', 'абдулла'],\n",
       " ['абдулловнам', 'абдулловна', 'абдулла'],\n",
       " ['абдулловнами', 'абдулловна', 'абдулла'],\n",
       " ['абдулловнах', 'абдулловна', 'абдулла'],\n",
       " ['абдулловне', 'абдулловна', 'абдулла'],\n",
       " ['абдулловной', 'абдулловна', 'абдулла'],\n",
       " ['абдулловну', 'абдулловна', 'абдулла'],\n",
       " ['абдулловны', 'абдулловна', 'абдулла'],\n",
       " ['аберзее', 'аберзкий', 'аберзее'],\n",
       " ['абесседит', 'абесседить', 'абесседит'],\n",
       " ['абесседите', 'абесседить', 'абесседит'],\n",
       " ['абиетинов', 'абиетин', 'абиетиновый'],\n",
       " ['абитур', 'абитур', 'абитура'],\n",
       " ['абитурах', 'абитур', 'абитура'],\n",
       " ['абитуры', 'абитур', 'абитура'],\n",
       " ['аблактировавшаяся', 'аблактироваться', 'аблактировать'],\n",
       " ['аблактировавшегося', 'аблактироваться', 'аблактировать'],\n",
       " ['аблактировавшееся', 'аблактироваться', 'аблактировать'],\n",
       " ['аблактировавшейся', 'аблактироваться', 'аблактировать'],\n",
       " ['аблактировавшемся', 'аблактироваться', 'аблактировать'],\n",
       " ['аблактировавшемуся', 'аблактироваться', 'аблактировать'],\n",
       " ['аблактировавшеюся', 'аблактироваться', 'аблактировать'],\n",
       " ['аблактировавшиеся', 'аблактироваться', 'аблактировать'],\n",
       " ['аблактировавшийся', 'аблактироваться', 'аблактировать'],\n",
       " ['аблактировавшимися', 'аблактироваться', 'аблактировать'],\n",
       " ['аблактировавшимся', 'аблактироваться', 'аблактировать'],\n",
       " ['аблактировавшись', 'аблактироваться', 'аблактировать'],\n",
       " ['аблактировавшихся', 'аблактироваться', 'аблактировать'],\n",
       " ['аблактировавшуюся', 'аблактироваться', 'аблактировать'],\n",
       " ['аблактировалась', 'аблактироваться', 'аблактировать'],\n",
       " ['аблактировались', 'аблактироваться', 'аблактировать'],\n",
       " ['аблактировалось', 'аблактироваться', 'аблактировать'],\n",
       " ['аблактировался', 'аблактироваться', 'аблактировать'],\n",
       " ['аблактированнее', 'аблактированный', 'аблактировать'],\n",
       " ['аблактированней', 'аблактированный', 'аблактировать'],\n",
       " ['аблактироваться', 'аблактироваться', 'аблактировать'],\n",
       " ['аблактируемее', 'аблактируемый', 'аблактировать'],\n",
       " ['аблактируемей', 'аблактируемый', 'аблактировать'],\n",
       " ['аблактируемся', 'аблактироваться', 'аблактировать'],\n",
       " ['аблактируетесь', 'аблактироваться', 'аблактировать'],\n",
       " ['аблактируется', 'аблактироваться', 'аблактировать'],\n",
       " ['аблактируешься', 'аблактироваться', 'аблактировать'],\n",
       " ['аблактируйся', 'аблактироваться', 'аблактировать'],\n",
       " ['аблактируюсь', 'аблактироваться', 'аблактировать'],\n",
       " ['аблактируются', 'аблактироваться', 'аблактировать'],\n",
       " ['аблактирующаяся', 'аблактироваться', 'аблактировать'],\n",
       " ['аблактирующегося', 'аблактироваться', 'аблактировать'],\n",
       " ['аблактирующееся', 'аблактироваться', 'аблактировать'],\n",
       " ['аблактирующейся', 'аблактироваться', 'аблактировать'],\n",
       " ['аблактирующемся', 'аблактироваться', 'аблактировать'],\n",
       " ['аблактирующемуся', 'аблактироваться', 'аблактировать'],\n",
       " ['аблактирующеюся', 'аблактироваться', 'аблактировать'],\n",
       " ['аблактирующиеся', 'аблактироваться', 'аблактировать'],\n",
       " ['аблактирующийся', 'аблактироваться', 'аблактировать'],\n",
       " ['аблактирующимися', 'аблактироваться', 'аблактировать'],\n",
       " ['аблактирующимся', 'аблактироваться', 'аблактировать'],\n",
       " ['аблактирующихся', 'аблактироваться', 'аблактировать'],\n",
       " ['аблактирующуюся', 'аблактироваться', 'аблактировать'],\n",
       " ['аблактируясь', 'аблактироваться', 'аблактировать'],\n",
       " ['абляционнее', 'абляционно', 'абляционный'],\n",
       " ['абляционней', 'абляционно', 'абляционный'],\n",
       " ['абляционно', 'абляционно', 'абляционный'],\n",
       " ['абонировавшаяся', 'абонироваться', 'абонировать'],\n",
       " ['абонировавшегося', 'абонироваться', 'абонировать'],\n",
       " ['абонировавшемуся', 'абонироваться', 'абонировать'],\n",
       " ['абонировавшеюся', 'абонироваться', 'абонировать'],\n",
       " ['абонировавшиеся', 'абонироваться', 'абонировать'],\n",
       " ['абонировавшийся', 'абонироваться', 'абонировать'],\n",
       " ['абонировавшимися', 'абонироваться', 'абонировать'],\n",
       " ['абонировавшись', 'абонироваться', 'абонировать'],\n",
       " ['абонировавшуюся', 'абонироваться', 'абонировать'],\n",
       " ['абонировалась', 'абонироваться', 'абонировать'],\n",
       " ['абонировался', 'абонироваться', 'абонировать'],\n",
       " ['абонированнее', 'абонированный', 'абонировать'],\n",
       " ['абонированней', 'абонированный', 'абонировать'],\n",
       " ['абонироваться', 'абонироваться', 'абонировать'],\n",
       " ['абонируемее', 'абонируемый', 'абонировать'],\n",
       " ['абонируемей', 'абонируемый', 'абонировать'],\n",
       " ['абонируетесь', 'абонироваться', 'абонировать'],\n",
       " ['абонируется', 'абонироваться', 'абонировать'],\n",
       " ['абонируешься', 'абонироваться', 'абонировать'],\n",
       " ['абонирующегося', 'абонироваться', 'абонировать'],\n",
       " ['абонирующейся', 'абонироваться', 'абонировать'],\n",
       " ['абонирующемся', 'абонироваться', 'абонировать'],\n",
       " ['абонирующемуся', 'абонироваться', 'абонировать'],\n",
       " ['абонирующеюся', 'абонироваться', 'абонировать'],\n",
       " ['абонирующимися', 'абонироваться', 'абонировать'],\n",
       " ['абонирующихся', 'абонироваться', 'абонировать'],\n",
       " ['абонирующуюся', 'абонироваться', 'абонировать'],\n",
       " ['абордировавшаяся', 'абордироваться', 'абордировать'],\n",
       " ['абордировавшегося', 'абордироваться', 'абордировать'],\n",
       " ['абордировавшееся', 'абордироваться', 'абордировать'],\n",
       " ['абордировавшейся', 'абордироваться', 'абордировать'],\n",
       " ['абордировавшемся', 'абордироваться', 'абордировать'],\n",
       " ['абордировавшемуся', 'абордироваться', 'абордировать'],\n",
       " ['абордировавшеюся', 'абордироваться', 'абордировать'],\n",
       " ['абордировавшиеся', 'абордироваться', 'абордировать'],\n",
       " ['абордировавшийся', 'абордироваться', 'абордировать'],\n",
       " ['абордировавшимися', 'абордироваться', 'абордировать'],\n",
       " ['абордировавшимся', 'абордироваться', 'абордировать'],\n",
       " ['абордировавшись', 'абордироваться', 'абордировать'],\n",
       " ['абордировавшихся', 'абордироваться', 'абордировать'],\n",
       " ['абордировавшуюся', 'абордироваться', 'абордировать'],\n",
       " ['абордировалась', 'абордироваться', 'абордировать'],\n",
       " ['абордировались', 'абордироваться', 'абордировать'],\n",
       " ['абордировалось', 'абордироваться', 'абордировать'],\n",
       " ['абордировался', 'абордироваться', 'абордировать'],\n",
       " ['абордированнее', 'абордированный', 'абордировать'],\n",
       " ['абордированней', 'абордированный', 'абордировать'],\n",
       " ['абордироваться', 'абордироваться', 'абордировать'],\n",
       " ['абордируемее', 'абордируемый', 'абордировать'],\n",
       " ['абордируемей', 'абордируемый', 'абордировать'],\n",
       " ['абордируемся', 'абордироваться', 'абордировать'],\n",
       " ['абордируетесь', 'абордироваться', 'абордировать'],\n",
       " ['абордируется', 'абордироваться', 'абордировать'],\n",
       " ['абордируешься', 'абордироваться', 'абордировать'],\n",
       " ['абордируйся', 'абордироваться', 'абордировать'],\n",
       " ['абордируюсь', 'абордироваться', 'абордировать'],\n",
       " ['абордируются', 'абордироваться', 'абордировать'],\n",
       " ['абордирующаяся', 'абордироваться', 'абордировать'],\n",
       " ['абордирующегося', 'абордироваться', 'абордировать'],\n",
       " ['абордирующееся', 'абордироваться', 'абордировать'],\n",
       " ['абордирующейся', 'абордироваться', 'абордировать'],\n",
       " ['абордирующемся', 'абордироваться', 'абордировать'],\n",
       " ['абордирующемуся', 'абордироваться', 'абордировать'],\n",
       " ['абордирующеюся', 'абордироваться', 'абордировать'],\n",
       " ['абордирующиеся', 'абордироваться', 'абордировать'],\n",
       " ['абордирующийся', 'абордироваться', 'абордировать'],\n",
       " ['абордирующимися', 'абордироваться', 'абордировать'],\n",
       " ['абордирующимся', 'абордироваться', 'абордировать'],\n",
       " ['абордирующихся', 'абордироваться', 'абордировать'],\n",
       " ['абордирующуюся', 'абордироваться', 'абордировать'],\n",
       " ['абордируясь', 'абордироваться', 'абордировать'],\n",
       " ['абортировавшаяся', 'абортироваться', 'абортировать'],\n",
       " ['абортировавшегося', 'абортироваться', 'абортировать'],\n",
       " ['абортировавшееся', 'абортироваться', 'абортировать'],\n",
       " ['абортировавшейся', 'абортироваться', 'абортировать'],\n",
       " ['абортировавшемся', 'абортироваться', 'абортировать'],\n",
       " ['абортировавшемуся', 'абортироваться', 'абортировать'],\n",
       " ['абортировавшеюся', 'абортироваться', 'абортировать'],\n",
       " ['абортировавшиеся', 'абортироваться', 'абортировать'],\n",
       " ['абортировавшийся', 'абортироваться', 'абортировать'],\n",
       " ['абортировавшимися', 'абортироваться', 'абортировать'],\n",
       " ['абортировавшимся', 'абортироваться', 'абортировать'],\n",
       " ['абортировавшись', 'абортироваться', 'абортировать'],\n",
       " ['абортировавшихся', 'абортироваться', 'абортировать'],\n",
       " ['абортировавшуюся', 'абортироваться', 'абортировать'],\n",
       " ['абортировалась', 'абортироваться', 'абортировать'],\n",
       " ['абортировались', 'абортироваться', 'абортировать'],\n",
       " ['абортировалось', 'абортироваться', 'абортировать'],\n",
       " ['абортировался', 'абортироваться', 'абортировать'],\n",
       " ['абортированнее', 'абортированный', 'абортировать'],\n",
       " ['абортированней', 'абортированный', 'абортировать'],\n",
       " ['абортироваться', 'абортироваться', 'абортировать'],\n",
       " ['абортируемее', 'абортируемый', 'абортировать'],\n",
       " ['абортируемей', 'абортируемый', 'абортировать'],\n",
       " ['абортируемся', 'абортироваться', 'абортировать'],\n",
       " ['абортируетесь', 'абортироваться', 'абортировать'],\n",
       " ['абортируется', 'абортироваться', 'абортировать'],\n",
       " ['абортируешься', 'абортироваться', 'абортировать'],\n",
       " ['абортируйся', 'абортироваться', 'абортировать'],\n",
       " ['абортируюсь', 'абортироваться', 'абортировать'],\n",
       " ['абортируются', 'абортироваться', 'абортировать'],\n",
       " ['абортирующаяся', 'абортироваться', 'абортировать'],\n",
       " ['абортирующегося', 'абортироваться', 'абортировать'],\n",
       " ['абортирующееся', 'абортироваться', 'абортировать'],\n",
       " ['абортирующейся', 'абортироваться', 'абортировать'],\n",
       " ['абортирующемся', 'абортироваться', 'абортировать'],\n",
       " ['абортирующемуся', 'абортироваться', 'абортировать'],\n",
       " ['абортирующеюся', 'абортироваться', 'абортировать'],\n",
       " ['абортирующиеся', 'абортироваться', 'абортировать'],\n",
       " ['абортирующийся', 'абортироваться', 'абортировать'],\n",
       " ['абортирующимися', 'абортироваться', 'абортировать'],\n",
       " ['абортирующимся', 'абортироваться', 'абортировать'],\n",
       " ['абортирующихся', 'абортироваться', 'абортировать'],\n",
       " ['абортирующуюся', 'абортироваться', 'абортировать'],\n",
       " ['абортируясь', 'абортироваться', 'абортировать'],\n",
       " ['абрамов', 'абрамов', 'абрам'],\n",
       " ['абрамовен', 'абрамовна', 'абрам'],\n",
       " ['абрамович', 'абрамович', 'абрам'],\n",
       " ['абрамовича', 'абрамович', 'абрам'],\n",
       " ['абрамовичам', 'абрамович', 'абрам'],\n",
       " ['абрамовичами', 'абрамович', 'абрам'],\n",
       " ['абрамовичах', 'абрамович', 'абрам'],\n",
       " ['абрамовиче', 'абрамович', 'абрам'],\n",
       " ['абрамовичей', 'абрамович', 'абрам'],\n",
       " ['абрамовичем', 'абрамович', 'абрам'],\n",
       " ['абрамовичи', 'абрамович', 'абрам'],\n",
       " ['абрамовичу', 'абрамович', 'абрам'],\n",
       " ['абрамовна', 'абрамовна', 'абрам'],\n",
       " ['абрамовнам', 'абрамовна', 'абрам'],\n",
       " ['абрамовнами', 'абрамовна', 'абрам'],\n",
       " ['абрамовнах', 'абрамовна', 'абрам'],\n",
       " ['абрамовне', 'абрамовна', 'абрам'],\n",
       " ['абрамовной', 'абрамовна', 'абрам'],\n",
       " ['абрамовну', 'абрамовна', 'абрам'],\n",
       " ['абрамовны', 'абрамовна', 'абрам'],\n",
       " ['абрамцев', 'абрамец', 'абрамцево'],\n",
       " ['абрамцева', 'абрамцев', 'абрамцево'],\n",
       " ['абрамцевам', 'абрамцев', 'абрамцево'],\n",
       " ['абрамцевами', 'абрамцев', 'абрамцево'],\n",
       " ['абрамцевах', 'абрамцев', 'абрамцево'],\n",
       " ['абрамцеву', 'абрамцев', 'абрамцево'],\n",
       " ['абрахамовен', 'абрахамовна', 'абрахам'],\n",
       " ['абрахамович', 'абрахамович', 'абрахам'],\n",
       " ['абрахамовича', 'абрахамович', 'абрахам'],\n",
       " ['абрахамовичам', 'абрахамович', 'абрахам'],\n",
       " ['абрахамовичами', 'абрахамович', 'абрахам'],\n",
       " ['абрахамовичах', 'абрахамович', 'абрахам'],\n",
       " ['абрахамовиче', 'абрахамович', 'абрахам'],\n",
       " ['абрахамовичей', 'абрахамович', 'абрахам'],\n",
       " ['абрахамовичем', 'абрахамович', 'абрахам'],\n",
       " ['абрахамовичи', 'абрахамович', 'абрахам'],\n",
       " ['абрахамовичу', 'абрахамович', 'абрахам'],\n",
       " ['абрахамовна', 'абрахамовна', 'абрахам'],\n",
       " ['абрахамовнам', 'абрахамовна', 'абрахам'],\n",
       " ['абрахамовнами', 'абрахамовна', 'абрахам'],\n",
       " ['абрахамовнах', 'абрахамовна', 'абрахам'],\n",
       " ['абрахамовне', 'абрахамовна', 'абрахам'],\n",
       " ['абрахамовной', 'абрахамовна', 'абрахам'],\n",
       " ['абрахамовну', 'абрахамовна', 'абрахам'],\n",
       " ['абрахамовны', 'абрахамовна', 'абрахам'],\n",
       " ['абрикосиках', 'абрикосики', 'абрикосик'],\n",
       " ['абрикосиков', 'абрикосиков', 'абрикосик'],\n",
       " ['абрикосиком', 'абрикосиком', 'абрикосик'],\n",
       " ['абрикосова', 'абрикосов', 'абрикосовый'],\n",
       " ['абрикосовым', 'абрикосов', 'абрикосовый'],\n",
       " ['абсолютизировавшаяся', 'абсолютизироваться', 'абсолютизировать'],\n",
       " ['абсолютизировавшегося', 'абсолютизироваться', 'абсолютизировать'],\n",
       " ['абсолютизировавшееся', 'абсолютизироваться', 'абсолютизировать'],\n",
       " ['абсолютизировавшейся', 'абсолютизироваться', 'абсолютизировать'],\n",
       " ['абсолютизировавшемся', 'абсолютизироваться', 'абсолютизировать'],\n",
       " ['абсолютизировавшемуся', 'абсолютизироваться', 'абсолютизировать'],\n",
       " ['абсолютизировавшеюся', 'абсолютизироваться', 'абсолютизировать'],\n",
       " ['абсолютизировавшиеся', 'абсолютизироваться', 'абсолютизировать'],\n",
       " ['абсолютизировавшийся', 'абсолютизироваться', 'абсолютизировать'],\n",
       " ['абсолютизировавшимися', 'абсолютизироваться', 'абсолютизировать'],\n",
       " ['абсолютизировавшимся', 'абсолютизироваться', 'абсолютизировать'],\n",
       " ['абсолютизировавшись', 'абсолютизироваться', 'абсолютизировать'],\n",
       " ['абсолютизировавшихся', 'абсолютизироваться', 'абсолютизировать'],\n",
       " ['абсолютизировавшуюся', 'абсолютизироваться', 'абсолютизировать'],\n",
       " ['абсолютизировалась', 'абсолютизироваться', 'абсолютизировать'],\n",
       " ['абсолютизировались', 'абсолютизироваться', 'абсолютизировать'],\n",
       " ['абсолютизировалось', 'абсолютизироваться', 'абсолютизировать'],\n",
       " ['абсолютизировался', 'абсолютизироваться', 'абсолютизировать'],\n",
       " ['абсолютизированнее', 'абсолютизированный', 'абсолютизировать'],\n",
       " ['абсолютизированней', 'абсолютизированный', 'абсолютизировать'],\n",
       " ['абсолютизироваться', 'абсолютизироваться', 'абсолютизировать'],\n",
       " ['абсолютизируемее', 'абсолютизируемый', 'абсолютизировать'],\n",
       " ['абсолютизируемей', 'абсолютизируемый', 'абсолютизировать'],\n",
       " ['абсолютизируемся', 'абсолютизироваться', 'абсолютизировать'],\n",
       " ['абсолютизируетесь', 'абсолютизироваться', 'абсолютизировать'],\n",
       " ['абсолютизируется', 'абсолютизироваться', 'абсолютизировать'],\n",
       " ['абсолютизируешься', 'абсолютизироваться', 'абсолютизировать'],\n",
       " ['абсолютизируйся', 'абсолютизироваться', 'абсолютизировать'],\n",
       " ['абсолютизируюсь', 'абсолютизироваться', 'абсолютизировать'],\n",
       " ['абсолютизируются', 'абсолютизироваться', 'абсолютизировать'],\n",
       " ['абсолютизирующаяся', 'абсолютизироваться', 'абсолютизировать'],\n",
       " ['абсолютизирующегося', 'абсолютизироваться', 'абсолютизировать'],\n",
       " ['абсолютизирующееся', 'абсолютизироваться', 'абсолютизировать'],\n",
       " ['абсолютизирующейся', 'абсолютизироваться', 'абсолютизировать'],\n",
       " ['абсолютизирующемся', 'абсолютизироваться', 'абсолютизировать'],\n",
       " ['абсолютизирующемуся', 'абсолютизироваться', 'абсолютизировать'],\n",
       " ['абсолютизирующеюся', 'абсолютизироваться', 'абсолютизировать'],\n",
       " ['абсолютизирующиеся', 'абсолютизироваться', 'абсолютизировать'],\n",
       " ['абсолютизирующийся', 'абсолютизироваться', 'абсолютизировать'],\n",
       " ['абсолютизирующимися', 'абсолютизироваться', 'абсолютизировать'],\n",
       " ['абсолютизирующимся', 'абсолютизироваться', 'абсолютизировать'],\n",
       " ['абсолютизирующихся', 'абсолютизироваться', 'абсолютизировать'],\n",
       " ['абсолютизирующуюся', 'абсолютизироваться', 'абсолютизировать'],\n",
       " ['абсолютизируясь', 'абсолютизироваться', 'абсолютизировать'],\n",
       " ['абсолютнее', 'абсолютно', 'абсолютный'],\n",
       " ['абсолютней', 'абсолютно', 'абсолютный'],\n",
       " ['абсолютно', 'абсолютно', 'абсолютный'],\n",
       " ['абсорбентнее', 'абсорбентно', 'абсорбентный'],\n",
       " ['абсорбентней', 'абсорбентно', 'абсорбентный'],\n",
       " ['абсорбентно', 'абсорбентно', 'абсорбентный'],\n",
       " ['абсорбировавшаяся', 'абсорбироваться', 'абсорбировать'],\n",
       " ['абсорбировавшегося', 'абсорбироваться', 'абсорбировать'],\n",
       " ['абсорбировавшееся', 'абсорбироваться', 'абсорбировать'],\n",
       " ['абсорбировавшейся', 'абсорбироваться', 'абсорбировать'],\n",
       " ['абсорбировавшемся', 'абсорбироваться', 'абсорбировать'],\n",
       " ['абсорбировавшемуся', 'абсорбироваться', 'абсорбировать'],\n",
       " ['абсорбировавшеюся', 'абсорбироваться', 'абсорбировать'],\n",
       " ['абсорбировавшиеся', 'абсорбироваться', 'абсорбировать'],\n",
       " ['абсорбировавшийся', 'абсорбироваться', 'абсорбировать'],\n",
       " ['абсорбировавшимися', 'абсорбироваться', 'абсорбировать'],\n",
       " ['абсорбировавшимся', 'абсорбироваться', 'абсорбировать'],\n",
       " ['абсорбировавшись', 'абсорбироваться', 'абсорбировать'],\n",
       " ['абсорбировавшихся', 'абсорбироваться', 'абсорбировать'],\n",
       " ['абсорбировавшуюся', 'абсорбироваться', 'абсорбировать'],\n",
       " ['абсорбировалась', 'абсорбироваться', 'абсорбировать'],\n",
       " ['абсорбировались', 'абсорбироваться', 'абсорбировать'],\n",
       " ['абсорбировалось', 'абсорбироваться', 'абсорбировать'],\n",
       " ['абсорбировался', 'абсорбироваться', 'абсорбировать'],\n",
       " ['абсорбированнее', 'абсорбированно', 'абсорбировать'],\n",
       " ['абсорбированней', 'абсорбированный', 'абсорбировать'],\n",
       " ['абсорбироваться', 'абсорбироваться', 'абсорбировать'],\n",
       " ['абсорбируемее', 'абсорбируемый', 'абсорбировать'],\n",
       " ['абсорбируемей', 'абсорбируемый', 'абсорбировать'],\n",
       " ['абсорбируемся', 'абсорбироваться', 'абсорбировать'],\n",
       " ['абсорбируетесь', 'абсорбироваться', 'абсорбировать'],\n",
       " ['абсорбируется', 'абсорбироваться', 'абсорбировать'],\n",
       " ['абсорбируешься', 'абсорбироваться', 'абсорбировать'],\n",
       " ['абсорбируйся', 'абсорбироваться', 'абсорбировать'],\n",
       " ['абсорбируюсь', 'абсорбироваться', 'абсорбировать'],\n",
       " ['абсорбируются', 'абсорбироваться', 'абсорбировать'],\n",
       " ['абсорбирующаяся', 'абсорбироваться', 'абсорбировать'],\n",
       " ['абсорбирующегося', 'абсорбироваться', 'абсорбировать'],\n",
       " ['абсорбирующееся', 'абсорбироваться', 'абсорбировать'],\n",
       " ['абсорбирующейся', 'абсорбироваться', 'абсорбировать'],\n",
       " ['абсорбирующемся', 'абсорбироваться', 'абсорбировать'],\n",
       " ['абсорбирующемуся', 'абсорбироваться', 'абсорбировать'],\n",
       " ['абсорбирующеюся', 'абсорбироваться', 'абсорбировать'],\n",
       " ['абсорбирующиеся', 'абсорбироваться', 'абсорбировать'],\n",
       " ['абсорбирующийся', 'абсорбироваться', 'абсорбировать'],\n",
       " ['абсорбирующимися', 'абсорбироваться', 'абсорбировать'],\n",
       " ['абсорбирующимся', 'абсорбироваться', 'абсорбировать'],\n",
       " ['абсорбирующихся', 'абсорбироваться', 'абсорбировать'],\n",
       " ['абсорбирующуюся', 'абсорбироваться', 'абсорбировать'],\n",
       " ['абсорбируясь', 'абсорбироваться', 'абсорбировать'],\n",
       " ['абстрагировавшееся', 'абстрагироваться', 'абстрагировать'],\n",
       " ['абстрагировавшемуся', 'абстрагироваться', 'абстрагировать'],\n",
       " ['абстрагировавшеюся', 'абстрагироваться', 'абстрагировать'],\n",
       " ['абстрагировавшиеся', 'абстрагироваться', 'абстрагировать'],\n",
       " ['абстрагировавшийся', 'абстрагироваться', 'абстрагировать'],\n",
       " ['абстрагировавшихся', 'абстрагироваться', 'абстрагировать'],\n",
       " ['абстрагировались', 'абстрагироваться', 'абстрагировать'],\n",
       " ['абстрагированнее', 'абстрагированный', 'абстрагировать'],\n",
       " ['абстрагированней', 'абстрагированный', 'абстрагировать'],\n",
       " ['абстрагироваться', 'абстрагироваться', 'абстрагировать'],\n",
       " ['абстрагируемее', 'абстрагируемый', 'абстрагировать'],\n",
       " ['абстрагируемей', 'абстрагируемый', 'абстрагировать'],\n",
       " ['абстрагируетесь', 'абстрагироваться', 'абстрагировать'],\n",
       " ['абстрагируется', 'абстрагироваться', 'абстрагировать'],\n",
       " ['абстрагируешься', 'абстрагироваться', 'абстрагировать'],\n",
       " ['абстрагируюсь', 'абстрагироваться', 'абстрагировать'],\n",
       " ['абстрагируются', 'абстрагироваться', 'абстрагировать'],\n",
       " ['абстрагирующаяся', 'абстрагироваться', 'абстрагировать'],\n",
       " ['абстрагирующегося', 'абстрагироваться', 'абстрагировать'],\n",
       " ['абстрагирующейся', 'абстрагироваться', 'абстрагировать'],\n",
       " ['абстрагирующемся', 'абстрагироваться', 'абстрагировать'],\n",
       " ['абстрагирующеюся', 'абстрагироваться', 'абстрагировать'],\n",
       " ['абстрагирующийся', 'абстрагироваться', 'абстрагировать'],\n",
       " ['абстрагирующимися', 'абстрагироваться', 'абстрагировать'],\n",
       " ['абстрагирующихся', 'абстрагироваться', 'абстрагировать'],\n",
       " ['абстрагируясь', 'абстрагироваться', 'абстрагировать'],\n",
       " ['абстрактнее', 'абстрактно', 'абстрактный'],\n",
       " ['абстрактней', 'абстрактно', 'абстрактный'],\n",
       " ['абстрактно', 'абстрактно', 'абстрактный'],\n",
       " ['абсурднее', 'абсурдно', 'абсурдный'],\n",
       " ['абсурдней', 'абсурдно', 'абсурдный'],\n",
       " ['абсурдно', 'абсурдно', 'абсурдный'],\n",
       " ['абу', 'абу', 'аба'],\n",
       " ['абы', 'абы', 'аба'],\n",
       " ['абые', 'абые', 'абый'],\n",
       " ['абыев', 'абыев', 'абый'],\n",
       " ['абыем', 'абыем', 'абый'],\n",
       " ['абыи', 'абыи', 'абый'],\n",
       " ['абыю', 'абыю', 'абый'],\n",
       " ['абыя', 'абыя', 'абый'],\n",
       " ['абыям', 'абыям', 'абый'],\n",
       " ['абыями', 'абыями', 'абый'],\n",
       " ['абыях', 'абыях', 'абый'],\n",
       " ['авансировавшаяся', 'авансироваться', 'авансировать'],\n",
       " ['авансировавшегося', 'авансироваться', 'авансировать'],\n",
       " ['авансировавшееся', 'авансироваться', 'авансировать'],\n",
       " ['авансировавшейся', 'авансироваться', 'авансировать'],\n",
       " ['авансировавшемся', 'авансироваться', 'авансировать'],\n",
       " ['авансировавшемуся', 'авансироваться', 'авансировать'],\n",
       " ['авансировавшеюся', 'авансироваться', 'авансировать'],\n",
       " ['авансировавшиеся', 'авансироваться', 'авансировать'],\n",
       " ['авансировавшийся', 'авансироваться', 'авансировать'],\n",
       " ['авансировавшимися', 'авансироваться', 'авансировать'],\n",
       " ['авансировавшимся', 'авансироваться', 'авансировать'],\n",
       " ['авансировавшись', 'авансироваться', 'авансировать'],\n",
       " ['авансировавшихся', 'авансироваться', 'авансировать'],\n",
       " ['авансировавшуюся', 'авансироваться', 'авансировать'],\n",
       " ['авансировалась', 'авансироваться', 'авансировать'],\n",
       " ['авансировались', 'авансироваться', 'авансировать'],\n",
       " ['авансировалось', 'авансироваться', 'авансировать'],\n",
       " ['авансировался', 'авансироваться', 'авансировать'],\n",
       " ['авансированная', 'авансированный', 'авансировать'],\n",
       " ['авансированнее', 'авансированный', 'авансировать'],\n",
       " ['авансированней', 'авансированный', 'авансировать'],\n",
       " ['авансированных', 'авансированный', 'авансировать'],\n",
       " ['авансироваться', 'авансироваться', 'авансировать'],\n",
       " ['авансируемее', 'авансируемый', 'авансировать'],\n",
       " ['авансируемей', 'авансируемый', 'авансировать'],\n",
       " ['авансируемся', 'авансироваться', 'авансировать'],\n",
       " ['авансируетесь', 'авансироваться', 'авансировать'],\n",
       " ['авансируется', 'авансироваться', 'авансировать'],\n",
       " ['авансируешься', 'авансироваться', 'авансировать'],\n",
       " ['авансируйся', 'авансироваться', 'авансировать'],\n",
       " ['авансируюсь', 'авансироваться', 'авансировать'],\n",
       " ['авансируются', 'авансироваться', 'авансировать'],\n",
       " ['авансирующаяся', 'авансироваться', 'авансировать'],\n",
       " ['авансирующегося', 'авансироваться', 'авансировать'],\n",
       " ['авансирующееся', 'авансироваться', 'авансировать'],\n",
       " ['авансирующейся', 'авансироваться', 'авансировать'],\n",
       " ['авансирующемся', 'авансироваться', 'авансировать'],\n",
       " ['авансирующемуся', 'авансироваться', 'авансировать'],\n",
       " ['авансирующеюся', 'авансироваться', 'авансировать'],\n",
       " ['авансирующиеся', 'авансироваться', 'авансировать'],\n",
       " ['авансирующийся', 'авансироваться', 'авансировать'],\n",
       " ['авансирующимися', 'авансироваться', 'авансировать'],\n",
       " ['авансирующимся', 'авансироваться', 'авансировать'],\n",
       " ['авансирующихся', 'авансироваться', 'авансировать'],\n",
       " ['авансирующуюся', 'авансироваться', 'авансировать'],\n",
       " ['авансируясь', 'авансироваться', 'авансировать'],\n",
       " ['авансов', 'аванс', 'авансовый'],\n",
       " ['авантюринов', 'авантюрин', 'авантюриновый'],\n",
       " ['аватара', 'аватара', 'аватар'],\n",
       " ['аватарам', 'аватара', 'аватар'],\n",
       " ['аватарами', 'аватара', 'аватар'],\n",
       " ['аватару', 'аватара', 'аватар'],\n",
       " ['аватары', 'аватара', 'аватар'],\n",
       " ['аввакумов', 'аввакумов', 'аввакум'],\n",
       " ['аввакумовен', 'аввакумовна', 'аввакум'],\n",
       " ['аввакумович', 'аввакумович', 'аввакум'],\n",
       " ['аввакумовича', 'аввакумович', 'аввакум'],\n",
       " ['аввакумовичам', 'аввакумович', 'аввакум'],\n",
       " ['аввакумовичами', 'аввакумович', 'аввакум'],\n",
       " ['аввакумовичах', 'аввакумович', 'аввакум'],\n",
       " ['аввакумовиче', 'аввакумович', 'аввакум'],\n",
       " ['аввакумовичей', 'аввакумович', 'аввакум'],\n",
       " ['аввакумовичем', 'аввакумович', 'аввакум'],\n",
       " ['аввакумовичи', 'аввакумович', 'аввакум'],\n",
       " ['аввакумовичу', 'аввакумович', 'аввакум'],\n",
       " ['аввакумовна', 'аввакумовна', 'аввакум'],\n",
       " ['аввакумовнам', 'аввакумовна', 'аввакум'],\n",
       " ['аввакумовнами', 'аввакумовна', 'аввакум'],\n",
       " ['аввакумовнах', 'аввакумовна', 'аввакум'],\n",
       " ['аввакумовне', 'аввакумовна', 'аввакум'],\n",
       " ['аввакумовной', 'аввакумовна', 'аввакум'],\n",
       " ['аввакумовну', 'аввакумовна', 'аввакум'],\n",
       " ['аввакумовны', 'аввакумовна', 'аввакум'],\n",
       " ['августин', 'августин', 'августина'],\n",
       " ['августина', 'августина', 'августин'],\n",
       " ['августинах', 'августин', 'августина'],\n",
       " ['августинов', 'августинов', 'августин'],\n",
       " ['августиновен', 'августиновна', 'августин'],\n",
       " ['августинович', 'августинович', 'августин'],\n",
       " ['августиновича', 'августинович', 'августин'],\n",
       " ['августиновичам', 'августинович', 'августин'],\n",
       " ['августиновичами', 'августинович', 'августин'],\n",
       " ['августиновичах', 'августинович', 'августин'],\n",
       " ['августиновиче', 'августинович', 'августин'],\n",
       " ['августиновичей', 'августинович', 'августин'],\n",
       " ['августиновичем', 'августинович', 'августин'],\n",
       " ['августиновичи', 'августинович', 'августин'],\n",
       " ['августиновичу', 'августинович', 'августин'],\n",
       " ['августиновна', 'августиновна', 'августин'],\n",
       " ['августиновнам', 'августиновна', 'августин'],\n",
       " ['августиновнами', 'августиновна', 'августин'],\n",
       " ['августиновнах', 'августиновна', 'августин'],\n",
       " ['августиновне', 'августиновна', 'августин'],\n",
       " ['августиновной', 'августиновна', 'августин'],\n",
       " ['августиновну', 'августиновна', 'августин'],\n",
       " ['августиновны', 'августиновна', 'августин'],\n",
       " ['августины', 'августин', 'августина'],\n",
       " ['авелевен', 'авелевна', 'авель'],\n",
       " ['авелевич', 'авелевич', 'авель'],\n",
       " ['авелевича', 'авелевич', 'авель'],\n",
       " ['авелевичам', 'авелевич', 'авель'],\n",
       " ['авелевичами', 'авелевич', 'авель'],\n",
       " ['авелевичах', 'авелевич', 'авель'],\n",
       " ['авелевиче', 'авелевич', 'авель'],\n",
       " ['авелевичей', 'авелевич', 'авель'],\n",
       " ['авелевичем', 'авелевич', 'авель'],\n",
       " ['авелевичи', 'авелевич', 'авель'],\n",
       " ['авелевичу', 'авелевич', 'авель'],\n",
       " ['авелевна', 'авелевна', 'авель'],\n",
       " ['авелевнам', 'авелевна', 'авель'],\n",
       " ['авелевнами', 'авелевна', 'авель'],\n",
       " ['авелевнах', 'авелевна', 'авель'],\n",
       " ['авелевне', 'авелевна', 'авель'],\n",
       " ['авелевной', 'авелевна', 'авель'],\n",
       " ['авелевну', 'авелевна', 'авель'],\n",
       " ['авелевны', 'авелевна', 'авель'],\n",
       " ['авиасъёмкам', 'авиасъемка', 'авиасъёмка'],\n",
       " ['авиасъёмками', 'авиасъемка', 'авиасъёмка'],\n",
       " ['авиасъёмках', 'авиасъемка', 'авиасъёмка'],\n",
       " ['авиасъёмке', 'авиасъемка', 'авиасъёмка'],\n",
       " ['авиасъёмки', 'авиасъемка', 'авиасъёмка'],\n",
       " ['авиасъёмкой', 'авиасъемка', 'авиасъёмка'],\n",
       " ['авиасъёмку', 'авиасъемка', 'авиасъёмка'],\n",
       " ['авиасъёмок', 'авиасъемка', 'авиасъёмка'],\n",
       " ['авизировавшаяся', 'авизироваться', 'авизировать'],\n",
       " ['авизировавшегося', 'авизироваться', 'авизировать'],\n",
       " ['авизировавшееся', 'авизироваться', 'авизировать'],\n",
       " ['авизировавшейся', 'авизироваться', 'авизировать'],\n",
       " ['авизировавшемся', 'авизироваться', 'авизировать'],\n",
       " ['авизировавшемуся', 'авизироваться', 'авизировать'],\n",
       " ['авизировавшеюся', 'авизироваться', 'авизировать'],\n",
       " ['авизировавшиеся', 'авизироваться', 'авизировать'],\n",
       " ['авизировавшийся', 'авизироваться', 'авизировать'],\n",
       " ['авизировавшимися', 'авизироваться', 'авизировать'],\n",
       " ['авизировавшимся', 'авизироваться', 'авизировать'],\n",
       " ['авизировавшись', 'авизироваться', 'авизировать'],\n",
       " ['авизировавшихся', 'авизироваться', 'авизировать'],\n",
       " ['авизировавшуюся', 'авизироваться', 'авизировать'],\n",
       " ['авизировалась', 'авизироваться', 'авизировать'],\n",
       " ['авизировались', 'авизироваться', 'авизировать'],\n",
       " ['авизировалось', 'авизироваться', 'авизировать'],\n",
       " ['авизировался', 'авизироваться', 'авизировать'],\n",
       " ['авизированнее', 'авизированный', 'авизировать'],\n",
       " ['авизированней', 'авизированный', 'авизировать'],\n",
       " ['авизироваться', 'авизироваться', 'авизировать'],\n",
       " ['авизируемее', 'авизируемый', 'авизировать'],\n",
       " ['авизируемей', 'авизируемый', 'авизировать'],\n",
       " ['авизируемся', 'авизироваться', 'авизировать'],\n",
       " ['авизируетесь', 'авизироваться', 'авизировать'],\n",
       " ['авизируется', 'авизироваться', 'авизировать'],\n",
       " ['авизируешься', 'авизироваться', 'авизировать'],\n",
       " ['авизируйся', 'авизироваться', 'авизировать'],\n",
       " ['авизируюсь', 'авизироваться', 'авизировать'],\n",
       " ['авизируются', 'авизироваться', 'авизировать'],\n",
       " ['авизирующаяся', 'авизироваться', 'авизировать'],\n",
       " ['авизирующегося', 'авизироваться', 'авизировать'],\n",
       " ['авизирующееся', 'авизироваться', 'авизировать'],\n",
       " ['авизирующейся', 'авизироваться', 'авизировать'],\n",
       " ['авизирующемся', 'авизироваться', 'авизировать'],\n",
       " ['авизирующемуся', 'авизироваться', 'авизировать'],\n",
       " ['авизирующеюся', 'авизироваться', 'авизировать'],\n",
       " ['авизирующиеся', 'авизироваться', 'авизировать'],\n",
       " ['авизирующийся', 'авизироваться', 'авизировать'],\n",
       " ['авизирующимися', 'авизироваться', 'авизировать'],\n",
       " ['авизирующимся', 'авизироваться', 'авизировать'],\n",
       " ['авизирующихся', 'авизироваться', 'авизировать'],\n",
       " ['авизирующуюся', 'авизироваться', 'авизировать'],\n",
       " ['авизируясь', 'авизироваться', 'авизировать'],\n",
       " ['авраамов', 'авраамов', 'авраам'],\n",
       " ['авраамовен', 'авраамовна', 'авраам'],\n",
       " ['авраамович', 'авраамович', 'авраам'],\n",
       " ['авраамовича', 'авраамович', 'авраам'],\n",
       " ['авраамовичам', 'авраамович', 'авраам'],\n",
       " ['авраамовичами', 'авраамович', 'авраам'],\n",
       " ['авраамовичах', 'авраамович', 'авраам'],\n",
       " ['авраамовиче', 'авраамович', 'авраам'],\n",
       " ['авраамовичей', 'авраамович', 'авраам'],\n",
       " ['авраамовичем', 'авраамович', 'авраам'],\n",
       " ['авраамовичи', 'авраамович', 'авраам'],\n",
       " ['авраамовичу', 'авраамович', 'авраам'],\n",
       " ['авраамовна', 'авраамовна', 'авраам'],\n",
       " ['авраамовнам', 'авраамовна', 'авраам'],\n",
       " ['авраамовнами', 'авраамовна', 'авраам'],\n",
       " ['авраамовнах', 'авраамовна', 'авраам'],\n",
       " ['авраамовне', 'авраамовна', 'авраам'],\n",
       " ['авраамовной', 'авраамовна', 'авраам'],\n",
       " ['авраамовну', 'авраамовна', 'авраам'],\n",
       " ['авраамовны', 'авраамовна', 'авраам'],\n",
       " ['аврелии', 'аврелий', 'аврелия'],\n",
       " ['аврелий', 'аврелий', 'аврелия'],\n",
       " ['аврелию', 'аврелий', 'аврелия'],\n",
       " ['аврелиям', 'аврелий', 'аврелия'],\n",
       " ['аврелиях', 'аврелий', 'аврелия'],\n",
       " ['австро-венгрий', 'австро', 'австро-венгрия'],\n",
       " ['австро-венгриям', 'австро', 'австро-венгрия'],\n",
       " ['австро-венгриями', 'австро', 'австро-венгрия'],\n",
       " ['австро-венгриях', 'австро', 'австро-венгрия'],\n",
       " ['автодоку', 'автодоку', 'автодок'],\n",
       " ['автозаводским', 'автозаводской', 'автозаводский'],\n",
       " ['автозаводском', 'автозаводский', 'автозаводской'],\n",
       " ['автозаводскому', 'автозаводский', 'автозаводской'],\n",
       " ['автозаводскую', 'автозаводский', 'автозаводской'],\n",
       " ['автозапчастей', 'автозапчасть', 'автозапчасти'],\n",
       " ['автозапчасти', 'автозапчасть', 'автозапчасти'],\n",
       " ['автозапчастям', 'автозапчасть', 'автозапчасти'],\n",
       " ['автозапчастями', 'автозапчасть', 'автозапчасти'],\n",
       " ['автозапчастях', 'автозапчасть', 'автозапчасти'],\n",
       " ['автокарам', 'автокара', 'автокар'],\n",
       " ['автокарах', 'автокара', 'автокар'],\n",
       " ['автокару', 'автокара', 'автокар'],\n",
       " ['автокары', 'автокара', 'автокар'],\n",
       " ['автолом', 'автолом', 'автол'],\n",
       " ['автоматизировавшегося', 'автоматизироваться', 'автоматизировать'],\n",
       " ['автоматизировавшееся', 'автоматизироваться', 'автоматизировать'],\n",
       " ['автоматизировавшейся', 'автоматизироваться', 'автоматизировать'],\n",
       " ['автоматизировавшеюся', 'автоматизироваться', 'автоматизировать'],\n",
       " ['автоматизировавшиеся', 'автоматизироваться', 'автоматизировать'],\n",
       " ['автоматизировавшийся', 'автоматизироваться', 'автоматизировать'],\n",
       " ['автоматизировавшимся', 'автоматизироваться', 'автоматизировать'],\n",
       " ['автоматизировавшись', 'автоматизироваться', 'автоматизировать'],\n",
       " ['автоматизировались', 'автоматизироваться', 'автоматизировать'],\n",
       " ['автоматизированная', 'автоматизированный', 'автоматизировать'],\n",
       " ['автоматизированнее', 'автоматизированный', 'автоматизировать'],\n",
       " ['автоматизированней', 'автоматизированный', 'автоматизировать'],\n",
       " ['автоматизированного', 'автоматизированный', 'автоматизировать'],\n",
       " ['автоматизированное', 'автоматизированный', 'автоматизировать'],\n",
       " ['автоматизированной', 'автоматизированный', 'автоматизировать'],\n",
       " ['автоматизированную', 'автоматизированный', 'автоматизировать'],\n",
       " ['автоматизированные', 'автоматизированный', 'автоматизировать'],\n",
       " ['автоматизированный', 'автоматизированный', 'автоматизировать'],\n",
       " ['автоматизированными', 'автоматизированный', 'автоматизировать'],\n",
       " ['автоматизированных', 'автоматизированный', 'автоматизировать'],\n",
       " ['автоматизироваться', 'автоматизироваться', 'автоматизировать'],\n",
       " ['автоматизируемее', 'автоматизируемый', 'автоматизировать'],\n",
       " ['автоматизируемей', 'автоматизируемый', 'автоматизировать'],\n",
       " ['автоматизируемся', 'автоматизироваться', 'автоматизировать'],\n",
       " ['автоматизируйся', 'автоматизироваться', 'автоматизировать'],\n",
       " ['автоматизируюсь', 'автоматизироваться', 'автоматизировать'],\n",
       " ['автоматизирующаяся', 'автоматизироваться', 'автоматизировать'],\n",
       " ['автоматизирующееся', 'автоматизироваться', 'автоматизировать'],\n",
       " ['автоматизирующейся', 'автоматизироваться', 'автоматизировать'],\n",
       " ['автоматизирующемуся', 'автоматизироваться', 'автоматизировать'],\n",
       " ['автоматизирующиеся', 'автоматизироваться', 'автоматизировать'],\n",
       " ['автоматизирующихся', 'автоматизироваться', 'автоматизировать'],\n",
       " ['автоматизирующуюся', 'автоматизироваться', 'автоматизировать'],\n",
       " ['автоматизируясь', 'автоматизироваться', 'автоматизировать'],\n",
       " ['автоплатежа', 'автоплатеж', 'автоплатёж'],\n",
       " ['автоплатежам', 'автоплатеж', 'автоплатёж'],\n",
       " ['автоплатежами', 'автоплатеж', 'автоплатёж'],\n",
       " ['автоплатежах', 'автоплатеж', 'автоплатёж'],\n",
       " ['автоплатежи', 'автоплатеж', 'автоплатёж'],\n",
       " ['автоплатежом', 'автоплатеж', 'автоплатёж'],\n",
       " ['автоплатёж', 'автоплатеж', 'автоплатёж'],\n",
       " ['автоподъёмник', 'автоподъемник', 'автоподъёмник'],\n",
       " ['автоподъёмника', 'автоподъемник', 'автоподъёмник'],\n",
       " ['автоподъёмникам', 'автоподъемник', 'автоподъёмник'],\n",
       " ['автоподъёмниками', 'автоподъемник', 'автоподъёмник'],\n",
       " ['автоподъёмниках', 'автоподъемник', 'автоподъёмник'],\n",
       " ['автоподъёмнике', 'автоподъемник', 'автоподъёмник'],\n",
       " ['автоподъёмники', 'автоподъемник', 'автоподъёмник'],\n",
       " ['автоподъёмников', 'автоподъемник', 'автоподъёмник'],\n",
       " ['автоподъёмником', 'автоподъемник', 'автоподъёмник'],\n",
       " ['автоподъёмнику', 'автоподъемник', 'автоподъёмник'],\n",
       " ['авторизовавшаяся', 'авторизоваться', 'авторизовать'],\n",
       " ['авторизовавшегося', 'авторизоваться', 'авторизовать'],\n",
       " ['авторизовавшееся', 'авторизоваться', 'авторизовать'],\n",
       " ['авторизовавшейся', 'авторизоваться', 'авторизовать'],\n",
       " ['авторизовавшемся', 'авторизоваться', 'авторизовать'],\n",
       " ['авторизовавшемуся', 'авторизоваться', 'авторизовать'],\n",
       " ['авторизовавшеюся', 'авторизоваться', 'авторизовать'],\n",
       " ['авторизовавшиеся', 'авторизоваться', 'авторизовать'],\n",
       " ['авторизовавшийся', 'авторизоваться', 'авторизовать'],\n",
       " ['авторизовавшимися', 'авторизоваться', 'авторизовать'],\n",
       " ['авторизовавшимся', 'авторизоваться', 'авторизовать'],\n",
       " ['авторизовавшись', 'авторизоваться', 'авторизовать'],\n",
       " ['авторизовавшихся', 'авторизоваться', 'авторизовать'],\n",
       " ['авторизовавшуюся', 'авторизоваться', 'авторизовать'],\n",
       " ['авторизовалась', 'авторизоваться', 'авторизовать'],\n",
       " ['авторизовались', 'авторизоваться', 'авторизовать'],\n",
       " ['авторизовалось', 'авторизоваться', 'авторизовать'],\n",
       " ['авторизовался', 'авторизоваться', 'авторизовать'],\n",
       " ['авторизованная', 'авторизованный', 'авторизовать'],\n",
       " ['авторизованнее', 'авторизованный', 'авторизовать'],\n",
       " ['авторизованное', 'авторизованный', 'авторизовать'],\n",
       " ['авторизованные', 'авторизованный', 'авторизовать'],\n",
       " ['авторизованный', 'авторизованный', 'авторизовать'],\n",
       " ['авторизованным', 'авторизованный', 'авторизовать'],\n",
       " ['авторизованными', 'авторизованный', 'авторизовать'],\n",
       " ['авторизованных', 'авторизованный', 'авторизовать'],\n",
       " ['авторизоваться', 'авторизоваться', 'авторизовать'],\n",
       " ['авторизуемее', 'авторизуемый', 'авторизовать'],\n",
       " ['авторизуемей', 'авторизуемый', 'авторизовать'],\n",
       " ['авторизуемся', 'авторизоваться', 'авторизовать'],\n",
       " ['авторизуетесь', 'авторизоваться', 'авторизовать'],\n",
       " ['авторизуется', 'авторизоваться', 'авторизовать'],\n",
       " ['авторизуешься', 'авторизоваться', 'авторизовать'],\n",
       " ['авторизуйся', 'авторизоваться', 'авторизовать'],\n",
       " ['авторизуюсь', 'авторизоваться', 'авторизовать'],\n",
       " ['авторизуются', 'авторизоваться', 'авторизовать'],\n",
       " ['авторизующаяся', 'авторизоваться', 'авторизовать'],\n",
       " ['авторизующегося', 'авторизоваться', 'авторизовать'],\n",
       " ['авторизующееся', 'авторизоваться', 'авторизовать'],\n",
       " ['авторизующейся', 'авторизоваться', 'авторизовать'],\n",
       " ['авторизующемся', 'авторизоваться', 'авторизовать'],\n",
       " ['авторизующемуся', 'авторизоваться', 'авторизовать'],\n",
       " ['авторизующеюся', 'авторизоваться', 'авторизовать'],\n",
       " ['авторизующиеся', 'авторизоваться', 'авторизовать'],\n",
       " ['авторизующийся', 'авторизоваться', 'авторизовать'],\n",
       " ['авторизующимися', 'авторизоваться', 'авторизовать'],\n",
       " ['авторизующимся', 'авторизоваться', 'авторизовать'],\n",
       " ['авторизующихся', 'авторизоваться', 'авторизовать'],\n",
       " ['авторизующуюся', 'авторизоваться', 'авторизовать'],\n",
       " ['авторизуясь', 'авторизоваться', 'авторизовать'],\n",
       " ['авторскими', 'авторский', 'авторские'],\n",
       " ['автостопом', 'автостопом', 'автостоп'],\n",
       " ['агав', 'агав', 'агава'],\n",
       " ['агам', 'ага', 'агама'],\n",
       " ['агаров', 'агар', 'агаровый'],\n",
       " ['агат', 'агат', 'агата'],\n",
       " ['агата', 'агата', 'агат'],\n",
       " ['агатам', 'агат', 'агата'],\n",
       " ['агатами', 'агат', 'агата'],\n",
       " ['агатах', 'агат', 'агата'],\n",
       " ['агате', 'агат', 'агата'],\n",
       " ['агатов', 'агатов', 'агатовый'],\n",
       " ['агатова', 'агатова', 'агатовый'],\n",
       " ['агатовы', 'агатов', 'агатовый'],\n",
       " ['агатовым', 'агатов', 'агатовый'],\n",
       " ['агитировавшаяся', 'агитироваться', 'агитировать'],\n",
       " ['агитировавшегося', 'агитироваться', 'агитировать'],\n",
       " ['агитировавшееся', 'агитироваться', 'агитировать'],\n",
       " ['агитировавшейся', 'агитироваться', 'агитировать'],\n",
       " ['агитировавшемся', 'агитироваться', 'агитировать'],\n",
       " ['агитировавшемуся', 'агитироваться', 'агитировать'],\n",
       " ['агитировавшеюся', 'агитироваться', 'агитировать'],\n",
       " ['агитировавшиеся', 'агитироваться', 'агитировать'],\n",
       " ['агитировавшийся', 'агитироваться', 'агитировать'],\n",
       " ['агитировавшимися', 'агитироваться', 'агитировать'],\n",
       " ['агитировавшимся', 'агитироваться', 'агитировать'],\n",
       " ['агитировавшись', 'агитироваться', 'агитировать'],\n",
       " ['агитировавшихся', 'агитироваться', 'агитировать'],\n",
       " ['агитировавшуюся', 'агитироваться', 'агитировать'],\n",
       " ['агитировалась', 'агитироваться', 'агитировать'],\n",
       " ['агитировались', 'агитироваться', 'агитировать'],\n",
       " ['агитировалось', 'агитироваться', 'агитировать'],\n",
       " ['агитировался', 'агитироваться', 'агитировать'],\n",
       " ['агитированнее', 'агитированный', 'агитировать'],\n",
       " ['агитированней', 'агитированный', 'агитировать'],\n",
       " ['агитироваться', 'агитироваться', 'агитировать'],\n",
       " ['агитируемее', 'агитируемый', 'агитировать'],\n",
       " ['агитируемей', 'агитируемый', 'агитировать'],\n",
       " ['агитируемся', 'агитироваться', 'агитировать'],\n",
       " ['агитируетесь', 'агитироваться', 'агитировать'],\n",
       " ['агитируется', 'агитироваться', 'агитировать'],\n",
       " ['агитируешься', 'агитироваться', 'агитировать'],\n",
       " ['агитируйся', 'агитироваться', 'агитировать'],\n",
       " ['агитируюсь', 'агитироваться', 'агитировать'],\n",
       " ['агитируются', 'агитироваться', 'агитировать'],\n",
       " ['агитирующаяся', 'агитироваться', 'агитировать'],\n",
       " ['агитирующегося', 'агитироваться', 'агитировать'],\n",
       " ['агитирующееся', 'агитироваться', 'агитировать'],\n",
       " ['агитирующейся', 'агитироваться', 'агитировать'],\n",
       " ['агитирующемся', 'агитироваться', 'агитировать'],\n",
       " ['агитирующемуся', 'агитироваться', 'агитировать'],\n",
       " ['агитирующеюся', 'агитироваться', 'агитировать'],\n",
       " ['агитирующиеся', 'агитироваться', 'агитировать'],\n",
       " ['агитирующийся', 'агитироваться', 'агитировать'],\n",
       " ['агитирующимися', 'агитироваться', 'агитировать'],\n",
       " ['агитирующимся', 'агитироваться', 'агитировать'],\n",
       " ['агитирующихся', 'агитироваться', 'агитировать'],\n",
       " ['агитирующуюся', 'агитироваться', 'агитировать'],\n",
       " ['агитируясь', 'агитироваться', 'агитировать'],\n",
       " ['аглаи', 'аглай', 'аглая'],\n",
       " ['аглай', 'аглай', 'аглая'],\n",
       " ['агломерировавшейся', 'агломерироваться', 'агломерировать'],\n",
       " ['агломерировавшемся', 'агломерироваться', 'агломерировать'],\n",
       " ['агломерировавшиеся', 'агломерироваться', 'агломерировать'],\n",
       " ['агломерировавшимся', 'агломерироваться', 'агломерировать'],\n",
       " ['агломерировавшись', 'агломерироваться', 'агломерировать'],\n",
       " ['агломерировалась', 'агломерироваться', 'агломерировать'],\n",
       " ['агломерировалось', 'агломерироваться', 'агломерировать'],\n",
       " ['агломерировался', 'агломерироваться', 'агломерировать'],\n",
       " ['агломерированнее', 'агломерированный', 'агломерировать'],\n",
       " ['агломерированней', 'агломерированный', 'агломерировать'],\n",
       " ['агломерироваться', 'агломерироваться', 'агломерировать'],\n",
       " ['агломерируемее', 'агломерируемый', 'агломерировать'],\n",
       " ['агломерируемей', 'агломерируемый', 'агломерировать'],\n",
       " ['агломерируемся', 'агломерироваться', 'агломерировать'],\n",
       " ['агломерируетесь', 'агломерироваться', 'агломерировать'],\n",
       " ['агломерируется', 'агломерироваться', 'агломерировать'],\n",
       " ['агломерируюсь', 'агломерироваться', 'агломерировать'],\n",
       " ['агломерирующаяся', 'агломерироваться', 'агломерировать'],\n",
       " ['агломерирующееся', 'агломерироваться', 'агломерировать'],\n",
       " ['агломерирующейся', 'агломерироваться', 'агломерировать'],\n",
       " ['агломерирующемся', 'агломерироваться', 'агломерировать'],\n",
       " ['агломерирующеюся', 'агломерироваться', 'агломерировать'],\n",
       " ['агломерирующиеся', 'агломерироваться', 'агломерировать'],\n",
       " ['агломерирующийся', 'агломерироваться', 'агломерировать'],\n",
       " ['агломерирующимся', 'агломерироваться', 'агломерировать'],\n",
       " ['агломерирующихся', 'агломерироваться', 'агломерировать'],\n",
       " ['агломерируясь', 'агломерироваться', 'агломерировать'],\n",
       " ['агнесс', 'агнесс', 'агнесса'],\n",
       " ['аграмантов', 'аграмант', 'аграмантовый'],\n",
       " ['агрегировавшаяся', 'агрегироваться', 'агрегировать'],\n",
       " ['агрегировавшегося', 'агрегироваться', 'агрегировать'],\n",
       " ['агрегировавшееся', 'агрегироваться', 'агрегировать'],\n",
       " ['агрегировавшейся', 'агрегироваться', 'агрегировать'],\n",
       " ['агрегировавшемся', 'агрегироваться', 'агрегировать'],\n",
       " ['агрегировавшемуся', 'агрегироваться', 'агрегировать'],\n",
       " ['агрегировавшеюся', 'агрегироваться', 'агрегировать'],\n",
       " ['агрегировавшиеся', 'агрегироваться', 'агрегировать'],\n",
       " ['агрегировавшийся', 'агрегироваться', 'агрегировать'],\n",
       " ['агрегировавшимися', 'агрегироваться', 'агрегировать'],\n",
       " ['агрегировавшимся', 'агрегироваться', 'агрегировать'],\n",
       " ['агрегировавшись', 'агрегироваться', 'агрегировать'],\n",
       " ['агрегировавшихся', 'агрегироваться', 'агрегировать'],\n",
       " ['агрегировавшуюся', 'агрегироваться', 'агрегировать'],\n",
       " ['агрегировалась', 'агрегироваться', 'агрегировать'],\n",
       " ['агрегировались', 'агрегироваться', 'агрегировать'],\n",
       " ['агрегировалось', 'агрегироваться', 'агрегировать'],\n",
       " ['агрегировался', 'агрегироваться', 'агрегировать'],\n",
       " ['агрегирован', 'сагрегировать', 'агрегировать'],\n",
       " ['агрегирована', 'сагрегировать', 'агрегировать'],\n",
       " ['агрегированная', 'сагрегировать', 'агрегировать'],\n",
       " ['агрегированнее', 'агрегированный', 'агрегировать'],\n",
       " ['агрегированней', 'агрегированный', 'агрегировать'],\n",
       " ['агрегированного', 'сагрегировать', 'агрегировать'],\n",
       " ['агрегированное', 'сагрегировать', 'агрегировать'],\n",
       " ['агрегированной', 'сагрегировать', 'агрегировать'],\n",
       " ['агрегированном', 'сагрегировать', 'агрегировать'],\n",
       " ['агрегированному', 'сагрегировать', 'агрегировать'],\n",
       " ['агрегированною', 'сагрегировать', 'агрегировать'],\n",
       " ['агрегированную', 'сагрегировать', 'агрегировать'],\n",
       " ['агрегированные', 'сагрегировать', 'агрегировать'],\n",
       " ['агрегированный', 'сагрегировать', 'агрегировать'],\n",
       " ['агрегированным', 'сагрегировать', 'агрегировать'],\n",
       " ['агрегированными', 'сагрегировать', 'агрегировать'],\n",
       " ['агрегированных', 'агрегированный', 'агрегировать'],\n",
       " ['агрегировано', 'сагрегировать', 'агрегировать'],\n",
       " ['агрегированы', 'сагрегировать', 'агрегировать'],\n",
       " ['агрегироваться', 'агрегироваться', 'агрегировать'],\n",
       " ['агрегируем', 'сагрегировать', 'агрегировать'],\n",
       " ['агрегируемее', 'агрегируемый', 'агрегировать'],\n",
       " ['агрегируемей', 'агрегируемый', 'агрегировать'],\n",
       " ['агрегируемся', 'агрегироваться', 'агрегировать'],\n",
       " ['агрегируетесь', 'агрегироваться', 'агрегировать'],\n",
       " ['агрегируется', 'агрегироваться', 'агрегировать'],\n",
       " ['агрегируешься', 'агрегироваться', 'агрегировать'],\n",
       " ['агрегируйся', 'агрегироваться', 'агрегировать'],\n",
       " ['агрегируюсь', 'агрегироваться', 'агрегировать'],\n",
       " ['агрегируются', 'агрегироваться', 'агрегировать'],\n",
       " ['агрегирующаяся', 'агрегироваться', 'агрегировать'],\n",
       " ['агрегирующегося', 'агрегироваться', 'агрегировать'],\n",
       " ['агрегирующееся', 'агрегироваться', 'агрегировать'],\n",
       " ['агрегирующейся', 'агрегироваться', 'агрегировать'],\n",
       " ['агрегирующемся', 'агрегироваться', 'агрегировать'],\n",
       " ['агрегирующемуся', 'агрегироваться', 'агрегировать'],\n",
       " ['агрегирующеюся', 'агрегироваться', 'агрегировать'],\n",
       " ['агрегирующиеся', 'агрегироваться', 'агрегировать'],\n",
       " ['агрегирующийся', 'агрегироваться', 'агрегировать'],\n",
       " ['агрегирующимися', 'агрегироваться', 'агрегировать'],\n",
       " ['агрегирующимся', 'агрегироваться', 'агрегировать'],\n",
       " ['агрегирующихся', 'агрегироваться', 'агрегировать'],\n",
       " ['агрегирующуюся', 'агрегироваться', 'агрегировать'],\n",
       " ['агрегируясь', 'агрегироваться', 'агрегировать'],\n",
       " ['агротехник', 'агротехник', 'агротехника'],\n",
       " ['агротехника', 'агротехника', 'агротехник'],\n",
       " ['агротехниками', 'агротехник', 'агротехника'],\n",
       " ['агротехнике', 'агротехника', 'агротехник'],\n",
       " ['агрофизик', 'агрофизик', 'агрофизика'],\n",
       " ['агрофизикам', 'агрофизик', 'агрофизика'],\n",
       " ['агрофизиками', 'агрофизик', 'агрофизика'],\n",
       " ['агрофизики', 'агрофизик', 'агрофизика'],\n",
       " ['агулов', 'агулов', 'агул'],\n",
       " ['ада', 'ада', 'ад'],\n",
       " ['адалина', 'адалина', 'адалин'],\n",
       " ['адалины', 'адалина', 'адалин'],\n",
       " ['адам', 'адам', 'ада'],\n",
       " ['адамантов', 'адамант', 'адамантовый'],\n",
       " ['адамов', 'адамов', 'адам'],\n",
       " ['адамова', 'адамова', 'адамов'],\n",
       " ['адамовен', 'адамовна', 'адам'],\n",
       " ['адамович', 'адамович', 'адам'],\n",
       " ['адамовича', 'адамович', 'адам'],\n",
       " ['адамовичам', 'адамович', 'адам'],\n",
       " ['адамовичами', 'адамович', 'адам'],\n",
       " ['адамовичах', 'адамович', 'адам'],\n",
       " ['адамовиче', 'адамович', 'адам'],\n",
       " ['адамовичей', 'адамович', 'адам'],\n",
       " ['адамовичем', 'адамович', 'адам'],\n",
       " ['адамовичи', 'адамович', 'адам'],\n",
       " ['адамовичу', 'адамович', 'адам'],\n",
       " ['адамовна', 'адамовна', 'адам'],\n",
       " ['адамовнам', 'адамовна', 'адам'],\n",
       " ['адамовнами', 'адамовна', 'адам'],\n",
       " ['адамовнах', 'адамовна', 'адам'],\n",
       " ['адамовне', 'адамовна', 'адам'],\n",
       " ['адамовной', 'адамовна', 'адам'],\n",
       " ['адамовну', 'адамовна', 'адам'],\n",
       " ['адамовны', 'адамовна', 'адам'],\n",
       " ['адаптировавшаяся', 'адаптироваться', 'адаптировать'],\n",
       " ['адаптировавшегося', 'адаптироваться', 'адаптировать'],\n",
       " ['адаптировавшееся', 'адаптироваться', 'адаптировать'],\n",
       " ['адаптировавшейся', 'адаптироваться', 'адаптировать'],\n",
       " ['адаптировавшемся', 'адаптироваться', 'адаптировать'],\n",
       " ['адаптировавшемуся', 'адаптироваться', 'адаптировать'],\n",
       " ['адаптировавшеюся', 'адаптироваться', 'адаптировать'],\n",
       " ['адаптировавшиеся', 'адаптироваться', 'адаптировать'],\n",
       " ['адаптировавшийся', 'адаптироваться', 'адаптировать'],\n",
       " ['адаптировавшимися', 'адаптироваться', 'адаптировать'],\n",
       " ['адаптировавшимся', 'адаптироваться', 'адаптировать'],\n",
       " ['адаптировавшись', 'адаптироваться', 'адаптировать'],\n",
       " ['адаптировавшихся', 'адаптироваться', 'адаптировать'],\n",
       " ['адаптировавшуюся', 'адаптироваться', 'адаптировать'],\n",
       " ['адаптировалась', 'адаптироваться', 'адаптировать'],\n",
       " ['адаптировались', 'адаптироваться', 'адаптировать'],\n",
       " ['адаптировалось', 'адаптироваться', 'адаптировать'],\n",
       " ['адаптировался', 'адаптироваться', 'адаптировать'],\n",
       " ['адаптирован', 'адаптировать', 'адаптированный'],\n",
       " ['адаптированная', 'адаптированный', 'адаптировать'],\n",
       " ['адаптированного', 'адаптированный', 'адаптировать'],\n",
       " ['адаптированное', 'адаптированный', 'адаптировать'],\n",
       " ['адаптированную', 'адаптировать', 'адаптированный'],\n",
       " ['адаптированные', 'адаптировать', 'адаптированный'],\n",
       " ['адаптированный', 'адаптировать', 'адаптированный'],\n",
       " ['адаптированных', 'адаптированный', 'адаптировать'],\n",
       " ['адаптироваться', 'адаптироваться', 'адаптировать'],\n",
       " ['адаптируемее', 'адаптируемый', 'адаптировать'],\n",
       " ['адаптируемей', 'адаптируемый', 'адаптировать'],\n",
       " ['адаптируемся', 'адаптироваться', 'адаптировать'],\n",
       " ['адаптируетесь', 'адаптироваться', 'адаптировать'],\n",
       " ['адаптируется', 'адаптироваться', 'адаптировать'],\n",
       " ['адаптируешься', 'адаптироваться', 'адаптировать'],\n",
       " ['адаптируйся', 'адаптироваться', 'адаптировать'],\n",
       " ['адаптируюсь', 'адаптироваться', 'адаптировать'],\n",
       " ['адаптируются', 'адаптироваться', 'адаптировать'],\n",
       " ['адаптирующаяся', 'адаптироваться', 'адаптировать'],\n",
       " ['адаптирующегося', 'адаптироваться', 'адаптировать'],\n",
       " ['адаптирующееся', 'адаптироваться', 'адаптировать'],\n",
       " ['адаптирующейся', 'адаптироваться', 'адаптировать'],\n",
       " ['адаптирующемся', 'адаптироваться', 'адаптировать'],\n",
       " ['адаптирующемуся', 'адаптироваться', 'адаптировать'],\n",
       " ['адаптирующеюся', 'адаптироваться', 'адаптировать'],\n",
       " ['адаптирующиеся', 'адаптироваться', 'адаптировать'],\n",
       " ['адаптирующийся', 'адаптироваться', 'адаптировать'],\n",
       " ['адаптирующимися', 'адаптироваться', 'адаптировать'],\n",
       " ['адаптирующимся', 'адаптироваться', 'адаптировать'],\n",
       " ['адаптирующихся', 'адаптироваться', 'адаптировать'],\n",
       " ['адаптирующуюся', 'адаптироваться', 'адаптировать'],\n",
       " ['адаптируясь', 'адаптироваться', 'адаптировать'],\n",
       " ['аде', 'ад', 'ада'],\n",
       " ['адекватно', 'адекватно', 'адекватный'],\n",
       " ['аделин', 'аделин', 'аделина'],\n",
       " ['аделину', 'аделин', 'аделина'],\n",
       " ['аденоидам', 'аденоиды', 'аденоид'],\n",
       " ['аденоидами', 'аденоиды', 'аденоид'],\n",
       " ['аденоидах', 'аденоиды', 'аденоид'],\n",
       " ['аденоиды', 'аденоиды', 'аденоид'],\n",
       " ['адехам', 'адехам', 'адех'],\n",
       " ['административно', 'административно', 'административный'],\n",
       " ['адовой', 'адовый', 'адов'],\n",
       " ['адовыми', 'адовый', 'адов'],\n",
       " ['адольфовен', 'адольфовна', 'адольф'],\n",
       " ['адольфович', 'адольфович', 'адольф'],\n",
       " ['адольфовича', 'адольфович', 'адольф'],\n",
       " ['адольфовичам', 'адольфович', 'адольф'],\n",
       " ['адольфовичами', 'адольфович', 'адольф'],\n",
       " ['адольфовичах', 'адольфович', 'адольф'],\n",
       " ['адольфовиче', 'адольфович', 'адольф'],\n",
       " ['адольфовичей', 'адольфович', 'адольф'],\n",
       " ['адольфовичем', 'адольфович', 'адольф']]"
      ]
     },
     "execution_count": 60,
     "metadata": {},
     "output_type": "execute_result"
    }
   ],
   "source": [
    "wrong_mystem[:1000]"
   ]
  },
  {
   "cell_type": "code",
   "execution_count": null,
   "metadata": {},
   "outputs": [],
   "source": []
  },
  {
   "cell_type": "code",
   "execution_count": 50,
   "metadata": {},
   "outputs": [],
   "source": [
    "pd.DataFrame(X_test_pm).to_csv('xtest.csv', ';', index=False)"
   ]
  },
  {
   "cell_type": "code",
   "execution_count": 60,
   "metadata": {},
   "outputs": [
    {
     "data": {
      "text/html": [
       "<div>\n",
       "<style scoped>\n",
       "    .dataframe tbody tr th:only-of-type {\n",
       "        vertical-align: middle;\n",
       "    }\n",
       "\n",
       "    .dataframe tbody tr th {\n",
       "        vertical-align: top;\n",
       "    }\n",
       "\n",
       "    .dataframe thead th {\n",
       "        text-align: right;\n",
       "    }\n",
       "</style>\n",
       "<table border=\"1\" class=\"dataframe\">\n",
       "  <thead>\n",
       "    <tr style=\"text-align: right;\">\n",
       "      <th></th>\n",
       "      <th>0</th>\n",
       "    </tr>\n",
       "  </thead>\n",
       "  <tbody>\n",
       "    <tr>\n",
       "      <th>0</th>\n",
       "      <td>третьегодичный</td>\n",
       "    </tr>\n",
       "    <tr>\n",
       "      <th>1</th>\n",
       "      <td>обеспечиваться</td>\n",
       "    </tr>\n",
       "    <tr>\n",
       "      <th>2</th>\n",
       "      <td>монополизировать</td>\n",
       "    </tr>\n",
       "    <tr>\n",
       "      <th>3</th>\n",
       "      <td>затлеть</td>\n",
       "    </tr>\n",
       "    <tr>\n",
       "      <th>4</th>\n",
       "      <td>имбирный</td>\n",
       "    </tr>\n",
       "  </tbody>\n",
       "</table>\n",
       "</div>"
      ],
      "text/plain": [
       "                  0\n",
       "0    третьегодичный\n",
       "1    обеспечиваться\n",
       "2  монополизировать\n",
       "3           затлеть\n",
       "4          имбирный"
      ]
     },
     "execution_count": 60,
     "metadata": {},
     "output_type": "execute_result"
    }
   ],
   "source": [
    "mystemmed_ds2=pd.read_csv('mystemmed_xtest.csv',';')\n",
    "mystemmed_ds2.head()"
   ]
  },
  {
   "cell_type": "code",
   "execution_count": 62,
   "metadata": {},
   "outputs": [
    {
     "data": {
      "application/vnd.jupyter.widget-view+json": {
       "model_id": "56cc7bfdee234bacabe98a631b61eb29",
       "version_major": 2,
       "version_minor": 0
      },
      "text/plain": [
       "HBox(children=(IntProgress(value=0, max=797094), HTML(value='')))"
      ]
     },
     "metadata": {},
     "output_type": "display_data"
    }
   ],
   "source": [
    "test2=[w1==w2 for w1, w2 in zip(mystemmed_ds2['0'],tqdm_notebook(y_test_pm))]"
   ]
  },
  {
   "cell_type": "code",
   "execution_count": 63,
   "metadata": {},
   "outputs": [
    {
     "data": {
      "text/plain": [
       "0.10345355366758166"
      ]
     },
     "execution_count": 63,
     "metadata": {},
     "output_type": "execute_result"
    }
   ],
   "source": [
    "sum(test2)/len(test2)"
   ]
  },
  {
   "cell_type": "code",
   "execution_count": 64,
   "metadata": {},
   "outputs": [
    {
     "data": {
      "application/vnd.jupyter.widget-view+json": {
       "model_id": "714af0a6c6d64b319519244d3218eb15",
       "version_major": 2,
       "version_minor": 0
      },
      "text/plain": [
       "HBox(children=(IntProgress(value=0, max=797092), HTML(value='')))"
      ]
     },
     "metadata": {},
     "output_type": "display_data"
    }
   ],
   "source": [
    "wrong_mystem=[[X_test_pm[i],mystemmed_ds2['0'][i],y_test_pm[i]] for i in tqdm_notebook(range(len(test2))) if test2[i]==False]"
   ]
  },
  {
   "cell_type": "code",
   "execution_count": 65,
   "metadata": {},
   "outputs": [
    {
     "data": {
      "text/plain": [
       "[['обеспечивавшись', 'обеспечиваться', 'обеспечивать'],\n",
       " ['отмораживаемее', 'отмораживаемый', 'отмораживать'],\n",
       " ['заслужу', 'заслуживать', 'заслужить'],\n",
       " ['замещенное', 'замещать', 'заместить'],\n",
       " ['приклёпываемому', 'приклепывать', 'приклёпывать'],\n",
       " ['домощённых', 'домащивать', 'домостить'],\n",
       " ['откупят', 'откупать', 'откупить'],\n",
       " ['убереженней', 'убереженный', 'уберечь'],\n",
       " ['абубакирову', 'абубакиров', 'абубакирова'],\n",
       " ['исшаренней', 'исшаренный', 'исшарить'],\n",
       " ['зашпунтовавшимися', 'зашпунтоваться', 'зашпунтовать'],\n",
       " ['накрытый', 'накрывать', 'накрыть'],\n",
       " ['истискивающимся', 'истискиваться', 'истискивать'],\n",
       " ['примостимся', 'примащиваться', 'примостить'],\n",
       " ['вычёсываете', 'вычесывать', 'вычёсывать'],\n",
       " ['привязалось', 'привязываться', 'привязать'],\n",
       " ['скашиваюсь', 'скашиваться', 'скашивать'],\n",
       " ['переглодавшаяся', 'переглодаться', 'переглодать'],\n",
       " ['муштровалось', 'муштроваться', 'муштровать'],\n",
       " ['препоясывавшихся', 'препоясываться', 'препоясывать'],\n",
       " ['перегрызись', 'перегрызться', 'перегрызть'],\n",
       " ['подлестившийся', 'подлещаться', 'подлеститься'],\n",
       " ['задрызгивающиеся', 'задрызгиваться', 'задрызгивать'],\n",
       " ['обслуживалось', 'обслуживаться', 'обслуживать'],\n",
       " ['намораживающимся', 'намораживаться', 'намораживать'],\n",
       " ['перекувырканнее', 'перекувырканный', 'перекувыркать'],\n",
       " ['порасследованнее', 'порасследованный', 'расследовать'],\n",
       " ['высачивавшегося', 'высачиваться', 'высачивать'],\n",
       " ['гравировавшуюся', 'гравироваться', 'гравировать'],\n",
       " ['понаибольшей', 'понаибольший', 'наибольший'],\n",
       " ['увеличенная', 'увеличивать', 'увеличить'],\n",
       " ['нарытее', 'нарытый', 'нарыть'],\n",
       " ['судоподъёмен', 'судоподъемный', 'судоподъёмный'],\n",
       " ['считываешься', 'считываться', 'считывать'],\n",
       " ['вымялись', 'вымяливаться', 'вымять'],\n",
       " ['затрусятся', 'затрушиваться', 'затрусить'],\n",
       " ['запеленывавшемся', 'запеленываться', 'запеленывать'],\n",
       " ['опылилось', 'опыляться', 'опылить'],\n",
       " ['перехлеставшиеся', 'перехлестаться', 'перехлестать'],\n",
       " ['доклеванных', 'доклевывать', 'доклевать'],\n",
       " ['пощурься', 'пощуриться', 'пощурить'],\n",
       " ['объеденных', 'объедать', 'объесть'],\n",
       " ['платонович', 'платонович', 'платон'],\n",
       " ['спарывающимися', 'спарываться', 'спарывать'],\n",
       " ['всунуть', 'всовывать', 'всунуть'],\n",
       " ['затрамбована', 'затрамбовывать', 'затрамбовать'],\n",
       " ['известивших', 'извещать', 'известить'],\n",
       " ['межводных', 'межводный', 'межводное'],\n",
       " ['продолжимся', 'продолжаться', 'продолжиться'],\n",
       " ['свёртывавшегося', 'свертываться', 'свёртывать'],\n",
       " ['докручиваетесь', 'докручиваться', 'докручивать'],\n",
       " ['рассыпаясь', 'рассыпаться', 'рассыпать'],\n",
       " ['образумишь', 'образумливать', 'образумить'],\n",
       " ['развевался', 'развеваться', 'развевать'],\n",
       " ['оттрёпывавшем', 'оттрепывать', 'оттрёпывать'],\n",
       " ['перетушеванное', 'перетушевывать', 'перетушевать'],\n",
       " ['перекупивших', 'перекупать', 'перекупить'],\n",
       " ['изжальте', 'изжаливать', 'изжалить'],\n",
       " ['сравнённый', 'сравнивать', 'сравнить'],\n",
       " ['вспенившейся', 'вспениваться', 'вспенить'],\n",
       " ['поаттестуемее', 'поаттестуемый', 'аттестовать'],\n",
       " ['выбиравшемся', 'выбираться', 'выбирать'],\n",
       " ['взбежавшие', 'взбегать', 'взбежать'],\n",
       " ['оскрёбываемы', 'оскребывать', 'оскрёбывать'],\n",
       " ['отрешённы', 'отрешенный', 'отрешённый'],\n",
       " ['выгрызенном', 'выгрызать', 'выгрызть'],\n",
       " ['планировался', 'планироваться', 'планировать'],\n",
       " ['завёртывавшими', 'завертывать', 'завёртывать'],\n",
       " ['подвялившее', 'подвяливать', 'подвялить'],\n",
       " ['навешаешься', 'навешиваться', 'навешать'],\n",
       " ['готовясь', 'готовиться', 'готовить'],\n",
       " ['потачались', 'потачаться', 'потачать'],\n",
       " ['отославшею', 'отсылать', 'отослать'],\n",
       " ['совратившеюся', 'совращаться', 'совратить'],\n",
       " ['копаемей', 'копаемый', 'копать'],\n",
       " ['покорившая', 'покорять', 'покорить'],\n",
       " ['откочёвывавшую', 'откочевывать', 'откочёвывать'],\n",
       " ['отплескала', 'отплескивать', 'отплескать'],\n",
       " ['лёвины', 'левин', 'лёвин'],\n",
       " ['превзойду', 'превосходить', 'превзойти'],\n",
       " ['пикетировавшаяся', 'пикетироваться', 'пикетировать'],\n",
       " ['пожевывался', 'пожевываться', 'пожевывать'],\n",
       " ['вызреть', 'вызревать', 'вызреть'],\n",
       " ['кувыркнется', 'кувыркнуться', 'кувыркнуть'],\n",
       " ['потчеваться', 'потчеваться', 'потчевать'],\n",
       " ['расщеплен', 'расщеплять', 'расщепить'],\n",
       " ['наславшие', 'насылать', 'наслать'],\n",
       " ['уплетавшегося', 'уплетаться', 'уплетать'],\n",
       " ['притопнувшая', 'притопывать', 'притопнуть'],\n",
       " ['обдернившийся', 'обдерниться', 'обдернить'],\n",
       " ['скапливаясь', 'скапливаться', 'скапливать'],\n",
       " ['утискивается', 'утискиваться', 'утискивать'],\n",
       " ['трёхклассным', 'трехклассный', 'трёхклассный'],\n",
       " ['подтормаживающеюся', 'подтормаживаться', 'подтормаживать'],\n",
       " ['укорочён', 'укорачивать', 'укоротить'],\n",
       " ['утёсистых', 'утесистый', 'утёсистый'],\n",
       " ['избытыми', 'избывать', 'избыть'],\n",
       " ['недопёк', 'недопек', 'недопечь'],\n",
       " ['нащупывающиеся', 'нащупываться', 'нащупывать'],\n",
       " ['поткавшуюся', 'поткаться', 'поткать'],\n",
       " ['обездвиживаться', 'обездвиживаться', 'обездвиживать'],\n",
       " ['кожсырьём', 'кожсырье', 'кожсырьё'],\n",
       " ['залучаемей', 'залучаемый', 'залучать'],\n",
       " ['доплеснувшая', 'доплескивать', 'доплеснуть'],\n",
       " ['чертёжно', 'чертежный', 'чертёжный'],\n",
       " ['обтрёпываемою', 'обтрепывать', 'обтрёпывать'],\n",
       " ['начисляющимися', 'начисляться', 'начислять'],\n",
       " ['схлебнувши', 'схлебывать', 'схлебнуть'],\n",
       " ['глодавшимся', 'глодаться', 'глодать'],\n",
       " ['потомившееся', 'потомиться', 'потомить'],\n",
       " ['подрумянившегося', 'подрумяниваться', 'подрумяниться'],\n",
       " ['перемятее', 'перемятый', 'перемять'],\n",
       " ['расхлябаюсь', 'расхлябываться', 'расхлябаться'],\n",
       " ['перекипятится', 'перекипятиться', 'перекипятить'],\n",
       " ['укрощающихся', 'укрощаться', 'укрощать'],\n",
       " ['насечённее', 'насеченный', 'насечь'],\n",
       " ['расковыриваемся', 'расковыриваться', 'расковыривать'],\n",
       " ['перепружённые', 'перепруживать', 'перепрудить'],\n",
       " ['вытиснется', 'вытисняться', 'вытиснуться'],\n",
       " ['недоиспользовавшееся', 'недоиспользоваться', 'недоиспользовать'],\n",
       " ['стовёрстный', 'стоверстный', 'стовёрстный'],\n",
       " ['обескислородишься', 'обескислородиться', 'обескислородить'],\n",
       " ['вызволяетесь', 'вызволяться', 'вызволять'],\n",
       " ['порасщепляемей', 'порасщепляемый', 'расщеплять'],\n",
       " ['отстоявшись', 'отстаиваться', 'отстоять'],\n",
       " ['адресующимся', 'адресоваться', 'адресовать'],\n",
       " ['перекрепи', 'перекреплять', 'перекрепить'],\n",
       " ['хребтова', 'хребтов', 'хребтовый'],\n",
       " ['идуть', 'идувать', 'идуть'],\n",
       " ['обогнетесь', 'огибаться', 'обогнуть'],\n",
       " ['приукрашавшегося', 'приукрашаться', 'приукрашать'],\n",
       " ['выковырнувшем', 'выковыривать', 'выковырнуть'],\n",
       " ['кошицкая', 'кошицкая', 'кошицкий'],\n",
       " ['измочаленном', 'измочаливать', 'измочалить'],\n",
       " ['провисну', 'провисать', 'провиснуть'],\n",
       " ['перевоплощалась', 'перевоплощаться', 'перевоплощать'],\n",
       " ['давящая', 'давить', 'давящий'],\n",
       " ['перетёсываемся', 'перетесываться', 'перетёсывать'],\n",
       " ['вспариваетесь', 'вспариваться', 'вспаривать'],\n",
       " ['переплачивавшиеся', 'переплачиваться', 'переплачивать'],\n",
       " ['забавляющихся', 'забавляться', 'забавлять'],\n",
       " ['намнёмся', 'наминаться', 'намять'],\n",
       " ['наэлектризовывается', 'наэлектризовываться', 'наэлектризовывать'],\n",
       " ['вшибившуюся', 'вшибиться', 'вшибить'],\n",
       " ['перевёртывайся', 'перевертываться', 'перевёртывать'],\n",
       " ['отыщешь', 'отыскивать', 'отыскать'],\n",
       " ['нашлёпает', 'нашлепывать', 'нашлёпать'],\n",
       " ['натоптаться', 'натоптаться', 'натоптать'],\n",
       " ['гадёнышу', 'гаденыш', 'гадёныш'],\n",
       " ['забривших', 'забривать', 'забрить'],\n",
       " ['разлетевшийся', 'разлетаться', 'разлететься'],\n",
       " ['поавторизуемей', 'поавторизуемый', 'авторизовать'],\n",
       " ['упелёнатом', 'упеленывать', 'упеленать'],\n",
       " ['подверставшеюся', 'подверстываться', 'подверстать'],\n",
       " ['отшлёпывавшие', 'отшлепывать', 'отшлёпывать'],\n",
       " ['струнившемся', 'струниться', 'струнить'],\n",
       " ['недотёп', 'недотепа', 'недотёпа'],\n",
       " ['расклешивший', 'расклешивать', 'расклешить'],\n",
       " ['перекуриваемся', 'перекуриваться', 'перекуривать'],\n",
       " ['исщипавшею', 'исщипывать', 'исщипать'],\n",
       " ['проанализируйся', 'проанализироваться', 'проанализировать'],\n",
       " ['протолкаетесь', 'протолкаться', 'протолкать'],\n",
       " ['изысканным', 'изысканный', 'изыскать'],\n",
       " ['оглупивший', 'оглуплять', 'оглупить'],\n",
       " ['возжегшееся', 'возжигаться', 'возжечься'],\n",
       " ['запятнаннее', 'запятнанный', 'запятнать'],\n",
       " ['придравшеюся', 'придираться', 'придраться'],\n",
       " ['стряхнетесь', 'стряхиваться', 'стряхнуть'],\n",
       " ['продиктовавшейся', 'продиктоваться', 'продиктовать'],\n",
       " ['перегруппированном', 'перегруппировывать', 'перегруппировать'],\n",
       " ['засеребришься', 'засеребриться', 'засеребрить'],\n",
       " ['воскрыляется', 'воскрыляться', 'воскрылять'],\n",
       " ['поподслоенней', 'поподслоенно', 'подслоить'],\n",
       " ['прекращаемся', 'прекращаться', 'прекращать'],\n",
       " ['спугивающийся', 'спугиваться', 'спугивать'],\n",
       " ['прореживался', 'прореживаться', 'прореживать'],\n",
       " ['подыскивавшеюся', 'подыскиваться', 'подыскивать'],\n",
       " ['затошнённый', 'затошнивать', 'затошнить'],\n",
       " ['развёрнутой', 'развертывать', 'развернуть'],\n",
       " ['помятые', 'помять', 'помятый'],\n",
       " ['откупорившей', 'откупоривать', 'откупорить'],\n",
       " ['высуживающуюся', 'высуживаться', 'высуживать'],\n",
       " ['ростиславовен', 'ростиславовна', 'ростислав'],\n",
       " ['открываетесь', 'открываться', 'открывать'],\n",
       " ['пробитое', 'пробивать', 'пробить'],\n",
       " ['выстуживающуюся', 'выстуживаться', 'выстуживать'],\n",
       " ['подогнувшихся', 'подгибаться', 'подогнуться'],\n",
       " ['надумывающеюся', 'надумываться', 'надумывать'],\n",
       " ['увещевавшийся', 'увещеваться', 'увещевать'],\n",
       " ['домащивающееся', 'домащиваться', 'домащивать'],\n",
       " ['примоловшаяся', 'примолоться', 'примолоть'],\n",
       " ['профильтровавшего', 'профильтровывать', 'профильтровать'],\n",
       " ['мевшие', 'мевший', 'мести'],\n",
       " ['обмерзший', 'обмерзать', 'обмерзнуть'],\n",
       " ['диагностирующихся', 'диагностироваться', 'диагностировать'],\n",
       " ['приободряемее', 'приободряемый', 'приободрять'],\n",
       " ['модерирующемся', 'модерироваться', 'модерировать'],\n",
       " ['допродаёшься', 'допродаваться', 'допродавать'],\n",
       " ['пропили', 'пропивать', 'пропить'],\n",
       " ['угнетенную', 'угнетенный', 'угнести'],\n",
       " ['распутавшем', 'распутывать', 'распутать'],\n",
       " ['раскулачиваешься', 'раскулачиваться', 'раскулачивать'],\n",
       " ['трелевался', 'трелеваться', 'трелевать'],\n",
       " ['перетоптанную', 'перетаптывать', 'перетоптать'],\n",
       " ['навяливающийся', 'навяливаться', 'навяливать'],\n",
       " ['исстилавшийся', 'исстилаться', 'исстилать'],\n",
       " ['выбуксировавшись', 'выбуксироваться', 'выбуксировать'],\n",
       " ['выменянную', 'выменивать', 'выменять'],\n",
       " ['отрясены', 'отрясать', 'отрясти'],\n",
       " ['отпутавшиеся', 'отпутываться', 'отпутать'],\n",
       " ['пощёлкивавших', 'пощелкивать', 'пощёлкивать'],\n",
       " ['монетизирующаяся', 'монетизироваться', 'монетизировать'],\n",
       " ['архитектурно-проектную', 'архитектурный', 'архитектурно-проектный'],\n",
       " ['поизрисовываемей', 'поизрисовываемый', 'изрисовывать'],\n",
       " ['захоронился', 'захорониться', 'захоронить'],\n",
       " ['проигравшиеся', 'проигрываться', 'проиграть'],\n",
       " ['перепихнёшься', 'перепихиваться', 'перепихнуть'],\n",
       " ['обнажавшихся', 'обнажаться', 'обнажать'],\n",
       " ['промолвившуюся', 'промолвиться', 'промолвить'],\n",
       " ['коричнево-смуглым', 'коричневый', 'коричнево-смуглый'],\n",
       " ['обкармливавшаяся', 'обкармливаться', 'обкармливать'],\n",
       " ['изготавливав', 'изготовлять', 'изготавливать'],\n",
       " ['выцедившеюся', 'выцеживаться', 'выцедить'],\n",
       " ['высасывающемуся', 'высасываться', 'высасывать'],\n",
       " ['немудрёней', 'немудреный', 'немудрёный'],\n",
       " ['пошпунтованней', 'пошпунтованный', 'шпунтовать'],\n",
       " ['выпихается', 'выпихаться', 'выпихать'],\n",
       " ['воспитывавшееся', 'воспитываться', 'воспитывать'],\n",
       " ['подыгравшая', 'подыгрывать', 'подыграть'],\n",
       " ['покорнейшие', 'покорный', 'покорнейший'],\n",
       " ['припроситься', 'припроситься', 'припросить'],\n",
       " ['вымолоченную', 'вымолачивать', 'вымолотить'],\n",
       " ['намеряющийся', 'намериваться', 'намерять'],\n",
       " ['задёрнула', 'задернуть', 'задёрнуть'],\n",
       " ['обтащись', 'обтащиться', 'обтащить'],\n",
       " ['выгадывавшихся', 'выгадываться', 'выгадывать'],\n",
       " ['сличался', 'сличаться', 'сличать'],\n",
       " ['утишившей', 'утишать', 'утишить'],\n",
       " ['осуществлявшейся', 'осуществляться', 'осуществлять'],\n",
       " ['повергалась', 'повергаться', 'повергать'],\n",
       " ['ошвартовиться', 'ошвартовиться', 'ошвартовить'],\n",
       " ['вдохновлённость', 'вдохновленность', 'вдохновлённость'],\n",
       " ['выместившемся', 'вымещаться', 'выместиться'],\n",
       " ['одное', 'одный', 'одное'],\n",
       " ['разившемуся', 'разиться', 'разить'],\n",
       " ['закладывавшуюся', 'закладываться', 'закладывать'],\n",
       " ['оберешь', 'обирать', 'обобрать'],\n",
       " ['поглотившими', 'поглощать', 'поглотить'],\n",
       " ['напудрено', 'напудривать', 'напудрить'],\n",
       " ['натоптанных', 'натаптывать', 'натоптать'],\n",
       " ['домостит', 'домащивать', 'домостить'],\n",
       " ['помянутей', 'помянутый', 'помянуть'],\n",
       " ['обязывающемуся', 'обязываться', 'обязывать'],\n",
       " ['справит', 'справлять', 'справить'],\n",
       " ['исплевываемей', 'исплевываемый', 'исплевывать'],\n",
       " ['подпечатаются', 'подпечататься', 'подпечатать'],\n",
       " ['подмуруй', 'подмуровывать', 'подмуровать'],\n",
       " ['стартов', 'старт', 'стартовый'],\n",
       " ['пробуждаясь', 'пробуждаться', 'пробуждать'],\n",
       " ['сманенным', 'сманивать', 'сманить'],\n",
       " ['отстроятся', 'отстраиваться', 'отстроиться'],\n",
       " ['опрокинувшем', 'опрокидывать', 'опрокинуть'],\n",
       " ['руководящихся', 'руководиться', 'руководить'],\n",
       " ['ляпалось', 'ляпаться', 'ляпать'],\n",
       " ['винтовальней', 'винтовальня', 'винтовальный'],\n",
       " ['плакирующиеся', 'плакироваться', 'плакировать'],\n",
       " ['выскребаешься', 'выскребаться', 'выскребать'],\n",
       " ['прищепившего', 'прищеплять', 'прищепить'],\n",
       " ['преодолен', 'преодолевать', 'преодолеть'],\n",
       " ['идентифицировавшееся', 'идентифицироваться', 'идентифицировать'],\n",
       " ['жалевшейся', 'жалеться', 'жалеть'],\n",
       " ['объединенное', 'объединять', 'объединить'],\n",
       " ['обмётывал', 'обметывать', 'обмётывать'],\n",
       " ['увенчаю', 'увенчивать', 'увенчать'],\n",
       " ['сковородников', 'сковородников', 'сковородник'],\n",
       " ['отдёргивайся', 'отдергиваться', 'отдёргивать'],\n",
       " ['заявившими', 'заявлять', 'заявить'],\n",
       " ['подчертившаяся', 'подчерчиваться', 'подчертить'],\n",
       " ['арсениевиче', 'арсениевич', 'арсений'],\n",
       " ['нафабривший', 'нафабривать', 'нафабрить'],\n",
       " ['прожектёрской', 'прожектерский', 'прожектёрский'],\n",
       " ['выпихивающемуся', 'выпихиваться', 'выпихивать'],\n",
       " ['перелуживавшеюся', 'перелуживаться', 'перелуживать'],\n",
       " ['фрезерующуюся', 'фрезероваться', 'фрезеровать'],\n",
       " ['пхайся', 'пхаться', 'пхать'],\n",
       " ['доленное', 'доленный', 'долить'],\n",
       " ['покоробиться', 'покоробиться', 'покоробить'],\n",
       " ['альваре', 'альвара', 'альвар'],\n",
       " ['упятеряется', 'упятеряться', 'упятерять'],\n",
       " ['нашинковываться', 'нашинковываться', 'нашинковывать'],\n",
       " ['обследуетесь', 'обследоваться', 'обследовать'],\n",
       " ['подкрадёшься', 'подкрадываться', 'подкрасться'],\n",
       " ['хватанись', 'хватануться', 'хватануть'],\n",
       " ['тюленят', 'тюлененок', 'тюленёнок'],\n",
       " ['делавшемся', 'делаться', 'делать'],\n",
       " ['напоимся', 'напоимся', 'напоить'],\n",
       " ['втравленный', 'втравлять', 'втравить'],\n",
       " ['переассигновавши', 'переассигновывать', 'переассигновать'],\n",
       " ['поддёрнувши', 'поддергивать', 'поддёрнуть'],\n",
       " ['пообмасливаемее', 'пообмасливаемый', 'обмасливать'],\n",
       " ['низвергнусь', 'низвергаться', 'низвергнуть'],\n",
       " ['прибережен', 'приберегать', 'прибережный'],\n",
       " ['жаковнами', 'жаковна', 'жак'],\n",
       " ['достроюсь', 'достраиваться', 'достроиться'],\n",
       " ['заправите', 'заправлять', 'заправить'],\n",
       " ['елисеевной', 'елисеевна', 'елисей'],\n",
       " ['парафировавшиеся', 'парафироваться', 'парафировать'],\n",
       " ['расчертите', 'расчерчивать', 'расчертить'],\n",
       " ['натужившая', 'натуживать', 'натужить'],\n",
       " ['преклонённом', 'преклонять', 'преклонить'],\n",
       " ['подклёвывавшиеся', 'подклевываться', 'подклёвывать'],\n",
       " ['трёхсполовинная', 'трехсполовинный', 'трёхсполовинный'],\n",
       " ['отлакированная', 'отлакировывать', 'отлакировать'],\n",
       " ['отживило', 'отживлять', 'отживить'],\n",
       " ['растюковывавшихся', 'растюковываться', 'растюковывать'],\n",
       " ['взманивающимися', 'взманиваться', 'взманивать'],\n",
       " ['подвухфазовей', 'подвухфазовый', 'двухфазовый'],\n",
       " ['сочинёнными', 'сочиненный', 'сочинённый'],\n",
       " ['фаст-фуда', 'фаст', 'фаст-фуд'],\n",
       " ['выпарывающуюся', 'выпарываться', 'выпарывать'],\n",
       " ['успеешь', 'успевать', 'успеть'],\n",
       " ['прояснившихся', 'проясниваться', 'проясниться'],\n",
       " ['хряпался', 'хряпаться', 'хряпать'],\n",
       " ['попереманиваемее', 'попереманиваемый', 'переманивать'],\n",
       " ['втачавшею', 'втачивать', 'втачать'],\n",
       " ['скупила', 'скупать', 'скупить'],\n",
       " ['потомятся', 'потомиться', 'потомить'],\n",
       " ['отворачивающейся', 'отворачиваться', 'отворачивать'],\n",
       " ['пересасывавшеюся', 'пересасываться', 'пересасывать'],\n",
       " ['выкорчевывающиеся', 'выкорчевываться', 'выкорчевывать'],\n",
       " ['феодосьевнами', 'феодосьевна', 'феодосий'],\n",
       " ['вычертись', 'вычерчиваться', 'вычертить'],\n",
       " ['надвертывавшимися', 'надвертываться', 'надвертывать'],\n",
       " ['разборонован', 'разбороновывать', 'разбороновать'],\n",
       " ['подплыло', 'подплывать', 'подплыть'],\n",
       " ['оттачивавшейся', 'оттачиваться', 'оттачивать'],\n",
       " ['разомкнувшемуся', 'размыкаться', 'разомкнуться'],\n",
       " ['перебелённою', 'перебелять', 'перебелить'],\n",
       " ['хохлёнком', 'хохленок', 'хохлёнок'],\n",
       " ['шплинтующиеся', 'шплинтоваться', 'шплинтовать'],\n",
       " ['перебривающуюся', 'перебриваться', 'перебривать'],\n",
       " ['прирастившиеся', 'прираститься', 'прирастить'],\n",
       " ['хлебнувшемся', 'хлебываться', 'хлебнуть'],\n",
       " ['переплескавшись', 'переплескаться', 'переплескать'],\n",
       " ['осенившись', 'осеняться', 'осениться'],\n",
       " ['щебенитесь', 'щебениться', 'щебенить'],\n",
       " ['поприбиваетесь', 'поприбиваться', 'поприбивать'],\n",
       " ['взволоченная', 'взволочить', 'взволочь'],\n",
       " ['разоруженном', 'разоружать', 'разоружить'],\n",
       " ['понатаскалось', 'понатаскаться', 'понатаскать'],\n",
       " ['приучавшеюся', 'приучаться', 'приучать'],\n",
       " ['металлизирующееся', 'металлизироваться', 'металлизировать'],\n",
       " ['отпевались', 'отпеваться', 'отпевать'],\n",
       " ['чу-фффыышшш', 'чу', 'чу-фффыышшш'],\n",
       " ['растрясенная', 'растрясать', 'растрясти'],\n",
       " ['подшпаклуются', 'подшпакловаться', 'подшпаклевать'],\n",
       " ['недоделанную', 'недоделывать', 'недоделать'],\n",
       " ['растрёпывающемуся', 'растрепываться', 'растрёпывать'],\n",
       " ['выпиливалась', 'выпиливаться', 'выпиливать'],\n",
       " ['обстававшемуся', 'обставаться', 'обставать'],\n",
       " ['четырёхкратному', 'четырехкратный', 'четырёхкратный'],\n",
       " ['приведенная', 'приводить', 'привести'],\n",
       " ['отсевшая', 'отсаживаться', 'отсесть'],\n",
       " ['зарубивший', 'зарубать', 'зарубить'],\n",
       " ['перенюхавшиеся', 'перенюхиваться', 'перенюхать'],\n",
       " ['подседлывавшимся', 'подседлываться', 'подседлывать'],\n",
       " ['перенумеровала', 'перенумеровывать', 'перенумеровать'],\n",
       " ['вмороженнее', 'вмороженный', 'вморозить'],\n",
       " ['взгретое', 'взгревать', 'взгреть'],\n",
       " ['оплевываешься', 'оплевываться', 'оплевывать'],\n",
       " ['обремизитесь', 'обремизиваться', 'обремизить'],\n",
       " ['тузившихся', 'тузиться', 'тузить'],\n",
       " ['отгородитесь', 'отгораживаться', 'отгородить'],\n",
       " ['повымериваемее', 'повымериваемый', 'вымеривать'],\n",
       " ['оросившем', 'орошать', 'оросить'],\n",
       " ['обсужденного', 'обсуждать', 'обсудить'],\n",
       " ['пришёптывающеюся', 'пришептываться', 'пришёптывать'],\n",
       " ['проколупавшему', 'проколупывать', 'проколупать'],\n",
       " ['перемеряющего', 'перемеривать', 'перемерять'],\n",
       " ['четырёхгодовал', 'четырехгодовалый', 'четырёхгодовалый'],\n",
       " ['обеленной', 'обелять', 'обелить'],\n",
       " ['досушивавшиеся', 'досушиваться', 'досушивать'],\n",
       " ['линовавшемся', 'линоваться', 'линовать'],\n",
       " ['убивший', 'убивать', 'убить'],\n",
       " ['колошматящемся', 'колошматиться', 'колошматить'],\n",
       " ['панорамировавшихся', 'панорамироваться', 'панорамировать'],\n",
       " ['подвысишь', 'подвышать', 'подвысить'],\n",
       " ['поёживающуюся', 'поеживаться', 'поёживаться'],\n",
       " ['вытраливался', 'вытраливаться', 'вытраливать'],\n",
       " ['обандероленную', 'обандероливать', 'обандеролить'],\n",
       " ['растиснется', 'растискиваться', 'растиснуть'],\n",
       " ['пробаллотировались', 'пробаллотироваться', 'пробаллотировать'],\n",
       " ['пузцом', 'пузцом', 'пузцо'],\n",
       " ['причерчивавшимися', 'причерчиваться', 'причерчивать'],\n",
       " ['пломбировавшихся', 'пломбироваться', 'пломбировать'],\n",
       " ['переопылённом', 'переопылять', 'переопылить'],\n",
       " ['переподготовляемся', 'переподготавливаться', 'переподготовляться'],\n",
       " ['понанесшуюся', 'понанестись', 'понанести'],\n",
       " ['прочащуюся', 'прочиться', 'прочить'],\n",
       " ['подгримировавший', 'подгримировывать', 'подгримировать'],\n",
       " ['политехнизировавшееся', 'политехнизироваться', 'политехнизировать'],\n",
       " ['тианы', 'тиан', 'тиана'],\n",
       " ['предуведомляющемуся', 'предуведомляться', 'предуведомлять'],\n",
       " ['образовала', 'образовывать', 'образовать'],\n",
       " ['набросившимися', 'наброситься', 'набросить'],\n",
       " ['ариаднина', 'ариаднина', 'ариаднин'],\n",
       " ['расшаркавшаяся', 'расшаркиваться', 'расшаркаться'],\n",
       " ['обстающемуся', 'обставаться', 'обставать'],\n",
       " ['покроившимися', 'покраиваться', 'покроить'],\n",
       " ['увертывавшеюся', 'увертываться', 'увертывать'],\n",
       " ['пересвистаться', 'пересвистаться', 'пересвистать'],\n",
       " ['зацветшие', 'зацветать', 'зацвести'],\n",
       " ['пописываясь', 'пописываться', 'пописывать'],\n",
       " ['окупившею', 'окупать', 'окупить'],\n",
       " ['облевавшиеся', 'облевываться', 'облевать'],\n",
       " ['предупредимся', 'предупредиться', 'предупредить'],\n",
       " ['зажмурь', 'зажмуривать', 'зажмурить'],\n",
       " ['перещёлканнее', 'перещелканно', 'перещёлкать'],\n",
       " ['подвершившею', 'подвершивать', 'подвершить'],\n",
       " ['попочесываемее', 'попочесываемый', 'почесывать'],\n",
       " ['заслушивалась', 'заслушиваться', 'заслушивать'],\n",
       " ['развеселённой', 'развеселять', 'развеселить'],\n",
       " ['прозвавшийся', 'прозываться', 'прозвать'],\n",
       " ['переграфившая', 'переграфлять', 'переграфить'],\n",
       " ['пикетирующимся', 'пикетироваться', 'пикетировать'],\n",
       " ['пролёты', 'пролет', 'пролёт'],\n",
       " ['клешнятые', 'клешнятой', 'клешнятый'],\n",
       " ['поприкраиваемее', 'поприкраиваемый', 'прикраивать'],\n",
       " ['приперчивающаяся', 'приперчиваться', 'приперчивать'],\n",
       " ['стукаясь', 'стукаться', 'стукать'],\n",
       " ['облапливались', 'облапливаться', 'облапливать'],\n",
       " ['выждавшимся', 'выждаться', 'выждать'],\n",
       " ['замётываем', 'заметывать', 'замётывать'],\n",
       " ['примётываю', 'приметывать', 'примётывать'],\n",
       " ['повстаскиваемей', 'повстаскиваемый', 'встаскивать'],\n",
       " ['перекатываться', 'перекатываться', 'перекатывать'],\n",
       " ['глиобластом', 'глиобласт', 'глиобластома'],\n",
       " ['подстрачивалась', 'подстрачиваться', 'подстрачивать'],\n",
       " ['принявши', 'принимать', 'принять'],\n",
       " ['растолковываюсь', 'растолковываться', 'растолковывать'],\n",
       " ['намекнуло', 'намекать', 'намекнуть'],\n",
       " ['настуживающеюся', 'настуживаться', 'настуживать'],\n",
       " ['потягивающемуся', 'потягиваться', 'потягивать'],\n",
       " ['фабрикующиеся', 'фабриковаться', 'фабриковать'],\n",
       " ['размельчившегося', 'размельчаться', 'размельчить'],\n",
       " ['отбросившую', 'отбрасывать', 'отбросить'],\n",
       " ['взволакивавшаяся', 'взволакиваться', 'взволакивать'],\n",
       " ['отягчаемся', 'отягчаться', 'отягчать'],\n",
       " ['устремлявшуюся', 'устремляться', 'устремлять'],\n",
       " ['чествовавшегося', 'чествоваться', 'чествовать'],\n",
       " ['отчерпнетесь', 'отчерпываться', 'отчерпнуть'],\n",
       " ['чекае', 'чекай', 'чекае'],\n",
       " ['отвалю', 'отваливать', 'отвалить'],\n",
       " ['проборонуетесь', 'пробороноваться', 'пробороновать'],\n",
       " ['протопите', 'протапливать', 'протопить'],\n",
       " ['отмучившеюся', 'отмучиваться', 'отмучиться'],\n",
       " ['обессахариваясь', 'обессахариваться', 'обессахаривать'],\n",
       " ['выкорпись', 'выкорпеться', 'выкорпеть'],\n",
       " ['припорашивающимися', 'припорашиваться', 'припорашивать'],\n",
       " ['одержавшемуся', 'одержаться', 'одержать'],\n",
       " ['промерит', 'промеривать', 'промерить'],\n",
       " ['повмётываемее', 'повметываемый', 'вмётывать'],\n",
       " ['оцинковываемей', 'оцинковываемый', 'оцинковывать'],\n",
       " ['окуньков', 'окуньков', 'окунёк'],\n",
       " ['распряжённый', 'распрягать', 'распрячь'],\n",
       " ['гидросамолёте', 'гидросамолет', 'гидросамолёт'],\n",
       " ['взрываемей', 'взрываемый', 'взрывать'],\n",
       " ['отплатившейся', 'отплатиться', 'отплатить'],\n",
       " ['умешивающегося', 'умешиваться', 'умешивать'],\n",
       " ['попреломлённее', 'попреломленный', 'преломить'],\n",
       " ['примешивающемся', 'примешиваться', 'примешивать'],\n",
       " ['тарируемее', 'тарируемый', 'тарировать'],\n",
       " ['сочинившим', 'сочинять', 'сочинить'],\n",
       " ['приторцевавшее', 'приторцовывать', 'приторцевать'],\n",
       " ['ушлёшь', 'усылать', 'услать'],\n",
       " ['пролётах', 'пролет', 'пролёт'],\n",
       " ['побуждаться', 'побуждаться', 'побуждать'],\n",
       " ['зарезервируйся', 'зарезервироваться', 'зарезервировать'],\n",
       " ['поперескребеннее', 'поперескребенной', 'перескрести'],\n",
       " ['клюнуться', 'клюнуться', 'клюнуть'],\n",
       " ['отманившим', 'отманивать', 'отманить'],\n",
       " ['отламывайся', 'отламываться', 'отламывать'],\n",
       " ['вмуровывающимися', 'вмуровываться', 'вмуровывать'],\n",
       " ['утеснила', 'утеснять', 'утеснить'],\n",
       " ['повычаленней', 'повычаленный', 'вычалить'],\n",
       " ['генерал-капитаны', 'генерал', 'генерал-капитан'],\n",
       " ['обротавшуюся', 'обротаться', 'обротать'],\n",
       " ['зажжённых', 'зажигать', 'зажечь'],\n",
       " ['вычленялись', 'вычленяться', 'вычленять'],\n",
       " ['посетившими', 'посещать', 'посетить'],\n",
       " ['запугавшихся', 'запугаться', 'запугать'],\n",
       " ['попережженнее', 'попережженный', 'пережечь'],\n",
       " ['скрыто', 'скрывать', 'скрыть'],\n",
       " ['измыслившиеся', 'измыслиться', 'измыслить'],\n",
       " ['допре', 'допер', 'допр'],\n",
       " ['яровизирующимся', 'яровизироваться', 'яровизировать'],\n",
       " ['утихомиривались', 'утихомириваться', 'утихомиривать'],\n",
       " ['зашкуренное', 'зашкуривать', 'зашкурить'],\n",
       " ['вытрезвлены', 'вытрезвлять', 'вытрезвить'],\n",
       " ['запихалась', 'запихиваться', 'запихать'],\n",
       " ['подседлывавшегося', 'подседлываться', 'подседлывать'],\n",
       " ['подселялся', 'подселяться', 'подселять'],\n",
       " ['поопоганеннее', 'поопоганенный', 'опоганить'],\n",
       " ['распоясавшей', 'распоясывать', 'распоясать'],\n",
       " ['выдаивавшуюся', 'выдаиваться', 'выдаивать'],\n",
       " ['понаплаканней', 'понаплаканный', 'наплакать'],\n",
       " ['лакаемее', 'лакаемый', 'лакать'],\n",
       " ['ссученнее', 'ссученный', 'ссучить'],\n",
       " ['брюхатящимися', 'брюхатиться', 'брюхатить'],\n",
       " ['заклевавшеюся', 'заклеваться', 'заклевать'],\n",
       " ['обливаемее', 'обливаемый', 'обливать'],\n",
       " ['отколошматитесь', 'отколошматиться', 'отколошматить'],\n",
       " ['затуркавшемся', 'затуркаться', 'затуркать'],\n",
       " ['ввёрстывающийся', 'вверстываться', 'ввёрстывать'],\n",
       " ['шьющеюся', 'шиться', 'шить'],\n",
       " ['демаркировавшийся', 'демаркироваться', 'демаркировать'],\n",
       " ['чернозёмами', 'чернозем', 'чернозём'],\n",
       " ['выкорчёвываемое', 'выкорчевывать', 'выкорчёвывать'],\n",
       " ['запрыскивавшуюся', 'запрыскиваться', 'запрыскивать'],\n",
       " ['всаживавшихся', 'всаживаться', 'всаживать'],\n",
       " ['балыкова', 'балыков', 'балыковый'],\n",
       " ['патрулируемее', 'патрулируемый', 'патрулировать'],\n",
       " ['нападающий', 'нападающий', 'нападать'],\n",
       " ['отрыгнетесь', 'отрыгиваться', 'отрыгнуться'],\n",
       " ['напахивавшуюся', 'напахиваться', 'напахивать'],\n",
       " ['мелите', 'молоть', 'мелить'],\n",
       " ['протискивающемся', 'протискиваться', 'протискивать'],\n",
       " ['разворошенною', 'разворашивать', 'разворошить'],\n",
       " ['протурилось', 'протуриться', 'протурить'],\n",
       " ['кроссовок', 'кроссовок', 'кроссовка'],\n",
       " ['недоучитываемей', 'недоучитываемый', 'недоучитывать'],\n",
       " ['разменивавшеюся', 'размениваться', 'разменивать'],\n",
       " ['настиглись', 'настигаться', 'настигнуть'],\n",
       " ['понурившейся', 'понуриваться', 'понуриться'],\n",
       " ['заляпавших', 'заляпывать', 'заляпать'],\n",
       " ['подволочешься', 'подволочься', 'подволочь'],\n",
       " ['отведывающейся', 'отведываться', 'отведывать'],\n",
       " ['прожегшееся', 'прожигаться', 'прожечься'],\n",
       " ['поупрочиваемее', 'поупрочиваемый', 'упрочивать'],\n",
       " ['пораскруженнее', 'пораскруженный', 'раскружить'],\n",
       " ['вспрыскивающеюся', 'вспрыскиваться', 'вспрыскивать'],\n",
       " ['насказанным', 'насказывать', 'насказать'],\n",
       " ['будившуюся', 'будиться', 'будить'],\n",
       " ['отпечатлевшемуся', 'отпечатлеваться', 'отпечатлеть'],\n",
       " ['понялось', 'поняться', 'понять'],\n",
       " ['набронзированною', 'набронзировывать', 'набронзировать'],\n",
       " ['ожгись', 'ожигаться', 'ожечь'],\n",
       " ['прицеплявшиеся', 'прицепляться', 'прицеплять'],\n",
       " ['перетушевавшей', 'перетушевывать', 'перетушевать'],\n",
       " ['доскоблят', 'доскабливать', 'доскоблить'],\n",
       " ['похимизируемей', 'похимизируемый', 'химизировать'],\n",
       " ['позаражённей', 'позараженный', 'заразить'],\n",
       " ['масленка', 'масленка', 'масленок'],\n",
       " ['пририсовавшемуся', 'пририсовываться', 'пририсовать'],\n",
       " ['повакситься', 'повакситься', 'поваксить'],\n",
       " ['отгадывающеюся', 'отгадываться', 'отгадывать'],\n",
       " ['поприглядываемей', 'поприглядываемый', 'приглядывать'],\n",
       " ['допряли', 'допрядать', 'допрясть'],\n",
       " ['тонировалась', 'тонироваться', 'тонировать'],\n",
       " ['превосходнейших', 'превосходный', 'превосходнейший'],\n",
       " ['этапирующаяся', 'этапироваться', 'этапировать'],\n",
       " ['хасанович', 'хасанович', 'хасан'],\n",
       " ['потопимся', 'потопиться', 'потопить'],\n",
       " ['ополячу', 'ополячивать', 'ополячить'],\n",
       " ['оправдай', 'оправдывать', 'оправдать'],\n",
       " ['захвачусь', 'захватиться', 'захватить'],\n",
       " ['милейший', 'милый', 'милейший'],\n",
       " ['прокаленная', 'прокаливать', 'прокалить'],\n",
       " ['позабыться', 'позабываться', 'позабыть'],\n",
       " ['уворовывающейся', 'уворовываться', 'уворовывать'],\n",
       " ['недосчитался', 'недосчитываться', 'недосчитаться'],\n",
       " ['выштукатуривавшееся', 'выштукатуриваться', 'выштукатуривать'],\n",
       " ['сжинающемся', 'сжинаться', 'сжинать'],\n",
       " ['сворачивающеюся', 'сворачиваться', 'сворачивать'],\n",
       " ['попривраннее', 'попривранно', 'приврать'],\n",
       " ['поуготовленней', 'поуготовленный', 'уготовить'],\n",
       " ['измельчился', 'измельчаться', 'измельчить'],\n",
       " ['проскакивавшиеся', 'проскакиваться', 'проскакивать'],\n",
       " ['замялась', 'заминаться', 'замять'],\n",
       " ['погнутые', 'погнутый', 'погнуть'],\n",
       " ['выхолодилась', 'выхолаживаться', 'выхолодить'],\n",
       " ['позлащенной', 'позлащать', 'позлатить'],\n",
       " ['зализавшую', 'зализывать', 'зализать'],\n",
       " ['переквасившая', 'переквашивать', 'переквасить'],\n",
       " ['ревнуйся', 'ревноваться', 'ревновать'],\n",
       " ['ошкуривших', 'ошкуривать', 'ошкурить'],\n",
       " ['пемзующиеся', 'пемзоваться', 'пемзовать'],\n",
       " ['цукавшеюся', 'цукаться', 'цукать'],\n",
       " ['удавливаются', 'удавливаться', 'удавливать'],\n",
       " ['сараевами', 'сараев', 'сараево'],\n",
       " ['приделанными', 'приделывать', 'приделать'],\n",
       " ['опечалена', 'опечаливать', 'опечалить'],\n",
       " ['обоготворявшись', 'обоготворяться', 'обоготворять'],\n",
       " ['забросилась', 'заброситься', 'забросить'],\n",
       " ['подклепанному', 'подклепывать', 'подклепать'],\n",
       " ['подпудрившихся', 'подпудрившийся', 'подпудрить'],\n",
       " ['настелившие', 'настилать', 'настелить'],\n",
       " ['миропомажусь', 'миропомазаться', 'миропомазать'],\n",
       " ['приправляется', 'приправляться', 'приправлять'],\n",
       " ['околпачило', 'околпачивать', 'околпачить'],\n",
       " ['муарированнее', 'муарированный', 'муарировать'],\n",
       " ['живущаяся', 'живущийся', 'житься'],\n",
       " ['проштемпелевавшим', 'проштемпелевывать', 'проштемпелевать'],\n",
       " ['заморозившись', 'замораживаться', 'заморозить'],\n",
       " ['выронившееся', 'вырониться', 'выронить'],\n",
       " ['избывшихся', 'избываться', 'избыть'],\n",
       " ['перечеканившими', 'перечеканивать', 'перечеканить'],\n",
       " ['притешете', 'притесывать', 'притесать'],\n",
       " ['перетравишь', 'перетравливать', 'перетравить'],\n",
       " ['забравшимися', 'забираться', 'забрать'],\n",
       " ['подщелкнуло', 'подщелкивать', 'подщелкнуть'],\n",
       " ['разболталось', 'разбалтываться', 'разболтать'],\n",
       " ['фильтровавшимся', 'фильтроваться', 'фильтровать'],\n",
       " ['повынуждаемее', 'повынуждаемый', 'вынуждать'],\n",
       " ['подловившимся', 'подловиться', 'подловить'],\n",
       " ['подщелочишь', 'подщелачивать', 'подщелочить'],\n",
       " ['подкалившегося', 'подкалиться', 'подкалить'],\n",
       " ['азатов', 'азатов', 'азат'],\n",
       " ['учено', 'ученый', 'учить'],\n",
       " ['перекапавшееся', 'перекапаться', 'перекапать'],\n",
       " ['обезземеленною', 'обезземеливать', 'обезземелить'],\n",
       " ['подгадит', 'подгаживать', 'подгадить'],\n",
       " ['налаживавшимися', 'налаживаться', 'налаживать'],\n",
       " ['перекравшийся', 'перекрасться', 'перекрасть'],\n",
       " ['закатал', 'закатывать', 'закатать'],\n",
       " ['протелеграфировавшуюся', 'протелеграфироваться', 'протелеграфировать'],\n",
       " ['базированней', 'базированный', 'базировать'],\n",
       " ['утемнимся', 'утемняться', 'утемнить'],\n",
       " ['умчавшимися', 'умчаться', 'умчать'],\n",
       " ['подлепляющегося', 'подлепляться', 'подлеплять'],\n",
       " ['удравшие', 'удирать', 'удрать'],\n",
       " ['переоцененный', 'переоценивать', 'переоценить'],\n",
       " ['дрожжующаяся', 'дрожжеваться', 'дрожжевать'],\n",
       " ['провериться', 'проверяться', 'проверить'],\n",
       " ['расшнуровавшаяся', 'расшнуровываться', 'расшнуроваться'],\n",
       " ['избавляться', 'избавляться', 'избавлять'],\n",
       " ['обшибившее', 'обшибать', 'обшибить'],\n",
       " ['ошибёшься', 'ошибаться', 'ошибиться'],\n",
       " ['напружённей', 'напруженный', 'напрудить'],\n",
       " ['заедены', 'заедать', 'заесть'],\n",
       " ['гипсовавшихся', 'гипсоваться', 'гипсовать'],\n",
       " ['наскребаетесь', 'наскребаться', 'наскребать'],\n",
       " ['покоробившемуся', 'покоробиться', 'покоробить'],\n",
       " ['пастеризующуюся', 'пастеризоваться', 'пастеризовать'],\n",
       " ['продифференцировавшийся', 'продифференцироваться', 'продифференцировать'],\n",
       " ['прошпиговало', 'прошпиговывать', 'прошпиговать'],\n",
       " ['вклёпываемся', 'вклепываться', 'вклёпывать'],\n",
       " ['пробелённою', 'пробеливать', 'пробелить'],\n",
       " ['уделившийся', 'уделиться', 'уделить'],\n",
       " ['высушенное', 'высушивать', 'высушить'],\n",
       " ['измерят', 'измерять', 'измерить'],\n",
       " ['забережённые', 'заберегать', 'заберечь'],\n",
       " ['выкалившись', 'выкалиться', 'выкалить'],\n",
       " ['кропившеюся', 'кропиться', 'кропить'],\n",
       " ['понастигнутей', 'понастигнутый', 'настигнуть'],\n",
       " ['откормилась', 'откармливаться', 'откормиться'],\n",
       " ['вынизанном', 'вынизывать', 'вынизать'],\n",
       " ['совлечься', 'совлекаться', 'совлечь'],\n",
       " ['расквасившимися', 'раскваситься', 'расквасить'],\n",
       " ['перелистовавшаяся', 'перелистоваться', 'перелистовать'],\n",
       " ['замеряешься', 'замериться', 'замерять'],\n",
       " ['подбелённому', 'подбеливать', 'подбелить'],\n",
       " ['димовичах', 'димович', 'дим'],\n",
       " ['прищемился', 'прищемляться', 'прищемить'],\n",
       " ['нахмуриваемей', 'нахмуриваемый', 'нахмуривать'],\n",
       " ['покинувшие', 'покидать', 'покинуть'],\n",
       " ['накрадете', 'накрадывать', 'накрасть'],\n",
       " ['саввовнам', 'саввична', 'савва'],\n",
       " ['прозубрили', 'прозубривать', 'прозубрить'],\n",
       " ['переобучившею', 'переобучать', 'переобучить'],\n",
       " ['измусолена', 'измусоливать', 'измусолить'],\n",
       " ['кропаемей', 'кропаемый', 'кропать'],\n",
       " ['съёмного', 'съемный', 'съёмный'],\n",
       " ['простёгивала', 'простегивать', 'простёгивать'],\n",
       " ['переупаковывающеюся', 'переупаковываться', 'переупаковывать'],\n",
       " ['понезавершённее', 'незавершенный', 'незавершённый'],\n",
       " ['промокнётся', 'промокнуться', 'промокнуть'],\n",
       " ['переутомлённее', 'переутомленный', 'переутомить'],\n",
       " ['обмуровался', 'обмуроваться', 'обмуровать'],\n",
       " ['расчеренковавшиеся', 'расчеренковаться', 'расчеренковать'],\n",
       " ['сковавшись', 'сковываться', 'сковать'],\n",
       " ['докраивающаяся', 'докраиваться', 'докраивать'],\n",
       " ['принизаться', 'принизаться', 'принизать'],\n",
       " ['приманивающимся', 'приманиваться', 'приманивать'],\n",
       " ['удевятерившись', 'удевятеряться', 'удевятерить'],\n",
       " ['настигшими', 'настигать', 'настигнуть'],\n",
       " ['попереколачиваемей', 'попереколачиваемый', 'переколачивать'],\n",
       " ['сжиралась', 'сжираться', 'сжирать'],\n",
       " ['пестрящиеся', 'пестриться', 'пестрить'],\n",
       " ['сдержавший', 'сдерживать', 'сдержать'],\n",
       " ['доплёскивающийся', 'доплескиваться', 'доплёскивать'],\n",
       " ['охраняемей', 'охраняемый', 'охранять'],\n",
       " ['начислившему', 'начислять', 'начислить'],\n",
       " ['отмолившегося', 'отмаливаться', 'отмолиться'],\n",
       " ['просватался', 'просвататься', 'просватать'],\n",
       " ['декламирующейся', 'декламироваться', 'декламировать'],\n",
       " ['тимуровичами', 'тимурович', 'тимур'],\n",
       " ['привирающимися', 'привираться', 'привирать'],\n",
       " ['нартучиваются', 'нартучиваться', 'нартучивать'],\n",
       " ['вымежуются', 'вымежевываться', 'вымежевать'],\n",
       " ['обожмёте', 'обжимать', 'обжать'],\n",
       " ['обтаскивающуюся', 'обтаскиваться', 'обтаскивать'],\n",
       " ['размучивался', 'размучиваться', 'размучивать'],\n",
       " ['достряпал', 'достряпывать', 'достряпать'],\n",
       " ['счесало', 'счесывать', 'счесать'],\n",
       " ['подутюживается', 'подутюживаться', 'подутюживать'],\n",
       " ['четырёхдневна', 'четырехдневный', 'четырёхдневный'],\n",
       " ['подзубривающеюся', 'подзубриваться', 'подзубривать'],\n",
       " ['избегающийся', 'избегаться', 'избегать'],\n",
       " ['поопрастываемее', 'поопрастываемый', 'опрастывать'],\n",
       " ['манежившихся', 'манежиться', 'манежить'],\n",
       " ['выношенным', 'вынести', 'выносить'],\n",
       " ['гуммировался', 'гуммироваться', 'гуммировать'],\n",
       " ['фарсёре', 'фарсер', 'фарсёр'],\n",
       " ['перемостятся', 'перемоститься', 'перемостить'],\n",
       " ['покастрированнее', 'покастрированный', 'кастрировать'],\n",
       " ['перезолотит', 'перезолачивать', 'перезолотить'],\n",
       " ['отшагался', 'отшагаться', 'отшагать'],\n",
       " ['мстиславовну', 'мстиславовна', 'мстислав'],\n",
       " ['накутаешься', 'накутываться', 'накутать'],\n",
       " ['выжженного', 'выжигать', 'выжечь'],\n",
       " ['доезживающихся', 'доезживаться', 'доезживать'],\n",
       " ['заарендованном', 'заарендовывать', 'заарендовать'],\n",
       " ['набуравились', 'набуравиться', 'набуравить'],\n",
       " ['преумноженною', 'преумножать', 'преумножить'],\n",
       " ['истесывавшихся', 'истесываться', 'истесывать'],\n",
       " ['восстановилась', 'восстанавливаться', 'восстановиться'],\n",
       " ['извязавшаяся', 'извязываться', 'извязать'],\n",
       " ['унесённого', 'уносить', 'унести'],\n",
       " ['кстовом', 'кстов', 'кстово'],\n",
       " ['высочайшими', 'высокий', 'высочайший'],\n",
       " ['передопрашивавшись', 'передопрашиваться', 'передопрашивать'],\n",
       " ['смылившуюся', 'смылиться', 'смылить'],\n",
       " ['прославься', 'прославляться', 'прославиться'],\n",
       " ['пооткручиваемей', 'пооткручиваемый', 'откручивать'],\n",
       " ['облезшемуся', 'облезаться', 'облезть'],\n",
       " ['потрет', 'потирать', 'потереть'],\n",
       " ['заливавшимся', 'заливаться', 'заливать'],\n",
       " ['упечатавшая', 'упечатывать', 'упечатать'],\n",
       " ['уколошматились', 'уколошматиться', 'уколошматить'],\n",
       " ['равноудалился', 'равноудаляться', 'равноудалиться'],\n",
       " ['прожравшегося', 'прожираться', 'прожрать'],\n",
       " ['ерошившаяся', 'ерошиться', 'ерошить'],\n",
       " ['заметёнными', 'заметать', 'замести'],\n",
       " ['засудилась', 'засудиться', 'засудить'],\n",
       " ['подгаживался', 'подгаживаться', 'подгаживать'],\n",
       " ['растерло', 'растирать', 'растереть'],\n",
       " ['занавоживаемся', 'занавоживаться', 'занавоживать'],\n",
       " ['нагнувший', 'нагибать', 'нагнуть'],\n",
       " ['ублажиться', 'ублажиться', 'ублажить'],\n",
       " ['пришлифуешь', 'пришлифовывать', 'пришлифовать'],\n",
       " ['права-славный', 'право', 'православный'],\n",
       " ['умудривших', 'умудрять', 'умудрить'],\n",
       " ['соткнув', 'стыкать', 'соткнуть'],\n",
       " ['взмылившие', 'взмыливать', 'взмылить'],\n",
       " ['переехалась', 'переехаться', 'переехать'],\n",
       " ['норковым', 'норков', 'норковый'],\n",
       " ['эберта', 'эберта', 'эберт'],\n",
       " ['учтёте', 'учитывать', 'учесть'],\n",
       " ['огрублённей', 'огрубленный', 'огрубить'],\n",
       " ['подскрёбывавшеюся', 'подскребываться', 'подскрёбывать'],\n",
       " ['сгоношились', 'сгоношиться', 'сгоношить'],\n",
       " ['закапаться', 'закапываться', 'закапать'],\n",
       " ['оснастившаяся', 'оснаститься', 'оснастить'],\n",
       " ['уварившимися', 'увариваться', 'увариться'],\n",
       " ['самоходом', 'самоходом', 'самоход'],\n",
       " ['запрыгнувшем', 'запрыгивать', 'запрыгнуть'],\n",
       " ['подкапчивающеюся', 'подкапчиваться', 'подкапчивать'],\n",
       " ['наквашивавшиеся', 'наквашиваться', 'наквашивать'],\n",
       " ['вопьёте', 'впивать', 'впить'],\n",
       " ['растаскавшаяся', 'растаскаться', 'растаскать'],\n",
       " ['преумалившимися', 'преумаляться', 'преумалить'],\n",
       " ['продерёшься', 'продираться', 'продраться'],\n",
       " ['преломившей', 'преломлять', 'преломить'],\n",
       " ['окирковывается', 'окирковываться', 'окирковывать'],\n",
       " ['расцвечу', 'расцвечивать', 'расцветить'],\n",
       " ['надоевшие', 'надоедать', 'надоесть'],\n",
       " ['размалевавшемуся', 'размалевываться', 'размалеваться'],\n",
       " ['подвощенный', 'подващивать', 'подвощить'],\n",
       " ['сбритое', 'сбривать', 'сбрить'],\n",
       " ['озноблюсь', 'ознобиться', 'ознобить'],\n",
       " ['поглотаннее', 'поглотанный', 'глотать'],\n",
       " ['тёмными', 'темный', 'тёмная'],\n",
       " ['сплеснувшихся', 'сплескиваться', 'сплеснуть'],\n",
       " ['выпасен', 'выпасать', 'выпасти'],\n",
       " ['прыснусь', 'прысняться', 'прыснуть'],\n",
       " ['подошьем', 'подшивать', 'подшить'],\n",
       " ['начислявшемся', 'начисляться', 'начислять'],\n",
       " ['запечено', 'запекать', 'запечь'],\n",
       " ['попудрившимися', 'попудриться', 'попудрить'],\n",
       " ['захлёстываемую', 'захлестывать', 'захлёстывать'],\n",
       " ['переволочена', 'переволочить', 'переволочь'],\n",
       " ['подкусившему', 'подкусывать', 'подкусить'],\n",
       " ['выпасенное', 'выпасать', 'выпасти'],\n",
       " ['загрызался', 'загрызаться', 'загрызать'],\n",
       " ['перешвырялись', 'перешвыряться', 'перешвырять'],\n",
       " ['поподтушевываемее', 'поподтушевываемый', 'подтушевывать'],\n",
       " ['вычёркивайся', 'вычеркиваться', 'вычёркивать'],\n",
       " ['выпестовалось', 'выпестоваться', 'выпестовать'],\n",
       " ['разлюбляющеюся', 'разлюбляться', 'разлюблять'],\n",
       " ['выспросившегося', 'выспрашиваться', 'выспросить'],\n",
       " ['вывощено', 'выващивать', 'вывощить'],\n",
       " ['поразорившемуся', 'поразоряться', 'поразорить'],\n",
       " ['обезволенных', 'обезволивать', 'обезволить'],\n",
       " ['расплющивавшееся', 'расплющиваться', 'расплющивать'],\n",
       " ['окорявшемуся', 'окоряться', 'окорять'],\n",
       " ['чужевато', 'чужеватый', 'чужевато'],\n",
       " ['расплетеннее', 'расплетенный', 'расплести'],\n",
       " ['карикатурившимися', 'карикатуриться', 'карикатурить'],\n",
       " ['чабёр', 'чабер', 'чабёр'],\n",
       " ['вытачавшимся', 'вытачаться', 'вытачать'],\n",
       " ['схлебывался', 'схлебываться', 'схлебывать'],\n",
       " ['намётками', 'наметка', 'намётка'],\n",
       " ['переделилась', 'переделяться', 'переделиться'],\n",
       " ['сжал', 'сжимать', 'сжать'],\n",
       " ['покалившийся', 'покаливаться', 'покалить'],\n",
       " ['изготовившись', 'изготавливаться', 'изготовить'],\n",
       " ['насеянный', 'насеивать', 'насеять'],\n",
       " ['отредактируетесь', 'отредактироваться', 'отредактировать'],\n",
       " ['тёщиной', 'тещин', 'тёщин'],\n",
       " ['отбросайся', 'отбросаться', 'отбросать'],\n",
       " ['вкроившимися', 'вкраиваться', 'вкроить'],\n",
       " ['вытроившийся', 'вытроиться', 'вытроить'],\n",
       " ['устерёг', 'устерегать', 'устеречь'],\n",
       " ['обхаю', 'обхаивать', 'обхаять'],\n",
       " ['заполёванней', 'заполеванный', 'заполевать'],\n",
       " ['обслюнявливавшеюся', 'обслюнявливаться', 'обслюнявливать'],\n",
       " ['запеленгуй', 'запеленговывать', 'запеленговать'],\n",
       " ['осуществила', 'осуществлять', 'осуществить'],\n",
       " ['помуссируемее', 'помуссируемый', 'муссировать'],\n",
       " ['переврало', 'перевирать', 'переврать'],\n",
       " ['журн', 'журн', 'журнал'],\n",
       " ['потаскивавшуюся', 'потаскиваться', 'потаскивать'],\n",
       " ['затачает', 'затачивать', 'затачать'],\n",
       " ['грохочённей', 'грохоченный', 'грохотить'],\n",
       " ['приурочивался', 'приурочиваться', 'приурочивать'],\n",
       " ['подпечатавшихся', 'подпечататься', 'подпечатать'],\n",
       " ['ссосет', 'ссасывать', 'ссосать'],\n",
       " ['дезодорирующуюся', 'дезодорироваться', 'дезодорировать'],\n",
       " ['подскользнутся', 'подскальзываться', 'подскользнуться'],\n",
       " ['простроченней', 'простроченный', 'прострочить'],\n",
       " ['изумить', 'изумлять', 'изумить'],\n",
       " ['хлестнемся', 'хлестнуться', 'хлестнуть'],\n",
       " ['рассиропившаяся', 'рассиропиться', 'рассиропить'],\n",
       " ['переклёпываю', 'переклепывать', 'переклёпывать'],\n",
       " ['произнесенная', 'произносить', 'произнести'],\n",
       " ['разуважился', 'разуважиться', 'разуважить'],\n",
       " ['катнулась', 'катнуться', 'катнуть'],\n",
       " ['посрамили', 'посрамлять', 'посрамить'],\n",
       " ['приравнивавшимися', 'приравниваться', 'приравнивать'],\n",
       " ['расфасовавшей', 'расфасовывать', 'расфасовать'],\n",
       " ['бектурова', 'бектурова', 'бектуров'],\n",
       " ['сытившегося', 'сытиться', 'сытить'],\n",
       " ['кондратович', 'кондратович', 'кондрат'],\n",
       " ['споткнутся', 'спотыкаться', 'споткнуться'],\n",
       " ['совравшихся', 'совраться', 'соврать'],\n",
       " ['приарендованному', 'приарендовывать', 'приарендовать'],\n",
       " ['перестукали', 'перестукивать', 'перестукать'],\n",
       " ['оплачивающимися', 'оплачиваться', 'оплачивать'],\n",
       " ['сколупывавшемуся', 'сколупываться', 'сколупывать'],\n",
       " ['караулившеюся', 'караулиться', 'караулить'],\n",
       " ['взгрет', 'взгревать', 'взгреть'],\n",
       " ['упрочнённую', 'упрочнять', 'упрочнить'],\n",
       " ['воронками', 'воронок', 'воронка'],\n",
       " ['трощёные', 'трощеный', 'трощёный'],\n",
       " ['вляпывавшимся', 'вляпываться', 'вляпывать'],\n",
       " ['противополагающихся', 'противополагаться', 'противополагать'],\n",
       " ['выстреливавшийся', 'выстреливаться', 'выстреливать'],\n",
       " ['капеллировалась', 'капеллироваться', 'капеллировать'],\n",
       " ['обеднел', 'обеднеть', 'обеднелый'],\n",
       " ['приправил', 'приправлять', 'приправить'],\n",
       " ['выбрызнувшийся', 'выбрызгиваться', 'выбрызнуть'],\n",
       " ['разрешенною', 'разрешать', 'разрешить'],\n",
       " ['изострит', 'изострять', 'изострить'],\n",
       " ['ботики', 'ботик', 'ботики'],\n",
       " ['смешащейся', 'смешиться', 'смешить'],\n",
       " ['подторкавшись', 'подторкаться', 'подторкать'],\n",
       " ['контрассигнованней', 'контрассигнованный', 'контрассигновать'],\n",
       " ['рюриковича', 'рюрикович', 'рюрик'],\n",
       " ['домолотишь', 'домолачивать', 'домолотить'],\n",
       " ['вспучившее', 'вспучивать', 'вспучить'],\n",
       " ['пощупавшейся', 'пощупываться', 'пощупать'],\n",
       " ['упихнулся', 'упихиваться', 'упихнуть'],\n",
       " ['сковырялся', 'сковыряться', 'сковырять'],\n",
       " ['подготавливавшуюся', 'подготавливаться', 'подготавливать'],\n",
       " ['заномеровываетесь', 'заномеровываться', 'заномеровывать'],\n",
       " ['запрокидывавшись', 'запрокидываться', 'запрокидывать'],\n",
       " ['проследим', 'прослеживать', 'проследить'],\n",
       " ['лощёные', 'лощеный', 'лощёный'],\n",
       " ['разоружались', 'разоружаться', 'разоружать'],\n",
       " ['тараторится', 'тараториться', 'тараторить'],\n",
       " ['выкорчёвывающему', 'выкорчевывать', 'выкорчёвывать'],\n",
       " ['перепутавшему', 'перепутывать', 'перепутать'],\n",
       " ['подверстались', 'подверстаться', 'подверстать'],\n",
       " ['разборонившемся', 'разборониться', 'разборонить'],\n",
       " ['домерился', 'домериться', 'домерить'],\n",
       " ['смежавшимся', 'смежаться', 'смежать'],\n",
       " ['поприколотей', 'поприколотый', 'приколоть'],\n",
       " ['сигнализировавшись', 'сигнализироваться', 'сигнализировать'],\n",
       " ['примышляет', 'примысливать', 'примышлять'],\n",
       " ['пиарившееся', 'пиариться', 'пиарить'],\n",
       " ['увенчавшую', 'увенчивать', 'увенчать'],\n",
       " ['откидывающейся', 'откидываться', 'откидывать'],\n",
       " ['смирнёшенькое', 'смирнешенький', 'смирнёшенький'],\n",
       " ['оторванное', 'отрывать', 'оторвать'],\n",
       " ['подторачиваешься', 'подторачиваться', 'подторачивать'],\n",
       " ['переваривавшемся', 'перевариваться', 'переваривать'],\n",
       " ['поподпоенней', 'поподпоенно', 'подпоить'],\n",
       " ['огребенней', 'огребенной', 'огрести'],\n",
       " ['ассигновались', 'ассигноваться', 'ассигновать'],\n",
       " ['пощёлкалось', 'пощелкаться', 'пощёлкать'],\n",
       " ['прогнались', 'прогнаться', 'прогнать'],\n",
       " ['перемахнутый', 'перемахивать', 'перемахнуть'],\n",
       " ['отчистится', 'отчищаться', 'отчистить'],\n",
       " ['привносящимися', 'привноситься', 'привносить'],\n",
       " ['отворотятся', 'отворачиваться', 'отворотить'],\n",
       " ['добелись', 'добеляться', 'добелить'],\n",
       " ['умоют', 'умывать', 'умыть'],\n",
       " ['перетруждавшегося', 'перетруждаться', 'перетруждать'],\n",
       " ['оскребался', 'оскребаться', 'оскребать'],\n",
       " ['переснащавшейся', 'переснащаться', 'переснащать'],\n",
       " ['инъецироваться', 'инъецироваться', 'инъецировать'],\n",
       " ['долизали', 'долизывать', 'долизать'],\n",
       " ['наскрёбывало', 'наскребывать', 'наскрёбывать'],\n",
       " ['почерпавшегося', 'почерпаться', 'почерпать'],\n",
       " ['преумножившая', 'преумножать', 'преумножить'],\n",
       " ['раззнакомившею', 'раззнакомливать', 'раззнакомить'],\n",
       " ['поёлочней', 'елочный', 'ёлочный'],\n",
       " ['испившую', 'испивать', 'испить'],\n",
       " ['перестираются', 'перестираться', 'перестирать'],\n",
       " ['пополоснее', 'полосный', 'полосной'],\n",
       " ['подчёсывающее', 'подчесывать', 'подчёсывать'],\n",
       " ['подополученнее', 'подополученный', 'дополучить'],\n",
       " ['повлюблённей', 'повлюбленный', 'влюблённый'],\n",
       " ['замариновывайся', 'замариновываться', 'замариновывать'],\n",
       " ['подцветил', 'подцвечивать', 'подцветить'],\n",
       " ['переигрываетесь', 'переигрываться', 'переигрывать'],\n",
       " ['пригвождающаяся', 'пригвождаться', 'пригвождать'],\n",
       " ['перевьюченное', 'перевьючивать', 'перевьючить'],\n",
       " ['подбривавшимися', 'подбриваться', 'подбривать'],\n",
       " ['акордой', 'акорда', 'акордая'],\n",
       " ['забережённую', 'заберегать', 'заберечь'],\n",
       " ['торкаешься', 'торкаться', 'торкать'],\n",
       " ['сматывающеюся', 'сматываться', 'сматывать'],\n",
       " ['модерируемей', 'модерируемый', 'модерировать'],\n",
       " ['опоясывающийся', 'опоясываться', 'опоясывать'],\n",
       " ['обстирали', 'обстирывать', 'обстирать'],\n",
       " ['перебалтывающимися', 'перебалтываться', 'перебалтывать'],\n",
       " ['тетёшкающая', 'тетешкать', 'тетёшкать'],\n",
       " ['черканувшимся', 'черкануться', 'черкануть'],\n",
       " ['охолащивавшиеся', 'охолащиваться', 'охолащивать'],\n",
       " ['порасслоённее', 'порасслоенно', 'расслоить'],\n",
       " ['поподкипячённей', 'поподкипяченный', 'подкипятить'],\n",
       " ['марьй', 'марьй', 'марья'],\n",
       " ['обцарапайся', 'обцарапаться', 'обцарапать'],\n",
       " ['отвезшие', 'отвозить', 'отвезти'],\n",
       " ['выбывшим', 'выбывать', 'выбыть'],\n",
       " ['вцедивших', 'вцеживать', 'вцедить'],\n",
       " ['отмываемей', 'отмываемый', 'отмывать'],\n",
       " ['взвезенная', 'взвозить', 'взвезти'],\n",
       " ['пролизавши', 'пролизывать', 'пролизать'],\n",
       " ['проштемпелевались', 'проштемпелеваться', 'проштемпелевать'],\n",
       " ['подхлестнёте', 'подхлестывать', 'подхлестнуть'],\n",
       " ['расстилавшуюся', 'расстилаться', 'расстилать'],\n",
       " ['разрежённого', 'разреженный', 'разредить'],\n",
       " ['издохнут', 'издыхать', 'издохнуть'],\n",
       " ['острогавшие', 'острагивать', 'острогать'],\n",
       " ['новёшеньком', 'новешенький', 'новёшенький'],\n",
       " ['приглядится', 'приглядываться', 'приглядеться'],\n",
       " ['покадиться', 'покадиться', 'покадить'],\n",
       " ['устыдиться', 'устыжаться', 'устыдить'],\n",
       " ['прочеканившие', 'прочеканивать', 'прочеканить'],\n",
       " ['навощим', 'наващивать', 'навощить'],\n",
       " ['обвяливавшееся', 'обвяливаться', 'обвяливать'],\n",
       " ['заровнявшемся', 'заравниваться', 'заровняться'],\n",
       " ['пришлепнувшееся', 'пришлепнуться', 'пришлепнуть'],\n",
       " ['отскрёбывавшими', 'отскребывать', 'отскрёбывать'],\n",
       " ['поразузнаваемей', 'поразузнаваемый', 'разузнавать'],\n",
       " ['понаползанней', 'понаползанно', 'наползать'],\n",
       " ['подклиненная', 'подклинивать', 'подклинить'],\n",
       " ['устраняетесь', 'устраняться', 'устранять'],\n",
       " ['усыплявшеюся', 'усыпляться', 'усыплять'],\n",
       " ['подкачивались', 'подкачиваться', 'подкачивать'],\n",
       " ['свеяла', 'свевать', 'свеять'],\n",
       " ['затемнённого', 'затемнять', 'затемнить'],\n",
       " ['разгруппировывавшимися', 'разгруппировываться', 'разгруппировывать'],\n",
       " ['распродавалось', 'распродаваться', 'распродавать'],\n",
       " ['прометавшемся', 'прометаться', 'прометать'],\n",
       " ['противоположитесь', 'противополагаться', 'противоположить'],\n",
       " ['подпушаешься', 'подпушаться', 'подпушать'],\n",
       " ['пятнящуюся', 'пятниться', 'пятнить'],\n",
       " ['присочинившее', 'присочинять', 'присочинить'],\n",
       " ['оклёвывавшей', 'оклевывать', 'оклёвывать'],\n",
       " ['поотстал', 'поотставать', 'поотстать'],\n",
       " ['этьеновен', 'этьеновна', 'этьен'],\n",
       " ['разносившейся', 'разноситься', 'разносить'],\n",
       " ['образумившая', 'образумливать', 'образумить'],\n",
       " ['перебившим', 'перебивать', 'перебить'],\n",
       " ['обкосили', 'обкашивать', 'обкосить'],\n",
       " ['выштукатуривавшемся', 'выштукатуриваться', 'выштукатуривать'],\n",
       " ...]"
      ]
     },
     "execution_count": 65,
     "metadata": {},
     "output_type": "execute_result"
    }
   ],
   "source": [
    "wrong_mystem"
   ]
  },
  {
   "cell_type": "markdown",
   "metadata": {},
   "source": [
    "# Compare on ABBYY"
   ]
  },
  {
   "cell_type": "code",
   "execution_count": 26,
   "metadata": {},
   "outputs": [
    {
     "data": {
      "text/html": [
       "<div>\n",
       "<style scoped>\n",
       "    .dataframe tbody tr th:only-of-type {\n",
       "        vertical-align: middle;\n",
       "    }\n",
       "\n",
       "    .dataframe tbody tr th {\n",
       "        vertical-align: top;\n",
       "    }\n",
       "\n",
       "    .dataframe thead th {\n",
       "        text-align: right;\n",
       "    }\n",
       "</style>\n",
       "<table border=\"1\" class=\"dataframe\">\n",
       "  <thead>\n",
       "    <tr style=\"text-align: right;\">\n",
       "      <th></th>\n",
       "      <th>word</th>\n",
       "      <th>lemm</th>\n",
       "      <th>lemmed</th>\n",
       "    </tr>\n",
       "  </thead>\n",
       "  <tbody>\n",
       "    <tr>\n",
       "      <th>0</th>\n",
       "      <td>осенняя</td>\n",
       "      <td>осенний</td>\n",
       "      <td>True</td>\n",
       "    </tr>\n",
       "    <tr>\n",
       "      <th>1</th>\n",
       "      <td>чему</td>\n",
       "      <td>что</td>\n",
       "      <td>True</td>\n",
       "    </tr>\n",
       "    <tr>\n",
       "      <th>2</th>\n",
       "      <td>готовиться</td>\n",
       "      <td>готовить</td>\n",
       "      <td>True</td>\n",
       "    </tr>\n",
       "    <tr>\n",
       "      <th>3</th>\n",
       "      <td>казахстану</td>\n",
       "      <td>казахстан</td>\n",
       "      <td>True</td>\n",
       "    </tr>\n",
       "    <tr>\n",
       "      <th>4</th>\n",
       "      <td>большие</td>\n",
       "      <td>большой</td>\n",
       "      <td>True</td>\n",
       "    </tr>\n",
       "  </tbody>\n",
       "</table>\n",
       "</div>"
      ],
      "text/plain": [
       "         word       lemm  lemmed\n",
       "0     осенняя    осенний    True\n",
       "1        чему        что    True\n",
       "2  готовиться   готовить    True\n",
       "3  казахстану  казахстан    True\n",
       "4     большие    большой    True"
      ]
     },
     "execution_count": 26,
     "metadata": {},
     "output_type": "execute_result"
    }
   ],
   "source": [
    "#load dict\n",
    "abbyy_gen_dict=pd.read_csv('lemm_dic_to_check.csv',';',encoding='utf8')\n",
    "abbyy_gen_dict.head()"
   ]
  },
  {
   "cell_type": "code",
   "execution_count": 27,
   "metadata": {},
   "outputs": [
    {
     "data": {
      "text/plain": [
       "(20621, 3)"
      ]
     },
     "execution_count": 27,
     "metadata": {},
     "output_type": "execute_result"
    }
   ],
   "source": [
    "abbyy_gen_dict.shape"
   ]
  },
  {
   "cell_type": "markdown",
   "metadata": {},
   "source": [
    "## Best model"
   ]
  },
  {
   "cell_type": "code",
   "execution_count": 50,
   "metadata": {},
   "outputs": [
    {
     "data": {
      "application/vnd.jupyter.widget-view+json": {
       "model_id": "",
       "version_major": 2,
       "version_minor": 0
      },
      "text/plain": [
       "HBox(children=(IntProgress(value=0, max=20621), HTML(value='')))"
      ]
     },
     "metadata": {},
     "output_type": "display_data"
    }
   ],
   "source": [
    "abbyy_vec=[alpha_vec2(w) for w in tqdm_notebook(abbyy_gen_dict['word'])]"
   ]
  },
  {
   "cell_type": "markdown",
   "metadata": {},
   "source": [
    "### ExtraTree"
   ]
  },
  {
   "cell_type": "code",
   "execution_count": 153,
   "metadata": {},
   "outputs": [
    {
     "name": "stderr",
     "output_type": "stream",
     "text": [
      "[Parallel(n_jobs=8)]: Done   3 out of  10 | elapsed:    0.3s remaining:    0.9s\n",
      "[Parallel(n_jobs=8)]: Done   5 out of  10 | elapsed:    0.4s remaining:    0.4s\n",
      "[Parallel(n_jobs=8)]: Done   7 out of  10 | elapsed:    0.4s remaining:    0.1s\n",
      "[Parallel(n_jobs=8)]: Done  10 out of  10 | elapsed:    0.7s finished\n"
     ]
    }
   ],
   "source": [
    "abby_predicted=best_model.predict(abbyy_vec)"
   ]
  },
  {
   "cell_type": "code",
   "execution_count": 154,
   "metadata": {},
   "outputs": [
    {
     "data": {
      "text/plain": [
       "20621"
      ]
     },
     "execution_count": 154,
     "metadata": {},
     "output_type": "execute_result"
    }
   ],
   "source": [
    "len(abby_predicted)"
   ]
  },
  {
   "cell_type": "code",
   "execution_count": 155,
   "metadata": {},
   "outputs": [],
   "source": [
    "abby_predicted_dec=[decode_vec(vec) for vec in abby_predicted]"
   ]
  },
  {
   "cell_type": "code",
   "execution_count": 156,
   "metadata": {},
   "outputs": [
    {
     "data": {
      "application/vnd.jupyter.widget-view+json": {
       "model_id": "e42aeb85a8f3424dadd350bfee383649",
       "version_major": 2,
       "version_minor": 0
      },
      "text/plain": [
       "HBox(children=(IntProgress(value=0, max=20621), HTML(value='')))"
      ]
     },
     "metadata": {},
     "output_type": "display_data"
    }
   ],
   "source": [
    "test_abbyy_bm=[w1==w2 for w1,w2 in zip(abby_predicted_dec,tqdm_notebook(abbyy_gen_dict['lemm']))]"
   ]
  },
  {
   "cell_type": "code",
   "execution_count": 157,
   "metadata": {},
   "outputs": [
    {
     "data": {
      "text/plain": [
       "0.7543766063721449"
      ]
     },
     "execution_count": 157,
     "metadata": {},
     "output_type": "execute_result"
    }
   ],
   "source": [
    "sum(test_abbyy_bm)/len(test_abbyy_bm)"
   ]
  },
  {
   "cell_type": "code",
   "execution_count": 158,
   "metadata": {},
   "outputs": [
    {
     "data": {
      "application/vnd.jupyter.widget-view+json": {
       "model_id": "4c3716dcfa7a4f35b6ec8815d1c69916",
       "version_major": 2,
       "version_minor": 0
      },
      "text/plain": [
       "HBox(children=(IntProgress(value=0, max=20621), HTML(value='')))"
      ]
     },
     "metadata": {},
     "output_type": "display_data"
    }
   ],
   "source": [
    "wrong_bm=[[list(abbyy_gen_dict['word'])[i],abby_predicted_dec[i],list(abbyy_gen_dict['lemm'])[i]] for i in tqdm_notebook(range(len(test_abbyy_bm))) if test_abbyy_bm[i]==False]"
   ]
  },
  {
   "cell_type": "code",
   "execution_count": 159,
   "metadata": {},
   "outputs": [
    {
     "data": {
      "text/plain": [
       "5065"
      ]
     },
     "execution_count": 159,
     "metadata": {},
     "output_type": "execute_result"
    }
   ],
   "source": [
    "len(wrong_bm)"
   ]
  },
  {
   "cell_type": "code",
   "execution_count": 65,
   "metadata": {},
   "outputs": [
    {
     "data": {
      "text/plain": [
       "[['чему', 'целибв', 'что'],\n",
       " ['большие', 'больший', 'большой'],\n",
       " ['этой', 'эта', 'этот'],\n",
       " ['есть', 'есть', 'быть'],\n",
       " ['непредсказуемы', 'мгнмедмманфимдаге', 'непредсказуемый'],\n",
       " ['кем', 'кем', 'кто'],\n",
       " ['кого', 'ловнжи', 'кто'],\n",
       " ['они', 'оинц', 'он'],\n",
       " ['приводим', 'приводить', 'привести'],\n",
       " ['тезисные', 'рдёжркфйв', 'тезисный'],\n",
       " ['отмечает', 'отмечать', 'отметить'],\n",
       " ['мире', 'миро', 'мир'],\n",
       " ['нам', 'мама', 'мы'],\n",
       " ['миду', 'лигбв', 'мид'],\n",
       " ['этом', 'этев', 'это'],\n",
       " ['наживая', 'наживать', 'нажить'],\n",
       " ['предсказывает', 'предсказывать', 'предсказать'],\n",
       " ['политических', 'политическая', 'политический'],\n",
       " ['становятся', 'становиться', 'стать'],\n",
       " ['выборов', 'выбор', 'выборы'],\n",
       " ['чьи', 'цшкёкз', 'чей'],\n",
       " ['круче', 'крутой', 'круто'],\n",
       " ['находясь', 'находить', 'находиться'],\n",
       " ['своей', 'ргнйебв', 'свой'],\n",
       " ['большая', 'больший', 'большой'],\n",
       " ['ложится', 'ложиться', 'лечь'],\n",
       " ['чем', 'чекедв', 'что'],\n",
       " ['основные', 'основный', 'основной'],\n",
       " ['лет', 'лет', 'год'],\n",
       " ['представляли', 'представлять', 'представить'],\n",
       " ['люди', 'люди', 'человек'],\n",
       " ['менялись', 'меняться', 'менять'],\n",
       " ['проводил', 'проводить', 'провести'],\n",
       " ['своих', 'рвнилз', 'свой'],\n",
       " ['кадров', 'кадры', 'кадр'],\n",
       " ['такая', 'такать', 'такой'],\n",
       " ['шибутова', 'сзетслбшз', 'шибутов'],\n",
       " ['снижает', 'снижать', 'снизить'],\n",
       " ['больше', 'большой', 'много'],\n",
       " ['остается', 'оставаться', 'остаться'],\n",
       " ['будет', 'вуппк', 'быть'],\n",
       " ['новых', 'новое', 'новый'],\n",
       " ['связывает', 'связывать', 'связать'],\n",
       " ['основных', 'основный', 'основной'],\n",
       " ['ближайшего', 'ближайший', 'близкий'],\n",
       " ['будущего', 'будущий', 'будущее'],\n",
       " ['скорее', 'скорый', 'скоро'],\n",
       " ['ее', 'ее', 'её'],\n",
       " ['этого', 'эрргсёа', 'этот'],\n",
       " ['новые', 'новое', 'новый'],\n",
       " ['повторяют', 'повторять', 'повторить'],\n",
       " ['пару', 'пар', 'пара'],\n",
       " ['устрашающим', 'устрашать', 'устрашающий'],\n",
       " ['она', 'олвв', 'он'],\n",
       " ['него', 'невжабб', 'он'],\n",
       " ['года', 'внебв', 'год'],\n",
       " ['поднимался', 'подниматься', 'поднять'],\n",
       " ['определяющими', 'определять', 'определить'],\n",
       " ['развивающихся', 'развиваться', 'развить'],\n",
       " ['исключать', 'йсйльцвсщвв', 'исключить'],\n",
       " ['продолжает', 'продолжать', 'продолжить'],\n",
       " ['сказываться', 'сказывать', 'сказаться'],\n",
       " ['торгов', 'торговый', 'торг'],\n",
       " ['все', 'арщ', 'весь'],\n",
       " ['было', 'бымрб', 'быть'],\n",
       " ['нерезидентов', 'оепджзёкллкб', 'нерезидент'],\n",
       " ['лучшие', 'лучший', 'хороший'],\n",
       " ['времена', 'брдлжрхгг', 'время'],\n",
       " ['объясняется', 'объясняться', 'объяснить'],\n",
       " ['тенговых', 'тднговшз', 'тенговый'],\n",
       " ['пиков', 'пиковый', 'пик'],\n",
       " ['долга', 'долгий', 'долг'],\n",
       " ['проводить', 'проводить', 'провести'],\n",
       " ['рублю', 'рубить', 'рубль'],\n",
       " ['привязывается', 'привязываться', 'привязать'],\n",
       " ['развивающиеся', 'развивать', 'развить'],\n",
       " ['ведут', 'вегтсёё', 'вести'],\n",
       " ['снижаются', 'снижать', 'снизить'],\n",
       " ['скачке', 'скачка', 'скачок'],\n",
       " ['своя', 'твойжк', 'свой'],\n",
       " ['динамику', 'динамик', 'динамика'],\n",
       " ['темпов', 'темповый', 'темп'],\n",
       " ['расчетами', 'расчет', 'расчёт'],\n",
       " ['будут', 'бтётфее', 'быть'],\n",
       " ['увеличивать', 'твёкзцигвтъбв', 'увеличить'],\n",
       " ['расчетах', 'расчет', 'расчёт'],\n",
       " ['политической', 'политическая', 'политический'],\n",
       " ['цели', 'целить', 'цель'],\n",
       " ['рассматривать', 'парпмасрзварца', 'рассмотреть'],\n",
       " ['близкие', 'близкие', 'близкий'],\n",
       " ['ужесточают', 'рёжтроцбнта', 'ужесточить'],\n",
       " ['законотворчества', 'жзкккнпгнмтиондг', 'законотворчество'],\n",
       " ['году', 'вогабв', 'год'],\n",
       " ['был', 'быкёа', 'быть'],\n",
       " ['определяет', 'определять', 'определить'],\n",
       " ['строя', 'строить', 'строй'],\n",
       " ['сдерживает', 'сдерживать', 'сдержать'],\n",
       " ['пресекает', 'пресекать', 'пресечь'],\n",
       " ['изменялся', 'изменять', 'изменить'],\n",
       " ['дополнялся', 'дополнять', 'дополнить']]"
      ]
     },
     "execution_count": 65,
     "metadata": {},
     "output_type": "execute_result"
    }
   ],
   "source": [
    "wrong_bm[:100]"
   ]
  },
  {
   "cell_type": "code",
   "execution_count": 79,
   "metadata": {},
   "outputs": [
    {
     "data": {
      "text/html": [
       "<div>\n",
       "<style scoped>\n",
       "    .dataframe tbody tr th:only-of-type {\n",
       "        vertical-align: middle;\n",
       "    }\n",
       "\n",
       "    .dataframe tbody tr th {\n",
       "        vertical-align: top;\n",
       "    }\n",
       "\n",
       "    .dataframe thead th {\n",
       "        text-align: right;\n",
       "    }\n",
       "</style>\n",
       "<table border=\"1\" class=\"dataframe\">\n",
       "  <thead>\n",
       "    <tr style=\"text-align: right;\">\n",
       "      <th></th>\n",
       "      <th>word</th>\n",
       "      <th>bm_lemm</th>\n",
       "      <th>abbyy_lemm</th>\n",
       "    </tr>\n",
       "  </thead>\n",
       "  <tbody>\n",
       "    <tr>\n",
       "      <th>0</th>\n",
       "      <td>чему</td>\n",
       "      <td>целибв</td>\n",
       "      <td>что</td>\n",
       "    </tr>\n",
       "    <tr>\n",
       "      <th>1</th>\n",
       "      <td>большие</td>\n",
       "      <td>больший</td>\n",
       "      <td>большой</td>\n",
       "    </tr>\n",
       "    <tr>\n",
       "      <th>2</th>\n",
       "      <td>этой</td>\n",
       "      <td>эта</td>\n",
       "      <td>этот</td>\n",
       "    </tr>\n",
       "    <tr>\n",
       "      <th>3</th>\n",
       "      <td>есть</td>\n",
       "      <td>есть</td>\n",
       "      <td>быть</td>\n",
       "    </tr>\n",
       "    <tr>\n",
       "      <th>4</th>\n",
       "      <td>непредсказуемы</td>\n",
       "      <td>мгнмедмманфимдаге</td>\n",
       "      <td>непредсказуемый</td>\n",
       "    </tr>\n",
       "  </tbody>\n",
       "</table>\n",
       "</div>"
      ],
      "text/plain": [
       "             word            bm_lemm       abbyy_lemm\n",
       "0            чему             целибв              что\n",
       "1         большие            больший          большой\n",
       "2            этой                эта             этот\n",
       "3            есть               есть             быть\n",
       "4  непредсказуемы  мгнмедмманфимдаге  непредсказуемый"
      ]
     },
     "execution_count": 79,
     "metadata": {},
     "output_type": "execute_result"
    }
   ],
   "source": [
    "wrong_bm_ds=pd.DataFrame(wrong_bm)\n",
    "wrong_bm_ds.columns=['word','bm_lemm','abbyy_lemm']\n",
    "wrong_bm_ds.head()"
   ]
  },
  {
   "cell_type": "code",
   "execution_count": 80,
   "metadata": {},
   "outputs": [],
   "source": [
    "wrong_bm_ds.to_csv('bm_abbyy_errors.csv',';', encoding='utf8',index=False)"
   ]
  },
  {
   "cell_type": "markdown",
   "metadata": {},
   "source": [
    "### DecisionTree"
   ]
  },
  {
   "cell_type": "code",
   "execution_count": 145,
   "metadata": {},
   "outputs": [],
   "source": [
    "abby_predicted_DT=best_model_DT.predict(abbyy_vec)"
   ]
  },
  {
   "cell_type": "code",
   "execution_count": 146,
   "metadata": {},
   "outputs": [
    {
     "data": {
      "text/plain": [
       "20621"
      ]
     },
     "execution_count": 146,
     "metadata": {},
     "output_type": "execute_result"
    }
   ],
   "source": [
    "len(abby_predicted_DT)"
   ]
  },
  {
   "cell_type": "code",
   "execution_count": 147,
   "metadata": {},
   "outputs": [],
   "source": [
    "abby_predicted_DT_dec=[decode_vec(vec) for vec in abby_predicted_DT]"
   ]
  },
  {
   "cell_type": "code",
   "execution_count": 148,
   "metadata": {},
   "outputs": [
    {
     "data": {
      "application/vnd.jupyter.widget-view+json": {
       "model_id": "",
       "version_major": 2,
       "version_minor": 0
      },
      "text/plain": [
       "HBox(children=(IntProgress(value=0, max=20621), HTML(value='')))"
      ]
     },
     "metadata": {},
     "output_type": "display_data"
    }
   ],
   "source": [
    "test_abbyy_bm_DT=[w1==w2 for w1,w2 in zip(abby_predicted_DT_dec,tqdm_notebook(abbyy_gen_dict['lemm']))]"
   ]
  },
  {
   "cell_type": "code",
   "execution_count": 149,
   "metadata": {},
   "outputs": [
    {
     "data": {
      "text/plain": [
       "0.7560739052422288"
      ]
     },
     "execution_count": 149,
     "metadata": {},
     "output_type": "execute_result"
    }
   ],
   "source": [
    "sum(test_abbyy_bm_DT)/len(test_abbyy_bm_DT)"
   ]
  },
  {
   "cell_type": "code",
   "execution_count": 150,
   "metadata": {},
   "outputs": [
    {
     "data": {
      "application/vnd.jupyter.widget-view+json": {
       "model_id": "",
       "version_major": 2,
       "version_minor": 0
      },
      "text/plain": [
       "HBox(children=(IntProgress(value=0, max=20621), HTML(value='')))"
      ]
     },
     "metadata": {},
     "output_type": "display_data"
    }
   ],
   "source": [
    "wrong_bm_DT=[[list(abbyy_gen_dict['word'])[i],abby_predicted_DT_dec[i],list(abbyy_gen_dict['lemm'])[i]] for i in tqdm_notebook(range(len(test_abbyy_bm_DT))) if test_abbyy_bm_DT[i]==False]"
   ]
  },
  {
   "cell_type": "code",
   "execution_count": 160,
   "metadata": {},
   "outputs": [
    {
     "data": {
      "text/plain": [
       "5030"
      ]
     },
     "execution_count": 160,
     "metadata": {},
     "output_type": "execute_result"
    }
   ],
   "source": [
    "len(wrong_bm_DT)"
   ]
  },
  {
   "cell_type": "code",
   "execution_count": 161,
   "metadata": {},
   "outputs": [
    {
     "data": {
      "text/plain": [
       "[['чему', 'чело', 'что'],\n",
       " ['большие', 'больший', 'большой'],\n",
       " ['этой', 'юта', 'этот'],\n",
       " ['есть', 'есть', 'быть'],\n",
       " ['непредсказуемы', 'расхвастаться', 'непредсказуемый'],\n",
       " ['кем', 'кен', 'кто'],\n",
       " ['кого', 'крен', 'кто'],\n",
       " ['они', 'пень', 'он'],\n",
       " ['приводим', 'приводить', 'привести'],\n",
       " ['тезисные', 'мизерный', 'тезисный'],\n",
       " ['отмечает', 'отмечать', 'отметить'],\n",
       " ['мире', 'миро', 'мир'],\n",
       " ['нам', 'пал', 'мы'],\n",
       " ['миду', 'мзда', 'мид'],\n",
       " ['этом', 'эхо', 'это'],\n",
       " ['наживая', 'наживать', 'нажить'],\n",
       " ['предсказывает', 'предсказывать', 'предсказать'],\n",
       " ['политических', 'политическая', 'политический'],\n",
       " ['становятся', 'становиться', 'стать'],\n",
       " ['выборов', 'выбор', 'выборы'],\n",
       " ['чьи', 'чуять', 'чей'],\n",
       " ['круче', 'крутой', 'круто'],\n",
       " ['находясь', 'находить', 'находиться'],\n",
       " ['своей', 'сбрить', 'свой'],\n",
       " ['большая', 'больший', 'большой'],\n",
       " ['ложится', 'ложиться', 'лечь'],\n",
       " ['чем', 'цена', 'что'],\n",
       " ['основные', 'основный', 'основной'],\n",
       " ['лет', 'лет', 'год'],\n",
       " ['представляли', 'представлять', 'представить'],\n",
       " ['люди', 'люди', 'человек'],\n",
       " ['менялись', 'меняться', 'менять'],\n",
       " ['проводил', 'проводить', 'провести'],\n",
       " ['своих', 'своз', 'свой'],\n",
       " ['кадров', 'кадры', 'кадр'],\n",
       " ['такая', 'такать', 'такой'],\n",
       " ['шибутова', 'оздоровить', 'шибутов'],\n",
       " ['снижает', 'снижать', 'снизить'],\n",
       " ['больше', 'большой', 'много'],\n",
       " ['остается', 'оставаться', 'остаться'],\n",
       " ['будет', 'всеять', 'быть'],\n",
       " ['новых', 'новое', 'новый'],\n",
       " ['связывает', 'связывать', 'связать'],\n",
       " ['основных', 'основный', 'основной'],\n",
       " ['ближайшего', 'ближайший', 'близкий'],\n",
       " ['будущего', 'будущий', 'будущее'],\n",
       " ['скорее', 'скорый', 'скоро'],\n",
       " ['ее', 'ее', 'её'],\n",
       " ['этого', 'ярый', 'этот'],\n",
       " ['новые', 'новое', 'новый'],\n",
       " ['повторяют', 'повторять', 'повторить'],\n",
       " ['пару', 'пар', 'пара'],\n",
       " ['устрашающим', 'устрашать', 'устрашающий'],\n",
       " ['она', 'сон', 'он'],\n",
       " ['него', 'пегий', 'он'],\n",
       " ['года', 'дог', 'год'],\n",
       " ['поднимался', 'подниматься', 'поднять'],\n",
       " ['определяющими', 'определять', 'определить'],\n",
       " ['развивающихся', 'развиваться', 'развить'],\n",
       " ['исключать', 'исключать', 'исключить'],\n",
       " ['продолжает', 'продолжать', 'продолжить'],\n",
       " ['сказываться', 'сказывать', 'сказаться'],\n",
       " ['торгов', 'торговый', 'торг'],\n",
       " ['все', 'буй', 'весь'],\n",
       " ['было', 'былой', 'быть'],\n",
       " ['нерезидентов', 'неразделимый', 'нерезидент'],\n",
       " ['лучшие', 'лучший', 'хороший'],\n",
       " ['времена', 'временить', 'время'],\n",
       " ['объясняется', 'объясняться', 'объяснить'],\n",
       " ['тенговых', 'ранговый', 'тенговый'],\n",
       " ['пиков', 'пиковый', 'пик'],\n",
       " ['долга', 'долгий', 'долг'],\n",
       " ['проводить', 'проводить', 'провести'],\n",
       " ['рублю', 'рубить', 'рубль'],\n",
       " ['привязывается', 'привязываться', 'привязать'],\n",
       " ['развивающиеся', 'развивать', 'развить'],\n",
       " ['ведут', 'вздутый', 'вести'],\n",
       " ['снижаются', 'снижать', 'снизить'],\n",
       " ['скачке', 'скачка', 'скачок'],\n",
       " ['своя', 'сбой', 'свой'],\n",
       " ['динамику', 'динамик', 'динамика'],\n",
       " ['темпов', 'темповый', 'темп'],\n",
       " ['расчетами', 'расчет', 'расчёт'],\n",
       " ['будут', 'густи', 'быть'],\n",
       " ['увеличивать', 'увеличивать', 'увеличить'],\n",
       " ['расчетах', 'расчет', 'расчёт'],\n",
       " ['политической', 'политическая', 'политический'],\n",
       " ['цели', 'целить', 'цель'],\n",
       " ['рассматривать', 'рассматривать', 'рассмотреть'],\n",
       " ['близкие', 'близкие', 'близкий'],\n",
       " ['ужесточают', 'ожесточать', 'ужесточить'],\n",
       " ['законотворчества', 'бумаготворчество', 'законотворчество'],\n",
       " ['году', 'гога', 'год'],\n",
       " ['был', 'бык', 'быть'],\n",
       " ['определяет', 'определять', 'определить'],\n",
       " ['строя', 'строить', 'строй'],\n",
       " ['сдерживает', 'сдерживать', 'сдержать'],\n",
       " ['пресекает', 'пресекать', 'пресечь'],\n",
       " ['изменялся', 'изменять', 'изменить'],\n",
       " ['дополнялся', 'дополнять', 'дополнить']]"
      ]
     },
     "execution_count": 161,
     "metadata": {},
     "output_type": "execute_result"
    }
   ],
   "source": [
    "wrong_bm_DT[:100]"
   ]
  },
  {
   "cell_type": "code",
   "execution_count": 162,
   "metadata": {},
   "outputs": [
    {
     "data": {
      "text/html": [
       "<div>\n",
       "<style scoped>\n",
       "    .dataframe tbody tr th:only-of-type {\n",
       "        vertical-align: middle;\n",
       "    }\n",
       "\n",
       "    .dataframe tbody tr th {\n",
       "        vertical-align: top;\n",
       "    }\n",
       "\n",
       "    .dataframe thead th {\n",
       "        text-align: right;\n",
       "    }\n",
       "</style>\n",
       "<table border=\"1\" class=\"dataframe\">\n",
       "  <thead>\n",
       "    <tr style=\"text-align: right;\">\n",
       "      <th></th>\n",
       "      <th>word</th>\n",
       "      <th>bm_lemm</th>\n",
       "      <th>abbyy_lemm</th>\n",
       "    </tr>\n",
       "  </thead>\n",
       "  <tbody>\n",
       "    <tr>\n",
       "      <th>0</th>\n",
       "      <td>чему</td>\n",
       "      <td>чело</td>\n",
       "      <td>что</td>\n",
       "    </tr>\n",
       "    <tr>\n",
       "      <th>1</th>\n",
       "      <td>большие</td>\n",
       "      <td>больший</td>\n",
       "      <td>большой</td>\n",
       "    </tr>\n",
       "    <tr>\n",
       "      <th>2</th>\n",
       "      <td>этой</td>\n",
       "      <td>юта</td>\n",
       "      <td>этот</td>\n",
       "    </tr>\n",
       "    <tr>\n",
       "      <th>3</th>\n",
       "      <td>есть</td>\n",
       "      <td>есть</td>\n",
       "      <td>быть</td>\n",
       "    </tr>\n",
       "    <tr>\n",
       "      <th>4</th>\n",
       "      <td>непредсказуемы</td>\n",
       "      <td>расхвастаться</td>\n",
       "      <td>непредсказуемый</td>\n",
       "    </tr>\n",
       "  </tbody>\n",
       "</table>\n",
       "</div>"
      ],
      "text/plain": [
       "             word        bm_lemm       abbyy_lemm\n",
       "0            чему           чело              что\n",
       "1         большие        больший          большой\n",
       "2            этой            юта             этот\n",
       "3            есть           есть             быть\n",
       "4  непредсказуемы  расхвастаться  непредсказуемый"
      ]
     },
     "execution_count": 162,
     "metadata": {},
     "output_type": "execute_result"
    }
   ],
   "source": [
    "wrong_bm_ds=pd.DataFrame(wrong_bm_DT)\n",
    "wrong_bm_ds.columns=['word','bm_lemm','abbyy_lemm']\n",
    "wrong_bm_ds.head()"
   ]
  },
  {
   "cell_type": "code",
   "execution_count": 163,
   "metadata": {},
   "outputs": [],
   "source": [
    "wrong_bm_ds.to_csv('bm_abbyy_DT_errors.csv',';', encoding='utf8',index=False)"
   ]
  },
  {
   "cell_type": "markdown",
   "metadata": {},
   "source": [
    "### RandomForest"
   ]
  },
  {
   "cell_type": "code",
   "execution_count": 164,
   "metadata": {},
   "outputs": [],
   "source": [
    "abby_predicted_RF=best_model_RF.predict(abbyy_vec)"
   ]
  },
  {
   "cell_type": "code",
   "execution_count": 165,
   "metadata": {},
   "outputs": [
    {
     "data": {
      "text/plain": [
       "20621"
      ]
     },
     "execution_count": 165,
     "metadata": {},
     "output_type": "execute_result"
    }
   ],
   "source": [
    "len(abby_predicted_RF)"
   ]
  },
  {
   "cell_type": "code",
   "execution_count": 166,
   "metadata": {},
   "outputs": [],
   "source": [
    "abby_predicted_RF_dec=[decode_vec(vec) for vec in abby_predicted_RF]"
   ]
  },
  {
   "cell_type": "code",
   "execution_count": 167,
   "metadata": {},
   "outputs": [
    {
     "data": {
      "application/vnd.jupyter.widget-view+json": {
       "model_id": "38c144e4ba7e4df8b70388bbd9e3fb34",
       "version_major": 2,
       "version_minor": 0
      },
      "text/plain": [
       "HBox(children=(IntProgress(value=0, max=20621), HTML(value='')))"
      ]
     },
     "metadata": {},
     "output_type": "display_data"
    }
   ],
   "source": [
    "test_abbyy_bm_RF=[w1==w2 for w1,w2 in zip(abby_predicted_RF_dec,tqdm_notebook(abbyy_gen_dict['lemm']))]"
   ]
  },
  {
   "cell_type": "code",
   "execution_count": 169,
   "metadata": {},
   "outputs": [
    {
     "data": {
      "text/plain": [
       "0.3623005673827651"
      ]
     },
     "execution_count": 169,
     "metadata": {},
     "output_type": "execute_result"
    }
   ],
   "source": [
    "sum(test_abbyy_bm_RF)/len(test_abbyy_bm_RF)"
   ]
  },
  {
   "cell_type": "code",
   "execution_count": 170,
   "metadata": {},
   "outputs": [
    {
     "data": {
      "application/vnd.jupyter.widget-view+json": {
       "model_id": "72c9ddacb29941a6b975dbe4ff94ac51",
       "version_major": 2,
       "version_minor": 0
      },
      "text/plain": [
       "HBox(children=(IntProgress(value=0, max=20621), HTML(value='')))"
      ]
     },
     "metadata": {},
     "output_type": "display_data"
    }
   ],
   "source": [
    "wrong_bm_RF=[[list(abbyy_gen_dict['word'])[i],abby_predicted_RF_dec[i],list(abbyy_gen_dict['lemm'])[i]] for i in tqdm_notebook(range(len(test_abbyy_bm_RF))) if test_abbyy_bm_RF[i]==False]"
   ]
  },
  {
   "cell_type": "code",
   "execution_count": 171,
   "metadata": {},
   "outputs": [
    {
     "data": {
      "text/plain": [
       "13150"
      ]
     },
     "execution_count": 171,
     "metadata": {},
     "output_type": "execute_result"
    }
   ],
   "source": [
    "len(wrong_bm_RF)"
   ]
  },
  {
   "cell_type": "code",
   "execution_count": 172,
   "metadata": {},
   "outputs": [
    {
     "data": {
      "text/plain": [
       "[['осенняя', 'осднмхор', 'осенний'],\n",
       " ['чему', 'цеклв', 'что'],\n",
       " ['готовиться', 'гнсовитыа', 'готовить'],\n",
       " ['казахстану', 'казафрсанв', 'казахстан'],\n",
       " ['большие', 'больший', 'большой'],\n",
       " ['игры', 'звра', 'игра'],\n",
       " ['этой', 'эса', 'этот'],\n",
       " ['осенью', 'опемшб', 'осень'],\n",
       " ['есть', 'ессь', 'быть'],\n",
       " ['непредсказуемы', 'мбрниернанчзкё', 'непредсказуемый'],\n",
       " ['кем', 'кемвб', 'кто'],\n",
       " ['кого', 'когёвв', 'кто'],\n",
       " ['затронут', 'затпонупшв', 'затронуть'],\n",
       " ['они', 'озйр', 'он'],\n",
       " ['расскажут', 'рассказбтц', 'рассказать'],\n",
       " ['эксперты', 'ъкроерргг', 'эксперт'],\n",
       " ['прогнозы', 'провнпзге', 'прогноз'],\n",
       " ['ожидания', 'ожигание', 'ожидание'],\n",
       " ['политике', 'оолзсикб', 'политика'],\n",
       " ['поделились', 'пнддлзть', 'поделить'],\n",
       " ['приводим', 'приводзрщ', 'привести'],\n",
       " ['вашему', 'вбхгжз', 'ваш'],\n",
       " ['вниманию', 'внзманиёв', 'внимание'],\n",
       " ['тезисные', 'пеёжпнузбв', 'тезисный'],\n",
       " ['высказывания', 'высказыванкёв', 'высказывание'],\n",
       " ['отмечает', 'отмечать', 'отметить'],\n",
       " ['настоящее', 'настоящзи', 'настоящий'],\n",
       " ['мире', 'лзре', 'мир'],\n",
       " ['царит', 'хапить', 'царить'],\n",
       " ['тренды', 'сренд', 'тренд'],\n",
       " ['могут', 'мопшёв', 'мочь'],\n",
       " ['воронку', 'ворной', 'воронка'],\n",
       " ['войн', 'внин', 'война'],\n",
       " ['поднебесной', 'поднебеснкц', 'поднебесная'],\n",
       " ['мировые', 'мировмл', 'мировой'],\n",
       " ['может', 'мохъв', 'мочь'],\n",
       " ['нам', 'мам', 'мы'],\n",
       " ['руку', 'пук', 'рука'],\n",
       " ['условии', 'трловиз', 'условие'],\n",
       " ['идет', 'идри', 'идти'],\n",
       " ['рынке', 'пымниа', 'рынок'],\n",
       " ['миду', 'мждбв', 'мид'],\n",
       " ['придется', 'ппзирйтщ', 'прийтись'],\n",
       " ['скандалов', 'уландакгдбба', 'скандал'],\n",
       " ['турцией', 'ртрфзъабв', 'турция'],\n",
       " ['ираном', 'жпамдб', 'иран'],\n",
       " ['сохранив', 'софрамить', 'сохранить'],\n",
       " ['этом', 'эсдв', 'это'],\n",
       " ['наживая', 'наёивать', 'нажить'],\n",
       " ['врагов', 'врав', 'враг'],\n",
       " ['предсказывает', 'предсказывать', 'предсказать'],\n",
       " ['политических', 'политическаь', 'политический'],\n",
       " ['становятся', 'рсамнвжтьнш', 'стать'],\n",
       " ['непримиримыми', 'ненпилзпймый', 'непримиримый'],\n",
       " ['врагами', 'браг', 'враг'],\n",
       " ['выборов', 'выбора', 'выборы'],\n",
       " ['ноябрю', 'ноьапшбв', 'ноябрь'],\n",
       " ['сменит', 'рленить', 'сменить'],\n",
       " ['ирану', 'ипана', 'иран'],\n",
       " ['произойдут', 'прожжойнкёав', 'произойти'],\n",
       " ['нефти', 'меурц', 'нефть'],\n",
       " ['чьи', 'цфнин', 'чей'],\n",
       " ['дипломаты', 'дипкомас', 'дипломат'],\n",
       " ['круче', 'кртснж', 'круто'],\n",
       " ['находясь', 'нафндмтьве', 'находиться'],\n",
       " ['объятиях', 'нащютиёв', 'объятие'],\n",
       " ['проекта', 'проелс', 'проект'],\n",
       " ['своей', 'рбнкгв', 'свой'],\n",
       " ['большая', 'больчез', 'большой'],\n",
       " ['ложится', 'кнёитьпы', 'лечь'],\n",
       " ['послов', 'ооснк', 'посол'],\n",
       " ['чем', 'цендб', 'что'],\n",
       " ['основные', 'основншй', 'основной'],\n",
       " ['российских', 'рнррииский', 'российский'],\n",
       " ['связи', 'связцез', 'связь'],\n",
       " ['китая', 'кзсглбв', 'китай'],\n",
       " ['лет', 'лес', 'год'],\n",
       " ['представляли', 'представлять', 'представить'],\n",
       " ['политические', 'политическзл', 'политический'],\n",
       " ['страны', 'сспама', 'страна'],\n",
       " ['люди', 'люгибв', 'человек'],\n",
       " ['века', 'бека', 'век'],\n",
       " ['менялись', 'мднясьоыа', 'менять'],\n",
       " ['проводил', 'проводить', 'провести'],\n",
       " ['частую', 'хартшжбв', 'частый'],\n",
       " ['своих', 'рбозёжв', 'свой'],\n",
       " ['кадров', 'кагруба', 'кадр'],\n",
       " ['такая', 'сакать', 'такой'],\n",
       " ['мнению', 'мндниёв', 'мнение'],\n",
       " ['шибутова', 'фдбпсмдниз', 'шибутов'],\n",
       " ['снижает', 'снижать', 'снизить'],\n",
       " ['связей', 'рбюжщбв', 'связь'],\n",
       " ['больше', 'бнкъшжд', 'много'],\n",
       " ['зависит', 'завзсеть', 'зависеть'],\n",
       " ['успехов', 'трпеф', 'успех'],\n",
       " ['санкций', 'самкциь', 'санкция'],\n",
       " ['остается', 'оставаться', 'остаться'],\n",
       " ['открытым', 'открытще', 'открытый'],\n",
       " ['будет', 'бсиссв', 'быть'],\n",
       " ['конфронтации', 'йнмуронсация', 'конфронтация']]"
      ]
     },
     "execution_count": 172,
     "metadata": {},
     "output_type": "execute_result"
    }
   ],
   "source": [
    "wrong_bm_RF[:100]"
   ]
  },
  {
   "cell_type": "code",
   "execution_count": 173,
   "metadata": {},
   "outputs": [
    {
     "data": {
      "text/html": [
       "<div>\n",
       "<style scoped>\n",
       "    .dataframe tbody tr th:only-of-type {\n",
       "        vertical-align: middle;\n",
       "    }\n",
       "\n",
       "    .dataframe tbody tr th {\n",
       "        vertical-align: top;\n",
       "    }\n",
       "\n",
       "    .dataframe thead th {\n",
       "        text-align: right;\n",
       "    }\n",
       "</style>\n",
       "<table border=\"1\" class=\"dataframe\">\n",
       "  <thead>\n",
       "    <tr style=\"text-align: right;\">\n",
       "      <th></th>\n",
       "      <th>word</th>\n",
       "      <th>bm_lemm</th>\n",
       "      <th>abbyy_lemm</th>\n",
       "    </tr>\n",
       "  </thead>\n",
       "  <tbody>\n",
       "    <tr>\n",
       "      <th>0</th>\n",
       "      <td>осенняя</td>\n",
       "      <td>осднмхор</td>\n",
       "      <td>осенний</td>\n",
       "    </tr>\n",
       "    <tr>\n",
       "      <th>1</th>\n",
       "      <td>чему</td>\n",
       "      <td>цеклв</td>\n",
       "      <td>что</td>\n",
       "    </tr>\n",
       "    <tr>\n",
       "      <th>2</th>\n",
       "      <td>готовиться</td>\n",
       "      <td>гнсовитыа</td>\n",
       "      <td>готовить</td>\n",
       "    </tr>\n",
       "    <tr>\n",
       "      <th>3</th>\n",
       "      <td>казахстану</td>\n",
       "      <td>казафрсанв</td>\n",
       "      <td>казахстан</td>\n",
       "    </tr>\n",
       "    <tr>\n",
       "      <th>4</th>\n",
       "      <td>большие</td>\n",
       "      <td>больший</td>\n",
       "      <td>большой</td>\n",
       "    </tr>\n",
       "  </tbody>\n",
       "</table>\n",
       "</div>"
      ],
      "text/plain": [
       "         word     bm_lemm abbyy_lemm\n",
       "0     осенняя    осднмхор    осенний\n",
       "1        чему       цеклв        что\n",
       "2  готовиться   гнсовитыа   готовить\n",
       "3  казахстану  казафрсанв  казахстан\n",
       "4     большие     больший    большой"
      ]
     },
     "execution_count": 173,
     "metadata": {},
     "output_type": "execute_result"
    }
   ],
   "source": [
    "wrong_bm_RF_ds=pd.DataFrame(wrong_bm_RF)\n",
    "wrong_bm_RF_ds.columns=['word','bm_lemm','abbyy_lemm']\n",
    "wrong_bm_RF_ds.head()"
   ]
  },
  {
   "cell_type": "code",
   "execution_count": 174,
   "metadata": {},
   "outputs": [],
   "source": [
    "wrong_bm_RF_ds.to_csv('bm_abbyy_RF_errors.csv',';', encoding='utf8',index=False)"
   ]
  },
  {
   "cell_type": "markdown",
   "metadata": {},
   "source": [
    "## Pymorphy"
   ]
  },
  {
   "cell_type": "code",
   "execution_count": 138,
   "metadata": {
    "scrolled": true
   },
   "outputs": [
    {
     "data": {
      "application/vnd.jupyter.widget-view+json": {
       "model_id": "1bc9afe7cc2344b584bf3c78abb1dce6",
       "version_major": 2,
       "version_minor": 0
      },
      "text/plain": [
       "HBox(children=(IntProgress(value=0, max=20621), HTML(value='')))"
      ]
     },
     "metadata": {},
     "output_type": "display_data"
    }
   ],
   "source": [
    "test_abbyy_pymorphy=[compare(w1,w2) for w1, w2 in zip(abbyy_gen_dict['word'],tqdm_notebook(abbyy_gen_dict['lemm']))]"
   ]
  },
  {
   "cell_type": "code",
   "execution_count": 139,
   "metadata": {},
   "outputs": [
    {
     "data": {
      "text/plain": [
       "0.8181465496338683"
      ]
     },
     "execution_count": 139,
     "metadata": {},
     "output_type": "execute_result"
    }
   ],
   "source": [
    "sum(test_abbyy_pymorphy)/len(test_abbyy_pymorphy)"
   ]
  },
  {
   "cell_type": "code",
   "execution_count": 140,
   "metadata": {},
   "outputs": [
    {
     "data": {
      "application/vnd.jupyter.widget-view+json": {
       "model_id": "3cd803e593d044f2a1b828fcf3634045",
       "version_major": 2,
       "version_minor": 0
      },
      "text/plain": [
       "HBox(children=(IntProgress(value=0, max=20621), HTML(value='')))"
      ]
     },
     "metadata": {},
     "output_type": "display_data"
    }
   ],
   "source": [
    "pymorphy_abbyy_lemmed=[morph.parse(w1)[0].normal_form for w1 in tqdm_notebook(abbyy_gen_dict['word'])]"
   ]
  },
  {
   "cell_type": "code",
   "execution_count": 141,
   "metadata": {},
   "outputs": [
    {
     "data": {
      "application/vnd.jupyter.widget-view+json": {
       "model_id": "8bdd669e9ca1490ea8fa8fddf2fb07e9",
       "version_major": 2,
       "version_minor": 0
      },
      "text/plain": [
       "HBox(children=(IntProgress(value=0, max=20621), HTML(value='')))"
      ]
     },
     "metadata": {},
     "output_type": "display_data"
    }
   ],
   "source": [
    "wrong_abbyy_pymorphy=[[list(abbyy_gen_dict['word'])[i],pymorphy_abbyy_lemmed[i],list(abbyy_gen_dict['lemm'])[i]] for i in tqdm_notebook(range(len(test_abbyy_pymorphy))) if test_abbyy_pymorphy[i]==False]"
   ]
  },
  {
   "cell_type": "code",
   "execution_count": 142,
   "metadata": {},
   "outputs": [
    {
     "data": {
      "text/plain": [
       "[['готовиться', 'готовиться', 'готовить'],\n",
       " ['есть', 'есть', 'быть'],\n",
       " ['они', 'они', 'он'],\n",
       " ['поделились', 'поделиться', 'поделить'],\n",
       " ['приводим', 'приводить', 'привести'],\n",
       " ['отмечает', 'отмечать', 'отметить'],\n",
       " ['настоящее', 'настоящее', 'настоящий'],\n",
       " ['поднебесной', 'поднебесный', 'поднебесная'],\n",
       " ['наживая', 'наживать', 'нажить'],\n",
       " ['предсказывает', 'предсказывать', 'предсказать'],\n",
       " ['становятся', 'становиться', 'стать'],\n",
       " ['выборов', 'выбор', 'выборы'],\n",
       " ['круче', 'круча', 'круто'],\n",
       " ['ложится', 'ложиться', 'лечь'],\n",
       " ['чем', 'чем', 'что'],\n",
       " ['представляли', 'представлять', 'представить'],\n",
       " ['менялись', 'меняться', 'менять'],\n",
       " ['проводил', 'проводить', 'провести'],\n",
       " ['шибутова', 'шибутовый', 'шибутов'],\n",
       " ['снижает', 'снижать', 'снизить'],\n",
       " ['больше', 'большой', 'много'],\n",
       " ['остается', 'оставаться', 'остаться'],\n",
       " ['отразиться', 'отразиться', 'отразить'],\n",
       " ['ограничиться', 'ограничиться', 'ограничить'],\n",
       " ['получится', 'получиться', 'получить'],\n",
       " ['связывает', 'связывать', 'связать'],\n",
       " ['основных', 'основный', 'основной'],\n",
       " ['ближайшего', 'ближний', 'близкий'],\n",
       " ['скорее', 'скорее', 'скоро'],\n",
       " ['ее', 'она', 'её'],\n",
       " ['этого', 'это', 'этот'],\n",
       " ['новые', 'новое', 'новый'],\n",
       " ['повторяют', 'повторять', 'повторить'],\n",
       " ['существующие', 'существующий', 'существовать'],\n",
       " ['устрашающим', 'устрашать', 'устрашающий'],\n",
       " ['начнется', 'начаться', 'начать'],\n",
       " ['второго', 'два', 'второй'],\n",
       " ['она', 'она', 'он'],\n",
       " ['поднимался', 'подниматься', 'поднять'],\n",
       " ['откатился', 'откатиться', 'откатить'],\n",
       " ['определяющими', 'определять', 'определить'],\n",
       " ['отразится', 'отразиться', 'отразить'],\n",
       " ['развивающихся', 'развивающийся', 'развить'],\n",
       " ['исключать', 'исключать', 'исключить'],\n",
       " ['продолжает', 'продолжать', 'продолжить'],\n",
       " ['сказываться', 'сказываться', 'сказаться'],\n",
       " ['объясняется', 'объясняться', 'объяснить'],\n",
       " ['проводить', 'проводить', 'провести'],\n",
       " ['движется', 'двигаться', 'двигать'],\n",
       " ['привязывается', 'привязываться', 'привязать'],\n",
       " ['развивающиеся', 'развивающийся', 'развить'],\n",
       " ['снижаются', 'снижаться', 'снизить'],\n",
       " ['скачке', 'скачка', 'скачок'],\n",
       " ['значит', 'значит', 'значить'],\n",
       " ['динамику', 'динамик', 'динамика'],\n",
       " ['риски', 'риска', 'риск'],\n",
       " ['увеличивать', 'увеличивать', 'увеличить'],\n",
       " ['рассматривать', 'рассматривать', 'рассмотреть'],\n",
       " ['близкие', 'близкие', 'близкий'],\n",
       " ['начала', 'начало', 'начать'],\n",
       " ['ужесточают', 'ужесточать', 'ужесточить'],\n",
       " ['определяет', 'определять', 'определить'],\n",
       " ['сдерживает', 'сдерживать', 'сдержать'],\n",
       " ['пресекает', 'пресекать', 'пресечь'],\n",
       " ['редактировался', 'редактироваться', 'редактировать'],\n",
       " ['изменялся', 'изменяться', 'изменить'],\n",
       " ['дополнялся', 'дополняться', 'дополнить'],\n",
       " ['получают', 'получать', 'получить'],\n",
       " ['них', 'они', 'он'],\n",
       " ['усиливается', 'усиливаться', 'усилить'],\n",
       " ['называется', 'называться', 'назвать'],\n",
       " ['скрытых', 'скрытый', 'скрыть'],\n",
       " ['вводящих', 'вводить', 'ввести'],\n",
       " ['заинтересованного', 'заинтересовать', 'заинтересованный'],\n",
       " ['заинтересованным', 'заинтересовать', 'заинтересованный'],\n",
       " ['являются', 'являться', 'явиться'],\n",
       " ['связанные', 'связанный', 'связать'],\n",
       " ['этому', 'это', 'этот'],\n",
       " ['раскрывать', 'раскрывать', 'раскрыть'],\n",
       " ['планируется', 'планироваться', 'планировать'],\n",
       " ['размещала', 'размещать', 'разместить'],\n",
       " ['нового', 'новое', 'новый'],\n",
       " ['рассказывали', 'рассказывать', 'рассказать'],\n",
       " ['том', 'тот', 'то'],\n",
       " ['применяют', 'применять', 'применить'],\n",
       " ['тому', 'тот', 'то'],\n",
       " ['вмешиваются', 'вмешиваться', 'вмешаться'],\n",
       " ['приводится', 'приводиться', 'привести'],\n",
       " ['бороться', 'бороться', 'бороть'],\n",
       " ['силой', 'силой', 'сила'],\n",
       " ['китайски', 'китайски', 'китайский'],\n",
       " ['выяснилось', 'выясниться', 'выяснить'],\n",
       " ['получал', 'получать', 'получить'],\n",
       " ['связанного', 'связанный', 'связать'],\n",
       " ['поднялась', 'подняться', 'поднять'],\n",
       " ['отличающегося', 'отличаться', 'отличить'],\n",
       " ['политика', 'политика', 'политик'],\n",
       " ['весной', 'весной', 'весна'],\n",
       " ['рассматривались', 'рассматриваться', 'рассмотреть'],\n",
       " ['проживающих', 'проживать', 'прожить']]"
      ]
     },
     "execution_count": 142,
     "metadata": {},
     "output_type": "execute_result"
    }
   ],
   "source": [
    "wrong_abbyy_pymorphy[:100]"
   ]
  },
  {
   "cell_type": "code",
   "execution_count": 143,
   "metadata": {},
   "outputs": [
    {
     "data": {
      "text/html": [
       "<div>\n",
       "<style scoped>\n",
       "    .dataframe tbody tr th:only-of-type {\n",
       "        vertical-align: middle;\n",
       "    }\n",
       "\n",
       "    .dataframe tbody tr th {\n",
       "        vertical-align: top;\n",
       "    }\n",
       "\n",
       "    .dataframe thead th {\n",
       "        text-align: right;\n",
       "    }\n",
       "</style>\n",
       "<table border=\"1\" class=\"dataframe\">\n",
       "  <thead>\n",
       "    <tr style=\"text-align: right;\">\n",
       "      <th></th>\n",
       "      <th>word</th>\n",
       "      <th>pymorphy_lemm</th>\n",
       "      <th>abbyy_lemm</th>\n",
       "    </tr>\n",
       "  </thead>\n",
       "  <tbody>\n",
       "    <tr>\n",
       "      <th>0</th>\n",
       "      <td>готовиться</td>\n",
       "      <td>готовиться</td>\n",
       "      <td>готовить</td>\n",
       "    </tr>\n",
       "    <tr>\n",
       "      <th>1</th>\n",
       "      <td>есть</td>\n",
       "      <td>есть</td>\n",
       "      <td>быть</td>\n",
       "    </tr>\n",
       "    <tr>\n",
       "      <th>2</th>\n",
       "      <td>они</td>\n",
       "      <td>они</td>\n",
       "      <td>он</td>\n",
       "    </tr>\n",
       "    <tr>\n",
       "      <th>3</th>\n",
       "      <td>поделились</td>\n",
       "      <td>поделиться</td>\n",
       "      <td>поделить</td>\n",
       "    </tr>\n",
       "    <tr>\n",
       "      <th>4</th>\n",
       "      <td>приводим</td>\n",
       "      <td>приводить</td>\n",
       "      <td>привести</td>\n",
       "    </tr>\n",
       "  </tbody>\n",
       "</table>\n",
       "</div>"
      ],
      "text/plain": [
       "         word pymorphy_lemm abbyy_lemm\n",
       "0  готовиться    готовиться   готовить\n",
       "1        есть          есть       быть\n",
       "2         они           они         он\n",
       "3  поделились    поделиться   поделить\n",
       "4    приводим     приводить   привести"
      ]
     },
     "execution_count": 143,
     "metadata": {},
     "output_type": "execute_result"
    }
   ],
   "source": [
    "wrong_abbyy_pymorphy_ds=pd.DataFrame(wrong_abbyy_pymorphy)\n",
    "wrong_abbyy_pymorphy_ds.columns=['word','pymorphy_lemm','abbyy_lemm']\n",
    "wrong_abbyy_pymorphy_ds.head()"
   ]
  },
  {
   "cell_type": "code",
   "execution_count": 144,
   "metadata": {},
   "outputs": [],
   "source": [
    "wrong_abbyy_pymorphy_ds.to_csv('pymorphy_abbyy_errors.csv',';', encoding='utf8',index=False)"
   ]
  },
  {
   "cell_type": "markdown",
   "metadata": {},
   "source": [
    "## MyStem"
   ]
  },
  {
   "cell_type": "code",
   "execution_count": 39,
   "metadata": {},
   "outputs": [],
   "source": [
    "mystem_abbyy=pd.read_csv('mystemmed_abbyy.csv',';',encoding='utf8')"
   ]
  },
  {
   "cell_type": "code",
   "execution_count": 40,
   "metadata": {},
   "outputs": [
    {
     "data": {
      "text/html": [
       "<div>\n",
       "<style scoped>\n",
       "    .dataframe tbody tr th:only-of-type {\n",
       "        vertical-align: middle;\n",
       "    }\n",
       "\n",
       "    .dataframe tbody tr th {\n",
       "        vertical-align: top;\n",
       "    }\n",
       "\n",
       "    .dataframe thead th {\n",
       "        text-align: right;\n",
       "    }\n",
       "</style>\n",
       "<table border=\"1\" class=\"dataframe\">\n",
       "  <thead>\n",
       "    <tr style=\"text-align: right;\">\n",
       "      <th></th>\n",
       "      <th>0</th>\n",
       "    </tr>\n",
       "  </thead>\n",
       "  <tbody>\n",
       "    <tr>\n",
       "      <th>0</th>\n",
       "      <td>осенний</td>\n",
       "    </tr>\n",
       "    <tr>\n",
       "      <th>1</th>\n",
       "      <td>что</td>\n",
       "    </tr>\n",
       "    <tr>\n",
       "      <th>2</th>\n",
       "      <td>готовиться</td>\n",
       "    </tr>\n",
       "    <tr>\n",
       "      <th>3</th>\n",
       "      <td>казахстан</td>\n",
       "    </tr>\n",
       "    <tr>\n",
       "      <th>4</th>\n",
       "      <td>большой</td>\n",
       "    </tr>\n",
       "  </tbody>\n",
       "</table>\n",
       "</div>"
      ],
      "text/plain": [
       "            0\n",
       "0     осенний\n",
       "1         что\n",
       "2  готовиться\n",
       "3   казахстан\n",
       "4     большой"
      ]
     },
     "execution_count": 40,
     "metadata": {},
     "output_type": "execute_result"
    }
   ],
   "source": [
    "mystem_abbyy.head()"
   ]
  },
  {
   "cell_type": "code",
   "execution_count": 41,
   "metadata": {},
   "outputs": [
    {
     "data": {
      "application/vnd.jupyter.widget-view+json": {
       "model_id": "",
       "version_major": 2,
       "version_minor": 0
      },
      "text/plain": [
       "HBox(children=(IntProgress(value=0, max=20621), HTML(value='')))"
      ]
     },
     "metadata": {},
     "output_type": "display_data"
    }
   ],
   "source": [
    "test_mystem=[w1==w2 for w1, w2 in zip(mystem_abbyy['0'],tqdm_notebook(abbyy_gen_dict['lemm']))]"
   ]
  },
  {
   "cell_type": "code",
   "execution_count": 42,
   "metadata": {},
   "outputs": [
    {
     "data": {
      "text/plain": [
       "0.7249890887929781"
      ]
     },
     "execution_count": 42,
     "metadata": {},
     "output_type": "execute_result"
    }
   ],
   "source": [
    "sum(test_mystem)/len(test_mystem)"
   ]
  },
  {
   "cell_type": "code",
   "execution_count": 43,
   "metadata": {},
   "outputs": [
    {
     "data": {
      "application/vnd.jupyter.widget-view+json": {
       "model_id": "",
       "version_major": 2,
       "version_minor": 0
      },
      "text/plain": [
       "HBox(children=(IntProgress(value=0, max=20621), HTML(value='')))"
      ]
     },
     "metadata": {},
     "output_type": "display_data"
    }
   ],
   "source": [
    "wrong_mystem=[[list(abbyy_gen_dict['word'])[i],list(mystem_abbyy['0'])[i],list(abbyy_gen_dict['lemm'])[i]] for i in tqdm_notebook(range(len(test_mystem))) if test_mystem[i]==False]"
   ]
  },
  {
   "cell_type": "code",
   "execution_count": 44,
   "metadata": {},
   "outputs": [
    {
     "data": {
      "text/plain": [
       "[['готовиться', 'готовиться', 'готовить'],\n",
       " ['затронут', 'затрагивать', 'затронуть'],\n",
       " ['они', 'они', 'он'],\n",
       " ['расскажут', 'рассказывать', 'рассказать'],\n",
       " ['поделились', 'поделиться', 'поделить'],\n",
       " ['приводим', 'приводить', 'привести'],\n",
       " ['отмечает', 'отмечать', 'отметить'],\n",
       " ['поднебесной', 'поднебесный', 'поднебесная'],\n",
       " ['может', 'может', 'мочь'],\n",
       " ['придется', 'приходиться', 'прийтись'],\n",
       " ['сохранив', 'сохранять', 'сохранить'],\n",
       " ['наживая', 'наживать', 'нажить'],\n",
       " ['предсказывает', 'предсказывать', 'предсказать'],\n",
       " ['становятся', 'становиться', 'стать'],\n",
       " ['выборов', 'выбор', 'выборы'],\n",
       " ['исключено', 'исключать', 'исключить'],\n",
       " ['произойдут', 'происходить', 'произойти'],\n",
       " ['круче', 'крутой', 'круто'],\n",
       " ['большая', 'больший', 'большой'],\n",
       " ['ложится', 'ложиться', 'лечь'],\n",
       " ['оценил', 'оценивать', 'оценить'],\n",
       " ['представляли', 'представлять', 'представить'],\n",
       " ['менялись', 'меняться', 'менять'],\n",
       " ['проводил', 'провожать', 'провести'],\n",
       " ['снижает', 'снижать', 'снизить'],\n",
       " ['больше', 'больше', 'много'],\n",
       " ['остается', 'оставаться', 'остаться'],\n",
       " ['вступил', 'вступать', 'вступить'],\n",
       " ['отразиться', 'отражаться', 'отразить'],\n",
       " ['ограничиться', 'ограничиваться', 'ограничить'],\n",
       " ['получится', 'получаться', 'получить'],\n",
       " ['многое', 'многое', 'многий'],\n",
       " ['связывает', 'связывать', 'связать'],\n",
       " ['поведет', 'поводить', 'повести'],\n",
       " ['ее', 'она', 'её'],\n",
       " ['этого', 'это', 'этот'],\n",
       " ['повторяют', 'повторять', 'повторить'],\n",
       " ['вступит', 'вступать', 'вступить'],\n",
       " ['устрашающим', 'устрашать', 'устрашающий'],\n",
       " ['начнется', 'начинаться', 'начать'],\n",
       " ['приведет', 'приводить', 'привести'],\n",
       " ['она', 'она', 'он'],\n",
       " ['напомнил', 'напоминать', 'напомнить'],\n",
       " ['поднимался', 'подниматься', 'поднять'],\n",
       " ['откатился', 'откатиться', 'откатить'],\n",
       " ['определяющими', 'определять', 'определить'],\n",
       " ['останутся', 'оставаться', 'остаться'],\n",
       " ['отразится', 'отражаться', 'отразить'],\n",
       " ['развивающихся', 'развивающийся', 'развить'],\n",
       " ['исключать', 'исключать', 'исключить'],\n",
       " ['продолжает', 'продолжать', 'продолжить'],\n",
       " ['сказываться', 'сказываться', 'сказаться'],\n",
       " ['торгов', 'торги', 'торг'],\n",
       " ['все', 'все', 'весь'],\n",
       " ['объясняется', 'объясняться', 'объяснить'],\n",
       " ['введут', 'вводить', 'ввести'],\n",
       " ['проводить', 'проводить', 'провести'],\n",
       " ['движется', 'двигаться', 'двигать'],\n",
       " ['привязывается', 'привязываться', 'привязать'],\n",
       " ['развивающиеся', 'развиваться', 'развить'],\n",
       " ['снижаются', 'снижаться', 'снизить'],\n",
       " ['заработали', 'зарабатывать', 'заработать'],\n",
       " ['связана', 'связанный', 'связать'],\n",
       " ['значит', 'значит', 'значить'],\n",
       " ['аналитика', 'аналитика', 'аналитик'],\n",
       " ['сырья', 'сырье', 'сырьё'],\n",
       " ['связаны', 'связанный', 'связать'],\n",
       " ['расчетами', 'расчет', 'расчёт'],\n",
       " ['увеличивать', 'увеличивать', 'увеличить'],\n",
       " ['расчетах', 'расчет', 'расчёт'],\n",
       " ['снимет', 'снимать', 'снять'],\n",
       " ['усложнит', 'усложнять', 'усложнить'],\n",
       " ['утяжелит', 'утяжелять', 'утяжелить'],\n",
       " ['продолжит', 'продолжать', 'продолжить'],\n",
       " ['рассматривать', 'рассматривать', 'рассмотреть'],\n",
       " ['близкие', 'близкие', 'близкий'],\n",
       " ['начала', 'начинать', 'начать'],\n",
       " ['разработали', 'разрабатывать', 'разработать'],\n",
       " ['ужесточают', 'ужесточать', 'ужесточить'],\n",
       " ['принят', 'принимать', 'принять'],\n",
       " ['определяет', 'определять', 'определить'],\n",
       " ['сдерживает', 'сдерживать', 'сдержать'],\n",
       " ['пресекает', 'пресекать', 'пресечь'],\n",
       " ['редактировался', 'редактироваться', 'редактировать'],\n",
       " ['изменялся', 'изменяться', 'изменить'],\n",
       " ['дополнялся', 'дополняться', 'дополнить'],\n",
       " ['подписал', 'подписывать', 'подписать'],\n",
       " ['получают', 'получать', 'получить'],\n",
       " ['принял', 'принимать', 'принять'],\n",
       " ['направленных', 'направлять', 'направить'],\n",
       " ['них', 'они', 'он'],\n",
       " ['прописан', 'прописывать', 'прописать'],\n",
       " ['указана', 'указывать', 'указать'],\n",
       " ['приняты', 'принимать', 'принять'],\n",
       " ['усиливается', 'усиливаться', 'усилить'],\n",
       " ['называется', 'называться', 'назвать'],\n",
       " ['расширены', 'расширять', 'расширить'],\n",
       " ['скрытых', 'скрытый', 'скрыть'],\n",
       " ['вводящих', 'вводить', 'ввести'],\n",
       " ['являются', 'являться', 'явиться']]"
      ]
     },
     "execution_count": 44,
     "metadata": {},
     "output_type": "execute_result"
    }
   ],
   "source": [
    "wrong_mystem[:100]"
   ]
  },
  {
   "cell_type": "code",
   "execution_count": 75,
   "metadata": {},
   "outputs": [
    {
     "data": {
      "text/html": [
       "<div>\n",
       "<style scoped>\n",
       "    .dataframe tbody tr th:only-of-type {\n",
       "        vertical-align: middle;\n",
       "    }\n",
       "\n",
       "    .dataframe tbody tr th {\n",
       "        vertical-align: top;\n",
       "    }\n",
       "\n",
       "    .dataframe thead th {\n",
       "        text-align: right;\n",
       "    }\n",
       "</style>\n",
       "<table border=\"1\" class=\"dataframe\">\n",
       "  <thead>\n",
       "    <tr style=\"text-align: right;\">\n",
       "      <th></th>\n",
       "      <th>word</th>\n",
       "      <th>mystem_lemm</th>\n",
       "      <th>abbyy_lemm</th>\n",
       "    </tr>\n",
       "  </thead>\n",
       "  <tbody>\n",
       "    <tr>\n",
       "      <th>0</th>\n",
       "      <td>готовиться</td>\n",
       "      <td>готовиться</td>\n",
       "      <td>готовить</td>\n",
       "    </tr>\n",
       "    <tr>\n",
       "      <th>1</th>\n",
       "      <td>затронут</td>\n",
       "      <td>затрагивать</td>\n",
       "      <td>затронуть</td>\n",
       "    </tr>\n",
       "    <tr>\n",
       "      <th>2</th>\n",
       "      <td>они</td>\n",
       "      <td>они</td>\n",
       "      <td>он</td>\n",
       "    </tr>\n",
       "    <tr>\n",
       "      <th>3</th>\n",
       "      <td>расскажут</td>\n",
       "      <td>рассказывать</td>\n",
       "      <td>рассказать</td>\n",
       "    </tr>\n",
       "    <tr>\n",
       "      <th>4</th>\n",
       "      <td>поделились</td>\n",
       "      <td>поделиться</td>\n",
       "      <td>поделить</td>\n",
       "    </tr>\n",
       "  </tbody>\n",
       "</table>\n",
       "</div>"
      ],
      "text/plain": [
       "         word   mystem_lemm  abbyy_lemm\n",
       "0  готовиться    готовиться    готовить\n",
       "1    затронут   затрагивать   затронуть\n",
       "2         они           они          он\n",
       "3   расскажут  рассказывать  рассказать\n",
       "4  поделились    поделиться    поделить"
      ]
     },
     "execution_count": 75,
     "metadata": {},
     "output_type": "execute_result"
    }
   ],
   "source": [
    "wrong_mystem_ds=pd.DataFrame(wrong_mystem)\n",
    "wrong_mystem_ds.columns=['word','mystem_lemm','abbyy_lemm']\n",
    "wrong_mystem_ds.head()"
   ]
  },
  {
   "cell_type": "code",
   "execution_count": 76,
   "metadata": {},
   "outputs": [],
   "source": [
    "wrong_mystem_ds.to_csv('mystem_abbyy_errors.csv',';', encoding='utf8',index=False)"
   ]
  },
  {
   "cell_type": "code",
   "execution_count": null,
   "metadata": {},
   "outputs": [],
   "source": []
  },
  {
   "cell_type": "markdown",
   "metadata": {},
   "source": [
    "## Error analysis"
   ]
  },
  {
   "cell_type": "code",
   "execution_count": 59,
   "metadata": {},
   "outputs": [],
   "source": [
    "w_bm=set([e[0] for e in wrong_bm])\n",
    "w_pymorphy=set([e[0] for e in wrong_pymorphy])\n",
    "w_mystem=set([e[0] for e in wrong_mystem])"
   ]
  },
  {
   "cell_type": "code",
   "execution_count": 68,
   "metadata": {},
   "outputs": [
    {
     "name": "stdout",
     "output_type": "stream",
     "text": [
      "5065\n",
      "3750\n",
      "5671\n"
     ]
    }
   ],
   "source": [
    "print(len(w_bm))\n",
    "print(len(w_pymorphy))\n",
    "print(len(w_mystem))"
   ]
  },
  {
   "cell_type": "code",
   "execution_count": 60,
   "metadata": {},
   "outputs": [],
   "source": [
    "trisome_intersection=w_mystem.intersection(w_bm.intersection(w_pymorphy))"
   ]
  },
  {
   "cell_type": "code",
   "execution_count": 63,
   "metadata": {},
   "outputs": [
    {
     "data": {
      "text/plain": [
       "2606"
      ]
     },
     "execution_count": 63,
     "metadata": {},
     "output_type": "execute_result"
    }
   ],
   "source": [
    "len(trisome_intersection)"
   ]
  },
  {
   "cell_type": "code",
   "execution_count": 64,
   "metadata": {},
   "outputs": [
    {
     "data": {
      "text/plain": [
       "2932"
      ]
     },
     "execution_count": 64,
     "metadata": {},
     "output_type": "execute_result"
    }
   ],
   "source": [
    "len(w_bm.intersection(w_pymorphy))"
   ]
  },
  {
   "cell_type": "code",
   "execution_count": 65,
   "metadata": {},
   "outputs": [
    {
     "data": {
      "text/plain": [
       "3244"
      ]
     },
     "execution_count": 65,
     "metadata": {},
     "output_type": "execute_result"
    }
   ],
   "source": [
    "len(w_bm.intersection(w_mystem))"
   ]
  },
  {
   "cell_type": "code",
   "execution_count": 67,
   "metadata": {},
   "outputs": [
    {
     "data": {
      "text/plain": [
       "3199"
      ]
     },
     "execution_count": 67,
     "metadata": {},
     "output_type": "execute_result"
    }
   ],
   "source": [
    "len(w_mystem.intersection(w_pymorphy))"
   ]
  },
  {
   "cell_type": "code",
   "execution_count": 70,
   "metadata": {},
   "outputs": [],
   "source": [
    "#from matplotlib import pyplot as plt\n",
    "\n",
    "from matplotlib_venn import venn3, venn3_circles"
   ]
  },
  {
   "cell_type": "code",
   "execution_count": 74,
   "metadata": {},
   "outputs": [
    {
     "data": {
      "text/plain": [
       "<matplotlib_venn._common.VennDiagram at 0x1ae39b5be10>"
      ]
     },
     "execution_count": 74,
     "metadata": {},
     "output_type": "execute_result"
    },
    {
     "data": {
      "image/png": "[encoded data removed]",
      "text/plain": [
       "<Figure size 432x288 with 1 Axes>"
      ]
     },
     "metadata": {},
     "output_type": "display_data"
    }
   ],
   "source": [
    "venn3([w_bm, w_pymorphy, w_mystem],('Developed lemmatizer', 'Pymorphy2', 'MyStem'))"
   ]
  },
  {
   "cell_type": "code",
   "execution_count": null,
   "metadata": {},
   "outputs": [],
   "source": []
  },
  {
   "cell_type": "markdown",
   "metadata": {},
   "source": [
    "# Compare opencorpora"
   ]
  },
  {
   "cell_type": "code",
   "execution_count": 57,
   "metadata": {},
   "outputs": [
    {
     "data": {
      "text/html": [
       "<div>\n",
       "<style scoped>\n",
       "    .dataframe tbody tr th:only-of-type {\n",
       "        vertical-align: middle;\n",
       "    }\n",
       "\n",
       "    .dataframe tbody tr th {\n",
       "        vertical-align: top;\n",
       "    }\n",
       "\n",
       "    .dataframe thead th {\n",
       "        text-align: right;\n",
       "    }\n",
       "</style>\n",
       "<table border=\"1\" class=\"dataframe\">\n",
       "  <thead>\n",
       "    <tr style=\"text-align: right;\">\n",
       "      <th></th>\n",
       "      <th>word</th>\n",
       "      <th>lemm</th>\n",
       "    </tr>\n",
       "  </thead>\n",
       "  <tbody>\n",
       "    <tr>\n",
       "      <th>0</th>\n",
       "      <td>АБВ</td>\n",
       "      <td>Абв</td>\n",
       "    </tr>\n",
       "    <tr>\n",
       "      <th>1</th>\n",
       "      <td>АБДУЛЛАЕВ</td>\n",
       "      <td>Абдуллаев</td>\n",
       "    </tr>\n",
       "    <tr>\n",
       "      <th>2</th>\n",
       "      <td>АБЗАЦ</td>\n",
       "      <td>абзац</td>\n",
       "    </tr>\n",
       "    <tr>\n",
       "      <th>3</th>\n",
       "      <td>АБН</td>\n",
       "      <td>АБН</td>\n",
       "    </tr>\n",
       "    <tr>\n",
       "      <th>4</th>\n",
       "      <td>АБОРИГЕНОВ</td>\n",
       "      <td>абориген</td>\n",
       "    </tr>\n",
       "  </tbody>\n",
       "</table>\n",
       "</div>"
      ],
      "text/plain": [
       "         word       lemm\n",
       "0         АБВ        Абв\n",
       "1   АБДУЛЛАЕВ  Абдуллаев\n",
       "2       АБЗАЦ      абзац\n",
       "3         АБН        АБН\n",
       "4  АБОРИГЕНОВ   абориген"
      ]
     },
     "execution_count": 57,
     "metadata": {},
     "output_type": "execute_result"
    }
   ],
   "source": [
    "#load dict\n",
    "opencorpora_dict=pd.read_csv('opencorpora.csv',';',encoding='cp1251')\n",
    "opencorpora_dict.columns=['word','lemm']\n",
    "opencorpora_dict.head()"
   ]
  },
  {
   "cell_type": "code",
   "execution_count": 107,
   "metadata": {},
   "outputs": [
    {
     "data": {
      "text/html": [
       "<div>\n",
       "<style scoped>\n",
       "    .dataframe tbody tr th:only-of-type {\n",
       "        vertical-align: middle;\n",
       "    }\n",
       "\n",
       "    .dataframe tbody tr th {\n",
       "        vertical-align: top;\n",
       "    }\n",
       "\n",
       "    .dataframe thead th {\n",
       "        text-align: right;\n",
       "    }\n",
       "</style>\n",
       "<table border=\"1\" class=\"dataframe\">\n",
       "  <thead>\n",
       "    <tr style=\"text-align: right;\">\n",
       "      <th></th>\n",
       "      <th>word</th>\n",
       "      <th>lemm</th>\n",
       "    </tr>\n",
       "  </thead>\n",
       "  <tbody>\n",
       "    <tr>\n",
       "      <th>0</th>\n",
       "      <td>абв</td>\n",
       "      <td>абв</td>\n",
       "    </tr>\n",
       "    <tr>\n",
       "      <th>1</th>\n",
       "      <td>абдуллаев</td>\n",
       "      <td>абдуллаев</td>\n",
       "    </tr>\n",
       "    <tr>\n",
       "      <th>2</th>\n",
       "      <td>абзац</td>\n",
       "      <td>абзац</td>\n",
       "    </tr>\n",
       "    <tr>\n",
       "      <th>3</th>\n",
       "      <td>абн</td>\n",
       "      <td>абн</td>\n",
       "    </tr>\n",
       "    <tr>\n",
       "      <th>4</th>\n",
       "      <td>аборигенов</td>\n",
       "      <td>абориген</td>\n",
       "    </tr>\n",
       "  </tbody>\n",
       "</table>\n",
       "</div>"
      ],
      "text/plain": [
       "         word       lemm\n",
       "0         абв        абв\n",
       "1   абдуллаев  абдуллаев\n",
       "2       абзац      абзац\n",
       "3         абн        абн\n",
       "4  аборигенов   абориген"
      ]
     },
     "execution_count": 107,
     "metadata": {},
     "output_type": "execute_result"
    }
   ],
   "source": [
    "opencorpora_dict['word']=opencorpora_dict['word'].str.lower()\n",
    "opencorpora_dict['lemm']=opencorpora_dict['lemm'].str.lower()\n",
    "opencorpora_dict.head()"
   ]
  },
  {
   "cell_type": "code",
   "execution_count": 24,
   "metadata": {},
   "outputs": [
    {
     "data": {
      "text/plain": [
       "(347409, 2)"
      ]
     },
     "execution_count": 24,
     "metadata": {},
     "output_type": "execute_result"
    }
   ],
   "source": [
    "opencorpora_dict.shape"
   ]
  },
  {
   "cell_type": "code",
   "execution_count": 108,
   "metadata": {},
   "outputs": [
    {
     "data": {
      "text/plain": [
       "0                    абв\n",
       "1              абдуллаев\n",
       "2                  абзац\n",
       "3                    абн\n",
       "4             аборигенов\n",
       "5               абрамзон\n",
       "6               абрамова\n",
       "7            абромгексал\n",
       "8           абромгексала\n",
       "9                    абс\n",
       "10             абсолютно\n",
       "11              ав-центр\n",
       "12            аварийного\n",
       "13                август\n",
       "14               августа\n",
       "15               авдотья\n",
       "16               авиакор\n",
       "17           авиационной\n",
       "18            авитаминоз\n",
       "19                   аво\n",
       "20              автоваза\n",
       "21             автовазом\n",
       "22              автограф\n",
       "23               автодом\n",
       "24        автозаводского\n",
       "25              автолайт\n",
       "26          автолюбитель\n",
       "27            автомашины\n",
       "28            автомобили\n",
       "29            автомобиль\n",
       "               ...      \n",
       "347379            ящеров\n",
       "347380             ящеры\n",
       "347381              ящик\n",
       "347382             ящика\n",
       "347383            ящикам\n",
       "347384           ящиками\n",
       "347385            ящиках\n",
       "347386             ящике\n",
       "347387             ящики\n",
       "347388            ящиков\n",
       "347389            ящиком\n",
       "347390             ящику\n",
       "347391            ящичек\n",
       "347392            ящичка\n",
       "347393          ящичками\n",
       "347394            ящичке\n",
       "347395            ящички\n",
       "347396           ящичков\n",
       "347397           ящичком\n",
       "347398            ящичку\n",
       "347399          ящичного\n",
       "347400            ящуров\n",
       "347401              ёжик\n",
       "347402            ёкнуло\n",
       "347403              ёлка\n",
       "347404              ёлки\n",
       "347405             ёлкой\n",
       "347406              ёлку\n",
       "347407            ёлочку\n",
       "347408           ёмкость\n",
       "Name: word, Length: 347409, dtype: object"
      ]
     },
     "execution_count": 108,
     "metadata": {},
     "output_type": "execute_result"
    }
   ],
   "source": [
    "opencorpora_dict['word']"
   ]
  },
  {
   "cell_type": "markdown",
   "metadata": {},
   "source": [
    "## Best model"
   ]
  },
  {
   "cell_type": "code",
   "execution_count": 109,
   "metadata": {},
   "outputs": [
    {
     "data": {
      "application/vnd.jupyter.widget-view+json": {
       "model_id": "",
       "version_major": 2,
       "version_minor": 0
      },
      "text/plain": [
       "HBox(children=(IntProgress(value=0, max=347409), HTML(value='')))"
      ]
     },
     "metadata": {},
     "output_type": "display_data"
    }
   ],
   "source": [
    "opencorpora_vec=[alpha_vec2(w) for w in tqdm_notebook(opencorpora_dict['word'])]"
   ]
  },
  {
   "cell_type": "markdown",
   "metadata": {},
   "source": [
    "### ExtraTree"
   ]
  },
  {
   "cell_type": "code",
   "execution_count": 110,
   "metadata": {},
   "outputs": [
    {
     "name": "stderr",
     "output_type": "stream",
     "text": [
      "[Parallel(n_jobs=8)]: Done   3 out of  10 | elapsed:    0.5s remaining:    1.3s\n",
      "[Parallel(n_jobs=8)]: Done   5 out of  10 | elapsed:    0.5s remaining:    0.5s\n",
      "[Parallel(n_jobs=8)]: Done   7 out of  10 | elapsed:    0.6s remaining:    0.2s\n",
      "[Parallel(n_jobs=8)]: Done  10 out of  10 | elapsed:    0.8s finished\n"
     ]
    }
   ],
   "source": [
    "opencorpora_predicted=best_model.predict(opencorpora_vec)"
   ]
  },
  {
   "cell_type": "code",
   "execution_count": 111,
   "metadata": {},
   "outputs": [
    {
     "data": {
      "text/plain": [
       "347409"
      ]
     },
     "execution_count": 111,
     "metadata": {},
     "output_type": "execute_result"
    }
   ],
   "source": [
    "len(opencorpora_predicted)"
   ]
  },
  {
   "cell_type": "code",
   "execution_count": 112,
   "metadata": {},
   "outputs": [],
   "source": [
    "opencorpora_predicted_dec=[decode_vec(vec) for vec in opencorpora_predicted]"
   ]
  },
  {
   "cell_type": "code",
   "execution_count": 113,
   "metadata": {},
   "outputs": [
    {
     "data": {
      "application/vnd.jupyter.widget-view+json": {
       "model_id": "",
       "version_major": 2,
       "version_minor": 0
      },
      "text/plain": [
       "HBox(children=(IntProgress(value=0, max=347409), HTML(value='')))"
      ]
     },
     "metadata": {},
     "output_type": "display_data"
    }
   ],
   "source": [
    "test_opencorpora_bm=[w1==w2 for w1,w2 in zip(opencorpora_predicted_dec,tqdm_notebook(opencorpora_dict['lemm']))]"
   ]
  },
  {
   "cell_type": "code",
   "execution_count": 114,
   "metadata": {},
   "outputs": [
    {
     "data": {
      "text/plain": [
       "0.6840496360197922"
      ]
     },
     "execution_count": 114,
     "metadata": {},
     "output_type": "execute_result"
    }
   ],
   "source": [
    "sum(test_opencorpora_bm)/len(test_opencorpora_bm)"
   ]
  },
  {
   "cell_type": "code",
   "execution_count": 115,
   "metadata": {
    "scrolled": true
   },
   "outputs": [
    {
     "data": {
      "application/vnd.jupyter.widget-view+json": {
       "model_id": "",
       "version_major": 2,
       "version_minor": 0
      },
      "text/plain": [
       "HBox(children=(IntProgress(value=0, max=347409), HTML(value='')))"
      ]
     },
     "metadata": {},
     "output_type": "display_data"
    }
   ],
   "source": [
    "wrong_opencorpora_bm=[[list(opencorpora_dict['word'])[i],opencorpora_predicted_dec[i],list(opencorpora_dict['lemm'])[i]] for i in tqdm_notebook(range(len(test_opencorpora_bm))) if test_opencorpora_bm[i]==False]"
   ]
  },
  {
   "cell_type": "code",
   "execution_count": 116,
   "metadata": {},
   "outputs": [
    {
     "data": {
      "text/plain": [
       "109764"
      ]
     },
     "execution_count": 116,
     "metadata": {},
     "output_type": "execute_result"
    }
   ],
   "source": [
    "len(wrong_opencorpora_bm)"
   ]
  },
  {
   "cell_type": "code",
   "execution_count": 117,
   "metadata": {},
   "outputs": [
    {
     "data": {
      "text/plain": [
       "[['абв', 'ааб', 'абв'],\n",
       " ['абдуллаев', 'гбгтмодезйа', 'абдуллаев'],\n",
       " ['абн', 'бгзде', 'абн'],\n",
       " ['абрамзон', 'абпамион', 'абрамзон'],\n",
       " ['абрамова', 'авобмдадгв', 'абрамова'],\n",
       " ['абромгексал', 'ёврнрвеллбв', 'абромгексал'],\n",
       " ['абромгексала', 'ёврнрвеллбв', 'абромгексал'],\n",
       " ['абс', 'абб', 'абс'],\n",
       " ['абсолютно', 'абсолютный', 'абсолютно'],\n",
       " ['ав-центр', 'бвшукйлевгга', 'ав-центр'],\n",
       " ['авдотья', 'вдеорулз', 'авдотья'],\n",
       " ['авиакор', 'ббзбмопда', 'авиакор'],\n",
       " ['аво', 'агзв', 'аво'],\n",
       " ['автодом', 'автогнк', 'автодом'],\n",
       " ['автолайт', 'авройза', 'автолайт'],\n",
       " ['автолюбитель', 'ввсольбзсель', 'автолюбитель'],\n",
       " ['автопроизводители', 'ёгмпнрлизвоезпелцвдб', 'автопроизводитель'],\n",
       " ['автор', 'авсоп', 'автор'],\n",
       " ['автоспеццентр', 'ивпопоефнжонжеа', 'автоспеццентр'],\n",
       " ['автотемп', 'бдоосдкуквв', 'автотемп'],\n",
       " ['аг', 'ага', 'аг'],\n",
       " ['агатов', 'агатовый', 'агатов'],\n",
       " ['аграновский', 'йвозмобокёёвба', 'аграновский'],\n",
       " ['аграчева', 'ббоафиовбв', 'аграчева'],\n",
       " ['агрос', 'адпкмба', 'агрос'],\n",
       " ['адам', 'ада', 'адам'],\n",
       " ['адн', 'аезе', 'адн'],\n",
       " ['аду', 'ада', 'аду'],\n",
       " ['аек', 'аёёа', 'аек'],\n",
       " ['азв', 'азбв', 'азв'],\n",
       " ['азлк', 'бзлкдв', 'азлк'],\n",
       " ['азс', 'азё', 'азс'],\n",
       " ['аинс', 'азмн', 'аинс'],\n",
       " ['аис', 'аир', 'аис'],\n",
       " ['ак', 'актзв', 'ак'],\n",
       " ['акб', 'акпжв', 'акб'],\n",
       " ['акм', 'айнбвбв', 'акм'],\n",
       " ['акмс', 'бкомгжв', 'акмс'],\n",
       " ['акн', 'айобвбв', 'акн'],\n",
       " ['акопян', 'гкооцмлд', 'акопян'],\n",
       " ['акпп', 'бкпйедге', 'акпп'],\n",
       " ['акрлдн', 'бмсмйойабв', 'акрлдн'],\n",
       " ['акс', 'акр', 'акс'],\n",
       " ['аксененко', 'взрдлжнйеа', 'аксененко'],\n",
       " ['аксит', 'акрзпж', 'аксит'],\n",
       " ['аксюта', 'бйрхожв', 'аксюта'],\n",
       " ['актер', 'аксдпбв', 'актер'],\n",
       " ['актуально', 'актуальный', 'актуально'],\n",
       " ['акулова', 'акуловый', 'акулова'],\n",
       " ['акш', 'айпбжк', 'акш'],\n",
       " ['ал', 'алый', 'ал'],\n",
       " ['алаев', 'влвжже', 'алаев'],\n",
       " ['алдын-оол', 'бнгткцнпжа', 'алдын-оол'],\n",
       " ['александр', 'александра', 'александр'],\n",
       " ['алексеев', 'алексей', 'алексеев'],\n",
       " ['алексеевич', 'алексей', 'алексеевич'],\n",
       " ['алексей', 'акдисжив', 'алексей'],\n",
       " ['алексейкина', 'гнелсёлзжжжв', 'алексейкина'],\n",
       " ['алентова', 'бмгоуйдижв', 'алентова'],\n",
       " ['алибасов', 'бмжваннва', 'алибасов'],\n",
       " ['алик', 'алиф', 'алик'],\n",
       " ['алкашей', 'бмлвтллё', 'алкаш'],\n",
       " ['алп', 'алхж', 'алп'],\n",
       " ['алсн', 'алсзгбв', 'алсн'],\n",
       " ['алышев', 'бнщцёимб', 'алышев'],\n",
       " ['алька', 'амьйб', 'алька'],\n",
       " ['аман', 'алаёв', 'аман'],\n",
       " ['амати', 'анбнеее', 'амати'],\n",
       " ['амб', 'ам', 'амб'],\n",
       " ['амелин', 'анднмпё', 'амелин'],\n",
       " ['амо', 'амга', 'амо'],\n",
       " ['амро', 'амрйа', 'амро'],\n",
       " ['амт', 'аме', 'амт'],\n",
       " ['ан', 'ана', 'ан'],\n",
       " ['анабазис', 'анабазин', 'анабазис'],\n",
       " ['аналитик', 'аналитика', 'аналитик'],\n",
       " ['анатолий', 'анатолия', 'анатолий'],\n",
       " ['анатольева', 'вмгпомоёжлд', 'анатольева'],\n",
       " ['анб', 'ана', 'анб'],\n",
       " ['андреев', 'андрей', 'андреев'],\n",
       " ['анимационный', 'длиогфипокхж', 'анимационный'],\n",
       " ['анисимов', 'аокпзнвав', 'анисимов'],\n",
       " ['анисья', 'бплсцжеёе', 'анисья'],\n",
       " ['анна', 'амм', 'анна'],\n",
       " ['анофриев', 'амороиижкв', 'анофриев'],\n",
       " ['анохин', 'бмосзлеё', 'анохин'],\n",
       " ['антигерпес', 'антигерой', 'антигерпес'],\n",
       " ['антикапитализм', 'впниоёминволпв', 'антикапитализм'],\n",
       " ['антипенко', 'амсипёокма', 'антипенко'],\n",
       " ['антк', 'бмрзаез', 'антк'],\n",
       " ['анук', 'бмпибёе', 'анук'],\n",
       " ['ао', 'ан', 'ао'],\n",
       " ['аозт', 'бозз', 'аозт'],\n",
       " ['аок', 'аои', 'аок'],\n",
       " ['аокс', 'аокр', 'аокс'],\n",
       " ['аон', 'аой', 'аон'],\n",
       " ['аоот', 'анлл', 'аоот'],\n",
       " ['аоуоа', 'аорлёб', 'аоуоа'],\n",
       " ['ап', 'ао', 'ап'],\n",
       " ['апб', 'аоа', 'апб']]"
      ]
     },
     "execution_count": 117,
     "metadata": {},
     "output_type": "execute_result"
    }
   ],
   "source": [
    "wrong_opencorpora_bm[:100]"
   ]
  },
  {
   "cell_type": "code",
   "execution_count": 118,
   "metadata": {},
   "outputs": [
    {
     "data": {
      "text/html": [
       "<div>\n",
       "<style scoped>\n",
       "    .dataframe tbody tr th:only-of-type {\n",
       "        vertical-align: middle;\n",
       "    }\n",
       "\n",
       "    .dataframe tbody tr th {\n",
       "        vertical-align: top;\n",
       "    }\n",
       "\n",
       "    .dataframe thead th {\n",
       "        text-align: right;\n",
       "    }\n",
       "</style>\n",
       "<table border=\"1\" class=\"dataframe\">\n",
       "  <thead>\n",
       "    <tr style=\"text-align: right;\">\n",
       "      <th></th>\n",
       "      <th>word</th>\n",
       "      <th>bm_lemm</th>\n",
       "      <th>opencorpora_lemm</th>\n",
       "    </tr>\n",
       "  </thead>\n",
       "  <tbody>\n",
       "    <tr>\n",
       "      <th>0</th>\n",
       "      <td>абв</td>\n",
       "      <td>ааб</td>\n",
       "      <td>абв</td>\n",
       "    </tr>\n",
       "    <tr>\n",
       "      <th>1</th>\n",
       "      <td>абдуллаев</td>\n",
       "      <td>гбгтмодезйа</td>\n",
       "      <td>абдуллаев</td>\n",
       "    </tr>\n",
       "    <tr>\n",
       "      <th>2</th>\n",
       "      <td>абн</td>\n",
       "      <td>бгзде</td>\n",
       "      <td>абн</td>\n",
       "    </tr>\n",
       "    <tr>\n",
       "      <th>3</th>\n",
       "      <td>абрамзон</td>\n",
       "      <td>абпамион</td>\n",
       "      <td>абрамзон</td>\n",
       "    </tr>\n",
       "    <tr>\n",
       "      <th>4</th>\n",
       "      <td>абрамова</td>\n",
       "      <td>авобмдадгв</td>\n",
       "      <td>абрамова</td>\n",
       "    </tr>\n",
       "  </tbody>\n",
       "</table>\n",
       "</div>"
      ],
      "text/plain": [
       "        word      bm_lemm opencorpora_lemm\n",
       "0        абв          ааб              абв\n",
       "1  абдуллаев  гбгтмодезйа        абдуллаев\n",
       "2        абн        бгзде              абн\n",
       "3   абрамзон     абпамион         абрамзон\n",
       "4   абрамова   авобмдадгв         абрамова"
      ]
     },
     "execution_count": 118,
     "metadata": {},
     "output_type": "execute_result"
    }
   ],
   "source": [
    "wrong_oc_bm_ds=pd.DataFrame(wrong_opencorpora_bm)\n",
    "wrong_oc_bm_ds.columns=['word','bm_lemm','opencorpora_lemm']\n",
    "wrong_oc_bm_ds.head()"
   ]
  },
  {
   "cell_type": "code",
   "execution_count": 119,
   "metadata": {},
   "outputs": [],
   "source": [
    "wrong_oc_bm_ds.to_csv('bm_oc_errors.csv',';', encoding='utf8',index=False)"
   ]
  },
  {
   "cell_type": "markdown",
   "metadata": {},
   "source": [
    "### DecisionTree"
   ]
  },
  {
   "cell_type": "code",
   "execution_count": 175,
   "metadata": {},
   "outputs": [],
   "source": [
    "opencorpora_predicted_DT=best_model_DT.predict(opencorpora_vec)"
   ]
  },
  {
   "cell_type": "code",
   "execution_count": 176,
   "metadata": {},
   "outputs": [
    {
     "data": {
      "text/plain": [
       "347409"
      ]
     },
     "execution_count": 176,
     "metadata": {},
     "output_type": "execute_result"
    }
   ],
   "source": [
    "len(opencorpora_predicted_DT)"
   ]
  },
  {
   "cell_type": "code",
   "execution_count": 177,
   "metadata": {},
   "outputs": [],
   "source": [
    "opencorpora_predicted_DT_dec=[decode_vec(vec) for vec in opencorpora_predicted_DT]"
   ]
  },
  {
   "cell_type": "code",
   "execution_count": 178,
   "metadata": {},
   "outputs": [
    {
     "data": {
      "application/vnd.jupyter.widget-view+json": {
       "model_id": "2e35212e3c9248038f078ad26bd95df5",
       "version_major": 2,
       "version_minor": 0
      },
      "text/plain": [
       "HBox(children=(IntProgress(value=0, max=347409), HTML(value='')))"
      ]
     },
     "metadata": {},
     "output_type": "display_data"
    }
   ],
   "source": [
    "test_opencorpora_bm_DT=[w1==w2 for w1,w2 in zip(opencorpora_predicted_DT_dec,tqdm_notebook(opencorpora_dict['lemm']))]"
   ]
  },
  {
   "cell_type": "code",
   "execution_count": 179,
   "metadata": {},
   "outputs": [
    {
     "data": {
      "text/plain": [
       "0.7088043199801962"
      ]
     },
     "execution_count": 179,
     "metadata": {},
     "output_type": "execute_result"
    }
   ],
   "source": [
    "sum(test_opencorpora_bm_DT)/len(test_opencorpora_bm_DT)"
   ]
  },
  {
   "cell_type": "code",
   "execution_count": 181,
   "metadata": {},
   "outputs": [
    {
     "data": {
      "application/vnd.jupyter.widget-view+json": {
       "model_id": "172e14cb39854e37aa150048975ee9ed",
       "version_major": 2,
       "version_minor": 0
      },
      "text/plain": [
       "HBox(children=(IntProgress(value=0, max=347409), HTML(value='')))"
      ]
     },
     "metadata": {},
     "output_type": "display_data"
    }
   ],
   "source": [
    "wrong_opencorpora_bm_DT=[[opencorpora_dict['word'].iloc[i],opencorpora_predicted_DT_dec[i],opencorpora_dict['lemm'].iloc[i]] for i in tqdm_notebook(range(len(test_opencorpora_bm_DT))) if test_opencorpora_bm_DT[i]==False]"
   ]
  },
  {
   "cell_type": "code",
   "execution_count": 182,
   "metadata": {},
   "outputs": [
    {
     "data": {
      "text/plain": [
       "101164"
      ]
     },
     "execution_count": 182,
     "metadata": {},
     "output_type": "execute_result"
    }
   ],
   "source": [
    "len(wrong_opencorpora_bm_DT)"
   ]
  },
  {
   "cell_type": "code",
   "execution_count": 183,
   "metadata": {},
   "outputs": [
    {
     "data": {
      "text/plain": [
       "[['абв', 'а', 'абв'],\n",
       " ['абдуллаев', 'авансовый', 'абдуллаев'],\n",
       " ['абн', 'банан', 'абн'],\n",
       " ['абрамзон', 'баранина', 'абрамзон'],\n",
       " ['абрамова', 'абрам', 'абрамова'],\n",
       " ['абромгексал', 'огородничать', 'абромгексал'],\n",
       " ['абромгексала', 'застрекотать', 'абромгексал'],\n",
       " ['абс', 'аба', 'абс'],\n",
       " ['абсолютно', 'абсолютный', 'абсолютно'],\n",
       " ['ав-центр', 'бдеть', 'ав-центр'],\n",
       " ['авдотья', 'авантюра', 'авдотья'],\n",
       " ['авиакор', 'базальт', 'авиакор'],\n",
       " ['аво', 'вера', 'аво'],\n",
       " ['автодом', 'автодок', 'автодом'],\n",
       " ['автолайт', 'бесславить', 'автолайт'],\n",
       " ['автопроизводители', 'делопроизводитель', 'автопроизводитель'],\n",
       " ['автор', 'аврора', 'автор'],\n",
       " ['автоспеццентр', 'десмургический', 'автоспеццентр'],\n",
       " ['автотемп', 'дистрикт', 'автотемп'],\n",
       " ['аг', 'ага', 'аг'],\n",
       " ['агатов', 'агатовый', 'агатов'],\n",
       " ['аграновский', 'кемеровский', 'аграновский'],\n",
       " ['аграчева', 'аблатив', 'аграчева'],\n",
       " ['агрос', 'вброс', 'агрос'],\n",
       " ['адам', 'ада', 'адам'],\n",
       " ['адн', 'вено', 'адн'],\n",
       " ['аду', 'ада', 'аду'],\n",
       " ['аек', 'веко', 'аек'],\n",
       " ['азв', 'айва', 'азв'],\n",
       " ['азлк', 'аз', 'азлк'],\n",
       " ['азс', 'виснуть', 'азс'],\n",
       " ['аинс', 'бинт', 'аинс'],\n",
       " ['аис', 'виснуть', 'аис'],\n",
       " ['ак', 'алый', 'ак'],\n",
       " ['акб', 'алый', 'акб'],\n",
       " ['акм', 'алла', 'акм'],\n",
       " ['акмс', 'икос', 'акмс'],\n",
       " ['акн', 'акр', 'акн'],\n",
       " ['акопян', 'броня', 'акопян'],\n",
       " ['акпп', 'емкий', 'акпп'],\n",
       " ['акрлдн', 'блонда', 'акрлдн'],\n",
       " ['акс', 'акр', 'акс'],\n",
       " ['аксененко', 'актиниевый', 'аксененко'],\n",
       " ['аксит', 'аорист', 'аксит'],\n",
       " ['аксюта', 'волюта', 'аксюта'],\n",
       " ['актуально', 'актуальный', 'актуально'],\n",
       " ['акулова', 'акуловый', 'акулова'],\n",
       " ['акш', 'алкать', 'акш'],\n",
       " ['ал', 'алый', 'ал'],\n",
       " ['алаев', 'глей', 'алаев'],\n",
       " ['алдын-оол', 'догонялки', 'алдын-оол'],\n",
       " ['александр', 'александра', 'александр'],\n",
       " ['алексеев', 'алексей', 'алексеев'],\n",
       " ['алексеевич', 'алексей', 'алексеевич'],\n",
       " ['алексейкина', 'амброзия', 'алексейкина'],\n",
       " ['алентова', 'гнейсовый', 'алентова'],\n",
       " ['алибасов', 'алебастр', 'алибасов'],\n",
       " ['алик', 'алия', 'алик'],\n",
       " ['алкашей', 'букашка', 'алкаш'],\n",
       " ['алп', 'алый', 'алп'],\n",
       " ['алсн', 'глум', 'алсн'],\n",
       " ['алышев', 'впятить', 'алышев'],\n",
       " ['алька', 'глюк', 'алька'],\n",
       " ['аман', 'алан', 'аман'],\n",
       " ['амати', 'блат', 'амати'],\n",
       " ['амб', 'ам', 'амб'],\n",
       " ['амелин', 'аленин', 'амелин'],\n",
       " ['амо', 'ам', 'амо'],\n",
       " ['амро', 'емкий', 'амро'],\n",
       " ['амт', 'ант', 'амт'],\n",
       " ['ан', 'ана', 'ан'],\n",
       " ['анабазис', 'анабазин', 'анабазис'],\n",
       " ['аналитик', 'аналитика', 'аналитик'],\n",
       " ['анатолий', 'анатолия', 'анатолий'],\n",
       " ['анатольева', 'анаморфизм', 'анатольева'],\n",
       " ['анб', 'ана', 'анб'],\n",
       " ['андреев', 'андрей', 'андреев'],\n",
       " ['анимационный', 'кремационный', 'анимационный'],\n",
       " ['анисимов', 'алисия', 'анисимов'],\n",
       " ['анисья', 'блестеть', 'анисья'],\n",
       " ['анофриев', 'альфред', 'анофриев'],\n",
       " ['анохин', 'аортит', 'анохин'],\n",
       " ['антигерпес', 'антигерой', 'антигерпес'],\n",
       " ['антикапитализм', 'ламинариевый', 'антикапитализм'],\n",
       " ['антипенко', 'интердикт', 'антипенко'],\n",
       " ['антк', 'ана', 'антк'],\n",
       " ['анук', 'внука', 'анук'],\n",
       " ['ао', 'ана', 'ао'],\n",
       " ['аозт', 'анита', 'аозт'],\n",
       " ['аок', 'бок', 'аок'],\n",
       " ['аокс', 'бокс', 'аокс'],\n",
       " ['аон', 'анна', 'аон'],\n",
       " ['аоот', 'болт', 'аоот'],\n",
       " ['аоуоа', 'борный', 'аоуоа'],\n",
       " ['ап', 'ана', 'ап'],\n",
       " ['апб', 'ана', 'апб'],\n",
       " ['апг', 'ар', 'апг'],\n",
       " ['апенин', 'аленин', 'апенин'],\n",
       " ['апк', 'бок', 'апк'],\n",
       " ['апл', 'бок', 'апл']]"
      ]
     },
     "execution_count": 183,
     "metadata": {},
     "output_type": "execute_result"
    }
   ],
   "source": [
    "wrong_opencorpora_bm_DT[:100]"
   ]
  },
  {
   "cell_type": "code",
   "execution_count": 184,
   "metadata": {},
   "outputs": [
    {
     "data": {
      "text/html": [
       "<div>\n",
       "<style scoped>\n",
       "    .dataframe tbody tr th:only-of-type {\n",
       "        vertical-align: middle;\n",
       "    }\n",
       "\n",
       "    .dataframe tbody tr th {\n",
       "        vertical-align: top;\n",
       "    }\n",
       "\n",
       "    .dataframe thead th {\n",
       "        text-align: right;\n",
       "    }\n",
       "</style>\n",
       "<table border=\"1\" class=\"dataframe\">\n",
       "  <thead>\n",
       "    <tr style=\"text-align: right;\">\n",
       "      <th></th>\n",
       "      <th>word</th>\n",
       "      <th>bm_lemm</th>\n",
       "      <th>opencorpora_lemm</th>\n",
       "    </tr>\n",
       "  </thead>\n",
       "  <tbody>\n",
       "    <tr>\n",
       "      <th>0</th>\n",
       "      <td>абв</td>\n",
       "      <td>а</td>\n",
       "      <td>абв</td>\n",
       "    </tr>\n",
       "    <tr>\n",
       "      <th>1</th>\n",
       "      <td>абдуллаев</td>\n",
       "      <td>авансовый</td>\n",
       "      <td>абдуллаев</td>\n",
       "    </tr>\n",
       "    <tr>\n",
       "      <th>2</th>\n",
       "      <td>абн</td>\n",
       "      <td>банан</td>\n",
       "      <td>абн</td>\n",
       "    </tr>\n",
       "    <tr>\n",
       "      <th>3</th>\n",
       "      <td>абрамзон</td>\n",
       "      <td>баранина</td>\n",
       "      <td>абрамзон</td>\n",
       "    </tr>\n",
       "    <tr>\n",
       "      <th>4</th>\n",
       "      <td>абрамова</td>\n",
       "      <td>абрам</td>\n",
       "      <td>абрамова</td>\n",
       "    </tr>\n",
       "  </tbody>\n",
       "</table>\n",
       "</div>"
      ],
      "text/plain": [
       "        word    bm_lemm opencorpora_lemm\n",
       "0        абв          а              абв\n",
       "1  абдуллаев  авансовый        абдуллаев\n",
       "2        абн      банан              абн\n",
       "3   абрамзон   баранина         абрамзон\n",
       "4   абрамова      абрам         абрамова"
      ]
     },
     "execution_count": 184,
     "metadata": {},
     "output_type": "execute_result"
    }
   ],
   "source": [
    "wrong_oc_bm_DT_ds=pd.DataFrame(wrong_opencorpora_bm_DT)\n",
    "wrong_oc_bm_DT_ds.columns=['word','bm_lemm','opencorpora_lemm']\n",
    "wrong_oc_bm_DT_ds.head()"
   ]
  },
  {
   "cell_type": "code",
   "execution_count": 185,
   "metadata": {},
   "outputs": [],
   "source": [
    "wrong_oc_bm_DT_ds.to_csv('bm_oc_errors_DT.csv',';', encoding='utf8',index=False)"
   ]
  },
  {
   "cell_type": "markdown",
   "metadata": {},
   "source": [
    "### RandomForest"
   ]
  },
  {
   "cell_type": "code",
   "execution_count": 186,
   "metadata": {},
   "outputs": [],
   "source": [
    "opencorpora_predicted_RF=best_model_RF.predict(opencorpora_vec)"
   ]
  },
  {
   "cell_type": "code",
   "execution_count": 187,
   "metadata": {},
   "outputs": [
    {
     "data": {
      "text/plain": [
       "347409"
      ]
     },
     "execution_count": 187,
     "metadata": {},
     "output_type": "execute_result"
    }
   ],
   "source": [
    "len(opencorpora_predicted_RF)"
   ]
  },
  {
   "cell_type": "code",
   "execution_count": 188,
   "metadata": {},
   "outputs": [],
   "source": [
    "opencorpora_predicted_RF_dec=[decode_vec(vec) for vec in opencorpora_predicted_RF]"
   ]
  },
  {
   "cell_type": "code",
   "execution_count": 190,
   "metadata": {},
   "outputs": [
    {
     "data": {
      "application/vnd.jupyter.widget-view+json": {
       "model_id": "9abfca3b72ba4b46a62217dfbf89f86d",
       "version_major": 2,
       "version_minor": 0
      },
      "text/plain": [
       "HBox(children=(IntProgress(value=0, max=347409), HTML(value='')))"
      ]
     },
     "metadata": {},
     "output_type": "display_data"
    }
   ],
   "source": [
    "test_opencorpora_bm_RF=[w1==w2 for w1,w2 in zip(opencorpora_predicted_RF_dec,tqdm_notebook(opencorpora_dict['lemm']))]"
   ]
  },
  {
   "cell_type": "code",
   "execution_count": 191,
   "metadata": {},
   "outputs": [
    {
     "data": {
      "text/plain": [
       "0.3556499687687999"
      ]
     },
     "execution_count": 191,
     "metadata": {},
     "output_type": "execute_result"
    }
   ],
   "source": [
    "sum(test_opencorpora_bm_RF)/len(test_opencorpora_bm_RF)"
   ]
  },
  {
   "cell_type": "code",
   "execution_count": 115,
   "metadata": {
    "scrolled": true
   },
   "outputs": [
    {
     "data": {
      "application/vnd.jupyter.widget-view+json": {
       "model_id": "",
       "version_major": 2,
       "version_minor": 0
      },
      "text/plain": [
       "HBox(children=(IntProgress(value=0, max=347409), HTML(value='')))"
      ]
     },
     "metadata": {},
     "output_type": "display_data"
    }
   ],
   "source": [
    "wrong_opencorpora_bm=[[list(opencorpora_dict['word'])[i],opencorpora_predicted_dec[i],list(opencorpora_dict['lemm'])[i]] for i in tqdm_notebook(range(len(test_opencorpora_bm))) if test_opencorpora_bm[i]==False]"
   ]
  },
  {
   "cell_type": "code",
   "execution_count": 116,
   "metadata": {},
   "outputs": [
    {
     "data": {
      "text/plain": [
       "109764"
      ]
     },
     "execution_count": 116,
     "metadata": {},
     "output_type": "execute_result"
    }
   ],
   "source": [
    "len(wrong_opencorpora_bm)"
   ]
  },
  {
   "cell_type": "code",
   "execution_count": 117,
   "metadata": {},
   "outputs": [
    {
     "data": {
      "text/plain": [
       "[['абв', 'ааб', 'абв'],\n",
       " ['абдуллаев', 'гбгтмодезйа', 'абдуллаев'],\n",
       " ['абн', 'бгзде', 'абн'],\n",
       " ['абрамзон', 'абпамион', 'абрамзон'],\n",
       " ['абрамова', 'авобмдадгв', 'абрамова'],\n",
       " ['абромгексал', 'ёврнрвеллбв', 'абромгексал'],\n",
       " ['абромгексала', 'ёврнрвеллбв', 'абромгексал'],\n",
       " ['абс', 'абб', 'абс'],\n",
       " ['абсолютно', 'абсолютный', 'абсолютно'],\n",
       " ['ав-центр', 'бвшукйлевгга', 'ав-центр'],\n",
       " ['авдотья', 'вдеорулз', 'авдотья'],\n",
       " ['авиакор', 'ббзбмопда', 'авиакор'],\n",
       " ['аво', 'агзв', 'аво'],\n",
       " ['автодом', 'автогнк', 'автодом'],\n",
       " ['автолайт', 'авройза', 'автолайт'],\n",
       " ['автолюбитель', 'ввсольбзсель', 'автолюбитель'],\n",
       " ['автопроизводители', 'ёгмпнрлизвоезпелцвдб', 'автопроизводитель'],\n",
       " ['автор', 'авсоп', 'автор'],\n",
       " ['автоспеццентр', 'ивпопоефнжонжеа', 'автоспеццентр'],\n",
       " ['автотемп', 'бдоосдкуквв', 'автотемп'],\n",
       " ['аг', 'ага', 'аг'],\n",
       " ['агатов', 'агатовый', 'агатов'],\n",
       " ['аграновский', 'йвозмобокёёвба', 'аграновский'],\n",
       " ['аграчева', 'ббоафиовбв', 'аграчева'],\n",
       " ['агрос', 'адпкмба', 'агрос'],\n",
       " ['адам', 'ада', 'адам'],\n",
       " ['адн', 'аезе', 'адн'],\n",
       " ['аду', 'ада', 'аду'],\n",
       " ['аек', 'аёёа', 'аек'],\n",
       " ['азв', 'азбв', 'азв'],\n",
       " ['азлк', 'бзлкдв', 'азлк'],\n",
       " ['азс', 'азё', 'азс'],\n",
       " ['аинс', 'азмн', 'аинс'],\n",
       " ['аис', 'аир', 'аис'],\n",
       " ['ак', 'актзв', 'ак'],\n",
       " ['акб', 'акпжв', 'акб'],\n",
       " ['акм', 'айнбвбв', 'акм'],\n",
       " ['акмс', 'бкомгжв', 'акмс'],\n",
       " ['акн', 'айобвбв', 'акн'],\n",
       " ['акопян', 'гкооцмлд', 'акопян'],\n",
       " ['акпп', 'бкпйедге', 'акпп'],\n",
       " ['акрлдн', 'бмсмйойабв', 'акрлдн'],\n",
       " ['акс', 'акр', 'акс'],\n",
       " ['аксененко', 'взрдлжнйеа', 'аксененко'],\n",
       " ['аксит', 'акрзпж', 'аксит'],\n",
       " ['аксюта', 'бйрхожв', 'аксюта'],\n",
       " ['актер', 'аксдпбв', 'актер'],\n",
       " ['актуально', 'актуальный', 'актуально'],\n",
       " ['акулова', 'акуловый', 'акулова'],\n",
       " ['акш', 'айпбжк', 'акш'],\n",
       " ['ал', 'алый', 'ал'],\n",
       " ['алаев', 'влвжже', 'алаев'],\n",
       " ['алдын-оол', 'бнгткцнпжа', 'алдын-оол'],\n",
       " ['александр', 'александра', 'александр'],\n",
       " ['алексеев', 'алексей', 'алексеев'],\n",
       " ['алексеевич', 'алексей', 'алексеевич'],\n",
       " ['алексей', 'акдисжив', 'алексей'],\n",
       " ['алексейкина', 'гнелсёлзжжжв', 'алексейкина'],\n",
       " ['алентова', 'бмгоуйдижв', 'алентова'],\n",
       " ['алибасов', 'бмжваннва', 'алибасов'],\n",
       " ['алик', 'алиф', 'алик'],\n",
       " ['алкашей', 'бмлвтллё', 'алкаш'],\n",
       " ['алп', 'алхж', 'алп'],\n",
       " ['алсн', 'алсзгбв', 'алсн'],\n",
       " ['алышев', 'бнщцёимб', 'алышев'],\n",
       " ['алька', 'амьйб', 'алька'],\n",
       " ['аман', 'алаёв', 'аман'],\n",
       " ['амати', 'анбнеее', 'амати'],\n",
       " ['амб', 'ам', 'амб'],\n",
       " ['амелин', 'анднмпё', 'амелин'],\n",
       " ['амо', 'амга', 'амо'],\n",
       " ['амро', 'амрйа', 'амро'],\n",
       " ['амт', 'аме', 'амт'],\n",
       " ['ан', 'ана', 'ан'],\n",
       " ['анабазис', 'анабазин', 'анабазис'],\n",
       " ['аналитик', 'аналитика', 'аналитик'],\n",
       " ['анатолий', 'анатолия', 'анатолий'],\n",
       " ['анатольева', 'вмгпомоёжлд', 'анатольева'],\n",
       " ['анб', 'ана', 'анб'],\n",
       " ['андреев', 'андрей', 'андреев'],\n",
       " ['анимационный', 'длиогфипокхж', 'анимационный'],\n",
       " ['анисимов', 'аокпзнвав', 'анисимов'],\n",
       " ['анисья', 'бплсцжеёе', 'анисья'],\n",
       " ['анна', 'амм', 'анна'],\n",
       " ['анофриев', 'амороиижкв', 'анофриев'],\n",
       " ['анохин', 'бмосзлеё', 'анохин'],\n",
       " ['антигерпес', 'антигерой', 'антигерпес'],\n",
       " ['антикапитализм', 'впниоёминволпв', 'антикапитализм'],\n",
       " ['антипенко', 'амсипёокма', 'антипенко'],\n",
       " ['антк', 'бмрзаез', 'антк'],\n",
       " ['анук', 'бмпибёе', 'анук'],\n",
       " ['ао', 'ан', 'ао'],\n",
       " ['аозт', 'бозз', 'аозт'],\n",
       " ['аок', 'аои', 'аок'],\n",
       " ['аокс', 'аокр', 'аокс'],\n",
       " ['аон', 'аой', 'аон'],\n",
       " ['аоот', 'анлл', 'аоот'],\n",
       " ['аоуоа', 'аорлёб', 'аоуоа'],\n",
       " ['ап', 'ао', 'ап'],\n",
       " ['апб', 'аоа', 'апб']]"
      ]
     },
     "execution_count": 117,
     "metadata": {},
     "output_type": "execute_result"
    }
   ],
   "source": [
    "wrong_opencorpora_bm[:100]"
   ]
  },
  {
   "cell_type": "code",
   "execution_count": 118,
   "metadata": {},
   "outputs": [
    {
     "data": {
      "text/html": [
       "<div>\n",
       "<style scoped>\n",
       "    .dataframe tbody tr th:only-of-type {\n",
       "        vertical-align: middle;\n",
       "    }\n",
       "\n",
       "    .dataframe tbody tr th {\n",
       "        vertical-align: top;\n",
       "    }\n",
       "\n",
       "    .dataframe thead th {\n",
       "        text-align: right;\n",
       "    }\n",
       "</style>\n",
       "<table border=\"1\" class=\"dataframe\">\n",
       "  <thead>\n",
       "    <tr style=\"text-align: right;\">\n",
       "      <th></th>\n",
       "      <th>word</th>\n",
       "      <th>bm_lemm</th>\n",
       "      <th>opencorpora_lemm</th>\n",
       "    </tr>\n",
       "  </thead>\n",
       "  <tbody>\n",
       "    <tr>\n",
       "      <th>0</th>\n",
       "      <td>абв</td>\n",
       "      <td>ааб</td>\n",
       "      <td>абв</td>\n",
       "    </tr>\n",
       "    <tr>\n",
       "      <th>1</th>\n",
       "      <td>абдуллаев</td>\n",
       "      <td>гбгтмодезйа</td>\n",
       "      <td>абдуллаев</td>\n",
       "    </tr>\n",
       "    <tr>\n",
       "      <th>2</th>\n",
       "      <td>абн</td>\n",
       "      <td>бгзде</td>\n",
       "      <td>абн</td>\n",
       "    </tr>\n",
       "    <tr>\n",
       "      <th>3</th>\n",
       "      <td>абрамзон</td>\n",
       "      <td>абпамион</td>\n",
       "      <td>абрамзон</td>\n",
       "    </tr>\n",
       "    <tr>\n",
       "      <th>4</th>\n",
       "      <td>абрамова</td>\n",
       "      <td>авобмдадгв</td>\n",
       "      <td>абрамова</td>\n",
       "    </tr>\n",
       "  </tbody>\n",
       "</table>\n",
       "</div>"
      ],
      "text/plain": [
       "        word      bm_lemm opencorpora_lemm\n",
       "0        абв          ааб              абв\n",
       "1  абдуллаев  гбгтмодезйа        абдуллаев\n",
       "2        абн        бгзде              абн\n",
       "3   абрамзон     абпамион         абрамзон\n",
       "4   абрамова   авобмдадгв         абрамова"
      ]
     },
     "execution_count": 118,
     "metadata": {},
     "output_type": "execute_result"
    }
   ],
   "source": [
    "wrong_oc_bm_ds=pd.DataFrame(wrong_opencorpora_bm)\n",
    "wrong_oc_bm_ds.columns=['word','bm_lemm','opencorpora_lemm']\n",
    "wrong_oc_bm_ds.head()"
   ]
  },
  {
   "cell_type": "code",
   "execution_count": 119,
   "metadata": {},
   "outputs": [],
   "source": [
    "wrong_oc_bm_ds.to_csv('bm_oc_errors.csv',';', encoding='utf8',index=False)"
   ]
  },
  {
   "cell_type": "code",
   "execution_count": null,
   "metadata": {},
   "outputs": [],
   "source": []
  },
  {
   "cell_type": "markdown",
   "metadata": {},
   "source": [
    "## Pymorphy"
   ]
  },
  {
   "cell_type": "code",
   "execution_count": 120,
   "metadata": {
    "scrolled": true
   },
   "outputs": [
    {
     "data": {
      "application/vnd.jupyter.widget-view+json": {
       "model_id": "",
       "version_major": 2,
       "version_minor": 0
      },
      "text/plain": [
       "HBox(children=(IntProgress(value=0, max=347409), HTML(value='')))"
      ]
     },
     "metadata": {},
     "output_type": "display_data"
    }
   ],
   "source": [
    "test_oc_pymorphy=[compare(w1,w2) for w1, w2 in zip(opencorpora_dict['word'],tqdm_notebook(opencorpora_dict['lemm']))]"
   ]
  },
  {
   "cell_type": "code",
   "execution_count": 121,
   "metadata": {},
   "outputs": [
    {
     "data": {
      "text/plain": [
       "0.8967153988526492"
      ]
     },
     "execution_count": 121,
     "metadata": {},
     "output_type": "execute_result"
    }
   ],
   "source": [
    "sum(test_oc_pymorphy)/len(test_oc_pymorphy)"
   ]
  },
  {
   "cell_type": "code",
   "execution_count": 122,
   "metadata": {},
   "outputs": [
    {
     "data": {
      "application/vnd.jupyter.widget-view+json": {
       "model_id": "",
       "version_major": 2,
       "version_minor": 0
      },
      "text/plain": [
       "HBox(children=(IntProgress(value=0, max=347409), HTML(value='')))"
      ]
     },
     "metadata": {},
     "output_type": "display_data"
    }
   ],
   "source": [
    "pymorphy_oc_lemmed=[morph.parse(w1)[0].normal_form for w1 in tqdm_notebook(opencorpora_dict['word'])]"
   ]
  },
  {
   "cell_type": "code",
   "execution_count": 123,
   "metadata": {},
   "outputs": [
    {
     "data": {
      "application/vnd.jupyter.widget-view+json": {
       "model_id": "",
       "version_major": 2,
       "version_minor": 0
      },
      "text/plain": [
       "HBox(children=(IntProgress(value=0, max=347409), HTML(value='')))"
      ]
     },
     "metadata": {},
     "output_type": "display_data"
    }
   ],
   "source": [
    "wrong_oc_pymorphy=[[list(opencorpora_dict['word'])[i],pymorphy_oc_lemmed[i],list(opencorpora_dict['lemm'])[i]] for i in tqdm_notebook(range(len(test_oc_pymorphy))) if test_oc_pymorphy[i]==False]"
   ]
  },
  {
   "cell_type": "code",
   "execution_count": 124,
   "metadata": {},
   "outputs": [
    {
     "data": {
      "text/plain": [
       "[['абрамзон', 'абрамзона', 'абрамзон'],\n",
       " ['абрамова', 'абрамов', 'абрамова'],\n",
       " ['абромгексал', 'абромгексать', 'абромгексал'],\n",
       " ['абромгексала', 'абромгексать', 'абромгексал'],\n",
       " ['автолайт', 'автолайта', 'автолайт'],\n",
       " ['аг', 'ага', 'аг'],\n",
       " ['агатов', 'агат', 'агатов'],\n",
       " ['аграчева', 'аграчев', 'аграчева'],\n",
       " ['ад', 'ада', 'ад'],\n",
       " ['аек', 'айка', 'аек'],\n",
       " ['аис', 'аиса', 'аис'],\n",
       " ['акпп', 'акппа', 'акпп'],\n",
       " ['акрлдн', 'акрлдна', 'акрлдн'],\n",
       " ['аксит', 'аксито', 'аксит'],\n",
       " ['актер', 'актёр', 'актер'],\n",
       " ['актера', 'актёр', 'актер'],\n",
       " ['акулова', 'акуловый', 'акулова'],\n",
       " ['ал', 'ала', 'ал'],\n",
       " ['алаев', 'алай', 'алаев'],\n",
       " ['алексеевич', 'алексей', 'алексеевич'],\n",
       " ['алексейкина', 'алексейкин', 'алексейкина'],\n",
       " ['алентова', 'алентовый', 'алентова'],\n",
       " ['алибасов', 'алибасовый', 'алибасов'],\n",
       " ['алсн', 'алсна', 'алсн'],\n",
       " ['ам', 'ама', 'ам'],\n",
       " ['анатольева', 'анатольев', 'анатольева'],\n",
       " ['анофриев', 'анофрий', 'анофриев'],\n",
       " ['апенин', 'апенина', 'апенин'],\n",
       " ['ар-технологии', 'ар-технология', 'ap-технология'],\n",
       " ['арамко', 'арамкий', 'арамко'],\n",
       " ['арифджанов', 'арифджан', 'арифджанов'],\n",
       " ['арм', 'арма', 'арм'],\n",
       " ['ару', 'ар', 'ару'],\n",
       " ['аса', 'ас', 'аса'],\n",
       " ['асеан', 'асеана', 'асеан'],\n",
       " ['аски', 'аск', 'аски'],\n",
       " ['асн', 'асна', 'асн'],\n",
       " ['аст', 'аста', 'аст'],\n",
       " ['аст-пресс', 'аста-пресса', 'аст-пресс'],\n",
       " ['афины', 'афина', 'афины'],\n",
       " ['ахатова', 'ахатов', 'ахатова'],\n",
       " ['ахеджакова', 'ахеджаков', 'ахеджакова'],\n",
       " ['ааа', 'ааа', 'а'],\n",
       " ['аавось', 'аавося', 'авось'],\n",
       " ['аалто', 'аалтый', 'аалто'],\n",
       " ['аб-солютно', 'аб-солютный', 'абсолютно'],\n",
       " ['абаев', 'абай', 'абаев'],\n",
       " ['абакумов', 'абакум', 'абакумов'],\n",
       " ['аббадо', 'аббадый', 'аббадо'],\n",
       " ['абдразаков', 'абдразак', 'абдразаков'],\n",
       " ['абдрашитов', 'абдрашит', 'абдрашитов'],\n",
       " ['абдуганиевич', 'абдугани', 'абдуганиевич'],\n",
       " ['абдула', 'абдула', 'абдул'],\n",
       " ['абдулов', 'абдул', 'абдулов'],\n",
       " ['абеле', 'абел', 'абель'],\n",
       " ['абманаты', 'абманат', 'обмануть'],\n",
       " ['аболимов', 'аболим', 'аболимов'],\n",
       " ['абрамович', 'абрам', 'абрамович'],\n",
       " ['абрамов', 'абрам', 'абрамов'],\n",
       " ['абрамович', 'абрам', 'абрамович'],\n",
       " ['абрамовича', 'абрам', 'абрамович'],\n",
       " ['абрамовиче', 'абрам', 'абрамович'],\n",
       " ['абрамовичем', 'абрам', 'абрамович'],\n",
       " ['абрамовичи', 'абрам', 'абрамович'],\n",
       " ['абрамовичу', 'абрам', 'абрамович'],\n",
       " ['абрамовна', 'абрам', 'абрамовна'],\n",
       " ['абрамовну', 'абрам', 'абрамовна'],\n",
       " ['абраша', 'абраш', 'абраша'],\n",
       " ['абраше', 'абраш', 'абраша'],\n",
       " ['абраши', 'абраш', 'абраша'],\n",
       " ['абрашу', 'абраш', 'абраша'],\n",
       " ['абу', 'аба', 'абу'],\n",
       " ['абу-даби', 'аба-даби', 'абу-даби'],\n",
       " ['абубакирову', 'абубакиров', 'абубакирова'],\n",
       " ['абхам', 'абхам', 'абрам'],\n",
       " ['абхинавагунта', 'абхинавагунт', 'абхинавагунта'],\n",
       " ['ав', 'ава', 'ав'],\n",
       " ['аваксы', 'авакса', 'авакс'],\n",
       " ['августина', 'августин', 'августина'],\n",
       " ['августы', 'август', 'августа'],\n",
       " ['авдеева', 'авдеев', 'авдеева'],\n",
       " ['авдеевич', 'авдей', 'авдеевич'],\n",
       " ['авдеевича', 'авдей', 'авдеевич'],\n",
       " ['авдюшкина', 'авдюшкина', 'авдюшкин'],\n",
       " ['аве', 'ава', 'аве'],\n",
       " ['авелева', 'авелевый', 'авелев'],\n",
       " ['авен', 'авено', 'авен'],\n",
       " ['авена', 'авена', 'авен'],\n",
       " ['авене', 'авена', 'авен'],\n",
       " ['авеном', 'авено', 'авен'],\n",
       " ['авереннова', 'авереннов', 'авереннова'],\n",
       " ['аверьянов', 'аверьян', 'аверьянов'],\n",
       " ['авессалом', 'авессало', 'авессалом'],\n",
       " ['авиарус', 'авиарусый', 'авиарус'],\n",
       " ['ависовича', 'авис', 'ависович'],\n",
       " ['авлеев', 'авлей', 'авлеев'],\n",
       " ['авлеева', 'авлеева', 'авлеев'],\n",
       " ['авлееву', 'авлеева', 'авлеев'],\n",
       " ['аврамова', 'аврамов', 'аврамова'],\n",
       " ['аврелиан', 'аврелиана', 'аврелиан']]"
      ]
     },
     "execution_count": 124,
     "metadata": {},
     "output_type": "execute_result"
    }
   ],
   "source": [
    "wrong_oc_pymorphy[:100]"
   ]
  },
  {
   "cell_type": "code",
   "execution_count": 125,
   "metadata": {},
   "outputs": [
    {
     "data": {
      "text/html": [
       "<div>\n",
       "<style scoped>\n",
       "    .dataframe tbody tr th:only-of-type {\n",
       "        vertical-align: middle;\n",
       "    }\n",
       "\n",
       "    .dataframe tbody tr th {\n",
       "        vertical-align: top;\n",
       "    }\n",
       "\n",
       "    .dataframe thead th {\n",
       "        text-align: right;\n",
       "    }\n",
       "</style>\n",
       "<table border=\"1\" class=\"dataframe\">\n",
       "  <thead>\n",
       "    <tr style=\"text-align: right;\">\n",
       "      <th></th>\n",
       "      <th>word</th>\n",
       "      <th>pymorphy_lemm</th>\n",
       "      <th>opencorpora_lemm</th>\n",
       "    </tr>\n",
       "  </thead>\n",
       "  <tbody>\n",
       "    <tr>\n",
       "      <th>0</th>\n",
       "      <td>абрамзон</td>\n",
       "      <td>абрамзона</td>\n",
       "      <td>абрамзон</td>\n",
       "    </tr>\n",
       "    <tr>\n",
       "      <th>1</th>\n",
       "      <td>абрамова</td>\n",
       "      <td>абрамов</td>\n",
       "      <td>абрамова</td>\n",
       "    </tr>\n",
       "    <tr>\n",
       "      <th>2</th>\n",
       "      <td>абромгексал</td>\n",
       "      <td>абромгексать</td>\n",
       "      <td>абромгексал</td>\n",
       "    </tr>\n",
       "    <tr>\n",
       "      <th>3</th>\n",
       "      <td>абромгексала</td>\n",
       "      <td>абромгексать</td>\n",
       "      <td>абромгексал</td>\n",
       "    </tr>\n",
       "    <tr>\n",
       "      <th>4</th>\n",
       "      <td>автолайт</td>\n",
       "      <td>автолайта</td>\n",
       "      <td>автолайт</td>\n",
       "    </tr>\n",
       "  </tbody>\n",
       "</table>\n",
       "</div>"
      ],
      "text/plain": [
       "           word pymorphy_lemm opencorpora_lemm\n",
       "0      абрамзон     абрамзона         абрамзон\n",
       "1      абрамова       абрамов         абрамова\n",
       "2   абромгексал  абромгексать      абромгексал\n",
       "3  абромгексала  абромгексать      абромгексал\n",
       "4      автолайт     автолайта         автолайт"
      ]
     },
     "execution_count": 125,
     "metadata": {},
     "output_type": "execute_result"
    }
   ],
   "source": [
    "wrong_oc_pymorphy_ds=pd.DataFrame(wrong_oc_pymorphy)\n",
    "wrong_oc_pymorphy_ds.columns=['word','pymorphy_lemm','opencorpora_lemm']\n",
    "wrong_oc_pymorphy_ds.head()"
   ]
  },
  {
   "cell_type": "code",
   "execution_count": 126,
   "metadata": {},
   "outputs": [],
   "source": [
    "wrong_oc_pymorphy_ds.to_csv('pymorphy_oc_errors.csv',';', encoding='utf8',index=False)"
   ]
  },
  {
   "cell_type": "markdown",
   "metadata": {},
   "source": [
    "## MyStem"
   ]
  },
  {
   "cell_type": "code",
   "execution_count": 127,
   "metadata": {},
   "outputs": [],
   "source": [
    "mystem_oc=pd.read_csv('mystemmed_oc.csv',';',encoding='utf8')"
   ]
  },
  {
   "cell_type": "code",
   "execution_count": 128,
   "metadata": {},
   "outputs": [
    {
     "data": {
      "text/html": [
       "<div>\n",
       "<style scoped>\n",
       "    .dataframe tbody tr th:only-of-type {\n",
       "        vertical-align: middle;\n",
       "    }\n",
       "\n",
       "    .dataframe tbody tr th {\n",
       "        vertical-align: top;\n",
       "    }\n",
       "\n",
       "    .dataframe thead th {\n",
       "        text-align: right;\n",
       "    }\n",
       "</style>\n",
       "<table border=\"1\" class=\"dataframe\">\n",
       "  <thead>\n",
       "    <tr style=\"text-align: right;\">\n",
       "      <th></th>\n",
       "      <th>0</th>\n",
       "    </tr>\n",
       "  </thead>\n",
       "  <tbody>\n",
       "    <tr>\n",
       "      <th>0</th>\n",
       "      <td>абв</td>\n",
       "    </tr>\n",
       "    <tr>\n",
       "      <th>1</th>\n",
       "      <td>абдуллаев</td>\n",
       "    </tr>\n",
       "    <tr>\n",
       "      <th>2</th>\n",
       "      <td>абзац</td>\n",
       "    </tr>\n",
       "    <tr>\n",
       "      <th>3</th>\n",
       "      <td>абна</td>\n",
       "    </tr>\n",
       "    <tr>\n",
       "      <th>4</th>\n",
       "      <td>абориген</td>\n",
       "    </tr>\n",
       "  </tbody>\n",
       "</table>\n",
       "</div>"
      ],
      "text/plain": [
       "           0\n",
       "0        абв\n",
       "1  абдуллаев\n",
       "2      абзац\n",
       "3       абна\n",
       "4   абориген"
      ]
     },
     "execution_count": 128,
     "metadata": {},
     "output_type": "execute_result"
    }
   ],
   "source": [
    "mystem_oc.head()"
   ]
  },
  {
   "cell_type": "code",
   "execution_count": 129,
   "metadata": {},
   "outputs": [
    {
     "data": {
      "application/vnd.jupyter.widget-view+json": {
       "model_id": "69b9aff8b10643878e334ac3550e29b8",
       "version_major": 2,
       "version_minor": 0
      },
      "text/plain": [
       "HBox(children=(IntProgress(value=0, max=347409), HTML(value='')))"
      ]
     },
     "metadata": {},
     "output_type": "display_data"
    }
   ],
   "source": [
    "test_oc_mystem=[w1==w2 for w1, w2 in zip(mystem_oc['0'],tqdm_notebook(opencorpora_dict['lemm']))]"
   ]
  },
  {
   "cell_type": "code",
   "execution_count": 130,
   "metadata": {},
   "outputs": [
    {
     "data": {
      "text/plain": [
       "0.8207933588364147"
      ]
     },
     "execution_count": 130,
     "metadata": {},
     "output_type": "execute_result"
    }
   ],
   "source": [
    "sum(test_oc_mystem)/len(test_oc_mystem)"
   ]
  },
  {
   "cell_type": "code",
   "execution_count": 135,
   "metadata": {},
   "outputs": [
    {
     "data": {
      "application/vnd.jupyter.widget-view+json": {
       "model_id": "290985311b374e6d923d889307d110b9",
       "version_major": 2,
       "version_minor": 0
      },
      "text/plain": [
       "HBox(children=(IntProgress(value=0, max=347409), HTML(value='')))"
      ]
     },
     "metadata": {},
     "output_type": "display_data"
    }
   ],
   "source": [
    "wrong_oc_mystem=[[list(opencorpora_dict['word'])[i],list(mystem_oc['0'])[i],list(opencorpora_dict['lemm'])[i]] for i in tqdm_notebook(range(len(test_oc_mystem))) if test_oc_mystem[i]==False]"
   ]
  },
  {
   "cell_type": "code",
   "execution_count": 134,
   "metadata": {},
   "outputs": [
    {
     "data": {
      "text/plain": [
       "[['абн', 'абна', 'абн'],\n",
       " ['ав-центр', 'ава', 'ав-центр'],\n",
       " ['аг', 'ага', 'аг'],\n",
       " ['адн', 'адна', 'адн'],\n",
       " ['аду', 'ад', 'аду'],\n",
       " ['аек', 'айка', 'аек'],\n",
       " ['азв', 'азва', 'азв'],\n",
       " ['акн', 'акна', 'акн'],\n",
       " ['акш', 'акша', 'акш'],\n",
       " ['ал', 'алый', 'ал'],\n",
       " ['алаев', 'алай', 'алаев'],\n",
       " ['алдын-оол', 'алдын', 'алдын-оол'],\n",
       " ['александра', 'александра', 'александр'],\n",
       " ['алентова', 'алентов', 'алентова'],\n",
       " ['алсн', 'алсна', 'алсн'],\n",
       " ['ам', 'ама', 'ам'],\n",
       " ['анофриев', 'анофрий', 'анофриев'],\n",
       " ['апр-пресса', 'апр', 'апр-пресса'],\n",
       " ['ар-технологии', 'ар', 'ap-технология'],\n",
       " ['арбат-авто', 'арбат', 'арбат-авто'],\n",
       " ['арестована', 'арестовывать', 'арестовать'],\n",
       " ['арифджанов', 'арифджан', 'арифджанов'],\n",
       " ['арм-гис', 'арм', 'арм-гис'],\n",
       " ['аса', 'ас', 'аса'],\n",
       " ['асд', 'асда', 'асд'],\n",
       " ['аски', 'аск', 'аски'],\n",
       " ['аскр', 'аскра', 'аскр'],\n",
       " ['асн', 'асна', 'асн'],\n",
       " ['аст-пресс', 'аст', 'аст-пресс'],\n",
       " ['атв', 'атва', 'атв'],\n",
       " ['ауранг', 'ауранга', 'ауранг'],\n",
       " ['афины', 'афин', 'афины'],\n",
       " ['ахеджакова', 'ахеджаков', 'ахеджакова'],\n",
       " ['ацц', 'ацца', 'ацц'],\n",
       " ['аа-а', 'аа', 'аа-а'],\n",
       " ['ааа', 'ааа', 'а'],\n",
       " ['аавось', 'аавось', 'авось'],\n",
       " ['аб-солютно', 'аба', 'абсолютно'],\n",
       " ['абаеву', 'абаева', 'абаев'],\n",
       " ['абдразаков', 'абдразак', 'абдразаков'],\n",
       " ['абдулова', 'абдулова', 'абдулов'],\n",
       " ['абеле', 'абел', 'абель'],\n",
       " ['абитболь', 'абитболить', 'абитболь'],\n",
       " ['абманаты', 'абманат', 'обмануть'],\n",
       " ['абрамова', 'абрамова', 'абрамов'],\n",
       " ['абу-бакар', 'абу', 'абу-бакар'],\n",
       " ['абу-даби', 'абу', 'абу-даби'],\n",
       " ['абу-шариф', 'абу', 'абу-шариф'],\n",
       " ['абу-ль-вефа', 'абу', 'абу-ль-вефа'],\n",
       " ['абубакирову', 'абубакиров', 'абубакирова'],\n",
       " ['абхам', 'абха', 'абрам'],\n",
       " ['абхинавагунта', 'абхинавагунт', 'абхинавагунта'],\n",
       " ['ав', 'ава', 'ав'],\n",
       " ['аваксы', 'авакса', 'авакс'],\n",
       " ['аванесова', 'аванесова', 'аванесов'],\n",
       " ['августы', 'август', 'августа'],\n",
       " ['авдюкова', 'авдюкова', 'авдюков'],\n",
       " ['аве', 'ава', 'аве'],\n",
       " ['авелева', 'авелева', 'авелев'],\n",
       " ['авен-сан', 'авен', 'авен-сан'],\n",
       " ['аверьянова', 'аверьянова', 'аверьянов'],\n",
       " ['авлеев', 'авлей', 'авлеев'],\n",
       " ['авраамова', 'авраамова', 'авраамов'],\n",
       " ['авраамовой', 'авраамова', 'авраамов'],\n",
       " ['аврелияна', 'аврелиян', 'аврелиан'],\n",
       " ['аврора-интур', 'аврора', 'аврора-интур'],\n",
       " ['аврора-регион', 'аврора', 'аврора-регион'],\n",
       " ['аврух', 'авруха', 'аврух'],\n",
       " ['австрало-советские', 'австрало', 'австрало-советский'],\n",
       " ['авт', 'авт', 'автор'],\n",
       " ['автозаводская', 'автозаводской', 'автозаводский'],\n",
       " ['автозаводской', 'автозаводской', 'автозаводский'],\n",
       " ['автократова', 'автократова', 'автократов'],\n",
       " ['автореф', 'автореф', 'автореферат'],\n",
       " ['авторитетнейший', 'авторитетный', 'авторитетнейший'],\n",
       " ['авэль', 'авэль', 'авель'],\n",
       " ['аг', 'ага', 'аг'],\n",
       " ['ага-га', 'ага', 'ага-га'],\n",
       " ['агалаковой', 'агалаковый', 'агалакова'],\n",
       " ['агамалиев', 'агамалий', 'агамалиев'],\n",
       " ['агари', 'агари', 'агарь'],\n",
       " ['агатова', 'агатова', 'агатов'],\n",
       " ['агату', 'агат', 'агата'],\n",
       " ['агафоничева', 'агафоничев', 'агафоничева'],\n",
       " ['агола', 'агол', 'агола'],\n",
       " ['агура', 'агур', 'агура'],\n",
       " ['ада', 'ада', 'ад'],\n",
       " ['адаме', 'адам', 'адаме'],\n",
       " ['адамова', 'адамова', 'адамов'],\n",
       " ['адамчиков', 'адамчик', 'адамчиков'],\n",
       " ['аде', 'ад', 'ада'],\n",
       " ['аджинджал', 'аджинджала', 'аджинджал'],\n",
       " ['адиев', 'адий', 'адиев'],\n",
       " ['адой', 'ада', 'адой'],\n",
       " ['адоньева', 'адоньев', 'адоньева'],\n",
       " ['адриана', 'адриана', 'адриан'],\n",
       " ['адриатики', 'адриатик', 'адриатика'],\n",
       " ['адью', 'адья', 'адью'],\n",
       " ['азакуан', 'азакуана', 'азакуан'],\n",
       " ['азимова', 'азимова', 'азимов']]"
      ]
     },
     "execution_count": 134,
     "metadata": {},
     "output_type": "execute_result"
    }
   ],
   "source": [
    "wrong_oc_mystem[:100]"
   ]
  },
  {
   "cell_type": "code",
   "execution_count": null,
   "metadata": {},
   "outputs": [],
   "source": [
    "wrong_oc_mystem_ds=pd.DataFrame(wrong_oc_mystem)\n",
    "wrong_oc_mystem_ds.columns=['word','mystem_lemm','opencorpora_lemm']\n",
    "wrong_oc_mystem_ds.head()"
   ]
  },
  {
   "cell_type": "code",
   "execution_count": null,
   "metadata": {},
   "outputs": [],
   "source": [
    "wrong_oc_mystem_ds.to_csv('mystem_oc_errors.csv',';', encoding='utf8',index=False)"
   ]
  },
  {
   "cell_type": "markdown",
   "metadata": {},
   "source": [
    "# LIME"
   ]
  },
  {
   "cell_type": "code",
   "execution_count": 193,
   "metadata": {},
   "outputs": [],
   "source": [
    "import lime\n",
    "import lime.lime_tabular\n",
    "from __future__ import print_function"
   ]
  },
  {
   "cell_type": "code",
   "execution_count": 206,
   "metadata": {},
   "outputs": [],
   "source": [
    "feature_names=[str(i+1) for i in range(30)]"
   ]
  },
  {
   "cell_type": "code",
   "execution_count": 208,
   "metadata": {},
   "outputs": [
    {
     "data": {
      "text/plain": [
       "['1',\n",
       " '2',\n",
       " '3',\n",
       " '4',\n",
       " '5',\n",
       " '6',\n",
       " '7',\n",
       " '8',\n",
       " '9',\n",
       " '10',\n",
       " '11',\n",
       " '12',\n",
       " '13',\n",
       " '14',\n",
       " '15',\n",
       " '16',\n",
       " '17',\n",
       " '18',\n",
       " '19',\n",
       " '20',\n",
       " '21',\n",
       " '22',\n",
       " '23',\n",
       " '24',\n",
       " '25',\n",
       " '26',\n",
       " '27',\n",
       " '28',\n",
       " '29',\n",
       " '30']"
      ]
     },
     "execution_count": 208,
     "metadata": {},
     "output_type": "execute_result"
    }
   ],
   "source": [
    "feature_names"
   ]
  },
  {
   "cell_type": "code",
   "execution_count": 233,
   "metadata": {},
   "outputs": [],
   "source": [
    "#categorical_features = np.argwhere(np.array([len(set(np.array(X_lex_vec)[:,x])) for x in range(np.array(X_lex_vec).shape[1])]) <= 10).flatten()\n",
    "categorical_features = np.array([i for i in range(30)])"
   ]
  },
  {
   "cell_type": "code",
   "execution_count": 234,
   "metadata": {},
   "outputs": [
    {
     "data": {
      "text/plain": [
       "array([ 0,  1,  2,  3,  4,  5,  6,  7,  8,  9, 10, 11, 12, 13, 14, 15, 16,\n",
       "       17, 18, 19, 20, 21, 22, 23, 24, 25, 26, 27, 28, 29])"
      ]
     },
     "execution_count": 234,
     "metadata": {},
     "output_type": "execute_result"
    }
   ],
   "source": [
    "categorical_features"
   ]
  },
  {
   "cell_type": "code",
   "execution_count": 235,
   "metadata": {},
   "outputs": [],
   "source": [
    "explainer = lime.lime_tabular.LimeTabularExplainer(np.array(X_lex_vec), feature_names=feature_names, class_names=['lemm'], categorical_features=categorical_features, verbose=True, mode='regression')"
   ]
  },
  {
   "cell_type": "code",
   "execution_count": 236,
   "metadata": {},
   "outputs": [],
   "source": [
    "def flatten_predict(input):\n",
    "    return best_model_RF.predict(input).flatten()"
   ]
  },
  {
   "cell_type": "code",
   "execution_count": 237,
   "metadata": {},
   "outputs": [
    {
     "ename": "ValueError",
     "evalue": "Found input variables with inconsistent numbers of samples: [5000, 150000]",
     "output_type": "error",
     "traceback": [
      "\u001b[1;31m---------------------------------------------------------------------------\u001b[0m",
      "\u001b[1;31mValueError\u001b[0m                                Traceback (most recent call last)",
      "\u001b[1;32m<ipython-input-237-74239d969dba>\u001b[0m in \u001b[0;36m<module>\u001b[1;34m()\u001b[0m\n\u001b[0;32m      1\u001b[0m \u001b[0mi\u001b[0m \u001b[1;33m=\u001b[0m \u001b[1;36m100\u001b[0m\u001b[1;33m\u001b[0m\u001b[0m\n\u001b[1;32m----> 2\u001b[1;33m \u001b[0mexp\u001b[0m \u001b[1;33m=\u001b[0m \u001b[0mexplainer\u001b[0m\u001b[1;33m.\u001b[0m\u001b[0mexplain_instance\u001b[0m\u001b[1;33m(\u001b[0m\u001b[0mnp\u001b[0m\u001b[1;33m.\u001b[0m\u001b[0marray\u001b[0m\u001b[1;33m(\u001b[0m\u001b[0mX_lex_vec\u001b[0m\u001b[1;33m[\u001b[0m\u001b[0mi\u001b[0m\u001b[1;33m]\u001b[0m\u001b[1;33m)\u001b[0m\u001b[1;33m,\u001b[0m \u001b[0mflatten_predict\u001b[0m\u001b[1;33m,\u001b[0m \u001b[0mnum_features\u001b[0m\u001b[1;33m=\u001b[0m\u001b[1;36m5\u001b[0m\u001b[1;33m)\u001b[0m\u001b[1;33m\u001b[0m\u001b[0m\n\u001b[0m\u001b[0;32m      3\u001b[0m \u001b[0mexp\u001b[0m\u001b[1;33m.\u001b[0m\u001b[0mshow_in_notebook\u001b[0m\u001b[1;33m(\u001b[0m\u001b[0mshow_table\u001b[0m\u001b[1;33m=\u001b[0m\u001b[1;32mTrue\u001b[0m\u001b[1;33m)\u001b[0m\u001b[1;33m\u001b[0m\u001b[0m\n",
      "\u001b[1;32mC:\\ProgramData\\Anaconda3\\lib\\site-packages\\lime\\lime_tabular.py\u001b[0m in \u001b[0;36mexplain_instance\u001b[1;34m(self, data_row, predict_fn, labels, top_labels, num_features, num_samples, distance_metric, model_regressor)\u001b[0m\n\u001b[0;32m    370\u001b[0m                     \u001b[0mnum_features\u001b[0m\u001b[1;33m,\u001b[0m\u001b[1;33m\u001b[0m\u001b[0m\n\u001b[0;32m    371\u001b[0m                     \u001b[0mmodel_regressor\u001b[0m\u001b[1;33m=\u001b[0m\u001b[0mmodel_regressor\u001b[0m\u001b[1;33m,\u001b[0m\u001b[1;33m\u001b[0m\u001b[0m\n\u001b[1;32m--> 372\u001b[1;33m                     feature_selection=self.feature_selection)\n\u001b[0m\u001b[0;32m    373\u001b[0m \u001b[1;33m\u001b[0m\u001b[0m\n\u001b[0;32m    374\u001b[0m         \u001b[1;32mif\u001b[0m \u001b[0mself\u001b[0m\u001b[1;33m.\u001b[0m\u001b[0mmode\u001b[0m \u001b[1;33m==\u001b[0m \u001b[1;34m\"regression\"\u001b[0m\u001b[1;33m:\u001b[0m\u001b[1;33m\u001b[0m\u001b[0m\n",
      "\u001b[1;32mC:\\ProgramData\\Anaconda3\\lib\\site-packages\\lime\\lime_base.py\u001b[0m in \u001b[0;36mexplain_instance_with_data\u001b[1;34m(self, neighborhood_data, neighborhood_labels, distances, label, num_features, feature_selection, model_regressor)\u001b[0m\n\u001b[0;32m    155\u001b[0m                                                \u001b[0mweights\u001b[0m\u001b[1;33m,\u001b[0m\u001b[1;33m\u001b[0m\u001b[0m\n\u001b[0;32m    156\u001b[0m                                                \u001b[0mnum_features\u001b[0m\u001b[1;33m,\u001b[0m\u001b[1;33m\u001b[0m\u001b[0m\n\u001b[1;32m--> 157\u001b[1;33m                                                feature_selection)\n\u001b[0m\u001b[0;32m    158\u001b[0m \u001b[1;33m\u001b[0m\u001b[0m\n\u001b[0;32m    159\u001b[0m         \u001b[1;32mif\u001b[0m \u001b[0mmodel_regressor\u001b[0m \u001b[1;32mis\u001b[0m \u001b[1;32mNone\u001b[0m\u001b[1;33m:\u001b[0m\u001b[1;33m\u001b[0m\u001b[0m\n",
      "\u001b[1;32mC:\\ProgramData\\Anaconda3\\lib\\site-packages\\lime\\lime_base.py\u001b[0m in \u001b[0;36mfeature_selection\u001b[1;34m(self, data, labels, weights, num_features, method)\u001b[0m\n\u001b[0;32m    104\u001b[0m                 \u001b[0mn_method\u001b[0m \u001b[1;33m=\u001b[0m \u001b[1;34m'highest_weights'\u001b[0m\u001b[1;33m\u001b[0m\u001b[0m\n\u001b[0;32m    105\u001b[0m             return self.feature_selection(data, labels, weights,\n\u001b[1;32m--> 106\u001b[1;33m                                           num_features, n_method)\n\u001b[0m\u001b[0;32m    107\u001b[0m \u001b[1;33m\u001b[0m\u001b[0m\n\u001b[0;32m    108\u001b[0m     def explain_instance_with_data(self,\n",
      "\u001b[1;32mC:\\ProgramData\\Anaconda3\\lib\\site-packages\\lime\\lime_base.py\u001b[0m in \u001b[0;36mfeature_selection\u001b[1;34m(self, data, labels, weights, num_features, method)\u001b[0m\n\u001b[0;32m     74\u001b[0m             \u001b[1;32mreturn\u001b[0m \u001b[0mnp\u001b[0m\u001b[1;33m.\u001b[0m\u001b[0marray\u001b[0m\u001b[1;33m(\u001b[0m\u001b[0mrange\u001b[0m\u001b[1;33m(\u001b[0m\u001b[0mdata\u001b[0m\u001b[1;33m.\u001b[0m\u001b[0mshape\u001b[0m\u001b[1;33m[\u001b[0m\u001b[1;36m1\u001b[0m\u001b[1;33m]\u001b[0m\u001b[1;33m)\u001b[0m\u001b[1;33m)\u001b[0m\u001b[1;33m\u001b[0m\u001b[0m\n\u001b[0;32m     75\u001b[0m         \u001b[1;32melif\u001b[0m \u001b[0mmethod\u001b[0m \u001b[1;33m==\u001b[0m \u001b[1;34m'forward_selection'\u001b[0m\u001b[1;33m:\u001b[0m\u001b[1;33m\u001b[0m\u001b[0m\n\u001b[1;32m---> 76\u001b[1;33m             \u001b[1;32mreturn\u001b[0m \u001b[0mself\u001b[0m\u001b[1;33m.\u001b[0m\u001b[0mforward_selection\u001b[0m\u001b[1;33m(\u001b[0m\u001b[0mdata\u001b[0m\u001b[1;33m,\u001b[0m \u001b[0mlabels\u001b[0m\u001b[1;33m,\u001b[0m \u001b[0mweights\u001b[0m\u001b[1;33m,\u001b[0m \u001b[0mnum_features\u001b[0m\u001b[1;33m)\u001b[0m\u001b[1;33m\u001b[0m\u001b[0m\n\u001b[0m\u001b[0;32m     77\u001b[0m         \u001b[1;32melif\u001b[0m \u001b[0mmethod\u001b[0m \u001b[1;33m==\u001b[0m \u001b[1;34m'highest_weights'\u001b[0m\u001b[1;33m:\u001b[0m\u001b[1;33m\u001b[0m\u001b[0m\n\u001b[0;32m     78\u001b[0m             clf = Ridge(alpha=0, fit_intercept=True,\n",
      "\u001b[1;32mC:\\ProgramData\\Anaconda3\\lib\\site-packages\\lime\\lime_base.py\u001b[0m in \u001b[0;36mforward_selection\u001b[1;34m(self, data, labels, weights, num_features)\u001b[0m\n\u001b[0;32m     58\u001b[0m                     \u001b[1;32mcontinue\u001b[0m\u001b[1;33m\u001b[0m\u001b[0m\n\u001b[0;32m     59\u001b[0m                 clf.fit(data[:, used_features + [feature]], labels,\n\u001b[1;32m---> 60\u001b[1;33m                         sample_weight=weights)\n\u001b[0m\u001b[0;32m     61\u001b[0m                 score = clf.score(data[:, used_features + [feature]],\n\u001b[0;32m     62\u001b[0m                                   \u001b[0mlabels\u001b[0m\u001b[1;33m,\u001b[0m\u001b[1;33m\u001b[0m\u001b[0m\n",
      "\u001b[1;32mC:\\ProgramData\\Anaconda3\\lib\\site-packages\\sklearn\\linear_model\\ridge.py\u001b[0m in \u001b[0;36mfit\u001b[1;34m(self, X, y, sample_weight)\u001b[0m\n\u001b[0;32m    663\u001b[0m         \u001b[0mself\u001b[0m \u001b[1;33m:\u001b[0m \u001b[0mreturns\u001b[0m \u001b[0man\u001b[0m \u001b[0minstance\u001b[0m \u001b[0mof\u001b[0m \u001b[0mself\u001b[0m\u001b[1;33m.\u001b[0m\u001b[1;33m\u001b[0m\u001b[0m\n\u001b[0;32m    664\u001b[0m         \"\"\"\n\u001b[1;32m--> 665\u001b[1;33m         \u001b[1;32mreturn\u001b[0m \u001b[0msuper\u001b[0m\u001b[1;33m(\u001b[0m\u001b[0mRidge\u001b[0m\u001b[1;33m,\u001b[0m \u001b[0mself\u001b[0m\u001b[1;33m)\u001b[0m\u001b[1;33m.\u001b[0m\u001b[0mfit\u001b[0m\u001b[1;33m(\u001b[0m\u001b[0mX\u001b[0m\u001b[1;33m,\u001b[0m \u001b[0my\u001b[0m\u001b[1;33m,\u001b[0m \u001b[0msample_weight\u001b[0m\u001b[1;33m=\u001b[0m\u001b[0msample_weight\u001b[0m\u001b[1;33m)\u001b[0m\u001b[1;33m\u001b[0m\u001b[0m\n\u001b[0m\u001b[0;32m    666\u001b[0m \u001b[1;33m\u001b[0m\u001b[0m\n\u001b[0;32m    667\u001b[0m \u001b[1;33m\u001b[0m\u001b[0m\n",
      "\u001b[1;32mC:\\ProgramData\\Anaconda3\\lib\\site-packages\\sklearn\\linear_model\\ridge.py\u001b[0m in \u001b[0;36mfit\u001b[1;34m(self, X, y, sample_weight)\u001b[0m\n\u001b[0;32m    481\u001b[0m \u001b[1;33m\u001b[0m\u001b[0m\n\u001b[0;32m    482\u001b[0m         X, y = check_X_y(X, y, ['csr', 'csc', 'coo'], dtype=_dtype,\n\u001b[1;32m--> 483\u001b[1;33m                          multi_output=True, y_numeric=True)\n\u001b[0m\u001b[0;32m    484\u001b[0m \u001b[1;33m\u001b[0m\u001b[0m\n\u001b[0;32m    485\u001b[0m         if ((sample_weight is not None) and\n",
      "\u001b[1;32mC:\\ProgramData\\Anaconda3\\lib\\site-packages\\sklearn\\utils\\validation.py\u001b[0m in \u001b[0;36mcheck_X_y\u001b[1;34m(X, y, accept_sparse, dtype, order, copy, force_all_finite, ensure_2d, allow_nd, multi_output, ensure_min_samples, ensure_min_features, y_numeric, warn_on_dtype, estimator)\u001b[0m\n\u001b[0;32m    581\u001b[0m         \u001b[0my\u001b[0m \u001b[1;33m=\u001b[0m \u001b[0my\u001b[0m\u001b[1;33m.\u001b[0m\u001b[0mastype\u001b[0m\u001b[1;33m(\u001b[0m\u001b[0mnp\u001b[0m\u001b[1;33m.\u001b[0m\u001b[0mfloat64\u001b[0m\u001b[1;33m)\u001b[0m\u001b[1;33m\u001b[0m\u001b[0m\n\u001b[0;32m    582\u001b[0m \u001b[1;33m\u001b[0m\u001b[0m\n\u001b[1;32m--> 583\u001b[1;33m     \u001b[0mcheck_consistent_length\u001b[0m\u001b[1;33m(\u001b[0m\u001b[0mX\u001b[0m\u001b[1;33m,\u001b[0m \u001b[0my\u001b[0m\u001b[1;33m)\u001b[0m\u001b[1;33m\u001b[0m\u001b[0m\n\u001b[0m\u001b[0;32m    584\u001b[0m \u001b[1;33m\u001b[0m\u001b[0m\n\u001b[0;32m    585\u001b[0m     \u001b[1;32mreturn\u001b[0m \u001b[0mX\u001b[0m\u001b[1;33m,\u001b[0m \u001b[0my\u001b[0m\u001b[1;33m\u001b[0m\u001b[0m\n",
      "\u001b[1;32mC:\\ProgramData\\Anaconda3\\lib\\site-packages\\sklearn\\utils\\validation.py\u001b[0m in \u001b[0;36mcheck_consistent_length\u001b[1;34m(*arrays)\u001b[0m\n\u001b[0;32m    202\u001b[0m     \u001b[1;32mif\u001b[0m \u001b[0mlen\u001b[0m\u001b[1;33m(\u001b[0m\u001b[0muniques\u001b[0m\u001b[1;33m)\u001b[0m \u001b[1;33m>\u001b[0m \u001b[1;36m1\u001b[0m\u001b[1;33m:\u001b[0m\u001b[1;33m\u001b[0m\u001b[0m\n\u001b[0;32m    203\u001b[0m         raise ValueError(\"Found input variables with inconsistent numbers of\"\n\u001b[1;32m--> 204\u001b[1;33m                          \" samples: %r\" % [int(l) for l in lengths])\n\u001b[0m\u001b[0;32m    205\u001b[0m \u001b[1;33m\u001b[0m\u001b[0m\n\u001b[0;32m    206\u001b[0m \u001b[1;33m\u001b[0m\u001b[0m\n",
      "\u001b[1;31mValueError\u001b[0m: Found input variables with inconsistent numbers of samples: [5000, 150000]"
     ]
    }
   ],
   "source": [
    "i = 100\n",
    "exp = explainer.explain_instance(np.array(X_lex_vec[i]), flatten_predict, num_features=5)\n",
    "exp.show_in_notebook(show_table=True)"
   ]
  },
  {
   "cell_type": "code",
   "execution_count": 232,
   "metadata": {},
   "outputs": [
    {
     "data": {
      "text/plain": [
       "(30,)"
      ]
     },
     "execution_count": 232,
     "metadata": {},
     "output_type": "execute_result"
    }
   ],
   "source": [
    "flatten_predict([abbyy_vec[i]]).shape"
   ]
  },
  {
   "cell_type": "code",
   "execution_count": 224,
   "metadata": {},
   "outputs": [
    {
     "data": {
      "text/plain": [
       "(30,)"
      ]
     },
     "execution_count": 224,
     "metadata": {},
     "output_type": "execute_result"
    }
   ],
   "source": [
    "np.array(abbyy_vec[i]).shape"
   ]
  },
  {
   "cell_type": "code",
   "execution_count": 231,
   "metadata": {},
   "outputs": [
    {
     "data": {
      "text/plain": [
       "array([ 1.,  2.,  1.,  9., 10., 15.,  1., 14., 10.,  0.,  0.,  0.,  0.,\n",
       "        0.,  0.,  0.,  0.,  0.,  0.,  0.,  0.,  0.,  0.,  0.,  0.,  0.,\n",
       "        0.,  0.,  0.,  0.])"
      ]
     },
     "execution_count": 231,
     "metadata": {},
     "output_type": "execute_result"
    }
   ],
   "source": [
    "np.array(X_lex_vec[i])"
   ]
  }
 ],
 "metadata": {
  "kernelspec": {
   "display_name": "Python 3",
   "language": "python",
   "name": "python3"
  },
  "language_info": {
   "codemirror_mode": {
    "name": "ipython",
    "version": 3
   },
   "file_extension": ".py",
   "mimetype": "text/x-python",
   "name": "python",
   "nbconvert_exporter": "python",
   "pygments_lexer": "ipython3",
   "version": "3.6.7"
  },
  "toc": {
   "base_numbering": 1,
   "nav_menu": {},
   "number_sections": true,
   "sideBar": true,
   "skip_h1_title": false,
   "title_cell": "Table of Contents",
   "title_sidebar": "Contents",
   "toc_cell": true,
   "toc_position": {
    "height": "calc(100% - 180px)",
    "left": "10px",
    "top": "150px",
    "width": "480px"
   },
   "toc_section_display": true,
   "toc_window_display": true
  },
  "varInspector": {
   "cols": {
    "lenName": 16,
    "lenType": 16,
    "lenVar": 40
   },
   "kernels_config": {
    "python": {
     "delete_cmd_postfix": "",
     "delete_cmd_prefix": "del ",
     "library": "var_list.py",
     "varRefreshCmd": "print(var_dic_list())"
    },
    "r": {
     "delete_cmd_postfix": ") ",
     "delete_cmd_prefix": "rm(",
     "library": "var_list.r",
     "varRefreshCmd": "cat(var_dic_list()) "
    }
   },
   "types_to_exclude": [
    "module",
    "function",
    "builtin_function_or_method",
    "instance",
    "_Feature"
   ],
   "window_display": false
  }
 },
 "nbformat": 4,
 "nbformat_minor": 2
}
